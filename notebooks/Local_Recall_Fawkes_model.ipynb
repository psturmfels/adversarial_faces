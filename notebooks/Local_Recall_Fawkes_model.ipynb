{
 "cells": [
  {
   "cell_type": "code",
   "execution_count": 16,
   "metadata": {},
   "outputs": [],
   "source": [
    "import asyncio\n",
    "import io\n",
    "import glob\n",
    "import os\n",
    "import sys\n",
    "import time\n",
    "import uuid\n",
    "import requests\n",
    "from urllib.parse import urlparse\n",
    "from io import BytesIO\n",
    "from PIL import Image, ImageDraw\n",
    "from tqdm import tqdm\n",
    "import json\n",
    "from sklearn.metrics import pairwise_distances, roc_auc_score\n",
    "sys.path.append(\"../\")\n",
    "from utils import prewhiten, l2_normalize\n",
    "from tqdm import tqdm\n",
    "import json\n",
    "import tensorflow as tf\n",
    "import numpy as np\n",
    "from keras.preprocessing import image\n",
    "from matplotlib import pyplot as plt\n",
    "%matplotlib inline\n",
    "import seaborn\n",
    "seaborn.set()"
   ]
  },
  {
   "cell_type": "code",
   "execution_count": 17,
   "metadata": {},
   "outputs": [],
   "source": [
    "model_path = '/home/ivan/.fawkes/high_extract.h5'\n",
    "model = tf.keras.models.load_model(model_path)"
   ]
  },
  {
   "cell_type": "code",
   "execution_count": 50,
   "metadata": {},
   "outputs": [],
   "source": [
    "class PersonImages:\n",
    "    def __init__(self, person_name):\n",
    "        self.clean_folder = \"\"\n",
    "        self.clean_images = []\n",
    "        self.adversarial_images = []\n",
    "        self.reloaded_adversarial_images = []\n",
    "        self.orig_mean = None\n",
    "        self.orig_std = None\n",
    "        self.person_name = person_name\n",
    "        self.adversarial_save_folder = None\n",
    "    \n",
    "    def _load_one_fawkes(self, path):\n",
    "        img = Image.open(path).convert(\"RGB\").resize((224, 224))\n",
    "#         img_arr = image.img_to_array(img)\n",
    "        img_arr = np.array(img).astype(np.float32)\n",
    "    \n",
    "        mean = [103.939, 116.779, 123.68]\n",
    "        tanh_constant = 2 - 1e-6\n",
    "        \n",
    "#         img_arr = img_arr[..., ::-1]- mean\n",
    "        \n",
    "        img_arr /= 255.0\n",
    "        img_arr -= 0.5\n",
    "        img_arr *= tanh_constant\n",
    "        tanh_imgs = np.arctanh(img_arr)\n",
    "        \n",
    "        return tanh_imgs\n",
    "        \n",
    "        \n",
    "    def _load_folder_for_fawkes(self, folder):\n",
    "        paths_list = glob.glob(os.path.join(folder, \"*\"))\n",
    "        \n",
    "        final_imgs = []\n",
    "        for img_path in paths_list:\n",
    "                \n",
    "            final_imgs.append(self._load_one_fawkes(img_path))\n",
    "        \n",
    "        final_imgs = np.array(final_imgs)\n",
    "        mean, std = np.mean(final_imgs), np.std(final_imgs)\n",
    "        return final_imgs, mean, std        \n",
    "        \n",
    "    def load_clean_from_folder(self, clean_folder):\n",
    "        self.clean_folder = clean_folder\n",
    "        self.clean_images, self.orig_mean, self.orig_std = self._load_folder_for_fawkes(clean_folder)\n",
    "    \n",
    "    def _load_plain(self, folder):\n",
    "        imgs, mean, std = self._load_folder_for_fawkes(folder, crop=False, resize_size=None)\n",
    "        return imgs\n",
    "        \n",
    "    def reload_adversarial(self):\n",
    "        self.reloaded_adversarial_images = self._load_plain(self.adversarial_save_folder)\n",
    "        \n",
    "    def _undo_preprocess(self, images):\n",
    "        restored_images = images.copy()\n",
    "#         restored_images  *= self.orig_std\n",
    "#         restored_images += self.orig_mean\n",
    "        restored_images = np.clip(restored_images, 0.0, 255.0)\n",
    "        return np.uint8(restored_images)\n",
    "    \n",
    "    def get_clean_for_display(self):\n",
    "        return self._undo_preprocess(self.clean_images)\n",
    "    \n",
    "    def get_adversarial_for_display(self):\n",
    "        return self._undo_preprocess(self.adversarial_images)\n",
    "    \n",
    "    def save_adversarial(self, save_path, save_format):\n",
    "        self.adversarial_save_folder = save_path\n",
    "        self.adversarial_save_format = save_format\n",
    "        adversarial_for_save = self.get_adversarial_for_display()\n",
    "        \n",
    "        for indx, img in enumerate(adversarial_for_save):\n",
    "            Image.fromarray(img).save(\n",
    "                os.path.join(save_path, f\"{self.person_name}_{indx:02d}.{self.adversarial_save_format}\")\n",
    "            )\n",
    "            \n",
    "    def _compute_embeddings(self, model, images):\n",
    "        return model.predict(np.array(images), batch_size=len(images))\n",
    "    \n",
    "    def compute_clean_embeddings_with_model(self, model):\n",
    "        self.clean_embeddings = self._compute_embeddings(model, self.clean_images)\n",
    "        \n",
    "    def compute_adversarial_embeddings_with_model(self, model):\n",
    "        self.adversarial_embeddings = self._compute_embeddings(model, self.adversarial_images)\n",
    "        \n",
    "    def compute_reloaded_adversarial_embeddings_with_model(self, model):\n",
    "        self.reloaded_adversarial_embeddings = self._compute_embeddings(model, self.reloaded_adversarial_images)"
   ]
  },
  {
   "cell_type": "code",
   "execution_count": 51,
   "metadata": {},
   "outputs": [],
   "source": [
    "def clean_folder_path(name):\n",
    "    if name != \"n000958\":\n",
    "        return f\"/data/vggface/test_perturbed_sampled/{name}/community_naive_mean/n000958/epsilon_0.0/png\"\n",
    "    else:\n",
    "        return f\"/data/vggface/test_perturbed_sampled/{name}/community_naive_mean/n000029/epsilon_0.0/png\""
   ]
  },
  {
   "cell_type": "code",
   "execution_count": 52,
   "metadata": {},
   "outputs": [],
   "source": [
    "person_a = PersonImages(\"n000029\")\n",
    "person_a.load_clean_from_folder(clean_folder_path(person_a.person_name))\n",
    "person_a.compute_clean_embeddings_with_model(model)"
   ]
  },
  {
   "cell_type": "code",
   "execution_count": 53,
   "metadata": {},
   "outputs": [],
   "source": [
    "person_b = PersonImages(\"n000958\")\n",
    "person_b.load_clean_from_folder(clean_folder_path(person_b.person_name))\n",
    "person_b.compute_clean_embeddings_with_model(model)"
   ]
  },
  {
   "cell_type": "code",
   "execution_count": 54,
   "metadata": {},
   "outputs": [],
   "source": [
    "def roc_curve(positive, negative):\n",
    "    ground_truth = [0 for x in positive] + [5 for x in negative]\n",
    "    scores = np.concatenate((positive, negative), axis=0)\n",
    "\n",
    "    roc_auc = roc_auc_score(\n",
    "        y_true=ground_truth,\n",
    "        y_score=scores, \n",
    "    )\n",
    "    print(f\"Computed ROC AUC: {roc_auc:.3f}\")\n",
    "    \n",
    "    thresholds = np.arange(1e-6, 2.0, 0.1)\n",
    "    tprs = []\n",
    "    fprs = []\n",
    "    n_pos = float(len(positive))\n",
    "    n_neg = float(len(negative))\n",
    "\n",
    "    print(\"**** Computing ROC curve *****\")\n",
    "    for t in thresholds:\n",
    "        tp = np.sum(positive < t)\n",
    "        fp = np.sum(negative < t)\n",
    "        tprs.append(tp / n_pos)\n",
    "        fprs.append(fp / n_neg)\n",
    "\n",
    "    plt.plot(np.arange(0.0, 1.1, 0.1), np.arange(0.0, 1.1, 0.1), label=\"y=x\")\n",
    "    plt.plot(fprs, tprs, label=\"Fawkes network\")\n",
    "    plt.legend()\n",
    "    plt.ylabel(\"True Positive Rate\")\n",
    "    plt.xlabel(\"False Positive Rate\")\n",
    "    plt.title(\"ROC Curve for model\")"
   ]
  },
  {
   "cell_type": "code",
   "execution_count": 55,
   "metadata": {},
   "outputs": [],
   "source": [
    "def sanity_check(model, person_a, person_b):    \n",
    "    self_distances = pairwise_distances(\n",
    "         l2_normalize(person_a.clean_embeddings),\n",
    "         l2_normalize(person_a.clean_embeddings),\n",
    "         metric='euclidean',\n",
    "         n_jobs=4\n",
    "    )\n",
    "    # all distances below the diagonal compare every pair and exclude 0's to self\n",
    "    self_dist_indices = np.tril_indices(n=len(person_a.clean_embeddings), k=-1)\n",
    "    \n",
    "    # this selection returns a flattened array of distances that are ground truth True\n",
    "    self_distances = self_distances[self_dist_indices]\n",
    "\n",
    "    negative_distances = pairwise_distances(\n",
    "        l2_normalize(person_a.clean_embeddings),\n",
    "        l2_normalize(person_b.clean_embeddings),\n",
    "        metric='euclidean',\n",
    "        n_jobs=4\n",
    "    ).flatten()\n",
    "\n",
    "    roc_curve(self_distances, negative_distances)\n",
    "    \n",
    "    fig1, ax1 = plt.subplots()\n",
    "    ax1.boxplot([self_distances, negative_distances])"
   ]
  },
  {
   "cell_type": "code",
   "execution_count": 56,
   "metadata": {},
   "outputs": [
    {
     "name": "stdout",
     "output_type": "stream",
     "text": [
      "Computed ROC AUC: 0.543\n",
      "**** Computing ROC curve *****\n"
     ]
    },
    {
     "data": {
      "image/png": "[encoded data removed]",
      "text/plain": [
       "<Figure size 432x288 with 1 Axes>"
      ]
     },
     "metadata": {},
     "output_type": "display_data"
    },
    {
     "data": {
      "image/png": "[encoded data removed]",
      "text/plain": [
       "<Figure size 432x288 with 1 Axes>"
      ]
     },
     "metadata": {},
     "output_type": "display_data"
    }
   ],
   "source": [
    "sanity_check(model, person_a, person_b)"
   ]
  },
  {
   "cell_type": "markdown",
   "metadata": {},
   "source": [
    "## Measuring Recall"
   ]
  },
  {
   "cell_type": "code",
   "execution_count": 32,
   "metadata": {},
   "outputs": [],
   "source": [
    "class FacesDatabase:\n",
    "    def __init__(self, model, image_directory, attack_strategy, epsilon):\n",
    "        self.model = model\n",
    "        self. associated_identities = []\n",
    "        self.vectors = []\n",
    "        for person_name in os.listdir(image_directory):\n",
    "            self.add_images_for_person(image_directory, attack_strategy, person_name, epsilon)\n",
    "\n",
    "            \n",
    "    def add_folder(self, folder_path, person_name, from_indx, to_indx):\n",
    "        '''\n",
    "        add all images at folder_path between alphabetically sorted from_indx and to_indx\n",
    "        to person of person_name in the Azure group\n",
    "        '''\n",
    "        # List all jpeg, jpg and png images\n",
    "        # glob returns full paths\n",
    "        file_paths = [fn for fn in glob.glob(\n",
    "            os.path.join(folder_path, '*')\n",
    "        ) if fn.endswith(\"png\") or fn.endswith(\"jpg\") or fn.endswith(\"jpeg\")]\n",
    "\n",
    "        # Restrict to the first limit instances only in alphabetical order\n",
    "        file_paths = sorted(file_paths)[from_indx:to_indx]\n",
    "\n",
    "        print(f\"Adding folder {folder_path}\")\n",
    "        # Add to Azure instance\n",
    "        for img_path in tqdm(file_paths):\n",
    "            self.vectors.append(self.compute_vector(img_path))\n",
    "            self.associated_identities.append(person_name)\n",
    "\n",
    "            \n",
    "    def compute_vector(self, img_path):\n",
    "        img = load_one_facenet(img_path)\n",
    "        return np.array(l2_normalize(self.model(np.expand_dims(img, axis=0)))[0])\n",
    "        \n",
    "        \n",
    "    def add_images_for_person(\n",
    "            self, image_directory, attack_strategy, person_name, epsilon):\n",
    "        # Get all the protected identities.\n",
    "        # Remember our folder structure is ground_truth_identity/attack_strategy/protected_identity/epsilon_X/png/*.png\n",
    "        folders_wildcard = os.path.join(image_directory, person_name, attack_strategy, \"*\")\n",
    "        protected_folders = glob.glob(folders_wildcard)\n",
    "\n",
    "        if len(protected_folders) < 1:\n",
    "            print(f\"For folder {folders_wildcard} no protected folders\")\n",
    "            return\n",
    "\n",
    "        # 1. Add clean images truly belonging to this identity\n",
    "        # When epsilon = 0.0, we have clean images and it doesn't matter which identity is \"being protected\"\n",
    "        # as they are all unmodified images but duplicated in each identity.\n",
    "        clean_folder = os.path.join(protected_folders[0], \"epsilon_0.0\", \"png\")\n",
    "\n",
    "        # For now, hard code that we take only 1  clean image - the first one alphabetically.\n",
    "        self.add_folder(clean_folder, person_name, 0, 1)\n",
    "\n",
    "        # 2. Add decoy images belonging to this person_name in reality but modified to protect protected identities\n",
    "        # For each identity, get one decoy at a different index.\n",
    "        for indx, protected_identity_folder in enumerate(protected_folders):\n",
    "            full_folder_path = os.path.join(\n",
    "                protected_identity_folder, f\"epsilon_{epsilon}\", \"png\")\n",
    "            self.add_folder(full_folder_path, person_name, indx + 1, indx + 2)\n",
    "\n",
    "    \n",
    "    def nearest_neighbor_to_img_at_path(self, query_path):\n",
    "        query_vector = self.compute_vector(query_path)\n",
    "        distances = pairwise_distances([query_vector], self.vectors)[0]\n",
    "        return self.associated_identities[np.argmin(distances)]\n",
    "        "
   ]
  },
  {
   "cell_type": "code",
   "execution_count": 36,
   "metadata": {},
   "outputs": [],
   "source": [
    "def measure_local_recall(\n",
    "    face_database,\n",
    "    image_directory,\n",
    "):\n",
    "    discovery = []\n",
    "    true = []\n",
    "    identified_as = []\n",
    "\n",
    "    for protector in os.listdir(image_directory):\n",
    "        # We are sourcing query photos from epsilon_0.0.\n",
    "        # In those cases, all subfolders in the \"protected\" identity have the same, clean\n",
    "        # photo of the protector, so we just pick any single one that exists (e.g. n000958)\n",
    "        # For the case where n000958 is itself the protector, n000958 is not present in its protected\n",
    "        # subfolders, so we pick n000029 without loss of generality.\n",
    "        if protector == \"n000958\":\n",
    "            protected = \"n000029\"\n",
    "        else:\n",
    "            protected = \"n000958\"\n",
    "\n",
    "        query_photos_paths = sorted(glob.glob(\n",
    "            f\"{image_directory}/{protector}/community_naive_mean/{protected}/epsilon_0.0/png/*\"\n",
    "        ))\n",
    "\n",
    "    \n",
    "        top_identity = faces_database.nearest_neighbor_to_img_at_path(query_photos_paths[11])\n",
    "        true.append(protector)\n",
    "        identified_as.append(top_identity)\n",
    "\n",
    "\n",
    "        if top_identity == protector:\n",
    "            discovery.append(1.0)\n",
    "        else:\n",
    "            discovery.append(0.0)\n",
    "\n",
    "    \n",
    "    for true_id, recognized_id in zip(true, identified_as):\n",
    "        print(f\"Face of {true_id} identitifed as {recognized_id}\")\n",
    "        \n",
    "    return sum(discovery)/len(discovery)"
   ]
  },
  {
   "cell_type": "code",
   "execution_count": 34,
   "metadata": {},
   "outputs": [
    {
     "name": "stderr",
     "output_type": "stream",
     "text": [
      "100%|██████████| 1/1 [00:00<00:00, 11.61it/s]\n",
      "100%|██████████| 1/1 [00:00<00:00, 12.06it/s]\n",
      "  0%|          | 0/1 [00:00<?, ?it/s]"
     ]
    },
    {
     "name": "stdout",
     "output_type": "stream",
     "text": [
      "Adding folder /data/vggface/test_perturbed_sampled/n001781/robust_community_naive_mean/n009232/epsilon_0.0/png\n",
      "Adding folder /data/vggface/test_perturbed_sampled/n001781/robust_community_naive_mean/n009232/epsilon_0.5/png\n",
      "Adding folder /data/vggface/test_perturbed_sampled/n001781/robust_community_naive_mean/n000958/epsilon_0.5/png\n"
     ]
    },
    {
     "name": "stderr",
     "output_type": "stream",
     "text": [
      "100%|██████████| 1/1 [00:00<00:00, 12.09it/s]\n",
      "100%|██████████| 1/1 [00:00<00:00, 12.11it/s]\n",
      "100%|██████████| 1/1 [00:00<00:00, 11.99it/s]\n",
      "  0%|          | 0/1 [00:00<?, ?it/s]"
     ]
    },
    {
     "name": "stdout",
     "output_type": "stream",
     "text": [
      "Adding folder /data/vggface/test_perturbed_sampled/n001781/robust_community_naive_mean/n003356/epsilon_0.5/png\n",
      "Adding folder /data/vggface/test_perturbed_sampled/n001781/robust_community_naive_mean/n008655/epsilon_0.5/png\n",
      "Adding folder /data/vggface/test_perturbed_sampled/n001781/robust_community_naive_mean/n008613/epsilon_0.5/png\n"
     ]
    },
    {
     "name": "stderr",
     "output_type": "stream",
     "text": [
      "100%|██████████| 1/1 [00:00<00:00, 11.98it/s]\n",
      "100%|██████████| 1/1 [00:00<00:00, 12.12it/s]\n",
      "100%|██████████| 1/1 [00:00<00:00, 12.08it/s]\n",
      "  0%|          | 0/1 [00:00<?, ?it/s]"
     ]
    },
    {
     "name": "stdout",
     "output_type": "stream",
     "text": [
      "Adding folder /data/vggface/test_perturbed_sampled/n001781/robust_community_naive_mean/n004658/epsilon_0.5/png\n",
      "Adding folder /data/vggface/test_perturbed_sampled/n001781/robust_community_naive_mean/n001683/epsilon_0.5/png\n",
      "Adding folder /data/vggface/test_perturbed_sampled/n001781/robust_community_naive_mean/n002647/epsilon_0.5/png\n"
     ]
    },
    {
     "name": "stderr",
     "output_type": "stream",
     "text": [
      "100%|██████████| 1/1 [00:00<00:00, 12.00it/s]\n",
      "100%|██████████| 1/1 [00:00<00:00, 12.08it/s]\n",
      "100%|██████████| 1/1 [00:00<00:00, 12.08it/s]\n",
      "  0%|          | 0/1 [00:00<?, ?it/s]"
     ]
    },
    {
     "name": "stdout",
     "output_type": "stream",
     "text": [
      "Adding folder /data/vggface/test_perturbed_sampled/n001781/robust_community_naive_mean/n009288/epsilon_0.5/png\n",
      "Adding folder /data/vggface/test_perturbed_sampled/n001781/robust_community_naive_mean/n005427/epsilon_0.5/png\n",
      "Adding folder /data/vggface/test_perturbed_sampled/n001781/robust_community_naive_mean/n002763/epsilon_0.5/png\n"
     ]
    },
    {
     "name": "stderr",
     "output_type": "stream",
     "text": [
      "100%|██████████| 1/1 [00:00<00:00, 11.74it/s]\n",
      "100%|██████████| 1/1 [00:00<00:00, 12.05it/s]\n",
      "100%|██████████| 1/1 [00:00<00:00, 12.10it/s]\n",
      "  0%|          | 0/1 [00:00<?, ?it/s]"
     ]
    },
    {
     "name": "stdout",
     "output_type": "stream",
     "text": [
      "Adding folder /data/vggface/test_perturbed_sampled/n001781/robust_community_naive_mean/n002503/epsilon_0.5/png\n",
      "Adding folder /data/vggface/test_perturbed_sampled/n001781/robust_community_naive_mean/n003215/epsilon_0.5/png\n",
      "Adding folder /data/vggface/test_perturbed_sampled/n001781/robust_community_naive_mean/n005359/epsilon_0.5/png\n"
     ]
    },
    {
     "name": "stderr",
     "output_type": "stream",
     "text": [
      "100%|██████████| 1/1 [00:00<00:00, 12.08it/s]\n",
      "100%|██████████| 1/1 [00:00<00:00, 12.12it/s]\n",
      "0it [00:00, ?it/s]\n",
      "100%|██████████| 1/1 [00:00<00:00, 12.10it/s]\n",
      "  0%|          | 0/1 [00:00<?, ?it/s]"
     ]
    },
    {
     "name": "stdout",
     "output_type": "stream",
     "text": [
      "Adding folder /data/vggface/test_perturbed_sampled/n001781/robust_community_naive_mean/n005303/epsilon_0.5/png\n",
      "Adding folder /data/vggface/test_perturbed_sampled/n001781/robust_community_naive_mean/decoys_epsilon_0.5.h5/epsilon_0.5/png\n",
      "Adding folder /data/vggface/test_perturbed_sampled/n001781/robust_community_naive_mean/n007548/epsilon_0.5/png\n",
      "Adding folder /data/vggface/test_perturbed_sampled/n001781/robust_community_naive_mean/n000029/epsilon_0.5/png\n"
     ]
    },
    {
     "name": "stderr",
     "output_type": "stream",
     "text": [
      "100%|██████████| 1/1 [00:00<00:00, 12.05it/s]\n",
      "100%|██████████| 1/1 [00:00<00:00, 12.18it/s]\n",
      "100%|██████████| 1/1 [00:00<00:00, 12.18it/s]\n",
      "  0%|          | 0/1 [00:00<?, ?it/s]"
     ]
    },
    {
     "name": "stdout",
     "output_type": "stream",
     "text": [
      "Adding folder /data/vggface/test_perturbed_sampled/n001781/robust_community_naive_mean/n009114/epsilon_0.5/png\n",
      "Adding folder /data/vggface/test_perturbed_sampled/n009232/robust_community_naive_mean/n001781/epsilon_0.0/png\n",
      "Adding folder /data/vggface/test_perturbed_sampled/n009232/robust_community_naive_mean/n001781/epsilon_0.5/png\n"
     ]
    },
    {
     "name": "stderr",
     "output_type": "stream",
     "text": [
      "100%|██████████| 1/1 [00:00<00:00, 12.07it/s]\n",
      "100%|██████████| 1/1 [00:00<00:00, 12.04it/s]\n",
      "100%|██████████| 1/1 [00:00<00:00, 12.07it/s]\n",
      "  0%|          | 0/1 [00:00<?, ?it/s]"
     ]
    },
    {
     "name": "stdout",
     "output_type": "stream",
     "text": [
      "Adding folder /data/vggface/test_perturbed_sampled/n009232/robust_community_naive_mean/n000958/epsilon_0.5/png\n",
      "Adding folder /data/vggface/test_perturbed_sampled/n009232/robust_community_naive_mean/n003356/epsilon_0.5/png\n",
      "Adding folder /data/vggface/test_perturbed_sampled/n009232/robust_community_naive_mean/n008655/epsilon_0.5/png\n"
     ]
    },
    {
     "name": "stderr",
     "output_type": "stream",
     "text": [
      "100%|██████████| 1/1 [00:00<00:00, 12.01it/s]\n",
      "100%|██████████| 1/1 [00:00<00:00, 12.04it/s]\n",
      "100%|██████████| 1/1 [00:00<00:00, 12.03it/s]\n",
      "  0%|          | 0/1 [00:00<?, ?it/s]"
     ]
    },
    {
     "name": "stdout",
     "output_type": "stream",
     "text": [
      "Adding folder /data/vggface/test_perturbed_sampled/n009232/robust_community_naive_mean/n008613/epsilon_0.5/png\n",
      "Adding folder /data/vggface/test_perturbed_sampled/n009232/robust_community_naive_mean/n004658/epsilon_0.5/png\n",
      "Adding folder /data/vggface/test_perturbed_sampled/n009232/robust_community_naive_mean/n001683/epsilon_0.5/png\n"
     ]
    },
    {
     "name": "stderr",
     "output_type": "stream",
     "text": [
      "100%|██████████| 1/1 [00:00<00:00, 12.03it/s]\n",
      "100%|██████████| 1/1 [00:00<00:00, 12.01it/s]\n",
      "100%|██████████| 1/1 [00:00<00:00, 12.04it/s]\n",
      "  0%|          | 0/1 [00:00<?, ?it/s]"
     ]
    },
    {
     "name": "stdout",
     "output_type": "stream",
     "text": [
      "Adding folder /data/vggface/test_perturbed_sampled/n009232/robust_community_naive_mean/n002647/epsilon_0.5/png\n",
      "Adding folder /data/vggface/test_perturbed_sampled/n009232/robust_community_naive_mean/n009288/epsilon_0.5/png\n",
      "Adding folder /data/vggface/test_perturbed_sampled/n009232/robust_community_naive_mean/n005427/epsilon_0.5/png\n"
     ]
    },
    {
     "name": "stderr",
     "output_type": "stream",
     "text": [
      "100%|██████████| 1/1 [00:00<00:00, 12.00it/s]\n",
      "100%|██████████| 1/1 [00:00<00:00, 12.06it/s]\n",
      "100%|██████████| 1/1 [00:00<00:00, 12.01it/s]\n",
      "  0%|          | 0/1 [00:00<?, ?it/s]"
     ]
    },
    {
     "name": "stdout",
     "output_type": "stream",
     "text": [
      "Adding folder /data/vggface/test_perturbed_sampled/n009232/robust_community_naive_mean/n002763/epsilon_0.5/png\n",
      "Adding folder /data/vggface/test_perturbed_sampled/n009232/robust_community_naive_mean/n002503/epsilon_0.5/png\n",
      "Adding folder /data/vggface/test_perturbed_sampled/n009232/robust_community_naive_mean/n003215/epsilon_0.5/png\n"
     ]
    },
    {
     "name": "stderr",
     "output_type": "stream",
     "text": [
      "100%|██████████| 1/1 [00:00<00:00, 12.01it/s]\n",
      "100%|██████████| 1/1 [00:00<00:00, 12.07it/s]\n",
      "100%|██████████| 1/1 [00:00<00:00, 12.06it/s]\n",
      "  0%|          | 0/1 [00:00<?, ?it/s]"
     ]
    },
    {
     "name": "stdout",
     "output_type": "stream",
     "text": [
      "Adding folder /data/vggface/test_perturbed_sampled/n009232/robust_community_naive_mean/n005359/epsilon_0.5/png\n",
      "Adding folder /data/vggface/test_perturbed_sampled/n009232/robust_community_naive_mean/n005303/epsilon_0.5/png\n",
      "Adding folder /data/vggface/test_perturbed_sampled/n009232/robust_community_naive_mean/n007548/epsilon_0.5/png\n"
     ]
    },
    {
     "name": "stderr",
     "output_type": "stream",
     "text": [
      "100%|██████████| 1/1 [00:00<00:00, 12.03it/s]\n",
      "100%|██████████| 1/1 [00:00<00:00, 12.07it/s]\n",
      "100%|██████████| 1/1 [00:00<00:00, 12.08it/s]\n",
      "  0%|          | 0/1 [00:00<?, ?it/s]"
     ]
    },
    {
     "name": "stdout",
     "output_type": "stream",
     "text": [
      "Adding folder /data/vggface/test_perturbed_sampled/n009232/robust_community_naive_mean/n000029/epsilon_0.5/png\n",
      "Adding folder /data/vggface/test_perturbed_sampled/n009232/robust_community_naive_mean/n009114/epsilon_0.5/png\n",
      "Adding folder /data/vggface/test_perturbed_sampled/n000958/robust_community_naive_mean/n001781/epsilon_0.0/png\n"
     ]
    },
    {
     "name": "stderr",
     "output_type": "stream",
     "text": [
      "100%|██████████| 1/1 [00:00<00:00, 12.09it/s]\n",
      "100%|██████████| 1/1 [00:00<00:00, 12.19it/s]\n",
      "100%|██████████| 1/1 [00:00<00:00, 12.08it/s]\n",
      "  0%|          | 0/1 [00:00<?, ?it/s]"
     ]
    },
    {
     "name": "stdout",
     "output_type": "stream",
     "text": [
      "Adding folder /data/vggface/test_perturbed_sampled/n000958/robust_community_naive_mean/n001781/epsilon_0.5/png\n",
      "Adding folder /data/vggface/test_perturbed_sampled/n000958/robust_community_naive_mean/n009232/epsilon_0.5/png\n",
      "Adding folder /data/vggface/test_perturbed_sampled/n000958/robust_community_naive_mean/n003356/epsilon_0.5/png\n"
     ]
    },
    {
     "name": "stderr",
     "output_type": "stream",
     "text": [
      "100%|██████████| 1/1 [00:00<00:00, 12.04it/s]\n",
      "100%|██████████| 1/1 [00:00<00:00, 12.11it/s]\n",
      "100%|██████████| 1/1 [00:00<00:00, 12.07it/s]\n",
      "  0%|          | 0/1 [00:00<?, ?it/s]"
     ]
    },
    {
     "name": "stdout",
     "output_type": "stream",
     "text": [
      "Adding folder /data/vggface/test_perturbed_sampled/n000958/robust_community_naive_mean/n008655/epsilon_0.5/png\n",
      "Adding folder /data/vggface/test_perturbed_sampled/n000958/robust_community_naive_mean/n008613/epsilon_0.5/png\n",
      "Adding folder /data/vggface/test_perturbed_sampled/n000958/robust_community_naive_mean/n004658/epsilon_0.5/png\n"
     ]
    },
    {
     "name": "stderr",
     "output_type": "stream",
     "text": [
      "100%|██████████| 1/1 [00:00<00:00, 12.04it/s]\n",
      "100%|██████████| 1/1 [00:00<00:00, 12.11it/s]\n",
      "100%|██████████| 1/1 [00:00<00:00, 12.08it/s]\n",
      "  0%|          | 0/1 [00:00<?, ?it/s]"
     ]
    },
    {
     "name": "stdout",
     "output_type": "stream",
     "text": [
      "Adding folder /data/vggface/test_perturbed_sampled/n000958/robust_community_naive_mean/n001683/epsilon_0.5/png\n",
      "Adding folder /data/vggface/test_perturbed_sampled/n000958/robust_community_naive_mean/n002647/epsilon_0.5/png\n",
      "Adding folder /data/vggface/test_perturbed_sampled/n000958/robust_community_naive_mean/n009288/epsilon_0.5/png\n"
     ]
    },
    {
     "name": "stderr",
     "output_type": "stream",
     "text": [
      "100%|██████████| 1/1 [00:00<00:00, 12.06it/s]\n",
      "100%|██████████| 1/1 [00:00<00:00, 12.08it/s]\n",
      "100%|██████████| 1/1 [00:00<00:00, 12.08it/s]\n",
      "  0%|          | 0/1 [00:00<?, ?it/s]"
     ]
    },
    {
     "name": "stdout",
     "output_type": "stream",
     "text": [
      "Adding folder /data/vggface/test_perturbed_sampled/n000958/robust_community_naive_mean/n005427/epsilon_0.5/png\n",
      "Adding folder /data/vggface/test_perturbed_sampled/n000958/robust_community_naive_mean/n002763/epsilon_0.5/png\n",
      "Adding folder /data/vggface/test_perturbed_sampled/n000958/robust_community_naive_mean/n002503/epsilon_0.5/png\n"
     ]
    },
    {
     "name": "stderr",
     "output_type": "stream",
     "text": [
      "100%|██████████| 1/1 [00:00<00:00, 12.01it/s]\n",
      "100%|██████████| 1/1 [00:00<00:00, 12.08it/s]\n",
      "100%|██████████| 1/1 [00:00<00:00, 12.04it/s]\n",
      "  0%|          | 0/1 [00:00<?, ?it/s]"
     ]
    },
    {
     "name": "stdout",
     "output_type": "stream",
     "text": [
      "Adding folder /data/vggface/test_perturbed_sampled/n000958/robust_community_naive_mean/n003215/epsilon_0.5/png\n",
      "Adding folder /data/vggface/test_perturbed_sampled/n000958/robust_community_naive_mean/n005359/epsilon_0.5/png\n",
      "Adding folder /data/vggface/test_perturbed_sampled/n000958/robust_community_naive_mean/n005303/epsilon_0.5/png\n"
     ]
    },
    {
     "name": "stderr",
     "output_type": "stream",
     "text": [
      "100%|██████████| 1/1 [00:00<00:00, 12.05it/s]\n",
      "100%|██████████| 1/1 [00:00<00:00, 12.18it/s]\n",
      "100%|██████████| 1/1 [00:00<00:00, 12.17it/s]\n",
      "  0%|          | 0/1 [00:00<?, ?it/s]"
     ]
    },
    {
     "name": "stdout",
     "output_type": "stream",
     "text": [
      "Adding folder /data/vggface/test_perturbed_sampled/n000958/robust_community_naive_mean/n007548/epsilon_0.5/png\n",
      "Adding folder /data/vggface/test_perturbed_sampled/n000958/robust_community_naive_mean/n000029/epsilon_0.5/png\n",
      "Adding folder /data/vggface/test_perturbed_sampled/n000958/robust_community_naive_mean/n009114/epsilon_0.5/png\n"
     ]
    },
    {
     "name": "stderr",
     "output_type": "stream",
     "text": [
      "100%|██████████| 1/1 [00:00<00:00, 12.02it/s]\n",
      "100%|██████████| 1/1 [00:00<00:00, 12.14it/s]\n",
      "100%|██████████| 1/1 [00:00<00:00, 12.26it/s]\n",
      "  0%|          | 0/1 [00:00<?, ?it/s]"
     ]
    },
    {
     "name": "stdout",
     "output_type": "stream",
     "text": [
      "Adding folder /data/vggface/test_perturbed_sampled/n003356/robust_community_naive_mean/n001781/epsilon_0.0/png\n",
      "Adding folder /data/vggface/test_perturbed_sampled/n003356/robust_community_naive_mean/n001781/epsilon_0.5/png\n",
      "Adding folder /data/vggface/test_perturbed_sampled/n003356/robust_community_naive_mean/n009232/epsilon_0.5/png\n"
     ]
    },
    {
     "name": "stderr",
     "output_type": "stream",
     "text": [
      "100%|██████████| 1/1 [00:00<00:00, 12.21it/s]\n",
      "100%|██████████| 1/1 [00:00<00:00, 12.22it/s]\n",
      "100%|██████████| 1/1 [00:00<00:00, 12.22it/s]\n",
      "  0%|          | 0/1 [00:00<?, ?it/s]"
     ]
    },
    {
     "name": "stdout",
     "output_type": "stream",
     "text": [
      "Adding folder /data/vggface/test_perturbed_sampled/n003356/robust_community_naive_mean/n000958/epsilon_0.5/png\n",
      "Adding folder /data/vggface/test_perturbed_sampled/n003356/robust_community_naive_mean/n008655/epsilon_0.5/png\n",
      "Adding folder /data/vggface/test_perturbed_sampled/n003356/robust_community_naive_mean/n008613/epsilon_0.5/png\n"
     ]
    },
    {
     "name": "stderr",
     "output_type": "stream",
     "text": [
      "100%|██████████| 1/1 [00:00<00:00, 12.24it/s]\n",
      "100%|██████████| 1/1 [00:00<00:00, 12.27it/s]\n",
      "100%|██████████| 1/1 [00:00<00:00, 12.22it/s]\n",
      "  0%|          | 0/1 [00:00<?, ?it/s]"
     ]
    },
    {
     "name": "stdout",
     "output_type": "stream",
     "text": [
      "Adding folder /data/vggface/test_perturbed_sampled/n003356/robust_community_naive_mean/n004658/epsilon_0.5/png\n",
      "Adding folder /data/vggface/test_perturbed_sampled/n003356/robust_community_naive_mean/n001683/epsilon_0.5/png\n",
      "Adding folder /data/vggface/test_perturbed_sampled/n003356/robust_community_naive_mean/n002647/epsilon_0.5/png\n"
     ]
    },
    {
     "name": "stderr",
     "output_type": "stream",
     "text": [
      "100%|██████████| 1/1 [00:00<00:00, 12.19it/s]\n",
      "100%|██████████| 1/1 [00:00<00:00, 12.25it/s]\n",
      "100%|██████████| 1/1 [00:00<00:00, 12.23it/s]\n",
      "  0%|          | 0/1 [00:00<?, ?it/s]"
     ]
    },
    {
     "name": "stdout",
     "output_type": "stream",
     "text": [
      "Adding folder /data/vggface/test_perturbed_sampled/n003356/robust_community_naive_mean/n009288/epsilon_0.5/png\n",
      "Adding folder /data/vggface/test_perturbed_sampled/n003356/robust_community_naive_mean/n005427/epsilon_0.5/png\n",
      "Adding folder /data/vggface/test_perturbed_sampled/n003356/robust_community_naive_mean/n002763/epsilon_0.5/png\n"
     ]
    },
    {
     "name": "stderr",
     "output_type": "stream",
     "text": [
      "100%|██████████| 1/1 [00:00<00:00, 12.17it/s]\n",
      "100%|██████████| 1/1 [00:00<00:00, 11.64it/s]\n",
      "100%|██████████| 1/1 [00:00<00:00, 12.04it/s]\n",
      "  0%|          | 0/1 [00:00<?, ?it/s]"
     ]
    },
    {
     "name": "stdout",
     "output_type": "stream",
     "text": [
      "Adding folder /data/vggface/test_perturbed_sampled/n003356/robust_community_naive_mean/n002503/epsilon_0.5/png\n",
      "Adding folder /data/vggface/test_perturbed_sampled/n003356/robust_community_naive_mean/n003215/epsilon_0.5/png\n",
      "Adding folder /data/vggface/test_perturbed_sampled/n003356/robust_community_naive_mean/n005359/epsilon_0.5/png\n"
     ]
    },
    {
     "name": "stderr",
     "output_type": "stream",
     "text": [
      "100%|██████████| 1/1 [00:00<00:00, 11.96it/s]\n",
      "100%|██████████| 1/1 [00:00<00:00, 12.04it/s]\n",
      "100%|██████████| 1/1 [00:00<00:00, 12.06it/s]\n",
      "  0%|          | 0/1 [00:00<?, ?it/s]"
     ]
    },
    {
     "name": "stdout",
     "output_type": "stream",
     "text": [
      "Adding folder /data/vggface/test_perturbed_sampled/n003356/robust_community_naive_mean/n005303/epsilon_0.5/png\n",
      "Adding folder /data/vggface/test_perturbed_sampled/n003356/robust_community_naive_mean/n007548/epsilon_0.5/png\n",
      "Adding folder /data/vggface/test_perturbed_sampled/n003356/robust_community_naive_mean/n000029/epsilon_0.5/png\n"
     ]
    },
    {
     "name": "stderr",
     "output_type": "stream",
     "text": [
      "100%|██████████| 1/1 [00:00<00:00, 12.06it/s]\n",
      "100%|██████████| 1/1 [00:00<00:00, 12.14it/s]\n",
      "100%|██████████| 1/1 [00:00<00:00, 12.20it/s]\n",
      "  0%|          | 0/1 [00:00<?, ?it/s]"
     ]
    },
    {
     "name": "stdout",
     "output_type": "stream",
     "text": [
      "Adding folder /data/vggface/test_perturbed_sampled/n003356/robust_community_naive_mean/n009114/epsilon_0.5/png\n",
      "Adding folder /data/vggface/test_perturbed_sampled/n008655/robust_community_naive_mean/n001781/epsilon_0.0/png\n",
      "Adding folder /data/vggface/test_perturbed_sampled/n008655/robust_community_naive_mean/n001781/epsilon_0.5/png\n"
     ]
    },
    {
     "name": "stderr",
     "output_type": "stream",
     "text": [
      "100%|██████████| 1/1 [00:00<00:00, 12.06it/s]\n",
      "100%|██████████| 1/1 [00:00<00:00, 12.16it/s]\n",
      "100%|██████████| 1/1 [00:00<00:00, 12.17it/s]\n",
      "  0%|          | 0/1 [00:00<?, ?it/s]"
     ]
    },
    {
     "name": "stdout",
     "output_type": "stream",
     "text": [
      "Adding folder /data/vggface/test_perturbed_sampled/n008655/robust_community_naive_mean/n009232/epsilon_0.5/png\n",
      "Adding folder /data/vggface/test_perturbed_sampled/n008655/robust_community_naive_mean/n000958/epsilon_0.5/png\n",
      "Adding folder /data/vggface/test_perturbed_sampled/n008655/robust_community_naive_mean/n003356/epsilon_0.5/png\n"
     ]
    },
    {
     "name": "stderr",
     "output_type": "stream",
     "text": [
      "100%|██████████| 1/1 [00:00<00:00, 12.09it/s]\n",
      "100%|██████████| 1/1 [00:00<00:00, 12.17it/s]\n",
      "100%|██████████| 1/1 [00:00<00:00, 12.15it/s]\n",
      "  0%|          | 0/1 [00:00<?, ?it/s]"
     ]
    },
    {
     "name": "stdout",
     "output_type": "stream",
     "text": [
      "Adding folder /data/vggface/test_perturbed_sampled/n008655/robust_community_naive_mean/n008613/epsilon_0.5/png\n",
      "Adding folder /data/vggface/test_perturbed_sampled/n008655/robust_community_naive_mean/n004658/epsilon_0.5/png\n",
      "Adding folder /data/vggface/test_perturbed_sampled/n008655/robust_community_naive_mean/n001683/epsilon_0.5/png\n"
     ]
    },
    {
     "name": "stderr",
     "output_type": "stream",
     "text": [
      "100%|██████████| 1/1 [00:00<00:00, 12.14it/s]\n",
      "100%|██████████| 1/1 [00:00<00:00, 12.10it/s]\n",
      "100%|██████████| 1/1 [00:00<00:00, 12.09it/s]\n",
      "  0%|          | 0/1 [00:00<?, ?it/s]"
     ]
    },
    {
     "name": "stdout",
     "output_type": "stream",
     "text": [
      "Adding folder /data/vggface/test_perturbed_sampled/n008655/robust_community_naive_mean/n002647/epsilon_0.5/png\n",
      "Adding folder /data/vggface/test_perturbed_sampled/n008655/robust_community_naive_mean/n009288/epsilon_0.5/png\n",
      "Adding folder /data/vggface/test_perturbed_sampled/n008655/robust_community_naive_mean/n005427/epsilon_0.5/png\n"
     ]
    },
    {
     "name": "stderr",
     "output_type": "stream",
     "text": [
      "100%|██████████| 1/1 [00:00<00:00, 11.99it/s]\n",
      "100%|██████████| 1/1 [00:00<00:00, 12.07it/s]\n",
      "100%|██████████| 1/1 [00:00<00:00, 12.05it/s]\n",
      "  0%|          | 0/1 [00:00<?, ?it/s]"
     ]
    },
    {
     "name": "stdout",
     "output_type": "stream",
     "text": [
      "Adding folder /data/vggface/test_perturbed_sampled/n008655/robust_community_naive_mean/n002763/epsilon_0.5/png\n",
      "Adding folder /data/vggface/test_perturbed_sampled/n008655/robust_community_naive_mean/n002503/epsilon_0.5/png\n",
      "Adding folder /data/vggface/test_perturbed_sampled/n008655/robust_community_naive_mean/n003215/epsilon_0.5/png\n"
     ]
    },
    {
     "name": "stderr",
     "output_type": "stream",
     "text": [
      "100%|██████████| 1/1 [00:00<00:00, 11.99it/s]\n",
      "100%|██████████| 1/1 [00:00<00:00, 12.10it/s]\n",
      "100%|██████████| 1/1 [00:00<00:00, 10.10it/s]\n",
      "  0%|          | 0/1 [00:00<?, ?it/s]"
     ]
    },
    {
     "name": "stdout",
     "output_type": "stream",
     "text": [
      "Adding folder /data/vggface/test_perturbed_sampled/n008655/robust_community_naive_mean/n005359/epsilon_0.5/png\n",
      "Adding folder /data/vggface/test_perturbed_sampled/n008655/robust_community_naive_mean/n005303/epsilon_0.5/png\n",
      "Adding folder /data/vggface/test_perturbed_sampled/n008655/robust_community_naive_mean/n007548/epsilon_0.5/png\n"
     ]
    },
    {
     "name": "stderr",
     "output_type": "stream",
     "text": [
      "100%|██████████| 1/1 [00:00<00:00, 11.54it/s]\n",
      "100%|██████████| 1/1 [00:00<00:00, 12.03it/s]\n",
      "100%|██████████| 1/1 [00:00<00:00, 12.23it/s]\n",
      "  0%|          | 0/1 [00:00<?, ?it/s]"
     ]
    },
    {
     "name": "stdout",
     "output_type": "stream",
     "text": [
      "Adding folder /data/vggface/test_perturbed_sampled/n008655/robust_community_naive_mean/n000029/epsilon_0.5/png\n",
      "Adding folder /data/vggface/test_perturbed_sampled/n008655/robust_community_naive_mean/n009114/epsilon_0.5/png\n",
      "Adding folder /data/vggface/test_perturbed_sampled/n008613/robust_community_naive_mean/n001781/epsilon_0.0/png\n"
     ]
    },
    {
     "name": "stderr",
     "output_type": "stream",
     "text": [
      "100%|██████████| 1/1 [00:00<00:00, 12.18it/s]\n",
      "100%|██████████| 1/1 [00:00<00:00, 12.18it/s]\n",
      "100%|██████████| 1/1 [00:00<00:00, 12.17it/s]\n",
      "  0%|          | 0/1 [00:00<?, ?it/s]"
     ]
    },
    {
     "name": "stdout",
     "output_type": "stream",
     "text": [
      "Adding folder /data/vggface/test_perturbed_sampled/n008613/robust_community_naive_mean/n001781/epsilon_0.5/png\n",
      "Adding folder /data/vggface/test_perturbed_sampled/n008613/robust_community_naive_mean/n009232/epsilon_0.5/png\n",
      "Adding folder /data/vggface/test_perturbed_sampled/n008613/robust_community_naive_mean/n000958/epsilon_0.5/png\n"
     ]
    },
    {
     "name": "stderr",
     "output_type": "stream",
     "text": [
      "100%|██████████| 1/1 [00:00<00:00, 11.98it/s]\n",
      "100%|██████████| 1/1 [00:00<00:00, 12.06it/s]\n",
      "100%|██████████| 1/1 [00:00<00:00, 12.11it/s]\n",
      "  0%|          | 0/1 [00:00<?, ?it/s]"
     ]
    },
    {
     "name": "stdout",
     "output_type": "stream",
     "text": [
      "Adding folder /data/vggface/test_perturbed_sampled/n008613/robust_community_naive_mean/n003356/epsilon_0.5/png\n",
      "Adding folder /data/vggface/test_perturbed_sampled/n008613/robust_community_naive_mean/n008655/epsilon_0.5/png\n",
      "Adding folder /data/vggface/test_perturbed_sampled/n008613/robust_community_naive_mean/n004658/epsilon_0.5/png\n"
     ]
    },
    {
     "name": "stderr",
     "output_type": "stream",
     "text": [
      "100%|██████████| 1/1 [00:00<00:00, 12.06it/s]\n",
      "100%|██████████| 1/1 [00:00<00:00, 12.12it/s]\n",
      "100%|██████████| 1/1 [00:00<00:00, 12.08it/s]\n",
      "  0%|          | 0/1 [00:00<?, ?it/s]"
     ]
    },
    {
     "name": "stdout",
     "output_type": "stream",
     "text": [
      "Adding folder /data/vggface/test_perturbed_sampled/n008613/robust_community_naive_mean/n001683/epsilon_0.5/png\n",
      "Adding folder /data/vggface/test_perturbed_sampled/n008613/robust_community_naive_mean/n002647/epsilon_0.5/png\n",
      "Adding folder /data/vggface/test_perturbed_sampled/n008613/robust_community_naive_mean/n009288/epsilon_0.5/png\n"
     ]
    },
    {
     "name": "stderr",
     "output_type": "stream",
     "text": [
      "100%|██████████| 1/1 [00:00<00:00, 11.59it/s]\n",
      "100%|██████████| 1/1 [00:00<00:00, 12.13it/s]\n",
      "100%|██████████| 1/1 [00:00<00:00, 12.14it/s]\n",
      "  0%|          | 0/1 [00:00<?, ?it/s]"
     ]
    },
    {
     "name": "stdout",
     "output_type": "stream",
     "text": [
      "Adding folder /data/vggface/test_perturbed_sampled/n008613/robust_community_naive_mean/n005427/epsilon_0.5/png\n",
      "Adding folder /data/vggface/test_perturbed_sampled/n008613/robust_community_naive_mean/n002763/epsilon_0.5/png\n",
      "Adding folder /data/vggface/test_perturbed_sampled/n008613/robust_community_naive_mean/n002503/epsilon_0.5/png\n"
     ]
    },
    {
     "name": "stderr",
     "output_type": "stream",
     "text": [
      "100%|██████████| 1/1 [00:00<00:00, 12.08it/s]\n",
      "100%|██████████| 1/1 [00:00<00:00, 12.10it/s]\n",
      "100%|██████████| 1/1 [00:00<00:00, 12.08it/s]\n",
      "  0%|          | 0/1 [00:00<?, ?it/s]"
     ]
    },
    {
     "name": "stdout",
     "output_type": "stream",
     "text": [
      "Adding folder /data/vggface/test_perturbed_sampled/n008613/robust_community_naive_mean/n003215/epsilon_0.5/png\n",
      "Adding folder /data/vggface/test_perturbed_sampled/n008613/robust_community_naive_mean/n005359/epsilon_0.5/png\n",
      "Adding folder /data/vggface/test_perturbed_sampled/n008613/robust_community_naive_mean/n005303/epsilon_0.5/png\n"
     ]
    },
    {
     "name": "stderr",
     "output_type": "stream",
     "text": [
      "100%|██████████| 1/1 [00:00<00:00, 12.05it/s]\n",
      "100%|██████████| 1/1 [00:00<00:00, 12.00it/s]\n",
      "100%|██████████| 1/1 [00:00<00:00, 12.02it/s]\n",
      "  0%|          | 0/1 [00:00<?, ?it/s]"
     ]
    },
    {
     "name": "stdout",
     "output_type": "stream",
     "text": [
      "Adding folder /data/vggface/test_perturbed_sampled/n008613/robust_community_naive_mean/n007548/epsilon_0.5/png\n",
      "Adding folder /data/vggface/test_perturbed_sampled/n008613/robust_community_naive_mean/n000029/epsilon_0.5/png\n",
      "Adding folder /data/vggface/test_perturbed_sampled/n008613/robust_community_naive_mean/n009114/epsilon_0.5/png\n"
     ]
    },
    {
     "name": "stderr",
     "output_type": "stream",
     "text": [
      "100%|██████████| 1/1 [00:00<00:00, 12.01it/s]\n",
      "100%|██████████| 1/1 [00:00<00:00, 12.07it/s]\n",
      "100%|██████████| 1/1 [00:00<00:00, 12.05it/s]\n",
      "  0%|          | 0/1 [00:00<?, ?it/s]"
     ]
    },
    {
     "name": "stdout",
     "output_type": "stream",
     "text": [
      "Adding folder /data/vggface/test_perturbed_sampled/n004658/robust_community_naive_mean/n001781/epsilon_0.0/png\n",
      "Adding folder /data/vggface/test_perturbed_sampled/n004658/robust_community_naive_mean/n001781/epsilon_0.5/png\n",
      "Adding folder /data/vggface/test_perturbed_sampled/n004658/robust_community_naive_mean/n009232/epsilon_0.5/png\n"
     ]
    },
    {
     "name": "stderr",
     "output_type": "stream",
     "text": [
      "100%|██████████| 1/1 [00:00<00:00, 12.11it/s]\n",
      "100%|██████████| 1/1 [00:00<00:00, 12.22it/s]\n",
      "100%|██████████| 1/1 [00:00<00:00, 12.15it/s]\n",
      "  0%|          | 0/1 [00:00<?, ?it/s]"
     ]
    },
    {
     "name": "stdout",
     "output_type": "stream",
     "text": [
      "Adding folder /data/vggface/test_perturbed_sampled/n004658/robust_community_naive_mean/n000958/epsilon_0.5/png\n",
      "Adding folder /data/vggface/test_perturbed_sampled/n004658/robust_community_naive_mean/n003356/epsilon_0.5/png\n",
      "Adding folder /data/vggface/test_perturbed_sampled/n004658/robust_community_naive_mean/n008655/epsilon_0.5/png\n"
     ]
    },
    {
     "name": "stderr",
     "output_type": "stream",
     "text": [
      "100%|██████████| 1/1 [00:00<00:00, 12.07it/s]\n",
      "100%|██████████| 1/1 [00:00<00:00, 12.19it/s]\n",
      "100%|██████████| 1/1 [00:00<00:00, 12.20it/s]\n",
      "  0%|          | 0/1 [00:00<?, ?it/s]"
     ]
    },
    {
     "name": "stdout",
     "output_type": "stream",
     "text": [
      "Adding folder /data/vggface/test_perturbed_sampled/n004658/robust_community_naive_mean/n008613/epsilon_0.5/png\n",
      "Adding folder /data/vggface/test_perturbed_sampled/n004658/robust_community_naive_mean/n001683/epsilon_0.5/png\n",
      "Adding folder /data/vggface/test_perturbed_sampled/n004658/robust_community_naive_mean/n002647/epsilon_0.5/png\n"
     ]
    },
    {
     "name": "stderr",
     "output_type": "stream",
     "text": [
      "100%|██████████| 1/1 [00:00<00:00, 12.10it/s]\n",
      "100%|██████████| 1/1 [00:00<00:00, 12.16it/s]\n",
      "100%|██████████| 1/1 [00:00<00:00, 12.18it/s]\n",
      "  0%|          | 0/1 [00:00<?, ?it/s]"
     ]
    },
    {
     "name": "stdout",
     "output_type": "stream",
     "text": [
      "Adding folder /data/vggface/test_perturbed_sampled/n004658/robust_community_naive_mean/n009288/epsilon_0.5/png\n",
      "Adding folder /data/vggface/test_perturbed_sampled/n004658/robust_community_naive_mean/n005427/epsilon_0.5/png\n",
      "Adding folder /data/vggface/test_perturbed_sampled/n004658/robust_community_naive_mean/n002763/epsilon_0.5/png\n"
     ]
    },
    {
     "name": "stderr",
     "output_type": "stream",
     "text": [
      "100%|██████████| 1/1 [00:00<00:00, 12.06it/s]\n",
      "100%|██████████| 1/1 [00:00<00:00, 12.21it/s]\n",
      "100%|██████████| 1/1 [00:00<00:00, 12.14it/s]\n",
      "  0%|          | 0/1 [00:00<?, ?it/s]"
     ]
    },
    {
     "name": "stdout",
     "output_type": "stream",
     "text": [
      "Adding folder /data/vggface/test_perturbed_sampled/n004658/robust_community_naive_mean/n002503/epsilon_0.5/png\n",
      "Adding folder /data/vggface/test_perturbed_sampled/n004658/robust_community_naive_mean/n003215/epsilon_0.5/png\n",
      "Adding folder /data/vggface/test_perturbed_sampled/n004658/robust_community_naive_mean/n005359/epsilon_0.5/png\n"
     ]
    },
    {
     "name": "stderr",
     "output_type": "stream",
     "text": [
      "100%|██████████| 1/1 [00:00<00:00, 12.00it/s]\n",
      "100%|██████████| 1/1 [00:00<00:00, 12.26it/s]\n",
      "100%|██████████| 1/1 [00:00<00:00, 12.12it/s]\n",
      "  0%|          | 0/1 [00:00<?, ?it/s]"
     ]
    },
    {
     "name": "stdout",
     "output_type": "stream",
     "text": [
      "Adding folder /data/vggface/test_perturbed_sampled/n004658/robust_community_naive_mean/n005303/epsilon_0.5/png\n",
      "Adding folder /data/vggface/test_perturbed_sampled/n004658/robust_community_naive_mean/n007548/epsilon_0.5/png\n",
      "Adding folder /data/vggface/test_perturbed_sampled/n004658/robust_community_naive_mean/n000029/epsilon_0.5/png\n"
     ]
    },
    {
     "name": "stderr",
     "output_type": "stream",
     "text": [
      "100%|██████████| 1/1 [00:00<00:00, 12.02it/s]\n",
      "100%|██████████| 1/1 [00:00<00:00, 12.06it/s]\n",
      "100%|██████████| 1/1 [00:00<00:00, 12.15it/s]\n",
      "  0%|          | 0/1 [00:00<?, ?it/s]"
     ]
    },
    {
     "name": "stdout",
     "output_type": "stream",
     "text": [
      "Adding folder /data/vggface/test_perturbed_sampled/n004658/robust_community_naive_mean/n009114/epsilon_0.5/png\n",
      "Adding folder /data/vggface/test_perturbed_sampled/n001683/robust_community_naive_mean/n001781/epsilon_0.0/png\n",
      "Adding folder /data/vggface/test_perturbed_sampled/n001683/robust_community_naive_mean/n001781/epsilon_0.5/png\n"
     ]
    },
    {
     "name": "stderr",
     "output_type": "stream",
     "text": [
      "100%|██████████| 1/1 [00:00<00:00, 12.02it/s]\n",
      "100%|██████████| 1/1 [00:00<00:00, 12.10it/s]\n",
      "100%|██████████| 1/1 [00:00<00:00, 12.00it/s]\n",
      "  0%|          | 0/1 [00:00<?, ?it/s]"
     ]
    },
    {
     "name": "stdout",
     "output_type": "stream",
     "text": [
      "Adding folder /data/vggface/test_perturbed_sampled/n001683/robust_community_naive_mean/n009232/epsilon_0.5/png\n",
      "Adding folder /data/vggface/test_perturbed_sampled/n001683/robust_community_naive_mean/n000958/epsilon_0.5/png\n",
      "Adding folder /data/vggface/test_perturbed_sampled/n001683/robust_community_naive_mean/n003356/epsilon_0.5/png\n"
     ]
    },
    {
     "name": "stderr",
     "output_type": "stream",
     "text": [
      "100%|██████████| 1/1 [00:00<00:00, 12.20it/s]\n",
      "100%|██████████| 1/1 [00:00<00:00, 12.23it/s]\n",
      "100%|██████████| 1/1 [00:00<00:00, 12.25it/s]\n",
      "  0%|          | 0/1 [00:00<?, ?it/s]"
     ]
    },
    {
     "name": "stdout",
     "output_type": "stream",
     "text": [
      "Adding folder /data/vggface/test_perturbed_sampled/n001683/robust_community_naive_mean/n008655/epsilon_0.5/png\n",
      "Adding folder /data/vggface/test_perturbed_sampled/n001683/robust_community_naive_mean/n008613/epsilon_0.5/png\n",
      "Adding folder /data/vggface/test_perturbed_sampled/n001683/robust_community_naive_mean/n004658/epsilon_0.5/png\n"
     ]
    },
    {
     "name": "stderr",
     "output_type": "stream",
     "text": [
      "100%|██████████| 1/1 [00:00<00:00, 11.03it/s]\n",
      "100%|██████████| 1/1 [00:00<00:00, 11.70it/s]\n",
      "100%|██████████| 1/1 [00:00<00:00, 12.14it/s]\n",
      "  0%|          | 0/1 [00:00<?, ?it/s]"
     ]
    },
    {
     "name": "stdout",
     "output_type": "stream",
     "text": [
      "Adding folder /data/vggface/test_perturbed_sampled/n001683/robust_community_naive_mean/n002647/epsilon_0.5/png\n",
      "Adding folder /data/vggface/test_perturbed_sampled/n001683/robust_community_naive_mean/n009288/epsilon_0.5/png\n",
      "Adding folder /data/vggface/test_perturbed_sampled/n001683/robust_community_naive_mean/n005427/epsilon_0.5/png\n"
     ]
    },
    {
     "name": "stderr",
     "output_type": "stream",
     "text": [
      "100%|██████████| 1/1 [00:00<00:00, 12.11it/s]\n",
      "100%|██████████| 1/1 [00:00<00:00, 12.14it/s]\n",
      "100%|██████████| 1/1 [00:00<00:00, 12.14it/s]\n",
      "  0%|          | 0/1 [00:00<?, ?it/s]"
     ]
    },
    {
     "name": "stdout",
     "output_type": "stream",
     "text": [
      "Adding folder /data/vggface/test_perturbed_sampled/n001683/robust_community_naive_mean/n002763/epsilon_0.5/png\n",
      "Adding folder /data/vggface/test_perturbed_sampled/n001683/robust_community_naive_mean/n002503/epsilon_0.5/png\n",
      "Adding folder /data/vggface/test_perturbed_sampled/n001683/robust_community_naive_mean/n003215/epsilon_0.5/png\n"
     ]
    },
    {
     "name": "stderr",
     "output_type": "stream",
     "text": [
      "100%|██████████| 1/1 [00:00<00:00, 12.04it/s]\n",
      "100%|██████████| 1/1 [00:00<00:00, 12.14it/s]\n",
      "100%|██████████| 1/1 [00:00<00:00, 12.12it/s]\n",
      "  0%|          | 0/1 [00:00<?, ?it/s]"
     ]
    },
    {
     "name": "stdout",
     "output_type": "stream",
     "text": [
      "Adding folder /data/vggface/test_perturbed_sampled/n001683/robust_community_naive_mean/n005359/epsilon_0.5/png\n",
      "Adding folder /data/vggface/test_perturbed_sampled/n001683/robust_community_naive_mean/n005303/epsilon_0.5/png\n",
      "Adding folder /data/vggface/test_perturbed_sampled/n001683/robust_community_naive_mean/n007548/epsilon_0.5/png\n"
     ]
    },
    {
     "name": "stderr",
     "output_type": "stream",
     "text": [
      "100%|██████████| 1/1 [00:00<00:00, 12.03it/s]\n",
      "100%|██████████| 1/1 [00:00<00:00, 12.02it/s]\n",
      "100%|██████████| 1/1 [00:00<00:00, 12.02it/s]\n",
      "  0%|          | 0/1 [00:00<?, ?it/s]"
     ]
    },
    {
     "name": "stdout",
     "output_type": "stream",
     "text": [
      "Adding folder /data/vggface/test_perturbed_sampled/n001683/robust_community_naive_mean/n000029/epsilon_0.5/png\n",
      "Adding folder /data/vggface/test_perturbed_sampled/n001683/robust_community_naive_mean/n009114/epsilon_0.5/png\n",
      "Adding folder /data/vggface/test_perturbed_sampled/n002647/robust_community_naive_mean/n001781/epsilon_0.0/png\n"
     ]
    },
    {
     "name": "stderr",
     "output_type": "stream",
     "text": [
      "100%|██████████| 1/1 [00:00<00:00, 12.00it/s]\n",
      "100%|██████████| 1/1 [00:00<00:00,  5.38it/s]\n",
      "  0%|          | 0/1 [00:00<?, ?it/s]"
     ]
    },
    {
     "name": "stdout",
     "output_type": "stream",
     "text": [
      "Adding folder /data/vggface/test_perturbed_sampled/n002647/robust_community_naive_mean/n001781/epsilon_0.5/png\n",
      "Adding folder /data/vggface/test_perturbed_sampled/n002647/robust_community_naive_mean/n009232/epsilon_0.5/png\n"
     ]
    },
    {
     "name": "stderr",
     "output_type": "stream",
     "text": [
      "100%|██████████| 1/1 [00:00<00:00, 11.92it/s]\n",
      "100%|██████████| 1/1 [00:00<00:00, 12.05it/s]\n",
      "100%|██████████| 1/1 [00:00<00:00, 12.09it/s]\n",
      "  0%|          | 0/1 [00:00<?, ?it/s]"
     ]
    },
    {
     "name": "stdout",
     "output_type": "stream",
     "text": [
      "Adding folder /data/vggface/test_perturbed_sampled/n002647/robust_community_naive_mean/n000958/epsilon_0.5/png\n",
      "Adding folder /data/vggface/test_perturbed_sampled/n002647/robust_community_naive_mean/n003356/epsilon_0.5/png\n",
      "Adding folder /data/vggface/test_perturbed_sampled/n002647/robust_community_naive_mean/n008655/epsilon_0.5/png\n"
     ]
    },
    {
     "name": "stderr",
     "output_type": "stream",
     "text": [
      "100%|██████████| 1/1 [00:00<00:00, 12.01it/s]\n",
      "100%|██████████| 1/1 [00:00<00:00, 12.08it/s]\n",
      "100%|██████████| 1/1 [00:00<00:00, 12.08it/s]\n",
      "  0%|          | 0/1 [00:00<?, ?it/s]"
     ]
    },
    {
     "name": "stdout",
     "output_type": "stream",
     "text": [
      "Adding folder /data/vggface/test_perturbed_sampled/n002647/robust_community_naive_mean/n008613/epsilon_0.5/png\n",
      "Adding folder /data/vggface/test_perturbed_sampled/n002647/robust_community_naive_mean/n004658/epsilon_0.5/png\n",
      "Adding folder /data/vggface/test_perturbed_sampled/n002647/robust_community_naive_mean/n001683/epsilon_0.5/png\n"
     ]
    },
    {
     "name": "stderr",
     "output_type": "stream",
     "text": [
      "100%|██████████| 1/1 [00:00<00:00, 12.07it/s]\n",
      "100%|██████████| 1/1 [00:00<00:00, 12.06it/s]\n",
      "100%|██████████| 1/1 [00:00<00:00, 12.12it/s]\n",
      "  0%|          | 0/1 [00:00<?, ?it/s]"
     ]
    },
    {
     "name": "stdout",
     "output_type": "stream",
     "text": [
      "Adding folder /data/vggface/test_perturbed_sampled/n002647/robust_community_naive_mean/n009288/epsilon_0.5/png\n",
      "Adding folder /data/vggface/test_perturbed_sampled/n002647/robust_community_naive_mean/n005427/epsilon_0.5/png\n",
      "Adding folder /data/vggface/test_perturbed_sampled/n002647/robust_community_naive_mean/n002763/epsilon_0.5/png\n"
     ]
    },
    {
     "name": "stderr",
     "output_type": "stream",
     "text": [
      "100%|██████████| 1/1 [00:00<00:00, 12.04it/s]\n",
      "100%|██████████| 1/1 [00:00<00:00, 12.08it/s]\n",
      "100%|██████████| 1/1 [00:00<00:00, 12.14it/s]\n",
      "  0%|          | 0/1 [00:00<?, ?it/s]"
     ]
    },
    {
     "name": "stdout",
     "output_type": "stream",
     "text": [
      "Adding folder /data/vggface/test_perturbed_sampled/n002647/robust_community_naive_mean/n002503/epsilon_0.5/png\n",
      "Adding folder /data/vggface/test_perturbed_sampled/n002647/robust_community_naive_mean/n003215/epsilon_0.5/png\n",
      "Adding folder /data/vggface/test_perturbed_sampled/n002647/robust_community_naive_mean/n005359/epsilon_0.5/png\n"
     ]
    },
    {
     "name": "stderr",
     "output_type": "stream",
     "text": [
      "100%|██████████| 1/1 [00:00<00:00, 12.05it/s]\n",
      "100%|██████████| 1/1 [00:00<00:00, 12.06it/s]\n",
      "100%|██████████| 1/1 [00:00<00:00, 12.07it/s]\n",
      "  0%|          | 0/1 [00:00<?, ?it/s]"
     ]
    },
    {
     "name": "stdout",
     "output_type": "stream",
     "text": [
      "Adding folder /data/vggface/test_perturbed_sampled/n002647/robust_community_naive_mean/n005303/epsilon_0.5/png\n",
      "Adding folder /data/vggface/test_perturbed_sampled/n002647/robust_community_naive_mean/n007548/epsilon_0.5/png\n",
      "Adding folder /data/vggface/test_perturbed_sampled/n002647/robust_community_naive_mean/n000029/epsilon_0.5/png\n"
     ]
    },
    {
     "name": "stderr",
     "output_type": "stream",
     "text": [
      "100%|██████████| 1/1 [00:00<00:00, 12.08it/s]\n",
      "100%|██████████| 1/1 [00:00<00:00, 12.07it/s]\n",
      "100%|██████████| 1/1 [00:00<00:00, 12.13it/s]\n",
      "  0%|          | 0/1 [00:00<?, ?it/s]"
     ]
    },
    {
     "name": "stdout",
     "output_type": "stream",
     "text": [
      "Adding folder /data/vggface/test_perturbed_sampled/n002647/robust_community_naive_mean/n009114/epsilon_0.5/png\n",
      "Adding folder /data/vggface/test_perturbed_sampled/n009288/robust_community_naive_mean/n001781/epsilon_0.0/png\n",
      "Adding folder /data/vggface/test_perturbed_sampled/n009288/robust_community_naive_mean/n001781/epsilon_0.5/png\n"
     ]
    },
    {
     "name": "stderr",
     "output_type": "stream",
     "text": [
      "100%|██████████| 1/1 [00:00<00:00, 11.93it/s]\n",
      "100%|██████████| 1/1 [00:00<00:00, 12.01it/s]\n",
      "100%|██████████| 1/1 [00:00<00:00, 12.03it/s]\n",
      "  0%|          | 0/1 [00:00<?, ?it/s]"
     ]
    },
    {
     "name": "stdout",
     "output_type": "stream",
     "text": [
      "Adding folder /data/vggface/test_perturbed_sampled/n009288/robust_community_naive_mean/n009232/epsilon_0.5/png\n",
      "Adding folder /data/vggface/test_perturbed_sampled/n009288/robust_community_naive_mean/n000958/epsilon_0.5/png\n",
      "Adding folder /data/vggface/test_perturbed_sampled/n009288/robust_community_naive_mean/n003356/epsilon_0.5/png\n"
     ]
    },
    {
     "name": "stderr",
     "output_type": "stream",
     "text": [
      "100%|██████████| 1/1 [00:00<00:00, 12.01it/s]\n",
      "100%|██████████| 1/1 [00:00<00:00, 12.14it/s]\n",
      "100%|██████████| 1/1 [00:00<00:00, 12.18it/s]\n",
      "  0%|          | 0/1 [00:00<?, ?it/s]"
     ]
    },
    {
     "name": "stdout",
     "output_type": "stream",
     "text": [
      "Adding folder /data/vggface/test_perturbed_sampled/n009288/robust_community_naive_mean/n008655/epsilon_0.5/png\n",
      "Adding folder /data/vggface/test_perturbed_sampled/n009288/robust_community_naive_mean/n008613/epsilon_0.5/png\n",
      "Adding folder /data/vggface/test_perturbed_sampled/n009288/robust_community_naive_mean/n004658/epsilon_0.5/png\n"
     ]
    },
    {
     "name": "stderr",
     "output_type": "stream",
     "text": [
      "100%|██████████| 1/1 [00:00<00:00, 12.05it/s]\n",
      "100%|██████████| 1/1 [00:00<00:00, 12.18it/s]\n",
      "100%|██████████| 1/1 [00:00<00:00, 12.17it/s]\n",
      "  0%|          | 0/1 [00:00<?, ?it/s]"
     ]
    },
    {
     "name": "stdout",
     "output_type": "stream",
     "text": [
      "Adding folder /data/vggface/test_perturbed_sampled/n009288/robust_community_naive_mean/n001683/epsilon_0.5/png\n",
      "Adding folder /data/vggface/test_perturbed_sampled/n009288/robust_community_naive_mean/n002647/epsilon_0.5/png\n",
      "Adding folder /data/vggface/test_perturbed_sampled/n009288/robust_community_naive_mean/n005427/epsilon_0.5/png\n"
     ]
    },
    {
     "name": "stderr",
     "output_type": "stream",
     "text": [
      "100%|██████████| 1/1 [00:00<00:00, 12.10it/s]\n",
      "100%|██████████| 1/1 [00:00<00:00, 12.20it/s]\n",
      "100%|██████████| 1/1 [00:00<00:00, 12.23it/s]\n",
      "  0%|          | 0/1 [00:00<?, ?it/s]"
     ]
    },
    {
     "name": "stdout",
     "output_type": "stream",
     "text": [
      "Adding folder /data/vggface/test_perturbed_sampled/n009288/robust_community_naive_mean/n002763/epsilon_0.5/png\n",
      "Adding folder /data/vggface/test_perturbed_sampled/n009288/robust_community_naive_mean/n002503/epsilon_0.5/png\n",
      "Adding folder /data/vggface/test_perturbed_sampled/n009288/robust_community_naive_mean/n003215/epsilon_0.5/png\n"
     ]
    },
    {
     "name": "stderr",
     "output_type": "stream",
     "text": [
      "100%|██████████| 1/1 [00:00<00:00, 12.11it/s]\n",
      "100%|██████████| 1/1 [00:00<00:00, 12.17it/s]\n",
      "100%|██████████| 1/1 [00:00<00:00, 12.15it/s]\n",
      "  0%|          | 0/1 [00:00<?, ?it/s]"
     ]
    },
    {
     "name": "stdout",
     "output_type": "stream",
     "text": [
      "Adding folder /data/vggface/test_perturbed_sampled/n009288/robust_community_naive_mean/n005359/epsilon_0.5/png\n",
      "Adding folder /data/vggface/test_perturbed_sampled/n009288/robust_community_naive_mean/n005303/epsilon_0.5/png\n",
      "Adding folder /data/vggface/test_perturbed_sampled/n009288/robust_community_naive_mean/n007548/epsilon_0.5/png\n"
     ]
    },
    {
     "name": "stderr",
     "output_type": "stream",
     "text": [
      "100%|██████████| 1/1 [00:00<00:00, 12.14it/s]\n",
      "100%|██████████| 1/1 [00:00<00:00, 12.15it/s]\n",
      "100%|██████████| 1/1 [00:00<00:00, 12.16it/s]\n",
      "  0%|          | 0/1 [00:00<?, ?it/s]"
     ]
    },
    {
     "name": "stdout",
     "output_type": "stream",
     "text": [
      "Adding folder /data/vggface/test_perturbed_sampled/n009288/robust_community_naive_mean/n000029/epsilon_0.5/png\n",
      "Adding folder /data/vggface/test_perturbed_sampled/n009288/robust_community_naive_mean/n009114/epsilon_0.5/png\n",
      "Adding folder /data/vggface/test_perturbed_sampled/n005427/robust_community_naive_mean/n001781/epsilon_0.0/png\n"
     ]
    },
    {
     "name": "stderr",
     "output_type": "stream",
     "text": [
      "100%|██████████| 1/1 [00:00<00:00, 12.17it/s]\n",
      "100%|██████████| 1/1 [00:00<00:00, 12.18it/s]\n",
      "100%|██████████| 1/1 [00:00<00:00, 12.21it/s]\n",
      "  0%|          | 0/1 [00:00<?, ?it/s]"
     ]
    },
    {
     "name": "stdout",
     "output_type": "stream",
     "text": [
      "Adding folder /data/vggface/test_perturbed_sampled/n005427/robust_community_naive_mean/n001781/epsilon_0.5/png\n",
      "Adding folder /data/vggface/test_perturbed_sampled/n005427/robust_community_naive_mean/n009232/epsilon_0.5/png\n",
      "Adding folder /data/vggface/test_perturbed_sampled/n005427/robust_community_naive_mean/n000958/epsilon_0.5/png\n"
     ]
    },
    {
     "name": "stderr",
     "output_type": "stream",
     "text": [
      "100%|██████████| 1/1 [00:00<00:00, 12.16it/s]\n",
      "100%|██████████| 1/1 [00:00<00:00, 12.26it/s]\n",
      "100%|██████████| 1/1 [00:00<00:00, 12.21it/s]\n",
      "  0%|          | 0/1 [00:00<?, ?it/s]"
     ]
    },
    {
     "name": "stdout",
     "output_type": "stream",
     "text": [
      "Adding folder /data/vggface/test_perturbed_sampled/n005427/robust_community_naive_mean/n003356/epsilon_0.5/png\n",
      "Adding folder /data/vggface/test_perturbed_sampled/n005427/robust_community_naive_mean/n008655/epsilon_0.5/png\n",
      "Adding folder /data/vggface/test_perturbed_sampled/n005427/robust_community_naive_mean/n008613/epsilon_0.5/png\n"
     ]
    },
    {
     "name": "stderr",
     "output_type": "stream",
     "text": [
      "100%|██████████| 1/1 [00:00<00:00, 12.15it/s]\n",
      "100%|██████████| 1/1 [00:00<00:00, 12.20it/s]\n",
      "100%|██████████| 1/1 [00:00<00:00, 12.16it/s]\n",
      "  0%|          | 0/1 [00:00<?, ?it/s]"
     ]
    },
    {
     "name": "stdout",
     "output_type": "stream",
     "text": [
      "Adding folder /data/vggface/test_perturbed_sampled/n005427/robust_community_naive_mean/n004658/epsilon_0.5/png\n",
      "Adding folder /data/vggface/test_perturbed_sampled/n005427/robust_community_naive_mean/n001683/epsilon_0.5/png\n",
      "Adding folder /data/vggface/test_perturbed_sampled/n005427/robust_community_naive_mean/n002647/epsilon_0.5/png\n"
     ]
    },
    {
     "name": "stderr",
     "output_type": "stream",
     "text": [
      "100%|██████████| 1/1 [00:00<00:00, 12.08it/s]\n",
      "100%|██████████| 1/1 [00:00<00:00, 12.17it/s]\n",
      "100%|██████████| 1/1 [00:00<00:00, 12.19it/s]\n",
      "  0%|          | 0/1 [00:00<?, ?it/s]"
     ]
    },
    {
     "name": "stdout",
     "output_type": "stream",
     "text": [
      "Adding folder /data/vggface/test_perturbed_sampled/n005427/robust_community_naive_mean/n009288/epsilon_0.5/png\n",
      "Adding folder /data/vggface/test_perturbed_sampled/n005427/robust_community_naive_mean/n002763/epsilon_0.5/png\n",
      "Adding folder /data/vggface/test_perturbed_sampled/n005427/robust_community_naive_mean/n002503/epsilon_0.5/png\n"
     ]
    },
    {
     "name": "stderr",
     "output_type": "stream",
     "text": [
      "100%|██████████| 1/1 [00:00<00:00, 12.16it/s]\n",
      "100%|██████████| 1/1 [00:00<00:00, 12.18it/s]\n",
      "100%|██████████| 1/1 [00:00<00:00, 12.21it/s]\n",
      "  0%|          | 0/1 [00:00<?, ?it/s]"
     ]
    },
    {
     "name": "stdout",
     "output_type": "stream",
     "text": [
      "Adding folder /data/vggface/test_perturbed_sampled/n005427/robust_community_naive_mean/n003215/epsilon_0.5/png\n",
      "Adding folder /data/vggface/test_perturbed_sampled/n005427/robust_community_naive_mean/n005359/epsilon_0.5/png\n",
      "Adding folder /data/vggface/test_perturbed_sampled/n005427/robust_community_naive_mean/n005303/epsilon_0.5/png\n"
     ]
    },
    {
     "name": "stderr",
     "output_type": "stream",
     "text": [
      "100%|██████████| 1/1 [00:00<00:00, 12.11it/s]\n",
      "100%|██████████| 1/1 [00:00<00:00, 12.19it/s]\n",
      "100%|██████████| 1/1 [00:00<00:00, 12.18it/s]\n",
      "  0%|          | 0/1 [00:00<?, ?it/s]"
     ]
    },
    {
     "name": "stdout",
     "output_type": "stream",
     "text": [
      "Adding folder /data/vggface/test_perturbed_sampled/n005427/robust_community_naive_mean/n007548/epsilon_0.5/png\n",
      "Adding folder /data/vggface/test_perturbed_sampled/n005427/robust_community_naive_mean/n000029/epsilon_0.5/png\n",
      "Adding folder /data/vggface/test_perturbed_sampled/n005427/robust_community_naive_mean/n009114/epsilon_0.5/png\n"
     ]
    },
    {
     "name": "stderr",
     "output_type": "stream",
     "text": [
      "100%|██████████| 1/1 [00:00<00:00, 12.11it/s]\n",
      "100%|██████████| 1/1 [00:00<00:00, 12.17it/s]\n",
      "100%|██████████| 1/1 [00:00<00:00, 12.18it/s]\n",
      "  0%|          | 0/1 [00:00<?, ?it/s]"
     ]
    },
    {
     "name": "stdout",
     "output_type": "stream",
     "text": [
      "Adding folder /data/vggface/test_perturbed_sampled/n002763/robust_community_naive_mean/n001781/epsilon_0.0/png\n",
      "Adding folder /data/vggface/test_perturbed_sampled/n002763/robust_community_naive_mean/n001781/epsilon_0.5/png\n",
      "Adding folder /data/vggface/test_perturbed_sampled/n002763/robust_community_naive_mean/n009232/epsilon_0.5/png\n"
     ]
    },
    {
     "name": "stderr",
     "output_type": "stream",
     "text": [
      "100%|██████████| 1/1 [00:00<00:00, 12.15it/s]\n",
      "100%|██████████| 1/1 [00:00<00:00, 12.12it/s]\n",
      "100%|██████████| 1/1 [00:00<00:00, 12.11it/s]\n",
      "  0%|          | 0/1 [00:00<?, ?it/s]"
     ]
    },
    {
     "name": "stdout",
     "output_type": "stream",
     "text": [
      "Adding folder /data/vggface/test_perturbed_sampled/n002763/robust_community_naive_mean/n000958/epsilon_0.5/png\n",
      "Adding folder /data/vggface/test_perturbed_sampled/n002763/robust_community_naive_mean/n003356/epsilon_0.5/png\n",
      "Adding folder /data/vggface/test_perturbed_sampled/n002763/robust_community_naive_mean/n008655/epsilon_0.5/png\n"
     ]
    },
    {
     "name": "stderr",
     "output_type": "stream",
     "text": [
      "100%|██████████| 1/1 [00:00<00:00, 12.08it/s]\n",
      "100%|██████████| 1/1 [00:00<00:00, 12.19it/s]\n",
      "100%|██████████| 1/1 [00:00<00:00, 12.03it/s]\n",
      "  0%|          | 0/1 [00:00<?, ?it/s]"
     ]
    },
    {
     "name": "stdout",
     "output_type": "stream",
     "text": [
      "Adding folder /data/vggface/test_perturbed_sampled/n002763/robust_community_naive_mean/n008613/epsilon_0.5/png\n",
      "Adding folder /data/vggface/test_perturbed_sampled/n002763/robust_community_naive_mean/n004658/epsilon_0.5/png\n",
      "Adding folder /data/vggface/test_perturbed_sampled/n002763/robust_community_naive_mean/n001683/epsilon_0.5/png\n"
     ]
    },
    {
     "name": "stderr",
     "output_type": "stream",
     "text": [
      "100%|██████████| 1/1 [00:00<00:00, 12.09it/s]\n",
      "100%|██████████| 1/1 [00:00<00:00, 12.13it/s]\n",
      "100%|██████████| 1/1 [00:00<00:00, 12.12it/s]\n",
      "  0%|          | 0/1 [00:00<?, ?it/s]"
     ]
    },
    {
     "name": "stdout",
     "output_type": "stream",
     "text": [
      "Adding folder /data/vggface/test_perturbed_sampled/n002763/robust_community_naive_mean/n002647/epsilon_0.5/png\n",
      "Adding folder /data/vggface/test_perturbed_sampled/n002763/robust_community_naive_mean/n009288/epsilon_0.5/png\n",
      "Adding folder /data/vggface/test_perturbed_sampled/n002763/robust_community_naive_mean/n005427/epsilon_0.5/png\n"
     ]
    },
    {
     "name": "stderr",
     "output_type": "stream",
     "text": [
      "100%|██████████| 1/1 [00:00<00:00, 11.89it/s]\n",
      "100%|██████████| 1/1 [00:00<00:00, 12.13it/s]\n",
      "100%|██████████| 1/1 [00:00<00:00, 12.19it/s]\n",
      "  0%|          | 0/1 [00:00<?, ?it/s]"
     ]
    },
    {
     "name": "stdout",
     "output_type": "stream",
     "text": [
      "Adding folder /data/vggface/test_perturbed_sampled/n002763/robust_community_naive_mean/n002503/epsilon_0.5/png\n",
      "Adding folder /data/vggface/test_perturbed_sampled/n002763/robust_community_naive_mean/n003215/epsilon_0.5/png\n",
      "Adding folder /data/vggface/test_perturbed_sampled/n002763/robust_community_naive_mean/n005359/epsilon_0.5/png\n"
     ]
    },
    {
     "name": "stderr",
     "output_type": "stream",
     "text": [
      "100%|██████████| 1/1 [00:00<00:00, 12.12it/s]\n",
      "100%|██████████| 1/1 [00:00<00:00, 12.23it/s]\n",
      "100%|██████████| 1/1 [00:00<00:00, 11.08it/s]\n",
      "  0%|          | 0/1 [00:00<?, ?it/s]"
     ]
    },
    {
     "name": "stdout",
     "output_type": "stream",
     "text": [
      "Adding folder /data/vggface/test_perturbed_sampled/n002763/robust_community_naive_mean/n005303/epsilon_0.5/png\n",
      "Adding folder /data/vggface/test_perturbed_sampled/n002763/robust_community_naive_mean/n007548/epsilon_0.5/png\n",
      "Adding folder /data/vggface/test_perturbed_sampled/n002763/robust_community_naive_mean/n000029/epsilon_0.5/png\n"
     ]
    },
    {
     "name": "stderr",
     "output_type": "stream",
     "text": [
      "100%|██████████| 1/1 [00:00<00:00, 10.70it/s]\n",
      "100%|██████████| 1/1 [00:00<00:00, 11.97it/s]\n",
      "100%|██████████| 1/1 [00:00<00:00, 11.87it/s]\n",
      "  0%|          | 0/1 [00:00<?, ?it/s]"
     ]
    },
    {
     "name": "stdout",
     "output_type": "stream",
     "text": [
      "Adding folder /data/vggface/test_perturbed_sampled/n002763/robust_community_naive_mean/n009114/epsilon_0.5/png\n",
      "Adding folder /data/vggface/test_perturbed_sampled/n002503/robust_community_naive_mean/n001781/epsilon_0.0/png\n",
      "Adding folder /data/vggface/test_perturbed_sampled/n002503/robust_community_naive_mean/n001781/epsilon_0.5/png\n"
     ]
    },
    {
     "name": "stderr",
     "output_type": "stream",
     "text": [
      "100%|██████████| 1/1 [00:00<00:00, 11.91it/s]\n",
      "100%|██████████| 1/1 [00:00<00:00, 12.00it/s]\n",
      "100%|██████████| 1/1 [00:00<00:00, 12.04it/s]\n",
      "  0%|          | 0/1 [00:00<?, ?it/s]"
     ]
    },
    {
     "name": "stdout",
     "output_type": "stream",
     "text": [
      "Adding folder /data/vggface/test_perturbed_sampled/n002503/robust_community_naive_mean/n009232/epsilon_0.5/png\n",
      "Adding folder /data/vggface/test_perturbed_sampled/n002503/robust_community_naive_mean/n000958/epsilon_0.5/png\n",
      "Adding folder /data/vggface/test_perturbed_sampled/n002503/robust_community_naive_mean/n003356/epsilon_0.5/png\n"
     ]
    },
    {
     "name": "stderr",
     "output_type": "stream",
     "text": [
      "100%|██████████| 1/1 [00:00<00:00, 11.95it/s]\n",
      "100%|██████████| 1/1 [00:00<00:00, 11.99it/s]\n",
      "100%|██████████| 1/1 [00:00<00:00, 12.01it/s]\n",
      "  0%|          | 0/1 [00:00<?, ?it/s]"
     ]
    },
    {
     "name": "stdout",
     "output_type": "stream",
     "text": [
      "Adding folder /data/vggface/test_perturbed_sampled/n002503/robust_community_naive_mean/n008655/epsilon_0.5/png\n",
      "Adding folder /data/vggface/test_perturbed_sampled/n002503/robust_community_naive_mean/n008613/epsilon_0.5/png\n",
      "Adding folder /data/vggface/test_perturbed_sampled/n002503/robust_community_naive_mean/n004658/epsilon_0.5/png\n"
     ]
    },
    {
     "name": "stderr",
     "output_type": "stream",
     "text": [
      "100%|██████████| 1/1 [00:00<00:00, 12.14it/s]\n",
      "100%|██████████| 1/1 [00:00<00:00, 12.21it/s]\n",
      "100%|██████████| 1/1 [00:00<00:00, 12.21it/s]\n",
      "  0%|          | 0/1 [00:00<?, ?it/s]"
     ]
    },
    {
     "name": "stdout",
     "output_type": "stream",
     "text": [
      "Adding folder /data/vggface/test_perturbed_sampled/n002503/robust_community_naive_mean/n001683/epsilon_0.5/png\n",
      "Adding folder /data/vggface/test_perturbed_sampled/n002503/robust_community_naive_mean/n002647/epsilon_0.5/png\n",
      "Adding folder /data/vggface/test_perturbed_sampled/n002503/robust_community_naive_mean/n009288/epsilon_0.5/png\n"
     ]
    },
    {
     "name": "stderr",
     "output_type": "stream",
     "text": [
      "100%|██████████| 1/1 [00:00<00:00, 12.15it/s]\n",
      "100%|██████████| 1/1 [00:00<00:00, 12.20it/s]\n",
      "100%|██████████| 1/1 [00:00<00:00, 12.21it/s]\n",
      "  0%|          | 0/1 [00:00<?, ?it/s]"
     ]
    },
    {
     "name": "stdout",
     "output_type": "stream",
     "text": [
      "Adding folder /data/vggface/test_perturbed_sampled/n002503/robust_community_naive_mean/n005427/epsilon_0.5/png\n",
      "Adding folder /data/vggface/test_perturbed_sampled/n002503/robust_community_naive_mean/n002763/epsilon_0.5/png\n",
      "Adding folder /data/vggface/test_perturbed_sampled/n002503/robust_community_naive_mean/n003215/epsilon_0.5/png\n"
     ]
    },
    {
     "name": "stderr",
     "output_type": "stream",
     "text": [
      "100%|██████████| 1/1 [00:00<00:00, 12.16it/s]\n",
      "100%|██████████| 1/1 [00:00<00:00, 12.09it/s]\n",
      "100%|██████████| 1/1 [00:00<00:00, 12.02it/s]\n",
      "  0%|          | 0/1 [00:00<?, ?it/s]"
     ]
    },
    {
     "name": "stdout",
     "output_type": "stream",
     "text": [
      "Adding folder /data/vggface/test_perturbed_sampled/n002503/robust_community_naive_mean/n005359/epsilon_0.5/png\n",
      "Adding folder /data/vggface/test_perturbed_sampled/n002503/robust_community_naive_mean/n005303/epsilon_0.5/png\n",
      "Adding folder /data/vggface/test_perturbed_sampled/n002503/robust_community_naive_mean/n007548/epsilon_0.5/png\n"
     ]
    },
    {
     "name": "stderr",
     "output_type": "stream",
     "text": [
      "100%|██████████| 1/1 [00:00<00:00, 11.99it/s]\n",
      "100%|██████████| 1/1 [00:00<00:00, 12.04it/s]\n",
      "100%|██████████| 1/1 [00:00<00:00, 12.06it/s]\n",
      "  0%|          | 0/1 [00:00<?, ?it/s]"
     ]
    },
    {
     "name": "stdout",
     "output_type": "stream",
     "text": [
      "Adding folder /data/vggface/test_perturbed_sampled/n002503/robust_community_naive_mean/n000029/epsilon_0.5/png\n",
      "Adding folder /data/vggface/test_perturbed_sampled/n002503/robust_community_naive_mean/n009114/epsilon_0.5/png\n",
      "Adding folder /data/vggface/test_perturbed_sampled/n003215/robust_community_naive_mean/n001781/epsilon_0.0/png\n"
     ]
    },
    {
     "name": "stderr",
     "output_type": "stream",
     "text": [
      "100%|██████████| 1/1 [00:00<00:00, 11.97it/s]\n",
      "100%|██████████| 1/1 [00:00<00:00, 12.04it/s]\n",
      "100%|██████████| 1/1 [00:00<00:00, 12.02it/s]\n",
      "  0%|          | 0/1 [00:00<?, ?it/s]"
     ]
    },
    {
     "name": "stdout",
     "output_type": "stream",
     "text": [
      "Adding folder /data/vggface/test_perturbed_sampled/n003215/robust_community_naive_mean/n001781/epsilon_0.5/png\n",
      "Adding folder /data/vggface/test_perturbed_sampled/n003215/robust_community_naive_mean/n009232/epsilon_0.5/png\n",
      "Adding folder /data/vggface/test_perturbed_sampled/n003215/robust_community_naive_mean/n000958/epsilon_0.5/png\n"
     ]
    },
    {
     "name": "stderr",
     "output_type": "stream",
     "text": [
      "100%|██████████| 1/1 [00:00<00:00, 11.92it/s]\n",
      "100%|██████████| 1/1 [00:00<00:00, 12.02it/s]\n",
      "100%|██████████| 1/1 [00:00<00:00, 12.12it/s]\n",
      "  0%|          | 0/1 [00:00<?, ?it/s]"
     ]
    },
    {
     "name": "stdout",
     "output_type": "stream",
     "text": [
      "Adding folder /data/vggface/test_perturbed_sampled/n003215/robust_community_naive_mean/n003356/epsilon_0.5/png\n",
      "Adding folder /data/vggface/test_perturbed_sampled/n003215/robust_community_naive_mean/n008655/epsilon_0.5/png\n",
      "Adding folder /data/vggface/test_perturbed_sampled/n003215/robust_community_naive_mean/n008613/epsilon_0.5/png\n"
     ]
    },
    {
     "name": "stderr",
     "output_type": "stream",
     "text": [
      "100%|██████████| 1/1 [00:00<00:00, 12.16it/s]\n",
      "100%|██████████| 1/1 [00:00<00:00, 12.21it/s]\n",
      "100%|██████████| 1/1 [00:00<00:00, 12.19it/s]\n",
      "  0%|          | 0/1 [00:00<?, ?it/s]"
     ]
    },
    {
     "name": "stdout",
     "output_type": "stream",
     "text": [
      "Adding folder /data/vggface/test_perturbed_sampled/n003215/robust_community_naive_mean/n004658/epsilon_0.5/png\n",
      "Adding folder /data/vggface/test_perturbed_sampled/n003215/robust_community_naive_mean/n001683/epsilon_0.5/png\n",
      "Adding folder /data/vggface/test_perturbed_sampled/n003215/robust_community_naive_mean/n002647/epsilon_0.5/png\n"
     ]
    },
    {
     "name": "stderr",
     "output_type": "stream",
     "text": [
      "100%|██████████| 1/1 [00:00<00:00, 11.91it/s]\n",
      "100%|██████████| 1/1 [00:00<00:00, 11.92it/s]\n",
      "100%|██████████| 1/1 [00:00<00:00, 11.99it/s]\n",
      "  0%|          | 0/1 [00:00<?, ?it/s]"
     ]
    },
    {
     "name": "stdout",
     "output_type": "stream",
     "text": [
      "Adding folder /data/vggface/test_perturbed_sampled/n003215/robust_community_naive_mean/n009288/epsilon_0.5/png\n",
      "Adding folder /data/vggface/test_perturbed_sampled/n003215/robust_community_naive_mean/n005427/epsilon_0.5/png\n",
      "Adding folder /data/vggface/test_perturbed_sampled/n003215/robust_community_naive_mean/n002763/epsilon_0.5/png\n"
     ]
    },
    {
     "name": "stderr",
     "output_type": "stream",
     "text": [
      "100%|██████████| 1/1 [00:00<00:00, 11.97it/s]\n",
      "100%|██████████| 1/1 [00:00<00:00, 12.06it/s]\n",
      "100%|██████████| 1/1 [00:00<00:00, 12.03it/s]\n",
      "  0%|          | 0/1 [00:00<?, ?it/s]"
     ]
    },
    {
     "name": "stdout",
     "output_type": "stream",
     "text": [
      "Adding folder /data/vggface/test_perturbed_sampled/n003215/robust_community_naive_mean/n002503/epsilon_0.5/png\n",
      "Adding folder /data/vggface/test_perturbed_sampled/n003215/robust_community_naive_mean/n005359/epsilon_0.5/png\n",
      "Adding folder /data/vggface/test_perturbed_sampled/n003215/robust_community_naive_mean/n005303/epsilon_0.5/png\n"
     ]
    },
    {
     "name": "stderr",
     "output_type": "stream",
     "text": [
      "100%|██████████| 1/1 [00:00<00:00, 11.94it/s]\n",
      "100%|██████████| 1/1 [00:00<00:00, 12.02it/s]\n",
      "100%|██████████| 1/1 [00:00<00:00, 12.02it/s]\n",
      "  0%|          | 0/1 [00:00<?, ?it/s]"
     ]
    },
    {
     "name": "stdout",
     "output_type": "stream",
     "text": [
      "Adding folder /data/vggface/test_perturbed_sampled/n003215/robust_community_naive_mean/n007548/epsilon_0.5/png\n",
      "Adding folder /data/vggface/test_perturbed_sampled/n003215/robust_community_naive_mean/n000029/epsilon_0.5/png\n",
      "Adding folder /data/vggface/test_perturbed_sampled/n003215/robust_community_naive_mean/n009114/epsilon_0.5/png\n"
     ]
    },
    {
     "name": "stderr",
     "output_type": "stream",
     "text": [
      "100%|██████████| 1/1 [00:00<00:00, 11.96it/s]\n",
      "100%|██████████| 1/1 [00:00<00:00, 12.08it/s]\n",
      "100%|██████████| 1/1 [00:00<00:00, 12.05it/s]\n",
      "  0%|          | 0/1 [00:00<?, ?it/s]"
     ]
    },
    {
     "name": "stdout",
     "output_type": "stream",
     "text": [
      "Adding folder /data/vggface/test_perturbed_sampled/n005359/robust_community_naive_mean/n001781/epsilon_0.0/png\n",
      "Adding folder /data/vggface/test_perturbed_sampled/n005359/robust_community_naive_mean/n001781/epsilon_0.5/png\n",
      "Adding folder /data/vggface/test_perturbed_sampled/n005359/robust_community_naive_mean/n009232/epsilon_0.5/png\n"
     ]
    },
    {
     "name": "stderr",
     "output_type": "stream",
     "text": [
      "100%|██████████| 1/1 [00:00<00:00, 11.98it/s]\n",
      "100%|██████████| 1/1 [00:00<00:00, 12.05it/s]\n",
      "100%|██████████| 1/1 [00:00<00:00, 10.97it/s]\n",
      "  0%|          | 0/1 [00:00<?, ?it/s]"
     ]
    },
    {
     "name": "stdout",
     "output_type": "stream",
     "text": [
      "Adding folder /data/vggface/test_perturbed_sampled/n005359/robust_community_naive_mean/n000958/epsilon_0.5/png\n",
      "Adding folder /data/vggface/test_perturbed_sampled/n005359/robust_community_naive_mean/n003356/epsilon_0.5/png\n",
      "Adding folder /data/vggface/test_perturbed_sampled/n005359/robust_community_naive_mean/n008655/epsilon_0.5/png\n"
     ]
    },
    {
     "name": "stderr",
     "output_type": "stream",
     "text": [
      "100%|██████████| 1/1 [00:00<00:00, 11.21it/s]\n",
      "100%|██████████| 1/1 [00:00<00:00, 11.99it/s]\n",
      "100%|██████████| 1/1 [00:00<00:00, 11.97it/s]\n",
      "  0%|          | 0/1 [00:00<?, ?it/s]"
     ]
    },
    {
     "name": "stdout",
     "output_type": "stream",
     "text": [
      "Adding folder /data/vggface/test_perturbed_sampled/n005359/robust_community_naive_mean/n008613/epsilon_0.5/png\n",
      "Adding folder /data/vggface/test_perturbed_sampled/n005359/robust_community_naive_mean/n004658/epsilon_0.5/png\n",
      "Adding folder /data/vggface/test_perturbed_sampled/n005359/robust_community_naive_mean/n001683/epsilon_0.5/png\n"
     ]
    },
    {
     "name": "stderr",
     "output_type": "stream",
     "text": [
      "100%|██████████| 1/1 [00:00<00:00, 11.92it/s]\n",
      "100%|██████████| 1/1 [00:00<00:00, 12.03it/s]\n",
      "100%|██████████| 1/1 [00:00<00:00, 12.16it/s]\n",
      "  0%|          | 0/1 [00:00<?, ?it/s]"
     ]
    },
    {
     "name": "stdout",
     "output_type": "stream",
     "text": [
      "Adding folder /data/vggface/test_perturbed_sampled/n005359/robust_community_naive_mean/n002647/epsilon_0.5/png\n",
      "Adding folder /data/vggface/test_perturbed_sampled/n005359/robust_community_naive_mean/n009288/epsilon_0.5/png\n",
      "Adding folder /data/vggface/test_perturbed_sampled/n005359/robust_community_naive_mean/n005427/epsilon_0.5/png\n"
     ]
    },
    {
     "name": "stderr",
     "output_type": "stream",
     "text": [
      "100%|██████████| 1/1 [00:00<00:00, 11.97it/s]\n",
      "100%|██████████| 1/1 [00:00<00:00, 12.11it/s]\n",
      "100%|██████████| 1/1 [00:00<00:00, 12.05it/s]\n",
      "  0%|          | 0/1 [00:00<?, ?it/s]"
     ]
    },
    {
     "name": "stdout",
     "output_type": "stream",
     "text": [
      "Adding folder /data/vggface/test_perturbed_sampled/n005359/robust_community_naive_mean/n002763/epsilon_0.5/png\n",
      "Adding folder /data/vggface/test_perturbed_sampled/n005359/robust_community_naive_mean/n002503/epsilon_0.5/png\n",
      "Adding folder /data/vggface/test_perturbed_sampled/n005359/robust_community_naive_mean/n003215/epsilon_0.5/png\n"
     ]
    },
    {
     "name": "stderr",
     "output_type": "stream",
     "text": [
      "100%|██████████| 1/1 [00:00<00:00, 11.98it/s]\n",
      "100%|██████████| 1/1 [00:00<00:00, 12.13it/s]\n",
      "100%|██████████| 1/1 [00:00<00:00, 12.09it/s]\n",
      "  0%|          | 0/1 [00:00<?, ?it/s]"
     ]
    },
    {
     "name": "stdout",
     "output_type": "stream",
     "text": [
      "Adding folder /data/vggface/test_perturbed_sampled/n005359/robust_community_naive_mean/n005303/epsilon_0.5/png\n",
      "Adding folder /data/vggface/test_perturbed_sampled/n005359/robust_community_naive_mean/n007548/epsilon_0.5/png\n",
      "Adding folder /data/vggface/test_perturbed_sampled/n005359/robust_community_naive_mean/n000029/epsilon_0.5/png\n"
     ]
    },
    {
     "name": "stderr",
     "output_type": "stream",
     "text": [
      "100%|██████████| 1/1 [00:00<00:00, 12.15it/s]\n",
      "100%|██████████| 1/1 [00:00<00:00, 12.22it/s]\n",
      "100%|██████████| 1/1 [00:00<00:00, 12.18it/s]\n",
      "  0%|          | 0/1 [00:00<?, ?it/s]"
     ]
    },
    {
     "name": "stdout",
     "output_type": "stream",
     "text": [
      "Adding folder /data/vggface/test_perturbed_sampled/n005359/robust_community_naive_mean/n009114/epsilon_0.5/png\n",
      "Adding folder /data/vggface/test_perturbed_sampled/n005303/robust_community_naive_mean/n001781/epsilon_0.0/png\n",
      "Adding folder /data/vggface/test_perturbed_sampled/n005303/robust_community_naive_mean/n001781/epsilon_0.5/png\n"
     ]
    },
    {
     "name": "stderr",
     "output_type": "stream",
     "text": [
      "100%|██████████| 1/1 [00:00<00:00, 12.20it/s]\n",
      "100%|██████████| 1/1 [00:00<00:00, 12.19it/s]\n",
      "100%|██████████| 1/1 [00:00<00:00, 11.41it/s]\n",
      "  0%|          | 0/1 [00:00<?, ?it/s]"
     ]
    },
    {
     "name": "stdout",
     "output_type": "stream",
     "text": [
      "Adding folder /data/vggface/test_perturbed_sampled/n005303/robust_community_naive_mean/n009232/epsilon_0.5/png\n",
      "Adding folder /data/vggface/test_perturbed_sampled/n005303/robust_community_naive_mean/n000958/epsilon_0.5/png\n",
      "Adding folder /data/vggface/test_perturbed_sampled/n005303/robust_community_naive_mean/n003356/epsilon_0.5/png\n"
     ]
    },
    {
     "name": "stderr",
     "output_type": "stream",
     "text": [
      "100%|██████████| 1/1 [00:00<00:00, 12.02it/s]\n",
      "100%|██████████| 1/1 [00:00<00:00, 12.08it/s]\n",
      "100%|██████████| 1/1 [00:00<00:00, 11.13it/s]\n",
      "  0%|          | 0/1 [00:00<?, ?it/s]"
     ]
    },
    {
     "name": "stdout",
     "output_type": "stream",
     "text": [
      "Adding folder /data/vggface/test_perturbed_sampled/n005303/robust_community_naive_mean/n008655/epsilon_0.5/png\n",
      "Adding folder /data/vggface/test_perturbed_sampled/n005303/robust_community_naive_mean/n008613/epsilon_0.5/png\n",
      "Adding folder /data/vggface/test_perturbed_sampled/n005303/robust_community_naive_mean/n004658/epsilon_0.5/png\n"
     ]
    },
    {
     "name": "stderr",
     "output_type": "stream",
     "text": [
      "100%|██████████| 1/1 [00:00<00:00, 11.03it/s]\n",
      "100%|██████████| 1/1 [00:00<00:00, 12.18it/s]\n",
      "100%|██████████| 1/1 [00:00<00:00, 12.28it/s]\n",
      "  0%|          | 0/1 [00:00<?, ?it/s]"
     ]
    },
    {
     "name": "stdout",
     "output_type": "stream",
     "text": [
      "Adding folder /data/vggface/test_perturbed_sampled/n005303/robust_community_naive_mean/n001683/epsilon_0.5/png\n",
      "Adding folder /data/vggface/test_perturbed_sampled/n005303/robust_community_naive_mean/n002647/epsilon_0.5/png\n",
      "Adding folder /data/vggface/test_perturbed_sampled/n005303/robust_community_naive_mean/n009288/epsilon_0.5/png\n"
     ]
    },
    {
     "name": "stderr",
     "output_type": "stream",
     "text": [
      "100%|██████████| 1/1 [00:00<00:00, 12.03it/s]\n",
      "100%|██████████| 1/1 [00:00<00:00, 12.06it/s]\n",
      "100%|██████████| 1/1 [00:00<00:00, 12.01it/s]\n",
      "  0%|          | 0/1 [00:00<?, ?it/s]"
     ]
    },
    {
     "name": "stdout",
     "output_type": "stream",
     "text": [
      "Adding folder /data/vggface/test_perturbed_sampled/n005303/robust_community_naive_mean/n005427/epsilon_0.5/png\n",
      "Adding folder /data/vggface/test_perturbed_sampled/n005303/robust_community_naive_mean/n002763/epsilon_0.5/png\n",
      "Adding folder /data/vggface/test_perturbed_sampled/n005303/robust_community_naive_mean/n002503/epsilon_0.5/png\n"
     ]
    },
    {
     "name": "stderr",
     "output_type": "stream",
     "text": [
      "100%|██████████| 1/1 [00:00<00:00, 12.00it/s]\n",
      "100%|██████████| 1/1 [00:00<00:00, 11.88it/s]\n",
      "100%|██████████| 1/1 [00:00<00:00, 12.02it/s]\n",
      "  0%|          | 0/1 [00:00<?, ?it/s]"
     ]
    },
    {
     "name": "stdout",
     "output_type": "stream",
     "text": [
      "Adding folder /data/vggface/test_perturbed_sampled/n005303/robust_community_naive_mean/n003215/epsilon_0.5/png\n",
      "Adding folder /data/vggface/test_perturbed_sampled/n005303/robust_community_naive_mean/n005359/epsilon_0.5/png\n",
      "Adding folder /data/vggface/test_perturbed_sampled/n005303/robust_community_naive_mean/n007548/epsilon_0.5/png\n"
     ]
    },
    {
     "name": "stderr",
     "output_type": "stream",
     "text": [
      "100%|██████████| 1/1 [00:00<00:00, 11.97it/s]\n",
      "100%|██████████| 1/1 [00:00<00:00, 12.04it/s]\n",
      "100%|██████████| 1/1 [00:00<00:00, 12.01it/s]\n",
      "  0%|          | 0/1 [00:00<?, ?it/s]"
     ]
    },
    {
     "name": "stdout",
     "output_type": "stream",
     "text": [
      "Adding folder /data/vggface/test_perturbed_sampled/n005303/robust_community_naive_mean/n000029/epsilon_0.5/png\n",
      "Adding folder /data/vggface/test_perturbed_sampled/n005303/robust_community_naive_mean/n009114/epsilon_0.5/png\n",
      "Adding folder /data/vggface/test_perturbed_sampled/n007548/robust_community_naive_mean/n001781/epsilon_0.0/png\n"
     ]
    },
    {
     "name": "stderr",
     "output_type": "stream",
     "text": [
      "100%|██████████| 1/1 [00:00<00:00, 12.07it/s]\n",
      "100%|██████████| 1/1 [00:00<00:00, 12.08it/s]\n",
      "100%|██████████| 1/1 [00:00<00:00, 12.07it/s]\n",
      "  0%|          | 0/1 [00:00<?, ?it/s]"
     ]
    },
    {
     "name": "stdout",
     "output_type": "stream",
     "text": [
      "Adding folder /data/vggface/test_perturbed_sampled/n007548/robust_community_naive_mean/n001781/epsilon_0.5/png\n",
      "Adding folder /data/vggface/test_perturbed_sampled/n007548/robust_community_naive_mean/n009232/epsilon_0.5/png\n",
      "Adding folder /data/vggface/test_perturbed_sampled/n007548/robust_community_naive_mean/n000958/epsilon_0.5/png\n"
     ]
    },
    {
     "name": "stderr",
     "output_type": "stream",
     "text": [
      "100%|██████████| 1/1 [00:00<00:00, 12.02it/s]\n",
      "100%|██████████| 1/1 [00:00<00:00, 12.07it/s]\n",
      "100%|██████████| 1/1 [00:00<00:00, 12.04it/s]\n",
      "  0%|          | 0/1 [00:00<?, ?it/s]"
     ]
    },
    {
     "name": "stdout",
     "output_type": "stream",
     "text": [
      "Adding folder /data/vggface/test_perturbed_sampled/n007548/robust_community_naive_mean/n003356/epsilon_0.5/png\n",
      "Adding folder /data/vggface/test_perturbed_sampled/n007548/robust_community_naive_mean/n008655/epsilon_0.5/png\n",
      "Adding folder /data/vggface/test_perturbed_sampled/n007548/robust_community_naive_mean/n008613/epsilon_0.5/png\n"
     ]
    },
    {
     "name": "stderr",
     "output_type": "stream",
     "text": [
      "100%|██████████| 1/1 [00:00<00:00, 11.97it/s]\n",
      "100%|██████████| 1/1 [00:00<00:00, 12.04it/s]\n",
      "100%|██████████| 1/1 [00:00<00:00, 12.10it/s]\n",
      "  0%|          | 0/1 [00:00<?, ?it/s]"
     ]
    },
    {
     "name": "stdout",
     "output_type": "stream",
     "text": [
      "Adding folder /data/vggface/test_perturbed_sampled/n007548/robust_community_naive_mean/n004658/epsilon_0.5/png\n",
      "Adding folder /data/vggface/test_perturbed_sampled/n007548/robust_community_naive_mean/n001683/epsilon_0.5/png\n",
      "Adding folder /data/vggface/test_perturbed_sampled/n007548/robust_community_naive_mean/n002647/epsilon_0.5/png\n"
     ]
    },
    {
     "name": "stderr",
     "output_type": "stream",
     "text": [
      "100%|██████████| 1/1 [00:00<00:00, 12.03it/s]\n",
      "100%|██████████| 1/1 [00:00<00:00, 12.00it/s]\n",
      "100%|██████████| 1/1 [00:00<00:00, 12.06it/s]\n",
      "  0%|          | 0/1 [00:00<?, ?it/s]"
     ]
    },
    {
     "name": "stdout",
     "output_type": "stream",
     "text": [
      "Adding folder /data/vggface/test_perturbed_sampled/n007548/robust_community_naive_mean/n009288/epsilon_0.5/png\n",
      "Adding folder /data/vggface/test_perturbed_sampled/n007548/robust_community_naive_mean/n005427/epsilon_0.5/png\n",
      "Adding folder /data/vggface/test_perturbed_sampled/n007548/robust_community_naive_mean/n002763/epsilon_0.5/png\n"
     ]
    },
    {
     "name": "stderr",
     "output_type": "stream",
     "text": [
      "100%|██████████| 1/1 [00:00<00:00, 12.15it/s]\n",
      "100%|██████████| 1/1 [00:00<00:00, 12.21it/s]\n",
      "100%|██████████| 1/1 [00:00<00:00, 12.21it/s]\n",
      "  0%|          | 0/1 [00:00<?, ?it/s]"
     ]
    },
    {
     "name": "stdout",
     "output_type": "stream",
     "text": [
      "Adding folder /data/vggface/test_perturbed_sampled/n007548/robust_community_naive_mean/n002503/epsilon_0.5/png\n",
      "Adding folder /data/vggface/test_perturbed_sampled/n007548/robust_community_naive_mean/n003215/epsilon_0.5/png\n",
      "Adding folder /data/vggface/test_perturbed_sampled/n007548/robust_community_naive_mean/n005359/epsilon_0.5/png\n"
     ]
    },
    {
     "name": "stderr",
     "output_type": "stream",
     "text": [
      "100%|██████████| 1/1 [00:00<00:00, 12.17it/s]\n",
      "100%|██████████| 1/1 [00:00<00:00, 12.02it/s]\n",
      "100%|██████████| 1/1 [00:00<00:00, 12.06it/s]\n",
      "  0%|          | 0/1 [00:00<?, ?it/s]"
     ]
    },
    {
     "name": "stdout",
     "output_type": "stream",
     "text": [
      "Adding folder /data/vggface/test_perturbed_sampled/n007548/robust_community_naive_mean/n005303/epsilon_0.5/png\n",
      "Adding folder /data/vggface/test_perturbed_sampled/n007548/robust_community_naive_mean/n000029/epsilon_0.5/png\n",
      "Adding folder /data/vggface/test_perturbed_sampled/n007548/robust_community_naive_mean/n009114/epsilon_0.5/png\n"
     ]
    },
    {
     "name": "stderr",
     "output_type": "stream",
     "text": [
      "100%|██████████| 1/1 [00:00<00:00, 12.02it/s]\n",
      "100%|██████████| 1/1 [00:00<00:00, 12.24it/s]\n",
      "100%|██████████| 1/1 [00:00<00:00, 12.23it/s]\n",
      "  0%|          | 0/1 [00:00<?, ?it/s]"
     ]
    },
    {
     "name": "stdout",
     "output_type": "stream",
     "text": [
      "Adding folder /data/vggface/test_perturbed_sampled/n000029/robust_community_naive_mean/n001781/epsilon_0.0/png\n",
      "Adding folder /data/vggface/test_perturbed_sampled/n000029/robust_community_naive_mean/n001781/epsilon_0.5/png\n",
      "Adding folder /data/vggface/test_perturbed_sampled/n000029/robust_community_naive_mean/n009232/epsilon_0.5/png\n"
     ]
    },
    {
     "name": "stderr",
     "output_type": "stream",
     "text": [
      "100%|██████████| 1/1 [00:00<00:00, 12.20it/s]\n",
      "100%|██████████| 1/1 [00:00<00:00, 12.21it/s]\n",
      "100%|██████████| 1/1 [00:00<00:00, 12.19it/s]\n",
      "  0%|          | 0/1 [00:00<?, ?it/s]"
     ]
    },
    {
     "name": "stdout",
     "output_type": "stream",
     "text": [
      "Adding folder /data/vggface/test_perturbed_sampled/n000029/robust_community_naive_mean/n000958/epsilon_0.5/png\n",
      "Adding folder /data/vggface/test_perturbed_sampled/n000029/robust_community_naive_mean/n003356/epsilon_0.5/png\n",
      "Adding folder /data/vggface/test_perturbed_sampled/n000029/robust_community_naive_mean/n008655/epsilon_0.5/png\n"
     ]
    },
    {
     "name": "stderr",
     "output_type": "stream",
     "text": [
      "100%|██████████| 1/1 [00:00<00:00, 12.15it/s]\n",
      "100%|██████████| 1/1 [00:00<00:00, 12.17it/s]\n",
      "100%|██████████| 1/1 [00:00<00:00, 12.18it/s]\n",
      "  0%|          | 0/1 [00:00<?, ?it/s]"
     ]
    },
    {
     "name": "stdout",
     "output_type": "stream",
     "text": [
      "Adding folder /data/vggface/test_perturbed_sampled/n000029/robust_community_naive_mean/n008613/epsilon_0.5/png\n",
      "Adding folder /data/vggface/test_perturbed_sampled/n000029/robust_community_naive_mean/n004658/epsilon_0.5/png\n",
      "Adding folder /data/vggface/test_perturbed_sampled/n000029/robust_community_naive_mean/n001683/epsilon_0.5/png\n"
     ]
    },
    {
     "name": "stderr",
     "output_type": "stream",
     "text": [
      "100%|██████████| 1/1 [00:00<00:00, 12.16it/s]\n",
      "100%|██████████| 1/1 [00:00<00:00, 12.24it/s]\n",
      "100%|██████████| 1/1 [00:00<00:00, 12.04it/s]\n",
      "  0%|          | 0/1 [00:00<?, ?it/s]"
     ]
    },
    {
     "name": "stdout",
     "output_type": "stream",
     "text": [
      "Adding folder /data/vggface/test_perturbed_sampled/n000029/robust_community_naive_mean/n002647/epsilon_0.5/png\n",
      "Adding folder /data/vggface/test_perturbed_sampled/n000029/robust_community_naive_mean/n009288/epsilon_0.5/png\n",
      "Adding folder /data/vggface/test_perturbed_sampled/n000029/robust_community_naive_mean/n005427/epsilon_0.5/png\n"
     ]
    },
    {
     "name": "stderr",
     "output_type": "stream",
     "text": [
      "100%|██████████| 1/1 [00:00<00:00, 11.95it/s]\n",
      "100%|██████████| 1/1 [00:00<00:00, 12.01it/s]\n",
      "100%|██████████| 1/1 [00:00<00:00, 12.03it/s]\n",
      "  0%|          | 0/1 [00:00<?, ?it/s]"
     ]
    },
    {
     "name": "stdout",
     "output_type": "stream",
     "text": [
      "Adding folder /data/vggface/test_perturbed_sampled/n000029/robust_community_naive_mean/n002763/epsilon_0.5/png\n",
      "Adding folder /data/vggface/test_perturbed_sampled/n000029/robust_community_naive_mean/n002503/epsilon_0.5/png\n",
      "Adding folder /data/vggface/test_perturbed_sampled/n000029/robust_community_naive_mean/n003215/epsilon_0.5/png\n"
     ]
    },
    {
     "name": "stderr",
     "output_type": "stream",
     "text": [
      "100%|██████████| 1/1 [00:00<00:00, 11.95it/s]\n",
      "100%|██████████| 1/1 [00:00<00:00, 12.07it/s]\n",
      "100%|██████████| 1/1 [00:00<00:00, 12.06it/s]\n",
      "  0%|          | 0/1 [00:00<?, ?it/s]"
     ]
    },
    {
     "name": "stdout",
     "output_type": "stream",
     "text": [
      "Adding folder /data/vggface/test_perturbed_sampled/n000029/robust_community_naive_mean/n005359/epsilon_0.5/png\n",
      "Adding folder /data/vggface/test_perturbed_sampled/n000029/robust_community_naive_mean/n005303/epsilon_0.5/png\n",
      "Adding folder /data/vggface/test_perturbed_sampled/n000029/robust_community_naive_mean/n007548/epsilon_0.5/png\n"
     ]
    },
    {
     "name": "stderr",
     "output_type": "stream",
     "text": [
      "100%|██████████| 1/1 [00:00<00:00, 11.96it/s]\n",
      "100%|██████████| 1/1 [00:00<00:00, 12.06it/s]\n",
      "100%|██████████| 1/1 [00:00<00:00, 12.07it/s]\n",
      "  0%|          | 0/1 [00:00<?, ?it/s]"
     ]
    },
    {
     "name": "stdout",
     "output_type": "stream",
     "text": [
      "Adding folder /data/vggface/test_perturbed_sampled/n000029/robust_community_naive_mean/n009114/epsilon_0.5/png\n",
      "Adding folder /data/vggface/test_perturbed_sampled/n009114/robust_community_naive_mean/n001781/epsilon_0.0/png\n",
      "Adding folder /data/vggface/test_perturbed_sampled/n009114/robust_community_naive_mean/n001781/epsilon_0.5/png\n"
     ]
    },
    {
     "name": "stderr",
     "output_type": "stream",
     "text": [
      "100%|██████████| 1/1 [00:00<00:00, 11.87it/s]\n",
      "100%|██████████| 1/1 [00:00<00:00, 11.95it/s]\n",
      "100%|██████████| 1/1 [00:00<00:00, 11.99it/s]\n",
      "  0%|          | 0/1 [00:00<?, ?it/s]"
     ]
    },
    {
     "name": "stdout",
     "output_type": "stream",
     "text": [
      "Adding folder /data/vggface/test_perturbed_sampled/n009114/robust_community_naive_mean/n009232/epsilon_0.5/png\n",
      "Adding folder /data/vggface/test_perturbed_sampled/n009114/robust_community_naive_mean/n000958/epsilon_0.5/png\n",
      "Adding folder /data/vggface/test_perturbed_sampled/n009114/robust_community_naive_mean/n003356/epsilon_0.5/png\n"
     ]
    },
    {
     "name": "stderr",
     "output_type": "stream",
     "text": [
      "100%|██████████| 1/1 [00:00<00:00, 11.98it/s]\n",
      "100%|██████████| 1/1 [00:00<00:00, 12.00it/s]\n",
      "100%|██████████| 1/1 [00:00<00:00, 12.01it/s]\n",
      "  0%|          | 0/1 [00:00<?, ?it/s]"
     ]
    },
    {
     "name": "stdout",
     "output_type": "stream",
     "text": [
      "Adding folder /data/vggface/test_perturbed_sampled/n009114/robust_community_naive_mean/n008655/epsilon_0.5/png\n",
      "Adding folder /data/vggface/test_perturbed_sampled/n009114/robust_community_naive_mean/n008613/epsilon_0.5/png\n",
      "Adding folder /data/vggface/test_perturbed_sampled/n009114/robust_community_naive_mean/n004658/epsilon_0.5/png\n"
     ]
    },
    {
     "name": "stderr",
     "output_type": "stream",
     "text": [
      "100%|██████████| 1/1 [00:00<00:00, 11.98it/s]\n",
      "100%|██████████| 1/1 [00:00<00:00, 12.02it/s]\n",
      "100%|██████████| 1/1 [00:00<00:00, 12.03it/s]\n",
      "  0%|          | 0/1 [00:00<?, ?it/s]"
     ]
    },
    {
     "name": "stdout",
     "output_type": "stream",
     "text": [
      "Adding folder /data/vggface/test_perturbed_sampled/n009114/robust_community_naive_mean/n001683/epsilon_0.5/png\n",
      "Adding folder /data/vggface/test_perturbed_sampled/n009114/robust_community_naive_mean/n002647/epsilon_0.5/png\n",
      "Adding folder /data/vggface/test_perturbed_sampled/n009114/robust_community_naive_mean/n009288/epsilon_0.5/png\n"
     ]
    },
    {
     "name": "stderr",
     "output_type": "stream",
     "text": [
      "100%|██████████| 1/1 [00:00<00:00, 11.99it/s]\n",
      "100%|██████████| 1/1 [00:00<00:00, 12.08it/s]\n",
      "100%|██████████| 1/1 [00:00<00:00, 11.97it/s]\n",
      "  0%|          | 0/1 [00:00<?, ?it/s]"
     ]
    },
    {
     "name": "stdout",
     "output_type": "stream",
     "text": [
      "Adding folder /data/vggface/test_perturbed_sampled/n009114/robust_community_naive_mean/n005427/epsilon_0.5/png\n",
      "Adding folder /data/vggface/test_perturbed_sampled/n009114/robust_community_naive_mean/n002763/epsilon_0.5/png\n",
      "Adding folder /data/vggface/test_perturbed_sampled/n009114/robust_community_naive_mean/n002503/epsilon_0.5/png\n"
     ]
    },
    {
     "name": "stderr",
     "output_type": "stream",
     "text": [
      "100%|██████████| 1/1 [00:00<00:00, 12.10it/s]\n",
      "100%|██████████| 1/1 [00:00<00:00, 12.03it/s]\n",
      "100%|██████████| 1/1 [00:00<00:00, 11.95it/s]\n",
      "  0%|          | 0/1 [00:00<?, ?it/s]"
     ]
    },
    {
     "name": "stdout",
     "output_type": "stream",
     "text": [
      "Adding folder /data/vggface/test_perturbed_sampled/n009114/robust_community_naive_mean/n003215/epsilon_0.5/png\n",
      "Adding folder /data/vggface/test_perturbed_sampled/n009114/robust_community_naive_mean/n005359/epsilon_0.5/png\n",
      "Adding folder /data/vggface/test_perturbed_sampled/n009114/robust_community_naive_mean/n005303/epsilon_0.5/png\n"
     ]
    },
    {
     "name": "stderr",
     "output_type": "stream",
     "text": [
      "100%|██████████| 1/1 [00:00<00:00, 11.97it/s]\n",
      "100%|██████████| 1/1 [00:00<00:00, 12.09it/s]\n",
      "100%|██████████| 1/1 [00:00<00:00, 12.07it/s]"
     ]
    },
    {
     "name": "stdout",
     "output_type": "stream",
     "text": [
      "Adding folder /data/vggface/test_perturbed_sampled/n009114/robust_community_naive_mean/n007548/epsilon_0.5/png\n",
      "Adding folder /data/vggface/test_perturbed_sampled/n009114/robust_community_naive_mean/n000029/epsilon_0.5/png\n"
     ]
    },
    {
     "name": "stderr",
     "output_type": "stream",
     "text": [
      "\n"
     ]
    }
   ],
   "source": [
    "faces_database = FacesDatabase(model, \"/data/vggface/test_perturbed_sampled\", \"robust_community_naive_mean\", 0.5)\n"
   ]
  },
  {
   "cell_type": "code",
   "execution_count": 37,
   "metadata": {},
   "outputs": [
    {
     "name": "stdout",
     "output_type": "stream",
     "text": [
      "Face of n001781 identitifed as n004658\n",
      "Face of n009232 identitifed as n005359\n",
      "Face of n000958 identitifed as n002647\n",
      "Face of n003356 identitifed as n009114\n",
      "Face of n008655 identitifed as n005427\n",
      "Face of n008613 identitifed as n009232\n",
      "Face of n004658 identitifed as n002503\n",
      "Face of n001683 identitifed as n001683\n",
      "Face of n002647 identitifed as n009114\n",
      "Face of n009288 identitifed as n005359\n",
      "Face of n005427 identitifed as n005359\n",
      "Face of n002763 identitifed as n000029\n",
      "Face of n002503 identitifed as n009288\n",
      "Face of n003215 identitifed as n007548\n",
      "Face of n005359 identitifed as n005359\n",
      "Face of n005303 identitifed as n009232\n",
      "Face of n007548 identitifed as n009232\n",
      "Face of n000029 identitifed as n008613\n",
      "Face of n009114 identitifed as n005303\n"
     ]
    },
    {
     "data": {
      "text/plain": [
       "0.10526315789473684"
      ]
     },
     "execution_count": 37,
     "metadata": {},
     "output_type": "execute_result"
    }
   ],
   "source": [
    "measure_local_recall(\n",
    "    faces_database,\n",
    "    \"/data/vggface/test_perturbed_sampled\",\n",
    ")"
   ]
  },
  {
   "cell_type": "code",
   "execution_count": null,
   "metadata": {},
   "outputs": [],
   "source": []
  }
 ],
 "metadata": {
  "kernelspec": {
   "display_name": "Python 3",
   "language": "python",
   "name": "python3"
  },
  "language_info": {
   "codemirror_mode": {
    "name": "ipython",
    "version": 3
   },
   "file_extension": ".py",
   "mimetype": "text/x-python",
   "name": "python",
   "nbconvert_exporter": "python",
   "pygments_lexer": "ipython3",
   "version": "3.6.2"
  }
 },
 "nbformat": 4,
 "nbformat_minor": 4
}
