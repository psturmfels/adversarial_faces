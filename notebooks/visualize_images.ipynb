{
 "cells": [
  {
   "cell_type": "code",
   "execution_count": 1,
   "metadata": {},
   "outputs": [],
   "source": [
    "from matplotlib import pyplot as plt\n",
    "%matplotlib inline\n",
    "import h5py\n",
    "import seaborn\n",
    "import numpy as np\n",
    "import os\n",
    "import tensorflow as tf\n",
    "from sklearn.metrics import pairwise_distances\n",
    "import sys\n",
    "sys.path.append(\"../\")\n",
    "from utils import l2_normalize, prewhiten, read_sampled_identities, plot_recall, recall_given_dist, plot_topk\n",
    "from PIL import Image\n",
    "seaborn.set()"
   ]
  },
  {
   "cell_type": "code",
   "execution_count": 2,
   "metadata": {},
   "outputs": [],
   "source": [
    "attack_name = \"community_naive_random\"\n",
    "\n",
    "kwargs = {\n",
    "    \"attack_name\": \"community_naive_random\",\n",
    "    \"path_to_adversarial\": \"/data/vggface/test_perturbed_sampled/{true}/\" + attack_name + \"/{target}/epsilon_{epsilon}.h5\",\n",
    "    \"path_to_clean\": \"/data/vggface/test_preprocessed_sampled/{id}/embeddings.h5\",\n",
    "    \"epsilons\": [0.0, 0.02, 0.04, 0.06, 0.08, 0.1],\n",
    "    \"identities\": read_sampled_identities(\"../sampled_identities.txt\").keys()\n",
    "}\n",
    "\n",
    "kwargs_topk = kwargs.copy()\n",
    "del kwargs_topk[\"attack_name\"]\n",
    "del kwargs_topk[\"epsilons\"]"
   ]
  },
  {
   "cell_type": "code",
   "execution_count": null,
   "metadata": {},
   "outputs": [],
   "source": []
  }
 ],
 "metadata": {
  "kernelspec": {
   "display_name": "Python 3",
   "language": "python",
   "name": "python3"
  },
  "language_info": {
   "codemirror_mode": {
    "name": "ipython",
    "version": 3
   },
   "file_extension": ".py",
   "mimetype": "text/x-python",
   "name": "python",
   "nbconvert_exporter": "python",
   "pygments_lexer": "ipython3",
   "version": "3.6.2"
  }
 },
 "nbformat": 4,
 "nbformat_minor": 4
}
