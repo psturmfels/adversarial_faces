{
 "cells": [
  {
   "cell_type": "code",
   "execution_count": 5,
   "metadata": {},
   "outputs": [],
   "source": [
    "import os, sys\n",
    "import numpy as np\n",
    "import matplotlib.pyplot as plt\n",
    "import matplotlib as mpl\n",
    "import pandas as pd\n",
    "import h5py\n",
    "from tqdm import tqdm\n",
    "from skimage.util import img_as_ubyte\n",
    "from sklearn.metrics import pairwise_distances\n",
    "\n",
    "sys.path.append(\"../\")\n",
    "from utils import prewhiten, l2_normalize, read_sampled_identities"
   ]
  },
  {
   "cell_type": "code",
   "execution_count": 13,
   "metadata": {},
   "outputs": [
    {
     "name": "stdout",
     "output_type": "stream",
     "text": [
      "n001781 (48, 160, 160, 3)\n",
      "n009232 (49, 160, 160, 3)\n",
      "n000958 (49, 160, 160, 3)\n",
      "n003356 (46, 160, 160, 3)\n",
      "n008655 (49, 160, 160, 3)\n",
      "n008613 (50, 160, 160, 3)\n",
      "n004658 (46, 160, 160, 3)\n",
      "n001683 (45, 160, 160, 3)\n",
      "n002647 (48, 160, 160, 3)\n",
      "n009288 (46, 160, 160, 3)\n",
      "n005427 (43, 160, 160, 3)\n",
      "n002763 (49, 160, 160, 3)\n",
      "n002503 (46, 160, 160, 3)\n",
      "n003215 (46, 160, 160, 3)\n",
      "n005359 (42, 160, 160, 3)\n",
      "n005303 (47, 160, 160, 3)\n",
      "n007548 (47, 160, 160, 3)\n",
      "n000029 (46, 160, 160, 3)\n",
      "n009114 (44, 160, 160, 3)\n"
     ]
    }
   ],
   "source": [
    "data_dir = \"/data/vggface/test_preprocessed_sampled\"\n",
    "for identity in os.listdir(data_dir):\n",
    "    dataset_file = os.path.join(\n",
    "        data_dir,\n",
    "        identity,\n",
    "        \"images.h5\"\n",
    "    )\n",
    "    with h5py.File(dataset_file, 'r') as f:\n",
    "        data = f[\"images\"][:]\n",
    "    print(identity, data.shape)"
   ]
  },
  {
   "cell_type": "code",
   "execution_count": 12,
   "metadata": {},
   "outputs": [
    {
     "name": "stdout",
     "output_type": "stream",
     "text": [
      "n001781 (48, 128)\n",
      "n009232 (49, 128)\n",
      "n000958 (49, 128)\n",
      "n003356 (46, 128)\n",
      "n008655 (49, 128)\n",
      "n008613 (50, 128)\n",
      "n004658 (46, 128)\n",
      "n001683 (45, 128)\n",
      "n002647 (48, 128)\n",
      "n009288 (46, 128)\n",
      "n005427 (43, 128)\n",
      "n002763 (49, 128)\n",
      "n002503 (46, 128)\n",
      "n003215 (46, 128)\n",
      "n005359 (42, 128)\n",
      "n005303 (47, 128)\n",
      "n007548 (47, 128)\n",
      "n000029 (46, 128)\n",
      "n009114 (44, 128)\n"
     ]
    }
   ],
   "source": [
    "data_dir = \"/data/vggface/test_preprocessed_sampled\"\n",
    "for identity in os.listdir(data_dir):\n",
    "    dataset_file = os.path.join(\n",
    "        data_dir,\n",
    "        identity,\n",
    "        \"embeddings.h5\"\n",
    "    )\n",
    "    with h5py.File(dataset_file, 'r') as f:\n",
    "        data = f[\"embeddings\"][:]\n",
    "    print(identity, data.shape)"
   ]
  },
  {
   "cell_type": "code",
   "execution_count": 10,
   "metadata": {},
   "outputs": [
    {
     "name": "stdout",
     "output_type": "stream",
     "text": [
      "n009288 50\n",
      "n002763 50\n",
      "n000958 50\n",
      "n002647 50\n",
      "n008655 50\n",
      "n003356 50\n",
      "n007548 50\n",
      "n008613 50\n",
      "n000029 50\n",
      "n009232 50\n",
      "n005359 50\n",
      "n003215 50\n",
      "n005303 50\n",
      "n005427 50\n",
      "n001683 50\n",
      "n001781 50\n",
      "n009114 50\n",
      "n004658 50\n",
      "n002503 50\n"
     ]
    }
   ],
   "source": [
    "identities = read_sampled_identities(\"../sampled_identities.txt\")\n",
    "for identity in identities:\n",
    "    print(identity, len(identities[identity]))"
   ]
  },
  {
   "cell_type": "code",
   "execution_count": 14,
   "metadata": {},
   "outputs": [],
   "source": [
    "bbox_df = pd.read_csv(\"/data/vggface/bb_landmark/loose_bb_test.csv\")"
   ]
  },
  {
   "cell_type": "code",
   "execution_count": 15,
   "metadata": {},
   "outputs": [
    {
     "data": {
      "text/plain": [
       "Index(['NAME_ID', 'X', 'Y', 'W', 'H'], dtype='object')"
      ]
     },
     "execution_count": 15,
     "metadata": {},
     "output_type": "execute_result"
    }
   ],
   "source": [
    "bbox_df.columns"
   ]
  },
  {
   "cell_type": "code",
   "execution_count": 26,
   "metadata": {},
   "outputs": [],
   "source": [
    "sampled = read_sampled_identities(\"../sampled_identities.txt\")\n",
    "sampled = pd.DataFrame(np.array([[\"{}/{}\".format(k, v.split(\".\")[0]) for v in sampled[k]] for k in sampled]).flatten())"
   ]
  },
  {
   "cell_type": "code",
   "execution_count": 28,
   "metadata": {},
   "outputs": [
    {
     "data": {
      "text/html": [
       "<div>\n",
       "<style scoped>\n",
       "    .dataframe tbody tr th:only-of-type {\n",
       "        vertical-align: middle;\n",
       "    }\n",
       "\n",
       "    .dataframe tbody tr th {\n",
       "        vertical-align: top;\n",
       "    }\n",
       "\n",
       "    .dataframe thead th {\n",
       "        text-align: right;\n",
       "    }\n",
       "</style>\n",
       "<table border=\"1\" class=\"dataframe\">\n",
       "  <thead>\n",
       "    <tr style=\"text-align: right;\">\n",
       "      <th></th>\n",
       "      <th>NAME_ID</th>\n",
       "      <th>X</th>\n",
       "      <th>Y</th>\n",
       "      <th>W</th>\n",
       "      <th>H</th>\n",
       "      <th>0</th>\n",
       "    </tr>\n",
       "  </thead>\n",
       "  <tbody>\n",
       "    <tr>\n",
       "      <th>0</th>\n",
       "      <td>n000029/0020_01</td>\n",
       "      <td>80</td>\n",
       "      <td>71</td>\n",
       "      <td>119</td>\n",
       "      <td>172</td>\n",
       "      <td>n000029/0020_01</td>\n",
       "    </tr>\n",
       "    <tr>\n",
       "      <th>1</th>\n",
       "      <td>n000029/0032_03</td>\n",
       "      <td>21</td>\n",
       "      <td>24</td>\n",
       "      <td>36</td>\n",
       "      <td>43</td>\n",
       "      <td>n000029/0032_03</td>\n",
       "    </tr>\n",
       "    <tr>\n",
       "      <th>2</th>\n",
       "      <td>n000029/0047_01</td>\n",
       "      <td>94</td>\n",
       "      <td>56</td>\n",
       "      <td>161</td>\n",
       "      <td>209</td>\n",
       "      <td>n000029/0047_01</td>\n",
       "    </tr>\n",
       "    <tr>\n",
       "      <th>3</th>\n",
       "      <td>n000029/0054_01</td>\n",
       "      <td>89</td>\n",
       "      <td>32</td>\n",
       "      <td>141</td>\n",
       "      <td>185</td>\n",
       "      <td>n000029/0054_01</td>\n",
       "    </tr>\n",
       "    <tr>\n",
       "      <th>4</th>\n",
       "      <td>n000029/0060_01</td>\n",
       "      <td>146</td>\n",
       "      <td>160</td>\n",
       "      <td>254</td>\n",
       "      <td>310</td>\n",
       "      <td>n000029/0060_01</td>\n",
       "    </tr>\n",
       "    <tr>\n",
       "      <th>...</th>\n",
       "      <td>...</td>\n",
       "      <td>...</td>\n",
       "      <td>...</td>\n",
       "      <td>...</td>\n",
       "      <td>...</td>\n",
       "      <td>...</td>\n",
       "    </tr>\n",
       "    <tr>\n",
       "      <th>945</th>\n",
       "      <td>n009288/0324_01</td>\n",
       "      <td>68</td>\n",
       "      <td>71</td>\n",
       "      <td>111</td>\n",
       "      <td>139</td>\n",
       "      <td>n009288/0324_01</td>\n",
       "    </tr>\n",
       "    <tr>\n",
       "      <th>946</th>\n",
       "      <td>n009288/0330_01</td>\n",
       "      <td>43</td>\n",
       "      <td>36</td>\n",
       "      <td>62</td>\n",
       "      <td>81</td>\n",
       "      <td>n009288/0330_01</td>\n",
       "    </tr>\n",
       "    <tr>\n",
       "      <th>947</th>\n",
       "      <td>n009288/0335_01</td>\n",
       "      <td>40</td>\n",
       "      <td>39</td>\n",
       "      <td>59</td>\n",
       "      <td>76</td>\n",
       "      <td>n009288/0335_01</td>\n",
       "    </tr>\n",
       "    <tr>\n",
       "      <th>948</th>\n",
       "      <td>n009288/0354_01</td>\n",
       "      <td>77</td>\n",
       "      <td>69</td>\n",
       "      <td>123</td>\n",
       "      <td>161</td>\n",
       "      <td>n009288/0354_01</td>\n",
       "    </tr>\n",
       "    <tr>\n",
       "      <th>949</th>\n",
       "      <td>n009288/0357_02</td>\n",
       "      <td>26</td>\n",
       "      <td>28</td>\n",
       "      <td>40</td>\n",
       "      <td>50</td>\n",
       "      <td>n009288/0357_02</td>\n",
       "    </tr>\n",
       "  </tbody>\n",
       "</table>\n",
       "<p>950 rows × 6 columns</p>\n",
       "</div>"
      ],
      "text/plain": [
       "             NAME_ID    X    Y    W    H                0\n",
       "0    n000029/0020_01   80   71  119  172  n000029/0020_01\n",
       "1    n000029/0032_03   21   24   36   43  n000029/0032_03\n",
       "2    n000029/0047_01   94   56  161  209  n000029/0047_01\n",
       "3    n000029/0054_01   89   32  141  185  n000029/0054_01\n",
       "4    n000029/0060_01  146  160  254  310  n000029/0060_01\n",
       "..               ...  ...  ...  ...  ...              ...\n",
       "945  n009288/0324_01   68   71  111  139  n009288/0324_01\n",
       "946  n009288/0330_01   43   36   62   81  n009288/0330_01\n",
       "947  n009288/0335_01   40   39   59   76  n009288/0335_01\n",
       "948  n009288/0354_01   77   69  123  161  n009288/0354_01\n",
       "949  n009288/0357_02   26   28   40   50  n009288/0357_02\n",
       "\n",
       "[950 rows x 6 columns]"
      ]
     },
     "execution_count": 28,
     "metadata": {},
     "output_type": "execute_result"
    }
   ],
   "source": [
    "pd.merge(left=bbox_df, right=sampled, left_on='NAME_ID', right_on=0)"
   ]
  },
  {
   "cell_type": "code",
   "execution_count": null,
   "metadata": {},
   "outputs": [],
   "source": []
  }
 ],
 "metadata": {
  "kernelspec": {
   "display_name": "Python 3",
   "language": "python",
   "name": "python3"
  },
  "language_info": {
   "codemirror_mode": {
    "name": "ipython",
    "version": 3
   },
   "file_extension": ".py",
   "mimetype": "text/x-python",
   "name": "python",
   "nbconvert_exporter": "python",
   "pygments_lexer": "ipython3",
   "version": "3.6.2"
  }
 },
 "nbformat": 4,
 "nbformat_minor": 2
}
