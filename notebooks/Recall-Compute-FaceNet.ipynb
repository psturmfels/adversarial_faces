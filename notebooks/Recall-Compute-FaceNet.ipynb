{
 "cells": [
  {
   "cell_type": "code",
   "execution_count": null,
   "metadata": {},
   "outputs": [],
   "source": [
    "import os\n",
    "os.environ[\"CUDA_VISIBLE_DEVICES\"] = \"1\"\n",
    "import tensorflow as tf\n",
    "import glob\n",
    "import numpy as np\n",
    "from PIL import Image\n",
    "from sklearn.metrics import pairwise_distances, roc_auc_score\n",
    "from matplotlib import pyplot as plt\n",
    "%matplotlib inline\n",
    "from tqdm import tqdm\n",
    "import sys\n",
    "sys.path.append(\"../\")\n",
    "from inception_resnet_v1 import inference\n",
    "import pandas as pd\n",
    "import seaborn as sns"
   ]
  },
  {
   "cell_type": "code",
   "execution_count": 2,
   "metadata": {},
   "outputs": [],
   "source": [
    "def prewhiten(x):\n",
    "    \"\"\"\n",
    "    A helper function to whiten an image, or a batch of images.\n",
    "    Args:\n",
    "        x: An image or batch of images.\n",
    "    \"\"\"\n",
    "    if x.ndim == 4:\n",
    "        axis = (1, 2, 3)\n",
    "        size = x[0].size\n",
    "    elif x.ndim == 3:\n",
    "        axis = (0, 1, 2)\n",
    "        size = x.size\n",
    "    else:\n",
    "        print(x.ndim)\n",
    "        raise ValueError('Dimension should be 3 or 4')\n",
    "\n",
    "    mean = np.mean(x, axis=axis, keepdims=True)\n",
    "    std = np.std(x, axis=axis, keepdims=True)\n",
    "#     std_adj = np.maximum(std, 1.0/np.sqrt(size))\n",
    "    y = (x - mean) / std\n",
    "    return y\n",
    "\n",
    "def l2_normalize(x, axis=-1, epsilon=1e-10):\n",
    "    \"\"\"\n",
    "    Normalizes an embedding to have unit length in the l2 metric.\n",
    "    Args:\n",
    "        x: A batch of numpy embeddings\n",
    "    \"\"\"\n",
    "    output = x / np.sqrt(np.maximum(np.sum(np.square(x),\n",
    "                                           axis=axis,\n",
    "                                           keepdims=True),\n",
    "                                    epsilon))\n",
    "    return output"
   ]
  },
  {
   "cell_type": "code",
   "execution_count": 3,
   "metadata": {},
   "outputs": [],
   "source": [
    "class MyModel:\n",
    "    def __init__(self, model_path, inputs=None, sess=None):\n",
    "        if inputs is None:\n",
    "            self.model_inputs = tf.placeholder(tf.float32, shape=(None, 160, 160, 3))\n",
    "        else:\n",
    "            self.model_inputs = inputs\n",
    "        \n",
    "        vars_before = tf.global_variables()\n",
    "        self.net, self.endpoints = inference(\n",
    "            self.model_inputs, keep_probability=1.0, bottleneck_layer_size=512, phase_train=False)\n",
    "        vars_after = tf.global_variables()\n",
    "        \n",
    "        model_name = dataset_to_model_name[\"vggface2\"]\n",
    "        saver = tf.train.Saver(list(set(vars_after) - set(vars_before)))\n",
    "        \n",
    "        if sess is None:\n",
    "            self.sess = tf.Session()\n",
    "        else:\n",
    "            self.sess = sess\n",
    "            \n",
    "        saver.restore(self.sess, model_path)\n",
    "    \n",
    "    def predict(self, inputs, batch_size, layer_to_target):\n",
    "        if layer_to_target is None:\n",
    "            return self.sess.run(self.net, feed_dict={self.model_inputs: inputs})\n",
    "        else:\n",
    "            return self.sess.run(self.endpoints[layer_to_target], feed_dict={self.model_inputs: inputs})\n",
    "    \n",
    "    def __del__(self):\n",
    "        self.sess.close()\n",
    "\n",
    "dataset_to_model_name = {\n",
    "    \"casia-webface\": \"20180408-102900\",\n",
    "    \"vggface2\": \"20180402-114759\"\n",
    "}\n",
    "\n",
    "dataset_to_ckpt_number = {\n",
    "    \"casia-webface\": \"90\",\n",
    "    \"vggface2\": \"275\"\n",
    "}\n",
    "\n",
    "def build_model(dataset_name, inputs=None, sess=None):\n",
    "    model_name = dataset_to_model_name[dataset_name]\n",
    "    model = MyModel(\n",
    "        os.path.join(\n",
    "            \"/home/ivan/facenet/models\",\n",
    "            model_name,\n",
    "            \"model-{model_name}.ckpt-{ckpt_num}\".format(\n",
    "                model_name=dataset_to_model_name[dataset_name],\n",
    "                ckpt_num=dataset_to_ckpt_number[dataset_name]\n",
    "            )),\n",
    "        inputs, \n",
    "        sess\n",
    "    )\n",
    "    return model"
   ]
  },
  {
   "cell_type": "code",
   "execution_count": 14,
   "metadata": {},
   "outputs": [],
   "source": [
    "class FacialVectorsDatabase:\n",
    "    def __init__(self, folder, model_name, epsilon, attack_strategy, image_format, num_clean, include_decoys=True):\n",
    "        self.associated_identities = []\n",
    "        self.vectors = []\n",
    "        self.associated_paths = []\n",
    "        \n",
    "        identities = os.listdir(folder)\n",
    "        \n",
    "        self.graph = tf.Graph()\n",
    "        \n",
    "        with self.graph.as_default():\n",
    "            self.model = build_model(model_name)\n",
    "\n",
    "            for person_name in tqdm(identities):\n",
    "                attack_subfolder = os.path.join(folder, person_name, attack_strategy)\n",
    "\n",
    "                protected = os.listdir(attack_subfolder)\n",
    "                \n",
    "                if include_decoys:\n",
    "                    for indx, other_identity in enumerate(protected):\n",
    "                        protected_folder = os.path.join(\n",
    "                            attack_subfolder, \n",
    "                            other_identity, \n",
    "                            \"epsilon_{eps}\".format(eps=epsilon), \n",
    "                            image_format\n",
    "                        )\n",
    "\n",
    "                        self._add_folder_for_person(\n",
    "                            protected_folder, \n",
    "                            person_name,\n",
    "                            exclude_endings=None,\n",
    "                            max_imgs=-1\n",
    "                        )\n",
    "                        \n",
    "                # These were the images we used for this person for adversarial modification\n",
    "                used_images = [\n",
    "                    x.split(\"/\")[-1] \\\n",
    "                    for indx, x in enumerate(self.associated_paths) \\\n",
    "                    if self.associated_identities[indx] == person_name\n",
    "                ]\n",
    "                \n",
    "                clean_folder = os.path.join(\n",
    "                    folder, person_name, \"community_naive_mean\", protected[0], \"epsilon_0.0\", \"png\")\n",
    "                self._add_folder_for_person(\n",
    "                    clean_folder, \n",
    "                    person_name,\n",
    "                    exclude_endings=set(used_images),\n",
    "                    max_imgs=num_clean\n",
    "                )\n",
    "        \n",
    "                \n",
    "    def _load_one_facenet(self, path, crop_box=None, resize_size=None, prewhiten_img=True):\n",
    "        img = Image.open(path).convert(\"RGB\")\n",
    "        \n",
    "        if crop_box:\n",
    "            img = img.crop(crop_box)\n",
    "            \n",
    "        if resize_size:\n",
    "            img = img.resize((resize_size, resize_size))\n",
    "            \n",
    "        img = (np.array(img)).astype(np.float32)\n",
    "        \n",
    "        if prewhiten_img:\n",
    "            img = prewhiten(img)\n",
    "            \n",
    "        return img\n",
    "        \n",
    "\n",
    "    def _load_folder_for_facenet(self, folder, exclude_endings=None, max_imgs=-1):\n",
    "        paths_list = glob.glob(os.path.join(folder, \"*\"))\n",
    "        len_before = len(paths_list)\n",
    "        if not (exclude_endings is None):\n",
    "            paths_list = [x for x in paths_list if not (x.split(\"/\")[-1] in exclude_endings)]\n",
    "            \n",
    "        if max_imgs > 0:\n",
    "            paths_list = paths_list[:max_imgs]\n",
    "        \n",
    "        final_imgs = [\n",
    "            self._load_one_facenet(\n",
    "                img_path, \n",
    "                prewhiten_img=False, \n",
    "                resize_size=None, \n",
    "                crop_box=None) for img_path in paths_list\n",
    "        ]\n",
    "\n",
    "        final_imgs = np.array(final_imgs)\n",
    "        final_imgs = prewhiten(np.array(final_imgs))\n",
    "        return final_imgs, paths_list\n",
    "\n",
    "    \n",
    "    def _compute_embeddings(self, images):\n",
    "        return self.model.predict(np.array(images), batch_size=len(images), layer_to_target=None)\n",
    "    \n",
    "    \n",
    "    def _add_folder_for_person(self, folder, person_name, exclude_endings=None, max_imgs=-1):\n",
    "        images, paths_list = self._load_folder_for_facenet(folder, exclude_endings, max_imgs=max_imgs)\n",
    "        \n",
    "        if images is None:\n",
    "            return\n",
    "        \n",
    "        vectors = self._compute_embeddings(images)\n",
    "        self.vectors.extend(vectors)\n",
    "        self.associated_identities.extend([person_name for _ in range(len(vectors))])\n",
    "        self.associated_paths.extend(paths_list)\n",
    "    \n",
    "    def nearest_neighbor_to_img_at_path(self, query_path):\n",
    "        with self.graph.as_default():\n",
    "            query_vector = self._compute_embeddings(\n",
    "                np.expand_dims(self._load_one_facenet(query_path, resize_size=160), axis=0))\n",
    "        distances = pairwise_distances(query_vector, self.vectors, metric=\"cosine\")[0]\n",
    "        min_dist_indx = np.argmin(distances)\n",
    "        return self.associated_identities[min_dist_indx], self.associated_paths[min_dist_indx]\n",
    "    \n",
    "    def closest_k_to_img_at_path(self, query_path, k):\n",
    "        with self.graph.as_default():\n",
    "            query_vector = self._compute_embeddings(\n",
    "                np.expand_dims(self._load_one_facenet(query_path, resize_size=160), axis=0))\n",
    "        distances = pairwise_distances(query_vector, self.vectors, metric=\"cosine\")[0]\n",
    "        assert len(distances) == len(self.vectors)\n",
    "        \n",
    "        min_dist_indices = np.argsort(distances)[:k]\n",
    "        top_k_identities = np.take(self.associated_identities, min_dist_indices, axis=0)\n",
    "        top_k_paths = np.take(self.associated_paths, min_dist_indices, axis=0)\n",
    "\n",
    "        return top_k_identities, top_k_paths\n",
    "\n",
    "\n",
    "def full_path_to_info(path):\n",
    "    split = path.split(\"/\")\n",
    "    if path.startswith(\"/data/vggface/test_perturbed_sampled\"):\n",
    "        # split of path breaks down like this:\n",
    "        #     0 \n",
    "        #     1 data\n",
    "        #     2 vggface\n",
    "        #     3 test_perturbed_sampled\n",
    "        #     4 {protector}\n",
    "        #     5 community_naive_mean\n",
    "        #     6 {protected}\n",
    "        #     7 epsilon_0.0\n",
    "        #     8 png\n",
    "        #     9 35.png\n",
    "        return \"-\".join([split[4], split[6], split[7], split[9]])\n",
    "    else:\n",
    "        # split of path breaks down like this:\n",
    "        #     0 \n",
    "        #     1 data\n",
    "        #     2 vggface\n",
    "        #     3 test_query_antisampled\n",
    "        #     4 {protector}\n",
    "        #     5 image_name.jpeg\n",
    "        return \"-\".join([split[4], split[5]])\n",
    "    \n",
    "    \n",
    "def measure_local_recall(\n",
    "    faces_database,\n",
    "    image_directory=\"/data/vggface/test_query_antisampled\",\n",
    "    num_query=10,\n",
    "    verbose=False,\n",
    "    k=1\n",
    "):\n",
    "    discovery = []\n",
    "    true = []\n",
    "    identified_as = []\n",
    "    \n",
    "    paths_of_query = []\n",
    "    paths_of_nearest = []\n",
    "\n",
    "    for protector in os.listdir(image_directory):\n",
    "        # We are sourcing query photos from epsilon_0.0.\n",
    "        # In those cases, all subfolders in the \"protected\" identity have the same, clean\n",
    "        # photo of the protector, so we just pick any single one that exists (e.g. n000958)\n",
    "        # For the case where n000958 is itself the protector, n000958 is not present in its protected\n",
    "        # subfolders, so we pick n000029 without loss of generality.\n",
    "        if protector == \"n000958\":\n",
    "            protected = \"n000029\"\n",
    "        else:\n",
    "            protected = \"n000958\"\n",
    "\n",
    "        query_photos_paths = sorted(glob.glob(\n",
    "            os.path.join(image_directory, protector, \"*\")\n",
    "        ))\n",
    "\n",
    "        \n",
    "        for i in np.random.choice(len(query_photos_paths), num_query):\n",
    "            chosen_path = query_photos_paths[i]\n",
    "            \n",
    "            if k == 1:\n",
    "                top_identity, top_identity_path = faces_database.nearest_neighbor_to_img_at_path(chosen_path)\n",
    "\n",
    "                paths_of_query.append(full_path_to_info(chosen_path))\n",
    "                paths_of_nearest.append(full_path_to_info(top_identity_path))\n",
    "\n",
    "                true.append(protector)\n",
    "                identified_as.append(top_identity)\n",
    "\n",
    "                if top_identity == protector:\n",
    "                    discovery.append(1.0)\n",
    "                else:\n",
    "                    discovery.append(0.0)\n",
    "            else:\n",
    "                top_identities, top_paths = faces_database.closest_k_to_img_at_path(chosen_path, k)\n",
    "                top_identities = np.array(top_identities)\n",
    "                discovery.append(np.mean(top_identities == protector))\n",
    "                if verbose:\n",
    "                    print(\"Closest\", k, \"images to\", chosen_path, \"are\", \"\\n\".join(top_paths))\n",
    "                    print()\n",
    "\n",
    "    if verbose:\n",
    "        if k == 1:\n",
    "            for true_id, recognized_id, query, nearest in zip(true, identified_as, paths_of_query, paths_of_nearest):\n",
    "                print(\"Face of {true_id} identitifed as {recognized_id}. Nearest neighbor to {query} was {nearest}\".format(\n",
    "                    true_id=true_id, recognized_id=recognized_id, query=query, nearest=nearest))\n",
    "#         else:\n",
    "#             print(\"verbose not available for k>1\")\n",
    "\n",
    "#     return sum(discovery)/len(discovery)\n",
    "    return np.mean(discovery)"
   ]
  },
  {
   "cell_type": "code",
   "execution_count": 12,
   "metadata": {},
   "outputs": [],
   "source": [
    "def get_recall_once(\n",
    "    network_to_evaluate,\n",
    "    epsilon,\n",
    "    attack_name,\n",
    "    num_clean,\n",
    "    run,\n",
    "    k=1,\n",
    "    verbose=False\n",
    "):\n",
    "    faces_db = FacialVectorsDatabase(\n",
    "        folder=\"/data/vggface/test_perturbed_sampled\",\n",
    "        model_name=network_to_evaluate,\n",
    "        epsilon=epsilon,\n",
    "        attack_strategy=attack_name,\n",
    "        image_format=\"png\", \n",
    "        num_clean=num_clean,\n",
    "        include_decoys= epsilon != 0.0\n",
    "    )\n",
    "    recall_at_k1 = measure_local_recall(faces_db, num_query=10, verbose=verbose, k=k)\n",
    "\n",
    "    faces_db.model.sess.close()\n",
    "    \n",
    "    return {\n",
    "        \"num_clean\": num_clean, \n",
    "        \"run\": run,\n",
    "        \"recall\": recall_at_k1,\n",
    "        \"epsilon\": epsilon,\n",
    "        \"k\": k\n",
    "    }\n",
    "\n",
    "def generate_results_csv(\n",
    "    network_to_evaluate,\n",
    "    attack_name,\n",
    "    k=1\n",
    "):\n",
    "    results = []\n",
    "    \n",
    "    for run in range(10):\n",
    "        # get a run with all clean ones and no decous\n",
    "        res = get_recall_once(\n",
    "            network_to_evaluate,\n",
    "            0.0,\n",
    "            attack_name,\n",
    "            -1, # negative or 0 number includes all\n",
    "            run,\n",
    "            k\n",
    "        )\n",
    "        results.append(res)\n",
    "    \n",
    "    for epsilon in [0.1, 0.25, 0.5]:\n",
    "        for num_clean in range(1, 10, 2):\n",
    "            for run in range(10):\n",
    "                res = get_recall_once(\n",
    "                    network_to_evaluate,\n",
    "                    epsilon,\n",
    "                    attack_name,\n",
    "                    num_clean,\n",
    "                    run,\n",
    "                    k\n",
    "                )\n",
    "                results.append(res)\n",
    "                \n",
    "    results_pd = pd.DataFrame(results)\n",
    "\n",
    "    results_pd[\"decoys_vs_clean\"] = 36 / results_pd[\"num_clean\"]\n",
    "    results_pd.loc[results_pd.decoys_vs_clean < 0.0, \"decoys_vs_clean\"] = 0.0\n",
    "    \n",
    "    results_pd.to_csv(\n",
    "        \"/home/ivan/pascal_adversarial_faces/results/recall_at_{k}_{attack_name}_{network_to_evaluate}.csv\".format(\n",
    "            k=k,\n",
    "            network_to_evaluate=network_to_evaluate,\n",
    "            attack_name=attack_name\n",
    "        ))"
   ]
  },
  {
   "cell_type": "code",
   "execution_count": null,
   "metadata": {},
   "outputs": [
    {
     "name": "stdout",
     "output_type": "stream",
     "text": [
      "INFO:tensorflow:Scale of 0 disables regularizer.\n",
      "INFO:tensorflow:Restoring parameters from /home/ivan/facenet/models/20180402-114759/model-20180402-114759.ckpt-275\n"
     ]
    },
    {
     "name": "stderr",
     "output_type": "stream",
     "text": [
      "100%|██████████| 19/19 [00:03<00:00,  5.34it/s]\n"
     ]
    },
    {
     "name": "stdout",
     "output_type": "stream",
     "text": [
      "INFO:tensorflow:Scale of 0 disables regularizer.\n",
      "INFO:tensorflow:Restoring parameters from /home/ivan/facenet/models/20180402-114759/model-20180402-114759.ckpt-275\n"
     ]
    },
    {
     "name": "stderr",
     "output_type": "stream",
     "text": [
      "100%|██████████| 19/19 [00:02<00:00,  6.34it/s]\n"
     ]
    },
    {
     "name": "stdout",
     "output_type": "stream",
     "text": [
      "INFO:tensorflow:Scale of 0 disables regularizer.\n",
      "INFO:tensorflow:Restoring parameters from /home/ivan/facenet/models/20180402-114759/model-20180402-114759.ckpt-275\n"
     ]
    },
    {
     "name": "stderr",
     "output_type": "stream",
     "text": [
      "100%|██████████| 19/19 [00:03<00:00,  6.11it/s]\n"
     ]
    },
    {
     "name": "stdout",
     "output_type": "stream",
     "text": [
      "INFO:tensorflow:Scale of 0 disables regularizer.\n",
      "INFO:tensorflow:Restoring parameters from /home/ivan/facenet/models/20180402-114759/model-20180402-114759.ckpt-275\n"
     ]
    },
    {
     "name": "stderr",
     "output_type": "stream",
     "text": [
      "100%|██████████| 19/19 [00:02<00:00,  6.67it/s]\n"
     ]
    },
    {
     "name": "stdout",
     "output_type": "stream",
     "text": [
      "INFO:tensorflow:Scale of 0 disables regularizer.\n",
      "INFO:tensorflow:Restoring parameters from /home/ivan/facenet/models/20180402-114759/model-20180402-114759.ckpt-275\n"
     ]
    },
    {
     "name": "stderr",
     "output_type": "stream",
     "text": [
      "100%|██████████| 19/19 [00:02<00:00,  6.79it/s]\n"
     ]
    },
    {
     "name": "stdout",
     "output_type": "stream",
     "text": [
      "INFO:tensorflow:Scale of 0 disables regularizer.\n",
      "INFO:tensorflow:Restoring parameters from /home/ivan/facenet/models/20180402-114759/model-20180402-114759.ckpt-275\n"
     ]
    },
    {
     "name": "stderr",
     "output_type": "stream",
     "text": [
      "100%|██████████| 19/19 [00:02<00:00,  7.23it/s]\n"
     ]
    },
    {
     "name": "stdout",
     "output_type": "stream",
     "text": [
      "INFO:tensorflow:Scale of 0 disables regularizer.\n",
      "INFO:tensorflow:Restoring parameters from /home/ivan/facenet/models/20180402-114759/model-20180402-114759.ckpt-275\n"
     ]
    },
    {
     "name": "stderr",
     "output_type": "stream",
     "text": [
      "100%|██████████| 19/19 [00:02<00:00,  7.06it/s]\n"
     ]
    },
    {
     "name": "stdout",
     "output_type": "stream",
     "text": [
      "INFO:tensorflow:Scale of 0 disables regularizer.\n",
      "INFO:tensorflow:Restoring parameters from /home/ivan/facenet/models/20180402-114759/model-20180402-114759.ckpt-275\n"
     ]
    },
    {
     "name": "stderr",
     "output_type": "stream",
     "text": [
      "100%|██████████| 19/19 [00:02<00:00,  6.98it/s]\n"
     ]
    },
    {
     "name": "stdout",
     "output_type": "stream",
     "text": [
      "INFO:tensorflow:Scale of 0 disables regularizer.\n",
      "INFO:tensorflow:Restoring parameters from /home/ivan/facenet/models/20180402-114759/model-20180402-114759.ckpt-275\n"
     ]
    },
    {
     "name": "stderr",
     "output_type": "stream",
     "text": [
      "100%|██████████| 19/19 [00:02<00:00,  6.67it/s]\n"
     ]
    },
    {
     "name": "stdout",
     "output_type": "stream",
     "text": [
      "INFO:tensorflow:Scale of 0 disables regularizer.\n",
      "INFO:tensorflow:Restoring parameters from /home/ivan/facenet/models/20180402-114759/model-20180402-114759.ckpt-275\n"
     ]
    },
    {
     "name": "stderr",
     "output_type": "stream",
     "text": [
      "100%|██████████| 19/19 [00:02<00:00,  6.45it/s]\n"
     ]
    },
    {
     "name": "stdout",
     "output_type": "stream",
     "text": [
      "INFO:tensorflow:Scale of 0 disables regularizer.\n",
      "INFO:tensorflow:Restoring parameters from /home/ivan/facenet/models/20180402-114759/model-20180402-114759.ckpt-275\n"
     ]
    },
    {
     "name": "stderr",
     "output_type": "stream",
     "text": [
      "100%|██████████| 19/19 [00:06<00:00,  2.84it/s]\n"
     ]
    },
    {
     "name": "stdout",
     "output_type": "stream",
     "text": [
      "INFO:tensorflow:Scale of 0 disables regularizer.\n",
      "INFO:tensorflow:Restoring parameters from /home/ivan/facenet/models/20180402-114759/model-20180402-114759.ckpt-275\n"
     ]
    },
    {
     "name": "stderr",
     "output_type": "stream",
     "text": [
      "100%|██████████| 19/19 [00:06<00:00,  2.84it/s]\n"
     ]
    },
    {
     "name": "stdout",
     "output_type": "stream",
     "text": [
      "INFO:tensorflow:Scale of 0 disables regularizer.\n",
      "INFO:tensorflow:Restoring parameters from /home/ivan/facenet/models/20180402-114759/model-20180402-114759.ckpt-275\n"
     ]
    },
    {
     "name": "stderr",
     "output_type": "stream",
     "text": [
      "100%|██████████| 19/19 [00:07<00:00,  2.70it/s]\n"
     ]
    },
    {
     "name": "stdout",
     "output_type": "stream",
     "text": [
      "INFO:tensorflow:Scale of 0 disables regularizer.\n",
      "INFO:tensorflow:Restoring parameters from /home/ivan/facenet/models/20180402-114759/model-20180402-114759.ckpt-275\n"
     ]
    },
    {
     "name": "stderr",
     "output_type": "stream",
     "text": [
      "100%|██████████| 19/19 [00:07<00:00,  2.70it/s]\n"
     ]
    },
    {
     "name": "stdout",
     "output_type": "stream",
     "text": [
      "INFO:tensorflow:Scale of 0 disables regularizer.\n",
      "INFO:tensorflow:Restoring parameters from /home/ivan/facenet/models/20180402-114759/model-20180402-114759.ckpt-275\n"
     ]
    },
    {
     "name": "stderr",
     "output_type": "stream",
     "text": [
      "100%|██████████| 19/19 [00:06<00:00,  2.87it/s]\n"
     ]
    },
    {
     "name": "stdout",
     "output_type": "stream",
     "text": [
      "INFO:tensorflow:Scale of 0 disables regularizer.\n",
      "INFO:tensorflow:Restoring parameters from /home/ivan/facenet/models/20180402-114759/model-20180402-114759.ckpt-275\n"
     ]
    },
    {
     "name": "stderr",
     "output_type": "stream",
     "text": [
      "100%|██████████| 19/19 [00:06<00:00,  2.73it/s]\n"
     ]
    },
    {
     "name": "stdout",
     "output_type": "stream",
     "text": [
      "INFO:tensorflow:Scale of 0 disables regularizer.\n",
      "INFO:tensorflow:Restoring parameters from /home/ivan/facenet/models/20180402-114759/model-20180402-114759.ckpt-275\n"
     ]
    },
    {
     "name": "stderr",
     "output_type": "stream",
     "text": [
      "100%|██████████| 19/19 [00:06<00:00,  2.86it/s]\n"
     ]
    },
    {
     "name": "stdout",
     "output_type": "stream",
     "text": [
      "INFO:tensorflow:Scale of 0 disables regularizer.\n",
      "INFO:tensorflow:Restoring parameters from /home/ivan/facenet/models/20180402-114759/model-20180402-114759.ckpt-275\n"
     ]
    },
    {
     "name": "stderr",
     "output_type": "stream",
     "text": [
      "100%|██████████| 19/19 [00:07<00:00,  2.66it/s]\n"
     ]
    },
    {
     "name": "stdout",
     "output_type": "stream",
     "text": [
      "INFO:tensorflow:Scale of 0 disables regularizer.\n",
      "INFO:tensorflow:Restoring parameters from /home/ivan/facenet/models/20180402-114759/model-20180402-114759.ckpt-275\n"
     ]
    },
    {
     "name": "stderr",
     "output_type": "stream",
     "text": [
      "100%|██████████| 19/19 [00:07<00:00,  2.62it/s]\n"
     ]
    },
    {
     "name": "stdout",
     "output_type": "stream",
     "text": [
      "INFO:tensorflow:Scale of 0 disables regularizer.\n",
      "INFO:tensorflow:Restoring parameters from /home/ivan/facenet/models/20180402-114759/model-20180402-114759.ckpt-275\n"
     ]
    },
    {
     "name": "stderr",
     "output_type": "stream",
     "text": [
      "100%|██████████| 19/19 [00:07<00:00,  2.63it/s]\n"
     ]
    },
    {
     "name": "stdout",
     "output_type": "stream",
     "text": [
      "INFO:tensorflow:Scale of 0 disables regularizer.\n",
      "INFO:tensorflow:Restoring parameters from /home/ivan/facenet/models/20180402-114759/model-20180402-114759.ckpt-275\n"
     ]
    },
    {
     "name": "stderr",
     "output_type": "stream",
     "text": [
      "100%|██████████| 19/19 [00:07<00:00,  2.71it/s]\n"
     ]
    },
    {
     "name": "stdout",
     "output_type": "stream",
     "text": [
      "INFO:tensorflow:Scale of 0 disables regularizer.\n",
      "INFO:tensorflow:Restoring parameters from /home/ivan/facenet/models/20180402-114759/model-20180402-114759.ckpt-275\n"
     ]
    },
    {
     "name": "stderr",
     "output_type": "stream",
     "text": [
      "100%|██████████| 19/19 [00:07<00:00,  2.71it/s]\n"
     ]
    },
    {
     "name": "stdout",
     "output_type": "stream",
     "text": [
      "INFO:tensorflow:Scale of 0 disables regularizer.\n",
      "INFO:tensorflow:Restoring parameters from /home/ivan/facenet/models/20180402-114759/model-20180402-114759.ckpt-275\n"
     ]
    },
    {
     "name": "stderr",
     "output_type": "stream",
     "text": [
      "100%|██████████| 19/19 [00:07<00:00,  2.65it/s]\n"
     ]
    },
    {
     "name": "stdout",
     "output_type": "stream",
     "text": [
      "INFO:tensorflow:Scale of 0 disables regularizer.\n",
      "INFO:tensorflow:Restoring parameters from /home/ivan/facenet/models/20180402-114759/model-20180402-114759.ckpt-275\n"
     ]
    },
    {
     "name": "stderr",
     "output_type": "stream",
     "text": [
      "100%|██████████| 19/19 [00:06<00:00,  2.80it/s]\n"
     ]
    },
    {
     "name": "stdout",
     "output_type": "stream",
     "text": [
      "INFO:tensorflow:Scale of 0 disables regularizer.\n",
      "INFO:tensorflow:Restoring parameters from /home/ivan/facenet/models/20180402-114759/model-20180402-114759.ckpt-275\n"
     ]
    },
    {
     "name": "stderr",
     "output_type": "stream",
     "text": [
      "100%|██████████| 19/19 [00:07<00:00,  2.62it/s]\n"
     ]
    },
    {
     "name": "stdout",
     "output_type": "stream",
     "text": [
      "INFO:tensorflow:Scale of 0 disables regularizer.\n",
      "INFO:tensorflow:Restoring parameters from /home/ivan/facenet/models/20180402-114759/model-20180402-114759.ckpt-275\n"
     ]
    },
    {
     "name": "stderr",
     "output_type": "stream",
     "text": [
      "100%|██████████| 19/19 [00:07<00:00,  2.58it/s]\n"
     ]
    },
    {
     "name": "stdout",
     "output_type": "stream",
     "text": [
      "INFO:tensorflow:Scale of 0 disables regularizer.\n",
      "INFO:tensorflow:Restoring parameters from /home/ivan/facenet/models/20180402-114759/model-20180402-114759.ckpt-275\n"
     ]
    },
    {
     "name": "stderr",
     "output_type": "stream",
     "text": [
      "100%|██████████| 19/19 [00:07<00:00,  2.68it/s]\n"
     ]
    },
    {
     "name": "stdout",
     "output_type": "stream",
     "text": [
      "INFO:tensorflow:Scale of 0 disables regularizer.\n",
      "INFO:tensorflow:Restoring parameters from /home/ivan/facenet/models/20180402-114759/model-20180402-114759.ckpt-275\n"
     ]
    },
    {
     "name": "stderr",
     "output_type": "stream",
     "text": [
      "100%|██████████| 19/19 [00:06<00:00,  2.82it/s]\n"
     ]
    },
    {
     "name": "stdout",
     "output_type": "stream",
     "text": [
      "INFO:tensorflow:Scale of 0 disables regularizer.\n",
      "INFO:tensorflow:Restoring parameters from /home/ivan/facenet/models/20180402-114759/model-20180402-114759.ckpt-275\n"
     ]
    },
    {
     "name": "stderr",
     "output_type": "stream",
     "text": [
      "100%|██████████| 19/19 [00:07<00:00,  2.68it/s]\n"
     ]
    },
    {
     "name": "stdout",
     "output_type": "stream",
     "text": [
      "INFO:tensorflow:Scale of 0 disables regularizer.\n",
      "INFO:tensorflow:Restoring parameters from /home/ivan/facenet/models/20180402-114759/model-20180402-114759.ckpt-275\n"
     ]
    },
    {
     "name": "stderr",
     "output_type": "stream",
     "text": [
      "100%|██████████| 19/19 [00:06<00:00,  2.73it/s]\n"
     ]
    },
    {
     "name": "stdout",
     "output_type": "stream",
     "text": [
      "INFO:tensorflow:Scale of 0 disables regularizer.\n",
      "INFO:tensorflow:Restoring parameters from /home/ivan/facenet/models/20180402-114759/model-20180402-114759.ckpt-275\n"
     ]
    },
    {
     "name": "stderr",
     "output_type": "stream",
     "text": [
      "100%|██████████| 19/19 [00:06<00:00,  2.78it/s]\n"
     ]
    },
    {
     "name": "stdout",
     "output_type": "stream",
     "text": [
      "INFO:tensorflow:Scale of 0 disables regularizer.\n",
      "INFO:tensorflow:Restoring parameters from /home/ivan/facenet/models/20180402-114759/model-20180402-114759.ckpt-275\n"
     ]
    },
    {
     "name": "stderr",
     "output_type": "stream",
     "text": [
      "100%|██████████| 19/19 [00:06<00:00,  2.73it/s]\n"
     ]
    },
    {
     "name": "stdout",
     "output_type": "stream",
     "text": [
      "INFO:tensorflow:Scale of 0 disables regularizer.\n",
      "INFO:tensorflow:Restoring parameters from /home/ivan/facenet/models/20180402-114759/model-20180402-114759.ckpt-275\n"
     ]
    },
    {
     "name": "stderr",
     "output_type": "stream",
     "text": [
      "100%|██████████| 19/19 [00:07<00:00,  2.57it/s]\n"
     ]
    },
    {
     "name": "stdout",
     "output_type": "stream",
     "text": [
      "INFO:tensorflow:Scale of 0 disables regularizer.\n",
      "INFO:tensorflow:Restoring parameters from /home/ivan/facenet/models/20180402-114759/model-20180402-114759.ckpt-275\n"
     ]
    },
    {
     "name": "stderr",
     "output_type": "stream",
     "text": [
      "100%|██████████| 19/19 [00:07<00:00,  2.58it/s]\n"
     ]
    },
    {
     "name": "stdout",
     "output_type": "stream",
     "text": [
      "INFO:tensorflow:Scale of 0 disables regularizer.\n",
      "INFO:tensorflow:Restoring parameters from /home/ivan/facenet/models/20180402-114759/model-20180402-114759.ckpt-275\n"
     ]
    },
    {
     "name": "stderr",
     "output_type": "stream",
     "text": [
      "100%|██████████| 19/19 [00:06<00:00,  2.79it/s]\n"
     ]
    },
    {
     "name": "stdout",
     "output_type": "stream",
     "text": [
      "INFO:tensorflow:Scale of 0 disables regularizer.\n",
      "INFO:tensorflow:Restoring parameters from /home/ivan/facenet/models/20180402-114759/model-20180402-114759.ckpt-275\n"
     ]
    },
    {
     "name": "stderr",
     "output_type": "stream",
     "text": [
      "100%|██████████| 19/19 [00:06<00:00,  2.73it/s]\n"
     ]
    },
    {
     "name": "stdout",
     "output_type": "stream",
     "text": [
      "INFO:tensorflow:Scale of 0 disables regularizer.\n",
      "INFO:tensorflow:Restoring parameters from /home/ivan/facenet/models/20180402-114759/model-20180402-114759.ckpt-275\n"
     ]
    },
    {
     "name": "stderr",
     "output_type": "stream",
     "text": [
      "100%|██████████| 19/19 [00:06<00:00,  2.78it/s]\n"
     ]
    },
    {
     "name": "stdout",
     "output_type": "stream",
     "text": [
      "INFO:tensorflow:Scale of 0 disables regularizer.\n",
      "INFO:tensorflow:Restoring parameters from /home/ivan/facenet/models/20180402-114759/model-20180402-114759.ckpt-275\n"
     ]
    },
    {
     "name": "stderr",
     "output_type": "stream",
     "text": [
      "100%|██████████| 19/19 [00:06<00:00,  2.83it/s]\n"
     ]
    },
    {
     "name": "stdout",
     "output_type": "stream",
     "text": [
      "INFO:tensorflow:Scale of 0 disables regularizer.\n",
      "INFO:tensorflow:Restoring parameters from /home/ivan/facenet/models/20180402-114759/model-20180402-114759.ckpt-275\n"
     ]
    },
    {
     "name": "stderr",
     "output_type": "stream",
     "text": [
      "100%|██████████| 19/19 [00:07<00:00,  2.58it/s]\n"
     ]
    },
    {
     "name": "stdout",
     "output_type": "stream",
     "text": [
      "INFO:tensorflow:Scale of 0 disables regularizer.\n",
      "INFO:tensorflow:Restoring parameters from /home/ivan/facenet/models/20180402-114759/model-20180402-114759.ckpt-275\n"
     ]
    },
    {
     "name": "stderr",
     "output_type": "stream",
     "text": [
      "100%|██████████| 19/19 [00:07<00:00,  2.62it/s]\n"
     ]
    },
    {
     "name": "stdout",
     "output_type": "stream",
     "text": [
      "INFO:tensorflow:Scale of 0 disables regularizer.\n",
      "INFO:tensorflow:Restoring parameters from /home/ivan/facenet/models/20180402-114759/model-20180402-114759.ckpt-275\n"
     ]
    },
    {
     "name": "stderr",
     "output_type": "stream",
     "text": [
      "100%|██████████| 19/19 [00:07<00:00,  2.71it/s]\n"
     ]
    },
    {
     "name": "stdout",
     "output_type": "stream",
     "text": [
      "INFO:tensorflow:Scale of 0 disables regularizer.\n",
      "INFO:tensorflow:Restoring parameters from /home/ivan/facenet/models/20180402-114759/model-20180402-114759.ckpt-275\n"
     ]
    },
    {
     "name": "stderr",
     "output_type": "stream",
     "text": [
      "100%|██████████| 19/19 [00:07<00:00,  2.66it/s]\n"
     ]
    },
    {
     "name": "stdout",
     "output_type": "stream",
     "text": [
      "INFO:tensorflow:Scale of 0 disables regularizer.\n",
      "INFO:tensorflow:Restoring parameters from /home/ivan/facenet/models/20180402-114759/model-20180402-114759.ckpt-275\n"
     ]
    },
    {
     "name": "stderr",
     "output_type": "stream",
     "text": [
      "100%|██████████| 19/19 [00:07<00:00,  2.69it/s]\n"
     ]
    },
    {
     "name": "stdout",
     "output_type": "stream",
     "text": [
      "INFO:tensorflow:Scale of 0 disables regularizer.\n",
      "INFO:tensorflow:Restoring parameters from /home/ivan/facenet/models/20180402-114759/model-20180402-114759.ckpt-275\n"
     ]
    },
    {
     "name": "stderr",
     "output_type": "stream",
     "text": [
      "100%|██████████| 19/19 [00:07<00:00,  2.66it/s]\n"
     ]
    },
    {
     "name": "stdout",
     "output_type": "stream",
     "text": [
      "INFO:tensorflow:Scale of 0 disables regularizer.\n",
      "INFO:tensorflow:Restoring parameters from /home/ivan/facenet/models/20180402-114759/model-20180402-114759.ckpt-275\n"
     ]
    },
    {
     "name": "stderr",
     "output_type": "stream",
     "text": [
      "100%|██████████| 19/19 [00:06<00:00,  2.74it/s]\n"
     ]
    },
    {
     "name": "stdout",
     "output_type": "stream",
     "text": [
      "INFO:tensorflow:Scale of 0 disables regularizer.\n",
      "INFO:tensorflow:Restoring parameters from /home/ivan/facenet/models/20180402-114759/model-20180402-114759.ckpt-275\n"
     ]
    },
    {
     "name": "stderr",
     "output_type": "stream",
     "text": [
      "100%|██████████| 19/19 [00:07<00:00,  2.58it/s]\n"
     ]
    },
    {
     "name": "stdout",
     "output_type": "stream",
     "text": [
      "INFO:tensorflow:Scale of 0 disables regularizer.\n",
      "INFO:tensorflow:Restoring parameters from /home/ivan/facenet/models/20180402-114759/model-20180402-114759.ckpt-275\n"
     ]
    },
    {
     "name": "stderr",
     "output_type": "stream",
     "text": [
      "100%|██████████| 19/19 [00:07<00:00,  2.62it/s]\n"
     ]
    },
    {
     "name": "stdout",
     "output_type": "stream",
     "text": [
      "INFO:tensorflow:Scale of 0 disables regularizer.\n",
      "INFO:tensorflow:Restoring parameters from /home/ivan/facenet/models/20180402-114759/model-20180402-114759.ckpt-275\n"
     ]
    },
    {
     "name": "stderr",
     "output_type": "stream",
     "text": [
      "100%|██████████| 19/19 [00:07<00:00,  2.56it/s]\n"
     ]
    },
    {
     "name": "stdout",
     "output_type": "stream",
     "text": [
      "INFO:tensorflow:Scale of 0 disables regularizer.\n",
      "INFO:tensorflow:Restoring parameters from /home/ivan/facenet/models/20180402-114759/model-20180402-114759.ckpt-275\n"
     ]
    },
    {
     "name": "stderr",
     "output_type": "stream",
     "text": [
      "100%|██████████| 19/19 [00:07<00:00,  2.62it/s]\n"
     ]
    },
    {
     "name": "stdout",
     "output_type": "stream",
     "text": [
      "INFO:tensorflow:Scale of 0 disables regularizer.\n",
      "INFO:tensorflow:Restoring parameters from /home/ivan/facenet/models/20180402-114759/model-20180402-114759.ckpt-275\n"
     ]
    },
    {
     "name": "stderr",
     "output_type": "stream",
     "text": [
      "100%|██████████| 19/19 [00:07<00:00,  2.70it/s]\n"
     ]
    },
    {
     "name": "stdout",
     "output_type": "stream",
     "text": [
      "INFO:tensorflow:Scale of 0 disables regularizer.\n",
      "INFO:tensorflow:Restoring parameters from /home/ivan/facenet/models/20180402-114759/model-20180402-114759.ckpt-275\n"
     ]
    },
    {
     "name": "stderr",
     "output_type": "stream",
     "text": [
      "100%|██████████| 19/19 [00:06<00:00,  2.72it/s]\n"
     ]
    },
    {
     "name": "stdout",
     "output_type": "stream",
     "text": [
      "INFO:tensorflow:Scale of 0 disables regularizer.\n",
      "INFO:tensorflow:Restoring parameters from /home/ivan/facenet/models/20180402-114759/model-20180402-114759.ckpt-275\n"
     ]
    },
    {
     "name": "stderr",
     "output_type": "stream",
     "text": [
      "100%|██████████| 19/19 [00:07<00:00,  2.46it/s]\n"
     ]
    },
    {
     "name": "stdout",
     "output_type": "stream",
     "text": [
      "INFO:tensorflow:Scale of 0 disables regularizer.\n",
      "INFO:tensorflow:Restoring parameters from /home/ivan/facenet/models/20180402-114759/model-20180402-114759.ckpt-275\n"
     ]
    },
    {
     "name": "stderr",
     "output_type": "stream",
     "text": [
      "100%|██████████| 19/19 [00:08<00:00,  2.36it/s]\n"
     ]
    },
    {
     "name": "stdout",
     "output_type": "stream",
     "text": [
      "INFO:tensorflow:Scale of 0 disables regularizer.\n",
      "INFO:tensorflow:Restoring parameters from /home/ivan/facenet/models/20180402-114759/model-20180402-114759.ckpt-275\n"
     ]
    },
    {
     "name": "stderr",
     "output_type": "stream",
     "text": [
      "100%|██████████| 19/19 [00:07<00:00,  2.51it/s]\n"
     ]
    },
    {
     "name": "stdout",
     "output_type": "stream",
     "text": [
      "INFO:tensorflow:Scale of 0 disables regularizer.\n",
      "INFO:tensorflow:Restoring parameters from /home/ivan/facenet/models/20180402-114759/model-20180402-114759.ckpt-275\n"
     ]
    },
    {
     "name": "stderr",
     "output_type": "stream",
     "text": [
      "100%|██████████| 19/19 [00:07<00:00,  2.65it/s]\n"
     ]
    },
    {
     "name": "stdout",
     "output_type": "stream",
     "text": [
      "INFO:tensorflow:Scale of 0 disables regularizer.\n",
      "INFO:tensorflow:Restoring parameters from /home/ivan/facenet/models/20180402-114759/model-20180402-114759.ckpt-275\n"
     ]
    },
    {
     "name": "stderr",
     "output_type": "stream",
     "text": [
      "100%|██████████| 19/19 [00:07<00:00,  2.65it/s]\n"
     ]
    },
    {
     "name": "stdout",
     "output_type": "stream",
     "text": [
      "INFO:tensorflow:Scale of 0 disables regularizer.\n",
      "INFO:tensorflow:Restoring parameters from /home/ivan/facenet/models/20180402-114759/model-20180402-114759.ckpt-275\n"
     ]
    },
    {
     "name": "stderr",
     "output_type": "stream",
     "text": [
      "100%|██████████| 19/19 [00:07<00:00,  2.61it/s]\n"
     ]
    },
    {
     "name": "stdout",
     "output_type": "stream",
     "text": [
      "INFO:tensorflow:Scale of 0 disables regularizer.\n",
      "INFO:tensorflow:Restoring parameters from /home/ivan/facenet/models/20180402-114759/model-20180402-114759.ckpt-275\n"
     ]
    },
    {
     "name": "stderr",
     "output_type": "stream",
     "text": [
      "100%|██████████| 19/19 [00:07<00:00,  2.62it/s]\n"
     ]
    },
    {
     "name": "stdout",
     "output_type": "stream",
     "text": [
      "INFO:tensorflow:Scale of 0 disables regularizer.\n",
      "INFO:tensorflow:Restoring parameters from /home/ivan/facenet/models/20180402-114759/model-20180402-114759.ckpt-275\n"
     ]
    },
    {
     "name": "stderr",
     "output_type": "stream",
     "text": [
      "100%|██████████| 19/19 [00:07<00:00,  2.55it/s]\n"
     ]
    },
    {
     "name": "stdout",
     "output_type": "stream",
     "text": [
      "INFO:tensorflow:Scale of 0 disables regularizer.\n",
      "INFO:tensorflow:Restoring parameters from /home/ivan/facenet/models/20180402-114759/model-20180402-114759.ckpt-275\n"
     ]
    },
    {
     "name": "stderr",
     "output_type": "stream",
     "text": [
      "100%|██████████| 19/19 [00:07<00:00,  2.66it/s]\n"
     ]
    },
    {
     "name": "stdout",
     "output_type": "stream",
     "text": [
      "INFO:tensorflow:Scale of 0 disables regularizer.\n",
      "INFO:tensorflow:Restoring parameters from /home/ivan/facenet/models/20180402-114759/model-20180402-114759.ckpt-275\n"
     ]
    },
    {
     "name": "stderr",
     "output_type": "stream",
     "text": [
      "100%|██████████| 19/19 [00:06<00:00,  2.84it/s]\n"
     ]
    },
    {
     "name": "stdout",
     "output_type": "stream",
     "text": [
      "INFO:tensorflow:Scale of 0 disables regularizer.\n",
      "INFO:tensorflow:Restoring parameters from /home/ivan/facenet/models/20180402-114759/model-20180402-114759.ckpt-275\n"
     ]
    },
    {
     "name": "stderr",
     "output_type": "stream",
     "text": [
      "100%|██████████| 19/19 [00:07<00:00,  2.65it/s]\n"
     ]
    },
    {
     "name": "stdout",
     "output_type": "stream",
     "text": [
      "INFO:tensorflow:Scale of 0 disables regularizer.\n",
      "INFO:tensorflow:Restoring parameters from /home/ivan/facenet/models/20180402-114759/model-20180402-114759.ckpt-275\n"
     ]
    },
    {
     "name": "stderr",
     "output_type": "stream",
     "text": [
      "100%|██████████| 19/19 [00:06<00:00,  2.77it/s]\n"
     ]
    },
    {
     "name": "stdout",
     "output_type": "stream",
     "text": [
      "INFO:tensorflow:Scale of 0 disables regularizer.\n",
      "INFO:tensorflow:Restoring parameters from /home/ivan/facenet/models/20180402-114759/model-20180402-114759.ckpt-275\n"
     ]
    },
    {
     "name": "stderr",
     "output_type": "stream",
     "text": [
      "100%|██████████| 19/19 [00:06<00:00,  2.84it/s]\n"
     ]
    },
    {
     "name": "stdout",
     "output_type": "stream",
     "text": [
      "INFO:tensorflow:Scale of 0 disables regularizer.\n",
      "INFO:tensorflow:Restoring parameters from /home/ivan/facenet/models/20180402-114759/model-20180402-114759.ckpt-275\n"
     ]
    },
    {
     "name": "stderr",
     "output_type": "stream",
     "text": [
      "100%|██████████| 19/19 [00:07<00:00,  2.60it/s]\n"
     ]
    },
    {
     "name": "stdout",
     "output_type": "stream",
     "text": [
      "INFO:tensorflow:Scale of 0 disables regularizer.\n",
      "INFO:tensorflow:Restoring parameters from /home/ivan/facenet/models/20180402-114759/model-20180402-114759.ckpt-275\n"
     ]
    },
    {
     "name": "stderr",
     "output_type": "stream",
     "text": [
      "100%|██████████| 19/19 [00:06<00:00,  2.81it/s]\n"
     ]
    },
    {
     "name": "stdout",
     "output_type": "stream",
     "text": [
      "INFO:tensorflow:Scale of 0 disables regularizer.\n",
      "INFO:tensorflow:Restoring parameters from /home/ivan/facenet/models/20180402-114759/model-20180402-114759.ckpt-275\n"
     ]
    },
    {
     "name": "stderr",
     "output_type": "stream",
     "text": [
      "100%|██████████| 19/19 [00:07<00:00,  2.70it/s]\n"
     ]
    },
    {
     "name": "stdout",
     "output_type": "stream",
     "text": [
      "INFO:tensorflow:Scale of 0 disables regularizer.\n",
      "INFO:tensorflow:Restoring parameters from /home/ivan/facenet/models/20180402-114759/model-20180402-114759.ckpt-275\n"
     ]
    },
    {
     "name": "stderr",
     "output_type": "stream",
     "text": [
      "100%|██████████| 19/19 [00:07<00:00,  2.54it/s]\n"
     ]
    },
    {
     "name": "stdout",
     "output_type": "stream",
     "text": [
      "INFO:tensorflow:Scale of 0 disables regularizer.\n",
      "INFO:tensorflow:Restoring parameters from /home/ivan/facenet/models/20180402-114759/model-20180402-114759.ckpt-275\n"
     ]
    },
    {
     "name": "stderr",
     "output_type": "stream",
     "text": [
      "100%|██████████| 19/19 [00:07<00:00,  2.70it/s]\n"
     ]
    },
    {
     "name": "stdout",
     "output_type": "stream",
     "text": [
      "INFO:tensorflow:Scale of 0 disables regularizer.\n",
      "INFO:tensorflow:Restoring parameters from /home/ivan/facenet/models/20180402-114759/model-20180402-114759.ckpt-275\n"
     ]
    },
    {
     "name": "stderr",
     "output_type": "stream",
     "text": [
      "100%|██████████| 19/19 [00:07<00:00,  2.66it/s]\n"
     ]
    },
    {
     "name": "stdout",
     "output_type": "stream",
     "text": [
      "INFO:tensorflow:Scale of 0 disables regularizer.\n",
      "INFO:tensorflow:Restoring parameters from /home/ivan/facenet/models/20180402-114759/model-20180402-114759.ckpt-275\n"
     ]
    },
    {
     "name": "stderr",
     "output_type": "stream",
     "text": [
      "100%|██████████| 19/19 [00:06<00:00,  2.78it/s]\n"
     ]
    },
    {
     "name": "stdout",
     "output_type": "stream",
     "text": [
      "INFO:tensorflow:Scale of 0 disables regularizer.\n",
      "INFO:tensorflow:Restoring parameters from /home/ivan/facenet/models/20180402-114759/model-20180402-114759.ckpt-275\n"
     ]
    },
    {
     "name": "stderr",
     "output_type": "stream",
     "text": [
      "100%|██████████| 19/19 [00:06<00:00,  2.80it/s]\n"
     ]
    },
    {
     "name": "stdout",
     "output_type": "stream",
     "text": [
      "INFO:tensorflow:Scale of 0 disables regularizer.\n",
      "INFO:tensorflow:Restoring parameters from /home/ivan/facenet/models/20180402-114759/model-20180402-114759.ckpt-275\n"
     ]
    },
    {
     "name": "stderr",
     "output_type": "stream",
     "text": [
      "100%|██████████| 19/19 [00:07<00:00,  2.63it/s]\n"
     ]
    },
    {
     "name": "stdout",
     "output_type": "stream",
     "text": [
      "INFO:tensorflow:Scale of 0 disables regularizer.\n",
      "INFO:tensorflow:Restoring parameters from /home/ivan/facenet/models/20180402-114759/model-20180402-114759.ckpt-275\n"
     ]
    },
    {
     "name": "stderr",
     "output_type": "stream",
     "text": [
      "100%|██████████| 19/19 [00:07<00:00,  2.56it/s]\n"
     ]
    },
    {
     "name": "stdout",
     "output_type": "stream",
     "text": [
      "INFO:tensorflow:Scale of 0 disables regularizer.\n",
      "INFO:tensorflow:Restoring parameters from /home/ivan/facenet/models/20180402-114759/model-20180402-114759.ckpt-275\n"
     ]
    },
    {
     "name": "stderr",
     "output_type": "stream",
     "text": [
      "100%|██████████| 19/19 [00:07<00:00,  2.69it/s]\n"
     ]
    },
    {
     "name": "stdout",
     "output_type": "stream",
     "text": [
      "INFO:tensorflow:Scale of 0 disables regularizer.\n",
      "INFO:tensorflow:Restoring parameters from /home/ivan/facenet/models/20180402-114759/model-20180402-114759.ckpt-275\n"
     ]
    },
    {
     "name": "stderr",
     "output_type": "stream",
     "text": [
      "100%|██████████| 19/19 [00:06<00:00,  2.76it/s]\n"
     ]
    },
    {
     "name": "stdout",
     "output_type": "stream",
     "text": [
      "INFO:tensorflow:Scale of 0 disables regularizer.\n",
      "INFO:tensorflow:Restoring parameters from /home/ivan/facenet/models/20180402-114759/model-20180402-114759.ckpt-275\n"
     ]
    },
    {
     "name": "stderr",
     "output_type": "stream",
     "text": [
      "100%|██████████| 19/19 [00:06<00:00,  2.82it/s]\n"
     ]
    },
    {
     "name": "stdout",
     "output_type": "stream",
     "text": [
      "INFO:tensorflow:Scale of 0 disables regularizer.\n",
      "INFO:tensorflow:Restoring parameters from /home/ivan/facenet/models/20180402-114759/model-20180402-114759.ckpt-275\n"
     ]
    },
    {
     "name": "stderr",
     "output_type": "stream",
     "text": [
      "100%|██████████| 19/19 [00:06<00:00,  2.74it/s]\n"
     ]
    },
    {
     "name": "stdout",
     "output_type": "stream",
     "text": [
      "INFO:tensorflow:Scale of 0 disables regularizer.\n",
      "INFO:tensorflow:Restoring parameters from /home/ivan/facenet/models/20180402-114759/model-20180402-114759.ckpt-275\n"
     ]
    },
    {
     "name": "stderr",
     "output_type": "stream",
     "text": [
      "100%|██████████| 19/19 [00:06<00:00,  2.81it/s]\n"
     ]
    },
    {
     "name": "stdout",
     "output_type": "stream",
     "text": [
      "INFO:tensorflow:Scale of 0 disables regularizer.\n",
      "INFO:tensorflow:Restoring parameters from /home/ivan/facenet/models/20180402-114759/model-20180402-114759.ckpt-275\n"
     ]
    },
    {
     "name": "stderr",
     "output_type": "stream",
     "text": [
      "100%|██████████| 19/19 [00:06<00:00,  2.72it/s]\n"
     ]
    },
    {
     "name": "stdout",
     "output_type": "stream",
     "text": [
      "INFO:tensorflow:Scale of 0 disables regularizer.\n",
      "INFO:tensorflow:Restoring parameters from /home/ivan/facenet/models/20180402-114759/model-20180402-114759.ckpt-275\n"
     ]
    },
    {
     "name": "stderr",
     "output_type": "stream",
     "text": [
      "100%|██████████| 19/19 [00:07<00:00,  2.65it/s]\n"
     ]
    },
    {
     "name": "stdout",
     "output_type": "stream",
     "text": [
      "INFO:tensorflow:Scale of 0 disables regularizer.\n",
      "INFO:tensorflow:Restoring parameters from /home/ivan/facenet/models/20180402-114759/model-20180402-114759.ckpt-275\n"
     ]
    },
    {
     "name": "stderr",
     "output_type": "stream",
     "text": [
      "100%|██████████| 19/19 [00:06<00:00,  2.73it/s]\n"
     ]
    },
    {
     "name": "stdout",
     "output_type": "stream",
     "text": [
      "INFO:tensorflow:Scale of 0 disables regularizer.\n",
      "INFO:tensorflow:Restoring parameters from /home/ivan/facenet/models/20180402-114759/model-20180402-114759.ckpt-275\n"
     ]
    },
    {
     "name": "stderr",
     "output_type": "stream",
     "text": [
      "100%|██████████| 19/19 [00:07<00:00,  2.60it/s]\n"
     ]
    },
    {
     "name": "stdout",
     "output_type": "stream",
     "text": [
      "INFO:tensorflow:Scale of 0 disables regularizer.\n",
      "INFO:tensorflow:Restoring parameters from /home/ivan/facenet/models/20180402-114759/model-20180402-114759.ckpt-275\n"
     ]
    },
    {
     "name": "stderr",
     "output_type": "stream",
     "text": [
      "100%|██████████| 19/19 [00:07<00:00,  2.57it/s]\n"
     ]
    },
    {
     "name": "stdout",
     "output_type": "stream",
     "text": [
      "INFO:tensorflow:Scale of 0 disables regularizer.\n",
      "INFO:tensorflow:Restoring parameters from /home/ivan/facenet/models/20180402-114759/model-20180402-114759.ckpt-275\n"
     ]
    },
    {
     "name": "stderr",
     "output_type": "stream",
     "text": [
      "100%|██████████| 19/19 [00:07<00:00,  2.64it/s]\n"
     ]
    },
    {
     "name": "stdout",
     "output_type": "stream",
     "text": [
      "INFO:tensorflow:Scale of 0 disables regularizer.\n",
      "INFO:tensorflow:Restoring parameters from /home/ivan/facenet/models/20180402-114759/model-20180402-114759.ckpt-275\n"
     ]
    },
    {
     "name": "stderr",
     "output_type": "stream",
     "text": [
      "100%|██████████| 19/19 [00:07<00:00,  2.55it/s]\n"
     ]
    },
    {
     "name": "stdout",
     "output_type": "stream",
     "text": [
      "INFO:tensorflow:Scale of 0 disables regularizer.\n",
      "INFO:tensorflow:Restoring parameters from /home/ivan/facenet/models/20180402-114759/model-20180402-114759.ckpt-275\n"
     ]
    },
    {
     "name": "stderr",
     "output_type": "stream",
     "text": [
      "100%|██████████| 19/19 [00:07<00:00,  2.41it/s]\n"
     ]
    },
    {
     "name": "stdout",
     "output_type": "stream",
     "text": [
      "INFO:tensorflow:Scale of 0 disables regularizer.\n",
      "INFO:tensorflow:Restoring parameters from /home/ivan/facenet/models/20180402-114759/model-20180402-114759.ckpt-275\n"
     ]
    },
    {
     "name": "stderr",
     "output_type": "stream",
     "text": [
      "100%|██████████| 19/19 [00:07<00:00,  2.64it/s]\n"
     ]
    },
    {
     "name": "stdout",
     "output_type": "stream",
     "text": [
      "INFO:tensorflow:Scale of 0 disables regularizer.\n",
      "INFO:tensorflow:Restoring parameters from /home/ivan/facenet/models/20180402-114759/model-20180402-114759.ckpt-275\n"
     ]
    },
    {
     "name": "stderr",
     "output_type": "stream",
     "text": [
      "100%|██████████| 19/19 [00:07<00:00,  2.46it/s]\n"
     ]
    },
    {
     "name": "stdout",
     "output_type": "stream",
     "text": [
      "INFO:tensorflow:Scale of 0 disables regularizer.\n",
      "INFO:tensorflow:Restoring parameters from /home/ivan/facenet/models/20180402-114759/model-20180402-114759.ckpt-275\n"
     ]
    },
    {
     "name": "stderr",
     "output_type": "stream",
     "text": [
      "100%|██████████| 19/19 [00:08<00:00,  2.31it/s]\n"
     ]
    },
    {
     "name": "stdout",
     "output_type": "stream",
     "text": [
      "INFO:tensorflow:Scale of 0 disables regularizer.\n",
      "INFO:tensorflow:Restoring parameters from /home/ivan/facenet/models/20180402-114759/model-20180402-114759.ckpt-275\n"
     ]
    },
    {
     "name": "stderr",
     "output_type": "stream",
     "text": [
      "100%|██████████| 19/19 [00:07<00:00,  2.49it/s]\n"
     ]
    },
    {
     "name": "stdout",
     "output_type": "stream",
     "text": [
      "INFO:tensorflow:Scale of 0 disables regularizer.\n",
      "INFO:tensorflow:Restoring parameters from /home/ivan/facenet/models/20180402-114759/model-20180402-114759.ckpt-275\n"
     ]
    },
    {
     "name": "stderr",
     "output_type": "stream",
     "text": [
      "100%|██████████| 19/19 [00:08<00:00,  2.27it/s]\n"
     ]
    },
    {
     "name": "stdout",
     "output_type": "stream",
     "text": [
      "INFO:tensorflow:Scale of 0 disables regularizer.\n",
      "INFO:tensorflow:Restoring parameters from /home/ivan/facenet/models/20180402-114759/model-20180402-114759.ckpt-275\n"
     ]
    },
    {
     "name": "stderr",
     "output_type": "stream",
     "text": [
      "100%|██████████| 19/19 [00:07<00:00,  2.45it/s]\n"
     ]
    },
    {
     "name": "stdout",
     "output_type": "stream",
     "text": [
      "INFO:tensorflow:Scale of 0 disables regularizer.\n",
      "INFO:tensorflow:Restoring parameters from /home/ivan/facenet/models/20180402-114759/model-20180402-114759.ckpt-275\n"
     ]
    },
    {
     "name": "stderr",
     "output_type": "stream",
     "text": [
      "100%|██████████| 19/19 [00:08<00:00,  2.35it/s]\n"
     ]
    },
    {
     "name": "stdout",
     "output_type": "stream",
     "text": [
      "INFO:tensorflow:Scale of 0 disables regularizer.\n",
      "INFO:tensorflow:Restoring parameters from /home/ivan/facenet/models/20180402-114759/model-20180402-114759.ckpt-275\n"
     ]
    },
    {
     "name": "stderr",
     "output_type": "stream",
     "text": [
      "100%|██████████| 19/19 [00:07<00:00,  2.52it/s]\n"
     ]
    },
    {
     "name": "stdout",
     "output_type": "stream",
     "text": [
      "INFO:tensorflow:Scale of 0 disables regularizer.\n",
      "INFO:tensorflow:Restoring parameters from /home/ivan/facenet/models/20180402-114759/model-20180402-114759.ckpt-275\n"
     ]
    },
    {
     "name": "stderr",
     "output_type": "stream",
     "text": [
      "100%|██████████| 19/19 [00:08<00:00,  2.33it/s]\n"
     ]
    },
    {
     "name": "stdout",
     "output_type": "stream",
     "text": [
      "INFO:tensorflow:Scale of 0 disables regularizer.\n",
      "INFO:tensorflow:Restoring parameters from /home/ivan/facenet/models/20180402-114759/model-20180402-114759.ckpt-275\n"
     ]
    },
    {
     "name": "stderr",
     "output_type": "stream",
     "text": [
      "100%|██████████| 19/19 [00:07<00:00,  2.43it/s]\n"
     ]
    },
    {
     "name": "stdout",
     "output_type": "stream",
     "text": [
      "INFO:tensorflow:Scale of 0 disables regularizer.\n",
      "INFO:tensorflow:Restoring parameters from /home/ivan/facenet/models/20180402-114759/model-20180402-114759.ckpt-275\n"
     ]
    },
    {
     "name": "stderr",
     "output_type": "stream",
     "text": [
      "100%|██████████| 19/19 [00:07<00:00,  2.52it/s]\n"
     ]
    },
    {
     "name": "stdout",
     "output_type": "stream",
     "text": [
      "INFO:tensorflow:Scale of 0 disables regularizer.\n",
      "INFO:tensorflow:Restoring parameters from /home/ivan/facenet/models/20180402-114759/model-20180402-114759.ckpt-275\n"
     ]
    },
    {
     "name": "stderr",
     "output_type": "stream",
     "text": [
      "100%|██████████| 19/19 [00:08<00:00,  2.33it/s]\n"
     ]
    },
    {
     "name": "stdout",
     "output_type": "stream",
     "text": [
      "INFO:tensorflow:Scale of 0 disables regularizer.\n",
      "INFO:tensorflow:Restoring parameters from /home/ivan/facenet/models/20180402-114759/model-20180402-114759.ckpt-275\n"
     ]
    },
    {
     "name": "stderr",
     "output_type": "stream",
     "text": [
      "100%|██████████| 19/19 [00:07<00:00,  2.47it/s]\n"
     ]
    },
    {
     "name": "stdout",
     "output_type": "stream",
     "text": [
      "INFO:tensorflow:Scale of 0 disables regularizer.\n",
      "INFO:tensorflow:Restoring parameters from /home/ivan/facenet/models/20180402-114759/model-20180402-114759.ckpt-275\n"
     ]
    },
    {
     "name": "stderr",
     "output_type": "stream",
     "text": [
      "100%|██████████| 19/19 [00:08<00:00,  2.24it/s]\n"
     ]
    },
    {
     "name": "stdout",
     "output_type": "stream",
     "text": [
      "INFO:tensorflow:Scale of 0 disables regularizer.\n",
      "INFO:tensorflow:Restoring parameters from /home/ivan/facenet/models/20180402-114759/model-20180402-114759.ckpt-275\n"
     ]
    },
    {
     "name": "stderr",
     "output_type": "stream",
     "text": [
      "100%|██████████| 19/19 [00:08<00:00,  2.14it/s]\n"
     ]
    },
    {
     "name": "stdout",
     "output_type": "stream",
     "text": [
      "INFO:tensorflow:Scale of 0 disables regularizer.\n",
      "INFO:tensorflow:Restoring parameters from /home/ivan/facenet/models/20180402-114759/model-20180402-114759.ckpt-275\n"
     ]
    },
    {
     "name": "stderr",
     "output_type": "stream",
     "text": [
      "100%|██████████| 19/19 [00:08<00:00,  2.24it/s]\n"
     ]
    },
    {
     "name": "stdout",
     "output_type": "stream",
     "text": [
      "INFO:tensorflow:Scale of 0 disables regularizer.\n",
      "INFO:tensorflow:Restoring parameters from /home/ivan/facenet/models/20180402-114759/model-20180402-114759.ckpt-275\n"
     ]
    },
    {
     "name": "stderr",
     "output_type": "stream",
     "text": [
      "100%|██████████| 19/19 [00:08<00:00,  2.16it/s]\n"
     ]
    },
    {
     "name": "stdout",
     "output_type": "stream",
     "text": [
      "INFO:tensorflow:Scale of 0 disables regularizer.\n",
      "INFO:tensorflow:Restoring parameters from /home/ivan/facenet/models/20180402-114759/model-20180402-114759.ckpt-275\n"
     ]
    },
    {
     "name": "stderr",
     "output_type": "stream",
     "text": [
      "100%|██████████| 19/19 [00:08<00:00,  2.17it/s]\n"
     ]
    },
    {
     "name": "stdout",
     "output_type": "stream",
     "text": [
      "INFO:tensorflow:Scale of 0 disables regularizer.\n",
      "INFO:tensorflow:Restoring parameters from /home/ivan/facenet/models/20180402-114759/model-20180402-114759.ckpt-275\n"
     ]
    },
    {
     "name": "stderr",
     "output_type": "stream",
     "text": [
      "100%|██████████| 19/19 [00:08<00:00,  2.26it/s]\n"
     ]
    },
    {
     "name": "stdout",
     "output_type": "stream",
     "text": [
      "INFO:tensorflow:Scale of 0 disables regularizer.\n",
      "INFO:tensorflow:Restoring parameters from /home/ivan/facenet/models/20180402-114759/model-20180402-114759.ckpt-275\n"
     ]
    },
    {
     "name": "stderr",
     "output_type": "stream",
     "text": [
      "100%|██████████| 19/19 [00:08<00:00,  2.32it/s]\n"
     ]
    },
    {
     "name": "stdout",
     "output_type": "stream",
     "text": [
      "INFO:tensorflow:Scale of 0 disables regularizer.\n",
      "INFO:tensorflow:Restoring parameters from /home/ivan/facenet/models/20180402-114759/model-20180402-114759.ckpt-275\n"
     ]
    },
    {
     "name": "stderr",
     "output_type": "stream",
     "text": [
      "100%|██████████| 19/19 [00:07<00:00,  2.42it/s]\n"
     ]
    },
    {
     "name": "stdout",
     "output_type": "stream",
     "text": [
      "INFO:tensorflow:Scale of 0 disables regularizer.\n",
      "INFO:tensorflow:Restoring parameters from /home/ivan/facenet/models/20180402-114759/model-20180402-114759.ckpt-275\n"
     ]
    },
    {
     "name": "stderr",
     "output_type": "stream",
     "text": [
      "100%|██████████| 19/19 [00:08<00:00,  2.27it/s]\n"
     ]
    },
    {
     "name": "stdout",
     "output_type": "stream",
     "text": [
      "INFO:tensorflow:Scale of 0 disables regularizer.\n",
      "INFO:tensorflow:Restoring parameters from /home/ivan/facenet/models/20180402-114759/model-20180402-114759.ckpt-275\n"
     ]
    },
    {
     "name": "stderr",
     "output_type": "stream",
     "text": [
      "100%|██████████| 19/19 [00:07<00:00,  2.44it/s]\n"
     ]
    },
    {
     "name": "stdout",
     "output_type": "stream",
     "text": [
      "INFO:tensorflow:Scale of 0 disables regularizer.\n",
      "INFO:tensorflow:Restoring parameters from /home/ivan/facenet/models/20180402-114759/model-20180402-114759.ckpt-275\n"
     ]
    },
    {
     "name": "stderr",
     "output_type": "stream",
     "text": [
      "100%|██████████| 19/19 [00:07<00:00,  2.38it/s]\n"
     ]
    },
    {
     "name": "stdout",
     "output_type": "stream",
     "text": [
      "INFO:tensorflow:Scale of 0 disables regularizer.\n",
      "INFO:tensorflow:Restoring parameters from /home/ivan/facenet/models/20180402-114759/model-20180402-114759.ckpt-275\n"
     ]
    },
    {
     "name": "stderr",
     "output_type": "stream",
     "text": [
      "100%|██████████| 19/19 [00:07<00:00,  2.52it/s]\n"
     ]
    },
    {
     "name": "stdout",
     "output_type": "stream",
     "text": [
      "INFO:tensorflow:Scale of 0 disables regularizer.\n",
      "INFO:tensorflow:Restoring parameters from /home/ivan/facenet/models/20180402-114759/model-20180402-114759.ckpt-275\n"
     ]
    },
    {
     "name": "stderr",
     "output_type": "stream",
     "text": [
      "100%|██████████| 19/19 [00:07<00:00,  2.55it/s]\n"
     ]
    },
    {
     "name": "stdout",
     "output_type": "stream",
     "text": [
      "INFO:tensorflow:Scale of 0 disables regularizer.\n",
      "INFO:tensorflow:Restoring parameters from /home/ivan/facenet/models/20180402-114759/model-20180402-114759.ckpt-275\n"
     ]
    },
    {
     "name": "stderr",
     "output_type": "stream",
     "text": [
      "100%|██████████| 19/19 [00:08<00:00,  2.35it/s]\n"
     ]
    },
    {
     "name": "stdout",
     "output_type": "stream",
     "text": [
      "INFO:tensorflow:Scale of 0 disables regularizer.\n",
      "INFO:tensorflow:Restoring parameters from /home/ivan/facenet/models/20180402-114759/model-20180402-114759.ckpt-275\n"
     ]
    },
    {
     "name": "stderr",
     "output_type": "stream",
     "text": [
      "100%|██████████| 19/19 [00:07<00:00,  2.69it/s]\n"
     ]
    },
    {
     "name": "stdout",
     "output_type": "stream",
     "text": [
      "INFO:tensorflow:Scale of 0 disables regularizer.\n",
      "INFO:tensorflow:Restoring parameters from /home/ivan/facenet/models/20180402-114759/model-20180402-114759.ckpt-275\n"
     ]
    },
    {
     "name": "stderr",
     "output_type": "stream",
     "text": [
      "100%|██████████| 19/19 [00:07<00:00,  2.47it/s]\n"
     ]
    },
    {
     "name": "stdout",
     "output_type": "stream",
     "text": [
      "INFO:tensorflow:Scale of 0 disables regularizer.\n",
      "INFO:tensorflow:Restoring parameters from /home/ivan/facenet/models/20180402-114759/model-20180402-114759.ckpt-275\n"
     ]
    },
    {
     "name": "stderr",
     "output_type": "stream",
     "text": [
      "100%|██████████| 19/19 [00:07<00:00,  2.47it/s]\n"
     ]
    },
    {
     "name": "stdout",
     "output_type": "stream",
     "text": [
      "INFO:tensorflow:Scale of 0 disables regularizer.\n",
      "INFO:tensorflow:Restoring parameters from /home/ivan/facenet/models/20180402-114759/model-20180402-114759.ckpt-275\n"
     ]
    },
    {
     "name": "stderr",
     "output_type": "stream",
     "text": [
      "100%|██████████| 19/19 [00:08<00:00,  2.32it/s]\n"
     ]
    },
    {
     "name": "stdout",
     "output_type": "stream",
     "text": [
      "INFO:tensorflow:Scale of 0 disables regularizer.\n",
      "INFO:tensorflow:Restoring parameters from /home/ivan/facenet/models/20180402-114759/model-20180402-114759.ckpt-275\n"
     ]
    },
    {
     "name": "stderr",
     "output_type": "stream",
     "text": [
      "100%|██████████| 19/19 [00:07<00:00,  2.50it/s]\n"
     ]
    },
    {
     "name": "stdout",
     "output_type": "stream",
     "text": [
      "INFO:tensorflow:Scale of 0 disables regularizer.\n",
      "INFO:tensorflow:Restoring parameters from /home/ivan/facenet/models/20180402-114759/model-20180402-114759.ckpt-275\n"
     ]
    },
    {
     "name": "stderr",
     "output_type": "stream",
     "text": [
      "100%|██████████| 19/19 [00:07<00:00,  2.62it/s]\n"
     ]
    },
    {
     "name": "stdout",
     "output_type": "stream",
     "text": [
      "INFO:tensorflow:Scale of 0 disables regularizer.\n",
      "INFO:tensorflow:Restoring parameters from /home/ivan/facenet/models/20180402-114759/model-20180402-114759.ckpt-275\n"
     ]
    },
    {
     "name": "stderr",
     "output_type": "stream",
     "text": [
      "100%|██████████| 19/19 [00:07<00:00,  2.65it/s]\n"
     ]
    },
    {
     "name": "stdout",
     "output_type": "stream",
     "text": [
      "INFO:tensorflow:Scale of 0 disables regularizer.\n",
      "INFO:tensorflow:Restoring parameters from /home/ivan/facenet/models/20180402-114759/model-20180402-114759.ckpt-275\n"
     ]
    },
    {
     "name": "stderr",
     "output_type": "stream",
     "text": [
      "100%|██████████| 19/19 [00:07<00:00,  2.58it/s]\n"
     ]
    },
    {
     "name": "stdout",
     "output_type": "stream",
     "text": [
      "INFO:tensorflow:Scale of 0 disables regularizer.\n",
      "INFO:tensorflow:Restoring parameters from /home/ivan/facenet/models/20180402-114759/model-20180402-114759.ckpt-275\n"
     ]
    },
    {
     "name": "stderr",
     "output_type": "stream",
     "text": [
      "100%|██████████| 19/19 [00:07<00:00,  2.44it/s]\n"
     ]
    },
    {
     "name": "stdout",
     "output_type": "stream",
     "text": [
      "INFO:tensorflow:Scale of 0 disables regularizer.\n",
      "INFO:tensorflow:Restoring parameters from /home/ivan/facenet/models/20180402-114759/model-20180402-114759.ckpt-275\n"
     ]
    },
    {
     "name": "stderr",
     "output_type": "stream",
     "text": [
      "100%|██████████| 19/19 [00:07<00:00,  2.49it/s]\n"
     ]
    },
    {
     "name": "stdout",
     "output_type": "stream",
     "text": [
      "INFO:tensorflow:Scale of 0 disables regularizer.\n",
      "INFO:tensorflow:Restoring parameters from /home/ivan/facenet/models/20180402-114759/model-20180402-114759.ckpt-275\n"
     ]
    },
    {
     "name": "stderr",
     "output_type": "stream",
     "text": [
      "100%|██████████| 19/19 [00:07<00:00,  2.54it/s]\n"
     ]
    },
    {
     "name": "stdout",
     "output_type": "stream",
     "text": [
      "INFO:tensorflow:Scale of 0 disables regularizer.\n",
      "INFO:tensorflow:Restoring parameters from /home/ivan/facenet/models/20180402-114759/model-20180402-114759.ckpt-275\n"
     ]
    },
    {
     "name": "stderr",
     "output_type": "stream",
     "text": [
      "100%|██████████| 19/19 [00:07<00:00,  2.70it/s]\n"
     ]
    },
    {
     "name": "stdout",
     "output_type": "stream",
     "text": [
      "INFO:tensorflow:Scale of 0 disables regularizer.\n",
      "INFO:tensorflow:Restoring parameters from /home/ivan/facenet/models/20180402-114759/model-20180402-114759.ckpt-275\n"
     ]
    },
    {
     "name": "stderr",
     "output_type": "stream",
     "text": [
      "100%|██████████| 19/19 [00:07<00:00,  2.70it/s]\n"
     ]
    },
    {
     "name": "stdout",
     "output_type": "stream",
     "text": [
      "INFO:tensorflow:Scale of 0 disables regularizer.\n",
      "INFO:tensorflow:Restoring parameters from /home/ivan/facenet/models/20180402-114759/model-20180402-114759.ckpt-275\n"
     ]
    },
    {
     "name": "stderr",
     "output_type": "stream",
     "text": [
      "100%|██████████| 19/19 [00:07<00:00,  2.70it/s]\n"
     ]
    },
    {
     "name": "stdout",
     "output_type": "stream",
     "text": [
      "INFO:tensorflow:Scale of 0 disables regularizer.\n",
      "INFO:tensorflow:Restoring parameters from /home/ivan/facenet/models/20180402-114759/model-20180402-114759.ckpt-275\n"
     ]
    },
    {
     "name": "stderr",
     "output_type": "stream",
     "text": [
      "100%|██████████| 19/19 [00:07<00:00,  2.54it/s]\n"
     ]
    },
    {
     "name": "stdout",
     "output_type": "stream",
     "text": [
      "INFO:tensorflow:Scale of 0 disables regularizer.\n",
      "INFO:tensorflow:Restoring parameters from /home/ivan/facenet/models/20180402-114759/model-20180402-114759.ckpt-275\n"
     ]
    },
    {
     "name": "stderr",
     "output_type": "stream",
     "text": [
      "100%|██████████| 19/19 [00:07<00:00,  2.63it/s]\n"
     ]
    },
    {
     "name": "stdout",
     "output_type": "stream",
     "text": [
      "INFO:tensorflow:Scale of 0 disables regularizer.\n",
      "INFO:tensorflow:Restoring parameters from /home/ivan/facenet/models/20180402-114759/model-20180402-114759.ckpt-275\n"
     ]
    },
    {
     "name": "stderr",
     "output_type": "stream",
     "text": [
      "100%|██████████| 19/19 [00:06<00:00,  2.80it/s]\n"
     ]
    },
    {
     "name": "stdout",
     "output_type": "stream",
     "text": [
      "INFO:tensorflow:Scale of 0 disables regularizer.\n",
      "INFO:tensorflow:Restoring parameters from /home/ivan/facenet/models/20180402-114759/model-20180402-114759.ckpt-275\n"
     ]
    },
    {
     "name": "stderr",
     "output_type": "stream",
     "text": [
      "100%|██████████| 19/19 [00:06<00:00,  2.76it/s]\n"
     ]
    },
    {
     "name": "stdout",
     "output_type": "stream",
     "text": [
      "INFO:tensorflow:Scale of 0 disables regularizer.\n",
      "INFO:tensorflow:Restoring parameters from /home/ivan/facenet/models/20180402-114759/model-20180402-114759.ckpt-275\n"
     ]
    },
    {
     "name": "stderr",
     "output_type": "stream",
     "text": [
      "100%|██████████| 19/19 [00:06<00:00,  2.72it/s]\n"
     ]
    },
    {
     "name": "stdout",
     "output_type": "stream",
     "text": [
      "INFO:tensorflow:Scale of 0 disables regularizer.\n",
      "INFO:tensorflow:Restoring parameters from /home/ivan/facenet/models/20180402-114759/model-20180402-114759.ckpt-275\n"
     ]
    },
    {
     "name": "stderr",
     "output_type": "stream",
     "text": [
      "100%|██████████| 19/19 [00:06<00:00,  2.73it/s]\n"
     ]
    },
    {
     "name": "stdout",
     "output_type": "stream",
     "text": [
      "INFO:tensorflow:Scale of 0 disables regularizer.\n",
      "INFO:tensorflow:Restoring parameters from /home/ivan/facenet/models/20180402-114759/model-20180402-114759.ckpt-275\n"
     ]
    },
    {
     "name": "stderr",
     "output_type": "stream",
     "text": [
      "100%|██████████| 19/19 [00:06<00:00,  2.72it/s]\n"
     ]
    },
    {
     "name": "stdout",
     "output_type": "stream",
     "text": [
      "INFO:tensorflow:Scale of 0 disables regularizer.\n",
      "INFO:tensorflow:Restoring parameters from /home/ivan/facenet/models/20180402-114759/model-20180402-114759.ckpt-275\n"
     ]
    },
    {
     "name": "stderr",
     "output_type": "stream",
     "text": [
      "100%|██████████| 19/19 [00:07<00:00,  2.53it/s]\n"
     ]
    },
    {
     "name": "stdout",
     "output_type": "stream",
     "text": [
      "INFO:tensorflow:Scale of 0 disables regularizer.\n",
      "INFO:tensorflow:Restoring parameters from /home/ivan/facenet/models/20180402-114759/model-20180402-114759.ckpt-275\n"
     ]
    },
    {
     "name": "stderr",
     "output_type": "stream",
     "text": [
      "100%|██████████| 19/19 [00:07<00:00,  2.48it/s]\n"
     ]
    },
    {
     "name": "stdout",
     "output_type": "stream",
     "text": [
      "INFO:tensorflow:Scale of 0 disables regularizer.\n",
      "INFO:tensorflow:Restoring parameters from /home/ivan/facenet/models/20180402-114759/model-20180402-114759.ckpt-275\n"
     ]
    },
    {
     "name": "stderr",
     "output_type": "stream",
     "text": [
      "100%|██████████| 19/19 [00:08<00:00,  2.37it/s]\n"
     ]
    },
    {
     "name": "stdout",
     "output_type": "stream",
     "text": [
      "INFO:tensorflow:Scale of 0 disables regularizer.\n",
      "INFO:tensorflow:Restoring parameters from /home/ivan/facenet/models/20180402-114759/model-20180402-114759.ckpt-275\n"
     ]
    },
    {
     "name": "stderr",
     "output_type": "stream",
     "text": [
      "100%|██████████| 19/19 [00:07<00:00,  2.65it/s]\n"
     ]
    },
    {
     "name": "stdout",
     "output_type": "stream",
     "text": [
      "INFO:tensorflow:Scale of 0 disables regularizer.\n",
      "INFO:tensorflow:Restoring parameters from /home/ivan/facenet/models/20180402-114759/model-20180402-114759.ckpt-275\n"
     ]
    },
    {
     "name": "stderr",
     "output_type": "stream",
     "text": [
      "100%|██████████| 19/19 [00:07<00:00,  2.66it/s]\n"
     ]
    },
    {
     "name": "stdout",
     "output_type": "stream",
     "text": [
      "INFO:tensorflow:Scale of 0 disables regularizer.\n",
      "INFO:tensorflow:Restoring parameters from /home/ivan/facenet/models/20180402-114759/model-20180402-114759.ckpt-275\n"
     ]
    },
    {
     "name": "stderr",
     "output_type": "stream",
     "text": [
      "100%|██████████| 19/19 [00:07<00:00,  2.60it/s]\n"
     ]
    },
    {
     "name": "stdout",
     "output_type": "stream",
     "text": [
      "INFO:tensorflow:Scale of 0 disables regularizer.\n",
      "INFO:tensorflow:Restoring parameters from /home/ivan/facenet/models/20180402-114759/model-20180402-114759.ckpt-275\n"
     ]
    },
    {
     "name": "stderr",
     "output_type": "stream",
     "text": [
      "100%|██████████| 19/19 [00:07<00:00,  2.58it/s]\n"
     ]
    },
    {
     "name": "stdout",
     "output_type": "stream",
     "text": [
      "INFO:tensorflow:Scale of 0 disables regularizer.\n",
      "INFO:tensorflow:Restoring parameters from /home/ivan/facenet/models/20180402-114759/model-20180402-114759.ckpt-275\n"
     ]
    },
    {
     "name": "stderr",
     "output_type": "stream",
     "text": [
      "100%|██████████| 19/19 [00:07<00:00,  2.58it/s]\n"
     ]
    },
    {
     "name": "stdout",
     "output_type": "stream",
     "text": [
      "INFO:tensorflow:Scale of 0 disables regularizer.\n",
      "INFO:tensorflow:Restoring parameters from /home/ivan/facenet/models/20180402-114759/model-20180402-114759.ckpt-275\n"
     ]
    },
    {
     "name": "stderr",
     "output_type": "stream",
     "text": [
      "100%|██████████| 19/19 [00:07<00:00,  2.43it/s]\n"
     ]
    },
    {
     "name": "stdout",
     "output_type": "stream",
     "text": [
      "INFO:tensorflow:Scale of 0 disables regularizer.\n",
      "INFO:tensorflow:Restoring parameters from /home/ivan/facenet/models/20180402-114759/model-20180402-114759.ckpt-275\n"
     ]
    },
    {
     "name": "stderr",
     "output_type": "stream",
     "text": [
      "100%|██████████| 19/19 [00:07<00:00,  2.41it/s]\n"
     ]
    },
    {
     "name": "stdout",
     "output_type": "stream",
     "text": [
      "INFO:tensorflow:Scale of 0 disables regularizer.\n",
      "INFO:tensorflow:Restoring parameters from /home/ivan/facenet/models/20180402-114759/model-20180402-114759.ckpt-275\n"
     ]
    },
    {
     "name": "stderr",
     "output_type": "stream",
     "text": [
      "100%|██████████| 19/19 [00:07<00:00,  2.48it/s]\n"
     ]
    },
    {
     "name": "stdout",
     "output_type": "stream",
     "text": [
      "INFO:tensorflow:Scale of 0 disables regularizer.\n",
      "INFO:tensorflow:Restoring parameters from /home/ivan/facenet/models/20180402-114759/model-20180402-114759.ckpt-275\n"
     ]
    },
    {
     "name": "stderr",
     "output_type": "stream",
     "text": [
      "100%|██████████| 19/19 [00:08<00:00,  2.37it/s]\n"
     ]
    },
    {
     "name": "stdout",
     "output_type": "stream",
     "text": [
      "INFO:tensorflow:Scale of 0 disables regularizer.\n",
      "INFO:tensorflow:Restoring parameters from /home/ivan/facenet/models/20180402-114759/model-20180402-114759.ckpt-275\n"
     ]
    },
    {
     "name": "stderr",
     "output_type": "stream",
     "text": [
      "100%|██████████| 19/19 [00:07<00:00,  2.42it/s]\n"
     ]
    },
    {
     "name": "stdout",
     "output_type": "stream",
     "text": [
      "INFO:tensorflow:Scale of 0 disables regularizer.\n",
      "INFO:tensorflow:Restoring parameters from /home/ivan/facenet/models/20180402-114759/model-20180402-114759.ckpt-275\n"
     ]
    },
    {
     "name": "stderr",
     "output_type": "stream",
     "text": [
      "100%|██████████| 19/19 [00:07<00:00,  2.57it/s]\n"
     ]
    },
    {
     "name": "stdout",
     "output_type": "stream",
     "text": [
      "INFO:tensorflow:Scale of 0 disables regularizer.\n",
      "INFO:tensorflow:Restoring parameters from /home/ivan/facenet/models/20180402-114759/model-20180402-114759.ckpt-275\n"
     ]
    },
    {
     "name": "stderr",
     "output_type": "stream",
     "text": [
      "100%|██████████| 19/19 [00:07<00:00,  2.62it/s]\n"
     ]
    },
    {
     "name": "stdout",
     "output_type": "stream",
     "text": [
      "INFO:tensorflow:Scale of 0 disables regularizer.\n",
      "INFO:tensorflow:Restoring parameters from /home/ivan/facenet/models/20180402-114759/model-20180402-114759.ckpt-275\n"
     ]
    },
    {
     "name": "stderr",
     "output_type": "stream",
     "text": [
      "100%|██████████| 19/19 [00:07<00:00,  2.49it/s]\n"
     ]
    },
    {
     "name": "stdout",
     "output_type": "stream",
     "text": [
      "INFO:tensorflow:Scale of 0 disables regularizer.\n",
      "INFO:tensorflow:Restoring parameters from /home/ivan/facenet/models/20180402-114759/model-20180402-114759.ckpt-275\n"
     ]
    },
    {
     "name": "stderr",
     "output_type": "stream",
     "text": [
      "100%|██████████| 19/19 [00:07<00:00,  2.46it/s]\n"
     ]
    },
    {
     "name": "stdout",
     "output_type": "stream",
     "text": [
      "INFO:tensorflow:Scale of 0 disables regularizer.\n",
      "INFO:tensorflow:Restoring parameters from /home/ivan/facenet/models/20180402-114759/model-20180402-114759.ckpt-275\n"
     ]
    },
    {
     "name": "stderr",
     "output_type": "stream",
     "text": [
      "100%|██████████| 19/19 [00:07<00:00,  2.46it/s]\n"
     ]
    },
    {
     "name": "stdout",
     "output_type": "stream",
     "text": [
      "INFO:tensorflow:Scale of 0 disables regularizer.\n",
      "INFO:tensorflow:Restoring parameters from /home/ivan/facenet/models/20180402-114759/model-20180402-114759.ckpt-275\n"
     ]
    },
    {
     "name": "stderr",
     "output_type": "stream",
     "text": [
      "100%|██████████| 19/19 [00:08<00:00,  2.33it/s]\n"
     ]
    },
    {
     "name": "stdout",
     "output_type": "stream",
     "text": [
      "INFO:tensorflow:Scale of 0 disables regularizer.\n",
      "INFO:tensorflow:Restoring parameters from /home/ivan/facenet/models/20180402-114759/model-20180402-114759.ckpt-275\n"
     ]
    },
    {
     "name": "stderr",
     "output_type": "stream",
     "text": [
      "100%|██████████| 19/19 [00:07<00:00,  2.53it/s]\n"
     ]
    },
    {
     "name": "stdout",
     "output_type": "stream",
     "text": [
      "INFO:tensorflow:Scale of 0 disables regularizer.\n",
      "INFO:tensorflow:Restoring parameters from /home/ivan/facenet/models/20180402-114759/model-20180402-114759.ckpt-275\n"
     ]
    },
    {
     "name": "stderr",
     "output_type": "stream",
     "text": [
      "100%|██████████| 19/19 [00:07<00:00,  2.47it/s]\n"
     ]
    },
    {
     "name": "stdout",
     "output_type": "stream",
     "text": [
      "INFO:tensorflow:Scale of 0 disables regularizer.\n",
      "INFO:tensorflow:Restoring parameters from /home/ivan/facenet/models/20180402-114759/model-20180402-114759.ckpt-275\n"
     ]
    },
    {
     "name": "stderr",
     "output_type": "stream",
     "text": [
      "100%|██████████| 19/19 [00:07<00:00,  2.40it/s]\n"
     ]
    },
    {
     "name": "stdout",
     "output_type": "stream",
     "text": [
      "INFO:tensorflow:Scale of 0 disables regularizer.\n",
      "INFO:tensorflow:Restoring parameters from /home/ivan/facenet/models/20180402-114759/model-20180402-114759.ckpt-275\n"
     ]
    },
    {
     "name": "stderr",
     "output_type": "stream",
     "text": [
      "100%|██████████| 19/19 [00:07<00:00,  2.43it/s]\n"
     ]
    },
    {
     "name": "stdout",
     "output_type": "stream",
     "text": [
      "INFO:tensorflow:Scale of 0 disables regularizer.\n",
      "INFO:tensorflow:Restoring parameters from /home/ivan/facenet/models/20180402-114759/model-20180402-114759.ckpt-275\n"
     ]
    },
    {
     "name": "stderr",
     "output_type": "stream",
     "text": [
      "100%|██████████| 19/19 [00:07<00:00,  2.50it/s]\n"
     ]
    },
    {
     "name": "stdout",
     "output_type": "stream",
     "text": [
      "INFO:tensorflow:Scale of 0 disables regularizer.\n",
      "INFO:tensorflow:Restoring parameters from /home/ivan/facenet/models/20180402-114759/model-20180402-114759.ckpt-275\n"
     ]
    },
    {
     "name": "stderr",
     "output_type": "stream",
     "text": [
      "100%|██████████| 19/19 [00:07<00:00,  2.49it/s]\n"
     ]
    },
    {
     "name": "stdout",
     "output_type": "stream",
     "text": [
      "INFO:tensorflow:Scale of 0 disables regularizer.\n",
      "INFO:tensorflow:Restoring parameters from /home/ivan/facenet/models/20180408-102900/model-20180408-102900.ckpt-90\n"
     ]
    },
    {
     "name": "stderr",
     "output_type": "stream",
     "text": [
      "100%|██████████| 19/19 [00:03<00:00,  5.82it/s]\n"
     ]
    },
    {
     "name": "stdout",
     "output_type": "stream",
     "text": [
      "INFO:tensorflow:Scale of 0 disables regularizer.\n",
      "INFO:tensorflow:Restoring parameters from /home/ivan/facenet/models/20180408-102900/model-20180408-102900.ckpt-90\n"
     ]
    },
    {
     "name": "stderr",
     "output_type": "stream",
     "text": [
      "100%|██████████| 19/19 [00:03<00:00,  5.28it/s]\n"
     ]
    },
    {
     "name": "stdout",
     "output_type": "stream",
     "text": [
      "INFO:tensorflow:Scale of 0 disables regularizer.\n",
      "INFO:tensorflow:Restoring parameters from /home/ivan/facenet/models/20180408-102900/model-20180408-102900.ckpt-90\n"
     ]
    },
    {
     "name": "stderr",
     "output_type": "stream",
     "text": [
      "100%|██████████| 19/19 [00:03<00:00,  6.26it/s]\n"
     ]
    },
    {
     "name": "stdout",
     "output_type": "stream",
     "text": [
      "INFO:tensorflow:Scale of 0 disables regularizer.\n",
      "INFO:tensorflow:Restoring parameters from /home/ivan/facenet/models/20180408-102900/model-20180408-102900.ckpt-90\n"
     ]
    },
    {
     "name": "stderr",
     "output_type": "stream",
     "text": [
      "100%|██████████| 19/19 [00:03<00:00,  6.08it/s]\n"
     ]
    },
    {
     "name": "stdout",
     "output_type": "stream",
     "text": [
      "INFO:tensorflow:Scale of 0 disables regularizer.\n",
      "INFO:tensorflow:Restoring parameters from /home/ivan/facenet/models/20180408-102900/model-20180408-102900.ckpt-90\n"
     ]
    },
    {
     "name": "stderr",
     "output_type": "stream",
     "text": [
      "100%|██████████| 19/19 [00:03<00:00,  6.29it/s]\n"
     ]
    },
    {
     "name": "stdout",
     "output_type": "stream",
     "text": [
      "INFO:tensorflow:Scale of 0 disables regularizer.\n",
      "INFO:tensorflow:Restoring parameters from /home/ivan/facenet/models/20180408-102900/model-20180408-102900.ckpt-90\n"
     ]
    },
    {
     "name": "stderr",
     "output_type": "stream",
     "text": [
      "100%|██████████| 19/19 [00:03<00:00,  5.24it/s]\n"
     ]
    },
    {
     "name": "stdout",
     "output_type": "stream",
     "text": [
      "INFO:tensorflow:Scale of 0 disables regularizer.\n",
      "INFO:tensorflow:Restoring parameters from /home/ivan/facenet/models/20180408-102900/model-20180408-102900.ckpt-90\n"
     ]
    },
    {
     "name": "stderr",
     "output_type": "stream",
     "text": [
      "100%|██████████| 19/19 [00:03<00:00,  5.17it/s]\n"
     ]
    },
    {
     "name": "stdout",
     "output_type": "stream",
     "text": [
      "INFO:tensorflow:Scale of 0 disables regularizer.\n",
      "INFO:tensorflow:Restoring parameters from /home/ivan/facenet/models/20180408-102900/model-20180408-102900.ckpt-90\n"
     ]
    },
    {
     "name": "stderr",
     "output_type": "stream",
     "text": [
      "100%|██████████| 19/19 [00:03<00:00,  6.23it/s]\n"
     ]
    },
    {
     "name": "stdout",
     "output_type": "stream",
     "text": [
      "INFO:tensorflow:Scale of 0 disables regularizer.\n",
      "INFO:tensorflow:Restoring parameters from /home/ivan/facenet/models/20180408-102900/model-20180408-102900.ckpt-90\n"
     ]
    },
    {
     "name": "stderr",
     "output_type": "stream",
     "text": [
      "100%|██████████| 19/19 [00:03<00:00,  5.77it/s]\n"
     ]
    },
    {
     "name": "stdout",
     "output_type": "stream",
     "text": [
      "INFO:tensorflow:Scale of 0 disables regularizer.\n",
      "INFO:tensorflow:Restoring parameters from /home/ivan/facenet/models/20180408-102900/model-20180408-102900.ckpt-90\n"
     ]
    },
    {
     "name": "stderr",
     "output_type": "stream",
     "text": [
      "100%|██████████| 19/19 [00:03<00:00,  6.03it/s]\n"
     ]
    },
    {
     "name": "stdout",
     "output_type": "stream",
     "text": [
      "INFO:tensorflow:Scale of 0 disables regularizer.\n",
      "INFO:tensorflow:Restoring parameters from /home/ivan/facenet/models/20180408-102900/model-20180408-102900.ckpt-90\n"
     ]
    },
    {
     "name": "stderr",
     "output_type": "stream",
     "text": [
      "100%|██████████| 19/19 [00:07<00:00,  2.71it/s]\n"
     ]
    },
    {
     "name": "stdout",
     "output_type": "stream",
     "text": [
      "INFO:tensorflow:Scale of 0 disables regularizer.\n",
      "INFO:tensorflow:Restoring parameters from /home/ivan/facenet/models/20180408-102900/model-20180408-102900.ckpt-90\n"
     ]
    },
    {
     "name": "stderr",
     "output_type": "stream",
     "text": [
      "100%|██████████| 19/19 [00:06<00:00,  2.74it/s]\n"
     ]
    },
    {
     "name": "stdout",
     "output_type": "stream",
     "text": [
      "INFO:tensorflow:Scale of 0 disables regularizer.\n",
      "INFO:tensorflow:Restoring parameters from /home/ivan/facenet/models/20180408-102900/model-20180408-102900.ckpt-90\n"
     ]
    },
    {
     "name": "stderr",
     "output_type": "stream",
     "text": [
      "100%|██████████| 19/19 [00:07<00:00,  2.68it/s]\n"
     ]
    },
    {
     "name": "stdout",
     "output_type": "stream",
     "text": [
      "INFO:tensorflow:Scale of 0 disables regularizer.\n",
      "INFO:tensorflow:Restoring parameters from /home/ivan/facenet/models/20180408-102900/model-20180408-102900.ckpt-90\n"
     ]
    },
    {
     "name": "stderr",
     "output_type": "stream",
     "text": [
      "100%|██████████| 19/19 [00:06<00:00,  2.74it/s]\n"
     ]
    },
    {
     "name": "stdout",
     "output_type": "stream",
     "text": [
      "INFO:tensorflow:Scale of 0 disables regularizer.\n",
      "INFO:tensorflow:Restoring parameters from /home/ivan/facenet/models/20180408-102900/model-20180408-102900.ckpt-90\n"
     ]
    },
    {
     "name": "stderr",
     "output_type": "stream",
     "text": [
      "100%|██████████| 19/19 [00:06<00:00,  2.85it/s]\n"
     ]
    },
    {
     "name": "stdout",
     "output_type": "stream",
     "text": [
      "INFO:tensorflow:Scale of 0 disables regularizer.\n",
      "INFO:tensorflow:Restoring parameters from /home/ivan/facenet/models/20180408-102900/model-20180408-102900.ckpt-90\n"
     ]
    },
    {
     "name": "stderr",
     "output_type": "stream",
     "text": [
      "100%|██████████| 19/19 [00:06<00:00,  2.78it/s]\n"
     ]
    },
    {
     "name": "stdout",
     "output_type": "stream",
     "text": [
      "INFO:tensorflow:Scale of 0 disables regularizer.\n",
      "INFO:tensorflow:Restoring parameters from /home/ivan/facenet/models/20180408-102900/model-20180408-102900.ckpt-90\n"
     ]
    },
    {
     "name": "stderr",
     "output_type": "stream",
     "text": [
      "100%|██████████| 19/19 [00:06<00:00,  2.73it/s]\n"
     ]
    },
    {
     "name": "stdout",
     "output_type": "stream",
     "text": [
      "INFO:tensorflow:Scale of 0 disables regularizer.\n",
      "INFO:tensorflow:Restoring parameters from /home/ivan/facenet/models/20180408-102900/model-20180408-102900.ckpt-90\n"
     ]
    },
    {
     "name": "stderr",
     "output_type": "stream",
     "text": [
      "100%|██████████| 19/19 [00:06<00:00,  2.77it/s]\n"
     ]
    },
    {
     "name": "stdout",
     "output_type": "stream",
     "text": [
      "INFO:tensorflow:Scale of 0 disables regularizer.\n",
      "INFO:tensorflow:Restoring parameters from /home/ivan/facenet/models/20180408-102900/model-20180408-102900.ckpt-90\n"
     ]
    },
    {
     "name": "stderr",
     "output_type": "stream",
     "text": [
      "100%|██████████| 19/19 [00:07<00:00,  2.67it/s]\n"
     ]
    },
    {
     "name": "stdout",
     "output_type": "stream",
     "text": [
      "INFO:tensorflow:Scale of 0 disables regularizer.\n",
      "INFO:tensorflow:Restoring parameters from /home/ivan/facenet/models/20180408-102900/model-20180408-102900.ckpt-90\n"
     ]
    },
    {
     "name": "stderr",
     "output_type": "stream",
     "text": [
      "100%|██████████| 19/19 [00:07<00:00,  2.66it/s]\n"
     ]
    },
    {
     "name": "stdout",
     "output_type": "stream",
     "text": [
      "INFO:tensorflow:Scale of 0 disables regularizer.\n",
      "INFO:tensorflow:Restoring parameters from /home/ivan/facenet/models/20180408-102900/model-20180408-102900.ckpt-90\n"
     ]
    },
    {
     "name": "stderr",
     "output_type": "stream",
     "text": [
      "100%|██████████| 19/19 [00:07<00:00,  2.69it/s]\n"
     ]
    },
    {
     "name": "stdout",
     "output_type": "stream",
     "text": [
      "INFO:tensorflow:Scale of 0 disables regularizer.\n",
      "INFO:tensorflow:Restoring parameters from /home/ivan/facenet/models/20180408-102900/model-20180408-102900.ckpt-90\n"
     ]
    },
    {
     "name": "stderr",
     "output_type": "stream",
     "text": [
      "100%|██████████| 19/19 [00:07<00:00,  2.67it/s]\n"
     ]
    },
    {
     "name": "stdout",
     "output_type": "stream",
     "text": [
      "INFO:tensorflow:Scale of 0 disables regularizer.\n",
      "INFO:tensorflow:Restoring parameters from /home/ivan/facenet/models/20180408-102900/model-20180408-102900.ckpt-90\n"
     ]
    },
    {
     "name": "stderr",
     "output_type": "stream",
     "text": [
      "100%|██████████| 19/19 [00:07<00:00,  2.62it/s]\n"
     ]
    },
    {
     "name": "stdout",
     "output_type": "stream",
     "text": [
      "INFO:tensorflow:Scale of 0 disables regularizer.\n",
      "INFO:tensorflow:Restoring parameters from /home/ivan/facenet/models/20180408-102900/model-20180408-102900.ckpt-90\n"
     ]
    },
    {
     "name": "stderr",
     "output_type": "stream",
     "text": [
      "100%|██████████| 19/19 [00:07<00:00,  2.67it/s]\n"
     ]
    },
    {
     "name": "stdout",
     "output_type": "stream",
     "text": [
      "INFO:tensorflow:Scale of 0 disables regularizer.\n",
      "INFO:tensorflow:Restoring parameters from /home/ivan/facenet/models/20180408-102900/model-20180408-102900.ckpt-90\n"
     ]
    },
    {
     "name": "stderr",
     "output_type": "stream",
     "text": [
      "100%|██████████| 19/19 [00:06<00:00,  2.76it/s]\n"
     ]
    },
    {
     "name": "stdout",
     "output_type": "stream",
     "text": [
      "INFO:tensorflow:Scale of 0 disables regularizer.\n",
      "INFO:tensorflow:Restoring parameters from /home/ivan/facenet/models/20180408-102900/model-20180408-102900.ckpt-90\n"
     ]
    },
    {
     "name": "stderr",
     "output_type": "stream",
     "text": [
      "100%|██████████| 19/19 [00:07<00:00,  2.69it/s]\n"
     ]
    },
    {
     "name": "stdout",
     "output_type": "stream",
     "text": [
      "INFO:tensorflow:Scale of 0 disables regularizer.\n",
      "INFO:tensorflow:Restoring parameters from /home/ivan/facenet/models/20180408-102900/model-20180408-102900.ckpt-90\n"
     ]
    },
    {
     "name": "stderr",
     "output_type": "stream",
     "text": [
      "100%|██████████| 19/19 [00:07<00:00,  2.71it/s]\n"
     ]
    },
    {
     "name": "stdout",
     "output_type": "stream",
     "text": [
      "INFO:tensorflow:Scale of 0 disables regularizer.\n",
      "INFO:tensorflow:Restoring parameters from /home/ivan/facenet/models/20180408-102900/model-20180408-102900.ckpt-90\n"
     ]
    },
    {
     "name": "stderr",
     "output_type": "stream",
     "text": [
      "100%|██████████| 19/19 [00:07<00:00,  2.71it/s]\n"
     ]
    },
    {
     "name": "stdout",
     "output_type": "stream",
     "text": [
      "INFO:tensorflow:Scale of 0 disables regularizer.\n",
      "INFO:tensorflow:Restoring parameters from /home/ivan/facenet/models/20180408-102900/model-20180408-102900.ckpt-90\n"
     ]
    },
    {
     "name": "stderr",
     "output_type": "stream",
     "text": [
      "100%|██████████| 19/19 [00:06<00:00,  2.74it/s]\n"
     ]
    },
    {
     "name": "stdout",
     "output_type": "stream",
     "text": [
      "INFO:tensorflow:Scale of 0 disables regularizer.\n",
      "INFO:tensorflow:Restoring parameters from /home/ivan/facenet/models/20180408-102900/model-20180408-102900.ckpt-90\n"
     ]
    },
    {
     "name": "stderr",
     "output_type": "stream",
     "text": [
      "100%|██████████| 19/19 [00:07<00:00,  2.61it/s]\n"
     ]
    },
    {
     "name": "stdout",
     "output_type": "stream",
     "text": [
      "INFO:tensorflow:Scale of 0 disables regularizer.\n",
      "INFO:tensorflow:Restoring parameters from /home/ivan/facenet/models/20180408-102900/model-20180408-102900.ckpt-90\n"
     ]
    },
    {
     "name": "stderr",
     "output_type": "stream",
     "text": [
      "100%|██████████| 19/19 [00:07<00:00,  2.63it/s]\n"
     ]
    },
    {
     "name": "stdout",
     "output_type": "stream",
     "text": [
      "INFO:tensorflow:Scale of 0 disables regularizer.\n",
      "INFO:tensorflow:Restoring parameters from /home/ivan/facenet/models/20180408-102900/model-20180408-102900.ckpt-90\n"
     ]
    },
    {
     "name": "stderr",
     "output_type": "stream",
     "text": [
      "100%|██████████| 19/19 [00:07<00:00,  2.65it/s]\n"
     ]
    },
    {
     "name": "stdout",
     "output_type": "stream",
     "text": [
      "INFO:tensorflow:Scale of 0 disables regularizer.\n",
      "INFO:tensorflow:Restoring parameters from /home/ivan/facenet/models/20180408-102900/model-20180408-102900.ckpt-90\n"
     ]
    },
    {
     "name": "stderr",
     "output_type": "stream",
     "text": [
      "100%|██████████| 19/19 [00:07<00:00,  2.65it/s]\n"
     ]
    },
    {
     "name": "stdout",
     "output_type": "stream",
     "text": [
      "INFO:tensorflow:Scale of 0 disables regularizer.\n",
      "INFO:tensorflow:Restoring parameters from /home/ivan/facenet/models/20180408-102900/model-20180408-102900.ckpt-90\n"
     ]
    },
    {
     "name": "stderr",
     "output_type": "stream",
     "text": [
      "100%|██████████| 19/19 [00:07<00:00,  2.70it/s]\n"
     ]
    },
    {
     "name": "stdout",
     "output_type": "stream",
     "text": [
      "INFO:tensorflow:Scale of 0 disables regularizer.\n",
      "INFO:tensorflow:Restoring parameters from /home/ivan/facenet/models/20180408-102900/model-20180408-102900.ckpt-90\n"
     ]
    },
    {
     "name": "stderr",
     "output_type": "stream",
     "text": [
      "100%|██████████| 19/19 [00:07<00:00,  2.63it/s]\n"
     ]
    },
    {
     "name": "stdout",
     "output_type": "stream",
     "text": [
      "INFO:tensorflow:Scale of 0 disables regularizer.\n",
      "INFO:tensorflow:Restoring parameters from /home/ivan/facenet/models/20180408-102900/model-20180408-102900.ckpt-90\n"
     ]
    },
    {
     "name": "stderr",
     "output_type": "stream",
     "text": [
      "100%|██████████| 19/19 [00:07<00:00,  2.68it/s]\n"
     ]
    },
    {
     "name": "stdout",
     "output_type": "stream",
     "text": [
      "INFO:tensorflow:Scale of 0 disables regularizer.\n",
      "INFO:tensorflow:Restoring parameters from /home/ivan/facenet/models/20180408-102900/model-20180408-102900.ckpt-90\n"
     ]
    },
    {
     "name": "stderr",
     "output_type": "stream",
     "text": [
      "100%|██████████| 19/19 [00:07<00:00,  2.64it/s]\n"
     ]
    },
    {
     "name": "stdout",
     "output_type": "stream",
     "text": [
      "INFO:tensorflow:Scale of 0 disables regularizer.\n",
      "INFO:tensorflow:Restoring parameters from /home/ivan/facenet/models/20180408-102900/model-20180408-102900.ckpt-90\n"
     ]
    },
    {
     "name": "stderr",
     "output_type": "stream",
     "text": [
      "100%|██████████| 19/19 [00:07<00:00,  2.66it/s]\n"
     ]
    },
    {
     "name": "stdout",
     "output_type": "stream",
     "text": [
      "INFO:tensorflow:Scale of 0 disables regularizer.\n",
      "INFO:tensorflow:Restoring parameters from /home/ivan/facenet/models/20180408-102900/model-20180408-102900.ckpt-90\n"
     ]
    },
    {
     "name": "stderr",
     "output_type": "stream",
     "text": [
      "100%|██████████| 19/19 [00:07<00:00,  2.57it/s]\n"
     ]
    },
    {
     "name": "stdout",
     "output_type": "stream",
     "text": [
      "INFO:tensorflow:Scale of 0 disables regularizer.\n",
      "INFO:tensorflow:Restoring parameters from /home/ivan/facenet/models/20180408-102900/model-20180408-102900.ckpt-90\n"
     ]
    },
    {
     "name": "stderr",
     "output_type": "stream",
     "text": [
      "100%|██████████| 19/19 [00:07<00:00,  2.59it/s]\n"
     ]
    },
    {
     "name": "stdout",
     "output_type": "stream",
     "text": [
      "INFO:tensorflow:Scale of 0 disables regularizer.\n",
      "INFO:tensorflow:Restoring parameters from /home/ivan/facenet/models/20180408-102900/model-20180408-102900.ckpt-90\n"
     ]
    },
    {
     "name": "stderr",
     "output_type": "stream",
     "text": [
      "100%|██████████| 19/19 [00:07<00:00,  2.56it/s]\n"
     ]
    },
    {
     "name": "stdout",
     "output_type": "stream",
     "text": [
      "INFO:tensorflow:Scale of 0 disables regularizer.\n",
      "INFO:tensorflow:Restoring parameters from /home/ivan/facenet/models/20180408-102900/model-20180408-102900.ckpt-90\n"
     ]
    },
    {
     "name": "stderr",
     "output_type": "stream",
     "text": [
      "100%|██████████| 19/19 [00:07<00:00,  2.39it/s]\n"
     ]
    },
    {
     "name": "stdout",
     "output_type": "stream",
     "text": [
      "INFO:tensorflow:Scale of 0 disables regularizer.\n",
      "INFO:tensorflow:Restoring parameters from /home/ivan/facenet/models/20180408-102900/model-20180408-102900.ckpt-90\n"
     ]
    },
    {
     "name": "stderr",
     "output_type": "stream",
     "text": [
      "100%|██████████| 19/19 [00:07<00:00,  2.61it/s]\n"
     ]
    },
    {
     "name": "stdout",
     "output_type": "stream",
     "text": [
      "INFO:tensorflow:Scale of 0 disables regularizer.\n",
      "INFO:tensorflow:Restoring parameters from /home/ivan/facenet/models/20180408-102900/model-20180408-102900.ckpt-90\n"
     ]
    },
    {
     "name": "stderr",
     "output_type": "stream",
     "text": [
      "100%|██████████| 19/19 [00:07<00:00,  2.48it/s]\n"
     ]
    },
    {
     "name": "stdout",
     "output_type": "stream",
     "text": [
      "INFO:tensorflow:Scale of 0 disables regularizer.\n",
      "INFO:tensorflow:Restoring parameters from /home/ivan/facenet/models/20180408-102900/model-20180408-102900.ckpt-90\n"
     ]
    },
    {
     "name": "stderr",
     "output_type": "stream",
     "text": [
      "100%|██████████| 19/19 [00:07<00:00,  2.49it/s]\n"
     ]
    },
    {
     "name": "stdout",
     "output_type": "stream",
     "text": [
      "INFO:tensorflow:Scale of 0 disables regularizer.\n",
      "INFO:tensorflow:Restoring parameters from /home/ivan/facenet/models/20180408-102900/model-20180408-102900.ckpt-90\n"
     ]
    },
    {
     "name": "stderr",
     "output_type": "stream",
     "text": [
      "100%|██████████| 19/19 [00:07<00:00,  2.47it/s]\n"
     ]
    },
    {
     "name": "stdout",
     "output_type": "stream",
     "text": [
      "INFO:tensorflow:Scale of 0 disables regularizer.\n",
      "INFO:tensorflow:Restoring parameters from /home/ivan/facenet/models/20180408-102900/model-20180408-102900.ckpt-90\n"
     ]
    },
    {
     "name": "stderr",
     "output_type": "stream",
     "text": [
      "100%|██████████| 19/19 [00:07<00:00,  2.43it/s]\n"
     ]
    },
    {
     "name": "stdout",
     "output_type": "stream",
     "text": [
      "INFO:tensorflow:Scale of 0 disables regularizer.\n",
      "INFO:tensorflow:Restoring parameters from /home/ivan/facenet/models/20180408-102900/model-20180408-102900.ckpt-90\n"
     ]
    },
    {
     "name": "stderr",
     "output_type": "stream",
     "text": [
      "100%|██████████| 19/19 [00:07<00:00,  2.44it/s]\n"
     ]
    },
    {
     "name": "stdout",
     "output_type": "stream",
     "text": [
      "INFO:tensorflow:Scale of 0 disables regularizer.\n",
      "INFO:tensorflow:Restoring parameters from /home/ivan/facenet/models/20180408-102900/model-20180408-102900.ckpt-90\n"
     ]
    },
    {
     "name": "stderr",
     "output_type": "stream",
     "text": [
      "100%|██████████| 19/19 [00:07<00:00,  2.47it/s]\n"
     ]
    },
    {
     "name": "stdout",
     "output_type": "stream",
     "text": [
      "INFO:tensorflow:Scale of 0 disables regularizer.\n",
      "INFO:tensorflow:Restoring parameters from /home/ivan/facenet/models/20180408-102900/model-20180408-102900.ckpt-90\n"
     ]
    },
    {
     "name": "stderr",
     "output_type": "stream",
     "text": [
      "100%|██████████| 19/19 [00:07<00:00,  2.55it/s]\n"
     ]
    },
    {
     "name": "stdout",
     "output_type": "stream",
     "text": [
      "INFO:tensorflow:Scale of 0 disables regularizer.\n",
      "INFO:tensorflow:Restoring parameters from /home/ivan/facenet/models/20180408-102900/model-20180408-102900.ckpt-90\n"
     ]
    },
    {
     "name": "stderr",
     "output_type": "stream",
     "text": [
      "100%|██████████| 19/19 [00:07<00:00,  2.41it/s]\n"
     ]
    },
    {
     "name": "stdout",
     "output_type": "stream",
     "text": [
      "INFO:tensorflow:Scale of 0 disables regularizer.\n",
      "INFO:tensorflow:Restoring parameters from /home/ivan/facenet/models/20180408-102900/model-20180408-102900.ckpt-90\n"
     ]
    },
    {
     "name": "stderr",
     "output_type": "stream",
     "text": [
      "100%|██████████| 19/19 [00:07<00:00,  2.56it/s]\n"
     ]
    },
    {
     "name": "stdout",
     "output_type": "stream",
     "text": [
      "INFO:tensorflow:Scale of 0 disables regularizer.\n",
      "INFO:tensorflow:Restoring parameters from /home/ivan/facenet/models/20180408-102900/model-20180408-102900.ckpt-90\n"
     ]
    },
    {
     "name": "stderr",
     "output_type": "stream",
     "text": [
      "100%|██████████| 19/19 [00:07<00:00,  2.59it/s]\n"
     ]
    },
    {
     "name": "stdout",
     "output_type": "stream",
     "text": [
      "INFO:tensorflow:Scale of 0 disables regularizer.\n",
      "INFO:tensorflow:Restoring parameters from /home/ivan/facenet/models/20180408-102900/model-20180408-102900.ckpt-90\n"
     ]
    },
    {
     "name": "stderr",
     "output_type": "stream",
     "text": [
      "100%|██████████| 19/19 [00:07<00:00,  2.53it/s]\n"
     ]
    },
    {
     "name": "stdout",
     "output_type": "stream",
     "text": [
      "INFO:tensorflow:Scale of 0 disables regularizer.\n",
      "INFO:tensorflow:Restoring parameters from /home/ivan/facenet/models/20180408-102900/model-20180408-102900.ckpt-90\n"
     ]
    },
    {
     "name": "stderr",
     "output_type": "stream",
     "text": [
      "100%|██████████| 19/19 [00:07<00:00,  2.51it/s]\n"
     ]
    },
    {
     "name": "stdout",
     "output_type": "stream",
     "text": [
      "INFO:tensorflow:Scale of 0 disables regularizer.\n",
      "INFO:tensorflow:Restoring parameters from /home/ivan/facenet/models/20180408-102900/model-20180408-102900.ckpt-90\n"
     ]
    },
    {
     "name": "stderr",
     "output_type": "stream",
     "text": [
      "100%|██████████| 19/19 [00:07<00:00,  2.57it/s]\n"
     ]
    },
    {
     "name": "stdout",
     "output_type": "stream",
     "text": [
      "INFO:tensorflow:Scale of 0 disables regularizer.\n",
      "INFO:tensorflow:Restoring parameters from /home/ivan/facenet/models/20180408-102900/model-20180408-102900.ckpt-90\n"
     ]
    },
    {
     "name": "stderr",
     "output_type": "stream",
     "text": [
      "100%|██████████| 19/19 [00:07<00:00,  2.60it/s]\n"
     ]
    },
    {
     "name": "stdout",
     "output_type": "stream",
     "text": [
      "INFO:tensorflow:Scale of 0 disables regularizer.\n",
      "INFO:tensorflow:Restoring parameters from /home/ivan/facenet/models/20180408-102900/model-20180408-102900.ckpt-90\n"
     ]
    },
    {
     "name": "stderr",
     "output_type": "stream",
     "text": [
      "100%|██████████| 19/19 [00:07<00:00,  2.58it/s]\n"
     ]
    },
    {
     "name": "stdout",
     "output_type": "stream",
     "text": [
      "INFO:tensorflow:Scale of 0 disables regularizer.\n",
      "INFO:tensorflow:Restoring parameters from /home/ivan/facenet/models/20180408-102900/model-20180408-102900.ckpt-90\n"
     ]
    },
    {
     "name": "stderr",
     "output_type": "stream",
     "text": [
      "100%|██████████| 19/19 [00:07<00:00,  2.52it/s]\n"
     ]
    },
    {
     "name": "stdout",
     "output_type": "stream",
     "text": [
      "INFO:tensorflow:Scale of 0 disables regularizer.\n",
      "INFO:tensorflow:Restoring parameters from /home/ivan/facenet/models/20180408-102900/model-20180408-102900.ckpt-90\n"
     ]
    },
    {
     "name": "stderr",
     "output_type": "stream",
     "text": [
      "100%|██████████| 19/19 [00:08<00:00,  2.26it/s]\n"
     ]
    },
    {
     "name": "stdout",
     "output_type": "stream",
     "text": [
      "INFO:tensorflow:Scale of 0 disables regularizer.\n",
      "INFO:tensorflow:Restoring parameters from /home/ivan/facenet/models/20180408-102900/model-20180408-102900.ckpt-90\n"
     ]
    },
    {
     "name": "stderr",
     "output_type": "stream",
     "text": [
      "100%|██████████| 19/19 [00:06<00:00,  2.73it/s]\n"
     ]
    },
    {
     "name": "stdout",
     "output_type": "stream",
     "text": [
      "INFO:tensorflow:Scale of 0 disables regularizer.\n",
      "INFO:tensorflow:Restoring parameters from /home/ivan/facenet/models/20180408-102900/model-20180408-102900.ckpt-90\n"
     ]
    },
    {
     "name": "stderr",
     "output_type": "stream",
     "text": [
      "100%|██████████| 19/19 [00:07<00:00,  2.52it/s]\n"
     ]
    },
    {
     "name": "stdout",
     "output_type": "stream",
     "text": [
      "INFO:tensorflow:Scale of 0 disables regularizer.\n",
      "INFO:tensorflow:Restoring parameters from /home/ivan/facenet/models/20180408-102900/model-20180408-102900.ckpt-90\n"
     ]
    },
    {
     "name": "stderr",
     "output_type": "stream",
     "text": [
      "100%|██████████| 19/19 [00:07<00:00,  2.54it/s]\n"
     ]
    },
    {
     "name": "stdout",
     "output_type": "stream",
     "text": [
      "INFO:tensorflow:Scale of 0 disables regularizer.\n",
      "INFO:tensorflow:Restoring parameters from /home/ivan/facenet/models/20180408-102900/model-20180408-102900.ckpt-90\n"
     ]
    },
    {
     "name": "stderr",
     "output_type": "stream",
     "text": [
      "100%|██████████| 19/19 [00:07<00:00,  2.66it/s]\n"
     ]
    },
    {
     "name": "stdout",
     "output_type": "stream",
     "text": [
      "INFO:tensorflow:Scale of 0 disables regularizer.\n",
      "INFO:tensorflow:Restoring parameters from /home/ivan/facenet/models/20180408-102900/model-20180408-102900.ckpt-90\n"
     ]
    },
    {
     "name": "stderr",
     "output_type": "stream",
     "text": [
      "100%|██████████| 19/19 [00:07<00:00,  2.59it/s]\n"
     ]
    },
    {
     "name": "stdout",
     "output_type": "stream",
     "text": [
      "INFO:tensorflow:Scale of 0 disables regularizer.\n",
      "INFO:tensorflow:Restoring parameters from /home/ivan/facenet/models/20180408-102900/model-20180408-102900.ckpt-90\n"
     ]
    },
    {
     "name": "stderr",
     "output_type": "stream",
     "text": [
      "100%|██████████| 19/19 [00:07<00:00,  2.59it/s]\n"
     ]
    },
    {
     "name": "stdout",
     "output_type": "stream",
     "text": [
      "INFO:tensorflow:Scale of 0 disables regularizer.\n",
      "INFO:tensorflow:Restoring parameters from /home/ivan/facenet/models/20180408-102900/model-20180408-102900.ckpt-90\n"
     ]
    },
    {
     "name": "stderr",
     "output_type": "stream",
     "text": [
      "100%|██████████| 19/19 [00:07<00:00,  2.47it/s]\n"
     ]
    },
    {
     "name": "stdout",
     "output_type": "stream",
     "text": [
      "INFO:tensorflow:Scale of 0 disables regularizer.\n",
      "INFO:tensorflow:Restoring parameters from /home/ivan/facenet/models/20180408-102900/model-20180408-102900.ckpt-90\n"
     ]
    },
    {
     "name": "stderr",
     "output_type": "stream",
     "text": [
      "100%|██████████| 19/19 [00:06<00:00,  2.74it/s]\n"
     ]
    },
    {
     "name": "stdout",
     "output_type": "stream",
     "text": [
      "INFO:tensorflow:Scale of 0 disables regularizer.\n",
      "INFO:tensorflow:Restoring parameters from /home/ivan/facenet/models/20180408-102900/model-20180408-102900.ckpt-90\n"
     ]
    },
    {
     "name": "stderr",
     "output_type": "stream",
     "text": [
      "100%|██████████| 19/19 [00:07<00:00,  2.70it/s]\n"
     ]
    },
    {
     "name": "stdout",
     "output_type": "stream",
     "text": [
      "INFO:tensorflow:Scale of 0 disables regularizer.\n",
      "INFO:tensorflow:Restoring parameters from /home/ivan/facenet/models/20180408-102900/model-20180408-102900.ckpt-90\n"
     ]
    },
    {
     "name": "stderr",
     "output_type": "stream",
     "text": [
      "100%|██████████| 19/19 [00:06<00:00,  2.74it/s]\n"
     ]
    },
    {
     "name": "stdout",
     "output_type": "stream",
     "text": [
      "INFO:tensorflow:Scale of 0 disables regularizer.\n",
      "INFO:tensorflow:Restoring parameters from /home/ivan/facenet/models/20180408-102900/model-20180408-102900.ckpt-90\n"
     ]
    },
    {
     "name": "stderr",
     "output_type": "stream",
     "text": [
      "100%|██████████| 19/19 [00:07<00:00,  2.53it/s]\n"
     ]
    },
    {
     "name": "stdout",
     "output_type": "stream",
     "text": [
      "INFO:tensorflow:Scale of 0 disables regularizer.\n",
      "INFO:tensorflow:Restoring parameters from /home/ivan/facenet/models/20180408-102900/model-20180408-102900.ckpt-90\n"
     ]
    },
    {
     "name": "stderr",
     "output_type": "stream",
     "text": [
      "100%|██████████| 19/19 [00:07<00:00,  2.67it/s]\n"
     ]
    },
    {
     "name": "stdout",
     "output_type": "stream",
     "text": [
      "INFO:tensorflow:Scale of 0 disables regularizer.\n",
      "INFO:tensorflow:Restoring parameters from /home/ivan/facenet/models/20180408-102900/model-20180408-102900.ckpt-90\n"
     ]
    },
    {
     "name": "stderr",
     "output_type": "stream",
     "text": [
      "100%|██████████| 19/19 [00:07<00:00,  2.64it/s]\n"
     ]
    },
    {
     "name": "stdout",
     "output_type": "stream",
     "text": [
      "INFO:tensorflow:Scale of 0 disables regularizer.\n",
      "INFO:tensorflow:Restoring parameters from /home/ivan/facenet/models/20180408-102900/model-20180408-102900.ckpt-90\n"
     ]
    },
    {
     "name": "stderr",
     "output_type": "stream",
     "text": [
      "100%|██████████| 19/19 [00:07<00:00,  2.58it/s]\n"
     ]
    },
    {
     "name": "stdout",
     "output_type": "stream",
     "text": [
      "INFO:tensorflow:Scale of 0 disables regularizer.\n",
      "INFO:tensorflow:Restoring parameters from /home/ivan/facenet/models/20180408-102900/model-20180408-102900.ckpt-90\n"
     ]
    },
    {
     "name": "stderr",
     "output_type": "stream",
     "text": [
      "100%|██████████| 19/19 [00:07<00:00,  2.60it/s]\n"
     ]
    },
    {
     "name": "stdout",
     "output_type": "stream",
     "text": [
      "INFO:tensorflow:Scale of 0 disables regularizer.\n",
      "INFO:tensorflow:Restoring parameters from /home/ivan/facenet/models/20180408-102900/model-20180408-102900.ckpt-90\n"
     ]
    },
    {
     "name": "stderr",
     "output_type": "stream",
     "text": [
      "100%|██████████| 19/19 [00:07<00:00,  2.54it/s]\n"
     ]
    },
    {
     "name": "stdout",
     "output_type": "stream",
     "text": [
      "INFO:tensorflow:Scale of 0 disables regularizer.\n",
      "INFO:tensorflow:Restoring parameters from /home/ivan/facenet/models/20180408-102900/model-20180408-102900.ckpt-90\n"
     ]
    },
    {
     "name": "stderr",
     "output_type": "stream",
     "text": [
      "100%|██████████| 19/19 [00:08<00:00,  2.35it/s]\n"
     ]
    },
    {
     "name": "stdout",
     "output_type": "stream",
     "text": [
      "INFO:tensorflow:Scale of 0 disables regularizer.\n",
      "INFO:tensorflow:Restoring parameters from /home/ivan/facenet/models/20180408-102900/model-20180408-102900.ckpt-90\n"
     ]
    },
    {
     "name": "stderr",
     "output_type": "stream",
     "text": [
      "100%|██████████| 19/19 [00:07<00:00,  2.58it/s]\n"
     ]
    },
    {
     "name": "stdout",
     "output_type": "stream",
     "text": [
      "INFO:tensorflow:Scale of 0 disables regularizer.\n",
      "INFO:tensorflow:Restoring parameters from /home/ivan/facenet/models/20180408-102900/model-20180408-102900.ckpt-90\n"
     ]
    },
    {
     "name": "stderr",
     "output_type": "stream",
     "text": [
      "100%|██████████| 19/19 [00:07<00:00,  2.50it/s]\n"
     ]
    },
    {
     "name": "stdout",
     "output_type": "stream",
     "text": [
      "INFO:tensorflow:Scale of 0 disables regularizer.\n",
      "INFO:tensorflow:Restoring parameters from /home/ivan/facenet/models/20180408-102900/model-20180408-102900.ckpt-90\n"
     ]
    },
    {
     "name": "stderr",
     "output_type": "stream",
     "text": [
      "100%|██████████| 19/19 [00:07<00:00,  2.39it/s]\n"
     ]
    },
    {
     "name": "stdout",
     "output_type": "stream",
     "text": [
      "INFO:tensorflow:Scale of 0 disables regularizer.\n",
      "INFO:tensorflow:Restoring parameters from /home/ivan/facenet/models/20180408-102900/model-20180408-102900.ckpt-90\n"
     ]
    },
    {
     "name": "stderr",
     "output_type": "stream",
     "text": [
      "100%|██████████| 19/19 [00:08<00:00,  2.22it/s]\n"
     ]
    },
    {
     "name": "stdout",
     "output_type": "stream",
     "text": [
      "INFO:tensorflow:Scale of 0 disables regularizer.\n",
      "INFO:tensorflow:Restoring parameters from /home/ivan/facenet/models/20180408-102900/model-20180408-102900.ckpt-90\n"
     ]
    },
    {
     "name": "stderr",
     "output_type": "stream",
     "text": [
      "100%|██████████| 19/19 [00:08<00:00,  2.18it/s]\n"
     ]
    },
    {
     "name": "stdout",
     "output_type": "stream",
     "text": [
      "INFO:tensorflow:Scale of 0 disables regularizer.\n",
      "INFO:tensorflow:Restoring parameters from /home/ivan/facenet/models/20180408-102900/model-20180408-102900.ckpt-90\n"
     ]
    },
    {
     "name": "stderr",
     "output_type": "stream",
     "text": [
      "100%|██████████| 19/19 [00:07<00:00,  2.38it/s]\n"
     ]
    },
    {
     "name": "stdout",
     "output_type": "stream",
     "text": [
      "INFO:tensorflow:Scale of 0 disables regularizer.\n",
      "INFO:tensorflow:Restoring parameters from /home/ivan/facenet/models/20180408-102900/model-20180408-102900.ckpt-90\n"
     ]
    },
    {
     "name": "stderr",
     "output_type": "stream",
     "text": [
      "100%|██████████| 19/19 [00:07<00:00,  2.49it/s]\n"
     ]
    },
    {
     "name": "stdout",
     "output_type": "stream",
     "text": [
      "INFO:tensorflow:Scale of 0 disables regularizer.\n",
      "INFO:tensorflow:Restoring parameters from /home/ivan/facenet/models/20180408-102900/model-20180408-102900.ckpt-90\n"
     ]
    },
    {
     "name": "stderr",
     "output_type": "stream",
     "text": [
      "100%|██████████| 19/19 [00:07<00:00,  2.47it/s]\n"
     ]
    },
    {
     "name": "stdout",
     "output_type": "stream",
     "text": [
      "INFO:tensorflow:Scale of 0 disables regularizer.\n",
      "INFO:tensorflow:Restoring parameters from /home/ivan/facenet/models/20180408-102900/model-20180408-102900.ckpt-90\n"
     ]
    },
    {
     "name": "stderr",
     "output_type": "stream",
     "text": [
      "100%|██████████| 19/19 [00:07<00:00,  2.50it/s]\n"
     ]
    },
    {
     "name": "stdout",
     "output_type": "stream",
     "text": [
      "INFO:tensorflow:Scale of 0 disables regularizer.\n",
      "INFO:tensorflow:Restoring parameters from /home/ivan/facenet/models/20180408-102900/model-20180408-102900.ckpt-90\n"
     ]
    },
    {
     "name": "stderr",
     "output_type": "stream",
     "text": [
      "100%|██████████| 19/19 [00:07<00:00,  2.40it/s]\n"
     ]
    },
    {
     "name": "stdout",
     "output_type": "stream",
     "text": [
      "INFO:tensorflow:Scale of 0 disables regularizer.\n",
      "INFO:tensorflow:Restoring parameters from /home/ivan/facenet/models/20180408-102900/model-20180408-102900.ckpt-90\n"
     ]
    },
    {
     "name": "stderr",
     "output_type": "stream",
     "text": [
      "100%|██████████| 19/19 [00:07<00:00,  2.43it/s]\n"
     ]
    },
    {
     "name": "stdout",
     "output_type": "stream",
     "text": [
      "INFO:tensorflow:Scale of 0 disables regularizer.\n",
      "INFO:tensorflow:Restoring parameters from /home/ivan/facenet/models/20180408-102900/model-20180408-102900.ckpt-90\n"
     ]
    },
    {
     "name": "stderr",
     "output_type": "stream",
     "text": [
      "100%|██████████| 19/19 [00:07<00:00,  2.41it/s]\n"
     ]
    },
    {
     "name": "stdout",
     "output_type": "stream",
     "text": [
      "INFO:tensorflow:Scale of 0 disables regularizer.\n",
      "INFO:tensorflow:Restoring parameters from /home/ivan/facenet/models/20180408-102900/model-20180408-102900.ckpt-90\n"
     ]
    },
    {
     "name": "stderr",
     "output_type": "stream",
     "text": [
      "100%|██████████| 19/19 [00:08<00:00,  2.37it/s]\n"
     ]
    },
    {
     "name": "stdout",
     "output_type": "stream",
     "text": [
      "INFO:tensorflow:Scale of 0 disables regularizer.\n",
      "INFO:tensorflow:Restoring parameters from /home/ivan/facenet/models/20180408-102900/model-20180408-102900.ckpt-90\n"
     ]
    },
    {
     "name": "stderr",
     "output_type": "stream",
     "text": [
      "100%|██████████| 19/19 [00:08<00:00,  2.36it/s]\n"
     ]
    },
    {
     "name": "stdout",
     "output_type": "stream",
     "text": [
      "INFO:tensorflow:Scale of 0 disables regularizer.\n",
      "INFO:tensorflow:Restoring parameters from /home/ivan/facenet/models/20180408-102900/model-20180408-102900.ckpt-90\n"
     ]
    },
    {
     "name": "stderr",
     "output_type": "stream",
     "text": [
      "100%|██████████| 19/19 [00:07<00:00,  2.49it/s]\n"
     ]
    },
    {
     "name": "stdout",
     "output_type": "stream",
     "text": [
      "INFO:tensorflow:Scale of 0 disables regularizer.\n",
      "INFO:tensorflow:Restoring parameters from /home/ivan/facenet/models/20180408-102900/model-20180408-102900.ckpt-90\n"
     ]
    },
    {
     "name": "stderr",
     "output_type": "stream",
     "text": [
      "100%|██████████| 19/19 [00:08<00:00,  2.18it/s]\n"
     ]
    },
    {
     "name": "stdout",
     "output_type": "stream",
     "text": [
      "INFO:tensorflow:Scale of 0 disables regularizer.\n",
      "INFO:tensorflow:Restoring parameters from /home/ivan/facenet/models/20180408-102900/model-20180408-102900.ckpt-90\n"
     ]
    },
    {
     "name": "stderr",
     "output_type": "stream",
     "text": [
      "100%|██████████| 19/19 [00:08<00:00,  2.22it/s]\n"
     ]
    },
    {
     "name": "stdout",
     "output_type": "stream",
     "text": [
      "INFO:tensorflow:Scale of 0 disables regularizer.\n",
      "INFO:tensorflow:Restoring parameters from /home/ivan/facenet/models/20180408-102900/model-20180408-102900.ckpt-90\n"
     ]
    },
    {
     "name": "stderr",
     "output_type": "stream",
     "text": [
      "100%|██████████| 19/19 [00:08<00:00,  2.23it/s]\n"
     ]
    },
    {
     "name": "stdout",
     "output_type": "stream",
     "text": [
      "INFO:tensorflow:Scale of 0 disables regularizer.\n",
      "INFO:tensorflow:Restoring parameters from /home/ivan/facenet/models/20180408-102900/model-20180408-102900.ckpt-90\n"
     ]
    },
    {
     "name": "stderr",
     "output_type": "stream",
     "text": [
      "100%|██████████| 19/19 [00:08<00:00,  2.22it/s]\n"
     ]
    },
    {
     "name": "stdout",
     "output_type": "stream",
     "text": [
      "INFO:tensorflow:Scale of 0 disables regularizer.\n",
      "INFO:tensorflow:Restoring parameters from /home/ivan/facenet/models/20180408-102900/model-20180408-102900.ckpt-90\n"
     ]
    },
    {
     "name": "stderr",
     "output_type": "stream",
     "text": [
      "100%|██████████| 19/19 [00:08<00:00,  2.22it/s]\n"
     ]
    },
    {
     "name": "stdout",
     "output_type": "stream",
     "text": [
      "INFO:tensorflow:Scale of 0 disables regularizer.\n",
      "INFO:tensorflow:Restoring parameters from /home/ivan/facenet/models/20180408-102900/model-20180408-102900.ckpt-90\n"
     ]
    },
    {
     "name": "stderr",
     "output_type": "stream",
     "text": [
      "100%|██████████| 19/19 [00:08<00:00,  2.37it/s]\n"
     ]
    },
    {
     "name": "stdout",
     "output_type": "stream",
     "text": [
      "INFO:tensorflow:Scale of 0 disables regularizer.\n",
      "INFO:tensorflow:Restoring parameters from /home/ivan/facenet/models/20180408-102900/model-20180408-102900.ckpt-90\n"
     ]
    },
    {
     "name": "stderr",
     "output_type": "stream",
     "text": [
      "100%|██████████| 19/19 [00:08<00:00,  2.33it/s]\n"
     ]
    },
    {
     "name": "stdout",
     "output_type": "stream",
     "text": [
      "INFO:tensorflow:Scale of 0 disables regularizer.\n",
      "INFO:tensorflow:Restoring parameters from /home/ivan/facenet/models/20180408-102900/model-20180408-102900.ckpt-90\n"
     ]
    },
    {
     "name": "stderr",
     "output_type": "stream",
     "text": [
      "100%|██████████| 19/19 [00:07<00:00,  2.45it/s]\n"
     ]
    },
    {
     "name": "stdout",
     "output_type": "stream",
     "text": [
      "INFO:tensorflow:Scale of 0 disables regularizer.\n",
      "INFO:tensorflow:Restoring parameters from /home/ivan/facenet/models/20180408-102900/model-20180408-102900.ckpt-90\n"
     ]
    },
    {
     "name": "stderr",
     "output_type": "stream",
     "text": [
      "100%|██████████| 19/19 [00:08<00:00,  2.35it/s]\n"
     ]
    },
    {
     "name": "stdout",
     "output_type": "stream",
     "text": [
      "INFO:tensorflow:Scale of 0 disables regularizer.\n",
      "INFO:tensorflow:Restoring parameters from /home/ivan/facenet/models/20180408-102900/model-20180408-102900.ckpt-90\n"
     ]
    },
    {
     "name": "stderr",
     "output_type": "stream",
     "text": [
      "100%|██████████| 19/19 [00:07<00:00,  2.48it/s]\n"
     ]
    },
    {
     "name": "stdout",
     "output_type": "stream",
     "text": [
      "INFO:tensorflow:Scale of 0 disables regularizer.\n",
      "INFO:tensorflow:Restoring parameters from /home/ivan/facenet/models/20180408-102900/model-20180408-102900.ckpt-90\n"
     ]
    },
    {
     "name": "stderr",
     "output_type": "stream",
     "text": [
      "100%|██████████| 19/19 [00:07<00:00,  2.54it/s]\n"
     ]
    },
    {
     "name": "stdout",
     "output_type": "stream",
     "text": [
      "INFO:tensorflow:Scale of 0 disables regularizer.\n",
      "INFO:tensorflow:Restoring parameters from /home/ivan/facenet/models/20180408-102900/model-20180408-102900.ckpt-90\n"
     ]
    },
    {
     "name": "stderr",
     "output_type": "stream",
     "text": [
      "100%|██████████| 19/19 [00:07<00:00,  2.57it/s]\n"
     ]
    },
    {
     "name": "stdout",
     "output_type": "stream",
     "text": [
      "INFO:tensorflow:Scale of 0 disables regularizer.\n",
      "INFO:tensorflow:Restoring parameters from /home/ivan/facenet/models/20180408-102900/model-20180408-102900.ckpt-90\n"
     ]
    },
    {
     "name": "stderr",
     "output_type": "stream",
     "text": [
      "100%|██████████| 19/19 [00:07<00:00,  2.60it/s]\n"
     ]
    },
    {
     "name": "stdout",
     "output_type": "stream",
     "text": [
      "INFO:tensorflow:Scale of 0 disables regularizer.\n",
      "INFO:tensorflow:Restoring parameters from /home/ivan/facenet/models/20180408-102900/model-20180408-102900.ckpt-90\n"
     ]
    },
    {
     "name": "stderr",
     "output_type": "stream",
     "text": [
      "100%|██████████| 19/19 [00:07<00:00,  2.44it/s]\n"
     ]
    },
    {
     "name": "stdout",
     "output_type": "stream",
     "text": [
      "INFO:tensorflow:Scale of 0 disables regularizer.\n",
      "INFO:tensorflow:Restoring parameters from /home/ivan/facenet/models/20180408-102900/model-20180408-102900.ckpt-90\n"
     ]
    },
    {
     "name": "stderr",
     "output_type": "stream",
     "text": [
      "100%|██████████| 19/19 [00:07<00:00,  2.51it/s]\n"
     ]
    },
    {
     "name": "stdout",
     "output_type": "stream",
     "text": [
      "INFO:tensorflow:Scale of 0 disables regularizer.\n",
      "INFO:tensorflow:Restoring parameters from /home/ivan/facenet/models/20180408-102900/model-20180408-102900.ckpt-90\n"
     ]
    },
    {
     "name": "stderr",
     "output_type": "stream",
     "text": [
      "100%|██████████| 19/19 [00:07<00:00,  2.56it/s]\n"
     ]
    },
    {
     "name": "stdout",
     "output_type": "stream",
     "text": [
      "INFO:tensorflow:Scale of 0 disables regularizer.\n",
      "INFO:tensorflow:Restoring parameters from /home/ivan/facenet/models/20180408-102900/model-20180408-102900.ckpt-90\n"
     ]
    },
    {
     "name": "stderr",
     "output_type": "stream",
     "text": [
      "100%|██████████| 19/19 [00:07<00:00,  2.66it/s]\n"
     ]
    },
    {
     "name": "stdout",
     "output_type": "stream",
     "text": [
      "INFO:tensorflow:Scale of 0 disables regularizer.\n",
      "INFO:tensorflow:Restoring parameters from /home/ivan/facenet/models/20180408-102900/model-20180408-102900.ckpt-90\n"
     ]
    },
    {
     "name": "stderr",
     "output_type": "stream",
     "text": [
      "100%|██████████| 19/19 [00:07<00:00,  2.43it/s]\n"
     ]
    },
    {
     "name": "stdout",
     "output_type": "stream",
     "text": [
      "INFO:tensorflow:Scale of 0 disables regularizer.\n",
      "INFO:tensorflow:Restoring parameters from /home/ivan/facenet/models/20180408-102900/model-20180408-102900.ckpt-90\n"
     ]
    },
    {
     "name": "stderr",
     "output_type": "stream",
     "text": [
      "100%|██████████| 19/19 [00:07<00:00,  2.49it/s]\n"
     ]
    },
    {
     "name": "stdout",
     "output_type": "stream",
     "text": [
      "INFO:tensorflow:Scale of 0 disables regularizer.\n",
      "INFO:tensorflow:Restoring parameters from /home/ivan/facenet/models/20180408-102900/model-20180408-102900.ckpt-90\n"
     ]
    },
    {
     "name": "stderr",
     "output_type": "stream",
     "text": [
      "100%|██████████| 19/19 [00:06<00:00,  2.75it/s]\n"
     ]
    },
    {
     "name": "stdout",
     "output_type": "stream",
     "text": [
      "INFO:tensorflow:Scale of 0 disables regularizer.\n",
      "INFO:tensorflow:Restoring parameters from /home/ivan/facenet/models/20180408-102900/model-20180408-102900.ckpt-90\n"
     ]
    },
    {
     "name": "stderr",
     "output_type": "stream",
     "text": [
      "100%|██████████| 19/19 [00:07<00:00,  2.64it/s]\n"
     ]
    },
    {
     "name": "stdout",
     "output_type": "stream",
     "text": [
      "INFO:tensorflow:Scale of 0 disables regularizer.\n",
      "INFO:tensorflow:Restoring parameters from /home/ivan/facenet/models/20180408-102900/model-20180408-102900.ckpt-90\n"
     ]
    },
    {
     "name": "stderr",
     "output_type": "stream",
     "text": [
      "100%|██████████| 19/19 [00:07<00:00,  2.69it/s]\n"
     ]
    },
    {
     "name": "stdout",
     "output_type": "stream",
     "text": [
      "INFO:tensorflow:Scale of 0 disables regularizer.\n",
      "INFO:tensorflow:Restoring parameters from /home/ivan/facenet/models/20180408-102900/model-20180408-102900.ckpt-90\n"
     ]
    },
    {
     "name": "stderr",
     "output_type": "stream",
     "text": [
      "100%|██████████| 19/19 [00:06<00:00,  2.79it/s]\n"
     ]
    },
    {
     "name": "stdout",
     "output_type": "stream",
     "text": [
      "INFO:tensorflow:Scale of 0 disables regularizer.\n",
      "INFO:tensorflow:Restoring parameters from /home/ivan/facenet/models/20180408-102900/model-20180408-102900.ckpt-90\n"
     ]
    },
    {
     "name": "stderr",
     "output_type": "stream",
     "text": [
      "100%|██████████| 19/19 [00:06<00:00,  2.75it/s]\n"
     ]
    },
    {
     "name": "stdout",
     "output_type": "stream",
     "text": [
      "INFO:tensorflow:Scale of 0 disables regularizer.\n",
      "INFO:tensorflow:Restoring parameters from /home/ivan/facenet/models/20180408-102900/model-20180408-102900.ckpt-90\n"
     ]
    },
    {
     "name": "stderr",
     "output_type": "stream",
     "text": [
      "100%|██████████| 19/19 [00:06<00:00,  2.77it/s]\n"
     ]
    },
    {
     "name": "stdout",
     "output_type": "stream",
     "text": [
      "INFO:tensorflow:Scale of 0 disables regularizer.\n",
      "INFO:tensorflow:Restoring parameters from /home/ivan/facenet/models/20180408-102900/model-20180408-102900.ckpt-90\n"
     ]
    },
    {
     "name": "stderr",
     "output_type": "stream",
     "text": [
      "100%|██████████| 19/19 [00:07<00:00,  2.63it/s]\n"
     ]
    },
    {
     "name": "stdout",
     "output_type": "stream",
     "text": [
      "INFO:tensorflow:Scale of 0 disables regularizer.\n",
      "INFO:tensorflow:Restoring parameters from /home/ivan/facenet/models/20180408-102900/model-20180408-102900.ckpt-90\n"
     ]
    },
    {
     "name": "stderr",
     "output_type": "stream",
     "text": [
      "100%|██████████| 19/19 [00:06<00:00,  2.73it/s]\n"
     ]
    },
    {
     "name": "stdout",
     "output_type": "stream",
     "text": [
      "INFO:tensorflow:Scale of 0 disables regularizer.\n",
      "INFO:tensorflow:Restoring parameters from /home/ivan/facenet/models/20180408-102900/model-20180408-102900.ckpt-90\n"
     ]
    },
    {
     "name": "stderr",
     "output_type": "stream",
     "text": [
      "100%|██████████| 19/19 [00:06<00:00,  2.78it/s]\n"
     ]
    },
    {
     "name": "stdout",
     "output_type": "stream",
     "text": [
      "INFO:tensorflow:Scale of 0 disables regularizer.\n",
      "INFO:tensorflow:Restoring parameters from /home/ivan/facenet/models/20180408-102900/model-20180408-102900.ckpt-90\n"
     ]
    },
    {
     "name": "stderr",
     "output_type": "stream",
     "text": [
      "100%|██████████| 19/19 [00:07<00:00,  2.69it/s]\n"
     ]
    },
    {
     "name": "stdout",
     "output_type": "stream",
     "text": [
      "INFO:tensorflow:Scale of 0 disables regularizer.\n",
      "INFO:tensorflow:Restoring parameters from /home/ivan/facenet/models/20180408-102900/model-20180408-102900.ckpt-90\n"
     ]
    },
    {
     "name": "stderr",
     "output_type": "stream",
     "text": [
      "100%|██████████| 19/19 [00:06<00:00,  2.73it/s]\n"
     ]
    },
    {
     "name": "stdout",
     "output_type": "stream",
     "text": [
      "INFO:tensorflow:Scale of 0 disables regularizer.\n",
      "INFO:tensorflow:Restoring parameters from /home/ivan/facenet/models/20180408-102900/model-20180408-102900.ckpt-90\n"
     ]
    },
    {
     "name": "stderr",
     "output_type": "stream",
     "text": [
      "100%|██████████| 19/19 [00:07<00:00,  2.70it/s]\n"
     ]
    },
    {
     "name": "stdout",
     "output_type": "stream",
     "text": [
      "INFO:tensorflow:Scale of 0 disables regularizer.\n",
      "INFO:tensorflow:Restoring parameters from /home/ivan/facenet/models/20180408-102900/model-20180408-102900.ckpt-90\n"
     ]
    },
    {
     "name": "stderr",
     "output_type": "stream",
     "text": [
      "100%|██████████| 19/19 [00:06<00:00,  2.87it/s]\n"
     ]
    },
    {
     "name": "stdout",
     "output_type": "stream",
     "text": [
      "INFO:tensorflow:Scale of 0 disables regularizer.\n",
      "INFO:tensorflow:Restoring parameters from /home/ivan/facenet/models/20180408-102900/model-20180408-102900.ckpt-90\n"
     ]
    },
    {
     "name": "stderr",
     "output_type": "stream",
     "text": [
      "100%|██████████| 19/19 [00:06<00:00,  2.85it/s]\n"
     ]
    },
    {
     "name": "stdout",
     "output_type": "stream",
     "text": [
      "INFO:tensorflow:Scale of 0 disables regularizer.\n",
      "INFO:tensorflow:Restoring parameters from /home/ivan/facenet/models/20180408-102900/model-20180408-102900.ckpt-90\n"
     ]
    },
    {
     "name": "stderr",
     "output_type": "stream",
     "text": [
      "100%|██████████| 19/19 [00:06<00:00,  2.85it/s]\n"
     ]
    },
    {
     "name": "stdout",
     "output_type": "stream",
     "text": [
      "INFO:tensorflow:Scale of 0 disables regularizer.\n",
      "INFO:tensorflow:Restoring parameters from /home/ivan/facenet/models/20180408-102900/model-20180408-102900.ckpt-90\n"
     ]
    },
    {
     "name": "stderr",
     "output_type": "stream",
     "text": [
      "100%|██████████| 19/19 [00:06<00:00,  2.72it/s]\n"
     ]
    },
    {
     "name": "stdout",
     "output_type": "stream",
     "text": [
      "INFO:tensorflow:Scale of 0 disables regularizer.\n",
      "INFO:tensorflow:Restoring parameters from /home/ivan/facenet/models/20180408-102900/model-20180408-102900.ckpt-90\n"
     ]
    },
    {
     "name": "stderr",
     "output_type": "stream",
     "text": [
      "100%|██████████| 19/19 [00:06<00:00,  2.74it/s]\n"
     ]
    },
    {
     "name": "stdout",
     "output_type": "stream",
     "text": [
      "INFO:tensorflow:Scale of 0 disables regularizer.\n",
      "INFO:tensorflow:Restoring parameters from /home/ivan/facenet/models/20180408-102900/model-20180408-102900.ckpt-90\n"
     ]
    },
    {
     "name": "stderr",
     "output_type": "stream",
     "text": [
      "100%|██████████| 19/19 [00:06<00:00,  2.78it/s]\n"
     ]
    },
    {
     "name": "stdout",
     "output_type": "stream",
     "text": [
      "INFO:tensorflow:Scale of 0 disables regularizer.\n",
      "INFO:tensorflow:Restoring parameters from /home/ivan/facenet/models/20180408-102900/model-20180408-102900.ckpt-90\n"
     ]
    },
    {
     "name": "stderr",
     "output_type": "stream",
     "text": [
      "100%|██████████| 19/19 [00:06<00:00,  2.75it/s]\n"
     ]
    },
    {
     "name": "stdout",
     "output_type": "stream",
     "text": [
      "INFO:tensorflow:Scale of 0 disables regularizer.\n",
      "INFO:tensorflow:Restoring parameters from /home/ivan/facenet/models/20180408-102900/model-20180408-102900.ckpt-90\n"
     ]
    },
    {
     "name": "stderr",
     "output_type": "stream",
     "text": [
      "100%|██████████| 19/19 [00:06<00:00,  2.75it/s]\n"
     ]
    },
    {
     "name": "stdout",
     "output_type": "stream",
     "text": [
      "INFO:tensorflow:Scale of 0 disables regularizer.\n",
      "INFO:tensorflow:Restoring parameters from /home/ivan/facenet/models/20180408-102900/model-20180408-102900.ckpt-90\n"
     ]
    },
    {
     "name": "stderr",
     "output_type": "stream",
     "text": [
      "100%|██████████| 19/19 [00:06<00:00,  2.84it/s]\n"
     ]
    },
    {
     "name": "stdout",
     "output_type": "stream",
     "text": [
      "INFO:tensorflow:Scale of 0 disables regularizer.\n",
      "INFO:tensorflow:Restoring parameters from /home/ivan/facenet/models/20180408-102900/model-20180408-102900.ckpt-90\n"
     ]
    },
    {
     "name": "stderr",
     "output_type": "stream",
     "text": [
      "100%|██████████| 19/19 [00:06<00:00,  2.90it/s]\n"
     ]
    },
    {
     "name": "stdout",
     "output_type": "stream",
     "text": [
      "INFO:tensorflow:Scale of 0 disables regularizer.\n",
      "INFO:tensorflow:Restoring parameters from /home/ivan/facenet/models/20180408-102900/model-20180408-102900.ckpt-90\n"
     ]
    },
    {
     "name": "stderr",
     "output_type": "stream",
     "text": [
      "100%|██████████| 19/19 [00:06<00:00,  2.76it/s]\n"
     ]
    },
    {
     "name": "stdout",
     "output_type": "stream",
     "text": [
      "INFO:tensorflow:Scale of 0 disables regularizer.\n",
      "INFO:tensorflow:Restoring parameters from /home/ivan/facenet/models/20180408-102900/model-20180408-102900.ckpt-90\n"
     ]
    },
    {
     "name": "stderr",
     "output_type": "stream",
     "text": [
      "100%|██████████| 19/19 [00:07<00:00,  2.66it/s]\n"
     ]
    },
    {
     "name": "stdout",
     "output_type": "stream",
     "text": [
      "INFO:tensorflow:Scale of 0 disables regularizer.\n",
      "INFO:tensorflow:Restoring parameters from /home/ivan/facenet/models/20180408-102900/model-20180408-102900.ckpt-90\n"
     ]
    },
    {
     "name": "stderr",
     "output_type": "stream",
     "text": [
      "100%|██████████| 19/19 [00:07<00:00,  2.65it/s]\n"
     ]
    },
    {
     "name": "stdout",
     "output_type": "stream",
     "text": [
      "INFO:tensorflow:Scale of 0 disables regularizer.\n",
      "INFO:tensorflow:Restoring parameters from /home/ivan/facenet/models/20180408-102900/model-20180408-102900.ckpt-90\n"
     ]
    },
    {
     "name": "stderr",
     "output_type": "stream",
     "text": [
      "100%|██████████| 19/19 [00:06<00:00,  2.74it/s]\n"
     ]
    },
    {
     "name": "stdout",
     "output_type": "stream",
     "text": [
      "INFO:tensorflow:Scale of 0 disables regularizer.\n",
      "INFO:tensorflow:Restoring parameters from /home/ivan/facenet/models/20180408-102900/model-20180408-102900.ckpt-90\n"
     ]
    },
    {
     "name": "stderr",
     "output_type": "stream",
     "text": [
      "100%|██████████| 19/19 [00:07<00:00,  2.70it/s]\n"
     ]
    },
    {
     "name": "stdout",
     "output_type": "stream",
     "text": [
      "INFO:tensorflow:Scale of 0 disables regularizer.\n",
      "INFO:tensorflow:Restoring parameters from /home/ivan/facenet/models/20180408-102900/model-20180408-102900.ckpt-90\n"
     ]
    },
    {
     "name": "stderr",
     "output_type": "stream",
     "text": [
      "100%|██████████| 19/19 [00:07<00:00,  2.66it/s]\n"
     ]
    },
    {
     "name": "stdout",
     "output_type": "stream",
     "text": [
      "INFO:tensorflow:Scale of 0 disables regularizer.\n",
      "INFO:tensorflow:Restoring parameters from /home/ivan/facenet/models/20180408-102900/model-20180408-102900.ckpt-90\n"
     ]
    },
    {
     "name": "stderr",
     "output_type": "stream",
     "text": [
      "100%|██████████| 19/19 [00:06<00:00,  2.74it/s]\n"
     ]
    },
    {
     "name": "stdout",
     "output_type": "stream",
     "text": [
      "INFO:tensorflow:Scale of 0 disables regularizer.\n",
      "INFO:tensorflow:Restoring parameters from /home/ivan/facenet/models/20180408-102900/model-20180408-102900.ckpt-90\n"
     ]
    },
    {
     "name": "stderr",
     "output_type": "stream",
     "text": [
      "100%|██████████| 19/19 [00:07<00:00,  2.58it/s]\n"
     ]
    },
    {
     "name": "stdout",
     "output_type": "stream",
     "text": [
      "INFO:tensorflow:Scale of 0 disables regularizer.\n",
      "INFO:tensorflow:Restoring parameters from /home/ivan/facenet/models/20180408-102900/model-20180408-102900.ckpt-90\n"
     ]
    },
    {
     "name": "stderr",
     "output_type": "stream",
     "text": [
      "100%|██████████| 19/19 [00:07<00:00,  2.60it/s]\n"
     ]
    },
    {
     "name": "stdout",
     "output_type": "stream",
     "text": [
      "INFO:tensorflow:Scale of 0 disables regularizer.\n",
      "INFO:tensorflow:Restoring parameters from /home/ivan/facenet/models/20180408-102900/model-20180408-102900.ckpt-90\n"
     ]
    },
    {
     "name": "stderr",
     "output_type": "stream",
     "text": [
      "100%|██████████| 19/19 [00:07<00:00,  2.56it/s]\n"
     ]
    },
    {
     "name": "stdout",
     "output_type": "stream",
     "text": [
      "INFO:tensorflow:Scale of 0 disables regularizer.\n",
      "INFO:tensorflow:Restoring parameters from /home/ivan/facenet/models/20180408-102900/model-20180408-102900.ckpt-90\n"
     ]
    },
    {
     "name": "stderr",
     "output_type": "stream",
     "text": [
      "100%|██████████| 19/19 [00:07<00:00,  2.69it/s]\n"
     ]
    },
    {
     "name": "stdout",
     "output_type": "stream",
     "text": [
      "INFO:tensorflow:Scale of 0 disables regularizer.\n",
      "INFO:tensorflow:Restoring parameters from /home/ivan/facenet/models/20180408-102900/model-20180408-102900.ckpt-90\n"
     ]
    },
    {
     "name": "stderr",
     "output_type": "stream",
     "text": [
      "100%|██████████| 19/19 [00:06<00:00,  2.72it/s]\n"
     ]
    },
    {
     "name": "stdout",
     "output_type": "stream",
     "text": [
      "INFO:tensorflow:Scale of 0 disables regularizer.\n",
      "INFO:tensorflow:Restoring parameters from /home/ivan/facenet/models/20180408-102900/model-20180408-102900.ckpt-90\n"
     ]
    },
    {
     "name": "stderr",
     "output_type": "stream",
     "text": [
      "100%|██████████| 19/19 [00:06<00:00,  2.72it/s]\n"
     ]
    },
    {
     "name": "stdout",
     "output_type": "stream",
     "text": [
      "INFO:tensorflow:Scale of 0 disables regularizer.\n",
      "INFO:tensorflow:Restoring parameters from /home/ivan/facenet/models/20180408-102900/model-20180408-102900.ckpt-90\n"
     ]
    },
    {
     "name": "stderr",
     "output_type": "stream",
     "text": [
      "100%|██████████| 19/19 [00:06<00:00,  2.74it/s]\n"
     ]
    },
    {
     "name": "stdout",
     "output_type": "stream",
     "text": [
      "INFO:tensorflow:Scale of 0 disables regularizer.\n",
      "INFO:tensorflow:Restoring parameters from /home/ivan/facenet/models/20180408-102900/model-20180408-102900.ckpt-90\n"
     ]
    },
    {
     "name": "stderr",
     "output_type": "stream",
     "text": [
      "100%|██████████| 19/19 [00:06<00:00,  2.72it/s]\n"
     ]
    },
    {
     "name": "stdout",
     "output_type": "stream",
     "text": [
      "INFO:tensorflow:Scale of 0 disables regularizer.\n",
      "INFO:tensorflow:Restoring parameters from /home/ivan/facenet/models/20180408-102900/model-20180408-102900.ckpt-90\n"
     ]
    },
    {
     "name": "stderr",
     "output_type": "stream",
     "text": [
      "100%|██████████| 19/19 [00:08<00:00,  2.26it/s]\n"
     ]
    },
    {
     "name": "stdout",
     "output_type": "stream",
     "text": [
      "INFO:tensorflow:Scale of 0 disables regularizer.\n",
      "INFO:tensorflow:Restoring parameters from /home/ivan/facenet/models/20180408-102900/model-20180408-102900.ckpt-90\n"
     ]
    },
    {
     "name": "stderr",
     "output_type": "stream",
     "text": [
      "100%|██████████| 19/19 [00:07<00:00,  2.44it/s]\n"
     ]
    },
    {
     "name": "stdout",
     "output_type": "stream",
     "text": [
      "INFO:tensorflow:Scale of 0 disables regularizer.\n",
      "INFO:tensorflow:Restoring parameters from /home/ivan/facenet/models/20180408-102900/model-20180408-102900.ckpt-90\n"
     ]
    },
    {
     "name": "stderr",
     "output_type": "stream",
     "text": [
      "100%|██████████| 19/19 [00:07<00:00,  2.62it/s]\n"
     ]
    },
    {
     "name": "stdout",
     "output_type": "stream",
     "text": [
      "INFO:tensorflow:Scale of 0 disables regularizer.\n",
      "INFO:tensorflow:Restoring parameters from /home/ivan/facenet/models/20180408-102900/model-20180408-102900.ckpt-90\n"
     ]
    },
    {
     "name": "stderr",
     "output_type": "stream",
     "text": [
      "100%|██████████| 19/19 [00:07<00:00,  2.58it/s]\n"
     ]
    },
    {
     "name": "stdout",
     "output_type": "stream",
     "text": [
      "INFO:tensorflow:Scale of 0 disables regularizer.\n",
      "INFO:tensorflow:Restoring parameters from /home/ivan/facenet/models/20180408-102900/model-20180408-102900.ckpt-90\n"
     ]
    },
    {
     "name": "stderr",
     "output_type": "stream",
     "text": [
      "100%|██████████| 19/19 [00:07<00:00,  2.58it/s]\n"
     ]
    },
    {
     "name": "stdout",
     "output_type": "stream",
     "text": [
      "INFO:tensorflow:Scale of 0 disables regularizer.\n",
      "INFO:tensorflow:Restoring parameters from /home/ivan/facenet/models/20180408-102900/model-20180408-102900.ckpt-90\n"
     ]
    },
    {
     "name": "stderr",
     "output_type": "stream",
     "text": [
      "100%|██████████| 19/19 [00:07<00:00,  2.55it/s]\n"
     ]
    },
    {
     "name": "stdout",
     "output_type": "stream",
     "text": [
      "INFO:tensorflow:Scale of 0 disables regularizer.\n",
      "INFO:tensorflow:Restoring parameters from /home/ivan/facenet/models/20180408-102900/model-20180408-102900.ckpt-90\n"
     ]
    },
    {
     "name": "stderr",
     "output_type": "stream",
     "text": [
      "100%|██████████| 19/19 [00:07<00:00,  2.66it/s]\n"
     ]
    },
    {
     "name": "stdout",
     "output_type": "stream",
     "text": [
      "INFO:tensorflow:Scale of 0 disables regularizer.\n",
      "INFO:tensorflow:Restoring parameters from /home/ivan/facenet/models/20180408-102900/model-20180408-102900.ckpt-90\n"
     ]
    },
    {
     "name": "stderr",
     "output_type": "stream",
     "text": [
      "100%|██████████| 19/19 [00:07<00:00,  2.66it/s]\n"
     ]
    },
    {
     "name": "stdout",
     "output_type": "stream",
     "text": [
      "INFO:tensorflow:Scale of 0 disables regularizer.\n",
      "INFO:tensorflow:Restoring parameters from /home/ivan/facenet/models/20180408-102900/model-20180408-102900.ckpt-90\n"
     ]
    },
    {
     "name": "stderr",
     "output_type": "stream",
     "text": [
      "100%|██████████| 19/19 [00:07<00:00,  2.69it/s]\n"
     ]
    },
    {
     "name": "stdout",
     "output_type": "stream",
     "text": [
      "INFO:tensorflow:Scale of 0 disables regularizer.\n",
      "INFO:tensorflow:Restoring parameters from /home/ivan/facenet/models/20180408-102900/model-20180408-102900.ckpt-90\n"
     ]
    },
    {
     "name": "stderr",
     "output_type": "stream",
     "text": [
      "100%|██████████| 19/19 [00:07<00:00,  2.51it/s]\n"
     ]
    },
    {
     "name": "stdout",
     "output_type": "stream",
     "text": [
      "INFO:tensorflow:Scale of 0 disables regularizer.\n",
      "INFO:tensorflow:Restoring parameters from /home/ivan/facenet/models/20180408-102900/model-20180408-102900.ckpt-90\n"
     ]
    },
    {
     "name": "stderr",
     "output_type": "stream",
     "text": [
      "100%|██████████| 19/19 [00:07<00:00,  2.51it/s]\n"
     ]
    },
    {
     "name": "stdout",
     "output_type": "stream",
     "text": [
      "INFO:tensorflow:Scale of 0 disables regularizer.\n",
      "INFO:tensorflow:Restoring parameters from /home/ivan/facenet/models/20180408-102900/model-20180408-102900.ckpt-90\n"
     ]
    },
    {
     "name": "stderr",
     "output_type": "stream",
     "text": [
      "100%|██████████| 19/19 [00:08<00:00,  2.23it/s]\n"
     ]
    },
    {
     "name": "stdout",
     "output_type": "stream",
     "text": [
      "INFO:tensorflow:Scale of 0 disables regularizer.\n",
      "INFO:tensorflow:Restoring parameters from /home/ivan/facenet/models/20180402-114759/model-20180402-114759.ckpt-275\n"
     ]
    },
    {
     "name": "stderr",
     "output_type": "stream",
     "text": [
      "100%|██████████| 19/19 [00:04<00:00,  4.75it/s]\n"
     ]
    },
    {
     "name": "stdout",
     "output_type": "stream",
     "text": [
      "INFO:tensorflow:Scale of 0 disables regularizer.\n",
      "INFO:tensorflow:Restoring parameters from /home/ivan/facenet/models/20180402-114759/model-20180402-114759.ckpt-275\n"
     ]
    },
    {
     "name": "stderr",
     "output_type": "stream",
     "text": [
      "100%|██████████| 19/19 [00:03<00:00,  4.84it/s]\n"
     ]
    },
    {
     "name": "stdout",
     "output_type": "stream",
     "text": [
      "INFO:tensorflow:Scale of 0 disables regularizer.\n",
      "INFO:tensorflow:Restoring parameters from /home/ivan/facenet/models/20180402-114759/model-20180402-114759.ckpt-275\n"
     ]
    },
    {
     "name": "stderr",
     "output_type": "stream",
     "text": [
      "100%|██████████| 19/19 [00:03<00:00,  5.16it/s]\n"
     ]
    },
    {
     "name": "stdout",
     "output_type": "stream",
     "text": [
      "INFO:tensorflow:Scale of 0 disables regularizer.\n",
      "INFO:tensorflow:Restoring parameters from /home/ivan/facenet/models/20180402-114759/model-20180402-114759.ckpt-275\n"
     ]
    },
    {
     "name": "stderr",
     "output_type": "stream",
     "text": [
      "100%|██████████| 19/19 [00:03<00:00,  5.37it/s]\n"
     ]
    },
    {
     "name": "stdout",
     "output_type": "stream",
     "text": [
      "INFO:tensorflow:Scale of 0 disables regularizer.\n",
      "INFO:tensorflow:Restoring parameters from /home/ivan/facenet/models/20180402-114759/model-20180402-114759.ckpt-275\n"
     ]
    },
    {
     "name": "stderr",
     "output_type": "stream",
     "text": [
      "100%|██████████| 19/19 [00:04<00:00,  4.65it/s]\n"
     ]
    },
    {
     "name": "stdout",
     "output_type": "stream",
     "text": [
      "INFO:tensorflow:Scale of 0 disables regularizer.\n",
      "INFO:tensorflow:Restoring parameters from /home/ivan/facenet/models/20180402-114759/model-20180402-114759.ckpt-275\n"
     ]
    },
    {
     "name": "stderr",
     "output_type": "stream",
     "text": [
      "100%|██████████| 19/19 [00:03<00:00,  5.83it/s]\n"
     ]
    },
    {
     "name": "stdout",
     "output_type": "stream",
     "text": [
      "INFO:tensorflow:Scale of 0 disables regularizer.\n",
      "INFO:tensorflow:Restoring parameters from /home/ivan/facenet/models/20180402-114759/model-20180402-114759.ckpt-275\n"
     ]
    },
    {
     "name": "stderr",
     "output_type": "stream",
     "text": [
      "100%|██████████| 19/19 [00:03<00:00,  5.48it/s]\n"
     ]
    },
    {
     "name": "stdout",
     "output_type": "stream",
     "text": [
      "INFO:tensorflow:Scale of 0 disables regularizer.\n",
      "INFO:tensorflow:Restoring parameters from /home/ivan/facenet/models/20180402-114759/model-20180402-114759.ckpt-275\n"
     ]
    },
    {
     "name": "stderr",
     "output_type": "stream",
     "text": [
      "100%|██████████| 19/19 [00:03<00:00,  5.11it/s]\n"
     ]
    },
    {
     "name": "stdout",
     "output_type": "stream",
     "text": [
      "INFO:tensorflow:Scale of 0 disables regularizer.\n",
      "INFO:tensorflow:Restoring parameters from /home/ivan/facenet/models/20180402-114759/model-20180402-114759.ckpt-275\n"
     ]
    },
    {
     "name": "stderr",
     "output_type": "stream",
     "text": [
      "100%|██████████| 19/19 [00:03<00:00,  6.07it/s]\n"
     ]
    },
    {
     "name": "stdout",
     "output_type": "stream",
     "text": [
      "INFO:tensorflow:Scale of 0 disables regularizer.\n",
      "INFO:tensorflow:Restoring parameters from /home/ivan/facenet/models/20180402-114759/model-20180402-114759.ckpt-275\n"
     ]
    },
    {
     "name": "stderr",
     "output_type": "stream",
     "text": [
      "100%|██████████| 19/19 [00:03<00:00,  5.81it/s]\n"
     ]
    },
    {
     "name": "stdout",
     "output_type": "stream",
     "text": [
      "INFO:tensorflow:Scale of 0 disables regularizer.\n",
      "INFO:tensorflow:Restoring parameters from /home/ivan/facenet/models/20180402-114759/model-20180402-114759.ckpt-275\n"
     ]
    },
    {
     "name": "stderr",
     "output_type": "stream",
     "text": [
      "100%|██████████| 19/19 [00:07<00:00,  2.67it/s]\n"
     ]
    },
    {
     "name": "stdout",
     "output_type": "stream",
     "text": [
      "INFO:tensorflow:Scale of 0 disables regularizer.\n",
      "INFO:tensorflow:Restoring parameters from /home/ivan/facenet/models/20180402-114759/model-20180402-114759.ckpt-275\n"
     ]
    },
    {
     "name": "stderr",
     "output_type": "stream",
     "text": [
      "100%|██████████| 19/19 [00:06<00:00,  2.73it/s]\n"
     ]
    },
    {
     "name": "stdout",
     "output_type": "stream",
     "text": [
      "INFO:tensorflow:Scale of 0 disables regularizer.\n",
      "INFO:tensorflow:Restoring parameters from /home/ivan/facenet/models/20180402-114759/model-20180402-114759.ckpt-275\n"
     ]
    },
    {
     "name": "stderr",
     "output_type": "stream",
     "text": [
      "100%|██████████| 19/19 [00:07<00:00,  2.71it/s]\n"
     ]
    },
    {
     "name": "stdout",
     "output_type": "stream",
     "text": [
      "INFO:tensorflow:Scale of 0 disables regularizer.\n",
      "INFO:tensorflow:Restoring parameters from /home/ivan/facenet/models/20180402-114759/model-20180402-114759.ckpt-275\n"
     ]
    },
    {
     "name": "stderr",
     "output_type": "stream",
     "text": [
      "100%|██████████| 19/19 [00:07<00:00,  2.63it/s]\n"
     ]
    },
    {
     "name": "stdout",
     "output_type": "stream",
     "text": [
      "INFO:tensorflow:Scale of 0 disables regularizer.\n",
      "INFO:tensorflow:Restoring parameters from /home/ivan/facenet/models/20180402-114759/model-20180402-114759.ckpt-275\n"
     ]
    },
    {
     "name": "stderr",
     "output_type": "stream",
     "text": [
      "100%|██████████| 19/19 [00:06<00:00,  2.72it/s]\n"
     ]
    },
    {
     "name": "stdout",
     "output_type": "stream",
     "text": [
      "INFO:tensorflow:Scale of 0 disables regularizer.\n",
      "INFO:tensorflow:Restoring parameters from /home/ivan/facenet/models/20180402-114759/model-20180402-114759.ckpt-275\n"
     ]
    },
    {
     "name": "stderr",
     "output_type": "stream",
     "text": [
      "100%|██████████| 19/19 [00:07<00:00,  2.64it/s]\n"
     ]
    },
    {
     "name": "stdout",
     "output_type": "stream",
     "text": [
      "INFO:tensorflow:Scale of 0 disables regularizer.\n",
      "INFO:tensorflow:Restoring parameters from /home/ivan/facenet/models/20180402-114759/model-20180402-114759.ckpt-275\n"
     ]
    },
    {
     "name": "stderr",
     "output_type": "stream",
     "text": [
      "100%|██████████| 19/19 [00:07<00:00,  2.71it/s]\n"
     ]
    },
    {
     "name": "stdout",
     "output_type": "stream",
     "text": [
      "INFO:tensorflow:Scale of 0 disables regularizer.\n",
      "INFO:tensorflow:Restoring parameters from /home/ivan/facenet/models/20180402-114759/model-20180402-114759.ckpt-275\n"
     ]
    },
    {
     "name": "stderr",
     "output_type": "stream",
     "text": [
      "100%|██████████| 19/19 [00:06<00:00,  2.77it/s]\n"
     ]
    },
    {
     "name": "stdout",
     "output_type": "stream",
     "text": [
      "INFO:tensorflow:Scale of 0 disables regularizer.\n",
      "INFO:tensorflow:Restoring parameters from /home/ivan/facenet/models/20180402-114759/model-20180402-114759.ckpt-275\n"
     ]
    },
    {
     "name": "stderr",
     "output_type": "stream",
     "text": [
      "100%|██████████| 19/19 [00:07<00:00,  2.71it/s]\n"
     ]
    },
    {
     "name": "stdout",
     "output_type": "stream",
     "text": [
      "INFO:tensorflow:Scale of 0 disables regularizer.\n",
      "INFO:tensorflow:Restoring parameters from /home/ivan/facenet/models/20180402-114759/model-20180402-114759.ckpt-275\n"
     ]
    },
    {
     "name": "stderr",
     "output_type": "stream",
     "text": [
      "100%|██████████| 19/19 [00:06<00:00,  2.84it/s]\n"
     ]
    },
    {
     "name": "stdout",
     "output_type": "stream",
     "text": [
      "INFO:tensorflow:Scale of 0 disables regularizer.\n",
      "INFO:tensorflow:Restoring parameters from /home/ivan/facenet/models/20180402-114759/model-20180402-114759.ckpt-275\n"
     ]
    },
    {
     "name": "stderr",
     "output_type": "stream",
     "text": [
      "100%|██████████| 19/19 [00:07<00:00,  2.63it/s]\n"
     ]
    },
    {
     "name": "stdout",
     "output_type": "stream",
     "text": [
      "INFO:tensorflow:Scale of 0 disables regularizer.\n",
      "INFO:tensorflow:Restoring parameters from /home/ivan/facenet/models/20180402-114759/model-20180402-114759.ckpt-275\n"
     ]
    },
    {
     "name": "stderr",
     "output_type": "stream",
     "text": [
      "100%|██████████| 19/19 [00:07<00:00,  2.67it/s]\n"
     ]
    },
    {
     "name": "stdout",
     "output_type": "stream",
     "text": [
      "INFO:tensorflow:Scale of 0 disables regularizer.\n",
      "INFO:tensorflow:Restoring parameters from /home/ivan/facenet/models/20180402-114759/model-20180402-114759.ckpt-275\n"
     ]
    },
    {
     "name": "stderr",
     "output_type": "stream",
     "text": [
      "100%|██████████| 19/19 [00:06<00:00,  2.76it/s]\n"
     ]
    },
    {
     "name": "stdout",
     "output_type": "stream",
     "text": [
      "INFO:tensorflow:Scale of 0 disables regularizer.\n",
      "INFO:tensorflow:Restoring parameters from /home/ivan/facenet/models/20180402-114759/model-20180402-114759.ckpt-275\n"
     ]
    },
    {
     "name": "stderr",
     "output_type": "stream",
     "text": [
      "100%|██████████| 19/19 [00:06<00:00,  2.73it/s]\n"
     ]
    },
    {
     "name": "stdout",
     "output_type": "stream",
     "text": [
      "INFO:tensorflow:Scale of 0 disables regularizer.\n",
      "INFO:tensorflow:Restoring parameters from /home/ivan/facenet/models/20180402-114759/model-20180402-114759.ckpt-275\n"
     ]
    },
    {
     "name": "stderr",
     "output_type": "stream",
     "text": [
      "100%|██████████| 19/19 [00:07<00:00,  2.65it/s]\n"
     ]
    },
    {
     "name": "stdout",
     "output_type": "stream",
     "text": [
      "INFO:tensorflow:Scale of 0 disables regularizer.\n",
      "INFO:tensorflow:Restoring parameters from /home/ivan/facenet/models/20180402-114759/model-20180402-114759.ckpt-275\n"
     ]
    },
    {
     "name": "stderr",
     "output_type": "stream",
     "text": [
      "100%|██████████| 19/19 [00:07<00:00,  2.71it/s]\n"
     ]
    },
    {
     "name": "stdout",
     "output_type": "stream",
     "text": [
      "INFO:tensorflow:Scale of 0 disables regularizer.\n",
      "INFO:tensorflow:Restoring parameters from /home/ivan/facenet/models/20180402-114759/model-20180402-114759.ckpt-275\n"
     ]
    },
    {
     "name": "stderr",
     "output_type": "stream",
     "text": [
      "100%|██████████| 19/19 [00:07<00:00,  2.52it/s]\n"
     ]
    },
    {
     "name": "stdout",
     "output_type": "stream",
     "text": [
      "INFO:tensorflow:Scale of 0 disables regularizer.\n",
      "INFO:tensorflow:Restoring parameters from /home/ivan/facenet/models/20180402-114759/model-20180402-114759.ckpt-275\n"
     ]
    },
    {
     "name": "stderr",
     "output_type": "stream",
     "text": [
      "100%|██████████| 19/19 [00:07<00:00,  2.71it/s]\n"
     ]
    },
    {
     "name": "stdout",
     "output_type": "stream",
     "text": [
      "INFO:tensorflow:Scale of 0 disables regularizer.\n",
      "INFO:tensorflow:Restoring parameters from /home/ivan/facenet/models/20180402-114759/model-20180402-114759.ckpt-275\n"
     ]
    },
    {
     "name": "stderr",
     "output_type": "stream",
     "text": [
      "100%|██████████| 19/19 [00:07<00:00,  2.59it/s]\n"
     ]
    },
    {
     "name": "stdout",
     "output_type": "stream",
     "text": [
      "INFO:tensorflow:Scale of 0 disables regularizer.\n",
      "INFO:tensorflow:Restoring parameters from /home/ivan/facenet/models/20180402-114759/model-20180402-114759.ckpt-275\n"
     ]
    },
    {
     "name": "stderr",
     "output_type": "stream",
     "text": [
      "100%|██████████| 19/19 [00:07<00:00,  2.71it/s]\n"
     ]
    },
    {
     "name": "stdout",
     "output_type": "stream",
     "text": [
      "INFO:tensorflow:Scale of 0 disables regularizer.\n",
      "INFO:tensorflow:Restoring parameters from /home/ivan/facenet/models/20180402-114759/model-20180402-114759.ckpt-275\n"
     ]
    },
    {
     "name": "stderr",
     "output_type": "stream",
     "text": [
      "100%|██████████| 19/19 [00:07<00:00,  2.56it/s]\n"
     ]
    },
    {
     "name": "stdout",
     "output_type": "stream",
     "text": [
      "INFO:tensorflow:Scale of 0 disables regularizer.\n",
      "INFO:tensorflow:Restoring parameters from /home/ivan/facenet/models/20180402-114759/model-20180402-114759.ckpt-275\n"
     ]
    },
    {
     "name": "stderr",
     "output_type": "stream",
     "text": [
      "100%|██████████| 19/19 [00:06<00:00,  2.83it/s]\n"
     ]
    },
    {
     "name": "stdout",
     "output_type": "stream",
     "text": [
      "INFO:tensorflow:Scale of 0 disables regularizer.\n",
      "INFO:tensorflow:Restoring parameters from /home/ivan/facenet/models/20180402-114759/model-20180402-114759.ckpt-275\n"
     ]
    },
    {
     "name": "stderr",
     "output_type": "stream",
     "text": [
      "100%|██████████| 19/19 [00:07<00:00,  2.70it/s]\n"
     ]
    },
    {
     "name": "stdout",
     "output_type": "stream",
     "text": [
      "INFO:tensorflow:Scale of 0 disables regularizer.\n",
      "INFO:tensorflow:Restoring parameters from /home/ivan/facenet/models/20180402-114759/model-20180402-114759.ckpt-275\n"
     ]
    },
    {
     "name": "stderr",
     "output_type": "stream",
     "text": [
      "100%|██████████| 19/19 [00:06<00:00,  2.78it/s]\n"
     ]
    },
    {
     "name": "stdout",
     "output_type": "stream",
     "text": [
      "INFO:tensorflow:Scale of 0 disables regularizer.\n",
      "INFO:tensorflow:Restoring parameters from /home/ivan/facenet/models/20180402-114759/model-20180402-114759.ckpt-275\n"
     ]
    },
    {
     "name": "stderr",
     "output_type": "stream",
     "text": [
      "100%|██████████| 19/19 [00:06<00:00,  2.78it/s]\n"
     ]
    },
    {
     "name": "stdout",
     "output_type": "stream",
     "text": [
      "INFO:tensorflow:Scale of 0 disables regularizer.\n",
      "INFO:tensorflow:Restoring parameters from /home/ivan/facenet/models/20180402-114759/model-20180402-114759.ckpt-275\n"
     ]
    },
    {
     "name": "stderr",
     "output_type": "stream",
     "text": [
      "100%|██████████| 19/19 [00:06<00:00,  2.76it/s]\n"
     ]
    },
    {
     "name": "stdout",
     "output_type": "stream",
     "text": [
      "INFO:tensorflow:Scale of 0 disables regularizer.\n",
      "INFO:tensorflow:Restoring parameters from /home/ivan/facenet/models/20180402-114759/model-20180402-114759.ckpt-275\n"
     ]
    },
    {
     "name": "stderr",
     "output_type": "stream",
     "text": [
      "100%|██████████| 19/19 [00:06<00:00,  2.74it/s]\n"
     ]
    },
    {
     "name": "stdout",
     "output_type": "stream",
     "text": [
      "INFO:tensorflow:Scale of 0 disables regularizer.\n",
      "INFO:tensorflow:Restoring parameters from /home/ivan/facenet/models/20180402-114759/model-20180402-114759.ckpt-275\n"
     ]
    },
    {
     "name": "stderr",
     "output_type": "stream",
     "text": [
      "100%|██████████| 19/19 [00:06<00:00,  2.78it/s]\n"
     ]
    },
    {
     "name": "stdout",
     "output_type": "stream",
     "text": [
      "INFO:tensorflow:Scale of 0 disables regularizer.\n",
      "INFO:tensorflow:Restoring parameters from /home/ivan/facenet/models/20180402-114759/model-20180402-114759.ckpt-275\n"
     ]
    },
    {
     "name": "stderr",
     "output_type": "stream",
     "text": [
      "100%|██████████| 19/19 [00:06<00:00,  2.89it/s]\n"
     ]
    },
    {
     "name": "stdout",
     "output_type": "stream",
     "text": [
      "INFO:tensorflow:Scale of 0 disables regularizer.\n",
      "INFO:tensorflow:Restoring parameters from /home/ivan/facenet/models/20180402-114759/model-20180402-114759.ckpt-275\n"
     ]
    },
    {
     "name": "stderr",
     "output_type": "stream",
     "text": [
      "100%|██████████| 19/19 [00:06<00:00,  2.87it/s]\n"
     ]
    },
    {
     "name": "stdout",
     "output_type": "stream",
     "text": [
      "INFO:tensorflow:Scale of 0 disables regularizer.\n",
      "INFO:tensorflow:Restoring parameters from /home/ivan/facenet/models/20180402-114759/model-20180402-114759.ckpt-275\n"
     ]
    },
    {
     "name": "stderr",
     "output_type": "stream",
     "text": [
      "100%|██████████| 19/19 [00:06<00:00,  2.78it/s]\n"
     ]
    },
    {
     "name": "stdout",
     "output_type": "stream",
     "text": [
      "INFO:tensorflow:Scale of 0 disables regularizer.\n",
      "INFO:tensorflow:Restoring parameters from /home/ivan/facenet/models/20180402-114759/model-20180402-114759.ckpt-275\n"
     ]
    },
    {
     "name": "stderr",
     "output_type": "stream",
     "text": [
      "100%|██████████| 19/19 [00:07<00:00,  2.71it/s]\n"
     ]
    },
    {
     "name": "stdout",
     "output_type": "stream",
     "text": [
      "INFO:tensorflow:Scale of 0 disables regularizer.\n",
      "INFO:tensorflow:Restoring parameters from /home/ivan/facenet/models/20180402-114759/model-20180402-114759.ckpt-275\n"
     ]
    },
    {
     "name": "stderr",
     "output_type": "stream",
     "text": [
      "100%|██████████| 19/19 [00:06<00:00,  2.77it/s]\n"
     ]
    },
    {
     "name": "stdout",
     "output_type": "stream",
     "text": [
      "INFO:tensorflow:Scale of 0 disables regularizer.\n",
      "INFO:tensorflow:Restoring parameters from /home/ivan/facenet/models/20180402-114759/model-20180402-114759.ckpt-275\n"
     ]
    },
    {
     "name": "stderr",
     "output_type": "stream",
     "text": [
      "100%|██████████| 19/19 [00:06<00:00,  2.81it/s]\n"
     ]
    },
    {
     "name": "stdout",
     "output_type": "stream",
     "text": [
      "INFO:tensorflow:Scale of 0 disables regularizer.\n",
      "INFO:tensorflow:Restoring parameters from /home/ivan/facenet/models/20180402-114759/model-20180402-114759.ckpt-275\n"
     ]
    },
    {
     "name": "stderr",
     "output_type": "stream",
     "text": [
      "100%|██████████| 19/19 [00:06<00:00,  2.74it/s]\n"
     ]
    },
    {
     "name": "stdout",
     "output_type": "stream",
     "text": [
      "INFO:tensorflow:Scale of 0 disables regularizer.\n",
      "INFO:tensorflow:Restoring parameters from /home/ivan/facenet/models/20180402-114759/model-20180402-114759.ckpt-275\n"
     ]
    },
    {
     "name": "stderr",
     "output_type": "stream",
     "text": [
      "100%|██████████| 19/19 [00:06<00:00,  2.76it/s]\n"
     ]
    },
    {
     "name": "stdout",
     "output_type": "stream",
     "text": [
      "INFO:tensorflow:Scale of 0 disables regularizer.\n",
      "INFO:tensorflow:Restoring parameters from /home/ivan/facenet/models/20180402-114759/model-20180402-114759.ckpt-275\n"
     ]
    },
    {
     "name": "stderr",
     "output_type": "stream",
     "text": [
      "100%|██████████| 19/19 [00:07<00:00,  2.63it/s]\n"
     ]
    },
    {
     "name": "stdout",
     "output_type": "stream",
     "text": [
      "INFO:tensorflow:Scale of 0 disables regularizer.\n",
      "INFO:tensorflow:Restoring parameters from /home/ivan/facenet/models/20180402-114759/model-20180402-114759.ckpt-275\n"
     ]
    },
    {
     "name": "stderr",
     "output_type": "stream",
     "text": [
      "100%|██████████| 19/19 [00:07<00:00,  2.58it/s]\n"
     ]
    },
    {
     "name": "stdout",
     "output_type": "stream",
     "text": [
      "INFO:tensorflow:Scale of 0 disables regularizer.\n",
      "INFO:tensorflow:Restoring parameters from /home/ivan/facenet/models/20180402-114759/model-20180402-114759.ckpt-275\n"
     ]
    },
    {
     "name": "stderr",
     "output_type": "stream",
     "text": [
      "100%|██████████| 19/19 [00:07<00:00,  2.49it/s]\n"
     ]
    },
    {
     "name": "stdout",
     "output_type": "stream",
     "text": [
      "INFO:tensorflow:Scale of 0 disables regularizer.\n",
      "INFO:tensorflow:Restoring parameters from /home/ivan/facenet/models/20180402-114759/model-20180402-114759.ckpt-275\n"
     ]
    },
    {
     "name": "stderr",
     "output_type": "stream",
     "text": [
      "100%|██████████| 19/19 [00:07<00:00,  2.54it/s]\n"
     ]
    },
    {
     "name": "stdout",
     "output_type": "stream",
     "text": [
      "INFO:tensorflow:Scale of 0 disables regularizer.\n",
      "INFO:tensorflow:Restoring parameters from /home/ivan/facenet/models/20180402-114759/model-20180402-114759.ckpt-275\n"
     ]
    },
    {
     "name": "stderr",
     "output_type": "stream",
     "text": [
      "100%|██████████| 19/19 [00:07<00:00,  2.56it/s]\n"
     ]
    },
    {
     "name": "stdout",
     "output_type": "stream",
     "text": [
      "INFO:tensorflow:Scale of 0 disables regularizer.\n",
      "INFO:tensorflow:Restoring parameters from /home/ivan/facenet/models/20180402-114759/model-20180402-114759.ckpt-275\n"
     ]
    },
    {
     "name": "stderr",
     "output_type": "stream",
     "text": [
      "100%|██████████| 19/19 [00:07<00:00,  2.58it/s]\n"
     ]
    },
    {
     "name": "stdout",
     "output_type": "stream",
     "text": [
      "INFO:tensorflow:Scale of 0 disables regularizer.\n",
      "INFO:tensorflow:Restoring parameters from /home/ivan/facenet/models/20180402-114759/model-20180402-114759.ckpt-275\n"
     ]
    },
    {
     "name": "stderr",
     "output_type": "stream",
     "text": [
      "100%|██████████| 19/19 [00:07<00:00,  2.56it/s]\n"
     ]
    },
    {
     "name": "stdout",
     "output_type": "stream",
     "text": [
      "INFO:tensorflow:Scale of 0 disables regularizer.\n",
      "INFO:tensorflow:Restoring parameters from /home/ivan/facenet/models/20180402-114759/model-20180402-114759.ckpt-275\n"
     ]
    },
    {
     "name": "stderr",
     "output_type": "stream",
     "text": [
      "100%|██████████| 19/19 [00:07<00:00,  2.56it/s]\n"
     ]
    },
    {
     "name": "stdout",
     "output_type": "stream",
     "text": [
      "INFO:tensorflow:Scale of 0 disables regularizer.\n",
      "INFO:tensorflow:Restoring parameters from /home/ivan/facenet/models/20180402-114759/model-20180402-114759.ckpt-275\n"
     ]
    },
    {
     "name": "stderr",
     "output_type": "stream",
     "text": [
      "100%|██████████| 19/19 [00:07<00:00,  2.67it/s]\n"
     ]
    },
    {
     "name": "stdout",
     "output_type": "stream",
     "text": [
      "INFO:tensorflow:Scale of 0 disables regularizer.\n",
      "INFO:tensorflow:Restoring parameters from /home/ivan/facenet/models/20180402-114759/model-20180402-114759.ckpt-275\n"
     ]
    },
    {
     "name": "stderr",
     "output_type": "stream",
     "text": [
      "100%|██████████| 19/19 [00:06<00:00,  2.73it/s]\n"
     ]
    },
    {
     "name": "stdout",
     "output_type": "stream",
     "text": [
      "INFO:tensorflow:Scale of 0 disables regularizer.\n",
      "INFO:tensorflow:Restoring parameters from /home/ivan/facenet/models/20180402-114759/model-20180402-114759.ckpt-275\n"
     ]
    },
    {
     "name": "stderr",
     "output_type": "stream",
     "text": [
      "100%|██████████| 19/19 [00:07<00:00,  2.70it/s]\n"
     ]
    },
    {
     "name": "stdout",
     "output_type": "stream",
     "text": [
      "INFO:tensorflow:Scale of 0 disables regularizer.\n",
      "INFO:tensorflow:Restoring parameters from /home/ivan/facenet/models/20180402-114759/model-20180402-114759.ckpt-275\n"
     ]
    },
    {
     "name": "stderr",
     "output_type": "stream",
     "text": [
      "100%|██████████| 19/19 [00:07<00:00,  2.57it/s]\n"
     ]
    },
    {
     "name": "stdout",
     "output_type": "stream",
     "text": [
      "INFO:tensorflow:Scale of 0 disables regularizer.\n",
      "INFO:tensorflow:Restoring parameters from /home/ivan/facenet/models/20180402-114759/model-20180402-114759.ckpt-275\n"
     ]
    },
    {
     "name": "stderr",
     "output_type": "stream",
     "text": [
      "100%|██████████| 19/19 [00:07<00:00,  2.69it/s]\n"
     ]
    },
    {
     "name": "stdout",
     "output_type": "stream",
     "text": [
      "INFO:tensorflow:Scale of 0 disables regularizer.\n",
      "INFO:tensorflow:Restoring parameters from /home/ivan/facenet/models/20180402-114759/model-20180402-114759.ckpt-275\n"
     ]
    },
    {
     "name": "stderr",
     "output_type": "stream",
     "text": [
      "100%|██████████| 19/19 [00:07<00:00,  2.71it/s]\n"
     ]
    },
    {
     "name": "stdout",
     "output_type": "stream",
     "text": [
      "INFO:tensorflow:Scale of 0 disables regularizer.\n",
      "INFO:tensorflow:Restoring parameters from /home/ivan/facenet/models/20180402-114759/model-20180402-114759.ckpt-275\n"
     ]
    },
    {
     "name": "stderr",
     "output_type": "stream",
     "text": [
      "100%|██████████| 19/19 [00:06<00:00,  2.80it/s]\n"
     ]
    },
    {
     "name": "stdout",
     "output_type": "stream",
     "text": [
      "INFO:tensorflow:Scale of 0 disables regularizer.\n",
      "INFO:tensorflow:Restoring parameters from /home/ivan/facenet/models/20180402-114759/model-20180402-114759.ckpt-275\n"
     ]
    },
    {
     "name": "stderr",
     "output_type": "stream",
     "text": [
      "100%|██████████| 19/19 [00:06<00:00,  2.82it/s]\n"
     ]
    },
    {
     "name": "stdout",
     "output_type": "stream",
     "text": [
      "INFO:tensorflow:Scale of 0 disables regularizer.\n",
      "INFO:tensorflow:Restoring parameters from /home/ivan/facenet/models/20180402-114759/model-20180402-114759.ckpt-275\n"
     ]
    },
    {
     "name": "stderr",
     "output_type": "stream",
     "text": [
      "100%|██████████| 19/19 [00:06<00:00,  2.72it/s]\n"
     ]
    },
    {
     "name": "stdout",
     "output_type": "stream",
     "text": [
      "INFO:tensorflow:Scale of 0 disables regularizer.\n",
      "INFO:tensorflow:Restoring parameters from /home/ivan/facenet/models/20180402-114759/model-20180402-114759.ckpt-275\n"
     ]
    },
    {
     "name": "stderr",
     "output_type": "stream",
     "text": [
      "100%|██████████| 19/19 [00:06<00:00,  2.87it/s]\n"
     ]
    },
    {
     "name": "stdout",
     "output_type": "stream",
     "text": [
      "INFO:tensorflow:Scale of 0 disables regularizer.\n",
      "INFO:tensorflow:Restoring parameters from /home/ivan/facenet/models/20180402-114759/model-20180402-114759.ckpt-275\n"
     ]
    },
    {
     "name": "stderr",
     "output_type": "stream",
     "text": [
      "100%|██████████| 19/19 [00:06<00:00,  2.83it/s]\n"
     ]
    },
    {
     "name": "stdout",
     "output_type": "stream",
     "text": [
      "INFO:tensorflow:Scale of 0 disables regularizer.\n",
      "INFO:tensorflow:Restoring parameters from /home/ivan/facenet/models/20180402-114759/model-20180402-114759.ckpt-275\n"
     ]
    },
    {
     "name": "stderr",
     "output_type": "stream",
     "text": [
      "100%|██████████| 19/19 [00:07<00:00,  2.65it/s]\n"
     ]
    },
    {
     "name": "stdout",
     "output_type": "stream",
     "text": [
      "INFO:tensorflow:Scale of 0 disables regularizer.\n",
      "INFO:tensorflow:Restoring parameters from /home/ivan/facenet/models/20180402-114759/model-20180402-114759.ckpt-275\n"
     ]
    },
    {
     "name": "stderr",
     "output_type": "stream",
     "text": [
      "100%|██████████| 19/19 [00:06<00:00,  2.86it/s]\n"
     ]
    },
    {
     "name": "stdout",
     "output_type": "stream",
     "text": [
      "INFO:tensorflow:Scale of 0 disables regularizer.\n",
      "INFO:tensorflow:Restoring parameters from /home/ivan/facenet/models/20180402-114759/model-20180402-114759.ckpt-275\n"
     ]
    },
    {
     "name": "stderr",
     "output_type": "stream",
     "text": [
      "100%|██████████| 19/19 [00:06<00:00,  2.86it/s]\n"
     ]
    },
    {
     "name": "stdout",
     "output_type": "stream",
     "text": [
      "INFO:tensorflow:Scale of 0 disables regularizer.\n",
      "INFO:tensorflow:Restoring parameters from /home/ivan/facenet/models/20180402-114759/model-20180402-114759.ckpt-275\n"
     ]
    },
    {
     "name": "stderr",
     "output_type": "stream",
     "text": [
      "100%|██████████| 19/19 [00:06<00:00,  2.82it/s]\n"
     ]
    },
    {
     "name": "stdout",
     "output_type": "stream",
     "text": [
      "INFO:tensorflow:Scale of 0 disables regularizer.\n",
      "INFO:tensorflow:Restoring parameters from /home/ivan/facenet/models/20180402-114759/model-20180402-114759.ckpt-275\n"
     ]
    },
    {
     "name": "stderr",
     "output_type": "stream",
     "text": [
      "100%|██████████| 19/19 [00:06<00:00,  2.84it/s]\n"
     ]
    },
    {
     "name": "stdout",
     "output_type": "stream",
     "text": [
      "INFO:tensorflow:Scale of 0 disables regularizer.\n",
      "INFO:tensorflow:Restoring parameters from /home/ivan/facenet/models/20180402-114759/model-20180402-114759.ckpt-275\n"
     ]
    },
    {
     "name": "stderr",
     "output_type": "stream",
     "text": [
      "100%|██████████| 19/19 [00:06<00:00,  2.83it/s]\n"
     ]
    },
    {
     "name": "stdout",
     "output_type": "stream",
     "text": [
      "INFO:tensorflow:Scale of 0 disables regularizer.\n",
      "INFO:tensorflow:Restoring parameters from /home/ivan/facenet/models/20180402-114759/model-20180402-114759.ckpt-275\n"
     ]
    },
    {
     "name": "stderr",
     "output_type": "stream",
     "text": [
      "100%|██████████| 19/19 [00:06<00:00,  2.73it/s]\n"
     ]
    },
    {
     "name": "stdout",
     "output_type": "stream",
     "text": [
      "INFO:tensorflow:Scale of 0 disables regularizer.\n",
      "INFO:tensorflow:Restoring parameters from /home/ivan/facenet/models/20180402-114759/model-20180402-114759.ckpt-275\n"
     ]
    },
    {
     "name": "stderr",
     "output_type": "stream",
     "text": [
      "100%|██████████| 19/19 [00:06<00:00,  2.83it/s]\n"
     ]
    },
    {
     "name": "stdout",
     "output_type": "stream",
     "text": [
      "INFO:tensorflow:Scale of 0 disables regularizer.\n",
      "INFO:tensorflow:Restoring parameters from /home/ivan/facenet/models/20180402-114759/model-20180402-114759.ckpt-275\n"
     ]
    },
    {
     "name": "stderr",
     "output_type": "stream",
     "text": [
      "100%|██████████| 19/19 [00:07<00:00,  2.68it/s]\n"
     ]
    },
    {
     "name": "stdout",
     "output_type": "stream",
     "text": [
      "INFO:tensorflow:Scale of 0 disables regularizer.\n",
      "INFO:tensorflow:Restoring parameters from /home/ivan/facenet/models/20180402-114759/model-20180402-114759.ckpt-275\n"
     ]
    },
    {
     "name": "stderr",
     "output_type": "stream",
     "text": [
      "100%|██████████| 19/19 [00:06<00:00,  2.87it/s]\n"
     ]
    },
    {
     "name": "stdout",
     "output_type": "stream",
     "text": [
      "INFO:tensorflow:Scale of 0 disables regularizer.\n",
      "INFO:tensorflow:Restoring parameters from /home/ivan/facenet/models/20180402-114759/model-20180402-114759.ckpt-275\n"
     ]
    },
    {
     "name": "stderr",
     "output_type": "stream",
     "text": [
      "100%|██████████| 19/19 [00:06<00:00,  2.85it/s]\n"
     ]
    },
    {
     "name": "stdout",
     "output_type": "stream",
     "text": [
      "INFO:tensorflow:Scale of 0 disables regularizer.\n",
      "INFO:tensorflow:Restoring parameters from /home/ivan/facenet/models/20180402-114759/model-20180402-114759.ckpt-275\n"
     ]
    },
    {
     "name": "stderr",
     "output_type": "stream",
     "text": [
      "100%|██████████| 19/19 [00:06<00:00,  2.84it/s]\n"
     ]
    },
    {
     "name": "stdout",
     "output_type": "stream",
     "text": [
      "INFO:tensorflow:Scale of 0 disables regularizer.\n",
      "INFO:tensorflow:Restoring parameters from /home/ivan/facenet/models/20180402-114759/model-20180402-114759.ckpt-275\n"
     ]
    },
    {
     "name": "stderr",
     "output_type": "stream",
     "text": [
      "100%|██████████| 19/19 [00:06<00:00,  2.85it/s]\n"
     ]
    },
    {
     "name": "stdout",
     "output_type": "stream",
     "text": [
      "INFO:tensorflow:Scale of 0 disables regularizer.\n",
      "INFO:tensorflow:Restoring parameters from /home/ivan/facenet/models/20180402-114759/model-20180402-114759.ckpt-275\n"
     ]
    },
    {
     "name": "stderr",
     "output_type": "stream",
     "text": [
      "100%|██████████| 19/19 [00:06<00:00,  2.81it/s]\n"
     ]
    },
    {
     "name": "stdout",
     "output_type": "stream",
     "text": [
      "INFO:tensorflow:Scale of 0 disables regularizer.\n",
      "INFO:tensorflow:Restoring parameters from /home/ivan/facenet/models/20180402-114759/model-20180402-114759.ckpt-275\n"
     ]
    },
    {
     "name": "stderr",
     "output_type": "stream",
     "text": [
      "100%|██████████| 19/19 [00:06<00:00,  2.84it/s]\n"
     ]
    },
    {
     "name": "stdout",
     "output_type": "stream",
     "text": [
      "INFO:tensorflow:Scale of 0 disables regularizer.\n",
      "INFO:tensorflow:Restoring parameters from /home/ivan/facenet/models/20180402-114759/model-20180402-114759.ckpt-275\n"
     ]
    },
    {
     "name": "stderr",
     "output_type": "stream",
     "text": [
      "100%|██████████| 19/19 [00:06<00:00,  2.73it/s]\n"
     ]
    },
    {
     "name": "stdout",
     "output_type": "stream",
     "text": [
      "INFO:tensorflow:Scale of 0 disables regularizer.\n",
      "INFO:tensorflow:Restoring parameters from /home/ivan/facenet/models/20180402-114759/model-20180402-114759.ckpt-275\n"
     ]
    },
    {
     "name": "stderr",
     "output_type": "stream",
     "text": [
      "100%|██████████| 19/19 [00:06<00:00,  2.81it/s]\n"
     ]
    },
    {
     "name": "stdout",
     "output_type": "stream",
     "text": [
      "INFO:tensorflow:Scale of 0 disables regularizer.\n",
      "INFO:tensorflow:Restoring parameters from /home/ivan/facenet/models/20180402-114759/model-20180402-114759.ckpt-275\n"
     ]
    },
    {
     "name": "stderr",
     "output_type": "stream",
     "text": [
      "100%|██████████| 19/19 [00:06<00:00,  2.80it/s]\n"
     ]
    },
    {
     "name": "stdout",
     "output_type": "stream",
     "text": [
      "INFO:tensorflow:Scale of 0 disables regularizer.\n",
      "INFO:tensorflow:Restoring parameters from /home/ivan/facenet/models/20180402-114759/model-20180402-114759.ckpt-275\n"
     ]
    },
    {
     "name": "stderr",
     "output_type": "stream",
     "text": [
      "100%|██████████| 19/19 [00:06<00:00,  2.78it/s]\n"
     ]
    },
    {
     "name": "stdout",
     "output_type": "stream",
     "text": [
      "INFO:tensorflow:Scale of 0 disables regularizer.\n",
      "INFO:tensorflow:Restoring parameters from /home/ivan/facenet/models/20180402-114759/model-20180402-114759.ckpt-275\n"
     ]
    },
    {
     "name": "stderr",
     "output_type": "stream",
     "text": [
      "100%|██████████| 19/19 [00:06<00:00,  2.82it/s]\n"
     ]
    },
    {
     "name": "stdout",
     "output_type": "stream",
     "text": [
      "INFO:tensorflow:Scale of 0 disables regularizer.\n",
      "INFO:tensorflow:Restoring parameters from /home/ivan/facenet/models/20180402-114759/model-20180402-114759.ckpt-275\n"
     ]
    },
    {
     "name": "stderr",
     "output_type": "stream",
     "text": [
      "100%|██████████| 19/19 [00:07<00:00,  2.61it/s]\n"
     ]
    },
    {
     "name": "stdout",
     "output_type": "stream",
     "text": [
      "INFO:tensorflow:Scale of 0 disables regularizer.\n",
      "INFO:tensorflow:Restoring parameters from /home/ivan/facenet/models/20180402-114759/model-20180402-114759.ckpt-275\n"
     ]
    },
    {
     "name": "stderr",
     "output_type": "stream",
     "text": [
      "100%|██████████| 19/19 [00:07<00:00,  2.63it/s]\n"
     ]
    },
    {
     "name": "stdout",
     "output_type": "stream",
     "text": [
      "INFO:tensorflow:Scale of 0 disables regularizer.\n",
      "INFO:tensorflow:Restoring parameters from /home/ivan/facenet/models/20180402-114759/model-20180402-114759.ckpt-275\n"
     ]
    },
    {
     "name": "stderr",
     "output_type": "stream",
     "text": [
      "100%|██████████| 19/19 [00:07<00:00,  2.57it/s]\n"
     ]
    },
    {
     "name": "stdout",
     "output_type": "stream",
     "text": [
      "INFO:tensorflow:Scale of 0 disables regularizer.\n",
      "INFO:tensorflow:Restoring parameters from /home/ivan/facenet/models/20180402-114759/model-20180402-114759.ckpt-275\n"
     ]
    },
    {
     "name": "stderr",
     "output_type": "stream",
     "text": [
      "100%|██████████| 19/19 [00:06<00:00,  2.75it/s]\n"
     ]
    },
    {
     "name": "stdout",
     "output_type": "stream",
     "text": [
      "INFO:tensorflow:Scale of 0 disables regularizer.\n",
      "INFO:tensorflow:Restoring parameters from /home/ivan/facenet/models/20180402-114759/model-20180402-114759.ckpt-275\n"
     ]
    },
    {
     "name": "stderr",
     "output_type": "stream",
     "text": [
      "100%|██████████| 19/19 [00:06<00:00,  2.87it/s]\n"
     ]
    },
    {
     "name": "stdout",
     "output_type": "stream",
     "text": [
      "INFO:tensorflow:Scale of 0 disables regularizer.\n",
      "INFO:tensorflow:Restoring parameters from /home/ivan/facenet/models/20180402-114759/model-20180402-114759.ckpt-275\n"
     ]
    },
    {
     "name": "stderr",
     "output_type": "stream",
     "text": [
      "100%|██████████| 19/19 [00:06<00:00,  2.78it/s]\n"
     ]
    },
    {
     "name": "stdout",
     "output_type": "stream",
     "text": [
      "INFO:tensorflow:Scale of 0 disables regularizer.\n",
      "INFO:tensorflow:Restoring parameters from /home/ivan/facenet/models/20180402-114759/model-20180402-114759.ckpt-275\n"
     ]
    },
    {
     "name": "stderr",
     "output_type": "stream",
     "text": [
      "100%|██████████| 19/19 [00:07<00:00,  2.70it/s]\n"
     ]
    },
    {
     "name": "stdout",
     "output_type": "stream",
     "text": [
      "INFO:tensorflow:Scale of 0 disables regularizer.\n",
      "INFO:tensorflow:Restoring parameters from /home/ivan/facenet/models/20180402-114759/model-20180402-114759.ckpt-275\n"
     ]
    },
    {
     "name": "stderr",
     "output_type": "stream",
     "text": [
      "100%|██████████| 19/19 [00:07<00:00,  2.60it/s]\n"
     ]
    },
    {
     "name": "stdout",
     "output_type": "stream",
     "text": [
      "INFO:tensorflow:Scale of 0 disables regularizer.\n",
      "INFO:tensorflow:Restoring parameters from /home/ivan/facenet/models/20180402-114759/model-20180402-114759.ckpt-275\n"
     ]
    },
    {
     "name": "stderr",
     "output_type": "stream",
     "text": [
      "100%|██████████| 19/19 [00:06<00:00,  2.80it/s]\n"
     ]
    },
    {
     "name": "stdout",
     "output_type": "stream",
     "text": [
      "INFO:tensorflow:Scale of 0 disables regularizer.\n",
      "INFO:tensorflow:Restoring parameters from /home/ivan/facenet/models/20180402-114759/model-20180402-114759.ckpt-275\n"
     ]
    },
    {
     "name": "stderr",
     "output_type": "stream",
     "text": [
      "100%|██████████| 19/19 [00:06<00:00,  2.78it/s]\n"
     ]
    },
    {
     "name": "stdout",
     "output_type": "stream",
     "text": [
      "INFO:tensorflow:Scale of 0 disables regularizer.\n",
      "INFO:tensorflow:Restoring parameters from /home/ivan/facenet/models/20180402-114759/model-20180402-114759.ckpt-275\n"
     ]
    },
    {
     "name": "stderr",
     "output_type": "stream",
     "text": [
      "100%|██████████| 19/19 [00:07<00:00,  2.68it/s]\n"
     ]
    },
    {
     "name": "stdout",
     "output_type": "stream",
     "text": [
      "INFO:tensorflow:Scale of 0 disables regularizer.\n",
      "INFO:tensorflow:Restoring parameters from /home/ivan/facenet/models/20180402-114759/model-20180402-114759.ckpt-275\n"
     ]
    },
    {
     "name": "stderr",
     "output_type": "stream",
     "text": [
      "100%|██████████| 19/19 [00:06<00:00,  2.77it/s]\n"
     ]
    },
    {
     "name": "stdout",
     "output_type": "stream",
     "text": [
      "INFO:tensorflow:Scale of 0 disables regularizer.\n",
      "INFO:tensorflow:Restoring parameters from /home/ivan/facenet/models/20180402-114759/model-20180402-114759.ckpt-275\n"
     ]
    },
    {
     "name": "stderr",
     "output_type": "stream",
     "text": [
      "100%|██████████| 19/19 [00:06<00:00,  2.84it/s]\n"
     ]
    },
    {
     "name": "stdout",
     "output_type": "stream",
     "text": [
      "INFO:tensorflow:Scale of 0 disables regularizer.\n",
      "INFO:tensorflow:Restoring parameters from /home/ivan/facenet/models/20180402-114759/model-20180402-114759.ckpt-275\n"
     ]
    },
    {
     "name": "stderr",
     "output_type": "stream",
     "text": [
      "100%|██████████| 19/19 [00:06<00:00,  2.81it/s]\n"
     ]
    },
    {
     "name": "stdout",
     "output_type": "stream",
     "text": [
      "INFO:tensorflow:Scale of 0 disables regularizer.\n",
      "INFO:tensorflow:Restoring parameters from /home/ivan/facenet/models/20180402-114759/model-20180402-114759.ckpt-275\n"
     ]
    },
    {
     "name": "stderr",
     "output_type": "stream",
     "text": [
      "100%|██████████| 19/19 [00:06<00:00,  2.80it/s]\n"
     ]
    },
    {
     "name": "stdout",
     "output_type": "stream",
     "text": [
      "INFO:tensorflow:Scale of 0 disables regularizer.\n",
      "INFO:tensorflow:Restoring parameters from /home/ivan/facenet/models/20180402-114759/model-20180402-114759.ckpt-275\n"
     ]
    },
    {
     "name": "stderr",
     "output_type": "stream",
     "text": [
      "100%|██████████| 19/19 [00:06<00:00,  2.77it/s]\n"
     ]
    },
    {
     "name": "stdout",
     "output_type": "stream",
     "text": [
      "INFO:tensorflow:Scale of 0 disables regularizer.\n",
      "INFO:tensorflow:Restoring parameters from /home/ivan/facenet/models/20180402-114759/model-20180402-114759.ckpt-275\n"
     ]
    },
    {
     "name": "stderr",
     "output_type": "stream",
     "text": [
      "100%|██████████| 19/19 [00:06<00:00,  2.79it/s]\n"
     ]
    },
    {
     "name": "stdout",
     "output_type": "stream",
     "text": [
      "INFO:tensorflow:Scale of 0 disables regularizer.\n",
      "INFO:tensorflow:Restoring parameters from /home/ivan/facenet/models/20180402-114759/model-20180402-114759.ckpt-275\n"
     ]
    },
    {
     "name": "stderr",
     "output_type": "stream",
     "text": [
      "100%|██████████| 19/19 [00:06<00:00,  2.80it/s]\n"
     ]
    },
    {
     "name": "stdout",
     "output_type": "stream",
     "text": [
      "INFO:tensorflow:Scale of 0 disables regularizer.\n",
      "INFO:tensorflow:Restoring parameters from /home/ivan/facenet/models/20180402-114759/model-20180402-114759.ckpt-275\n"
     ]
    },
    {
     "name": "stderr",
     "output_type": "stream",
     "text": [
      "100%|██████████| 19/19 [00:06<00:00,  2.74it/s]\n"
     ]
    },
    {
     "name": "stdout",
     "output_type": "stream",
     "text": [
      "INFO:tensorflow:Scale of 0 disables regularizer.\n",
      "INFO:tensorflow:Restoring parameters from /home/ivan/facenet/models/20180402-114759/model-20180402-114759.ckpt-275\n"
     ]
    },
    {
     "name": "stderr",
     "output_type": "stream",
     "text": [
      "100%|██████████| 19/19 [00:07<00:00,  2.65it/s]\n"
     ]
    },
    {
     "name": "stdout",
     "output_type": "stream",
     "text": [
      "INFO:tensorflow:Scale of 0 disables regularizer.\n",
      "INFO:tensorflow:Restoring parameters from /home/ivan/facenet/models/20180402-114759/model-20180402-114759.ckpt-275\n"
     ]
    },
    {
     "name": "stderr",
     "output_type": "stream",
     "text": [
      "100%|██████████| 19/19 [00:06<00:00,  2.72it/s]\n"
     ]
    },
    {
     "name": "stdout",
     "output_type": "stream",
     "text": [
      "INFO:tensorflow:Scale of 0 disables regularizer.\n",
      "INFO:tensorflow:Restoring parameters from /home/ivan/facenet/models/20180402-114759/model-20180402-114759.ckpt-275\n"
     ]
    },
    {
     "name": "stderr",
     "output_type": "stream",
     "text": [
      "100%|██████████| 19/19 [00:07<00:00,  2.56it/s]\n"
     ]
    },
    {
     "name": "stdout",
     "output_type": "stream",
     "text": [
      "INFO:tensorflow:Scale of 0 disables regularizer.\n",
      "INFO:tensorflow:Restoring parameters from /home/ivan/facenet/models/20180402-114759/model-20180402-114759.ckpt-275\n"
     ]
    },
    {
     "name": "stderr",
     "output_type": "stream",
     "text": [
      "100%|██████████| 19/19 [00:07<00:00,  2.63it/s]\n"
     ]
    },
    {
     "name": "stdout",
     "output_type": "stream",
     "text": [
      "INFO:tensorflow:Scale of 0 disables regularizer.\n",
      "INFO:tensorflow:Restoring parameters from /home/ivan/facenet/models/20180402-114759/model-20180402-114759.ckpt-275\n"
     ]
    },
    {
     "name": "stderr",
     "output_type": "stream",
     "text": [
      "100%|██████████| 19/19 [00:07<00:00,  2.43it/s]\n"
     ]
    },
    {
     "name": "stdout",
     "output_type": "stream",
     "text": [
      "INFO:tensorflow:Scale of 0 disables regularizer.\n",
      "INFO:tensorflow:Restoring parameters from /home/ivan/facenet/models/20180402-114759/model-20180402-114759.ckpt-275\n"
     ]
    },
    {
     "name": "stderr",
     "output_type": "stream",
     "text": [
      "100%|██████████| 19/19 [00:07<00:00,  2.59it/s]\n"
     ]
    },
    {
     "name": "stdout",
     "output_type": "stream",
     "text": [
      "INFO:tensorflow:Scale of 0 disables regularizer.\n",
      "INFO:tensorflow:Restoring parameters from /home/ivan/facenet/models/20180402-114759/model-20180402-114759.ckpt-275\n"
     ]
    },
    {
     "name": "stderr",
     "output_type": "stream",
     "text": [
      "100%|██████████| 19/19 [00:07<00:00,  2.57it/s]\n"
     ]
    },
    {
     "name": "stdout",
     "output_type": "stream",
     "text": [
      "INFO:tensorflow:Scale of 0 disables regularizer.\n",
      "INFO:tensorflow:Restoring parameters from /home/ivan/facenet/models/20180402-114759/model-20180402-114759.ckpt-275\n"
     ]
    },
    {
     "name": "stderr",
     "output_type": "stream",
     "text": [
      "100%|██████████| 19/19 [00:07<00:00,  2.62it/s]\n"
     ]
    },
    {
     "name": "stdout",
     "output_type": "stream",
     "text": [
      "INFO:tensorflow:Scale of 0 disables regularizer.\n",
      "INFO:tensorflow:Restoring parameters from /home/ivan/facenet/models/20180402-114759/model-20180402-114759.ckpt-275\n"
     ]
    },
    {
     "name": "stderr",
     "output_type": "stream",
     "text": [
      "100%|██████████| 19/19 [00:07<00:00,  2.65it/s]\n"
     ]
    },
    {
     "name": "stdout",
     "output_type": "stream",
     "text": [
      "INFO:tensorflow:Scale of 0 disables regularizer.\n",
      "INFO:tensorflow:Restoring parameters from /home/ivan/facenet/models/20180402-114759/model-20180402-114759.ckpt-275\n"
     ]
    },
    {
     "name": "stderr",
     "output_type": "stream",
     "text": [
      "100%|██████████| 19/19 [00:06<00:00,  2.77it/s]\n"
     ]
    },
    {
     "name": "stdout",
     "output_type": "stream",
     "text": [
      "INFO:tensorflow:Scale of 0 disables regularizer.\n",
      "INFO:tensorflow:Restoring parameters from /home/ivan/facenet/models/20180402-114759/model-20180402-114759.ckpt-275\n"
     ]
    },
    {
     "name": "stderr",
     "output_type": "stream",
     "text": [
      "100%|██████████| 19/19 [00:06<00:00,  2.77it/s]\n"
     ]
    },
    {
     "name": "stdout",
     "output_type": "stream",
     "text": [
      "INFO:tensorflow:Scale of 0 disables regularizer.\n",
      "INFO:tensorflow:Restoring parameters from /home/ivan/facenet/models/20180402-114759/model-20180402-114759.ckpt-275\n"
     ]
    },
    {
     "name": "stderr",
     "output_type": "stream",
     "text": [
      "100%|██████████| 19/19 [00:07<00:00,  2.65it/s]\n"
     ]
    },
    {
     "name": "stdout",
     "output_type": "stream",
     "text": [
      "INFO:tensorflow:Scale of 0 disables regularizer.\n",
      "INFO:tensorflow:Restoring parameters from /home/ivan/facenet/models/20180402-114759/model-20180402-114759.ckpt-275\n"
     ]
    },
    {
     "name": "stderr",
     "output_type": "stream",
     "text": [
      "100%|██████████| 19/19 [00:06<00:00,  2.74it/s]\n"
     ]
    },
    {
     "name": "stdout",
     "output_type": "stream",
     "text": [
      "INFO:tensorflow:Scale of 0 disables regularizer.\n",
      "INFO:tensorflow:Restoring parameters from /home/ivan/facenet/models/20180402-114759/model-20180402-114759.ckpt-275\n"
     ]
    },
    {
     "name": "stderr",
     "output_type": "stream",
     "text": [
      "100%|██████████| 19/19 [00:07<00:00,  2.55it/s]\n"
     ]
    },
    {
     "name": "stdout",
     "output_type": "stream",
     "text": [
      "INFO:tensorflow:Scale of 0 disables regularizer.\n",
      "INFO:tensorflow:Restoring parameters from /home/ivan/facenet/models/20180402-114759/model-20180402-114759.ckpt-275\n"
     ]
    },
    {
     "name": "stderr",
     "output_type": "stream",
     "text": [
      "100%|██████████| 19/19 [00:07<00:00,  2.71it/s]\n"
     ]
    },
    {
     "name": "stdout",
     "output_type": "stream",
     "text": [
      "INFO:tensorflow:Scale of 0 disables regularizer.\n",
      "INFO:tensorflow:Restoring parameters from /home/ivan/facenet/models/20180402-114759/model-20180402-114759.ckpt-275\n"
     ]
    },
    {
     "name": "stderr",
     "output_type": "stream",
     "text": [
      "100%|██████████| 19/19 [00:07<00:00,  2.48it/s]\n"
     ]
    },
    {
     "name": "stdout",
     "output_type": "stream",
     "text": [
      "INFO:tensorflow:Scale of 0 disables regularizer.\n",
      "INFO:tensorflow:Restoring parameters from /home/ivan/facenet/models/20180402-114759/model-20180402-114759.ckpt-275\n"
     ]
    },
    {
     "name": "stderr",
     "output_type": "stream",
     "text": [
      "100%|██████████| 19/19 [00:07<00:00,  2.59it/s]\n"
     ]
    },
    {
     "name": "stdout",
     "output_type": "stream",
     "text": [
      "INFO:tensorflow:Scale of 0 disables regularizer.\n",
      "INFO:tensorflow:Restoring parameters from /home/ivan/facenet/models/20180402-114759/model-20180402-114759.ckpt-275\n"
     ]
    },
    {
     "name": "stderr",
     "output_type": "stream",
     "text": [
      "100%|██████████| 19/19 [00:07<00:00,  2.60it/s]\n"
     ]
    },
    {
     "name": "stdout",
     "output_type": "stream",
     "text": [
      "INFO:tensorflow:Scale of 0 disables regularizer.\n",
      "INFO:tensorflow:Restoring parameters from /home/ivan/facenet/models/20180402-114759/model-20180402-114759.ckpt-275\n"
     ]
    },
    {
     "name": "stderr",
     "output_type": "stream",
     "text": [
      "100%|██████████| 19/19 [00:07<00:00,  2.66it/s]\n"
     ]
    },
    {
     "name": "stdout",
     "output_type": "stream",
     "text": [
      "INFO:tensorflow:Scale of 0 disables regularizer.\n",
      "INFO:tensorflow:Restoring parameters from /home/ivan/facenet/models/20180402-114759/model-20180402-114759.ckpt-275\n"
     ]
    },
    {
     "name": "stderr",
     "output_type": "stream",
     "text": [
      "100%|██████████| 19/19 [00:07<00:00,  2.44it/s]\n"
     ]
    },
    {
     "name": "stdout",
     "output_type": "stream",
     "text": [
      "INFO:tensorflow:Scale of 0 disables regularizer.\n",
      "INFO:tensorflow:Restoring parameters from /home/ivan/facenet/models/20180402-114759/model-20180402-114759.ckpt-275\n"
     ]
    },
    {
     "name": "stderr",
     "output_type": "stream",
     "text": [
      "100%|██████████| 19/19 [00:07<00:00,  2.50it/s]\n"
     ]
    },
    {
     "name": "stdout",
     "output_type": "stream",
     "text": [
      "INFO:tensorflow:Scale of 0 disables regularizer.\n",
      "INFO:tensorflow:Restoring parameters from /home/ivan/facenet/models/20180402-114759/model-20180402-114759.ckpt-275\n"
     ]
    },
    {
     "name": "stderr",
     "output_type": "stream",
     "text": [
      "100%|██████████| 19/19 [00:07<00:00,  2.57it/s]\n"
     ]
    },
    {
     "name": "stdout",
     "output_type": "stream",
     "text": [
      "INFO:tensorflow:Scale of 0 disables regularizer.\n",
      "INFO:tensorflow:Restoring parameters from /home/ivan/facenet/models/20180402-114759/model-20180402-114759.ckpt-275\n"
     ]
    },
    {
     "name": "stderr",
     "output_type": "stream",
     "text": [
      "100%|██████████| 19/19 [00:07<00:00,  2.67it/s]\n"
     ]
    },
    {
     "name": "stdout",
     "output_type": "stream",
     "text": [
      "INFO:tensorflow:Scale of 0 disables regularizer.\n",
      "INFO:tensorflow:Restoring parameters from /home/ivan/facenet/models/20180402-114759/model-20180402-114759.ckpt-275\n"
     ]
    },
    {
     "name": "stderr",
     "output_type": "stream",
     "text": [
      "100%|██████████| 19/19 [00:07<00:00,  2.69it/s]\n"
     ]
    },
    {
     "name": "stdout",
     "output_type": "stream",
     "text": [
      "INFO:tensorflow:Scale of 0 disables regularizer.\n",
      "INFO:tensorflow:Restoring parameters from /home/ivan/facenet/models/20180402-114759/model-20180402-114759.ckpt-275\n"
     ]
    },
    {
     "name": "stderr",
     "output_type": "stream",
     "text": [
      "100%|██████████| 19/19 [00:06<00:00,  2.77it/s]\n"
     ]
    },
    {
     "name": "stdout",
     "output_type": "stream",
     "text": [
      "INFO:tensorflow:Scale of 0 disables regularizer.\n",
      "INFO:tensorflow:Restoring parameters from /home/ivan/facenet/models/20180402-114759/model-20180402-114759.ckpt-275\n"
     ]
    },
    {
     "name": "stderr",
     "output_type": "stream",
     "text": [
      "100%|██████████| 19/19 [00:06<00:00,  2.73it/s]\n"
     ]
    },
    {
     "name": "stdout",
     "output_type": "stream",
     "text": [
      "INFO:tensorflow:Scale of 0 disables regularizer.\n",
      "INFO:tensorflow:Restoring parameters from /home/ivan/facenet/models/20180402-114759/model-20180402-114759.ckpt-275\n"
     ]
    },
    {
     "name": "stderr",
     "output_type": "stream",
     "text": [
      "100%|██████████| 19/19 [00:06<00:00,  2.72it/s]\n"
     ]
    },
    {
     "name": "stdout",
     "output_type": "stream",
     "text": [
      "INFO:tensorflow:Scale of 0 disables regularizer.\n",
      "INFO:tensorflow:Restoring parameters from /home/ivan/facenet/models/20180402-114759/model-20180402-114759.ckpt-275\n"
     ]
    },
    {
     "name": "stderr",
     "output_type": "stream",
     "text": [
      "100%|██████████| 19/19 [00:07<00:00,  2.67it/s]\n"
     ]
    },
    {
     "name": "stdout",
     "output_type": "stream",
     "text": [
      "INFO:tensorflow:Scale of 0 disables regularizer.\n",
      "INFO:tensorflow:Restoring parameters from /home/ivan/facenet/models/20180402-114759/model-20180402-114759.ckpt-275\n"
     ]
    },
    {
     "name": "stderr",
     "output_type": "stream",
     "text": [
      "100%|██████████| 19/19 [00:07<00:00,  2.67it/s]\n"
     ]
    },
    {
     "name": "stdout",
     "output_type": "stream",
     "text": [
      "INFO:tensorflow:Scale of 0 disables regularizer.\n",
      "INFO:tensorflow:Restoring parameters from /home/ivan/facenet/models/20180402-114759/model-20180402-114759.ckpt-275\n"
     ]
    },
    {
     "name": "stderr",
     "output_type": "stream",
     "text": [
      "100%|██████████| 19/19 [00:07<00:00,  2.70it/s]\n"
     ]
    },
    {
     "name": "stdout",
     "output_type": "stream",
     "text": [
      "INFO:tensorflow:Scale of 0 disables regularizer.\n",
      "INFO:tensorflow:Restoring parameters from /home/ivan/facenet/models/20180402-114759/model-20180402-114759.ckpt-275\n"
     ]
    },
    {
     "name": "stderr",
     "output_type": "stream",
     "text": [
      "100%|██████████| 19/19 [00:07<00:00,  2.46it/s]\n"
     ]
    },
    {
     "name": "stdout",
     "output_type": "stream",
     "text": [
      "INFO:tensorflow:Scale of 0 disables regularizer.\n",
      "INFO:tensorflow:Restoring parameters from /home/ivan/facenet/models/20180402-114759/model-20180402-114759.ckpt-275\n"
     ]
    },
    {
     "name": "stderr",
     "output_type": "stream",
     "text": [
      "100%|██████████| 19/19 [00:07<00:00,  2.57it/s]\n"
     ]
    },
    {
     "name": "stdout",
     "output_type": "stream",
     "text": [
      "INFO:tensorflow:Scale of 0 disables regularizer.\n",
      "INFO:tensorflow:Restoring parameters from /home/ivan/facenet/models/20180402-114759/model-20180402-114759.ckpt-275\n"
     ]
    },
    {
     "name": "stderr",
     "output_type": "stream",
     "text": [
      "100%|██████████| 19/19 [00:07<00:00,  2.39it/s]\n"
     ]
    },
    {
     "name": "stdout",
     "output_type": "stream",
     "text": [
      "INFO:tensorflow:Scale of 0 disables regularizer.\n",
      "INFO:tensorflow:Restoring parameters from /home/ivan/facenet/models/20180402-114759/model-20180402-114759.ckpt-275\n"
     ]
    },
    {
     "name": "stderr",
     "output_type": "stream",
     "text": [
      "100%|██████████| 19/19 [00:07<00:00,  2.67it/s]\n"
     ]
    },
    {
     "name": "stdout",
     "output_type": "stream",
     "text": [
      "INFO:tensorflow:Scale of 0 disables regularizer.\n",
      "INFO:tensorflow:Restoring parameters from /home/ivan/facenet/models/20180402-114759/model-20180402-114759.ckpt-275\n"
     ]
    },
    {
     "name": "stderr",
     "output_type": "stream",
     "text": [
      "100%|██████████| 19/19 [00:06<00:00,  2.72it/s]\n"
     ]
    },
    {
     "name": "stdout",
     "output_type": "stream",
     "text": [
      "INFO:tensorflow:Scale of 0 disables regularizer.\n",
      "INFO:tensorflow:Restoring parameters from /home/ivan/facenet/models/20180402-114759/model-20180402-114759.ckpt-275\n"
     ]
    },
    {
     "name": "stderr",
     "output_type": "stream",
     "text": [
      "100%|██████████| 19/19 [00:07<00:00,  2.60it/s]\n"
     ]
    },
    {
     "name": "stdout",
     "output_type": "stream",
     "text": [
      "INFO:tensorflow:Scale of 0 disables regularizer.\n",
      "INFO:tensorflow:Restoring parameters from /home/ivan/facenet/models/20180402-114759/model-20180402-114759.ckpt-275\n"
     ]
    },
    {
     "name": "stderr",
     "output_type": "stream",
     "text": [
      "100%|██████████| 19/19 [00:07<00:00,  2.45it/s]\n"
     ]
    },
    {
     "name": "stdout",
     "output_type": "stream",
     "text": [
      "INFO:tensorflow:Scale of 0 disables regularizer.\n",
      "INFO:tensorflow:Restoring parameters from /home/ivan/facenet/models/20180402-114759/model-20180402-114759.ckpt-275\n"
     ]
    },
    {
     "name": "stderr",
     "output_type": "stream",
     "text": [
      "100%|██████████| 19/19 [00:07<00:00,  2.43it/s]\n"
     ]
    },
    {
     "name": "stdout",
     "output_type": "stream",
     "text": [
      "INFO:tensorflow:Scale of 0 disables regularizer.\n",
      "INFO:tensorflow:Restoring parameters from /home/ivan/facenet/models/20180402-114759/model-20180402-114759.ckpt-275\n"
     ]
    },
    {
     "name": "stderr",
     "output_type": "stream",
     "text": [
      "100%|██████████| 19/19 [00:07<00:00,  2.59it/s]\n"
     ]
    },
    {
     "name": "stdout",
     "output_type": "stream",
     "text": [
      "INFO:tensorflow:Scale of 0 disables regularizer.\n",
      "INFO:tensorflow:Restoring parameters from /home/ivan/facenet/models/20180402-114759/model-20180402-114759.ckpt-275\n"
     ]
    },
    {
     "name": "stderr",
     "output_type": "stream",
     "text": [
      "100%|██████████| 19/19 [00:07<00:00,  2.62it/s]\n"
     ]
    },
    {
     "name": "stdout",
     "output_type": "stream",
     "text": [
      "INFO:tensorflow:Scale of 0 disables regularizer.\n",
      "INFO:tensorflow:Restoring parameters from /home/ivan/facenet/models/20180402-114759/model-20180402-114759.ckpt-275\n"
     ]
    },
    {
     "name": "stderr",
     "output_type": "stream",
     "text": [
      "100%|██████████| 19/19 [00:07<00:00,  2.54it/s]\n"
     ]
    },
    {
     "name": "stdout",
     "output_type": "stream",
     "text": [
      "INFO:tensorflow:Scale of 0 disables regularizer.\n",
      "INFO:tensorflow:Restoring parameters from /home/ivan/facenet/models/20180402-114759/model-20180402-114759.ckpt-275\n"
     ]
    },
    {
     "name": "stderr",
     "output_type": "stream",
     "text": [
      "100%|██████████| 19/19 [00:07<00:00,  2.58it/s]\n"
     ]
    },
    {
     "name": "stdout",
     "output_type": "stream",
     "text": [
      "INFO:tensorflow:Scale of 0 disables regularizer.\n",
      "INFO:tensorflow:Restoring parameters from /home/ivan/facenet/models/20180402-114759/model-20180402-114759.ckpt-275\n"
     ]
    },
    {
     "name": "stderr",
     "output_type": "stream",
     "text": [
      "100%|██████████| 19/19 [00:07<00:00,  2.56it/s]\n"
     ]
    },
    {
     "name": "stdout",
     "output_type": "stream",
     "text": [
      "INFO:tensorflow:Scale of 0 disables regularizer.\n",
      "INFO:tensorflow:Restoring parameters from /home/ivan/facenet/models/20180402-114759/model-20180402-114759.ckpt-275\n"
     ]
    },
    {
     "name": "stderr",
     "output_type": "stream",
     "text": [
      "100%|██████████| 19/19 [00:06<00:00,  2.76it/s]\n"
     ]
    },
    {
     "name": "stdout",
     "output_type": "stream",
     "text": [
      "INFO:tensorflow:Scale of 0 disables regularizer.\n",
      "INFO:tensorflow:Restoring parameters from /home/ivan/facenet/models/20180402-114759/model-20180402-114759.ckpt-275\n"
     ]
    },
    {
     "name": "stderr",
     "output_type": "stream",
     "text": [
      "100%|██████████| 19/19 [00:07<00:00,  2.56it/s]\n"
     ]
    },
    {
     "name": "stdout",
     "output_type": "stream",
     "text": [
      "INFO:tensorflow:Scale of 0 disables regularizer.\n",
      "INFO:tensorflow:Restoring parameters from /home/ivan/facenet/models/20180402-114759/model-20180402-114759.ckpt-275\n"
     ]
    },
    {
     "name": "stderr",
     "output_type": "stream",
     "text": [
      "100%|██████████| 19/19 [00:07<00:00,  2.63it/s]\n"
     ]
    },
    {
     "name": "stdout",
     "output_type": "stream",
     "text": [
      "INFO:tensorflow:Scale of 0 disables regularizer.\n",
      "INFO:tensorflow:Restoring parameters from /home/ivan/facenet/models/20180402-114759/model-20180402-114759.ckpt-275\n"
     ]
    },
    {
     "name": "stderr",
     "output_type": "stream",
     "text": [
      "100%|██████████| 19/19 [00:07<00:00,  2.42it/s]\n"
     ]
    },
    {
     "name": "stdout",
     "output_type": "stream",
     "text": [
      "INFO:tensorflow:Scale of 0 disables regularizer.\n",
      "INFO:tensorflow:Restoring parameters from /home/ivan/facenet/models/20180402-114759/model-20180402-114759.ckpt-275\n"
     ]
    },
    {
     "name": "stderr",
     "output_type": "stream",
     "text": [
      "100%|██████████| 19/19 [00:08<00:00,  2.35it/s]\n"
     ]
    },
    {
     "name": "stdout",
     "output_type": "stream",
     "text": [
      "INFO:tensorflow:Scale of 0 disables regularizer.\n",
      "INFO:tensorflow:Restoring parameters from /home/ivan/facenet/models/20180402-114759/model-20180402-114759.ckpt-275\n"
     ]
    },
    {
     "name": "stderr",
     "output_type": "stream",
     "text": [
      "100%|██████████| 19/19 [00:08<00:00,  2.32it/s]\n"
     ]
    },
    {
     "name": "stdout",
     "output_type": "stream",
     "text": [
      "INFO:tensorflow:Scale of 0 disables regularizer.\n",
      "INFO:tensorflow:Restoring parameters from /home/ivan/facenet/models/20180402-114759/model-20180402-114759.ckpt-275\n"
     ]
    },
    {
     "name": "stderr",
     "output_type": "stream",
     "text": [
      "100%|██████████| 19/19 [00:08<00:00,  2.24it/s]\n"
     ]
    },
    {
     "name": "stdout",
     "output_type": "stream",
     "text": [
      "INFO:tensorflow:Scale of 0 disables regularizer.\n",
      "INFO:tensorflow:Restoring parameters from /home/ivan/facenet/models/20180402-114759/model-20180402-114759.ckpt-275\n"
     ]
    },
    {
     "name": "stderr",
     "output_type": "stream",
     "text": [
      "100%|██████████| 19/19 [00:08<00:00,  2.23it/s]\n"
     ]
    },
    {
     "name": "stdout",
     "output_type": "stream",
     "text": [
      "INFO:tensorflow:Scale of 0 disables regularizer.\n",
      "INFO:tensorflow:Restoring parameters from /home/ivan/facenet/models/20180402-114759/model-20180402-114759.ckpt-275\n"
     ]
    },
    {
     "name": "stderr",
     "output_type": "stream",
     "text": [
      "100%|██████████| 19/19 [00:07<00:00,  2.47it/s]\n"
     ]
    },
    {
     "name": "stdout",
     "output_type": "stream",
     "text": [
      "INFO:tensorflow:Scale of 0 disables regularizer.\n",
      "INFO:tensorflow:Restoring parameters from /home/ivan/facenet/models/20180402-114759/model-20180402-114759.ckpt-275\n"
     ]
    },
    {
     "name": "stderr",
     "output_type": "stream",
     "text": [
      "100%|██████████| 19/19 [00:07<00:00,  2.55it/s]\n"
     ]
    },
    {
     "name": "stdout",
     "output_type": "stream",
     "text": [
      "INFO:tensorflow:Scale of 0 disables regularizer.\n",
      "INFO:tensorflow:Restoring parameters from /home/ivan/facenet/models/20180402-114759/model-20180402-114759.ckpt-275\n"
     ]
    },
    {
     "name": "stderr",
     "output_type": "stream",
     "text": [
      "100%|██████████| 19/19 [00:07<00:00,  2.47it/s]\n"
     ]
    },
    {
     "name": "stdout",
     "output_type": "stream",
     "text": [
      "INFO:tensorflow:Scale of 0 disables regularizer.\n",
      "INFO:tensorflow:Restoring parameters from /home/ivan/facenet/models/20180402-114759/model-20180402-114759.ckpt-275\n"
     ]
    },
    {
     "name": "stderr",
     "output_type": "stream",
     "text": [
      "100%|██████████| 19/19 [00:07<00:00,  2.56it/s]\n"
     ]
    },
    {
     "name": "stdout",
     "output_type": "stream",
     "text": [
      "INFO:tensorflow:Scale of 0 disables regularizer.\n",
      "INFO:tensorflow:Restoring parameters from /home/ivan/facenet/models/20180402-114759/model-20180402-114759.ckpt-275\n"
     ]
    },
    {
     "name": "stderr",
     "output_type": "stream",
     "text": [
      "100%|██████████| 19/19 [00:07<00:00,  2.47it/s]\n"
     ]
    },
    {
     "name": "stdout",
     "output_type": "stream",
     "text": [
      "INFO:tensorflow:Scale of 0 disables regularizer.\n",
      "INFO:tensorflow:Restoring parameters from /home/ivan/facenet/models/20180408-102900/model-20180408-102900.ckpt-90\n"
     ]
    },
    {
     "name": "stderr",
     "output_type": "stream",
     "text": [
      "100%|██████████| 19/19 [00:03<00:00,  5.30it/s]\n"
     ]
    },
    {
     "name": "stdout",
     "output_type": "stream",
     "text": [
      "INFO:tensorflow:Scale of 0 disables regularizer.\n",
      "INFO:tensorflow:Restoring parameters from /home/ivan/facenet/models/20180408-102900/model-20180408-102900.ckpt-90\n"
     ]
    },
    {
     "name": "stderr",
     "output_type": "stream",
     "text": [
      "100%|██████████| 19/19 [00:03<00:00,  5.16it/s]\n"
     ]
    },
    {
     "name": "stdout",
     "output_type": "stream",
     "text": [
      "INFO:tensorflow:Scale of 0 disables regularizer.\n",
      "INFO:tensorflow:Restoring parameters from /home/ivan/facenet/models/20180408-102900/model-20180408-102900.ckpt-90\n"
     ]
    },
    {
     "name": "stderr",
     "output_type": "stream",
     "text": [
      "100%|██████████| 19/19 [00:03<00:00,  5.92it/s]\n"
     ]
    },
    {
     "name": "stdout",
     "output_type": "stream",
     "text": [
      "INFO:tensorflow:Scale of 0 disables regularizer.\n",
      "INFO:tensorflow:Restoring parameters from /home/ivan/facenet/models/20180408-102900/model-20180408-102900.ckpt-90\n"
     ]
    },
    {
     "name": "stderr",
     "output_type": "stream",
     "text": [
      "100%|██████████| 19/19 [00:03<00:00,  6.07it/s]\n"
     ]
    },
    {
     "name": "stdout",
     "output_type": "stream",
     "text": [
      "INFO:tensorflow:Scale of 0 disables regularizer.\n",
      "INFO:tensorflow:Restoring parameters from /home/ivan/facenet/models/20180408-102900/model-20180408-102900.ckpt-90\n"
     ]
    },
    {
     "name": "stderr",
     "output_type": "stream",
     "text": [
      "100%|██████████| 19/19 [00:03<00:00,  5.53it/s]\n"
     ]
    },
    {
     "name": "stdout",
     "output_type": "stream",
     "text": [
      "INFO:tensorflow:Scale of 0 disables regularizer.\n",
      "INFO:tensorflow:Restoring parameters from /home/ivan/facenet/models/20180408-102900/model-20180408-102900.ckpt-90\n"
     ]
    },
    {
     "name": "stderr",
     "output_type": "stream",
     "text": [
      "100%|██████████| 19/19 [00:03<00:00,  4.86it/s]\n"
     ]
    },
    {
     "name": "stdout",
     "output_type": "stream",
     "text": [
      "INFO:tensorflow:Scale of 0 disables regularizer.\n",
      "INFO:tensorflow:Restoring parameters from /home/ivan/facenet/models/20180408-102900/model-20180408-102900.ckpt-90\n"
     ]
    },
    {
     "name": "stderr",
     "output_type": "stream",
     "text": [
      "100%|██████████| 19/19 [00:03<00:00,  5.59it/s]\n"
     ]
    },
    {
     "name": "stdout",
     "output_type": "stream",
     "text": [
      "INFO:tensorflow:Scale of 0 disables regularizer.\n",
      "INFO:tensorflow:Restoring parameters from /home/ivan/facenet/models/20180408-102900/model-20180408-102900.ckpt-90\n"
     ]
    },
    {
     "name": "stderr",
     "output_type": "stream",
     "text": [
      "100%|██████████| 19/19 [00:03<00:00,  6.12it/s]\n"
     ]
    },
    {
     "name": "stdout",
     "output_type": "stream",
     "text": [
      "INFO:tensorflow:Scale of 0 disables regularizer.\n",
      "INFO:tensorflow:Restoring parameters from /home/ivan/facenet/models/20180408-102900/model-20180408-102900.ckpt-90\n"
     ]
    },
    {
     "name": "stderr",
     "output_type": "stream",
     "text": [
      "100%|██████████| 19/19 [00:02<00:00,  6.45it/s]\n"
     ]
    },
    {
     "name": "stdout",
     "output_type": "stream",
     "text": [
      "INFO:tensorflow:Scale of 0 disables regularizer.\n",
      "INFO:tensorflow:Restoring parameters from /home/ivan/facenet/models/20180408-102900/model-20180408-102900.ckpt-90\n"
     ]
    },
    {
     "name": "stderr",
     "output_type": "stream",
     "text": [
      "100%|██████████| 19/19 [00:03<00:00,  6.27it/s]\n"
     ]
    },
    {
     "name": "stdout",
     "output_type": "stream",
     "text": [
      "INFO:tensorflow:Scale of 0 disables regularizer.\n",
      "INFO:tensorflow:Restoring parameters from /home/ivan/facenet/models/20180408-102900/model-20180408-102900.ckpt-90\n"
     ]
    },
    {
     "name": "stderr",
     "output_type": "stream",
     "text": [
      "100%|██████████| 19/19 [00:06<00:00,  2.74it/s]\n"
     ]
    },
    {
     "name": "stdout",
     "output_type": "stream",
     "text": [
      "INFO:tensorflow:Scale of 0 disables regularizer.\n",
      "INFO:tensorflow:Restoring parameters from /home/ivan/facenet/models/20180408-102900/model-20180408-102900.ckpt-90\n"
     ]
    },
    {
     "name": "stderr",
     "output_type": "stream",
     "text": [
      "100%|██████████| 19/19 [00:07<00:00,  2.66it/s]\n"
     ]
    },
    {
     "name": "stdout",
     "output_type": "stream",
     "text": [
      "INFO:tensorflow:Scale of 0 disables regularizer.\n",
      "INFO:tensorflow:Restoring parameters from /home/ivan/facenet/models/20180408-102900/model-20180408-102900.ckpt-90\n"
     ]
    },
    {
     "name": "stderr",
     "output_type": "stream",
     "text": [
      "100%|██████████| 19/19 [00:07<00:00,  2.56it/s]\n"
     ]
    },
    {
     "name": "stdout",
     "output_type": "stream",
     "text": [
      "INFO:tensorflow:Scale of 0 disables regularizer.\n",
      "INFO:tensorflow:Restoring parameters from /home/ivan/facenet/models/20180408-102900/model-20180408-102900.ckpt-90\n"
     ]
    },
    {
     "name": "stderr",
     "output_type": "stream",
     "text": [
      "100%|██████████| 19/19 [00:06<00:00,  2.72it/s]\n"
     ]
    },
    {
     "name": "stdout",
     "output_type": "stream",
     "text": [
      "INFO:tensorflow:Scale of 0 disables regularizer.\n",
      "INFO:tensorflow:Restoring parameters from /home/ivan/facenet/models/20180408-102900/model-20180408-102900.ckpt-90\n"
     ]
    },
    {
     "name": "stderr",
     "output_type": "stream",
     "text": [
      "100%|██████████| 19/19 [00:06<00:00,  2.75it/s]\n"
     ]
    },
    {
     "name": "stdout",
     "output_type": "stream",
     "text": [
      "INFO:tensorflow:Scale of 0 disables regularizer.\n",
      "INFO:tensorflow:Restoring parameters from /home/ivan/facenet/models/20180408-102900/model-20180408-102900.ckpt-90\n"
     ]
    },
    {
     "name": "stderr",
     "output_type": "stream",
     "text": [
      "100%|██████████| 19/19 [00:07<00:00,  2.68it/s]\n"
     ]
    },
    {
     "name": "stdout",
     "output_type": "stream",
     "text": [
      "INFO:tensorflow:Scale of 0 disables regularizer.\n",
      "INFO:tensorflow:Restoring parameters from /home/ivan/facenet/models/20180408-102900/model-20180408-102900.ckpt-90\n"
     ]
    },
    {
     "name": "stderr",
     "output_type": "stream",
     "text": [
      "100%|██████████| 19/19 [00:07<00:00,  2.52it/s]\n"
     ]
    },
    {
     "name": "stdout",
     "output_type": "stream",
     "text": [
      "INFO:tensorflow:Scale of 0 disables regularizer.\n",
      "INFO:tensorflow:Restoring parameters from /home/ivan/facenet/models/20180408-102900/model-20180408-102900.ckpt-90\n"
     ]
    },
    {
     "name": "stderr",
     "output_type": "stream",
     "text": [
      "100%|██████████| 19/19 [00:07<00:00,  2.56it/s]\n"
     ]
    },
    {
     "name": "stdout",
     "output_type": "stream",
     "text": [
      "INFO:tensorflow:Scale of 0 disables regularizer.\n",
      "INFO:tensorflow:Restoring parameters from /home/ivan/facenet/models/20180408-102900/model-20180408-102900.ckpt-90\n"
     ]
    },
    {
     "name": "stderr",
     "output_type": "stream",
     "text": [
      "100%|██████████| 19/19 [00:07<00:00,  2.42it/s]\n"
     ]
    },
    {
     "name": "stdout",
     "output_type": "stream",
     "text": [
      "INFO:tensorflow:Scale of 0 disables regularizer.\n",
      "INFO:tensorflow:Restoring parameters from /home/ivan/facenet/models/20180408-102900/model-20180408-102900.ckpt-90\n"
     ]
    },
    {
     "name": "stderr",
     "output_type": "stream",
     "text": [
      "100%|██████████| 19/19 [00:08<00:00,  2.32it/s]\n"
     ]
    },
    {
     "name": "stdout",
     "output_type": "stream",
     "text": [
      "INFO:tensorflow:Scale of 0 disables regularizer.\n",
      "INFO:tensorflow:Restoring parameters from /home/ivan/facenet/models/20180408-102900/model-20180408-102900.ckpt-90\n"
     ]
    },
    {
     "name": "stderr",
     "output_type": "stream",
     "text": [
      "100%|██████████| 19/19 [00:08<00:00,  2.24it/s]\n"
     ]
    },
    {
     "name": "stdout",
     "output_type": "stream",
     "text": [
      "INFO:tensorflow:Scale of 0 disables regularizer.\n",
      "INFO:tensorflow:Restoring parameters from /home/ivan/facenet/models/20180408-102900/model-20180408-102900.ckpt-90\n"
     ]
    },
    {
     "name": "stderr",
     "output_type": "stream",
     "text": [
      "100%|██████████| 19/19 [00:08<00:00,  2.35it/s]\n"
     ]
    },
    {
     "name": "stdout",
     "output_type": "stream",
     "text": [
      "INFO:tensorflow:Scale of 0 disables regularizer.\n",
      "INFO:tensorflow:Restoring parameters from /home/ivan/facenet/models/20180408-102900/model-20180408-102900.ckpt-90\n"
     ]
    },
    {
     "name": "stderr",
     "output_type": "stream",
     "text": [
      "100%|██████████| 19/19 [00:08<00:00,  2.31it/s]\n"
     ]
    },
    {
     "name": "stdout",
     "output_type": "stream",
     "text": [
      "INFO:tensorflow:Scale of 0 disables regularizer.\n",
      "INFO:tensorflow:Restoring parameters from /home/ivan/facenet/models/20180408-102900/model-20180408-102900.ckpt-90\n"
     ]
    },
    {
     "name": "stderr",
     "output_type": "stream",
     "text": [
      "100%|██████████| 19/19 [00:08<00:00,  2.33it/s]\n"
     ]
    },
    {
     "name": "stdout",
     "output_type": "stream",
     "text": [
      "INFO:tensorflow:Scale of 0 disables regularizer.\n",
      "INFO:tensorflow:Restoring parameters from /home/ivan/facenet/models/20180408-102900/model-20180408-102900.ckpt-90\n"
     ]
    },
    {
     "name": "stderr",
     "output_type": "stream",
     "text": [
      "100%|██████████| 19/19 [00:07<00:00,  2.57it/s]\n"
     ]
    },
    {
     "name": "stdout",
     "output_type": "stream",
     "text": [
      "INFO:tensorflow:Scale of 0 disables regularizer.\n",
      "INFO:tensorflow:Restoring parameters from /home/ivan/facenet/models/20180408-102900/model-20180408-102900.ckpt-90\n"
     ]
    },
    {
     "name": "stderr",
     "output_type": "stream",
     "text": [
      "100%|██████████| 19/19 [00:07<00:00,  2.58it/s]\n"
     ]
    },
    {
     "name": "stdout",
     "output_type": "stream",
     "text": [
      "INFO:tensorflow:Scale of 0 disables regularizer.\n",
      "INFO:tensorflow:Restoring parameters from /home/ivan/facenet/models/20180408-102900/model-20180408-102900.ckpt-90\n"
     ]
    },
    {
     "name": "stderr",
     "output_type": "stream",
     "text": [
      "100%|██████████| 19/19 [00:07<00:00,  2.63it/s]\n"
     ]
    },
    {
     "name": "stdout",
     "output_type": "stream",
     "text": [
      "INFO:tensorflow:Scale of 0 disables regularizer.\n",
      "INFO:tensorflow:Restoring parameters from /home/ivan/facenet/models/20180408-102900/model-20180408-102900.ckpt-90\n"
     ]
    },
    {
     "name": "stderr",
     "output_type": "stream",
     "text": [
      "100%|██████████| 19/19 [00:07<00:00,  2.57it/s]\n"
     ]
    },
    {
     "name": "stdout",
     "output_type": "stream",
     "text": [
      "INFO:tensorflow:Scale of 0 disables regularizer.\n",
      "INFO:tensorflow:Restoring parameters from /home/ivan/facenet/models/20180408-102900/model-20180408-102900.ckpt-90\n"
     ]
    },
    {
     "name": "stderr",
     "output_type": "stream",
     "text": [
      "100%|██████████| 19/19 [00:07<00:00,  2.63it/s]\n"
     ]
    },
    {
     "name": "stdout",
     "output_type": "stream",
     "text": [
      "INFO:tensorflow:Scale of 0 disables regularizer.\n",
      "INFO:tensorflow:Restoring parameters from /home/ivan/facenet/models/20180408-102900/model-20180408-102900.ckpt-90\n"
     ]
    },
    {
     "name": "stderr",
     "output_type": "stream",
     "text": [
      "100%|██████████| 19/19 [00:07<00:00,  2.62it/s]\n"
     ]
    },
    {
     "name": "stdout",
     "output_type": "stream",
     "text": [
      "INFO:tensorflow:Scale of 0 disables regularizer.\n",
      "INFO:tensorflow:Restoring parameters from /home/ivan/facenet/models/20180408-102900/model-20180408-102900.ckpt-90\n"
     ]
    },
    {
     "name": "stderr",
     "output_type": "stream",
     "text": [
      "100%|██████████| 19/19 [00:07<00:00,  2.56it/s]\n"
     ]
    },
    {
     "name": "stdout",
     "output_type": "stream",
     "text": [
      "INFO:tensorflow:Scale of 0 disables regularizer.\n",
      "INFO:tensorflow:Restoring parameters from /home/ivan/facenet/models/20180408-102900/model-20180408-102900.ckpt-90\n"
     ]
    },
    {
     "name": "stderr",
     "output_type": "stream",
     "text": [
      "100%|██████████| 19/19 [00:07<00:00,  2.61it/s]\n"
     ]
    },
    {
     "name": "stdout",
     "output_type": "stream",
     "text": [
      "INFO:tensorflow:Scale of 0 disables regularizer.\n",
      "INFO:tensorflow:Restoring parameters from /home/ivan/facenet/models/20180408-102900/model-20180408-102900.ckpt-90\n"
     ]
    },
    {
     "name": "stderr",
     "output_type": "stream",
     "text": [
      "100%|██████████| 19/19 [00:07<00:00,  2.67it/s]\n"
     ]
    },
    {
     "name": "stdout",
     "output_type": "stream",
     "text": [
      "INFO:tensorflow:Scale of 0 disables regularizer.\n",
      "INFO:tensorflow:Restoring parameters from /home/ivan/facenet/models/20180408-102900/model-20180408-102900.ckpt-90\n"
     ]
    },
    {
     "name": "stderr",
     "output_type": "stream",
     "text": [
      "100%|██████████| 19/19 [00:07<00:00,  2.61it/s]\n"
     ]
    },
    {
     "name": "stdout",
     "output_type": "stream",
     "text": [
      "INFO:tensorflow:Scale of 0 disables regularizer.\n",
      "INFO:tensorflow:Restoring parameters from /home/ivan/facenet/models/20180408-102900/model-20180408-102900.ckpt-90\n"
     ]
    },
    {
     "name": "stderr",
     "output_type": "stream",
     "text": [
      "100%|██████████| 19/19 [00:07<00:00,  2.66it/s]\n"
     ]
    },
    {
     "name": "stdout",
     "output_type": "stream",
     "text": [
      "INFO:tensorflow:Scale of 0 disables regularizer.\n",
      "INFO:tensorflow:Restoring parameters from /home/ivan/facenet/models/20180408-102900/model-20180408-102900.ckpt-90\n"
     ]
    },
    {
     "name": "stderr",
     "output_type": "stream",
     "text": [
      "100%|██████████| 19/19 [00:07<00:00,  2.63it/s]\n"
     ]
    }
   ],
   "source": [
    "for attack_name in [\"mean_casia-webface\", \"mean_vggface2\", \"mean_Conv2d_4b_3x3_vggface2\", \"ensemble_casia-webface\"]:\n",
    "    for k in [5, 10]:\n",
    "        for network_to_evaluate in [\"vggface2\", \"casia-webface\"]:\n",
    "            generate_results_csv(\n",
    "                network_to_evaluate=network_to_evaluate,\n",
    "                attack_name=attack_name,\n",
    "                k=k\n",
    "            )"
   ]
  },
  {
   "cell_type": "code",
   "execution_count": 15,
   "metadata": {},
   "outputs": [
    {
     "name": "stdout",
     "output_type": "stream",
     "text": [
      "INFO:tensorflow:Scale of 0 disables regularizer.\n",
      "INFO:tensorflow:Restoring parameters from /home/ivan/facenet/models/20180402-114759/model-20180402-114759.ckpt-275\n"
     ]
    },
    {
     "name": "stderr",
     "output_type": "stream",
     "text": [
      "100%|██████████| 19/19 [00:07<00:00,  2.38it/s]\n"
     ]
    },
    {
     "name": "stdout",
     "output_type": "stream",
     "text": [
      "Closest 5 images to /data/vggface/test_query_antisampled/n001781/0049_01.jpg are /data/vggface/test_perturbed_sampled/n005303/mean_vggface2/n001781/epsilon_0.5/png/22.png\n",
      "/data/vggface/test_perturbed_sampled/n003356/mean_vggface2/n001781/epsilon_0.5/png/27.png\n",
      "/data/vggface/test_perturbed_sampled/n009232/mean_vggface2/n001781/epsilon_0.5/png/27.png\n",
      "/data/vggface/test_perturbed_sampled/n008655/mean_vggface2/n001781/epsilon_0.5/png/27.png\n",
      "/data/vggface/test_perturbed_sampled/n005427/mean_vggface2/n001781/epsilon_0.5/png/27.png\n",
      "\n",
      "Closest 5 images to /data/vggface/test_query_antisampled/n001781/0205_02.jpg are /data/vggface/test_perturbed_sampled/n007548/mean_vggface2/n001781/epsilon_0.5/png/22.png\n",
      "/data/vggface/test_perturbed_sampled/n003356/mean_vggface2/n001781/epsilon_0.5/png/27.png\n",
      "/data/vggface/test_perturbed_sampled/n008655/mean_vggface2/n001781/epsilon_0.5/png/27.png\n",
      "/data/vggface/test_perturbed_sampled/n009232/mean_vggface2/n001781/epsilon_0.5/png/22.png\n",
      "/data/vggface/test_perturbed_sampled/n002647/mean_vggface2/n001781/epsilon_0.5/png/22.png\n",
      "\n",
      "Closest 5 images to /data/vggface/test_query_antisampled/n001781/0273_02.jpg are /data/vggface/test_perturbed_sampled/n000029/mean_vggface2/n001781/epsilon_0.5/png/27.png\n",
      "/data/vggface/test_perturbed_sampled/n008655/mean_vggface2/n001781/epsilon_0.5/png/22.png\n",
      "/data/vggface/test_perturbed_sampled/n007548/mean_vggface2/n001781/epsilon_0.5/png/22.png\n",
      "/data/vggface/test_perturbed_sampled/n002763/mean_vggface2/n001781/epsilon_0.5/png/22.png\n",
      "/data/vggface/test_perturbed_sampled/n002763/mean_vggface2/n001781/epsilon_0.5/png/27.png\n",
      "\n",
      "Closest 5 images to /data/vggface/test_query_antisampled/n001781/0093_01.jpg are /data/vggface/test_perturbed_sampled/n000029/mean_vggface2/n001781/epsilon_0.5/png/22.png\n",
      "/data/vggface/test_perturbed_sampled/n005427/mean_vggface2/n001781/epsilon_0.5/png/22.png\n",
      "/data/vggface/test_perturbed_sampled/n000958/mean_vggface2/n001781/epsilon_0.5/png/22.png\n",
      "/data/vggface/test_perturbed_sampled/n003356/mean_vggface2/n001781/epsilon_0.5/png/22.png\n",
      "/data/vggface/test_perturbed_sampled/n009232/mean_vggface2/n001781/epsilon_0.5/png/22.png\n",
      "\n",
      "Closest 5 images to /data/vggface/test_query_antisampled/n001781/0244_01.jpg are /data/vggface/test_perturbed_sampled/n008655/mean_vggface2/n007548/epsilon_0.5/png/6.png\n",
      "/data/vggface/test_perturbed_sampled/n005303/mean_vggface2/n003215/epsilon_0.5/png/20.png\n",
      "/data/vggface/test_perturbed_sampled/n004658/mean_vggface2/n007548/epsilon_0.5/png/7.png\n",
      "/data/vggface/test_perturbed_sampled/n008655/mean_vggface2/n007548/epsilon_0.5/png/7.png\n",
      "/data/vggface/test_perturbed_sampled/n005303/mean_vggface2/n001781/epsilon_0.5/png/27.png\n",
      "\n",
      "Closest 5 images to /data/vggface/test_query_antisampled/n001781/0250_01.jpg are /data/vggface/test_perturbed_sampled/n008655/mean_vggface2/n001781/epsilon_0.5/png/27.png\n",
      "/data/vggface/test_perturbed_sampled/n005427/mean_vggface2/n001781/epsilon_0.5/png/27.png\n",
      "/data/vggface/test_perturbed_sampled/n009232/mean_vggface2/n001781/epsilon_0.5/png/22.png\n",
      "/data/vggface/test_perturbed_sampled/n005427/mean_vggface2/n001781/epsilon_0.5/png/22.png\n",
      "/data/vggface/test_perturbed_sampled/n009288/mean_vggface2/n001781/epsilon_0.5/png/22.png\n",
      "\n",
      "Closest 5 images to /data/vggface/test_query_antisampled/n001781/0025_01.jpg are /data/vggface/test_perturbed_sampled/n001683/mean_vggface2/n001781/epsilon_0.5/png/22.png\n",
      "/data/vggface/test_perturbed_sampled/n005427/mean_vggface2/n001781/epsilon_0.5/png/27.png\n",
      "/data/vggface/test_perturbed_sampled/n005427/mean_vggface2/n001781/epsilon_0.5/png/22.png\n",
      "/data/vggface/test_perturbed_sampled/n005359/mean_vggface2/n001781/epsilon_0.5/png/22.png\n",
      "/data/vggface/test_perturbed_sampled/n003356/mean_vggface2/n001781/epsilon_0.5/png/22.png\n",
      "\n",
      "Closest 5 images to /data/vggface/test_query_antisampled/n001781/0052_01.jpg are /data/vggface/test_perturbed_sampled/n008613/mean_vggface2/n001781/epsilon_0.5/png/27.png\n",
      "/data/vggface/test_perturbed_sampled/n001683/mean_vggface2/n001781/epsilon_0.5/png/22.png\n",
      "/data/vggface/test_perturbed_sampled/n005427/mean_vggface2/n001781/epsilon_0.5/png/22.png\n",
      "/data/vggface/test_perturbed_sampled/n005359/mean_vggface2/n001781/epsilon_0.5/png/22.png\n",
      "/data/vggface/test_perturbed_sampled/n008613/mean_vggface2/n001781/epsilon_0.5/png/22.png\n",
      "\n",
      "Closest 5 images to /data/vggface/test_query_antisampled/n001781/0025_01.jpg are /data/vggface/test_perturbed_sampled/n001683/mean_vggface2/n001781/epsilon_0.5/png/22.png\n",
      "/data/vggface/test_perturbed_sampled/n005427/mean_vggface2/n001781/epsilon_0.5/png/27.png\n",
      "/data/vggface/test_perturbed_sampled/n005427/mean_vggface2/n001781/epsilon_0.5/png/22.png\n",
      "/data/vggface/test_perturbed_sampled/n005359/mean_vggface2/n001781/epsilon_0.5/png/22.png\n",
      "/data/vggface/test_perturbed_sampled/n003356/mean_vggface2/n001781/epsilon_0.5/png/22.png\n",
      "\n",
      "Closest 5 images to /data/vggface/test_query_antisampled/n001781/0250_01.jpg are /data/vggface/test_perturbed_sampled/n008655/mean_vggface2/n001781/epsilon_0.5/png/27.png\n",
      "/data/vggface/test_perturbed_sampled/n005427/mean_vggface2/n001781/epsilon_0.5/png/27.png\n",
      "/data/vggface/test_perturbed_sampled/n009232/mean_vggface2/n001781/epsilon_0.5/png/22.png\n",
      "/data/vggface/test_perturbed_sampled/n005427/mean_vggface2/n001781/epsilon_0.5/png/22.png\n",
      "/data/vggface/test_perturbed_sampled/n009288/mean_vggface2/n001781/epsilon_0.5/png/22.png\n",
      "\n",
      "Closest 5 images to /data/vggface/test_query_antisampled/n009232/0180_01.jpg are /data/vggface/test_perturbed_sampled/n005359/mean_vggface2/n009232/epsilon_0.5/png/25.png\n",
      "/data/vggface/test_perturbed_sampled/n005427/mean_vggface2/n009232/epsilon_0.5/png/17.png\n",
      "/data/vggface/test_perturbed_sampled/n009232/community_naive_mean/n001781/epsilon_0.0/png/39.png\n",
      "/data/vggface/test_perturbed_sampled/n002763/mean_vggface2/n009232/epsilon_0.5/png/25.png\n",
      "/data/vggface/test_perturbed_sampled/n003215/mean_vggface2/n009232/epsilon_0.5/png/25.png\n",
      "\n",
      "Closest 5 images to /data/vggface/test_query_antisampled/n009232/0144_01.jpg are /data/vggface/test_perturbed_sampled/n000958/mean_vggface2/n009232/epsilon_0.5/png/17.png\n",
      "/data/vggface/test_perturbed_sampled/n008655/mean_vggface2/n009232/epsilon_0.5/png/25.png\n",
      "/data/vggface/test_perturbed_sampled/n000958/mean_vggface2/n009232/epsilon_0.5/png/25.png\n",
      "/data/vggface/test_perturbed_sampled/n009288/mean_vggface2/n009232/epsilon_0.5/png/25.png\n",
      "/data/vggface/test_perturbed_sampled/n003356/mean_vggface2/n009232/epsilon_0.5/png/25.png\n",
      "\n",
      "Closest 5 images to /data/vggface/test_query_antisampled/n009232/0061_01.jpg are /data/vggface/test_perturbed_sampled/n005427/mean_vggface2/n009232/epsilon_0.5/png/17.png\n",
      "/data/vggface/test_perturbed_sampled/n002763/mean_vggface2/n009232/epsilon_0.5/png/17.png\n",
      "/data/vggface/test_perturbed_sampled/n008613/mean_vggface2/n009232/epsilon_0.5/png/25.png\n",
      "/data/vggface/test_perturbed_sampled/n009114/mean_vggface2/n009232/epsilon_0.5/png/17.png\n",
      "/data/vggface/test_perturbed_sampled/n009288/mean_vggface2/n009232/epsilon_0.5/png/17.png\n",
      "\n",
      "Closest 5 images to /data/vggface/test_query_antisampled/n009232/0033_01.jpg are /data/vggface/test_perturbed_sampled/n000958/mean_vggface2/n009232/epsilon_0.5/png/25.png\n",
      "/data/vggface/test_perturbed_sampled/n008613/mean_vggface2/n009232/epsilon_0.5/png/25.png\n",
      "/data/vggface/test_perturbed_sampled/n002647/mean_vggface2/n009232/epsilon_0.5/png/25.png\n",
      "/data/vggface/test_perturbed_sampled/n002763/mean_vggface2/n009232/epsilon_0.5/png/25.png\n",
      "/data/vggface/test_perturbed_sampled/n000958/mean_vggface2/n009232/epsilon_0.5/png/17.png\n",
      "\n",
      "Closest 5 images to /data/vggface/test_query_antisampled/n009232/0008_01.jpg are /data/vggface/test_perturbed_sampled/n005427/mean_vggface2/n009232/epsilon_0.5/png/17.png\n",
      "/data/vggface/test_perturbed_sampled/n000029/mean_vggface2/n009232/epsilon_0.5/png/25.png\n",
      "/data/vggface/test_perturbed_sampled/n008613/mean_vggface2/n009232/epsilon_0.5/png/25.png\n",
      "/data/vggface/test_perturbed_sampled/n009114/mean_vggface2/n009232/epsilon_0.5/png/25.png\n",
      "/data/vggface/test_perturbed_sampled/n003215/mean_vggface2/n009232/epsilon_0.5/png/17.png\n",
      "\n",
      "Closest 5 images to /data/vggface/test_query_antisampled/n009232/0198_02.jpg are /data/vggface/test_perturbed_sampled/n002763/mean_vggface2/n009232/epsilon_0.5/png/17.png\n",
      "/data/vggface/test_perturbed_sampled/n002503/mean_vggface2/n009232/epsilon_0.5/png/25.png\n",
      "/data/vggface/test_perturbed_sampled/n000029/mean_vggface2/n009232/epsilon_0.5/png/25.png\n",
      "/data/vggface/test_perturbed_sampled/n005359/mean_vggface2/n009232/epsilon_0.5/png/17.png\n",
      "/data/vggface/test_perturbed_sampled/n009232/community_naive_mean/n001781/epsilon_0.0/png/39.png\n",
      "\n",
      "Closest 5 images to /data/vggface/test_query_antisampled/n009232/0390_01.jpg are /data/vggface/test_perturbed_sampled/n009288/mean_vggface2/n003215/epsilon_0.5/png/49.png\n",
      "/data/vggface/test_perturbed_sampled/n005427/mean_vggface2/n003215/epsilon_0.5/png/49.png\n",
      "/data/vggface/test_perturbed_sampled/n002763/mean_vggface2/n002647/epsilon_0.5/png/23.png\n",
      "/data/vggface/test_perturbed_sampled/n009114/mean_vggface2/n004658/epsilon_0.5/png/33.png\n",
      "/data/vggface/test_perturbed_sampled/n001781/mean_vggface2/n003215/epsilon_0.5/png/49.png\n",
      "\n",
      "Closest 5 images to /data/vggface/test_query_antisampled/n009232/0198_02.jpg are /data/vggface/test_perturbed_sampled/n002763/mean_vggface2/n009232/epsilon_0.5/png/17.png\n",
      "/data/vggface/test_perturbed_sampled/n002503/mean_vggface2/n009232/epsilon_0.5/png/25.png\n",
      "/data/vggface/test_perturbed_sampled/n000029/mean_vggface2/n009232/epsilon_0.5/png/25.png\n",
      "/data/vggface/test_perturbed_sampled/n005359/mean_vggface2/n009232/epsilon_0.5/png/17.png\n",
      "/data/vggface/test_perturbed_sampled/n009232/community_naive_mean/n001781/epsilon_0.0/png/39.png\n",
      "\n"
     ]
    },
    {
     "name": "stdout",
     "output_type": "stream",
     "text": [
      "Closest 5 images to /data/vggface/test_query_antisampled/n009232/0008_01.jpg are /data/vggface/test_perturbed_sampled/n005427/mean_vggface2/n009232/epsilon_0.5/png/17.png\n",
      "/data/vggface/test_perturbed_sampled/n000029/mean_vggface2/n009232/epsilon_0.5/png/25.png\n",
      "/data/vggface/test_perturbed_sampled/n008613/mean_vggface2/n009232/epsilon_0.5/png/25.png\n",
      "/data/vggface/test_perturbed_sampled/n009114/mean_vggface2/n009232/epsilon_0.5/png/25.png\n",
      "/data/vggface/test_perturbed_sampled/n003215/mean_vggface2/n009232/epsilon_0.5/png/17.png\n",
      "\n",
      "Closest 5 images to /data/vggface/test_query_antisampled/n009232/0209_01.jpg are /data/vggface/test_perturbed_sampled/n000958/mean_vggface2/n009232/epsilon_0.5/png/17.png\n",
      "/data/vggface/test_perturbed_sampled/n008655/mean_vggface2/n009232/epsilon_0.5/png/25.png\n",
      "/data/vggface/test_perturbed_sampled/n002763/mean_vggface2/n009232/epsilon_0.5/png/25.png\n",
      "/data/vggface/test_perturbed_sampled/n008655/mean_vggface2/n009232/epsilon_0.5/png/17.png\n",
      "/data/vggface/test_perturbed_sampled/n005427/mean_vggface2/n009232/epsilon_0.5/png/17.png\n",
      "\n",
      "Closest 5 images to /data/vggface/test_query_antisampled/n000958/0213_02.jpg are /data/vggface/test_perturbed_sampled/n005359/mean_vggface2/n000958/epsilon_0.5/png/15.png\n",
      "/data/vggface/test_perturbed_sampled/n003215/mean_vggface2/n000958/epsilon_0.5/png/15.png\n",
      "/data/vggface/test_perturbed_sampled/n005359/mean_vggface2/n000958/epsilon_0.5/png/3.png\n",
      "/data/vggface/test_perturbed_sampled/n009232/mean_vggface2/n000958/epsilon_0.5/png/25.png\n",
      "/data/vggface/test_perturbed_sampled/n007548/mean_vggface2/n000958/epsilon_0.5/png/3.png\n",
      "\n",
      "Closest 5 images to /data/vggface/test_query_antisampled/n000958/0253_01.jpg are /data/vggface/test_perturbed_sampled/n008655/mean_vggface2/n000958/epsilon_0.5/png/15.png\n",
      "/data/vggface/test_perturbed_sampled/n001781/mean_vggface2/n000958/epsilon_0.5/png/17.png\n",
      "/data/vggface/test_perturbed_sampled/n009114/mean_vggface2/n000958/epsilon_0.5/png/3.png\n",
      "/data/vggface/test_perturbed_sampled/n002647/mean_vggface2/n000958/epsilon_0.5/png/3.png\n",
      "/data/vggface/test_perturbed_sampled/n009114/mean_vggface2/n000958/epsilon_0.5/png/15.png\n",
      "\n",
      "Closest 5 images to /data/vggface/test_query_antisampled/n000958/0253_01.jpg are /data/vggface/test_perturbed_sampled/n008655/mean_vggface2/n000958/epsilon_0.5/png/15.png\n",
      "/data/vggface/test_perturbed_sampled/n001781/mean_vggface2/n000958/epsilon_0.5/png/17.png\n",
      "/data/vggface/test_perturbed_sampled/n009114/mean_vggface2/n000958/epsilon_0.5/png/3.png\n",
      "/data/vggface/test_perturbed_sampled/n002647/mean_vggface2/n000958/epsilon_0.5/png/3.png\n",
      "/data/vggface/test_perturbed_sampled/n009114/mean_vggface2/n000958/epsilon_0.5/png/15.png\n",
      "\n",
      "Closest 5 images to /data/vggface/test_query_antisampled/n000958/0256_01.jpg are /data/vggface/test_perturbed_sampled/n007548/mean_vggface2/n000958/epsilon_0.5/png/3.png\n",
      "/data/vggface/test_perturbed_sampled/n005359/mean_vggface2/n000958/epsilon_0.5/png/3.png\n",
      "/data/vggface/test_perturbed_sampled/n008613/mean_vggface2/n000958/epsilon_0.5/png/3.png\n",
      "/data/vggface/test_perturbed_sampled/n005303/mean_vggface2/n000958/epsilon_0.5/png/15.png\n",
      "/data/vggface/test_perturbed_sampled/n005359/mean_vggface2/n000958/epsilon_0.5/png/15.png\n",
      "\n",
      "Closest 5 images to /data/vggface/test_query_antisampled/n000958/0286_01.jpg are /data/vggface/test_perturbed_sampled/n002763/mean_vggface2/n000958/epsilon_0.5/png/3.png\n",
      "/data/vggface/test_perturbed_sampled/n009288/mean_vggface2/n000958/epsilon_0.5/png/15.png\n",
      "/data/vggface/test_perturbed_sampled/n008655/mean_vggface2/n000958/epsilon_0.5/png/3.png\n",
      "/data/vggface/test_perturbed_sampled/n002763/mean_vggface2/n000958/epsilon_0.5/png/15.png\n",
      "/data/vggface/test_perturbed_sampled/n000029/mean_vggface2/n000958/epsilon_0.5/png/3.png\n",
      "\n",
      "Closest 5 images to /data/vggface/test_query_antisampled/n000958/0212_01.jpg are /data/vggface/test_perturbed_sampled/n005359/mean_vggface2/n000958/epsilon_0.5/png/15.png\n",
      "/data/vggface/test_perturbed_sampled/n002763/mean_vggface2/n000958/epsilon_0.5/png/15.png\n",
      "/data/vggface/test_perturbed_sampled/n000029/mean_vggface2/n000958/epsilon_0.5/png/3.png\n",
      "/data/vggface/test_perturbed_sampled/n005303/mean_vggface2/n000958/epsilon_0.5/png/15.png\n",
      "/data/vggface/test_perturbed_sampled/n000958/community_naive_mean/n001781/epsilon_0.0/png/46.png\n",
      "\n",
      "Closest 5 images to /data/vggface/test_query_antisampled/n000958/0103_01.jpg are /data/vggface/test_perturbed_sampled/n005427/mean_vggface2/n000958/epsilon_0.5/png/3.png\n",
      "/data/vggface/test_perturbed_sampled/n002763/mean_vggface2/n000958/epsilon_0.5/png/15.png\n",
      "/data/vggface/test_perturbed_sampled/n000029/mean_vggface2/n000958/epsilon_0.5/png/3.png\n",
      "/data/vggface/test_perturbed_sampled/n008655/mean_vggface2/n000958/epsilon_0.5/png/3.png\n",
      "/data/vggface/test_perturbed_sampled/n001781/mean_vggface2/n000958/epsilon_0.5/png/17.png\n",
      "\n",
      "Closest 5 images to /data/vggface/test_query_antisampled/n000958/0292_04.jpg are /data/vggface/test_perturbed_sampled/n002763/mean_vggface2/n000958/epsilon_0.5/png/3.png\n",
      "/data/vggface/test_perturbed_sampled/n002763/mean_vggface2/n000958/epsilon_0.5/png/15.png\n",
      "/data/vggface/test_perturbed_sampled/n002503/mean_vggface2/n000958/epsilon_0.5/png/15.png\n",
      "/data/vggface/test_perturbed_sampled/n000029/mean_vggface2/n000958/epsilon_0.5/png/3.png\n",
      "/data/vggface/test_perturbed_sampled/n003356/mean_vggface2/n000958/epsilon_0.5/png/15.png\n",
      "\n",
      "Closest 5 images to /data/vggface/test_query_antisampled/n000958/0103_01.jpg are /data/vggface/test_perturbed_sampled/n005427/mean_vggface2/n000958/epsilon_0.5/png/3.png\n",
      "/data/vggface/test_perturbed_sampled/n002763/mean_vggface2/n000958/epsilon_0.5/png/15.png\n",
      "/data/vggface/test_perturbed_sampled/n000029/mean_vggface2/n000958/epsilon_0.5/png/3.png\n",
      "/data/vggface/test_perturbed_sampled/n008655/mean_vggface2/n000958/epsilon_0.5/png/3.png\n",
      "/data/vggface/test_perturbed_sampled/n001781/mean_vggface2/n000958/epsilon_0.5/png/17.png\n",
      "\n",
      "Closest 5 images to /data/vggface/test_query_antisampled/n000958/0537_02.jpg are /data/vggface/test_perturbed_sampled/n002763/mean_vggface2/n000958/epsilon_0.5/png/15.png\n",
      "/data/vggface/test_perturbed_sampled/n005303/mean_vggface2/n000958/epsilon_0.5/png/15.png\n",
      "/data/vggface/test_perturbed_sampled/n005359/mean_vggface2/n000958/epsilon_0.5/png/15.png\n",
      "/data/vggface/test_perturbed_sampled/n000029/mean_vggface2/n000958/epsilon_0.5/png/15.png\n",
      "/data/vggface/test_perturbed_sampled/n008655/mean_vggface2/n000958/epsilon_0.5/png/15.png\n",
      "\n",
      "Closest 5 images to /data/vggface/test_query_antisampled/n003356/0002_01.jpg are /data/vggface/test_perturbed_sampled/n003215/mean_vggface2/n003356/epsilon_0.5/png/16.png\n",
      "/data/vggface/test_perturbed_sampled/n008655/mean_vggface2/n003356/epsilon_0.5/png/16.png\n",
      "/data/vggface/test_perturbed_sampled/n002647/mean_vggface2/n003356/epsilon_0.5/png/16.png\n",
      "/data/vggface/test_perturbed_sampled/n009232/mean_vggface2/n003356/epsilon_0.5/png/3.png\n",
      "/data/vggface/test_perturbed_sampled/n007548/mean_vggface2/n003356/epsilon_0.5/png/16.png\n",
      "\n",
      "Closest 5 images to /data/vggface/test_query_antisampled/n003356/0079_01.jpg are /data/vggface/test_perturbed_sampled/n005427/mean_vggface2/n003356/epsilon_0.5/png/42.png\n",
      "/data/vggface/test_perturbed_sampled/n009232/mean_vggface2/n003356/epsilon_0.5/png/3.png\n",
      "/data/vggface/test_perturbed_sampled/n002503/mean_vggface2/n003356/epsilon_0.5/png/16.png\n",
      "/data/vggface/test_perturbed_sampled/n002763/mean_vggface2/n003356/epsilon_0.5/png/16.png\n",
      "/data/vggface/test_perturbed_sampled/n008655/mean_vggface2/n003356/epsilon_0.5/png/16.png\n",
      "\n",
      "Closest 5 images to /data/vggface/test_query_antisampled/n003356/0164_01.jpg are /data/vggface/test_perturbed_sampled/n005427/mean_vggface2/n003356/epsilon_0.5/png/42.png\n",
      "/data/vggface/test_perturbed_sampled/n009232/mean_vggface2/n003356/epsilon_0.5/png/15.png\n",
      "/data/vggface/test_perturbed_sampled/n002763/mean_vggface2/n003356/epsilon_0.5/png/42.png\n",
      "/data/vggface/test_perturbed_sampled/n001781/mean_vggface2/n009114/epsilon_0.5/png/36.png\n",
      "/data/vggface/test_perturbed_sampled/n009288/mean_vggface2/n003356/epsilon_0.5/png/42.png\n",
      "\n",
      "Closest 5 images to /data/vggface/test_query_antisampled/n003356/0678_01.jpg are /data/vggface/test_perturbed_sampled/n002647/mean_vggface2/n003356/epsilon_0.5/png/16.png\n",
      "/data/vggface/test_perturbed_sampled/n007548/mean_vggface2/n003356/epsilon_0.5/png/16.png\n",
      "/data/vggface/test_perturbed_sampled/n008655/mean_vggface2/n003356/epsilon_0.5/png/16.png\n",
      "/data/vggface/test_perturbed_sampled/n005427/mean_vggface2/n003356/epsilon_0.5/png/42.png\n",
      "/data/vggface/test_perturbed_sampled/n009232/mean_vggface2/n003356/epsilon_0.5/png/3.png\n",
      "\n"
     ]
    },
    {
     "name": "stdout",
     "output_type": "stream",
     "text": [
      "Closest 5 images to /data/vggface/test_query_antisampled/n003356/0093_01.jpg are /data/vggface/test_perturbed_sampled/n003215/mean_vggface2/n003356/epsilon_0.5/png/16.png\n",
      "/data/vggface/test_perturbed_sampled/n007548/mean_vggface2/n003356/epsilon_0.5/png/16.png\n",
      "/data/vggface/test_perturbed_sampled/n009232/mean_vggface2/n003356/epsilon_0.5/png/3.png\n",
      "/data/vggface/test_perturbed_sampled/n005427/mean_vggface2/n003356/epsilon_0.5/png/42.png\n",
      "/data/vggface/test_perturbed_sampled/n008655/mean_vggface2/n003356/epsilon_0.5/png/16.png\n",
      "\n",
      "Closest 5 images to /data/vggface/test_query_antisampled/n003356/0678_01.jpg are /data/vggface/test_perturbed_sampled/n002647/mean_vggface2/n003356/epsilon_0.5/png/16.png\n",
      "/data/vggface/test_perturbed_sampled/n007548/mean_vggface2/n003356/epsilon_0.5/png/16.png\n",
      "/data/vggface/test_perturbed_sampled/n008655/mean_vggface2/n003356/epsilon_0.5/png/16.png\n",
      "/data/vggface/test_perturbed_sampled/n005427/mean_vggface2/n003356/epsilon_0.5/png/42.png\n",
      "/data/vggface/test_perturbed_sampled/n009232/mean_vggface2/n003356/epsilon_0.5/png/3.png\n",
      "\n",
      "Closest 5 images to /data/vggface/test_query_antisampled/n003356/0102_01.jpg are /data/vggface/test_perturbed_sampled/n004658/mean_vggface2/n003356/epsilon_0.5/png/16.png\n",
      "/data/vggface/test_perturbed_sampled/n009114/mean_vggface2/n003356/epsilon_0.5/png/42.png\n",
      "/data/vggface/test_perturbed_sampled/n007548/mean_vggface2/n003356/epsilon_0.5/png/16.png\n",
      "/data/vggface/test_perturbed_sampled/n002503/mean_vggface2/n003356/epsilon_0.5/png/16.png\n",
      "/data/vggface/test_perturbed_sampled/n002763/mean_vggface2/n003356/epsilon_0.5/png/16.png\n",
      "\n",
      "Closest 5 images to /data/vggface/test_query_antisampled/n003356/0006_01.jpg are /data/vggface/test_perturbed_sampled/n008655/mean_vggface2/n003356/epsilon_0.5/png/16.png\n",
      "/data/vggface/test_perturbed_sampled/n009232/mean_vggface2/n003356/epsilon_0.5/png/3.png\n",
      "/data/vggface/test_perturbed_sampled/n004658/mean_vggface2/n003356/epsilon_0.5/png/16.png\n",
      "/data/vggface/test_perturbed_sampled/n007548/mean_vggface2/n003356/epsilon_0.5/png/16.png\n",
      "/data/vggface/test_perturbed_sampled/n003356/community_naive_mean/n001781/epsilon_0.0/png/46.png\n",
      "\n",
      "Closest 5 images to /data/vggface/test_query_antisampled/n003356/0002_01.jpg are /data/vggface/test_perturbed_sampled/n003215/mean_vggface2/n003356/epsilon_0.5/png/16.png\n",
      "/data/vggface/test_perturbed_sampled/n008655/mean_vggface2/n003356/epsilon_0.5/png/16.png\n",
      "/data/vggface/test_perturbed_sampled/n002647/mean_vggface2/n003356/epsilon_0.5/png/16.png\n",
      "/data/vggface/test_perturbed_sampled/n009232/mean_vggface2/n003356/epsilon_0.5/png/3.png\n",
      "/data/vggface/test_perturbed_sampled/n007548/mean_vggface2/n003356/epsilon_0.5/png/16.png\n",
      "\n",
      "Closest 5 images to /data/vggface/test_query_antisampled/n003356/0117_01.jpg are /data/vggface/test_perturbed_sampled/n004658/mean_vggface2/n003356/epsilon_0.5/png/16.png\n",
      "/data/vggface/test_perturbed_sampled/n008655/mean_vggface2/n003356/epsilon_0.5/png/16.png\n",
      "/data/vggface/test_perturbed_sampled/n008655/mean_vggface2/n003356/epsilon_0.5/png/42.png\n",
      "/data/vggface/test_perturbed_sampled/n005303/mean_vggface2/n003356/epsilon_0.5/png/16.png\n",
      "/data/vggface/test_perturbed_sampled/n002763/mean_vggface2/n003356/epsilon_0.5/png/16.png\n",
      "\n",
      "Closest 5 images to /data/vggface/test_query_antisampled/n008655/0603_01.jpg are /data/vggface/test_perturbed_sampled/n009288/mean_vggface2/n008655/epsilon_0.5/png/35.png\n",
      "/data/vggface/test_perturbed_sampled/n009288/mean_vggface2/n008655/epsilon_0.5/png/41.png\n",
      "/data/vggface/test_perturbed_sampled/n005359/mean_vggface2/n008655/epsilon_0.5/png/35.png\n",
      "/data/vggface/test_perturbed_sampled/n002647/mean_vggface2/n008655/epsilon_0.5/png/35.png\n",
      "/data/vggface/test_perturbed_sampled/n003356/mean_vggface2/n008655/epsilon_0.5/png/16.png\n",
      "\n",
      "Closest 5 images to /data/vggface/test_query_antisampled/n008655/0026_01.jpg are /data/vggface/test_perturbed_sampled/n005359/mean_vggface2/n008655/epsilon_0.5/png/41.png\n",
      "/data/vggface/test_perturbed_sampled/n002763/mean_vggface2/n008655/epsilon_0.5/png/41.png\n",
      "/data/vggface/test_perturbed_sampled/n003215/mean_vggface2/n008655/epsilon_0.5/png/41.png\n",
      "/data/vggface/test_perturbed_sampled/n001683/mean_vggface2/n008655/epsilon_0.5/png/41.png\n",
      "/data/vggface/test_perturbed_sampled/n004658/mean_vggface2/n008655/epsilon_0.5/png/35.png\n",
      "\n",
      "Closest 5 images to /data/vggface/test_query_antisampled/n008655/0052_01.jpg are /data/vggface/test_perturbed_sampled/n005359/mean_vggface2/n008655/epsilon_0.5/png/41.png\n",
      "/data/vggface/test_perturbed_sampled/n002763/mean_vggface2/n008655/epsilon_0.5/png/41.png\n",
      "/data/vggface/test_perturbed_sampled/n004658/mean_vggface2/n008655/epsilon_0.5/png/41.png\n",
      "/data/vggface/test_perturbed_sampled/n005359/mean_vggface2/n008655/epsilon_0.5/png/35.png\n",
      "/data/vggface/test_perturbed_sampled/n002647/mean_vggface2/n008655/epsilon_0.5/png/41.png\n",
      "\n",
      "Closest 5 images to /data/vggface/test_query_antisampled/n008655/0147_01.jpg are /data/vggface/test_perturbed_sampled/n001781/mean_vggface2/n008655/epsilon_0.5/png/16.png\n",
      "/data/vggface/test_perturbed_sampled/n004658/mean_vggface2/n008655/epsilon_0.5/png/41.png\n",
      "/data/vggface/test_perturbed_sampled/n000029/mean_vggface2/n008655/epsilon_0.5/png/35.png\n",
      "/data/vggface/test_perturbed_sampled/n002647/mean_vggface2/n008655/epsilon_0.5/png/35.png\n",
      "/data/vggface/test_perturbed_sampled/n005359/mean_vggface2/n008655/epsilon_0.5/png/41.png\n",
      "\n",
      "Closest 5 images to /data/vggface/test_query_antisampled/n008655/0026_01.jpg are /data/vggface/test_perturbed_sampled/n005359/mean_vggface2/n008655/epsilon_0.5/png/41.png\n",
      "/data/vggface/test_perturbed_sampled/n002763/mean_vggface2/n008655/epsilon_0.5/png/41.png\n",
      "/data/vggface/test_perturbed_sampled/n003215/mean_vggface2/n008655/epsilon_0.5/png/41.png\n",
      "/data/vggface/test_perturbed_sampled/n001683/mean_vggface2/n008655/epsilon_0.5/png/41.png\n",
      "/data/vggface/test_perturbed_sampled/n004658/mean_vggface2/n008655/epsilon_0.5/png/35.png\n",
      "\n",
      "Closest 5 images to /data/vggface/test_query_antisampled/n008655/0017_01.jpg are /data/vggface/test_perturbed_sampled/n003356/mean_vggface2/n008613/epsilon_0.5/png/35.png\n",
      "/data/vggface/test_perturbed_sampled/n000029/mean_vggface2/n008613/epsilon_0.5/png/32.png\n",
      "/data/vggface/test_perturbed_sampled/n005359/mean_vggface2/n008613/epsilon_0.5/png/28.png\n",
      "/data/vggface/test_perturbed_sampled/n004658/mean_vggface2/n008613/epsilon_0.5/png/32.png\n",
      "/data/vggface/test_perturbed_sampled/n009288/mean_vggface2/n008613/epsilon_0.5/png/28.png\n",
      "\n",
      "Closest 5 images to /data/vggface/test_query_antisampled/n008655/0013_01.jpg are /data/vggface/test_perturbed_sampled/n007548/mean_vggface2/n008655/epsilon_0.5/png/35.png\n",
      "/data/vggface/test_perturbed_sampled/n004658/mean_vggface2/n008655/epsilon_0.5/png/41.png\n",
      "/data/vggface/test_perturbed_sampled/n002503/mean_vggface2/n008655/epsilon_0.5/png/41.png\n",
      "/data/vggface/test_perturbed_sampled/n003215/mean_vggface2/n008655/epsilon_0.5/png/35.png\n",
      "/data/vggface/test_perturbed_sampled/n002647/mean_vggface2/n008655/epsilon_0.5/png/41.png\n",
      "\n",
      "Closest 5 images to /data/vggface/test_query_antisampled/n008655/0286_02.jpg are /data/vggface/test_perturbed_sampled/n005359/mean_vggface2/n008655/epsilon_0.5/png/41.png\n",
      "/data/vggface/test_perturbed_sampled/n002647/community_naive_mean/n001781/epsilon_0.0/png/46.png\n",
      "/data/vggface/test_perturbed_sampled/n001683/mean_vggface2/n005427/epsilon_0.5/png/1.png\n",
      "/data/vggface/test_perturbed_sampled/n007548/mean_vggface2/n008655/epsilon_0.5/png/41.png\n",
      "/data/vggface/test_perturbed_sampled/n009288/mean_vggface2/n009232/epsilon_0.5/png/25.png\n",
      "\n",
      "Closest 5 images to /data/vggface/test_query_antisampled/n008655/0026_01.jpg are /data/vggface/test_perturbed_sampled/n005359/mean_vggface2/n008655/epsilon_0.5/png/41.png\n",
      "/data/vggface/test_perturbed_sampled/n002763/mean_vggface2/n008655/epsilon_0.5/png/41.png\n",
      "/data/vggface/test_perturbed_sampled/n003215/mean_vggface2/n008655/epsilon_0.5/png/41.png\n",
      "/data/vggface/test_perturbed_sampled/n001683/mean_vggface2/n008655/epsilon_0.5/png/41.png\n",
      "/data/vggface/test_perturbed_sampled/n004658/mean_vggface2/n008655/epsilon_0.5/png/35.png\n",
      "\n",
      "Closest 5 images to /data/vggface/test_query_antisampled/n008655/0013_01.jpg are /data/vggface/test_perturbed_sampled/n007548/mean_vggface2/n008655/epsilon_0.5/png/35.png\n",
      "/data/vggface/test_perturbed_sampled/n004658/mean_vggface2/n008655/epsilon_0.5/png/41.png\n",
      "/data/vggface/test_perturbed_sampled/n002503/mean_vggface2/n008655/epsilon_0.5/png/41.png\n",
      "/data/vggface/test_perturbed_sampled/n003215/mean_vggface2/n008655/epsilon_0.5/png/35.png\n",
      "/data/vggface/test_perturbed_sampled/n002647/mean_vggface2/n008655/epsilon_0.5/png/41.png\n",
      "\n",
      "Closest 5 images to /data/vggface/test_query_antisampled/n008613/0167_01.jpg are /data/vggface/test_perturbed_sampled/n005427/mean_vggface2/n008613/epsilon_0.5/png/32.png\n",
      "/data/vggface/test_perturbed_sampled/n001683/mean_vggface2/n008613/epsilon_0.5/png/32.png\n",
      "/data/vggface/test_perturbed_sampled/n003356/mean_vggface2/n008613/epsilon_0.5/png/41.png\n",
      "/data/vggface/test_perturbed_sampled/n001781/mean_vggface2/n008613/epsilon_0.5/png/41.png\n",
      "/data/vggface/test_perturbed_sampled/n004658/mean_vggface2/n008613/epsilon_0.5/png/32.png\n",
      "\n",
      "Closest 5 images to /data/vggface/test_query_antisampled/n008613/0069_01.jpg are /data/vggface/test_perturbed_sampled/n009288/mean_vggface2/n008613/epsilon_0.5/png/32.png\n",
      "/data/vggface/test_perturbed_sampled/n001781/mean_vggface2/n008613/epsilon_0.5/png/41.png\n",
      "/data/vggface/test_perturbed_sampled/n009232/mean_vggface2/n008613/epsilon_0.5/png/41.png\n",
      "/data/vggface/test_perturbed_sampled/n009232/mean_vggface2/n008613/epsilon_0.5/png/35.png\n",
      "/data/vggface/test_perturbed_sampled/n001781/mean_vggface2/n008613/epsilon_0.5/png/35.png\n",
      "\n",
      "Closest 5 images to /data/vggface/test_query_antisampled/n008613/0147_01.jpg are /data/vggface/test_perturbed_sampled/n003215/mean_vggface2/n008613/epsilon_0.5/png/32.png\n",
      "/data/vggface/test_perturbed_sampled/n000958/mean_vggface2/n008613/epsilon_0.5/png/35.png\n",
      "/data/vggface/test_perturbed_sampled/n007548/mean_vggface2/n008613/epsilon_0.5/png/32.png\n",
      "/data/vggface/test_perturbed_sampled/n002647/mean_vggface2/n008613/epsilon_0.5/png/32.png\n",
      "/data/vggface/test_perturbed_sampled/n001781/mean_vggface2/n008613/epsilon_0.5/png/41.png\n",
      "\n",
      "Closest 5 images to /data/vggface/test_query_antisampled/n008613/0222_01.jpg are /data/vggface/test_perturbed_sampled/n005427/mean_vggface2/n008613/epsilon_0.5/png/28.png\n",
      "/data/vggface/test_perturbed_sampled/n000958/mean_vggface2/n008613/epsilon_0.5/png/35.png\n",
      "/data/vggface/test_perturbed_sampled/n005427/mean_vggface2/n008613/epsilon_0.5/png/32.png\n",
      "/data/vggface/test_perturbed_sampled/n001781/mean_vggface2/n008613/epsilon_0.5/png/41.png\n",
      "/data/vggface/test_perturbed_sampled/n002503/mean_vggface2/n008613/epsilon_0.5/png/28.png\n",
      "\n",
      "Closest 5 images to /data/vggface/test_query_antisampled/n008613/0147_01.jpg are /data/vggface/test_perturbed_sampled/n003215/mean_vggface2/n008613/epsilon_0.5/png/32.png\n",
      "/data/vggface/test_perturbed_sampled/n000958/mean_vggface2/n008613/epsilon_0.5/png/35.png\n",
      "/data/vggface/test_perturbed_sampled/n007548/mean_vggface2/n008613/epsilon_0.5/png/32.png\n",
      "/data/vggface/test_perturbed_sampled/n002647/mean_vggface2/n008613/epsilon_0.5/png/32.png\n",
      "/data/vggface/test_perturbed_sampled/n001781/mean_vggface2/n008613/epsilon_0.5/png/41.png\n",
      "\n",
      "Closest 5 images to /data/vggface/test_query_antisampled/n008613/0297_01.jpg are /data/vggface/test_perturbed_sampled/n003215/mean_vggface2/n008613/epsilon_0.5/png/32.png\n",
      "/data/vggface/test_perturbed_sampled/n000958/mean_vggface2/n008613/epsilon_0.5/png/35.png\n",
      "/data/vggface/test_perturbed_sampled/n001781/mean_vggface2/n008613/epsilon_0.5/png/41.png\n",
      "/data/vggface/test_perturbed_sampled/n009288/mean_vggface2/n008613/epsilon_0.5/png/32.png\n",
      "/data/vggface/test_perturbed_sampled/n004658/mean_vggface2/n008613/epsilon_0.5/png/32.png\n",
      "\n",
      "Closest 5 images to /data/vggface/test_query_antisampled/n008613/0082_01.jpg are /data/vggface/test_perturbed_sampled/n001781/mean_vggface2/n008613/epsilon_0.5/png/41.png\n",
      "/data/vggface/test_perturbed_sampled/n008655/mean_vggface2/n008613/epsilon_0.5/png/35.png\n",
      "/data/vggface/test_perturbed_sampled/n002763/mean_vggface2/n008613/epsilon_0.5/png/32.png\n",
      "/data/vggface/test_perturbed_sampled/n002763/mean_vggface2/n008613/epsilon_0.5/png/28.png\n",
      "/data/vggface/test_perturbed_sampled/n001781/mean_vggface2/n008613/epsilon_0.5/png/35.png\n",
      "\n"
     ]
    },
    {
     "name": "stdout",
     "output_type": "stream",
     "text": [
      "Closest 5 images to /data/vggface/test_query_antisampled/n008613/0167_01.jpg are /data/vggface/test_perturbed_sampled/n005427/mean_vggface2/n008613/epsilon_0.5/png/32.png\n",
      "/data/vggface/test_perturbed_sampled/n001683/mean_vggface2/n008613/epsilon_0.5/png/32.png\n",
      "/data/vggface/test_perturbed_sampled/n003356/mean_vggface2/n008613/epsilon_0.5/png/41.png\n",
      "/data/vggface/test_perturbed_sampled/n001781/mean_vggface2/n008613/epsilon_0.5/png/41.png\n",
      "/data/vggface/test_perturbed_sampled/n004658/mean_vggface2/n008613/epsilon_0.5/png/32.png\n",
      "\n",
      "Closest 5 images to /data/vggface/test_query_antisampled/n008613/0297_01.jpg are /data/vggface/test_perturbed_sampled/n003215/mean_vggface2/n008613/epsilon_0.5/png/32.png\n",
      "/data/vggface/test_perturbed_sampled/n000958/mean_vggface2/n008613/epsilon_0.5/png/35.png\n",
      "/data/vggface/test_perturbed_sampled/n001781/mean_vggface2/n008613/epsilon_0.5/png/41.png\n",
      "/data/vggface/test_perturbed_sampled/n009288/mean_vggface2/n008613/epsilon_0.5/png/32.png\n",
      "/data/vggface/test_perturbed_sampled/n004658/mean_vggface2/n008613/epsilon_0.5/png/32.png\n",
      "\n",
      "Closest 5 images to /data/vggface/test_query_antisampled/n008613/0069_01.jpg are /data/vggface/test_perturbed_sampled/n009288/mean_vggface2/n008613/epsilon_0.5/png/32.png\n",
      "/data/vggface/test_perturbed_sampled/n001781/mean_vggface2/n008613/epsilon_0.5/png/41.png\n",
      "/data/vggface/test_perturbed_sampled/n009232/mean_vggface2/n008613/epsilon_0.5/png/41.png\n",
      "/data/vggface/test_perturbed_sampled/n009232/mean_vggface2/n008613/epsilon_0.5/png/35.png\n",
      "/data/vggface/test_perturbed_sampled/n001781/mean_vggface2/n008613/epsilon_0.5/png/35.png\n",
      "\n",
      "Closest 5 images to /data/vggface/test_query_antisampled/n004658/0120_03.jpg are /data/vggface/test_perturbed_sampled/n005427/mean_vggface2/n004658/epsilon_0.5/png/33.png\n",
      "/data/vggface/test_perturbed_sampled/n009232/mean_vggface2/n004658/epsilon_0.5/png/28.png\n",
      "/data/vggface/test_perturbed_sampled/n009288/mean_vggface2/n005303/epsilon_0.5/png/12.png\n",
      "/data/vggface/test_perturbed_sampled/n004658/community_naive_mean/n001781/epsilon_0.0/png/39.png\n",
      "/data/vggface/test_perturbed_sampled/n005359/mean_vggface2/n004658/epsilon_0.5/png/33.png\n",
      "\n",
      "Closest 5 images to /data/vggface/test_query_antisampled/n004658/0102_01.jpg are /data/vggface/test_perturbed_sampled/n009288/mean_vggface2/n004658/epsilon_0.5/png/45.png\n",
      "/data/vggface/test_perturbed_sampled/n005427/mean_vggface2/n004658/epsilon_0.5/png/33.png\n",
      "/data/vggface/test_perturbed_sampled/n000958/mean_vggface2/n004658/epsilon_0.5/png/28.png\n",
      "/data/vggface/test_perturbed_sampled/n005359/mean_vggface2/n004658/epsilon_0.5/png/33.png\n",
      "/data/vggface/test_perturbed_sampled/n009114/mean_vggface2/n004658/epsilon_0.5/png/45.png\n",
      "\n",
      "Closest 5 images to /data/vggface/test_query_antisampled/n004658/0241_01.jpg are /data/vggface/test_perturbed_sampled/n005427/mean_vggface2/n004658/epsilon_0.5/png/33.png\n",
      "/data/vggface/test_perturbed_sampled/n008613/mean_vggface2/n004658/epsilon_0.5/png/28.png\n",
      "/data/vggface/test_perturbed_sampled/n009232/mean_vggface2/n004658/epsilon_0.5/png/28.png\n",
      "/data/vggface/test_perturbed_sampled/n009288/mean_vggface2/n004658/epsilon_0.5/png/33.png\n",
      "/data/vggface/test_perturbed_sampled/n002503/mean_vggface2/n004658/epsilon_0.5/png/33.png\n",
      "\n",
      "Closest 5 images to /data/vggface/test_query_antisampled/n004658/0015_01.jpg are /data/vggface/test_perturbed_sampled/n000958/mean_vggface2/n004658/epsilon_0.5/png/28.png\n",
      "/data/vggface/test_perturbed_sampled/n000958/mean_vggface2/n004658/epsilon_0.5/png/32.png\n",
      "/data/vggface/test_perturbed_sampled/n009232/mean_vggface2/n004658/epsilon_0.5/png/32.png\n",
      "/data/vggface/test_perturbed_sampled/n005427/mean_vggface2/n004658/epsilon_0.5/png/33.png\n",
      "/data/vggface/test_perturbed_sampled/n009232/mean_vggface2/n004658/epsilon_0.5/png/28.png\n",
      "\n",
      "Closest 5 images to /data/vggface/test_query_antisampled/n004658/0068_01.jpg are /data/vggface/test_perturbed_sampled/n001781/mean_vggface2/n004658/epsilon_0.5/png/28.png\n",
      "/data/vggface/test_perturbed_sampled/n001781/mean_vggface2/n004658/epsilon_0.5/png/32.png\n",
      "/data/vggface/test_perturbed_sampled/n000029/mean_vggface2/n004658/epsilon_0.5/png/45.png\n",
      "/data/vggface/test_perturbed_sampled/n005427/mean_vggface2/n004658/epsilon_0.5/png/33.png\n",
      "/data/vggface/test_perturbed_sampled/n005359/mean_vggface2/n004658/epsilon_0.5/png/45.png\n",
      "\n",
      "Closest 5 images to /data/vggface/test_query_antisampled/n004658/0173_01.jpg are /data/vggface/test_perturbed_sampled/n008613/mean_vggface2/n004658/epsilon_0.5/png/28.png\n",
      "/data/vggface/test_perturbed_sampled/n009288/mean_vggface2/n004658/epsilon_0.5/png/33.png\n",
      "/data/vggface/test_perturbed_sampled/n003215/mean_vggface2/n004658/epsilon_0.5/png/33.png\n",
      "/data/vggface/test_perturbed_sampled/n000029/mean_vggface2/n004658/epsilon_0.5/png/45.png\n",
      "/data/vggface/test_perturbed_sampled/n009288/mean_vggface2/n004658/epsilon_0.5/png/45.png\n",
      "\n",
      "Closest 5 images to /data/vggface/test_query_antisampled/n004658/0412_01.jpg are /data/vggface/test_perturbed_sampled/n002503/mean_vggface2/n007548/epsilon_0.5/png/7.png\n",
      "/data/vggface/test_perturbed_sampled/n002647/mean_vggface2/n003215/epsilon_0.5/png/9.png\n",
      "/data/vggface/test_perturbed_sampled/n004658/mean_vggface2/n007548/epsilon_0.5/png/7.png\n",
      "/data/vggface/test_perturbed_sampled/n003215/community_naive_mean/n001781/epsilon_0.0/png/46.png\n",
      "/data/vggface/test_perturbed_sampled/n001683/mean_vggface2/n007548/epsilon_0.5/png/6.png\n",
      "\n",
      "Closest 5 images to /data/vggface/test_query_antisampled/n004658/0159_15.jpg are /data/vggface/test_perturbed_sampled/n008655/mean_vggface2/n004658/epsilon_0.5/png/28.png\n",
      "/data/vggface/test_perturbed_sampled/n005359/mean_vggface2/n004658/epsilon_0.5/png/33.png\n",
      "/data/vggface/test_perturbed_sampled/n000958/mean_vggface2/n004658/epsilon_0.5/png/28.png\n",
      "/data/vggface/test_perturbed_sampled/n009288/mean_vggface2/n005303/epsilon_0.5/png/12.png\n",
      "/data/vggface/test_perturbed_sampled/n005427/mean_vggface2/n004658/epsilon_0.5/png/33.png\n",
      "\n",
      "Closest 5 images to /data/vggface/test_query_antisampled/n004658/0102_01.jpg are /data/vggface/test_perturbed_sampled/n009288/mean_vggface2/n004658/epsilon_0.5/png/45.png\n",
      "/data/vggface/test_perturbed_sampled/n005427/mean_vggface2/n004658/epsilon_0.5/png/33.png\n",
      "/data/vggface/test_perturbed_sampled/n000958/mean_vggface2/n004658/epsilon_0.5/png/28.png\n",
      "/data/vggface/test_perturbed_sampled/n005359/mean_vggface2/n004658/epsilon_0.5/png/33.png\n",
      "/data/vggface/test_perturbed_sampled/n009114/mean_vggface2/n004658/epsilon_0.5/png/45.png\n",
      "\n",
      "Closest 5 images to /data/vggface/test_query_antisampled/n004658/0228_01.jpg are /data/vggface/test_perturbed_sampled/n007548/mean_vggface2/n002503/epsilon_0.5/png/9.png\n",
      "/data/vggface/test_perturbed_sampled/n002647/mean_vggface2/n002503/epsilon_0.5/png/30.png\n",
      "/data/vggface/test_perturbed_sampled/n005427/mean_vggface2/n002503/epsilon_0.5/png/10.png\n",
      "/data/vggface/test_perturbed_sampled/n003356/mean_vggface2/n002503/epsilon_0.5/png/30.png\n",
      "/data/vggface/test_perturbed_sampled/n009114/mean_vggface2/n002503/epsilon_0.5/png/9.png\n",
      "\n",
      "Closest 5 images to /data/vggface/test_query_antisampled/n001683/0015_03.jpg are /data/vggface/test_perturbed_sampled/n002763/mean_vggface2/n001683/epsilon_0.5/png/14.png\n",
      "/data/vggface/test_perturbed_sampled/n005427/mean_vggface2/n001683/epsilon_0.5/png/14.png\n",
      "/data/vggface/test_perturbed_sampled/n009288/mean_vggface2/n001683/epsilon_0.5/png/40.png\n",
      "/data/vggface/test_perturbed_sampled/n000958/mean_vggface2/n001683/epsilon_0.5/png/33.png\n",
      "/data/vggface/test_perturbed_sampled/n000958/mean_vggface2/n001683/epsilon_0.5/png/45.png\n",
      "\n",
      "Closest 5 images to /data/vggface/test_query_antisampled/n001683/0128_01.jpg are /data/vggface/test_perturbed_sampled/n000958/mean_vggface2/n001683/epsilon_0.5/png/45.png\n",
      "/data/vggface/test_perturbed_sampled/n002763/mean_vggface2/n001683/epsilon_0.5/png/14.png\n",
      "/data/vggface/test_perturbed_sampled/n000029/mean_vggface2/n001683/epsilon_0.5/png/14.png\n",
      "/data/vggface/test_perturbed_sampled/n002763/mean_vggface2/n001683/epsilon_0.5/png/40.png\n",
      "/data/vggface/test_perturbed_sampled/n005427/mean_vggface2/n001683/epsilon_0.5/png/14.png\n",
      "\n",
      "Closest 5 images to /data/vggface/test_query_antisampled/n001683/0050_01.jpg are /data/vggface/test_perturbed_sampled/n000958/mean_vggface2/n001683/epsilon_0.5/png/45.png\n",
      "/data/vggface/test_perturbed_sampled/n009288/mean_vggface2/n001683/epsilon_0.5/png/40.png\n",
      "/data/vggface/test_perturbed_sampled/n005303/mean_vggface2/n001683/epsilon_0.5/png/14.png\n",
      "/data/vggface/test_perturbed_sampled/n002763/mean_vggface2/n001683/epsilon_0.5/png/14.png\n",
      "/data/vggface/test_perturbed_sampled/n001781/mean_vggface2/n001683/epsilon_0.5/png/45.png\n",
      "\n",
      "Closest 5 images to /data/vggface/test_query_antisampled/n001683/0015_03.jpg are /data/vggface/test_perturbed_sampled/n002763/mean_vggface2/n001683/epsilon_0.5/png/14.png\n",
      "/data/vggface/test_perturbed_sampled/n005427/mean_vggface2/n001683/epsilon_0.5/png/14.png\n",
      "/data/vggface/test_perturbed_sampled/n009288/mean_vggface2/n001683/epsilon_0.5/png/40.png\n",
      "/data/vggface/test_perturbed_sampled/n000958/mean_vggface2/n001683/epsilon_0.5/png/33.png\n",
      "/data/vggface/test_perturbed_sampled/n000958/mean_vggface2/n001683/epsilon_0.5/png/45.png\n",
      "\n"
     ]
    },
    {
     "name": "stdout",
     "output_type": "stream",
     "text": [
      "Closest 5 images to /data/vggface/test_query_antisampled/n001683/0220_01.jpg are /data/vggface/test_perturbed_sampled/n009114/mean_vggface2/n003215/epsilon_0.5/png/20.png\n",
      "/data/vggface/test_perturbed_sampled/n001683/mean_vggface2/n003215/epsilon_0.5/png/9.png\n",
      "/data/vggface/test_perturbed_sampled/n003215/community_naive_mean/n001781/epsilon_0.0/png/46.png\n",
      "/data/vggface/test_perturbed_sampled/n007548/mean_vggface2/n003215/epsilon_0.5/png/13.png\n",
      "/data/vggface/test_perturbed_sampled/n007548/mean_vggface2/n003215/epsilon_0.5/png/20.png\n",
      "\n",
      "Closest 5 images to /data/vggface/test_query_antisampled/n001683/0023_01.jpg are /data/vggface/test_perturbed_sampled/n001781/mean_vggface2/n001683/epsilon_0.5/png/33.png\n",
      "/data/vggface/test_perturbed_sampled/n005427/mean_vggface2/n001683/epsilon_0.5/png/40.png\n",
      "/data/vggface/test_perturbed_sampled/n002503/mean_vggface2/n001683/epsilon_0.5/png/14.png\n",
      "/data/vggface/test_perturbed_sampled/n005427/mean_vggface2/n001683/epsilon_0.5/png/14.png\n",
      "/data/vggface/test_perturbed_sampled/n000029/mean_vggface2/n001683/epsilon_0.5/png/14.png\n",
      "\n",
      "Closest 5 images to /data/vggface/test_query_antisampled/n001683/0030_01.jpg are /data/vggface/test_perturbed_sampled/n004658/mean_vggface2/n001683/epsilon_0.5/png/33.png\n",
      "/data/vggface/test_perturbed_sampled/n002503/mean_vggface2/n001683/epsilon_0.5/png/40.png\n",
      "/data/vggface/test_perturbed_sampled/n004658/mean_vggface2/n001683/epsilon_0.5/png/45.png\n",
      "/data/vggface/test_perturbed_sampled/n002763/mean_vggface2/n001683/epsilon_0.5/png/40.png\n",
      "/data/vggface/test_perturbed_sampled/n000029/mean_vggface2/n001683/epsilon_0.5/png/14.png\n",
      "\n",
      "Closest 5 images to /data/vggface/test_query_antisampled/n001683/0130_03.jpg are /data/vggface/test_perturbed_sampled/n005303/mean_vggface2/n001683/epsilon_0.5/png/40.png\n",
      "/data/vggface/test_perturbed_sampled/n005303/mean_vggface2/n001683/epsilon_0.5/png/14.png\n",
      "/data/vggface/test_perturbed_sampled/n000958/mean_vggface2/n001683/epsilon_0.5/png/45.png\n",
      "/data/vggface/test_perturbed_sampled/n000029/mean_vggface2/n001683/epsilon_0.5/png/14.png\n",
      "/data/vggface/test_perturbed_sampled/n002763/mean_vggface2/n001683/epsilon_0.5/png/14.png\n",
      "\n",
      "Closest 5 images to /data/vggface/test_query_antisampled/n001683/0686_01.jpg are /data/vggface/test_perturbed_sampled/n009114/mean_vggface2/n001683/epsilon_0.5/png/14.png\n",
      "/data/vggface/test_perturbed_sampled/n002763/mean_vggface2/n003215/epsilon_0.5/png/49.png\n",
      "/data/vggface/test_perturbed_sampled/n000029/community_naive_mean/n001781/epsilon_0.0/png/46.png\n",
      "/data/vggface/test_perturbed_sampled/n009114/mean_vggface2/n008613/epsilon_0.5/png/32.png\n",
      "/data/vggface/test_perturbed_sampled/n001781/mean_vggface2/n003215/epsilon_0.5/png/9.png\n",
      "\n",
      "Closest 5 images to /data/vggface/test_query_antisampled/n001683/0165_01.jpg are /data/vggface/test_perturbed_sampled/n009288/mean_vggface2/n001683/epsilon_0.5/png/14.png\n",
      "/data/vggface/test_perturbed_sampled/n009288/mean_vggface2/n001683/epsilon_0.5/png/40.png\n",
      "/data/vggface/test_perturbed_sampled/n007548/mean_vggface2/n001683/epsilon_0.5/png/40.png\n",
      "/data/vggface/test_perturbed_sampled/n004658/mean_vggface2/n001683/epsilon_0.5/png/33.png\n",
      "/data/vggface/test_perturbed_sampled/n005359/mean_vggface2/n001683/epsilon_0.5/png/14.png\n",
      "\n",
      "Closest 5 images to /data/vggface/test_query_antisampled/n002647/0353_02.jpg are /data/vggface/test_perturbed_sampled/n001683/mean_vggface2/n002647/epsilon_0.5/png/40.png\n",
      "/data/vggface/test_perturbed_sampled/n002763/mean_vggface2/n002647/epsilon_0.5/png/11.png\n",
      "/data/vggface/test_perturbed_sampled/n008613/mean_vggface2/n002647/epsilon_0.5/png/40.png\n",
      "/data/vggface/test_perturbed_sampled/n008613/mean_vggface2/n002647/epsilon_0.5/png/14.png\n",
      "/data/vggface/test_perturbed_sampled/n005427/mean_vggface2/n002647/epsilon_0.5/png/23.png\n",
      "\n",
      "Closest 5 images to /data/vggface/test_query_antisampled/n002647/0024_02.jpg are /data/vggface/test_perturbed_sampled/n001781/mean_vggface2/n002647/epsilon_0.5/png/14.png\n",
      "/data/vggface/test_perturbed_sampled/n009232/mean_vggface2/n002647/epsilon_0.5/png/14.png\n",
      "/data/vggface/test_perturbed_sampled/n004658/mean_vggface2/n002647/epsilon_0.5/png/14.png\n",
      "/data/vggface/test_perturbed_sampled/n002503/mean_vggface2/n002647/epsilon_0.5/png/23.png\n",
      "/data/vggface/test_perturbed_sampled/n005303/mean_vggface2/n002647/epsilon_0.5/png/11.png\n",
      "\n",
      "Closest 5 images to /data/vggface/test_query_antisampled/n002647/0353_02.jpg are /data/vggface/test_perturbed_sampled/n001683/mean_vggface2/n002647/epsilon_0.5/png/40.png\n",
      "/data/vggface/test_perturbed_sampled/n002763/mean_vggface2/n002647/epsilon_0.5/png/11.png\n",
      "/data/vggface/test_perturbed_sampled/n008613/mean_vggface2/n002647/epsilon_0.5/png/40.png\n",
      "/data/vggface/test_perturbed_sampled/n008613/mean_vggface2/n002647/epsilon_0.5/png/14.png\n",
      "/data/vggface/test_perturbed_sampled/n005427/mean_vggface2/n002647/epsilon_0.5/png/23.png\n",
      "\n",
      "Closest 5 images to /data/vggface/test_query_antisampled/n002647/0024_02.jpg are /data/vggface/test_perturbed_sampled/n001781/mean_vggface2/n002647/epsilon_0.5/png/14.png\n",
      "/data/vggface/test_perturbed_sampled/n009232/mean_vggface2/n002647/epsilon_0.5/png/14.png\n",
      "/data/vggface/test_perturbed_sampled/n004658/mean_vggface2/n002647/epsilon_0.5/png/14.png\n",
      "/data/vggface/test_perturbed_sampled/n002503/mean_vggface2/n002647/epsilon_0.5/png/23.png\n",
      "/data/vggface/test_perturbed_sampled/n005303/mean_vggface2/n002647/epsilon_0.5/png/11.png\n",
      "\n",
      "Closest 5 images to /data/vggface/test_query_antisampled/n002647/0042_02.jpg are /data/vggface/test_perturbed_sampled/n004658/mean_vggface2/n002647/epsilon_0.5/png/14.png\n",
      "/data/vggface/test_perturbed_sampled/n003356/mean_vggface2/n002647/epsilon_0.5/png/40.png\n",
      "/data/vggface/test_perturbed_sampled/n004658/mean_vggface2/n002647/epsilon_0.5/png/40.png\n",
      "/data/vggface/test_perturbed_sampled/n001781/mean_vggface2/n002647/epsilon_0.5/png/14.png\n",
      "/data/vggface/test_perturbed_sampled/n003215/mean_vggface2/n002647/epsilon_0.5/png/23.png\n",
      "\n",
      "Closest 5 images to /data/vggface/test_query_antisampled/n002647/0289_01.jpg are /data/vggface/test_perturbed_sampled/n005359/mean_vggface2/n009288/epsilon_0.5/png/4.png\n",
      "/data/vggface/test_perturbed_sampled/n001683/mean_vggface2/n002647/epsilon_0.5/png/40.png\n",
      "/data/vggface/test_perturbed_sampled/n007548/mean_vggface2/n002647/epsilon_0.5/png/23.png\n",
      "/data/vggface/test_perturbed_sampled/n000958/mean_vggface2/n009288/epsilon_0.5/png/11.png\n",
      "/data/vggface/test_perturbed_sampled/n001781/mean_vggface2/n002647/epsilon_0.5/png/14.png\n",
      "\n",
      "Closest 5 images to /data/vggface/test_query_antisampled/n002647/0297_01.jpg are /data/vggface/test_perturbed_sampled/n009232/mean_vggface2/n002647/epsilon_0.5/png/14.png\n",
      "/data/vggface/test_perturbed_sampled/n001781/mean_vggface2/n002647/epsilon_0.5/png/14.png\n",
      "/data/vggface/test_perturbed_sampled/n004658/mean_vggface2/n002647/epsilon_0.5/png/14.png\n",
      "/data/vggface/test_perturbed_sampled/n005303/mean_vggface2/n002647/epsilon_0.5/png/11.png\n",
      "/data/vggface/test_perturbed_sampled/n002503/mean_vggface2/n002647/epsilon_0.5/png/11.png\n",
      "\n",
      "Closest 5 images to /data/vggface/test_query_antisampled/n002647/0289_01.jpg are /data/vggface/test_perturbed_sampled/n005359/mean_vggface2/n009288/epsilon_0.5/png/4.png\n",
      "/data/vggface/test_perturbed_sampled/n001683/mean_vggface2/n002647/epsilon_0.5/png/40.png\n",
      "/data/vggface/test_perturbed_sampled/n007548/mean_vggface2/n002647/epsilon_0.5/png/23.png\n",
      "/data/vggface/test_perturbed_sampled/n000958/mean_vggface2/n009288/epsilon_0.5/png/11.png\n",
      "/data/vggface/test_perturbed_sampled/n001781/mean_vggface2/n002647/epsilon_0.5/png/14.png\n",
      "\n",
      "Closest 5 images to /data/vggface/test_query_antisampled/n002647/0264_04.jpg are /data/vggface/test_perturbed_sampled/n008655/mean_vggface2/n002647/epsilon_0.5/png/40.png\n",
      "/data/vggface/test_perturbed_sampled/n009114/mean_vggface2/n002647/epsilon_0.5/png/11.png\n",
      "/data/vggface/test_perturbed_sampled/n004658/mean_vggface2/n002647/epsilon_0.5/png/40.png\n",
      "/data/vggface/test_perturbed_sampled/n009288/mean_vggface2/n002647/epsilon_0.5/png/23.png\n",
      "/data/vggface/test_perturbed_sampled/n001781/mean_vggface2/n002647/epsilon_0.5/png/14.png\n",
      "\n",
      "Closest 5 images to /data/vggface/test_query_antisampled/n002647/0024_02.jpg are /data/vggface/test_perturbed_sampled/n001781/mean_vggface2/n002647/epsilon_0.5/png/14.png\n",
      "/data/vggface/test_perturbed_sampled/n009232/mean_vggface2/n002647/epsilon_0.5/png/14.png\n",
      "/data/vggface/test_perturbed_sampled/n004658/mean_vggface2/n002647/epsilon_0.5/png/14.png\n",
      "/data/vggface/test_perturbed_sampled/n002503/mean_vggface2/n002647/epsilon_0.5/png/23.png\n",
      "/data/vggface/test_perturbed_sampled/n005303/mean_vggface2/n002647/epsilon_0.5/png/11.png\n",
      "\n"
     ]
    },
    {
     "name": "stdout",
     "output_type": "stream",
     "text": [
      "Closest 5 images to /data/vggface/test_query_antisampled/n009288/0046_02.jpg are /data/vggface/test_perturbed_sampled/n005359/mean_vggface2/n009288/epsilon_0.5/png/4.png\n",
      "/data/vggface/test_perturbed_sampled/n007548/mean_vggface2/n009288/epsilon_0.5/png/1.png\n",
      "/data/vggface/test_perturbed_sampled/n000029/mean_vggface2/n009288/epsilon_0.5/png/4.png\n",
      "/data/vggface/test_perturbed_sampled/n008655/mean_vggface2/n009288/epsilon_0.5/png/23.png\n",
      "/data/vggface/test_perturbed_sampled/n002647/community_naive_mean/n001781/epsilon_0.0/png/46.png\n",
      "\n",
      "Closest 5 images to /data/vggface/test_query_antisampled/n009288/0153_02.jpg are /data/vggface/test_perturbed_sampled/n008655/mean_vggface2/n009288/epsilon_0.5/png/23.png\n",
      "/data/vggface/test_perturbed_sampled/n005359/mean_vggface2/n009288/epsilon_0.5/png/4.png\n",
      "/data/vggface/test_perturbed_sampled/n002763/mean_vggface2/n009288/epsilon_0.5/png/1.png\n",
      "/data/vggface/test_perturbed_sampled/n005427/mean_vggface2/n003215/epsilon_0.5/png/49.png\n",
      "/data/vggface/test_perturbed_sampled/n002503/mean_vggface2/n002647/epsilon_0.5/png/23.png\n",
      "\n",
      "Closest 5 images to /data/vggface/test_query_antisampled/n009288/0143_01.jpg are /data/vggface/test_perturbed_sampled/n004658/mean_vggface2/n009288/epsilon_0.5/png/11.png\n",
      "/data/vggface/test_perturbed_sampled/n009232/mean_vggface2/n009288/epsilon_0.5/png/11.png\n",
      "/data/vggface/test_perturbed_sampled/n008655/mean_vggface2/n009288/epsilon_0.5/png/23.png\n",
      "/data/vggface/test_perturbed_sampled/n000029/mean_vggface2/n009288/epsilon_0.5/png/1.png\n",
      "/data/vggface/test_perturbed_sampled/n001781/mean_vggface2/n009288/epsilon_0.5/png/11.png\n",
      "\n",
      "Closest 5 images to /data/vggface/test_query_antisampled/n009288/0319_01.jpg are /data/vggface/test_perturbed_sampled/n003215/mean_vggface2/n009288/epsilon_0.5/png/4.png\n",
      "/data/vggface/test_perturbed_sampled/n001781/mean_vggface2/n009288/epsilon_0.5/png/23.png\n",
      "/data/vggface/test_perturbed_sampled/n002763/mean_vggface2/n002647/epsilon_0.5/png/23.png\n",
      "/data/vggface/test_perturbed_sampled/n005427/mean_vggface2/n009288/epsilon_0.5/png/4.png\n",
      "/data/vggface/test_perturbed_sampled/n000029/mean_vggface2/n002647/epsilon_0.5/png/23.png\n",
      "\n",
      "Closest 5 images to /data/vggface/test_query_antisampled/n009288/0222_01.jpg are /data/vggface/test_perturbed_sampled/n002647/community_naive_mean/n001781/epsilon_0.0/png/46.png\n",
      "/data/vggface/test_perturbed_sampled/n005303/mean_vggface2/n004658/epsilon_0.5/png/33.png\n",
      "/data/vggface/test_perturbed_sampled/n002647/mean_vggface2/n004658/epsilon_0.5/png/45.png\n",
      "/data/vggface/test_perturbed_sampled/n004658/mean_vggface2/n005303/epsilon_0.5/png/31.png\n",
      "/data/vggface/test_perturbed_sampled/n009114/mean_vggface2/n004658/epsilon_0.5/png/45.png\n",
      "\n",
      "Closest 5 images to /data/vggface/test_query_antisampled/n009288/0060_01.jpg are /data/vggface/test_perturbed_sampled/n008655/mean_vggface2/n009288/epsilon_0.5/png/23.png\n",
      "/data/vggface/test_perturbed_sampled/n002763/mean_vggface2/n009288/epsilon_0.5/png/1.png\n",
      "/data/vggface/test_perturbed_sampled/n000958/mean_vggface2/n009288/epsilon_0.5/png/23.png\n",
      "/data/vggface/test_perturbed_sampled/n005359/mean_vggface2/n009288/epsilon_0.5/png/4.png\n",
      "/data/vggface/test_perturbed_sampled/n003356/mean_vggface2/n008613/epsilon_0.5/png/35.png\n",
      "\n",
      "Closest 5 images to /data/vggface/test_query_antisampled/n009288/0156_02.jpg are /data/vggface/test_perturbed_sampled/n009288/community_naive_mean/n001781/epsilon_0.0/png/46.png\n",
      "/data/vggface/test_perturbed_sampled/n005359/mean_vggface2/n009288/epsilon_0.5/png/4.png\n",
      "/data/vggface/test_perturbed_sampled/n005359/mean_vggface2/n009288/epsilon_0.5/png/1.png\n",
      "/data/vggface/test_perturbed_sampled/n000029/mean_vggface2/n009288/epsilon_0.5/png/1.png\n",
      "/data/vggface/test_perturbed_sampled/n001781/mean_vggface2/n009288/epsilon_0.5/png/11.png\n",
      "\n",
      "Closest 5 images to /data/vggface/test_query_antisampled/n009288/0194_01.jpg are /data/vggface/test_perturbed_sampled/n003356/mean_vggface2/n009288/epsilon_0.5/png/23.png\n",
      "/data/vggface/test_perturbed_sampled/n003215/mean_vggface2/n009288/epsilon_0.5/png/1.png\n",
      "/data/vggface/test_perturbed_sampled/n008655/mean_vggface2/n009288/epsilon_0.5/png/23.png\n",
      "/data/vggface/test_perturbed_sampled/n002763/mean_vggface2/n009288/epsilon_0.5/png/4.png\n",
      "/data/vggface/test_perturbed_sampled/n009114/mean_vggface2/n009288/epsilon_0.5/png/1.png\n",
      "\n",
      "Closest 5 images to /data/vggface/test_query_antisampled/n009288/0183_01.jpg are /data/vggface/test_perturbed_sampled/n001781/mean_vggface2/n009288/epsilon_0.5/png/11.png\n",
      "/data/vggface/test_perturbed_sampled/n000029/mean_vggface2/n009288/epsilon_0.5/png/1.png\n",
      "/data/vggface/test_perturbed_sampled/n005359/mean_vggface2/n009288/epsilon_0.5/png/4.png\n",
      "/data/vggface/test_perturbed_sampled/n009288/community_naive_mean/n001781/epsilon_0.0/png/46.png\n",
      "/data/vggface/test_perturbed_sampled/n005359/mean_vggface2/n009288/epsilon_0.5/png/1.png\n",
      "\n",
      "Closest 5 images to /data/vggface/test_query_antisampled/n009288/0077_02.jpg are /data/vggface/test_perturbed_sampled/n009288/community_naive_mean/n001781/epsilon_0.0/png/46.png\n",
      "/data/vggface/test_perturbed_sampled/n005359/mean_vggface2/n009288/epsilon_0.5/png/4.png\n",
      "/data/vggface/test_perturbed_sampled/n002763/mean_vggface2/n009288/epsilon_0.5/png/1.png\n",
      "/data/vggface/test_perturbed_sampled/n000958/mean_vggface2/n009288/epsilon_0.5/png/23.png\n",
      "/data/vggface/test_perturbed_sampled/n000029/mean_vggface2/n009288/epsilon_0.5/png/4.png\n",
      "\n",
      "Closest 5 images to /data/vggface/test_query_antisampled/n005427/0130_01.jpg are /data/vggface/test_perturbed_sampled/n005359/mean_vggface2/n005427/epsilon_0.5/png/5.png\n",
      "/data/vggface/test_perturbed_sampled/n001683/mean_vggface2/n005427/epsilon_0.5/png/1.png\n",
      "/data/vggface/test_perturbed_sampled/n007548/mean_vggface2/n005427/epsilon_0.5/png/5.png\n",
      "/data/vggface/test_perturbed_sampled/n008613/mean_vggface2/n005427/epsilon_0.5/png/1.png\n",
      "/data/vggface/test_perturbed_sampled/n002763/mean_vggface2/n005427/epsilon_0.5/png/2.png\n",
      "\n",
      "Closest 5 images to /data/vggface/test_query_antisampled/n005427/0110_01.jpg are /data/vggface/test_perturbed_sampled/n000029/mean_vggface2/n005427/epsilon_0.5/png/2.png\n",
      "/data/vggface/test_perturbed_sampled/n009288/mean_vggface2/n005427/epsilon_0.5/png/1.png\n",
      "/data/vggface/test_perturbed_sampled/n009232/mean_vggface2/n005427/epsilon_0.5/png/1.png\n",
      "/data/vggface/test_perturbed_sampled/n005303/mean_vggface2/n001683/epsilon_0.5/png/40.png\n",
      "/data/vggface/test_perturbed_sampled/n002503/mean_vggface2/n005427/epsilon_0.5/png/2.png\n",
      "\n",
      "Closest 5 images to /data/vggface/test_query_antisampled/n005427/0110_01.jpg are /data/vggface/test_perturbed_sampled/n000029/mean_vggface2/n005427/epsilon_0.5/png/2.png\n",
      "/data/vggface/test_perturbed_sampled/n009288/mean_vggface2/n005427/epsilon_0.5/png/1.png\n",
      "/data/vggface/test_perturbed_sampled/n009232/mean_vggface2/n005427/epsilon_0.5/png/1.png\n",
      "/data/vggface/test_perturbed_sampled/n005303/mean_vggface2/n001683/epsilon_0.5/png/40.png\n",
      "/data/vggface/test_perturbed_sampled/n002503/mean_vggface2/n005427/epsilon_0.5/png/2.png\n",
      "\n",
      "Closest 5 images to /data/vggface/test_query_antisampled/n005427/0143_01.jpg are /data/vggface/test_perturbed_sampled/n001683/mean_vggface2/n005427/epsilon_0.5/png/1.png\n",
      "/data/vggface/test_perturbed_sampled/n007548/mean_vggface2/n005427/epsilon_0.5/png/5.png\n",
      "/data/vggface/test_perturbed_sampled/n002763/mean_vggface2/n005427/epsilon_0.5/png/5.png\n",
      "/data/vggface/test_perturbed_sampled/n000029/mean_vggface2/n005427/epsilon_0.5/png/5.png\n",
      "/data/vggface/test_perturbed_sampled/n008613/mean_vggface2/n005427/epsilon_0.5/png/1.png\n",
      "\n",
      "Closest 5 images to /data/vggface/test_query_antisampled/n005427/0020_01.jpg are /data/vggface/test_perturbed_sampled/n000029/mean_vggface2/n005427/epsilon_0.5/png/2.png\n",
      "/data/vggface/test_perturbed_sampled/n002763/mean_vggface2/n005427/epsilon_0.5/png/5.png\n",
      "/data/vggface/test_perturbed_sampled/n009288/mean_vggface2/n005427/epsilon_0.5/png/4.png\n",
      "/data/vggface/test_perturbed_sampled/n009232/mean_vggface2/n005427/epsilon_0.5/png/1.png\n",
      "/data/vggface/test_perturbed_sampled/n000029/mean_vggface2/n005427/epsilon_0.5/png/5.png\n",
      "\n",
      "Closest 5 images to /data/vggface/test_query_antisampled/n005427/0056_01.jpg are /data/vggface/test_perturbed_sampled/n001781/mean_vggface2/n005427/epsilon_0.5/png/1.png\n",
      "/data/vggface/test_perturbed_sampled/n002647/mean_vggface2/n005427/epsilon_0.5/png/1.png\n",
      "/data/vggface/test_perturbed_sampled/n007548/mean_vggface2/n005427/epsilon_0.5/png/5.png\n",
      "/data/vggface/test_perturbed_sampled/n009114/mean_vggface2/n005427/epsilon_0.5/png/2.png\n",
      "/data/vggface/test_perturbed_sampled/n009288/mean_vggface2/n005427/epsilon_0.5/png/4.png\n",
      "\n",
      "Closest 5 images to /data/vggface/test_query_antisampled/n005427/0093_01.jpg are /data/vggface/test_perturbed_sampled/n008613/mean_vggface2/n005427/epsilon_0.5/png/1.png\n",
      "/data/vggface/test_perturbed_sampled/n002647/mean_vggface2/n005427/epsilon_0.5/png/4.png\n",
      "/data/vggface/test_perturbed_sampled/n009232/mean_vggface2/n005427/epsilon_0.5/png/1.png\n",
      "/data/vggface/test_perturbed_sampled/n001781/mean_vggface2/n005427/epsilon_0.5/png/1.png\n",
      "/data/vggface/test_perturbed_sampled/n009114/mean_vggface2/n005427/epsilon_0.5/png/2.png\n",
      "\n",
      "Closest 5 images to /data/vggface/test_query_antisampled/n005427/0056_01.jpg are /data/vggface/test_perturbed_sampled/n001781/mean_vggface2/n005427/epsilon_0.5/png/1.png\n",
      "/data/vggface/test_perturbed_sampled/n002647/mean_vggface2/n005427/epsilon_0.5/png/1.png\n",
      "/data/vggface/test_perturbed_sampled/n007548/mean_vggface2/n005427/epsilon_0.5/png/5.png\n",
      "/data/vggface/test_perturbed_sampled/n009114/mean_vggface2/n005427/epsilon_0.5/png/2.png\n",
      "/data/vggface/test_perturbed_sampled/n009288/mean_vggface2/n005427/epsilon_0.5/png/4.png\n",
      "\n",
      "Closest 5 images to /data/vggface/test_query_antisampled/n005427/0026_02.jpg are /data/vggface/test_perturbed_sampled/n009232/mean_vggface2/n005427/epsilon_0.5/png/1.png\n",
      "/data/vggface/test_perturbed_sampled/n002763/mean_vggface2/n005427/epsilon_0.5/png/5.png\n",
      "/data/vggface/test_perturbed_sampled/n009288/mean_vggface2/n005427/epsilon_0.5/png/1.png\n",
      "/data/vggface/test_perturbed_sampled/n002763/mean_vggface2/n005427/epsilon_0.5/png/2.png\n",
      "/data/vggface/test_perturbed_sampled/n008655/mean_vggface2/n005427/epsilon_0.5/png/4.png\n",
      "\n",
      "Closest 5 images to /data/vggface/test_query_antisampled/n005427/0020_01.jpg are /data/vggface/test_perturbed_sampled/n000029/mean_vggface2/n005427/epsilon_0.5/png/2.png\n",
      "/data/vggface/test_perturbed_sampled/n002763/mean_vggface2/n005427/epsilon_0.5/png/5.png\n",
      "/data/vggface/test_perturbed_sampled/n009288/mean_vggface2/n005427/epsilon_0.5/png/4.png\n",
      "/data/vggface/test_perturbed_sampled/n009232/mean_vggface2/n005427/epsilon_0.5/png/1.png\n",
      "/data/vggface/test_perturbed_sampled/n000029/mean_vggface2/n005427/epsilon_0.5/png/5.png\n",
      "\n"
     ]
    },
    {
     "name": "stdout",
     "output_type": "stream",
     "text": [
      "Closest 5 images to /data/vggface/test_query_antisampled/n002763/0066_01.jpg are /data/vggface/test_perturbed_sampled/n007548/mean_vggface2/n002763/epsilon_0.5/png/30.png\n",
      "/data/vggface/test_perturbed_sampled/n002503/mean_vggface2/n002763/epsilon_0.5/png/10.png\n",
      "/data/vggface/test_perturbed_sampled/n002647/mean_vggface2/n002763/epsilon_0.5/png/5.png\n",
      "/data/vggface/test_perturbed_sampled/n005359/mean_vggface2/n002763/epsilon_0.5/png/10.png\n",
      "/data/vggface/test_perturbed_sampled/n001781/mean_vggface2/n002763/epsilon_0.5/png/5.png\n",
      "\n",
      "Closest 5 images to /data/vggface/test_query_antisampled/n002763/0187_01.jpg are /data/vggface/test_perturbed_sampled/n002647/mean_vggface2/n002763/epsilon_0.5/png/5.png\n",
      "/data/vggface/test_perturbed_sampled/n005359/mean_vggface2/n002763/epsilon_0.5/png/30.png\n",
      "/data/vggface/test_perturbed_sampled/n007548/mean_vggface2/n002763/epsilon_0.5/png/30.png\n",
      "/data/vggface/test_perturbed_sampled/n008655/mean_vggface2/n002763/epsilon_0.5/png/5.png\n",
      "/data/vggface/test_perturbed_sampled/n003356/mean_vggface2/n002763/epsilon_0.5/png/5.png\n",
      "\n",
      "Closest 5 images to /data/vggface/test_query_antisampled/n002763/0140_01.jpg are /data/vggface/test_perturbed_sampled/n008655/mean_vggface2/n002763/epsilon_0.5/png/5.png\n",
      "/data/vggface/test_perturbed_sampled/n007548/mean_vggface2/n002763/epsilon_0.5/png/10.png\n",
      "/data/vggface/test_perturbed_sampled/n003215/mean_vggface2/n002763/epsilon_0.5/png/30.png\n",
      "/data/vggface/test_perturbed_sampled/n008655/mean_vggface2/n002763/epsilon_0.5/png/2.png\n",
      "/data/vggface/test_perturbed_sampled/n008613/mean_vggface2/n002763/epsilon_0.5/png/2.png\n",
      "\n",
      "Closest 5 images to /data/vggface/test_query_antisampled/n002763/0333_04.jpg are /data/vggface/test_perturbed_sampled/n008655/mean_vggface2/n002763/epsilon_0.5/png/5.png\n",
      "/data/vggface/test_perturbed_sampled/n003215/mean_vggface2/n002763/epsilon_0.5/png/30.png\n",
      "/data/vggface/test_perturbed_sampled/n005427/mean_vggface2/n002763/epsilon_0.5/png/5.png\n",
      "/data/vggface/test_perturbed_sampled/n008655/mean_vggface2/n002763/epsilon_0.5/png/2.png\n",
      "/data/vggface/test_perturbed_sampled/n005303/mean_vggface2/n002763/epsilon_0.5/png/30.png\n",
      "\n",
      "Closest 5 images to /data/vggface/test_query_antisampled/n002763/0130_01.jpg are /data/vggface/test_perturbed_sampled/n005427/mean_vggface2/n002763/epsilon_0.5/png/5.png\n",
      "/data/vggface/test_perturbed_sampled/n002647/mean_vggface2/n002763/epsilon_0.5/png/5.png\n",
      "/data/vggface/test_perturbed_sampled/n003215/mean_vggface2/n002763/epsilon_0.5/png/10.png\n",
      "/data/vggface/test_perturbed_sampled/n003215/mean_vggface2/n002763/epsilon_0.5/png/30.png\n",
      "/data/vggface/test_perturbed_sampled/n005427/mean_vggface2/n002763/epsilon_0.5/png/2.png\n",
      "\n",
      "Closest 5 images to /data/vggface/test_query_antisampled/n002763/0316_01.jpg are /data/vggface/test_perturbed_sampled/n002763/community_naive_mean/n001781/epsilon_0.0/png/46.png\n",
      "/data/vggface/test_perturbed_sampled/n001781/mean_vggface2/n002763/epsilon_0.5/png/5.png\n",
      "/data/vggface/test_perturbed_sampled/n003215/mean_vggface2/n002763/epsilon_0.5/png/30.png\n",
      "/data/vggface/test_perturbed_sampled/n005359/mean_vggface2/n002763/epsilon_0.5/png/30.png\n",
      "/data/vggface/test_perturbed_sampled/n001781/mean_vggface2/n002763/epsilon_0.5/png/2.png\n",
      "\n",
      "Closest 5 images to /data/vggface/test_query_antisampled/n002763/0358_03.jpg are /data/vggface/test_perturbed_sampled/n007548/mean_vggface2/n002763/epsilon_0.5/png/10.png\n",
      "/data/vggface/test_perturbed_sampled/n005303/mean_vggface2/n001781/epsilon_0.5/png/27.png\n",
      "/data/vggface/test_perturbed_sampled/n001683/community_naive_mean/n001781/epsilon_0.0/png/46.png\n",
      "/data/vggface/test_perturbed_sampled/n007548/mean_vggface2/n002763/epsilon_0.5/png/30.png\n",
      "/data/vggface/test_perturbed_sampled/n000958/mean_vggface2/n001781/epsilon_0.5/png/22.png\n",
      "\n",
      "Closest 5 images to /data/vggface/test_query_antisampled/n002763/0461_01.jpg are /data/vggface/test_perturbed_sampled/n002763/mean_vggface2/n002647/epsilon_0.5/png/23.png\n",
      "/data/vggface/test_perturbed_sampled/n005359/mean_vggface2/n002647/epsilon_0.5/png/23.png\n",
      "/data/vggface/test_perturbed_sampled/n002763/mean_vggface2/n000958/epsilon_0.5/png/3.png\n",
      "/data/vggface/test_perturbed_sampled/n000029/community_naive_mean/n001781/epsilon_0.0/png/46.png\n",
      "/data/vggface/test_perturbed_sampled/n008613/mean_vggface2/n002647/epsilon_0.5/png/14.png\n",
      "\n",
      "Closest 5 images to /data/vggface/test_query_antisampled/n002763/0348_01.jpg are /data/vggface/test_perturbed_sampled/n002763/community_naive_mean/n001781/epsilon_0.0/png/46.png\n",
      "/data/vggface/test_perturbed_sampled/n003215/community_naive_mean/n001781/epsilon_0.0/png/46.png\n",
      "/data/vggface/test_perturbed_sampled/n000029/mean_vggface2/n001683/epsilon_0.5/png/40.png\n",
      "/data/vggface/test_perturbed_sampled/n008655/community_naive_mean/n001781/epsilon_0.0/png/46.png\n",
      "/data/vggface/test_perturbed_sampled/n008613/mean_vggface2/n001781/epsilon_0.5/png/22.png\n",
      "\n",
      "Closest 5 images to /data/vggface/test_query_antisampled/n002763/0147_01.jpg are /data/vggface/test_perturbed_sampled/n007548/mean_vggface2/n002763/epsilon_0.5/png/30.png\n",
      "/data/vggface/test_perturbed_sampled/n008655/mean_vggface2/n002763/epsilon_0.5/png/5.png\n",
      "/data/vggface/test_perturbed_sampled/n005303/mean_vggface2/n002763/epsilon_0.5/png/30.png\n",
      "/data/vggface/test_perturbed_sampled/n009288/mean_vggface2/n002763/epsilon_0.5/png/5.png\n",
      "/data/vggface/test_perturbed_sampled/n007548/mean_vggface2/n002763/epsilon_0.5/png/10.png\n",
      "\n",
      "Closest 5 images to /data/vggface/test_query_antisampled/n002503/0065_01.jpg are /data/vggface/test_perturbed_sampled/n008655/mean_vggface2/n002503/epsilon_0.5/png/30.png\n",
      "/data/vggface/test_perturbed_sampled/n005359/mean_vggface2/n002503/epsilon_0.5/png/49.png\n",
      "/data/vggface/test_perturbed_sampled/n008613/mean_vggface2/n002503/epsilon_0.5/png/10.png\n",
      "/data/vggface/test_perturbed_sampled/n003215/mean_vggface2/n002503/epsilon_0.5/png/9.png\n",
      "/data/vggface/test_perturbed_sampled/n005303/mean_vggface2/n002503/epsilon_0.5/png/9.png\n",
      "\n",
      "Closest 5 images to /data/vggface/test_query_antisampled/n002503/0349_01.jpg are /data/vggface/test_perturbed_sampled/n002647/mean_vggface2/n004658/epsilon_0.5/png/33.png\n",
      "/data/vggface/test_perturbed_sampled/n003215/community_naive_mean/n001781/epsilon_0.0/png/39.png\n",
      "/data/vggface/test_perturbed_sampled/n008613/mean_vggface2/n002503/epsilon_0.5/png/10.png\n",
      "/data/vggface/test_perturbed_sampled/n003215/mean_vggface2/n004658/epsilon_0.5/png/45.png\n",
      "/data/vggface/test_perturbed_sampled/n008613/mean_vggface2/n004658/epsilon_0.5/png/32.png\n",
      "\n",
      "Closest 5 images to /data/vggface/test_query_antisampled/n002503/0133_01.jpg are /data/vggface/test_perturbed_sampled/n009288/mean_vggface2/n002503/epsilon_0.5/png/10.png\n",
      "/data/vggface/test_perturbed_sampled/n008655/mean_vggface2/n002503/epsilon_0.5/png/30.png\n",
      "/data/vggface/test_perturbed_sampled/n008613/mean_vggface2/n002503/epsilon_0.5/png/30.png\n",
      "/data/vggface/test_perturbed_sampled/n004658/mean_vggface2/n002503/epsilon_0.5/png/30.png\n",
      "/data/vggface/test_perturbed_sampled/n001781/mean_vggface2/n002503/epsilon_0.5/png/30.png\n",
      "\n",
      "Closest 5 images to /data/vggface/test_query_antisampled/n002503/0399_01.jpg are /data/vggface/test_perturbed_sampled/n004658/mean_vggface2/n002503/epsilon_0.5/png/30.png\n",
      "/data/vggface/test_perturbed_sampled/n001781/mean_vggface2/n002503/epsilon_0.5/png/30.png\n",
      "/data/vggface/test_perturbed_sampled/n005359/mean_vggface2/n002503/epsilon_0.5/png/49.png\n",
      "/data/vggface/test_perturbed_sampled/n003215/mean_vggface2/n002503/epsilon_0.5/png/9.png\n",
      "/data/vggface/test_perturbed_sampled/n009288/mean_vggface2/n002503/epsilon_0.5/png/10.png\n",
      "\n",
      "Closest 5 images to /data/vggface/test_query_antisampled/n002503/0329_01.jpg are /data/vggface/test_perturbed_sampled/n002647/community_naive_mean/n001781/epsilon_0.0/png/46.png\n",
      "/data/vggface/test_perturbed_sampled/n001683/mean_vggface2/n001781/epsilon_0.5/png/22.png\n",
      "/data/vggface/test_perturbed_sampled/n005359/mean_vggface2/n001781/epsilon_0.5/png/22.png\n",
      "/data/vggface/test_perturbed_sampled/n005359/mean_vggface2/n001781/epsilon_0.5/png/27.png\n",
      "/data/vggface/test_perturbed_sampled/n002763/mean_vggface2/n001781/epsilon_0.5/png/22.png\n",
      "\n",
      "Closest 5 images to /data/vggface/test_query_antisampled/n002503/0065_01.jpg are /data/vggface/test_perturbed_sampled/n008655/mean_vggface2/n002503/epsilon_0.5/png/30.png\n",
      "/data/vggface/test_perturbed_sampled/n005359/mean_vggface2/n002503/epsilon_0.5/png/49.png\n",
      "/data/vggface/test_perturbed_sampled/n008613/mean_vggface2/n002503/epsilon_0.5/png/10.png\n",
      "/data/vggface/test_perturbed_sampled/n003215/mean_vggface2/n002503/epsilon_0.5/png/9.png\n",
      "/data/vggface/test_perturbed_sampled/n005303/mean_vggface2/n002503/epsilon_0.5/png/9.png\n",
      "\n",
      "Closest 5 images to /data/vggface/test_query_antisampled/n002503/0133_01.jpg are /data/vggface/test_perturbed_sampled/n009288/mean_vggface2/n002503/epsilon_0.5/png/10.png\n",
      "/data/vggface/test_perturbed_sampled/n008655/mean_vggface2/n002503/epsilon_0.5/png/30.png\n",
      "/data/vggface/test_perturbed_sampled/n008613/mean_vggface2/n002503/epsilon_0.5/png/30.png\n",
      "/data/vggface/test_perturbed_sampled/n004658/mean_vggface2/n002503/epsilon_0.5/png/30.png\n",
      "/data/vggface/test_perturbed_sampled/n001781/mean_vggface2/n002503/epsilon_0.5/png/30.png\n",
      "\n",
      "Closest 5 images to /data/vggface/test_query_antisampled/n002503/0133_01.jpg are /data/vggface/test_perturbed_sampled/n009288/mean_vggface2/n002503/epsilon_0.5/png/10.png\n",
      "/data/vggface/test_perturbed_sampled/n008655/mean_vggface2/n002503/epsilon_0.5/png/30.png\n",
      "/data/vggface/test_perturbed_sampled/n008613/mean_vggface2/n002503/epsilon_0.5/png/30.png\n",
      "/data/vggface/test_perturbed_sampled/n004658/mean_vggface2/n002503/epsilon_0.5/png/30.png\n",
      "/data/vggface/test_perturbed_sampled/n001781/mean_vggface2/n002503/epsilon_0.5/png/30.png\n",
      "\n"
     ]
    },
    {
     "name": "stdout",
     "output_type": "stream",
     "text": [
      "Closest 5 images to /data/vggface/test_query_antisampled/n002503/0205_01.jpg are /data/vggface/test_perturbed_sampled/n003356/mean_vggface2/n002503/epsilon_0.5/png/30.png\n",
      "/data/vggface/test_perturbed_sampled/n000029/mean_vggface2/n002503/epsilon_0.5/png/49.png\n",
      "/data/vggface/test_perturbed_sampled/n001781/mean_vggface2/n002503/epsilon_0.5/png/30.png\n",
      "/data/vggface/test_perturbed_sampled/n009288/mean_vggface2/n002503/epsilon_0.5/png/30.png\n",
      "/data/vggface/test_perturbed_sampled/n002647/mean_vggface2/n002503/epsilon_0.5/png/30.png\n",
      "\n",
      "Closest 5 images to /data/vggface/test_query_antisampled/n002503/0065_01.jpg are /data/vggface/test_perturbed_sampled/n008655/mean_vggface2/n002503/epsilon_0.5/png/30.png\n",
      "/data/vggface/test_perturbed_sampled/n005359/mean_vggface2/n002503/epsilon_0.5/png/49.png\n",
      "/data/vggface/test_perturbed_sampled/n008613/mean_vggface2/n002503/epsilon_0.5/png/10.png\n",
      "/data/vggface/test_perturbed_sampled/n003215/mean_vggface2/n002503/epsilon_0.5/png/9.png\n",
      "/data/vggface/test_perturbed_sampled/n005303/mean_vggface2/n002503/epsilon_0.5/png/9.png\n",
      "\n",
      "Closest 5 images to /data/vggface/test_query_antisampled/n003215/0154_01.jpg are /data/vggface/test_perturbed_sampled/n003215/community_naive_mean/n001781/epsilon_0.0/png/46.png\n",
      "/data/vggface/test_perturbed_sampled/n002647/mean_vggface2/n003215/epsilon_0.5/png/9.png\n",
      "/data/vggface/test_perturbed_sampled/n007548/mean_vggface2/n003215/epsilon_0.5/png/13.png\n",
      "/data/vggface/test_perturbed_sampled/n009114/mean_vggface2/n003215/epsilon_0.5/png/13.png\n",
      "/data/vggface/test_perturbed_sampled/n005359/mean_vggface2/n003215/epsilon_0.5/png/20.png\n",
      "\n",
      "Closest 5 images to /data/vggface/test_query_antisampled/n003215/0035_01.jpg are /data/vggface/test_perturbed_sampled/n003356/mean_vggface2/n003215/epsilon_0.5/png/49.png\n",
      "/data/vggface/test_perturbed_sampled/n004658/mean_vggface2/n003215/epsilon_0.5/png/49.png\n",
      "/data/vggface/test_perturbed_sampled/n009114/mean_vggface2/n003215/epsilon_0.5/png/13.png\n",
      "/data/vggface/test_perturbed_sampled/n001683/mean_vggface2/n003215/epsilon_0.5/png/9.png\n",
      "/data/vggface/test_perturbed_sampled/n001781/mean_vggface2/n003215/epsilon_0.5/png/9.png\n",
      "\n",
      "Closest 5 images to /data/vggface/test_query_antisampled/n003215/0066_01.jpg are /data/vggface/test_perturbed_sampled/n009232/mean_vggface2/n003215/epsilon_0.5/png/49.png\n",
      "/data/vggface/test_perturbed_sampled/n003356/mean_vggface2/n003215/epsilon_0.5/png/9.png\n",
      "/data/vggface/test_perturbed_sampled/n002763/mean_vggface2/n003215/epsilon_0.5/png/9.png\n",
      "/data/vggface/test_perturbed_sampled/n000958/mean_vggface2/n003215/epsilon_0.5/png/49.png\n",
      "/data/vggface/test_perturbed_sampled/n005359/mean_vggface2/n003215/epsilon_0.5/png/20.png\n",
      "\n",
      "Closest 5 images to /data/vggface/test_query_antisampled/n003215/0033_01.jpg are /data/vggface/test_perturbed_sampled/n009232/mean_vggface2/n003215/epsilon_0.5/png/9.png\n",
      "/data/vggface/test_perturbed_sampled/n001781/mean_vggface2/n003215/epsilon_0.5/png/9.png\n",
      "/data/vggface/test_perturbed_sampled/n005303/mean_vggface2/n003215/epsilon_0.5/png/13.png\n",
      "/data/vggface/test_perturbed_sampled/n009232/mean_vggface2/n003215/epsilon_0.5/png/49.png\n",
      "/data/vggface/test_perturbed_sampled/n002647/mean_vggface2/n003215/epsilon_0.5/png/9.png\n",
      "\n",
      "Closest 5 images to /data/vggface/test_query_antisampled/n003215/0035_01.jpg are /data/vggface/test_perturbed_sampled/n003356/mean_vggface2/n003215/epsilon_0.5/png/49.png\n",
      "/data/vggface/test_perturbed_sampled/n004658/mean_vggface2/n003215/epsilon_0.5/png/49.png\n",
      "/data/vggface/test_perturbed_sampled/n009114/mean_vggface2/n003215/epsilon_0.5/png/13.png\n",
      "/data/vggface/test_perturbed_sampled/n001683/mean_vggface2/n003215/epsilon_0.5/png/9.png\n",
      "/data/vggface/test_perturbed_sampled/n001781/mean_vggface2/n003215/epsilon_0.5/png/9.png\n",
      "\n",
      "Closest 5 images to /data/vggface/test_query_antisampled/n003215/0035_01.jpg are /data/vggface/test_perturbed_sampled/n003356/mean_vggface2/n003215/epsilon_0.5/png/49.png\n",
      "/data/vggface/test_perturbed_sampled/n004658/mean_vggface2/n003215/epsilon_0.5/png/49.png\n",
      "/data/vggface/test_perturbed_sampled/n009114/mean_vggface2/n003215/epsilon_0.5/png/13.png\n",
      "/data/vggface/test_perturbed_sampled/n001683/mean_vggface2/n003215/epsilon_0.5/png/9.png\n",
      "/data/vggface/test_perturbed_sampled/n001781/mean_vggface2/n003215/epsilon_0.5/png/9.png\n",
      "\n",
      "Closest 5 images to /data/vggface/test_query_antisampled/n003215/0038_03.jpg are /data/vggface/test_perturbed_sampled/n007548/mean_vggface2/n009232/epsilon_0.5/png/25.png\n",
      "/data/vggface/test_perturbed_sampled/n008655/mean_vggface2/n003215/epsilon_0.5/png/9.png\n",
      "/data/vggface/test_perturbed_sampled/n007548/mean_vggface2/n003215/epsilon_0.5/png/20.png\n",
      "/data/vggface/test_perturbed_sampled/n005427/mean_vggface2/n003215/epsilon_0.5/png/9.png\n",
      "/data/vggface/test_perturbed_sampled/n005427/mean_vggface2/n003215/epsilon_0.5/png/49.png\n",
      "\n",
      "Closest 5 images to /data/vggface/test_query_antisampled/n003215/0172_01.jpg are /data/vggface/test_perturbed_sampled/n009232/mean_vggface2/n003215/epsilon_0.5/png/49.png\n",
      "/data/vggface/test_perturbed_sampled/n005359/mean_vggface2/n003215/epsilon_0.5/png/13.png\n",
      "/data/vggface/test_perturbed_sampled/n007548/mean_vggface2/n003215/epsilon_0.5/png/20.png\n",
      "/data/vggface/test_perturbed_sampled/n008655/mean_vggface2/n003215/epsilon_0.5/png/9.png\n",
      "/data/vggface/test_perturbed_sampled/n000029/mean_vggface2/n003215/epsilon_0.5/png/13.png\n",
      "\n",
      "Closest 5 images to /data/vggface/test_query_antisampled/n003215/0371_03.jpg are /data/vggface/test_perturbed_sampled/n009232/mean_vggface2/n003215/epsilon_0.5/png/9.png\n",
      "/data/vggface/test_perturbed_sampled/n009232/mean_vggface2/n003215/epsilon_0.5/png/49.png\n",
      "/data/vggface/test_perturbed_sampled/n002763/mean_vggface2/n003215/epsilon_0.5/png/49.png\n",
      "/data/vggface/test_perturbed_sampled/n007548/mean_vggface2/n003215/epsilon_0.5/png/13.png\n",
      "/data/vggface/test_perturbed_sampled/n000958/mean_vggface2/n003215/epsilon_0.5/png/49.png\n",
      "\n",
      "Closest 5 images to /data/vggface/test_query_antisampled/n003215/0033_01.jpg are /data/vggface/test_perturbed_sampled/n009232/mean_vggface2/n003215/epsilon_0.5/png/9.png\n",
      "/data/vggface/test_perturbed_sampled/n001781/mean_vggface2/n003215/epsilon_0.5/png/9.png\n",
      "/data/vggface/test_perturbed_sampled/n005303/mean_vggface2/n003215/epsilon_0.5/png/13.png\n",
      "/data/vggface/test_perturbed_sampled/n009232/mean_vggface2/n003215/epsilon_0.5/png/49.png\n",
      "/data/vggface/test_perturbed_sampled/n002647/mean_vggface2/n003215/epsilon_0.5/png/9.png\n",
      "\n",
      "Closest 5 images to /data/vggface/test_query_antisampled/n005359/0099_02.jpg are /data/vggface/test_perturbed_sampled/n005427/mean_vggface2/n005359/epsilon_0.5/png/20.png\n",
      "/data/vggface/test_perturbed_sampled/n000958/mean_vggface2/n005359/epsilon_0.5/png/13.png\n",
      "/data/vggface/test_perturbed_sampled/n002503/mean_vggface2/n005359/epsilon_0.5/png/20.png\n",
      "/data/vggface/test_perturbed_sampled/n005303/mean_vggface2/n005359/epsilon_0.5/png/12.png\n",
      "/data/vggface/test_perturbed_sampled/n007548/mean_vggface2/n005359/epsilon_0.5/png/12.png\n",
      "\n",
      "Closest 5 images to /data/vggface/test_query_antisampled/n005359/0393_03.jpg are /data/vggface/test_perturbed_sampled/n007548/mean_vggface2/n002763/epsilon_0.5/png/10.png\n",
      "/data/vggface/test_perturbed_sampled/n007548/mean_vggface2/n002763/epsilon_0.5/png/30.png\n",
      "/data/vggface/test_perturbed_sampled/n005359/mean_vggface2/n005427/epsilon_0.5/png/5.png\n",
      "/data/vggface/test_perturbed_sampled/n007548/mean_vggface2/n005427/epsilon_0.5/png/5.png\n",
      "/data/vggface/test_perturbed_sampled/n002647/mean_vggface2/n005427/epsilon_0.5/png/1.png\n",
      "\n",
      "Closest 5 images to /data/vggface/test_query_antisampled/n005359/0099_02.jpg are /data/vggface/test_perturbed_sampled/n005427/mean_vggface2/n005359/epsilon_0.5/png/20.png\n",
      "/data/vggface/test_perturbed_sampled/n000958/mean_vggface2/n005359/epsilon_0.5/png/13.png\n",
      "/data/vggface/test_perturbed_sampled/n002503/mean_vggface2/n005359/epsilon_0.5/png/20.png\n",
      "/data/vggface/test_perturbed_sampled/n005303/mean_vggface2/n005359/epsilon_0.5/png/12.png\n",
      "/data/vggface/test_perturbed_sampled/n007548/mean_vggface2/n005359/epsilon_0.5/png/12.png\n",
      "\n",
      "Closest 5 images to /data/vggface/test_query_antisampled/n005359/0166_01.jpg are /data/vggface/test_perturbed_sampled/n008655/mean_vggface2/n003215/epsilon_0.5/png/9.png\n",
      "/data/vggface/test_perturbed_sampled/n009288/mean_vggface2/n003215/epsilon_0.5/png/49.png\n",
      "/data/vggface/test_perturbed_sampled/n000958/mean_vggface2/n003215/epsilon_0.5/png/49.png\n",
      "/data/vggface/test_perturbed_sampled/n002647/mean_vggface2/n001683/epsilon_0.5/png/14.png\n",
      "/data/vggface/test_perturbed_sampled/n005303/mean_vggface2/n003215/epsilon_0.5/png/13.png\n",
      "\n",
      "Closest 5 images to /data/vggface/test_query_antisampled/n005359/0277_01.jpg are /data/vggface/test_perturbed_sampled/n001683/mean_vggface2/n005359/epsilon_0.5/png/20.png\n",
      "/data/vggface/test_perturbed_sampled/n005303/mean_vggface2/n005359/epsilon_0.5/png/31.png\n",
      "/data/vggface/test_perturbed_sampled/n003215/mean_vggface2/n005359/epsilon_0.5/png/13.png\n",
      "/data/vggface/test_perturbed_sampled/n009232/mean_vggface2/n005359/epsilon_0.5/png/20.png\n",
      "/data/vggface/test_perturbed_sampled/n003356/mean_vggface2/n005359/epsilon_0.5/png/13.png\n",
      "\n",
      "Closest 5 images to /data/vggface/test_query_antisampled/n005359/0035_02.jpg are /data/vggface/test_perturbed_sampled/n008655/mean_vggface2/n005359/epsilon_0.5/png/13.png\n",
      "/data/vggface/test_perturbed_sampled/n009232/mean_vggface2/n005359/epsilon_0.5/png/13.png\n",
      "/data/vggface/test_perturbed_sampled/n003215/mean_vggface2/n005359/epsilon_0.5/png/13.png\n",
      "/data/vggface/test_perturbed_sampled/n002647/mean_vggface2/n005359/epsilon_0.5/png/13.png\n",
      "/data/vggface/test_perturbed_sampled/n000958/mean_vggface2/n005359/epsilon_0.5/png/13.png\n",
      "\n",
      "Closest 5 images to /data/vggface/test_query_antisampled/n005359/0009_02.jpg are /data/vggface/test_perturbed_sampled/n000029/mean_vggface2/n005359/epsilon_0.5/png/31.png\n",
      "/data/vggface/test_perturbed_sampled/n008655/mean_vggface2/n005359/epsilon_0.5/png/13.png\n",
      "/data/vggface/test_perturbed_sampled/n009232/mean_vggface2/n005359/epsilon_0.5/png/20.png\n",
      "/data/vggface/test_perturbed_sampled/n007548/mean_vggface2/n005359/epsilon_0.5/png/12.png\n",
      "/data/vggface/test_perturbed_sampled/n001781/mean_vggface2/n005359/epsilon_0.5/png/13.png\n",
      "\n"
     ]
    },
    {
     "name": "stdout",
     "output_type": "stream",
     "text": [
      "Closest 5 images to /data/vggface/test_query_antisampled/n005359/0393_03.jpg are /data/vggface/test_perturbed_sampled/n007548/mean_vggface2/n002763/epsilon_0.5/png/10.png\n",
      "/data/vggface/test_perturbed_sampled/n007548/mean_vggface2/n002763/epsilon_0.5/png/30.png\n",
      "/data/vggface/test_perturbed_sampled/n005359/mean_vggface2/n005427/epsilon_0.5/png/5.png\n",
      "/data/vggface/test_perturbed_sampled/n007548/mean_vggface2/n005427/epsilon_0.5/png/5.png\n",
      "/data/vggface/test_perturbed_sampled/n002647/mean_vggface2/n005427/epsilon_0.5/png/1.png\n",
      "\n",
      "Closest 5 images to /data/vggface/test_query_antisampled/n005359/0277_01.jpg are /data/vggface/test_perturbed_sampled/n001683/mean_vggface2/n005359/epsilon_0.5/png/20.png\n",
      "/data/vggface/test_perturbed_sampled/n005303/mean_vggface2/n005359/epsilon_0.5/png/31.png\n",
      "/data/vggface/test_perturbed_sampled/n003215/mean_vggface2/n005359/epsilon_0.5/png/13.png\n",
      "/data/vggface/test_perturbed_sampled/n009232/mean_vggface2/n005359/epsilon_0.5/png/20.png\n",
      "/data/vggface/test_perturbed_sampled/n003356/mean_vggface2/n005359/epsilon_0.5/png/13.png\n",
      "\n",
      "Closest 5 images to /data/vggface/test_query_antisampled/n005359/0636_01.jpg are /data/vggface/test_perturbed_sampled/n003215/mean_vggface2/n005359/epsilon_0.5/png/20.png\n",
      "/data/vggface/test_perturbed_sampled/n003215/mean_vggface2/n005359/epsilon_0.5/png/13.png\n",
      "/data/vggface/test_perturbed_sampled/n007548/mean_vggface2/n005359/epsilon_0.5/png/12.png\n",
      "/data/vggface/test_perturbed_sampled/n008655/mean_vggface2/n005359/epsilon_0.5/png/20.png\n",
      "/data/vggface/test_perturbed_sampled/n002763/mean_vggface2/n005359/epsilon_0.5/png/13.png\n",
      "\n",
      "Closest 5 images to /data/vggface/test_query_antisampled/n005303/0248_02.jpg are /data/vggface/test_perturbed_sampled/n000958/mean_vggface2/n005303/epsilon_0.5/png/31.png\n",
      "/data/vggface/test_perturbed_sampled/n005359/mean_vggface2/n005303/epsilon_0.5/png/31.png\n",
      "/data/vggface/test_perturbed_sampled/n001781/mean_vggface2/n005303/epsilon_0.5/png/12.png\n",
      "/data/vggface/test_perturbed_sampled/n002763/mean_vggface2/n005303/epsilon_0.5/png/31.png\n",
      "/data/vggface/test_perturbed_sampled/n004658/mean_vggface2/n005303/epsilon_0.5/png/12.png\n",
      "\n",
      "Closest 5 images to /data/vggface/test_query_antisampled/n005303/0029_02.jpg are /data/vggface/test_perturbed_sampled/n002763/mean_vggface2/n005303/epsilon_0.5/png/31.png\n",
      "/data/vggface/test_perturbed_sampled/n000029/mean_vggface2/n005303/epsilon_0.5/png/7.png\n",
      "/data/vggface/test_perturbed_sampled/n001781/mean_vggface2/n005303/epsilon_0.5/png/31.png\n",
      "/data/vggface/test_perturbed_sampled/n009114/mean_vggface2/n005303/epsilon_0.5/png/6.png\n",
      "/data/vggface/test_perturbed_sampled/n000958/mean_vggface2/n005303/epsilon_0.5/png/31.png\n",
      "\n",
      "Closest 5 images to /data/vggface/test_query_antisampled/n005303/0748_02.jpg are /data/vggface/test_perturbed_sampled/n009232/mean_vggface2/n005303/epsilon_0.5/png/31.png\n",
      "/data/vggface/test_perturbed_sampled/n008655/mean_vggface2/n005303/epsilon_0.5/png/12.png\n",
      "/data/vggface/test_perturbed_sampled/n005427/mean_vggface2/n005303/epsilon_0.5/png/12.png\n",
      "/data/vggface/test_perturbed_sampled/n004658/mean_vggface2/n005303/epsilon_0.5/png/12.png\n",
      "/data/vggface/test_perturbed_sampled/n009288/mean_vggface2/n005303/epsilon_0.5/png/31.png\n",
      "\n",
      "Closest 5 images to /data/vggface/test_query_antisampled/n005303/0202_03.jpg are /data/vggface/test_perturbed_sampled/n000029/mean_vggface2/n005303/epsilon_0.5/png/7.png\n",
      "/data/vggface/test_perturbed_sampled/n005427/mean_vggface2/n005303/epsilon_0.5/png/31.png\n",
      "/data/vggface/test_perturbed_sampled/n002763/mean_vggface2/n005303/epsilon_0.5/png/31.png\n",
      "/data/vggface/test_perturbed_sampled/n009114/mean_vggface2/n005303/epsilon_0.5/png/6.png\n",
      "/data/vggface/test_perturbed_sampled/n003356/mean_vggface2/n005303/epsilon_0.5/png/12.png\n",
      "\n",
      "Closest 5 images to /data/vggface/test_query_antisampled/n005303/0507_03.jpg are /data/vggface/test_perturbed_sampled/n005359/mean_vggface2/n005303/epsilon_0.5/png/31.png\n",
      "/data/vggface/test_perturbed_sampled/n002763/mean_vggface2/n005303/epsilon_0.5/png/31.png\n",
      "/data/vggface/test_perturbed_sampled/n005427/mean_vggface2/n005303/epsilon_0.5/png/12.png\n",
      "/data/vggface/test_perturbed_sampled/n009232/mean_vggface2/n005303/epsilon_0.5/png/31.png\n",
      "/data/vggface/test_perturbed_sampled/n000958/mean_vggface2/n005303/epsilon_0.5/png/31.png\n",
      "\n",
      "Closest 5 images to /data/vggface/test_query_antisampled/n005303/0029_02.jpg are /data/vggface/test_perturbed_sampled/n002763/mean_vggface2/n005303/epsilon_0.5/png/31.png\n",
      "/data/vggface/test_perturbed_sampled/n000029/mean_vggface2/n005303/epsilon_0.5/png/7.png\n",
      "/data/vggface/test_perturbed_sampled/n001781/mean_vggface2/n005303/epsilon_0.5/png/31.png\n",
      "/data/vggface/test_perturbed_sampled/n009114/mean_vggface2/n005303/epsilon_0.5/png/6.png\n",
      "/data/vggface/test_perturbed_sampled/n000958/mean_vggface2/n005303/epsilon_0.5/png/31.png\n",
      "\n",
      "Closest 5 images to /data/vggface/test_query_antisampled/n005303/0637_01.jpg are /data/vggface/test_perturbed_sampled/n002763/mean_vggface2/n005303/epsilon_0.5/png/31.png\n",
      "/data/vggface/test_perturbed_sampled/n009288/mean_vggface2/n005303/epsilon_0.5/png/12.png\n",
      "/data/vggface/test_perturbed_sampled/n009232/mean_vggface2/n005303/epsilon_0.5/png/12.png\n",
      "/data/vggface/test_perturbed_sampled/n000958/mean_vggface2/n005303/epsilon_0.5/png/31.png\n",
      "/data/vggface/test_perturbed_sampled/n008655/mean_vggface2/n005303/epsilon_0.5/png/31.png\n",
      "\n",
      "Closest 5 images to /data/vggface/test_query_antisampled/n005303/0151_01.jpg are /data/vggface/test_perturbed_sampled/n009288/mean_vggface2/n005303/epsilon_0.5/png/12.png\n",
      "/data/vggface/test_perturbed_sampled/n005427/mean_vggface2/n005303/epsilon_0.5/png/31.png\n",
      "/data/vggface/test_perturbed_sampled/n009114/mean_vggface2/n005303/epsilon_0.5/png/7.png\n",
      "/data/vggface/test_perturbed_sampled/n008655/mean_vggface2/n005303/epsilon_0.5/png/31.png\n",
      "/data/vggface/test_perturbed_sampled/n002763/mean_vggface2/n005303/epsilon_0.5/png/31.png\n",
      "\n",
      "Closest 5 images to /data/vggface/test_query_antisampled/n005303/0029_02.jpg are /data/vggface/test_perturbed_sampled/n002763/mean_vggface2/n005303/epsilon_0.5/png/31.png\n",
      "/data/vggface/test_perturbed_sampled/n000029/mean_vggface2/n005303/epsilon_0.5/png/7.png\n",
      "/data/vggface/test_perturbed_sampled/n001781/mean_vggface2/n005303/epsilon_0.5/png/31.png\n",
      "/data/vggface/test_perturbed_sampled/n009114/mean_vggface2/n005303/epsilon_0.5/png/6.png\n",
      "/data/vggface/test_perturbed_sampled/n000958/mean_vggface2/n005303/epsilon_0.5/png/31.png\n",
      "\n",
      "Closest 5 images to /data/vggface/test_query_antisampled/n005303/0777_01.jpg are /data/vggface/test_perturbed_sampled/n002763/mean_vggface2/n005303/epsilon_0.5/png/31.png\n",
      "/data/vggface/test_perturbed_sampled/n000029/mean_vggface2/n005303/epsilon_0.5/png/7.png\n",
      "/data/vggface/test_perturbed_sampled/n000958/mean_vggface2/n005303/epsilon_0.5/png/31.png\n",
      "/data/vggface/test_perturbed_sampled/n008613/mean_vggface2/n005303/epsilon_0.5/png/31.png\n",
      "/data/vggface/test_perturbed_sampled/n009288/mean_vggface2/n005303/epsilon_0.5/png/31.png\n",
      "\n",
      "Closest 5 images to /data/vggface/test_query_antisampled/n007548/0241_01.jpg are /data/vggface/test_perturbed_sampled/n005303/mean_vggface2/n007548/epsilon_0.5/png/7.png\n",
      "/data/vggface/test_perturbed_sampled/n005303/mean_vggface2/n007548/epsilon_0.5/png/6.png\n",
      "/data/vggface/test_perturbed_sampled/n002647/mean_vggface2/n007548/epsilon_0.5/png/7.png\n",
      "/data/vggface/test_perturbed_sampled/n009114/mean_vggface2/n007548/epsilon_0.5/png/44.png\n",
      "/data/vggface/test_perturbed_sampled/n005427/mean_vggface2/n007548/epsilon_0.5/png/6.png\n",
      "\n",
      "Closest 5 images to /data/vggface/test_query_antisampled/n007548/0163_05.jpg are /data/vggface/test_perturbed_sampled/n002763/mean_vggface2/n007548/epsilon_0.5/png/7.png\n",
      "/data/vggface/test_perturbed_sampled/n005427/mean_vggface2/n007548/epsilon_0.5/png/7.png\n",
      "/data/vggface/test_perturbed_sampled/n005427/mean_vggface2/n007548/epsilon_0.5/png/6.png\n",
      "/data/vggface/test_perturbed_sampled/n001781/mean_vggface2/n007548/epsilon_0.5/png/6.png\n",
      "/data/vggface/test_perturbed_sampled/n001781/mean_vggface2/n007548/epsilon_0.5/png/7.png\n",
      "\n",
      "Closest 5 images to /data/vggface/test_query_antisampled/n007548/0478_01.jpg are /data/vggface/test_perturbed_sampled/n001683/mean_vggface2/n007548/epsilon_0.5/png/6.png\n",
      "/data/vggface/test_perturbed_sampled/n001781/mean_vggface2/n007548/epsilon_0.5/png/6.png\n",
      "/data/vggface/test_perturbed_sampled/n005427/mean_vggface2/n007548/epsilon_0.5/png/6.png\n",
      "/data/vggface/test_perturbed_sampled/n002763/mean_vggface2/n007548/epsilon_0.5/png/7.png\n",
      "/data/vggface/test_perturbed_sampled/n002763/mean_vggface2/n007548/epsilon_0.5/png/6.png\n",
      "\n",
      "Closest 5 images to /data/vggface/test_query_antisampled/n007548/0282_01.jpg are /data/vggface/test_perturbed_sampled/n005427/mean_vggface2/n007548/epsilon_0.5/png/7.png\n",
      "/data/vggface/test_perturbed_sampled/n009288/mean_vggface2/n007548/epsilon_0.5/png/6.png\n",
      "/data/vggface/test_perturbed_sampled/n002503/mean_vggface2/n007548/epsilon_0.5/png/7.png\n",
      "/data/vggface/test_perturbed_sampled/n008655/mean_vggface2/n007548/epsilon_0.5/png/6.png\n",
      "/data/vggface/test_perturbed_sampled/n002763/mean_vggface2/n007548/epsilon_0.5/png/7.png\n",
      "\n",
      "Closest 5 images to /data/vggface/test_query_antisampled/n007548/0112_04.jpg are /data/vggface/test_perturbed_sampled/n007548/community_naive_mean/n001781/epsilon_0.0/png/46.png\n",
      "/data/vggface/test_perturbed_sampled/n009114/mean_vggface2/n007548/epsilon_0.5/png/44.png\n",
      "/data/vggface/test_perturbed_sampled/n005303/mean_vggface2/n007548/epsilon_0.5/png/7.png\n",
      "/data/vggface/test_perturbed_sampled/n000029/mean_vggface2/n007548/epsilon_0.5/png/21.png\n",
      "/data/vggface/test_perturbed_sampled/n005303/mean_vggface2/n007548/epsilon_0.5/png/6.png\n",
      "\n"
     ]
    },
    {
     "name": "stdout",
     "output_type": "stream",
     "text": [
      "Closest 5 images to /data/vggface/test_query_antisampled/n007548/0112_04.jpg are /data/vggface/test_perturbed_sampled/n007548/community_naive_mean/n001781/epsilon_0.0/png/46.png\n",
      "/data/vggface/test_perturbed_sampled/n009114/mean_vggface2/n007548/epsilon_0.5/png/44.png\n",
      "/data/vggface/test_perturbed_sampled/n005303/mean_vggface2/n007548/epsilon_0.5/png/7.png\n",
      "/data/vggface/test_perturbed_sampled/n000029/mean_vggface2/n007548/epsilon_0.5/png/21.png\n",
      "/data/vggface/test_perturbed_sampled/n005303/mean_vggface2/n007548/epsilon_0.5/png/6.png\n",
      "\n",
      "Closest 5 images to /data/vggface/test_query_antisampled/n007548/0172_03.jpg are /data/vggface/test_perturbed_sampled/n004658/mean_vggface2/n007548/epsilon_0.5/png/7.png\n",
      "/data/vggface/test_perturbed_sampled/n008655/mean_vggface2/n007548/epsilon_0.5/png/7.png\n",
      "/data/vggface/test_perturbed_sampled/n002503/mean_vggface2/n007548/epsilon_0.5/png/7.png\n",
      "/data/vggface/test_perturbed_sampled/n005303/mean_vggface2/n007548/epsilon_0.5/png/7.png\n",
      "/data/vggface/test_perturbed_sampled/n004658/mean_vggface2/n007548/epsilon_0.5/png/6.png\n",
      "\n",
      "Closest 5 images to /data/vggface/test_query_antisampled/n007548/0241_01.jpg are /data/vggface/test_perturbed_sampled/n005303/mean_vggface2/n007548/epsilon_0.5/png/7.png\n",
      "/data/vggface/test_perturbed_sampled/n005303/mean_vggface2/n007548/epsilon_0.5/png/6.png\n",
      "/data/vggface/test_perturbed_sampled/n002647/mean_vggface2/n007548/epsilon_0.5/png/7.png\n",
      "/data/vggface/test_perturbed_sampled/n009114/mean_vggface2/n007548/epsilon_0.5/png/44.png\n",
      "/data/vggface/test_perturbed_sampled/n005427/mean_vggface2/n007548/epsilon_0.5/png/6.png\n",
      "\n",
      "Closest 5 images to /data/vggface/test_query_antisampled/n007548/0043_03.jpg are /data/vggface/test_perturbed_sampled/n005427/mean_vggface2/n007548/epsilon_0.5/png/7.png\n",
      "/data/vggface/test_perturbed_sampled/n008655/mean_vggface2/n007548/epsilon_0.5/png/6.png\n",
      "/data/vggface/test_perturbed_sampled/n001683/mean_vggface2/n007548/epsilon_0.5/png/6.png\n",
      "/data/vggface/test_perturbed_sampled/n005427/mean_vggface2/n007548/epsilon_0.5/png/6.png\n",
      "/data/vggface/test_perturbed_sampled/n002763/mean_vggface2/n007548/epsilon_0.5/png/7.png\n",
      "\n",
      "Closest 5 images to /data/vggface/test_query_antisampled/n007548/0066_01.jpg are /data/vggface/test_perturbed_sampled/n009288/mean_vggface2/n007548/epsilon_0.5/png/6.png\n",
      "/data/vggface/test_perturbed_sampled/n005427/mean_vggface2/n007548/epsilon_0.5/png/7.png\n",
      "/data/vggface/test_perturbed_sampled/n001781/mean_vggface2/n007548/epsilon_0.5/png/6.png\n",
      "/data/vggface/test_perturbed_sampled/n005427/mean_vggface2/n003215/epsilon_0.5/png/9.png\n",
      "/data/vggface/test_perturbed_sampled/n009232/mean_vggface2/n007548/epsilon_0.5/png/7.png\n",
      "\n",
      "Closest 5 images to /data/vggface/test_query_antisampled/n000029/0381_01.jpg are /data/vggface/test_perturbed_sampled/n008655/mean_vggface2/n000029/epsilon_0.5/png/44.png\n",
      "/data/vggface/test_perturbed_sampled/n008655/mean_vggface2/n000029/epsilon_0.5/png/21.png\n",
      "/data/vggface/test_perturbed_sampled/n003215/mean_vggface2/n000029/epsilon_0.5/png/21.png\n",
      "/data/vggface/test_perturbed_sampled/n005427/mean_vggface2/n000029/epsilon_0.5/png/21.png\n",
      "/data/vggface/test_perturbed_sampled/n002763/mean_vggface2/n000029/epsilon_0.5/png/44.png\n",
      "\n",
      "Closest 5 images to /data/vggface/test_query_antisampled/n000029/0483_01.jpg are /data/vggface/test_perturbed_sampled/n007548/mean_vggface2/n004658/epsilon_0.5/png/33.png\n",
      "/data/vggface/test_perturbed_sampled/n008613/mean_vggface2/n000029/epsilon_0.5/png/44.png\n",
      "/data/vggface/test_perturbed_sampled/n001781/mean_vggface2/n000029/epsilon_0.5/png/44.png\n",
      "/data/vggface/test_perturbed_sampled/n000958/mean_vggface2/n007548/epsilon_0.5/png/6.png\n",
      "/data/vggface/test_perturbed_sampled/n009288/mean_vggface2/n007548/epsilon_0.5/png/6.png\n",
      "\n",
      "Closest 5 images to /data/vggface/test_query_antisampled/n000029/0381_01.jpg are /data/vggface/test_perturbed_sampled/n008655/mean_vggface2/n000029/epsilon_0.5/png/44.png\n",
      "/data/vggface/test_perturbed_sampled/n008655/mean_vggface2/n000029/epsilon_0.5/png/21.png\n",
      "/data/vggface/test_perturbed_sampled/n003215/mean_vggface2/n000029/epsilon_0.5/png/21.png\n",
      "/data/vggface/test_perturbed_sampled/n005427/mean_vggface2/n000029/epsilon_0.5/png/21.png\n",
      "/data/vggface/test_perturbed_sampled/n002763/mean_vggface2/n000029/epsilon_0.5/png/44.png\n",
      "\n",
      "Closest 5 images to /data/vggface/test_query_antisampled/n000029/0045_01.jpg are /data/vggface/test_perturbed_sampled/n009232/mean_vggface2/n000029/epsilon_0.5/png/44.png\n",
      "/data/vggface/test_perturbed_sampled/n005359/mean_vggface2/n000029/epsilon_0.5/png/21.png\n",
      "/data/vggface/test_perturbed_sampled/n009288/mean_vggface2/n000029/epsilon_0.5/png/21.png\n",
      "/data/vggface/test_perturbed_sampled/n007548/mean_vggface2/n000029/epsilon_0.5/png/21.png\n",
      "/data/vggface/test_perturbed_sampled/n003215/mean_vggface2/n000029/epsilon_0.5/png/21.png\n",
      "\n",
      "Closest 5 images to /data/vggface/test_query_antisampled/n000029/0381_01.jpg are /data/vggface/test_perturbed_sampled/n008655/mean_vggface2/n000029/epsilon_0.5/png/44.png\n",
      "/data/vggface/test_perturbed_sampled/n008655/mean_vggface2/n000029/epsilon_0.5/png/21.png\n",
      "/data/vggface/test_perturbed_sampled/n003215/mean_vggface2/n000029/epsilon_0.5/png/21.png\n",
      "/data/vggface/test_perturbed_sampled/n005427/mean_vggface2/n000029/epsilon_0.5/png/21.png\n",
      "/data/vggface/test_perturbed_sampled/n002763/mean_vggface2/n000029/epsilon_0.5/png/44.png\n",
      "\n",
      "Closest 5 images to /data/vggface/test_query_antisampled/n000029/0168_01.jpg are /data/vggface/test_perturbed_sampled/n002503/mean_vggface2/n000029/epsilon_0.5/png/21.png\n",
      "/data/vggface/test_perturbed_sampled/n002647/mean_vggface2/n000029/epsilon_0.5/png/21.png\n",
      "/data/vggface/test_perturbed_sampled/n005303/mean_vggface2/n000029/epsilon_0.5/png/21.png\n",
      "/data/vggface/test_perturbed_sampled/n003356/mean_vggface2/n000029/epsilon_0.5/png/44.png\n",
      "/data/vggface/test_perturbed_sampled/n005303/mean_vggface2/n000029/epsilon_0.5/png/44.png\n",
      "\n",
      "Closest 5 images to /data/vggface/test_query_antisampled/n000029/0483_01.jpg are /data/vggface/test_perturbed_sampled/n007548/mean_vggface2/n004658/epsilon_0.5/png/33.png\n",
      "/data/vggface/test_perturbed_sampled/n008613/mean_vggface2/n000029/epsilon_0.5/png/44.png\n",
      "/data/vggface/test_perturbed_sampled/n001781/mean_vggface2/n000029/epsilon_0.5/png/44.png\n",
      "/data/vggface/test_perturbed_sampled/n000958/mean_vggface2/n007548/epsilon_0.5/png/6.png\n",
      "/data/vggface/test_perturbed_sampled/n009288/mean_vggface2/n007548/epsilon_0.5/png/6.png\n",
      "\n",
      "Closest 5 images to /data/vggface/test_query_antisampled/n000029/0381_01.jpg are /data/vggface/test_perturbed_sampled/n008655/mean_vggface2/n000029/epsilon_0.5/png/44.png\n",
      "/data/vggface/test_perturbed_sampled/n008655/mean_vggface2/n000029/epsilon_0.5/png/21.png\n",
      "/data/vggface/test_perturbed_sampled/n003215/mean_vggface2/n000029/epsilon_0.5/png/21.png\n",
      "/data/vggface/test_perturbed_sampled/n005427/mean_vggface2/n000029/epsilon_0.5/png/21.png\n",
      "/data/vggface/test_perturbed_sampled/n002763/mean_vggface2/n000029/epsilon_0.5/png/44.png\n",
      "\n",
      "Closest 5 images to /data/vggface/test_query_antisampled/n000029/0045_01.jpg are /data/vggface/test_perturbed_sampled/n009232/mean_vggface2/n000029/epsilon_0.5/png/44.png\n",
      "/data/vggface/test_perturbed_sampled/n005359/mean_vggface2/n000029/epsilon_0.5/png/21.png\n",
      "/data/vggface/test_perturbed_sampled/n009288/mean_vggface2/n000029/epsilon_0.5/png/21.png\n",
      "/data/vggface/test_perturbed_sampled/n007548/mean_vggface2/n000029/epsilon_0.5/png/21.png\n",
      "/data/vggface/test_perturbed_sampled/n003215/mean_vggface2/n000029/epsilon_0.5/png/21.png\n",
      "\n",
      "Closest 5 images to /data/vggface/test_query_antisampled/n000029/0459_01.jpg are /data/vggface/test_perturbed_sampled/n002647/mean_vggface2/n000029/epsilon_0.5/png/21.png\n",
      "/data/vggface/test_perturbed_sampled/n002503/mean_vggface2/n000029/epsilon_0.5/png/21.png\n",
      "/data/vggface/test_perturbed_sampled/n009114/mean_vggface2/n000029/epsilon_0.5/png/36.png\n",
      "/data/vggface/test_perturbed_sampled/n007548/mean_vggface2/n000029/epsilon_0.5/png/21.png\n",
      "/data/vggface/test_perturbed_sampled/n005303/mean_vggface2/n000029/epsilon_0.5/png/21.png\n",
      "\n",
      "Closest 5 images to /data/vggface/test_query_antisampled/n009114/0510_01.jpg are /data/vggface/test_perturbed_sampled/n000958/mean_vggface2/n009114/epsilon_0.5/png/36.png\n",
      "/data/vggface/test_perturbed_sampled/n002647/mean_vggface2/n009114/epsilon_0.5/png/36.png\n",
      "/data/vggface/test_perturbed_sampled/n002503/mean_vggface2/n009114/epsilon_0.5/png/34.png\n",
      "/data/vggface/test_perturbed_sampled/n007548/mean_vggface2/n009114/epsilon_0.5/png/34.png\n",
      "/data/vggface/test_perturbed_sampled/n005303/mean_vggface2/n009114/epsilon_0.5/png/34.png\n",
      "\n",
      "Closest 5 images to /data/vggface/test_query_antisampled/n009114/0084_01.jpg are /data/vggface/test_perturbed_sampled/n002503/mean_vggface2/n009114/epsilon_0.5/png/34.png\n",
      "/data/vggface/test_perturbed_sampled/n005359/mean_vggface2/n009114/epsilon_0.5/png/34.png\n",
      "/data/vggface/test_perturbed_sampled/n000958/mean_vggface2/n009114/epsilon_0.5/png/36.png\n",
      "/data/vggface/test_perturbed_sampled/n000958/mean_vggface2/n009114/epsilon_0.5/png/34.png\n",
      "/data/vggface/test_perturbed_sampled/n002647/mean_vggface2/n009114/epsilon_0.5/png/36.png\n",
      "\n",
      "Closest 5 images to /data/vggface/test_query_antisampled/n009114/0208_01.jpg are /data/vggface/test_perturbed_sampled/n002647/mean_vggface2/n009114/epsilon_0.5/png/36.png\n",
      "/data/vggface/test_perturbed_sampled/n002647/mean_vggface2/n009114/epsilon_0.5/png/34.png\n",
      "/data/vggface/test_perturbed_sampled/n000958/mean_vggface2/n009114/epsilon_0.5/png/34.png\n",
      "/data/vggface/test_perturbed_sampled/n009232/mean_vggface2/n009114/epsilon_0.5/png/36.png\n",
      "/data/vggface/test_perturbed_sampled/n009288/mean_vggface2/n009114/epsilon_0.5/png/36.png\n",
      "\n"
     ]
    },
    {
     "name": "stdout",
     "output_type": "stream",
     "text": [
      "Closest 5 images to /data/vggface/test_query_antisampled/n009114/0306_01.jpg are /data/vggface/test_perturbed_sampled/n009114/community_naive_mean/n001781/epsilon_0.0/png/39.png\n",
      "/data/vggface/test_perturbed_sampled/n005359/mean_vggface2/n009288/epsilon_0.5/png/1.png\n",
      "/data/vggface/test_perturbed_sampled/n001781/mean_vggface2/n009288/epsilon_0.5/png/11.png\n",
      "/data/vggface/test_perturbed_sampled/n000029/mean_vggface2/n009288/epsilon_0.5/png/1.png\n",
      "/data/vggface/test_perturbed_sampled/n008655/mean_vggface2/n009288/epsilon_0.5/png/11.png\n",
      "\n",
      "Closest 5 images to /data/vggface/test_query_antisampled/n009114/0006_02.jpg are /data/vggface/test_perturbed_sampled/n002647/community_naive_mean/n001781/epsilon_0.0/png/46.png\n",
      "/data/vggface/test_perturbed_sampled/n000029/mean_vggface2/n001781/epsilon_0.5/png/27.png\n",
      "/data/vggface/test_perturbed_sampled/n004658/mean_vggface2/n005303/epsilon_0.5/png/31.png\n",
      "/data/vggface/test_perturbed_sampled/n008613/mean_vggface2/n001781/epsilon_0.5/png/27.png\n",
      "/data/vggface/test_perturbed_sampled/n002763/mean_vggface2/n001781/epsilon_0.5/png/22.png\n",
      "\n",
      "Closest 5 images to /data/vggface/test_query_antisampled/n009114/0102_02.jpg are /data/vggface/test_perturbed_sampled/n000029/mean_vggface2/n009114/epsilon_0.5/png/34.png\n",
      "/data/vggface/test_perturbed_sampled/n000958/mean_vggface2/n009114/epsilon_0.5/png/36.png\n",
      "/data/vggface/test_perturbed_sampled/n002503/mean_vggface2/n009114/epsilon_0.5/png/34.png\n",
      "/data/vggface/test_perturbed_sampled/n005303/mean_vggface2/n009114/epsilon_0.5/png/36.png\n",
      "/data/vggface/test_perturbed_sampled/n003215/mean_vggface2/n009114/epsilon_0.5/png/34.png\n",
      "\n",
      "Closest 5 images to /data/vggface/test_query_antisampled/n009114/0006_02.jpg are /data/vggface/test_perturbed_sampled/n002647/community_naive_mean/n001781/epsilon_0.0/png/46.png\n",
      "/data/vggface/test_perturbed_sampled/n000029/mean_vggface2/n001781/epsilon_0.5/png/27.png\n",
      "/data/vggface/test_perturbed_sampled/n004658/mean_vggface2/n005303/epsilon_0.5/png/31.png\n",
      "/data/vggface/test_perturbed_sampled/n008613/mean_vggface2/n001781/epsilon_0.5/png/27.png\n",
      "/data/vggface/test_perturbed_sampled/n002763/mean_vggface2/n001781/epsilon_0.5/png/22.png\n",
      "\n",
      "Closest 5 images to /data/vggface/test_query_antisampled/n009114/0006_02.jpg are /data/vggface/test_perturbed_sampled/n002647/community_naive_mean/n001781/epsilon_0.0/png/46.png\n",
      "/data/vggface/test_perturbed_sampled/n000029/mean_vggface2/n001781/epsilon_0.5/png/27.png\n",
      "/data/vggface/test_perturbed_sampled/n004658/mean_vggface2/n005303/epsilon_0.5/png/31.png\n",
      "/data/vggface/test_perturbed_sampled/n008613/mean_vggface2/n001781/epsilon_0.5/png/27.png\n",
      "/data/vggface/test_perturbed_sampled/n002763/mean_vggface2/n001781/epsilon_0.5/png/22.png\n",
      "\n",
      "Closest 5 images to /data/vggface/test_query_antisampled/n009114/0227_01.jpg are /data/vggface/test_perturbed_sampled/n005359/mean_vggface2/n009114/epsilon_0.5/png/34.png\n",
      "/data/vggface/test_perturbed_sampled/n002503/mean_vggface2/n009114/epsilon_0.5/png/34.png\n",
      "/data/vggface/test_perturbed_sampled/n009232/mean_vggface2/n009114/epsilon_0.5/png/34.png\n",
      "/data/vggface/test_perturbed_sampled/n005427/mean_vggface2/n009114/epsilon_0.5/png/36.png\n",
      "/data/vggface/test_perturbed_sampled/n005359/mean_vggface2/n009114/epsilon_0.5/png/36.png\n",
      "\n",
      "Closest 5 images to /data/vggface/test_query_antisampled/n009114/0088_01.jpg are /data/vggface/test_perturbed_sampled/n008655/mean_vggface2/n009114/epsilon_0.5/png/34.png\n",
      "/data/vggface/test_perturbed_sampled/n000029/mean_vggface2/n009114/epsilon_0.5/png/34.png\n",
      "/data/vggface/test_perturbed_sampled/n001683/mean_vggface2/n009114/epsilon_0.5/png/36.png\n",
      "/data/vggface/test_perturbed_sampled/n005427/mean_vggface2/n009114/epsilon_0.5/png/36.png\n",
      "/data/vggface/test_perturbed_sampled/n007548/mean_vggface2/n009114/epsilon_0.5/png/36.png\n",
      "\n"
     ]
    }
   ],
   "source": [
    "res = get_recall_once(\n",
    "    \"vggface2\",\n",
    "    0.5,\n",
    "    \"mean_vggface2\",\n",
    "    2, # negative or 0 number includes all\n",
    "    1,\n",
    "    5,\n",
    "    verbose=True\n",
    ")"
   ]
  },
  {
   "cell_type": "code",
   "execution_count": null,
   "metadata": {},
   "outputs": [],
   "source": []
  }
 ],
 "metadata": {
  "kernelspec": {
   "display_name": "Python 3",
   "language": "python",
   "name": "python3"
  },
  "language_info": {
   "codemirror_mode": {
    "name": "ipython",
    "version": 3
   },
   "file_extension": ".py",
   "mimetype": "text/x-python",
   "name": "python",
   "nbconvert_exporter": "python",
   "pygments_lexer": "ipython3",
   "version": "3.5.6"
  }
 },
 "nbformat": 4,
 "nbformat_minor": 2
}
