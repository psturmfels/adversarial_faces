{
 "cells": [
  {
   "cell_type": "code",
   "execution_count": 11,
   "metadata": {},
   "outputs": [],
   "source": [
    "from matplotlib import pyplot as plt\n",
    "%matplotlib inline\n",
    "import h5py\n",
    "import seaborn\n",
    "import numpy as np\n",
    "import os\n",
    "import tensorflow as tf\n",
    "from sklearn.metrics import pairwise_distances\n",
    "import sys\n",
    "sys.path.append(\"../\")\n",
    "from utils import l2_normalize, prewhiten, read_sampled_identities\n",
    "from PIL import Image\n",
    "seaborn.set()"
   ]
  },
  {
   "cell_type": "code",
   "execution_count": 12,
   "metadata": {},
   "outputs": [],
   "source": [
    "def recall(\n",
    "    base_embeddings, \n",
    "    lookup_embeddings,\n",
    "    lookup_labels, \n",
    "    k\n",
    "):\n",
    "    '''\n",
    "    For each base embedding in base_embeddings,\n",
    "    compute top k recall as an absolute number\n",
    "    (the number of ground truth positives in the lookup_embeddings\n",
    "    that are in the top k)\n",
    "    lookup_labels must be an array of 1's and 0's indicating the ground truth\n",
    "    for the lookup set (1 = positive, 0 = negative)\n",
    "    '''\n",
    "    dist = pairwise_distances(\n",
    "        base_embeddings,\n",
    "        lookup_embeddings\n",
    "    )\n",
    "    return [np.sum(np.array(lookup_labels)[np.argsort(d)][:k]) for d in dist]"
   ]
  },
  {
   "cell_type": "code",
   "execution_count": 13,
   "metadata": {},
   "outputs": [],
   "source": [
    "path_to_adversarial = \"/data/vggface/test_perturbed_sampled/{true}/community_naive_same/{target}/epsilon_{epsilon}.h5\"\n",
    "path_to_clean = \"/data/vggface/test_preprocessed_sampled/{id}/embeddings.h5\"\n",
    "\n",
    "epsilons = [0.02, 0.04, 0.06, 0.08, 0.1]\n",
    "\n",
    "id2imnames = read_sampled_identities(\"../sampled_identities.txt\")\n",
    "identities = id2imnames.keys()\n",
    "\n",
    "positive = []\n",
    "negative_clean = []\n",
    "negative_adv = {eps: [] for eps in epsilons}\n",
    "top_k_recall = {identity: {k: {eps: [] for eps in epsilons} for k in [1, 5, 10, 100]} for identity in identities}\n",
    "\n",
    "for adversarial_target in identities:\n",
    "    clean_embeddings = []\n",
    "    mod_embeddings = []\n",
    "    adv = {eps: [] for eps in epsilons}\n",
    "    \n",
    "    with h5py.File(path_to_clean.format(id=adversarial_target), \"r\") as f:\n",
    "        clean_embeddings.extend(f[\"embeddings\"][:])\n",
    "\n",
    "    for modified_identity in identities:\n",
    "        if modified_identity == adversarial_target:\n",
    "            continue\n",
    "        # the identity that was modified for the adversarial\n",
    "        with h5py.File(path_to_clean.format(id=modified_identity), \"r\") as f:\n",
    "            mod_embeddings.extend(f[\"embeddings\"][:])\n",
    "\n",
    "        for indx, epsilon in enumerate(epsilons):\n",
    "            with h5py.File(path_to_adversarial.format(\n",
    "                target=adversarial_target,\n",
    "                true=modified_identity,\n",
    "                epsilon=epsilon\n",
    "            ), \"r\") as f:\n",
    "                adv[epsilon].extend(f[\"embeddings\"][:])\n",
    "\n",
    "    positive.extend(\n",
    "        pairwise_distances(\n",
    "            clean_embeddings, \n",
    "            clean_embeddings)[np.tril_indices(len(clean_embeddings), -1)].flatten()\n",
    "    )\n",
    "    negative_clean.extend(\n",
    "        pairwise_distances(\n",
    "            clean_embeddings, \n",
    "            mod_embeddings).flatten()\n",
    "    )\n",
    "    for indx, epsilon in enumerate(epsilons):\n",
    "        negative_adv[epsilon].extend(\n",
    "            pairwise_distances(clean_embeddings, adv[epsilon]).flatten()\n",
    "        )\n",
    "        \n",
    "    for k in top_k_recall[adversarial_target].keys():\n",
    "        for eps in epsilons:\n",
    "            top_k_recall[adversarial_target][eps] = recall(\n",
    "                clean_embeddings, \n",
    "                adv[eps],\n",
    "                [1 for _ in range(len(clean_embeddings))] + [0 for _ in range(len(adv[eps]))],\n",
    "                k\n",
    "            )"
   ]
  },
  {
   "cell_type": "code",
   "execution_count": 15,
   "metadata": {},
   "outputs": [
    {
     "name": "stdout",
     "output_type": "stream",
     "text": [
      "{'n009288': [0, 1, 10, 5, 7, 3, 5, 5, 3, 5, 8, 8, 5, 5, 1, 6, 6, 6, 4, 4, 3, 0, 1, 6, 7, 3, 1, 0, 0, 5, 3, 3, 5, 3, 2, 8, 1, 1, 5, 3, 3, 4, 2, 5, 5, 1, 0, 8, 3, 4], 'n002763': [2, 5, 7, 6, 6, 7, 6, 8, 6, 7, 7, 5, 3, 4, 6, 8, 6, 7, 10, 9, 4, 11, 4, 12, 8, 7, 6, 8, 8, 8, 5, 7, 9, 9, 2, 4, 2, 11, 7, 4, 3, 1, 7, 3, 8, 2, 6, 8, 7, 6], 'n000958': [6, 14, 7, 7, 9, 7, 8, 13, 10, 8, 4, 12, 14, 16, 13, 10, 18, 8, 9, 4, 4, 11, 6, 7, 8, 11, 5, 12, 6, 14, 9, 2, 10, 6, 10, 7, 13, 8, 14, 14, 8, 9, 6, 12, 10, 20, 9, 10, 12, 9], 'n002647': [12, 1, 0, 9, 5, 6, 5, 5, 3, 9, 3, 5, 0, 2, 4, 4, 4, 0, 13, 2, 9, 2, 2, 1, 3, 4, 4, 1, 10, 3, 4, 2, 3, 3, 3, 5, 7, 6, 8, 6, 6, 6, 2, 5, 2, 7, 7, 1, 9, 7], 'n008655': [0, 17, 11, 8, 13, 8, 3, 3, 10, 2, 8, 2, 1, 6, 10, 12, 10, 1, 2, 11, 4, 8, 16, 5, 12, 4, 9, 18, 6, 1, 8, 11, 6, 5, 12, 11, 15, 24, 10, 4, 11, 17, 10, 4, 14, 5, 9, 6, 5, 5], 'n003356': [9, 14, 14, 11, 17, 15, 11, 19, 16, 7, 8, 13, 14, 19, 16, 6, 17, 18, 17, 17, 13, 20, 15, 19, 19, 20, 15, 15, 16, 17, 15, 4, 15, 18, 15, 14, 22, 7, 2, 14, 14, 18, 19, 18, 17, 16, 16, 16, 14, 14], 'n007548': [2, 8, 11, 4, 4, 5, 1, 5, 7, 4, 3, 6, 4, 2, 10, 6, 10, 10, 9, 2, 6, 9, 2, 5, 5, 3, 2, 5, 7, 7, 5, 1, 8, 8, 10, 7, 7, 9, 7, 4, 5, 4, 4, 5, 4, 8, 4, 4, 9, 9], 'n008613': [0, 4, 3, 3, 5, 2, 5, 1, 4, 6, 3, 4, 3, 5, 3, 5, 4, 3, 2, 4, 3, 6, 5, 1, 4, 3, 3, 3, 3, 3, 3, 5, 4, 5, 3, 5, 1, 4, 4, 5, 6, 7, 3, 3, 3, 5, 8, 3, 3, 3], 'n000029': [2, 4, 7, 5, 7, 5, 3, 2, 5, 2, 4, 3, 3, 2, 5, 7, 5, 3, 4, 8, 4, 6, 5, 5, 4, 8, 10, 4, 7, 7, 6, 2, 5, 5, 8, 9, 5, 3, 2, 7, 3, 6, 6, 4, 4, 11, 5, 9, 7, 3], 'n009232': [2, 1, 3, 2, 1, 2, 3, 2, 2, 2, 3, 3, 4, 5, 3, 1, 1, 1, 6, 5, 4, 2, 0, 1, 2, 1, 4, 7, 1, 0, 0, 1, 2, 3, 2, 4, 3, 0, 2, 0, 0, 5, 1, 2, 7, 0, 1, 3, 0, 3], 'n005359': [0, 1, 1, 1, 1, 1, 2, 2, 1, 1, 1, 1, 1, 1, 2, 3, 2, 4, 2, 2, 2, 1, 2, 2, 2, 2, 2, 2, 2, 1, 2, 3, 3, 1, 4, 2, 3, 2, 5, 3, 3, 5, 1, 10, 6, 2, 2, 1, 1, 1], 'n003215': [0, 7, 2, 5, 8, 3, 6, 6, 4, 10, 3, 8, 5, 4, 4, 4, 2, 8, 11, 7, 6, 10, 3, 3, 4, 5, 9, 9, 8, 8, 7, 6, 5, 10, 4, 10, 4, 3, 8, 8, 6, 12, 4, 9, 4, 4, 5, 6, 1, 9], 'n005303': [4, 8, 8, 5, 14, 6, 11, 11, 7, 7, 10, 13, 9, 11, 6, 13, 11, 9, 5, 13, 7, 17, 11, 5, 10, 7, 7, 7, 14, 13, 8, 7, 8, 14, 10, 10, 10, 9, 10, 8, 12, 11, 10, 16, 13, 15, 10, 11, 12, 11], 'n005427': [0, 1, 1, 4, 1, 3, 1, 2, 5, 3, 1, 1, 3, 8, 4, 4, 2, 2, 3, 1, 3, 7, 3, 3, 5, 3, 2, 5, 1, 2, 7, 7, 3, 3, 3, 2, 5, 15, 2, 11, 11, 6, 9, 8, 0, 0, 5, 5, 26, 3], 'n001683': [0, 1, 10, 0, 1, 0, 0, 1, 1, 1, 0, 1, 1, 0, 1, 2, 1, 0, 1, 0, 0, 0, 1, 0, 1, 2, 1, 0, 1, 0, 9, 9, 0, 1, 1, 8, 0, 0, 5, 1, 13, 2, 11, 2, 7, 1, 1, 1, 1, 0], 'n001781': [0, 4, 8, 9, 4, 10, 15, 10, 1, 7, 12, 3, 11, 14, 14, 7, 6, 12, 4, 10, 8, 2, 2, 4, 8, 2, 5, 13, 11, 0, 6, 7, 11, 3, 8, 13, 10, 8, 9, 8, 11, 7, 3, 8, 11, 6, 3, 18, 14, 5], 'n009114': [34, 32, 32, 26, 35, 28, 30, 32, 32, 33, 31, 31, 32, 28, 32, 21, 32, 33, 31, 30, 31, 31, 36, 33, 30, 30, 34, 34, 32, 33, 30, 31, 34, 30, 33, 32, 3, 35, 24, 28, 32, 32, 13, 23, 31, 34, 34, 34, 34, 29], 'n004658': [0, 4, 4, 3, 5, 5, 1, 1, 6, 4, 4, 4, 3, 3, 5, 2, 1, 1, 5, 5, 5, 7, 2, 1, 7, 5, 4, 2, 3, 5, 7, 5, 7, 7, 2, 5, 4, 1, 3, 2, 2, 4, 2, 2, 6, 5, 2, 5, 2, 3], 'n002503': [12, 18, 7, 6, 7, 12, 8, 6, 18, 18, 4, 15, 8, 7, 6, 6, 1, 5, 7, 18, 9, 9, 11, 6, 8, 4, 8, 7, 3, 3, 9, 11, 1, 8, 8, 9, 9, 9, 3, 4, 8, 3, 12, 16, 15, 10, 4, 13, 6, 3]}\n"
     ]
    }
   ],
   "source": [
    "print(top_k_recall)"
   ]
  },
  {
   "cell_type": "code",
   "execution_count": null,
   "metadata": {},
   "outputs": [],
   "source": []
  }
 ],
 "metadata": {
  "kernelspec": {
   "display_name": "Python 3",
   "language": "python",
   "name": "python3"
  },
  "language_info": {
   "codemirror_mode": {
    "name": "ipython",
    "version": 3
   },
   "file_extension": ".py",
   "mimetype": "text/x-python",
   "name": "python",
   "nbconvert_exporter": "python",
   "pygments_lexer": "ipython3",
   "version": "3.6.2"
  }
 },
 "nbformat": 4,
 "nbformat_minor": 4
}
