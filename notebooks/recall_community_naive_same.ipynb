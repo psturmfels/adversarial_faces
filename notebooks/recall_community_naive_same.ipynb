{
 "cells": [
  {
   "cell_type": "code",
   "execution_count": 11,
   "metadata": {},
   "outputs": [],
   "source": [
    "from matplotlib import pyplot as plt\n",
    "%matplotlib inline\n",
    "import h5py\n",
    "import seaborn\n",
    "import numpy as np\n",
    "import os\n",
    "import tensorflow as tf\n",
    "from sklearn.metrics import pairwise_distances\n",
    "import sys\n",
    "sys.path.append(\"../\")\n",
    "from utils import l2_normalize, prewhiten, read_sampled_identities\n",
    "from PIL import Image\n",
    "seaborn.set()"
   ]
  },
  {
   "cell_type": "code",
   "execution_count": 27,
   "metadata": {},
   "outputs": [],
   "source": [
    "def recall(\n",
    "    base_embeddings, \n",
    "    lookup_embeddings,\n",
    "    lookup_labels, \n",
    "    k\n",
    "):\n",
    "    '''\n",
    "    For each base embedding in base_embeddings,\n",
    "    compute top k recall as an absolute number\n",
    "    (the number of ground truth positives in the lookup_embeddings\n",
    "    that are in the top k)\n",
    "    lookup_labels must be an array of 1's and 0's indicating the ground truth\n",
    "    for the lookup set (1 = positive, 0 = negative)\n",
    "    '''\n",
    "    dist = pairwise_distances(\n",
    "        base_embeddings,\n",
    "        lookup_embeddings\n",
    "    )\n",
    "    return np.array([np.sum(np.array(lookup_labels)[np.argsort(d)][:k]) for d in dist])"
   ]
  },
  {
   "cell_type": "code",
   "execution_count": 49,
   "metadata": {},
   "outputs": [],
   "source": [
    "path_to_adversarial = \"/data/vggface/test_perturbed_sampled/{true}/community_naive_same/{target}/epsilon_{epsilon}.h5\"\n",
    "path_to_clean = \"/data/vggface/test_preprocessed_sampled/{id}/embeddings.h5\"\n",
    "\n",
    "epsilons = [0.02, 0.04, 0.06, 0.08, 0.1]\n",
    "\n",
    "id2imnames = read_sampled_identities(\"../sampled_identities.txt\")\n",
    "identities = id2imnames.keys()\n",
    "\n",
    "positive = []\n",
    "negative_clean = []\n",
    "negative_adv = {eps: [] for eps in epsilons}\n",
    "ks = [1, 5, 10, 100, 1000]\n",
    "top_k_recall = {k: {eps: [] for eps in epsilons} for k in ks}\n",
    "num_available = {k: {eps: [] for eps in epsilons} for k in ks}\n",
    "\n",
    "for adversarial_target in identities:\n",
    "    clean_embeddings = []\n",
    "    mod_embeddings = []\n",
    "    adv = {eps: [] for eps in epsilons}\n",
    "    \n",
    "    with h5py.File(path_to_clean.format(id=adversarial_target), \"r\") as f:\n",
    "        clean_embeddings.extend(f[\"embeddings\"][:])\n",
    "\n",
    "    for modified_identity in identities:\n",
    "        if modified_identity == adversarial_target:\n",
    "            continue\n",
    "        # the identity that was modified for the adversarial\n",
    "        with h5py.File(path_to_clean.format(id=modified_identity), \"r\") as f:\n",
    "            mod_embeddings.extend(f[\"embeddings\"][:])\n",
    "\n",
    "        for indx, epsilon in enumerate(epsilons):\n",
    "            with h5py.File(path_to_adversarial.format(\n",
    "                target=adversarial_target,\n",
    "                true=modified_identity,\n",
    "                epsilon=epsilon\n",
    "            ), \"r\") as f:\n",
    "                adv[epsilon].extend(f[\"embeddings\"][:])\n",
    "\n",
    "    positive.extend(\n",
    "        pairwise_distances(\n",
    "            clean_embeddings, \n",
    "            clean_embeddings)[np.tril_indices(len(clean_embeddings), -1)].flatten()\n",
    "    )\n",
    "    negative_clean.extend(\n",
    "        pairwise_distances(\n",
    "            clean_embeddings, \n",
    "            mod_embeddings).flatten()\n",
    "    )\n",
    "    for indx, epsilon in enumerate(epsilons):\n",
    "        negative_adv[epsilon].extend(\n",
    "            pairwise_distances(clean_embeddings, adv[epsilon]).flatten()\n",
    "        )\n",
    "        \n",
    "    for k in ks:\n",
    "        for eps in epsilons:\n",
    "            top_k_recall[k][eps] = recall(\n",
    "                clean_embeddings, \n",
    "                adv[eps],\n",
    "                [1 for _ in range(len(clean_embeddings))] + [0 for _ in range(len(adv[eps]))],\n",
    "                k\n",
    "            )\n",
    "            num_available[k][eps] = min((len(adv[eps]), k))"
   ]
  },
  {
   "cell_type": "code",
   "execution_count": 50,
   "metadata": {},
   "outputs": [
    {
     "name": "stdout",
     "output_type": "stream",
     "text": [
      "{1: {0.02: 1, 0.04: 1, 0.06: 1, 0.08: 1, 0.1: 1},\n",
      " 5: {0.02: 5, 0.04: 5, 0.06: 5, 0.08: 5, 0.1: 5},\n",
      " 10: {0.02: 10, 0.04: 10, 0.06: 10, 0.08: 10, 0.1: 10},\n",
      " 100: {0.02: 100, 0.04: 100, 0.06: 100, 0.08: 100, 0.1: 100},\n",
      " 1000: {0.02: 900, 0.04: 900, 0.06: 900, 0.08: 900, 0.1: 900}}\n"
     ]
    }
   ],
   "source": [
    "import pprint\n",
    "pp = pprint.PrettyPrinter()\n",
    "\n",
    "pp.pprint(num_available)"
   ]
  },
  {
   "cell_type": "code",
   "execution_count": 55,
   "metadata": {},
   "outputs": [
    {
     "data": {
      "image/png": "[encoded data removed]",
      "text/plain": [
       "<Figure size 576x576 with 1 Axes>"
      ]
     },
     "metadata": {},
     "output_type": "display_data"
    }
   ],
   "source": [
    "fig, ax = plt.subplots(nrows=1, ncols=1, figsize=(8, 8))\n",
    "\n",
    "mean_top_k_recall = {k: {eps: -1.0 for eps in epsilons} for k in ks}\n",
    "\n",
    "colors=['#0017ad',\n",
    "        '#2d67ed',\n",
    "        '#37a0f0',\n",
    "        '#37e6f0',\n",
    "        '#000000'\n",
    "       ]\n",
    "\n",
    "for indx, k in enumerate(top_k_recall.keys()):\n",
    "    epsilons = top_k_recall[k].keys()\n",
    "    recall_to_plot = []\n",
    "    for eps in epsilons:\n",
    "        recall_percent = np.array(top_k_recall[k][eps]) / float(num_available[k][eps])\n",
    "        mean_recall = np.mean(recall_percent)\n",
    "        mean_top_k_recall[k][eps] = mean_recall\n",
    "        recall_to_plot.append(mean_recall)\n",
    "        \n",
    "    ax.plot(\n",
    "        list(epsilons),\n",
    "        recall_to_plot,\n",
    "        label=\"k={}\".format(k),\n",
    "        color=colors[indx],\n",
    "    )\n",
    "\n",
    "ax.set_ylabel(\"Recall Percentage\")\n",
    "ax.set_xlabel(\"Epsilon (Perturbation Amount)\")\n",
    "ax.set_title(\"Recall from top hits community_naive_same\")\n",
    "ax.set_ylim([0.0, 1.1])\n",
    "ax.legend()\n",
    "plt.show()\n"
   ]
  },
  {
   "cell_type": "code",
   "execution_count": 42,
   "metadata": {},
   "outputs": [
    {
     "name": "stdout",
     "output_type": "stream",
     "text": [
      "dict_keys([0.02, 0.04, 0.06, 0.08, 0.1])\n"
     ]
    }
   ],
   "source": [
    "print(epsilons)"
   ]
  },
  {
   "cell_type": "code",
   "execution_count": 43,
   "metadata": {},
   "outputs": [
    {
     "name": "stdout",
     "output_type": "stream",
     "text": [
      "[0.0, 0.06, 0.04, 0.1, 0.12]\n"
     ]
    }
   ],
   "source": [
    "print(recall_to_plot)"
   ]
  },
  {
   "cell_type": "code",
   "execution_count": null,
   "metadata": {},
   "outputs": [],
   "source": []
  }
 ],
 "metadata": {
  "kernelspec": {
   "display_name": "Python 3",
   "language": "python",
   "name": "python3"
  },
  "language_info": {
   "codemirror_mode": {
    "name": "ipython",
    "version": 3
   },
   "file_extension": ".py",
   "mimetype": "text/x-python",
   "name": "python",
   "nbconvert_exporter": "python",
   "pygments_lexer": "ipython3",
   "version": "3.6.2"
  }
 },
 "nbformat": 4,
 "nbformat_minor": 4
}
