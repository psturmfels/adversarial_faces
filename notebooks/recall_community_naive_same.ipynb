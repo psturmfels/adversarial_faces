{
 "cells": [
  {
   "cell_type": "code",
   "execution_count": 1,
   "metadata": {},
   "outputs": [],
   "source": [
    "from matplotlib import pyplot as plt\n",
    "%matplotlib inline\n",
    "import h5py\n",
    "import seaborn\n",
    "import numpy as np\n",
    "import os\n",
    "import tensorflow as tf\n",
    "from sklearn.metrics import pairwise_distances\n",
    "import sys\n",
    "sys.path.append(\"../\")\n",
    "from utils import l2_normalize, prewhiten, read_sampled_identities, plot_recall, recall_given_dist, plot_topk\n",
    "from PIL import Image\n",
    "seaborn.set()"
   ]
  },
  {
   "cell_type": "code",
   "execution_count": null,
   "metadata": {},
   "outputs": [],
   "source": [
    "plot_recall(\n",
    "    path_to_adversarial=\"/data/vggface/test_perturbed_sampled/{true}/community_naive_same/{target}/epsilon_{epsilon}.h5\",\n",
    "    path_to_clean=\"/data/vggface/test_preprocessed_sampled/{id}/embeddings.h5\",\n",
    "    epsilons=[0.0, 0.02, 0.04, 0.06, 0.08, 0.1],\n",
    "    identities=read_sampled_identities(\"../sampled_identities.txt\").keys(),\n",
    "    ks=[1, 5, 10, 100, 1000],\n",
    "    colors=['#0017ad', '#2d67ed', '#37a0f0', '#37e6f0','#000000']\n",
    ")"
   ]
  },
  {
   "cell_type": "markdown",
   "metadata": {},
   "source": [
    "# Tests for recall function"
   ]
  },
  {
   "cell_type": "code",
   "execution_count": null,
   "metadata": {},
   "outputs": [],
   "source": [
    "print(recall_given_dist([0.0, 1.0], [1.5, 1.6], 100) == 1.0)\n",
    "print(recall_given_dist([0.0, 1.0], [1.5, 1.6], 100) == 1.0)\n",
    "print(recall_given_dist([0.0, 1.8], [1.5, 1.6], 100) == 1.0)\n",
    "print()\n",
    "print(recall_given_dist([0.0, 1.8], [1.5, 1.6], 2) == 0.5)\n",
    "print(recall_given_dist([0.0, 1.0], [1.5, 1.6], 2) == 1.0)\n",
    "print(recall_given_dist([0.0, 1.0], [1.5, 1.6], 2) == 1.0)\n",
    "print()\n",
    "print(recall_given_dist([0.0, 1.0], [1.5, 1.6], 2) == 1.0)\n",
    "print()\n",
    "print(recall_given_dist([0.0, 1.0], [0.4, 1.6], 2) == 0.5)\n",
    "print(recall_given_dist([0.5, 1.0], [0.4, 0.3], 2) == 0.0)\n",
    "print()\n",
    "print(recall_given_dist([0.0, 1.8], [1.5, 1.6], 4) == 0.5)\n",
    "print(recall_given_dist([0.0, 1.0], [1.5, 1.6], 4) == 1.0)\n",
    "print(recall_given_dist([0.0, 1.0], [1.5, 1.6], 4) == 1.0)\n",
    "print()\n",
    "print(recall_given_dist([0.0, 1.0], [1.5, 1.6], 4) == 1.0)\n",
    "print()\n",
    "print(recall_given_dist([0.0, 1.0], [0.4, 1.6], 4) == 1.0)\n",
    "print(recall_given_dist([0.5, 1.0], [0.4, 0.3], 4) == 1.0)\n",
    "print()\n",
    "print(np.abs(recall_given_dist([0.0, 1.8], [1.5, 1.6], 3) - 0.5) < 1e-3)\n",
    "print(np.abs(recall_given_dist([0.0, 1.0], [1.5, 1.6], 3)) == 1.0)\n",
    "print(recall_given_dist([0.0, 1.0], [1.5, 1.6], 3) == 1.0)\n",
    "print()\n",
    "print(recall_given_dist([0.0, 1.0], [1.5, 1.6], 3) == 1.0)\n",
    "print(np.abs(recall_given_dist([0.0, 1.0], [0.4, 1.6], 3)) == 1.0)\n",
    "print(recall_given_dist([0.5, 1.0], [0.4, 0.3], 3) == 0.5)\n",
    "print()\n",
    "print(recall_given_dist([0.0, 1.0], [1.5, 1.6], 1) == 1.0)\n",
    "print(np.abs(recall_given_dist([0.0, 1.0], [0.4, 1.6], 1)) == 1.0)\n",
    "print(recall_given_dist([0.5, 1.0], [0.4, 0.3], 1) == 0.0)\n",
    "print()\n",
    "print(recall_given_dist([0.0, 0.1, 0.2], [0.3, 0.4, 0.5], 5) == 1.0)\n",
    "print(np.abs(recall_given_dist([0.0, 0.1, 0.2, 0.3, 0.4], [0.5, 1.6], 5)) == 1.0)\n",
    "print(np.abs(recall_given_dist([0.0, 1.1, 0.2, 0.3, 0.4], [0.4, 1.6], 5)) == 0.8)\n",
    "print()\n",
    "print(recall_given_dist([0.0, 0.1, 0.2], [0.3, 0.4, 0.5], 1) == 1.0)\n",
    "print(np.abs(recall_given_dist([0.0, 0.1, 0.2, 0.3, 0.4], [0.5, 1.6], 1)) == 1.0)\n",
    "print(np.abs(recall_given_dist([0.0, 1.1, 0.2, 0.3, 0.4], [0.4, 1.6], 1)) == 1.0)"
   ]
  },
  {
   "cell_type": "code",
   "execution_count": null,
   "metadata": {},
   "outputs": [],
   "source": [
    "plot_topk()"
   ]
  },
  {
   "cell_type": "code",
   "execution_count": null,
   "metadata": {},
   "outputs": [],
   "source": [
    "plot_topk(k=5, epsilon=0.1)"
   ]
  },
  {
   "cell_type": "code",
   "execution_count": null,
   "metadata": {},
   "outputs": [],
   "source": [
    "plot_topk(adversarial_target=\"n005359\", epsilon=0.04)"
   ]
  },
  {
   "cell_type": "code",
   "execution_count": null,
   "metadata": {},
   "outputs": [],
   "source": [
    "plot_topk(adversarial_target=\"n005359\", epsilon=0.04, k=100)"
   ]
  },
  {
   "cell_type": "code",
   "execution_count": null,
   "metadata": {},
   "outputs": [],
   "source": [
    "plot_topk(adversarial_target=\"n005359\", epsilon=0.04, k=10)"
   ]
  },
  {
   "cell_type": "code",
   "execution_count": null,
   "metadata": {},
   "outputs": [],
   "source": []
  }
 ],
 "metadata": {
  "kernelspec": {
   "display_name": "Python 3",
   "language": "python",
   "name": "python3"
  },
  "language_info": {
   "codemirror_mode": {
    "name": "ipython",
    "version": 3
   },
   "file_extension": ".py",
   "mimetype": "text/x-python",
   "name": "python",
   "nbconvert_exporter": "python",
   "pygments_lexer": "ipython3",
   "version": "3.6.2"
  }
 },
 "nbformat": 4,
 "nbformat_minor": 4
}
