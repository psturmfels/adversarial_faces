{
 "cells": [
  {
   "cell_type": "code",
   "execution_count": 1,
   "metadata": {},
   "outputs": [],
   "source": [
    "from matplotlib import pyplot as plt\n",
    "%matplotlib inline\n",
    "import h5py\n",
    "import seaborn\n",
    "import numpy as np\n",
    "import os\n",
    "import tensorflow as tf\n",
    "from sklearn.metrics import pairwise_distances\n",
    "import sys\n",
    "sys.path.append(\"../\")\n",
    "from utils import l2_normalize, prewhiten, read_sampled_identities\n",
    "from PIL import Image\n",
    "seaborn.set()"
   ]
  },
  {
   "cell_type": "code",
   "execution_count": 116,
   "metadata": {},
   "outputs": [],
   "source": [
    "def recall_given_dist(\n",
    "    dist_self,\n",
    "    dist_negative,\n",
    "    k\n",
    "):\n",
    "    dist_self = np.sort(dist_self)\n",
    "    dist_engative = np.sort(dist_negative)\n",
    "    i = 0.0\n",
    "    i_self = 0\n",
    "    i_neg = 0\n",
    "    recall_count = 0.0\n",
    "    while i < k:  \n",
    "        if dist_self[i_self] < dist_negative[i_neg]:\n",
    "            recall_count += 1.0\n",
    "            i_self += 1\n",
    "        else:\n",
    "            i_neg += 1\n",
    "\n",
    "        i += 1.0\n",
    "\n",
    "        if i_self >= len(dist_self):\n",
    "            break\n",
    "\n",
    "        if i_neg >= len(dist_negative):\n",
    "            remaining_true = float(len(dist_self)) - i_self\n",
    "            recall_count += remaining_true\n",
    "            break\n",
    "    return recall_count / min(len(dist_self), k)\n",
    "\n",
    "def recall(\n",
    "    base_embeddings, \n",
    "    negative_embeddings,\n",
    "    k\n",
    "):\n",
    "    self_distances = pairwise_distances(\n",
    "        base_embeddings,\n",
    "        base_embeddings\n",
    "    )#[np.tril_indices(len(base_embeddings), -1)].flatten()\n",
    "    \n",
    "    negative_distances = pairwise_distances(\n",
    "        base_embeddings,\n",
    "        negative_embeddings\n",
    "    )\n",
    "    \n",
    "    recall = []\n",
    "    for indx, dist_self in enumerate(self_distances):\n",
    "        dist_self = np.delete(dist_self, indx)\n",
    "        dist_negative = negative_distances[indx]\n",
    "            \n",
    "        recall.append(recall_given_dist(dist_self, dist_negative, k))\n",
    "    return np.mean(recall)"
   ]
  },
  {
   "cell_type": "code",
   "execution_count": 117,
   "metadata": {},
   "outputs": [
    {
     "name": "stdout",
     "output_type": "stream",
     "text": [
      "1.0\n"
     ]
    }
   ],
   "source": [
    "print(recall_given_dist([0.0, 1.0], [1.5, 1.6], 100))"
   ]
  },
  {
   "cell_type": "code",
   "execution_count": 118,
   "metadata": {},
   "outputs": [
    {
     "name": "stdout",
     "output_type": "stream",
     "text": [
      "1.0\n"
     ]
    }
   ],
   "source": [
    "print(recall_given_dist([0.0, 1.0], [1.5, 1.6], 100))"
   ]
  },
  {
   "cell_type": "code",
   "execution_count": 119,
   "metadata": {},
   "outputs": [
    {
     "name": "stdout",
     "output_type": "stream",
     "text": [
      "1.0\n"
     ]
    }
   ],
   "source": [
    "print(recall_given_dist([0.0, 1.8], [1.5, 1.6], 100))"
   ]
  },
  {
   "cell_type": "code",
   "execution_count": 120,
   "metadata": {},
   "outputs": [
    {
     "name": "stdout",
     "output_type": "stream",
     "text": [
      "0.5\n"
     ]
    }
   ],
   "source": [
    "print(recall_given_dist([0.0, 1.8], [1.5, 1.6], 2))"
   ]
  },
  {
   "cell_type": "code",
   "execution_count": 121,
   "metadata": {},
   "outputs": [
    {
     "name": "stdout",
     "output_type": "stream",
     "text": [
      "1.0\n"
     ]
    }
   ],
   "source": [
    "print(recall_given_dist([0.0, 1.0], [1.5, 1.6], 2))"
   ]
  },
  {
   "cell_type": "code",
   "execution_count": null,
   "metadata": {},
   "outputs": [],
   "source": []
  },
  {
   "cell_type": "code",
   "execution_count": 122,
   "metadata": {},
   "outputs": [],
   "source": [
    "path_to_adversarial = \"/data/vggface/test_perturbed_sampled/{true}/community_naive_same/{target}/epsilon_{epsilon}.h5\"\n",
    "path_to_clean = \"/data/vggface/test_preprocessed_sampled/{id}/embeddings.h5\"\n",
    "\n",
    "epsilons = [0.0, 0.02, 0.04, 0.06, 0.08, 0.1]\n",
    "\n",
    "id2imnames = read_sampled_identities(\"../sampled_identities.txt\")\n",
    "identities = list(id2imnames.keys())\n",
    "\n",
    "positive = []\n",
    "negative_clean = []\n",
    "negative_adv = {eps: [] for eps in epsilons}\n",
    "ks = [1, 5, 10, 100, 1000]\n",
    "top_k_recall = {k: {eps: [] for eps in epsilons} for k in ks}\n",
    "\n",
    "for adversarial_target in identities:\n",
    "    clean_embeddings = []\n",
    "    mod_embeddings = []\n",
    "    adv = {eps: [] for eps in epsilons}\n",
    "    \n",
    "    with h5py.File(path_to_clean.format(id=adversarial_target), \"r\") as f:\n",
    "        clean_embeddings.extend(f[\"embeddings\"][:])\n",
    "        adv[0.0].extend(f[\"embeddings\"][:])\n",
    "\n",
    "    for modified_identity in identities:\n",
    "        if modified_identity == adversarial_target:\n",
    "            continue\n",
    "        # the identity that was modified for the adversarial\n",
    "        with h5py.File(path_to_clean.format(id=modified_identity), \"r\") as f:\n",
    "            adv[0.0].extend(f[\"embeddings\"][:])\n",
    "\n",
    "        for indx, epsilon in enumerate(epsilons[1:]):\n",
    "            with h5py.File(path_to_adversarial.format(\n",
    "                target=adversarial_target,\n",
    "                true=modified_identity,\n",
    "                epsilon=epsilon\n",
    "            ), \"r\") as f:\n",
    "                adv[epsilon].extend(f[\"embeddings\"][:])\n",
    "\n",
    "    positive.extend(\n",
    "        pairwise_distances(\n",
    "            clean_embeddings, \n",
    "            clean_embeddings)[np.tril_indices(len(clean_embeddings), -1)].flatten()\n",
    "    )\n",
    "    negative_clean.extend(\n",
    "        pairwise_distances(\n",
    "            clean_embeddings, \n",
    "            adv[0.0]).flatten()\n",
    "    )\n",
    "    for indx, epsilon in enumerate(epsilons[1:]):\n",
    "        negative_adv[epsilon].extend(\n",
    "            pairwise_distances(clean_embeddings, adv[epsilon]).flatten()\n",
    "        )\n",
    "        \n",
    "    for k in ks:\n",
    "        for eps in epsilons:\n",
    "            top_k_recall[k][eps] = recall(\n",
    "                clean_embeddings, \n",
    "                adv[eps],\n",
    "                k\n",
    "            )\n"
   ]
  },
  {
   "cell_type": "code",
   "execution_count": 123,
   "metadata": {},
   "outputs": [],
   "source": [
    "# colors=[\n",
    "#     '#8A5998',\n",
    "#     '#485682',\n",
    "#     '#2F4858',\n",
    "#     '#FD8D00',\n",
    "#     '#FD5E5B',\n",
    "#     '#D0528A',\n",
    "# ]\n",
    "# fig, ax = plt.subplots(nrows=1, ncols=1)\n",
    "# seaborn.distplot(\n",
    "#     positive,\n",
    "#     kde=True,\n",
    "#     hist=True,\n",
    "#     label=\"+ (self)\",\n",
    "#     ax=ax,\n",
    "#     color='green'\n",
    "# )\n",
    "\n",
    "# seaborn.distplot(\n",
    "#     negative_clean,\n",
    "#     kde=True,\n",
    "#     hist=True,\n",
    "#     label=\"- (clean)\",\n",
    "#     ax=ax,\n",
    "#     color='red'\n",
    "# )\n",
    "\n",
    "\n",
    "# for indx, epsilon in enumerate(epsilons):\n",
    "#     seaborn.distplot(\n",
    "#         negative_adv[epsilon],\n",
    "#         kde=True,\n",
    "#         hist=False,\n",
    "#         label=\"- adv epsilon={}\".format(epsilon),\n",
    "#         ax=ax,\n",
    "#         color=colors[indx]\n",
    "#     )\n",
    "#     ax.set_xlabel(\"Normalized L2 distance to clean image\")\n",
    "#     ax.set_ylabel(\"Frequency\")\n",
    "#     ax.set_title(\"Epsilon={}\".format(epsilon))"
   ]
  },
  {
   "cell_type": "code",
   "execution_count": 124,
   "metadata": {},
   "outputs": [
    {
     "data": {
      "image/png": "[encoded data removed]",
      "text/plain": [
       "<Figure size 432x288 with 1 Axes>"
      ]
     },
     "metadata": {},
     "output_type": "display_data"
    }
   ],
   "source": [
    "fig, ax = plt.subplots(nrows=1, ncols=1)\n",
    "\n",
    "mean_top_k_recall = {k: {eps: -1.0 for eps in epsilons} for k in ks}\n",
    "\n",
    "colors=['#0017ad',\n",
    "        '#2d67ed',\n",
    "        '#37a0f0',\n",
    "        '#37e6f0',\n",
    "        '#000000'\n",
    "       ]\n",
    "\n",
    "for indx, k in enumerate(top_k_recall.keys()):\n",
    "    epsilons = top_k_recall[k].keys()\n",
    "    recall_to_plot = []\n",
    "    for eps in epsilons:        \n",
    "        recall_to_plot.append(top_k_recall[k][eps])\n",
    "        \n",
    "    ax.plot(\n",
    "        list(epsilons),\n",
    "        recall_to_plot,\n",
    "        label=\"k={}\".format(k),\n",
    "        color=colors[indx],\n",
    "    )\n",
    "\n",
    "ax.set_ylabel(\"Recall Percentage\")\n",
    "ax.set_xlabel(\"Epsilon (Perturbation Amount)\")\n",
    "ax.set_title(\"Recall from top hits community_naive_same\")\n",
    "ax.set_ylim([-0.1, 1.1])\n",
    "ax.legend()\n",
    "plt.show()\n"
   ]
  },
  {
   "cell_type": "code",
   "execution_count": 6,
   "metadata": {},
   "outputs": [
    {
     "name": "stdout",
     "output_type": "stream",
     "text": [
      "[[ 0  1  2  3  4]\n",
      " [ 5  6  7  8  9]\n",
      " [10 11 12 13 14]\n",
      " [15 16 17 18 19]\n",
      " [20 21 22 23 24]]\n",
      "[ 5 10 11 15 16 17 20 21 22 23]\n"
     ]
    }
   ],
   "source": [
    "arr = np.reshape(np.array([x for x in range(25)]), (5, 5))\n",
    "print(arr)\n",
    "print(arr[np.tril_indices(5, -1)])"
   ]
  },
  {
   "cell_type": "code",
   "execution_count": 7,
   "metadata": {},
   "outputs": [
    {
     "name": "stdout",
     "output_type": "stream",
     "text": [
      "{1: {0.0: 0.0, 0.02: 1.0, 0.04: 0.82, 0.06: 0.48, 0.08: 0.6, 0.1: 0.64},\n",
      " 5: {0.0: 0.292,\n",
      "     0.02: 0.96,\n",
      "     0.04: 0.836,\n",
      "     0.06: 0.7959999999999999,\n",
      "     0.08: 0.72,\n",
      "     0.1: 0.26799999999999996},\n",
      " 10: {0.0: 0.326,\n",
      "      0.02: 0.98,\n",
      "      0.04: 0.87,\n",
      "      0.06: 0.74,\n",
      "      0.08: 0.6439999999999999,\n",
      "      0.1: 0.196},\n",
      " 100: {0.0: 0.494949494949495,\n",
      "       0.02: 0.9757489707475624,\n",
      "       0.04: 0.6475128688128688,\n",
      "       0.06: 0.3176989898989899,\n",
      "       0.08: 0.17300000000000001,\n",
      "       0.1: 0.08296410256410257},\n",
      " 1000: {0.0: 0.494949494949495,\n",
      "        0.02: 0.9757489707475624,\n",
      "        0.04: 0.6648521929081913,\n",
      "        0.06: 0.23455674782827884,\n",
      "        0.08: 0.08884828893031653,\n",
      "        0.1: 0.06540767440917751}}\n"
     ]
    }
   ],
   "source": [
    "from pprint import PrettyPrinter as pp\n",
    "pp().pprint(top_k_recall)"
   ]
  },
  {
   "cell_type": "code",
   "execution_count": 8,
   "metadata": {},
   "outputs": [
    {
     "name": "stdout",
     "output_type": "stream",
     "text": [
      "['n009288', 'n002763', 'n000958', 'n002647', 'n008655', 'n003356', 'n007548', 'n008613', 'n000029', 'n009232', 'n005359', 'n003215', 'n005303', 'n005427', 'n001683', 'n001781', 'n009114', 'n004658', 'n002503']\n"
     ]
    }
   ],
   "source": [
    "print(identities)"
   ]
  },
  {
   "cell_type": "code",
   "execution_count": 9,
   "metadata": {},
   "outputs": [],
   "source": [
    "# with h5py.File(path_to_clean.format(id='n008655'), \"r\") as f1:\n",
    "#     with h5py.File(path_to_clean.format(id='n000029'), \"r\") as f2:\n",
    "#         seaborn.distplot(\n",
    "#             pairwise_distances(\n",
    "#                 f1[\"embeddings\"][:],\n",
    "#                 f2[\"embeddings\"][:]\n",
    "#             ),\n",
    "#             color=\"red\",\n",
    "#             label=\"diff\"\n",
    "#         )\n",
    "        \n",
    "#         seaborn.distplot(\n",
    "#             pairwise_distances(\n",
    "#                 f1[\"embeddings\"][:],\n",
    "#                 f1[\"embeddings\"][:]\n",
    "#             )[np.tril_indices(len(f1[\"embeddings\"][:]), -1)],\n",
    "#             color=\"green\",\n",
    "#             label=\"A self\"\n",
    "#         )\n",
    "        \n",
    "#         seaborn.distplot(\n",
    "#             pairwise_distances(\n",
    "#                 f2[\"embeddings\"][:],\n",
    "#                 f2[\"embeddings\"][:]\n",
    "#             )[np.tril_indices(len(f2[\"embeddings\"][:]), -1)],\n",
    "#             color=\"lightgreen\",\n",
    "#             label=\"B self\"\n",
    "#         )\n",
    "#         plt.legend()"
   ]
  },
  {
   "cell_type": "code",
   "execution_count": 10,
   "metadata": {},
   "outputs": [],
   "source": [
    "# model = tf.keras.models.load_model(\"../keras-facenet/model/facenet_keras.h5\")\n",
    "# with h5py.File(path_to_clean.format(id='n008655'), \"r\") as f1:\n",
    "#     with h5py.File(path_to_clean.format(id='n000029'), \"r\") as f2:\n",
    "#         seaborn.distplot(\n",
    "#             pairwise_distances(\n",
    "#                 l2_normalize(model.predict(prewhiten(f1[\"images\"][:]))),\n",
    "#                 l2_normalize(model.predict(prewhiten(f2[\"images\"][:])))\n",
    "#             ),\n",
    "#             color=\"red\",\n",
    "#             label=\"diff\"\n",
    "#         )\n",
    "        \n",
    "#         seaborn.distplot(\n",
    "#             pairwise_distances(\n",
    "#                 l2_normalize(model.predict(prewhiten(f1[\"images\"][:]))),\n",
    "#                 l2_normalize(model.predict(prewhiten(f1[\"images\"][:])))\n",
    "#             )[np.tril_indices(len(f1[\"embeddings\"][:]), -1)],\n",
    "#             color=\"green\",\n",
    "#             label=\"A self\"\n",
    "#         )\n",
    "        \n",
    "#         seaborn.distplot(\n",
    "#             pairwise_distances(\n",
    "#                 l2_normalize(model.predict(prewhiten(f2[\"images\"][:]))),\n",
    "#                 l2_normalize(model.predict(prewhiten(f2[\"images\"][:])))\n",
    "#             )[np.tril_indices(len(f2[\"embeddings\"][:]), -1)],\n",
    "#             color=\"lightgreen\",\n",
    "#             label=\"B self\"\n",
    "#         )\n",
    "#         plt.legend()"
   ]
  },
  {
   "cell_type": "code",
   "execution_count": null,
   "metadata": {},
   "outputs": [],
   "source": []
  },
  {
   "cell_type": "code",
   "execution_count": null,
   "metadata": {},
   "outputs": [],
   "source": []
  }
 ],
 "metadata": {
  "kernelspec": {
   "display_name": "Python 3",
   "language": "python",
   "name": "python3"
  },
  "language_info": {
   "codemirror_mode": {
    "name": "ipython",
    "version": 3
   },
   "file_extension": ".py",
   "mimetype": "text/x-python",
   "name": "python",
   "nbconvert_exporter": "python",
   "pygments_lexer": "ipython3",
   "version": "3.6.2"
  }
 },
 "nbformat": 4,
 "nbformat_minor": 4
}
