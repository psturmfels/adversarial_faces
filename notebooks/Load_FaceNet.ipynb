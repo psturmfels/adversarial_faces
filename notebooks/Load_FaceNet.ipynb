{
 "cells": [
  {
   "cell_type": "code",
   "execution_count": 1,
   "metadata": {},
   "outputs": [
    {
     "name": "stdout",
     "output_type": "stream",
     "text": [
      "WARNING:tensorflow:From /home/ivan/anaconda3/envs/facenet/lib/python3.5/site-packages/tensorflow/contrib/learn/python/learn/datasets/base.py:198: retry (from tensorflow.contrib.learn.python.learn.datasets.base) is deprecated and will be removed in a future version.\n",
      "Instructions for updating:\n",
      "Use the retry module or similar alternatives.\n"
     ]
    }
   ],
   "source": [
    "import os\n",
    "os.environ[\"CUDA_VISIBLE_DEVICES\"] = \"1\"\n",
    "import tensorflow as tf\n",
    "from inception_resnet_v1 import inference\n",
    "import glob\n",
    "import numpy as np\n",
    "from PIL import Image\n",
    "from sklearn.metrics import pairwise_distances, roc_auc_score\n",
    "from matplotlib import pyplot as plt\n",
    "%matplotlib inline\n",
    "from tqdm import tqdm"
   ]
  },
  {
   "cell_type": "code",
   "execution_count": 2,
   "metadata": {},
   "outputs": [],
   "source": [
    "dataset_to_model_name = {\n",
    "    \"casia-webface\": \"20180408-102900\",\n",
    "    \"vggface2\": \"20180402-114759\"\n",
    "}\n",
    "\n",
    "dataset_to_ckpt_number = {\n",
    "    \"casia-webface\": \"90\",\n",
    "    \"vggface2\": \"275\"\n",
    "}"
   ]
  },
  {
   "cell_type": "code",
   "execution_count": 3,
   "metadata": {},
   "outputs": [],
   "source": [
    "def prewhiten(x):\n",
    "    \"\"\"\n",
    "    A helper function to whiten an image, or a batch of images.\n",
    "    Args:\n",
    "        x: An image or batch of images.\n",
    "    \"\"\"\n",
    "    if x.ndim == 4:\n",
    "        axis = (1, 2, 3)\n",
    "        size = x[0].size\n",
    "    elif x.ndim == 3:\n",
    "        axis = (0, 1, 2)\n",
    "        size = x.size\n",
    "    else:\n",
    "        print(x.ndim)\n",
    "        raise ValueError('Dimension should be 3 or 4')\n",
    "\n",
    "    mean = np.mean(x, axis=axis, keepdims=True)\n",
    "    std = np.std(x, axis=axis, keepdims=True)\n",
    "#     std_adj = np.maximum(std, 1.0/np.sqrt(size))\n",
    "    y = (x - mean) / std\n",
    "    return y\n",
    "\n",
    "def l2_normalize(x, axis=-1, epsilon=1e-10):\n",
    "    \"\"\"\n",
    "    Normalizes an embedding to have unit length in the l2 metric.\n",
    "    Args:\n",
    "        x: A batch of numpy embeddings\n",
    "    \"\"\"\n",
    "    output = x / np.sqrt(np.maximum(np.sum(np.square(x),\n",
    "                                           axis=axis,\n",
    "                                           keepdims=True),\n",
    "                                    epsilon))\n",
    "    return output"
   ]
  },
  {
   "cell_type": "code",
   "execution_count": 4,
   "metadata": {},
   "outputs": [],
   "source": [
    "class PersonImages:\n",
    "    def __init__(self, person_name):\n",
    "        self.clean_folder = \"\"\n",
    "        self.clean_images = []\n",
    "        self.adversarial_images = []\n",
    "        self.reloaded_adversarial_images = []\n",
    "        self.orig_mean = None\n",
    "        self.orig_std = None\n",
    "        self.person_name = person_name\n",
    "        self.adversarial_save_folder = None\n",
    "    \n",
    "    def _load_one_facenet(self, path, crop_box=None, resize_size=None, prewhiten_img=True):\n",
    "        img = Image.open(path).convert(\"RGB\")\n",
    "        \n",
    "        if crop_box:\n",
    "            img = img.crop(crop_box)\n",
    "            \n",
    "        if resize_size:\n",
    "            img = img.resize((resize_size, resize_size))\n",
    "            \n",
    "        img = (np.array(img)).astype(np.float32)\n",
    "        \n",
    "        if prewhiten_img:\n",
    "            img = prewhiten(img)\n",
    "            \n",
    "        return img\n",
    "        \n",
    "        \n",
    "    def _load_folder_for_facenet(self, folder, crop=False, resize_size=None):\n",
    "        paths_list = glob.glob(os.path.join(folder, \"*\"))\n",
    "        final_imgs = []\n",
    "        for img_path in paths_list:\n",
    "            final_imgs.append(\n",
    "                self._load_one_facenet(\n",
    "                    img_path, prewhiten_img=False, resize_size=resize_size))\n",
    "        \n",
    "        final_imgs = np.array(final_imgs)\n",
    "        mean, std = np.mean(final_imgs), np.std(final_imgs)\n",
    "        final_imgs = prewhiten(np.array(final_imgs))\n",
    "        return final_imgs, mean, std\n",
    "        \n",
    "        \n",
    "    def load_clean_from_folder(self, clean_folder, resize_size=160, crop=True):\n",
    "        self.clean_folder = clean_folder\n",
    "        self.clean_images, self.orig_mean, self.orig_std = self._load_folder_for_facenet(\n",
    "            clean_folder, crop=crop, resize_size=resize_size)\n",
    "    \n",
    "    def _load_plain(self, folder):\n",
    "        imgs, mean, std = self._load_folder_for_facenet(folder, crop=False, resize_size=None)\n",
    "        return imgs\n",
    "        \n",
    "    def reload_adversarial(self):\n",
    "        self.reloaded_adversarial_images = self._load_plain(self.adversarial_save_folder)\n",
    "        \n",
    "    def _undo_preprocess(self, images):\n",
    "        restored_images = images.copy()\n",
    "        restored_images  *= self.orig_std\n",
    "        restored_images += self.orig_mean\n",
    "        restored_images = np.clip(restored_images, 0.0, 255.0)\n",
    "        return np.uint8(restored_images)\n",
    "    \n",
    "    def get_clean_for_display(self):\n",
    "        return self._undo_preprocess(self.clean_images)\n",
    "    \n",
    "    def get_adversarial_for_display(self):\n",
    "        return self._undo_preprocess(self.adversarial_images)\n",
    "    \n",
    "    def save_adversarial(self, save_path, save_format):\n",
    "        self.adversarial_save_folder = save_path\n",
    "        self.adversarial_save_format = save_format\n",
    "        adversarial_for_save = self.get_adversarial_for_display()\n",
    "        \n",
    "        for indx, img in enumerate(adversarial_for_save):\n",
    "            Image.fromarray(img).save(\n",
    "                os.path.join(\n",
    "                    save_path, \n",
    "                    \"{person_name}_{indx:02d}.{adversarial_save_format}\".format(\n",
    "                        person_name=self.person_name,\n",
    "                        indx=indx,\n",
    "                        adversarial_save_format=self.adversarial_save_format\n",
    "                    ))\n",
    "            )\n",
    "            \n",
    "    def _compute_embeddings(self, model, images):\n",
    "        return model.predict(np.array(images), batch_size=len(images))\n",
    "    \n",
    "    def compute_clean_embeddings_with_model(self, model):\n",
    "        self.clean_embeddings = self._compute_embeddings(model, self.clean_images)\n",
    "        \n",
    "    def compute_adversarial_embeddings_with_model(self, model):\n",
    "        self.adversarial_embeddings = self._compute_embeddings(model, self.adversarial_images)\n",
    "        \n",
    "    def compute_reloaded_adversarial_embeddings_with_model(self, model):\n",
    "        self.reloaded_adversarial_embeddings = self._compute_embeddings(model, self.reloaded_adversarial_images)"
   ]
  },
  {
   "cell_type": "code",
   "execution_count": 5,
   "metadata": {},
   "outputs": [],
   "source": [
    "class MyModel:\n",
    "    def __init__(self, model_path):\n",
    "        self.model_inputs = tf.placeholder(tf.float32, shape=(None, 160, 160, 3))\n",
    "\n",
    "        self.net, self.endpoints = inference(\n",
    "            self.model_inputs, keep_probability=1.0, bottleneck_layer_size=512, phase_train=False)\n",
    "\n",
    "        model_name = dataset_to_model_name[\"vggface2\"]\n",
    "        saver = tf.train.Saver()\n",
    "\n",
    "        self.sess = tf.Session()\n",
    "        saver.restore(self.sess, model_path)\n",
    "    \n",
    "    def predict(self, inputs, batch_size):\n",
    "        return self.sess.run(self.net, feed_dict={self.model_inputs: inputs})"
   ]
  },
  {
   "cell_type": "code",
   "execution_count": 6,
   "metadata": {},
   "outputs": [],
   "source": [
    "def build_model(dataset_name):\n",
    "    model_name = dataset_to_model_name[dataset_name]\n",
    "    model = MyModel(os.path.join(\n",
    "        \"/home/ivan/facenet/models\",\n",
    "        model_name,\n",
    "        \"model-{model_name}.ckpt-{ckpt_num}\".format(\n",
    "            model_name=dataset_to_model_name[dataset_name],\n",
    "            ckpt_num=dataset_to_ckpt_number[dataset_name]\n",
    "        )\n",
    "    ))\n",
    "    return model"
   ]
  },
  {
   "cell_type": "code",
   "execution_count": 7,
   "metadata": {},
   "outputs": [],
   "source": [
    "def path_for_id_robust_0p5(identity):\n",
    "    if identity == \"n000958\":\n",
    "        return \"/data/vggface/test_perturbed_sampled/{id}/robust_community_naive_mean/n000029/epsilon_0.5/png\".format(id=identity)\n",
    "    else:\n",
    "        return \"/data/vggface/test_perturbed_sampled/{id}/robust_community_naive_mean/n000958/epsilon_0.5/png\".format(id=identity)\n",
    "    \n",
    "\n",
    "def path_for_id_mean_0p1(identity):\n",
    "    if identity == \"n000958\":\n",
    "        return \"/data/vggface/test_perturbed_sampled/{id}/community_naive_mean/n000029/epsilon_0.1/png\".format(id=identity)\n",
    "    else:\n",
    "        return \"/data/vggface/test_perturbed_sampled/{id}/community_naive_mean/n000958/epsilon_0.1/png\".format(id=identity)\n",
    "\n",
    "def path_for_id_clean(identity):\n",
    "    if identity == \"n000958\":\n",
    "        return \"/data/vggface/test_perturbed_sampled/{id}/community_naive_mean/n000029/epsilon_0.0/png\".format(id=identity)\n",
    "    else:\n",
    "        return \"/data/vggface/test_perturbed_sampled/{id}/community_naive_mean/n000958/epsilon_0.0/png\".format(id=identity)\n"
   ]
  },
  {
   "cell_type": "code",
   "execution_count": 8,
   "metadata": {},
   "outputs": [],
   "source": [
    "def build_person(person_name, path_for_id_fn):\n",
    "    person_a = PersonImages(person_name)\n",
    "    person_a.load_clean_from_folder(path_for_id_fn(person_a.person_name))\n",
    "    return person_a"
   ]
  },
  {
   "cell_type": "code",
   "execution_count": 9,
   "metadata": {},
   "outputs": [],
   "source": [
    "def roc_curve(positive, negative, network_name):\n",
    "    ground_truth = [0 for x in positive] + [5 for x in negative]\n",
    "    scores = np.concatenate((positive, negative), axis=0)\n",
    "    roc_auc = roc_auc_score(\n",
    "        y_true=ground_truth,\n",
    "        y_score=scores, \n",
    "    )\n",
    "    print(\"Computed ROC AUC: {roc_auc:.3f}\".format(roc_auc=roc_auc))\n",
    "    \n",
    "    thresholds = np.arange(1e-6, 2.0, 0.1)\n",
    "    tprs = []\n",
    "    fprs = []\n",
    "    n_pos = float(len(positive))\n",
    "    n_neg = float(len(negative))\n",
    "\n",
    "    print(\"**** Computing ROC curve *****\")\n",
    "    for t in thresholds:\n",
    "        tp = np.sum(positive < t)\n",
    "        fp = np.sum(negative < t)\n",
    "        tprs.append(tp / n_pos)\n",
    "        fprs.append(fp / n_neg)\n",
    "    \n",
    "    fig1, ax1 = plt.subplots()\n",
    "    ax1.plot(np.arange(0.0, 1.1, 0.1), np.arange(0.0, 1.1, 0.1), label=\"y=x\")\n",
    "    ax1.plot(fprs, tprs, label=network_name)\n",
    "    ax1.legend()\n",
    "    ax1.set_ylabel(\"True Positive Rate\")\n",
    "    ax1.set_xlabel(\"False Positive Rate\")\n",
    "    ax1.set_title(\"ROC Curve for model\")\n",
    "    \n",
    "def sanity_check(person_a, person_b, network_name):    \n",
    "    self_distances = pairwise_distances(\n",
    "         l2_normalize(person_a.clean_embeddings),\n",
    "         l2_normalize(person_a.clean_embeddings),\n",
    "         metric='euclidean',\n",
    "         n_jobs=4\n",
    "    )\n",
    "    print(\"self distance shape\", self_distances.shape)\n",
    "    # all distances below the diagonal compare every pair and exclude 0's to self\n",
    "    self_dist_indices = np.tril_indices(n=len(person_a.clean_embeddings), k=-1)\n",
    "    \n",
    "    # this selection returns a flattened array of distances that are ground truth True\n",
    "    self_distances = self_distances[self_dist_indices]\n",
    "\n",
    "    negative_distances = pairwise_distances(\n",
    "        l2_normalize(person_a.clean_embeddings),\n",
    "        l2_normalize(person_b.clean_embeddings),\n",
    "        metric='euclidean',\n",
    "        n_jobs=4\n",
    "    ).flatten()\n",
    "    \n",
    "    print(\"negative distance shape\", negative_distances.shape)\n",
    "\n",
    "    roc_curve(self_distances, negative_distances, network_name)\n",
    "    \n",
    "    fig1, ax1 = plt.subplots()\n",
    "    ax1.boxplot([self_distances, negative_distances])"
   ]
  },
  {
   "cell_type": "code",
   "execution_count": 10,
   "metadata": {},
   "outputs": [],
   "source": [
    "def do_network(network_name, person_a, person_b):\n",
    "    with tf.Graph().as_default():\n",
    "        model = build_model(network_name)\n",
    "        person_a.compute_clean_embeddings_with_model(model)\n",
    "        person_b.compute_clean_embeddings_with_model(model)\n",
    "        model.sess.close()\n",
    "    sanity_check(person_a, person_b, network_name)"
   ]
  },
  {
   "cell_type": "code",
   "execution_count": 11,
   "metadata": {},
   "outputs": [
    {
     "name": "stdout",
     "output_type": "stream",
     "text": [
      "INFO:tensorflow:Scale of 0 disables regularizer.\n",
      "INFO:tensorflow:Restoring parameters from /home/ivan/facenet/models/20180408-102900/model-20180408-102900.ckpt-90\n",
      "self distance shape (50, 50)\n",
      "negative distance shape (2500,)\n",
      "Computed ROC AUC: 0.948\n",
      "**** Computing ROC curve *****\n",
      "INFO:tensorflow:Scale of 0 disables regularizer.\n",
      "INFO:tensorflow:Restoring parameters from /home/ivan/facenet/models/20180402-114759/model-20180402-114759.ckpt-275\n",
      "self distance shape (50, 50)\n",
      "negative distance shape (2500,)\n",
      "Computed ROC AUC: 0.934\n",
      "**** Computing ROC curve *****\n"
     ]
    },
    {
     "data": {
      "image/png": "[encoded data removed]",
      "text/plain": [
       "<Figure size 432x288 with 1 Axes>"
      ]
     },
     "metadata": {
      "needs_background": "light"
     },
     "output_type": "display_data"
    },
    {
     "data": {
      "image/png": "[encoded data removed]",
      "text/plain": [
       "<Figure size 432x288 with 1 Axes>"
      ]
     },
     "metadata": {
      "needs_background": "light"
     },
     "output_type": "display_data"
    },
    {
     "data": {
      "image/png": "[encoded data removed]",
      "text/plain": [
       "<Figure size 432x288 with 1 Axes>"
      ]
     },
     "metadata": {
      "needs_background": "light"
     },
     "output_type": "display_data"
    },
    {
     "data": {
      "image/png": "[encoded data removed]",
      "text/plain": [
       "<Figure size 432x288 with 1 Axes>"
      ]
     },
     "metadata": {
      "needs_background": "light"
     },
     "output_type": "display_data"
    }
   ],
   "source": [
    "person_a = build_person(\"n000029\", path_for_id_robust_0p5)\n",
    "person_b = build_person(\"n000958\", path_for_id_robust_0p5)\n",
    "do_network(\"casia-webface\", person_a, person_b)\n",
    "do_network(\"vggface2\", person_a, person_b)"
   ]
  },
  {
   "cell_type": "code",
   "execution_count": 12,
   "metadata": {},
   "outputs": [
    {
     "name": "stdout",
     "output_type": "stream",
     "text": [
      "INFO:tensorflow:Scale of 0 disables regularizer.\n",
      "INFO:tensorflow:Restoring parameters from /home/ivan/facenet/models/20180408-102900/model-20180408-102900.ckpt-90\n",
      "self distance shape (50, 50)\n",
      "negative distance shape (2500,)\n",
      "Computed ROC AUC: 0.599\n",
      "**** Computing ROC curve *****\n",
      "INFO:tensorflow:Scale of 0 disables regularizer.\n",
      "INFO:tensorflow:Restoring parameters from /home/ivan/facenet/models/20180402-114759/model-20180402-114759.ckpt-275\n",
      "self distance shape (50, 50)\n",
      "negative distance shape (2500,)\n",
      "Computed ROC AUC: 0.693\n",
      "**** Computing ROC curve *****\n"
     ]
    },
    {
     "data": {
      "image/png": "[encoded data removed]",
      "text/plain": [
       "<Figure size 432x288 with 1 Axes>"
      ]
     },
     "metadata": {
      "needs_background": "light"
     },
     "output_type": "display_data"
    },
    {
     "data": {
      "image/png": "[encoded data removed]",
      "text/plain": [
       "<Figure size 432x288 with 1 Axes>"
      ]
     },
     "metadata": {
      "needs_background": "light"
     },
     "output_type": "display_data"
    },
    {
     "data": {
      "image/png": "[encoded data removed]",
      "text/plain": [
       "<Figure size 432x288 with 1 Axes>"
      ]
     },
     "metadata": {
      "needs_background": "light"
     },
     "output_type": "display_data"
    },
    {
     "data": {
      "image/png": "[encoded data removed]",
      "text/plain": [
       "<Figure size 432x288 with 1 Axes>"
      ]
     },
     "metadata": {
      "needs_background": "light"
     },
     "output_type": "display_data"
    }
   ],
   "source": [
    "person_a = build_person(\"n000029\", path_for_id_mean_0p1)\n",
    "person_b = build_person(\"n000958\", path_for_id_mean_0p1)\n",
    "do_network(\"casia-webface\", person_a, person_b)\n",
    "do_network(\"vggface2\", person_a, person_b)"
   ]
  },
  {
   "cell_type": "code",
   "execution_count": 13,
   "metadata": {},
   "outputs": [
    {
     "name": "stdout",
     "output_type": "stream",
     "text": [
      "INFO:tensorflow:Scale of 0 disables regularizer.\n",
      "INFO:tensorflow:Restoring parameters from /home/ivan/facenet/models/20180408-102900/model-20180408-102900.ckpt-90\n",
      "self distance shape (50, 50)\n",
      "negative distance shape (2500,)\n",
      "Computed ROC AUC: 0.867\n",
      "**** Computing ROC curve *****\n",
      "INFO:tensorflow:Scale of 0 disables regularizer.\n",
      "INFO:tensorflow:Restoring parameters from /home/ivan/facenet/models/20180402-114759/model-20180402-114759.ckpt-275\n",
      "self distance shape (50, 50)\n",
      "negative distance shape (2500,)\n",
      "Computed ROC AUC: 0.938\n",
      "**** Computing ROC curve *****\n"
     ]
    },
    {
     "data": {
      "image/png": "[encoded data removed]",
      "text/plain": [
       "<Figure size 432x288 with 1 Axes>"
      ]
     },
     "metadata": {
      "needs_background": "light"
     },
     "output_type": "display_data"
    },
    {
     "data": {
      "image/png": "[encoded data removed]",
      "text/plain": [
       "<Figure size 432x288 with 1 Axes>"
      ]
     },
     "metadata": {
      "needs_background": "light"
     },
     "output_type": "display_data"
    },
    {
     "data": {
      "image/png": "[encoded data removed]",
      "text/plain": [
       "<Figure size 432x288 with 1 Axes>"
      ]
     },
     "metadata": {
      "needs_background": "light"
     },
     "output_type": "display_data"
    },
    {
     "data": {
      "image/png": "[encoded data removed]",
      "text/plain": [
       "<Figure size 432x288 with 1 Axes>"
      ]
     },
     "metadata": {
      "needs_background": "light"
     },
     "output_type": "display_data"
    }
   ],
   "source": [
    "person_a = build_person(\"n000029\", path_for_id_clean)\n",
    "person_b = build_person(\"n000958\", path_for_id_clean)\n",
    "do_network(\"casia-webface\", person_a, person_b)\n",
    "do_network(\"vggface2\", person_a, person_b)"
   ]
  },
  {
   "cell_type": "code",
   "execution_count": 23,
   "metadata": {},
   "outputs": [],
   "source": [
    "class FacialVectorsDatabase:\n",
    "    def __init__(self, folder, model_name, epsilon, attack_strategy, image_format, include_adversarial=True):\n",
    "        self.associated_identities = []\n",
    "        self.vectors = []\n",
    "        self.associated_paths = []\n",
    "#         self.seen_images = set()\n",
    "        \n",
    "        identities = os.listdir(folder)\n",
    "        \n",
    "        # We have 19 identities with 50 photos each.\n",
    "        # To ensure non-repeatability of the photo used, generate a permutation of 38 \n",
    "        # of the 50 indices possible. \n",
    "        # We will then use the first two for clean images, and the remaining as decoys. \n",
    "        all_indices = np.random.choice(50, 38, replace=False)\n",
    "        \n",
    "        self.graph = tf.Graph()\n",
    "        \n",
    "        with self.graph.as_default():\n",
    "            self.model = build_model(model_name)\n",
    "\n",
    "            for person_name in tqdm(identities):\n",
    "                attack_subfolder = os.path.join(folder, person_name, attack_strategy)\n",
    "\n",
    "                protected = os.listdir(attack_subfolder)\n",
    "                \n",
    "                # Use the first two indices as clean.\n",
    "                clean_folder = os.path.join(\n",
    "                    attack_subfolder, protected[0], \"epsilon_0.0\", image_format)\n",
    "\n",
    "                if include_adversarial:\n",
    "                    self._add_folder_for_person(clean_folder, person_name, all_indices[0:2])\n",
    "\n",
    "                    for indx, other_identity in enumerate(protected):\n",
    "                        protected_folder = os.path.join(\n",
    "                            attack_subfolder, \n",
    "                            other_identity, \n",
    "                            \"epsilon_{eps}\".format(eps=epsilon), \n",
    "                            image_format\n",
    "                        )\n",
    "\n",
    "                        # Use the remaining indices for the decoys, two per person.\n",
    "                        self._add_folder_for_person(\n",
    "                            protected_folder, \n",
    "                            person_name, \n",
    "                            all_indices[indx + 2 : indx + 4]\n",
    "                        )\n",
    "                else:\n",
    "                    self._add_folder_for_person(clean_folder, person_name, all_indices)\n",
    "                \n",
    "            \n",
    "    def _load_one_facenet(self, path, crop_box=None, resize_size=None, prewhiten_img=True):\n",
    "        img = Image.open(path).convert(\"RGB\")\n",
    "        \n",
    "        if crop_box:\n",
    "            img = img.crop(crop_box)\n",
    "            \n",
    "        if resize_size:\n",
    "            img = img.resize((resize_size, resize_size))\n",
    "            \n",
    "        img = (np.array(img)).astype(np.float32)\n",
    "        \n",
    "        if prewhiten_img:\n",
    "            img = prewhiten(img)\n",
    "            \n",
    "        return img\n",
    "        \n",
    "\n",
    "    def _load_folder_for_facenet(self, folder, indices):\n",
    "#         paths_list = glob.glob(os.path.join(folder, \"*\"))\n",
    "        \n",
    "#         if num_imgs > 0: \n",
    "#             paths_list = np.random.choice(paths_list, num_imgs)\n",
    "            \n",
    "#         if num_imgs > 0:\n",
    "#             paths_list = [path if path.split(\"/\")[-1] not in self.seen_images for path in paths_list]\n",
    "#             if len(paths_list) < 1:\n",
    "#                 print(\"All images seen in {folder}, skipping\".format(folder=folder))\n",
    "#                 return None, None\n",
    "#             elif len(paths_list) > num_imgs:\n",
    "#                  paths_list = np.random.choice(paths_list, num_imgs)\n",
    "                    \n",
    "#         elif num_imgs == 0:\n",
    "#             return None, None\n",
    "        \n",
    "        paths_list = [os.path.join(folder, \"{}.png\".format(x)) for x in indices]\n",
    "        final_imgs = [\n",
    "            self._load_one_facenet(\n",
    "                img_path, \n",
    "                prewhiten_img=False, \n",
    "                resize_size=None, \n",
    "                crop_box=None) for img_path in paths_list\n",
    "        ]\n",
    "\n",
    "        final_imgs = np.array(final_imgs)\n",
    "        final_imgs = prewhiten(np.array(final_imgs))\n",
    "        return final_imgs, paths_list\n",
    "\n",
    "    \n",
    "    def _compute_embeddings(self, images):\n",
    "        return l2_normalize(self.model.predict(np.array(images), batch_size=len(images)))\n",
    "    \n",
    "    \n",
    "    def _add_folder_for_person(self, folder, person_name, indices):\n",
    "#         if num_imgs < 1:\n",
    "#             return\n",
    "        \n",
    "        images, paths_list = self._load_folder_for_facenet(folder, indices)\n",
    "        \n",
    "        if images is None:\n",
    "            return\n",
    "#             self.seen_images.add([path.split(\"/\")[-1] for path in paths_list])\n",
    "        vectors = self._compute_embeddings(images)\n",
    "        self.vectors.extend(vectors)\n",
    "        self.associated_identities.extend([person_name for _ in range(len(vectors))])\n",
    "        self.associated_paths.extend(paths_list)\n",
    "    \n",
    "    def nearest_neighbor_to_img_at_path(self, query_path):\n",
    "        with self.graph.as_default():\n",
    "            query_vector = self._compute_embeddings(\n",
    "                np.expand_dims(self._load_one_facenet(query_path, resize_size=160), axis=0))\n",
    "        distances = pairwise_distances(query_vector, self.vectors)[0]\n",
    "        min_dist_indx = np.argmin(distances)\n",
    "        return self.associated_identities[min_dist_indx], self.associated_paths[min_dist_indx]"
   ]
  },
  {
   "cell_type": "code",
   "execution_count": 22,
   "metadata": {},
   "outputs": [],
   "source": [
    "def full_path_to_info(path):\n",
    "    split = path.split(\"/\")\n",
    "    if path.startswith(\"/data/vggface/test_perturbed_sampled\"):\n",
    "        # split of path breaks down like this:\n",
    "        #     0 \n",
    "        #     1 data\n",
    "        #     2 vggface\n",
    "        #     3 test_perturbed_sampled\n",
    "        #     4 {protector}\n",
    "        #     5 community_naive_mean\n",
    "        #     6 {protected}\n",
    "        #     7 epsilon_0.0\n",
    "        #     8 png\n",
    "        #     9 35.png\n",
    "        return \"-\".join([split[4], split[6], split[7], split[9]])\n",
    "    else:\n",
    "        # split of path breaks down like this:\n",
    "        #     0 \n",
    "        #     1 data\n",
    "        #     2 vggface\n",
    "        #     3 test_query_antisampled\n",
    "        #     4 {protector}\n",
    "        #     5 image_name.jpeg\n",
    "        return \"-\".join([split[4], split[5]])\n",
    "        \n",
    "\n",
    "def measure_local_recall(\n",
    "    faces_database,\n",
    "    image_directory=\"/data/vggface/test_query_antisampled\",\n",
    "    num_query=10,\n",
    "    verbose=False\n",
    "):\n",
    "    discovery = []\n",
    "    true = []\n",
    "    identified_as = []\n",
    "    \n",
    "    paths_of_query = []\n",
    "    paths_of_nearest = []\n",
    "\n",
    "    for protector in os.listdir(image_directory):\n",
    "        # We are sourcing query photos from epsilon_0.0.\n",
    "        # In those cases, all subfolders in the \"protected\" identity have the same, clean\n",
    "        # photo of the protector, so we just pick any single one that exists (e.g. n000958)\n",
    "        # For the case where n000958 is itself the protector, n000958 is not present in its protected\n",
    "        # subfolders, so we pick n000029 without loss of generality.\n",
    "        if protector == \"n000958\":\n",
    "            protected = \"n000029\"\n",
    "        else:\n",
    "            protected = \"n000958\"\n",
    "\n",
    "        query_photos_paths = sorted(glob.glob(\n",
    "            os.path.join(image_directory, protector, \"*\")\n",
    "        ))\n",
    "\n",
    "        \n",
    "        for i in np.random.choice(len(query_photos_paths), num_query):\n",
    "            chosen_path = query_photos_paths[i]\n",
    "            top_identity, top_identity_path = faces_database.nearest_neighbor_to_img_at_path(chosen_path)\n",
    "            \n",
    "            paths_of_query.append(full_path_to_info(chosen_path))\n",
    "            paths_of_nearest.append(full_path_to_info(top_identity_path))\n",
    "            \n",
    "            true.append(protector)\n",
    "            identified_as.append(top_identity)\n",
    "\n",
    "            if top_identity == protector:\n",
    "                discovery.append(1.0)\n",
    "            else:\n",
    "                discovery.append(0.0)\n",
    "\n",
    "    if verbose:\n",
    "        for true_id, recognized_id, query, nearest in zip(true, identified_as, paths_of_query, paths_of_nearest):\n",
    "            print(\"Face of {true_id} identitifed as {recognized_id}. Nearest neighbor to {query} was {nearest}\".format(\n",
    "                true_id=true_id, recognized_id=recognized_id, query=query, nearest=nearest))\n",
    "        \n",
    "    return sum(discovery)/len(discovery)\n",
    "\n",
    "def repeat_recall_at_1(dataset_name, include_adversarial=True):\n",
    "    recall_at_1 = []\n",
    "    for i in tqdm(range(10)):\n",
    "        faces_db = FacialVectorsDatabase(\n",
    "            folder=\"/data/vggface/test_perturbed_sampled\",\n",
    "            model_name=dataset_name,\n",
    "            epsilon=0.1,\n",
    "            attack_strategy=\"community_naive_mean\",\n",
    "            image_format=\"png\",\n",
    "            include_adversarial=include_adversarial\n",
    "        )\n",
    "        recall_at_1.append(measure_local_recall(faces_db, num_query=10, verbose=False))\n",
    "        faces_db.model.sess.close()\n",
    "    return recall_at_1 "
   ]
  },
  {
   "cell_type": "code",
   "execution_count": 28,
   "metadata": {},
   "outputs": [
    {
     "name": "stderr",
     "output_type": "stream",
     "text": [
      "\r",
      "  0%|          | 0/10 [00:00<?, ?it/s]"
     ]
    },
    {
     "name": "stdout",
     "output_type": "stream",
     "text": [
      "INFO:tensorflow:Scale of 0 disables regularizer.\n",
      "INFO:tensorflow:Restoring parameters from /home/ivan/facenet/models/20180402-114759/model-20180402-114759.ckpt-275\n"
     ]
    },
    {
     "name": "stderr",
     "output_type": "stream",
     "text": [
      "\n",
      "  0%|          | 0/19 [00:00<?, ?it/s]\u001b[A\n",
      "  5%|▌         | 1/19 [00:03<00:57,  3.18s/it]\u001b[A\n",
      " 11%|█         | 2/19 [00:06<00:52,  3.09s/it]\u001b[A\n",
      " 16%|█▌        | 3/19 [00:09<00:49,  3.10s/it]\u001b[A\n",
      " 21%|██        | 4/19 [00:11<00:42,  2.86s/it]\u001b[A\n",
      " 26%|██▋       | 5/19 [00:14<00:40,  2.86s/it]\u001b[A\n",
      " 32%|███▏      | 6/19 [00:16<00:34,  2.63s/it]\u001b[A\n",
      " 37%|███▋      | 7/19 [00:18<00:30,  2.56s/it]\u001b[A\n",
      " 42%|████▏     | 8/19 [00:20<00:26,  2.40s/it]\u001b[A\n",
      " 47%|████▋     | 9/19 [00:23<00:23,  2.33s/it]\u001b[A\n",
      " 53%|█████▎    | 10/19 [00:25<00:20,  2.29s/it]\u001b[A\n",
      " 58%|█████▊    | 11/19 [00:27<00:19,  2.38s/it]\u001b[A\n",
      " 63%|██████▎   | 12/19 [00:30<00:16,  2.37s/it]\u001b[A\n",
      " 68%|██████▊   | 13/19 [00:32<00:13,  2.27s/it]\u001b[A\n",
      " 74%|███████▎  | 14/19 [00:34<00:11,  2.26s/it]\u001b[A\n",
      " 79%|███████▉  | 15/19 [00:36<00:09,  2.30s/it]\u001b[A\n",
      " 84%|████████▍ | 16/19 [00:39<00:07,  2.36s/it]\u001b[A\n",
      " 89%|████████▉ | 17/19 [00:41<00:04,  2.39s/it]\u001b[A\n",
      " 95%|█████████▍| 18/19 [00:44<00:02,  2.49s/it]\u001b[A\n",
      "100%|██████████| 19/19 [00:46<00:00,  2.45s/it]\u001b[A\n",
      " 10%|█         | 1/10 [01:14<11:10, 74.47s/it]"
     ]
    },
    {
     "name": "stdout",
     "output_type": "stream",
     "text": [
      "INFO:tensorflow:Scale of 0 disables regularizer.\n",
      "INFO:tensorflow:Restoring parameters from /home/ivan/facenet/models/20180402-114759/model-20180402-114759.ckpt-275\n"
     ]
    },
    {
     "name": "stderr",
     "output_type": "stream",
     "text": [
      "\n",
      "  0%|          | 0/19 [00:00<?, ?it/s]\u001b[A\n",
      "  5%|▌         | 1/19 [00:02<00:53,  2.97s/it]\u001b[A\n",
      " 11%|█         | 2/19 [00:05<00:45,  2.69s/it]\u001b[A\n",
      " 16%|█▌        | 3/19 [00:07<00:39,  2.48s/it]\u001b[A\n",
      " 21%|██        | 4/19 [00:08<00:34,  2.32s/it]\u001b[A\n",
      " 26%|██▋       | 5/19 [00:10<00:30,  2.19s/it]\u001b[A\n",
      " 32%|███▏      | 6/19 [00:12<00:27,  2.09s/it]\u001b[A\n",
      " 37%|███▋      | 7/19 [00:14<00:25,  2.11s/it]\u001b[A\n",
      " 42%|████▏     | 8/19 [00:17<00:24,  2.21s/it]\u001b[A\n",
      " 47%|████▋     | 9/19 [00:19<00:22,  2.20s/it]\u001b[A\n",
      " 53%|█████▎    | 10/19 [00:21<00:20,  2.24s/it]\u001b[A\n",
      " 58%|█████▊    | 11/19 [00:23<00:17,  2.20s/it]\u001b[A\n",
      " 63%|██████▎   | 12/19 [00:25<00:14,  2.09s/it]\u001b[A\n",
      " 68%|██████▊   | 13/19 [00:27<00:12,  2.06s/it]\u001b[A\n",
      " 74%|███████▎  | 14/19 [00:29<00:10,  2.07s/it]\u001b[A\n",
      " 79%|███████▉  | 15/19 [00:31<00:08,  2.04s/it]\u001b[A\n",
      " 84%|████████▍ | 16/19 [00:33<00:06,  2.03s/it]\u001b[A\n",
      " 89%|████████▉ | 17/19 [00:35<00:04,  2.01s/it]\u001b[A\n",
      " 95%|█████████▍| 18/19 [00:37<00:01,  1.96s/it]\u001b[A\n",
      "100%|██████████| 19/19 [00:39<00:00,  2.08s/it]\u001b[A\n",
      " 20%|██        | 2/10 [02:16<09:26, 70.81s/it]"
     ]
    },
    {
     "name": "stdout",
     "output_type": "stream",
     "text": [
      "INFO:tensorflow:Scale of 0 disables regularizer.\n",
      "INFO:tensorflow:Restoring parameters from /home/ivan/facenet/models/20180402-114759/model-20180402-114759.ckpt-275\n"
     ]
    },
    {
     "name": "stderr",
     "output_type": "stream",
     "text": [
      "\n",
      "  0%|          | 0/19 [00:00<?, ?it/s]\u001b[A\n",
      "  5%|▌         | 1/19 [00:02<00:40,  2.27s/it]\u001b[A\n",
      " 11%|█         | 2/19 [00:04<00:37,  2.20s/it]\u001b[A\n",
      " 16%|█▌        | 3/19 [00:06<00:34,  2.16s/it]\u001b[A\n",
      " 21%|██        | 4/19 [00:08<00:33,  2.21s/it]\u001b[A\n",
      " 26%|██▋       | 5/19 [00:10<00:30,  2.16s/it]\u001b[A\n",
      " 32%|███▏      | 6/19 [00:12<00:27,  2.11s/it]\u001b[A\n",
      " 37%|███▋      | 7/19 [00:14<00:25,  2.10s/it]\u001b[A\n",
      " 42%|████▏     | 8/19 [00:16<00:23,  2.09s/it]\u001b[A\n",
      " 47%|████▋     | 9/19 [00:18<00:20,  2.05s/it]\u001b[A\n",
      " 53%|█████▎    | 10/19 [00:20<00:18,  2.05s/it]\u001b[A\n",
      " 58%|█████▊    | 11/19 [00:23<00:16,  2.09s/it]\u001b[A\n",
      " 63%|██████▎   | 12/19 [00:25<00:14,  2.09s/it]\u001b[A\n",
      " 68%|██████▊   | 13/19 [00:27<00:13,  2.28s/it]\u001b[A\n",
      " 74%|███████▎  | 14/19 [00:31<00:12,  2.56s/it]\u001b[A\n",
      " 79%|███████▉  | 15/19 [00:33<00:10,  2.63s/it]\u001b[A\n",
      " 84%|████████▍ | 16/19 [00:35<00:07,  2.46s/it]\u001b[A\n",
      " 89%|████████▉ | 17/19 [00:37<00:04,  2.27s/it]\u001b[A\n",
      " 95%|█████████▍| 18/19 [00:39<00:02,  2.17s/it]\u001b[A\n",
      "100%|██████████| 19/19 [00:42<00:00,  2.22s/it]\u001b[A\n",
      " 30%|███       | 3/10 [03:24<08:09, 69.94s/it]"
     ]
    },
    {
     "name": "stdout",
     "output_type": "stream",
     "text": [
      "INFO:tensorflow:Scale of 0 disables regularizer.\n",
      "INFO:tensorflow:Restoring parameters from /home/ivan/facenet/models/20180402-114759/model-20180402-114759.ckpt-275\n"
     ]
    },
    {
     "name": "stderr",
     "output_type": "stream",
     "text": [
      "\n",
      "  0%|          | 0/19 [00:00<?, ?it/s]\u001b[A\n",
      "  5%|▌         | 1/19 [00:02<00:49,  2.73s/it]\u001b[A\n",
      " 11%|█         | 2/19 [00:04<00:43,  2.56s/it]\u001b[A\n",
      " 16%|█▌        | 3/19 [00:07<00:39,  2.44s/it]\u001b[A\n",
      " 21%|██        | 4/19 [00:09<00:36,  2.45s/it]\u001b[A\n",
      " 26%|██▋       | 5/19 [00:12<00:37,  2.69s/it]\u001b[A\n",
      " 32%|███▏      | 6/19 [00:15<00:36,  2.78s/it]\u001b[A\n",
      " 37%|███▋      | 7/19 [00:17<00:30,  2.57s/it]\u001b[A\n",
      " 42%|████▏     | 8/19 [00:20<00:26,  2.45s/it]\u001b[A\n",
      " 47%|████▋     | 9/19 [00:22<00:23,  2.40s/it]\u001b[A\n",
      " 53%|█████▎    | 10/19 [00:24<00:21,  2.34s/it]\u001b[A\n",
      " 58%|█████▊    | 11/19 [00:27<00:20,  2.53s/it]\u001b[A\n",
      " 63%|██████▎   | 12/19 [00:30<00:17,  2.53s/it]\u001b[A\n",
      " 68%|██████▊   | 13/19 [00:32<00:15,  2.64s/it]\u001b[A\n",
      " 74%|███████▎  | 14/19 [00:35<00:12,  2.59s/it]\u001b[A\n",
      " 79%|███████▉  | 15/19 [00:37<00:09,  2.49s/it]\u001b[A\n",
      " 84%|████████▍ | 16/19 [00:40<00:07,  2.57s/it]\u001b[A\n",
      " 89%|████████▉ | 17/19 [00:43<00:05,  2.65s/it]\u001b[A\n",
      " 95%|█████████▍| 18/19 [00:45<00:02,  2.53s/it]\u001b[A\n",
      "100%|██████████| 19/19 [00:47<00:00,  2.52s/it]\u001b[A\n",
      " 40%|████      | 4/10 [04:37<07:04, 70.70s/it]"
     ]
    },
    {
     "name": "stdout",
     "output_type": "stream",
     "text": [
      "INFO:tensorflow:Scale of 0 disables regularizer.\n",
      "INFO:tensorflow:Restoring parameters from /home/ivan/facenet/models/20180402-114759/model-20180402-114759.ckpt-275\n"
     ]
    },
    {
     "name": "stderr",
     "output_type": "stream",
     "text": [
      "\n",
      "  0%|          | 0/19 [00:00<?, ?it/s]\u001b[A\n",
      "  5%|▌         | 1/19 [00:02<00:41,  2.30s/it]\u001b[A\n",
      " 11%|█         | 2/19 [00:04<00:36,  2.17s/it]\u001b[A\n",
      " 16%|█▌        | 3/19 [00:06<00:33,  2.11s/it]\u001b[A\n",
      " 21%|██        | 4/19 [00:08<00:31,  2.09s/it]\u001b[A\n",
      " 26%|██▋       | 5/19 [00:10<00:29,  2.09s/it]\u001b[A\n",
      " 32%|███▏      | 6/19 [00:12<00:28,  2.21s/it]\u001b[A\n",
      " 37%|███▋      | 7/19 [00:15<00:29,  2.45s/it]\u001b[A\n",
      " 42%|████▏     | 8/19 [00:18<00:28,  2.57s/it]\u001b[A\n",
      " 47%|████▋     | 9/19 [00:21<00:26,  2.60s/it]\u001b[A\n",
      " 53%|█████▎    | 10/19 [00:23<00:22,  2.51s/it]\u001b[A\n",
      " 58%|█████▊    | 11/19 [00:26<00:20,  2.55s/it]\u001b[A\n",
      " 63%|██████▎   | 12/19 [00:28<00:18,  2.60s/it]\u001b[A\n",
      " 68%|██████▊   | 13/19 [00:31<00:15,  2.62s/it]\u001b[A\n",
      " 74%|███████▎  | 14/19 [00:33<00:12,  2.52s/it]\u001b[A\n",
      " 79%|███████▉  | 15/19 [00:35<00:09,  2.36s/it]\u001b[A\n",
      " 84%|████████▍ | 16/19 [00:38<00:07,  2.36s/it]\u001b[A\n",
      " 89%|████████▉ | 17/19 [00:41<00:04,  2.49s/it]\u001b[A\n",
      " 95%|█████████▍| 18/19 [00:44<00:02,  2.63s/it]\u001b[A\n",
      "100%|██████████| 19/19 [00:46<00:00,  2.47s/it]\u001b[A\n",
      " 50%|█████     | 5/10 [05:50<05:57, 71.46s/it]"
     ]
    },
    {
     "name": "stdout",
     "output_type": "stream",
     "text": [
      "INFO:tensorflow:Scale of 0 disables regularizer.\n",
      "INFO:tensorflow:Restoring parameters from /home/ivan/facenet/models/20180402-114759/model-20180402-114759.ckpt-275\n"
     ]
    },
    {
     "name": "stderr",
     "output_type": "stream",
     "text": [
      "\n",
      "  0%|          | 0/19 [00:00<?, ?it/s]\u001b[A\n",
      "  5%|▌         | 1/19 [00:02<00:49,  2.77s/it]\u001b[A\n",
      " 11%|█         | 2/19 [00:05<00:45,  2.68s/it]\u001b[A\n",
      " 16%|█▌        | 3/19 [00:07<00:41,  2.57s/it]\u001b[A\n",
      " 21%|██        | 4/19 [00:10<00:39,  2.64s/it]\u001b[A\n",
      " 26%|██▋       | 5/19 [00:12<00:36,  2.64s/it]\u001b[A\n",
      " 32%|███▏      | 6/19 [00:15<00:34,  2.62s/it]\u001b[A\n",
      " 37%|███▋      | 7/19 [00:18<00:30,  2.58s/it]\u001b[A\n",
      " 42%|████▏     | 8/19 [00:20<00:26,  2.42s/it]\u001b[A\n",
      " 47%|████▋     | 9/19 [00:22<00:23,  2.30s/it]\u001b[A\n",
      " 53%|█████▎    | 10/19 [00:24<00:20,  2.31s/it]\u001b[A\n",
      " 58%|█████▊    | 11/19 [00:27<00:19,  2.49s/it]\u001b[A\n",
      " 63%|██████▎   | 12/19 [00:31<00:20,  2.88s/it]\u001b[A\n",
      " 68%|██████▊   | 13/19 [00:34<00:17,  2.92s/it]\u001b[A\n",
      " 74%|███████▎  | 14/19 [00:36<00:14,  2.86s/it]\u001b[A\n",
      " 79%|███████▉  | 15/19 [00:39<00:11,  2.92s/it]\u001b[A\n",
      " 84%|████████▍ | 16/19 [00:43<00:09,  3.04s/it]\u001b[A\n",
      " 89%|████████▉ | 17/19 [00:46<00:06,  3.07s/it]\u001b[A\n",
      " 95%|█████████▍| 18/19 [00:49<00:03,  3.13s/it]\u001b[A\n",
      "100%|██████████| 19/19 [00:53<00:00,  2.79s/it]\u001b[A\n",
      " 60%|██████    | 6/10 [07:10<04:56, 74.08s/it]"
     ]
    },
    {
     "name": "stdout",
     "output_type": "stream",
     "text": [
      "INFO:tensorflow:Scale of 0 disables regularizer.\n",
      "INFO:tensorflow:Restoring parameters from /home/ivan/facenet/models/20180402-114759/model-20180402-114759.ckpt-275\n"
     ]
    },
    {
     "name": "stderr",
     "output_type": "stream",
     "text": [
      "\n",
      "  0%|          | 0/19 [00:00<?, ?it/s]\u001b[A\n",
      "  5%|▌         | 1/19 [00:02<00:41,  2.30s/it]\u001b[A\n",
      " 11%|█         | 2/19 [00:04<00:38,  2.24s/it]\u001b[A\n",
      " 16%|█▌        | 3/19 [00:06<00:34,  2.14s/it]\u001b[A\n",
      " 21%|██        | 4/19 [00:08<00:30,  2.04s/it]\u001b[A\n",
      " 26%|██▋       | 5/19 [00:10<00:28,  2.03s/it]\u001b[A\n",
      " 32%|███▏      | 6/19 [00:12<00:26,  2.03s/it]\u001b[A\n",
      " 37%|███▋      | 7/19 [00:14<00:25,  2.09s/it]\u001b[A\n",
      " 42%|████▏     | 8/19 [00:16<00:24,  2.20s/it]\u001b[A\n",
      " 47%|████▋     | 9/19 [00:18<00:21,  2.18s/it]\u001b[A\n",
      " 53%|█████▎    | 10/19 [00:21<00:19,  2.14s/it]\u001b[A\n",
      " 58%|█████▊    | 11/19 [00:23<00:17,  2.13s/it]\u001b[A\n",
      " 63%|██████▎   | 12/19 [00:25<00:14,  2.08s/it]\u001b[A\n",
      " 68%|██████▊   | 13/19 [00:27<00:12,  2.06s/it]\u001b[A\n",
      " 74%|███████▎  | 14/19 [00:29<00:10,  2.11s/it]\u001b[A\n",
      " 79%|███████▉  | 15/19 [00:31<00:08,  2.12s/it]\u001b[A\n",
      " 84%|████████▍ | 16/19 [00:33<00:06,  2.15s/it]\u001b[A\n",
      " 89%|████████▉ | 17/19 [00:35<00:04,  2.13s/it]\u001b[A\n",
      " 95%|█████████▍| 18/19 [00:37<00:02,  2.08s/it]\u001b[A\n",
      "100%|██████████| 19/19 [00:39<00:00,  2.09s/it]\u001b[A\n",
      " 70%|███████   | 7/10 [08:13<03:31, 70.61s/it]"
     ]
    },
    {
     "name": "stdout",
     "output_type": "stream",
     "text": [
      "INFO:tensorflow:Scale of 0 disables regularizer.\n",
      "INFO:tensorflow:Restoring parameters from /home/ivan/facenet/models/20180402-114759/model-20180402-114759.ckpt-275\n"
     ]
    },
    {
     "name": "stderr",
     "output_type": "stream",
     "text": [
      "\n",
      "  0%|          | 0/19 [00:00<?, ?it/s]\u001b[A\n",
      "  5%|▌         | 1/19 [00:02<00:44,  2.47s/it]\u001b[A\n",
      " 11%|█         | 2/19 [00:04<00:40,  2.40s/it]\u001b[A\n",
      " 16%|█▌        | 3/19 [00:06<00:35,  2.25s/it]\u001b[A\n",
      " 21%|██        | 4/19 [00:08<00:32,  2.17s/it]\u001b[A\n",
      " 26%|██▋       | 5/19 [00:10<00:28,  2.06s/it]\u001b[A\n",
      " 32%|███▏      | 6/19 [00:12<00:26,  2.01s/it]\u001b[A\n",
      " 37%|███▋      | 7/19 [00:14<00:23,  1.99s/it]\u001b[A\n",
      " 42%|████▏     | 8/19 [00:16<00:21,  2.00s/it]\u001b[A\n",
      " 47%|████▋     | 9/19 [00:18<00:19,  1.95s/it]\u001b[A\n",
      " 53%|█████▎    | 10/19 [00:19<00:17,  1.92s/it]\u001b[A\n",
      " 58%|█████▊    | 11/19 [00:21<00:15,  1.88s/it]\u001b[A\n",
      " 63%|██████▎   | 12/19 [00:23<00:12,  1.85s/it]\u001b[A\n",
      " 68%|██████▊   | 13/19 [00:25<00:10,  1.79s/it]\u001b[A\n",
      " 74%|███████▎  | 14/19 [00:26<00:08,  1.77s/it]\u001b[A\n",
      " 79%|███████▉  | 15/19 [00:28<00:07,  1.85s/it]\u001b[A\n",
      " 84%|████████▍ | 16/19 [00:30<00:05,  1.85s/it]\u001b[A\n",
      " 89%|████████▉ | 17/19 [00:32<00:03,  1.88s/it]\u001b[A\n",
      " 95%|█████████▍| 18/19 [00:34<00:01,  1.85s/it]\u001b[A\n",
      "100%|██████████| 19/19 [00:36<00:00,  1.91s/it]\u001b[A\n",
      " 80%|████████  | 8/10 [09:10<02:13, 66.55s/it]"
     ]
    },
    {
     "name": "stdout",
     "output_type": "stream",
     "text": [
      "INFO:tensorflow:Scale of 0 disables regularizer.\n",
      "INFO:tensorflow:Restoring parameters from /home/ivan/facenet/models/20180402-114759/model-20180402-114759.ckpt-275\n"
     ]
    },
    {
     "name": "stderr",
     "output_type": "stream",
     "text": [
      "\n",
      "  0%|          | 0/19 [00:00<?, ?it/s]\u001b[A\n",
      "  5%|▌         | 1/19 [00:02<00:41,  2.30s/it]\u001b[A\n",
      " 11%|█         | 2/19 [00:04<00:37,  2.19s/it]\u001b[A\n",
      " 16%|█▌        | 3/19 [00:05<00:32,  2.06s/it]\u001b[A\n",
      " 21%|██        | 4/19 [00:07<00:29,  1.94s/it]\u001b[A\n",
      " 26%|██▋       | 5/19 [00:09<00:25,  1.84s/it]\u001b[A\n",
      " 32%|███▏      | 6/19 [00:10<00:23,  1.80s/it]\u001b[A\n",
      " 37%|███▋      | 7/19 [00:12<00:21,  1.78s/it]\u001b[A\n",
      " 42%|████▏     | 8/19 [00:14<00:19,  1.76s/it]\u001b[A\n",
      " 47%|████▋     | 9/19 [00:16<00:17,  1.79s/it]\u001b[A\n",
      " 53%|█████▎    | 10/19 [00:18<00:16,  1.89s/it]\u001b[A\n",
      " 58%|█████▊    | 11/19 [00:20<00:15,  1.97s/it]\u001b[A\n",
      " 63%|██████▎   | 12/19 [00:22<00:13,  1.97s/it]\u001b[A\n",
      " 68%|██████▊   | 13/19 [00:24<00:11,  1.93s/it]\u001b[A\n",
      " 74%|███████▎  | 14/19 [00:26<00:09,  1.85s/it]\u001b[A\n",
      " 79%|███████▉  | 15/19 [00:27<00:07,  1.85s/it]\u001b[A\n",
      " 84%|████████▍ | 16/19 [00:29<00:05,  1.80s/it]\u001b[A\n",
      " 89%|████████▉ | 17/19 [00:31<00:03,  1.76s/it]\u001b[A\n",
      " 95%|█████████▍| 18/19 [00:32<00:01,  1.74s/it]\u001b[A\n",
      "100%|██████████| 19/19 [00:34<00:00,  1.82s/it]\u001b[A\n",
      " 90%|█████████ | 9/10 [10:05<01:03, 63.15s/it]"
     ]
    },
    {
     "name": "stdout",
     "output_type": "stream",
     "text": [
      "INFO:tensorflow:Scale of 0 disables regularizer.\n",
      "INFO:tensorflow:Restoring parameters from /home/ivan/facenet/models/20180402-114759/model-20180402-114759.ckpt-275\n"
     ]
    },
    {
     "name": "stderr",
     "output_type": "stream",
     "text": [
      "\n",
      "  0%|          | 0/19 [00:00<?, ?it/s]\u001b[A\n",
      "  5%|▌         | 1/19 [00:02<00:37,  2.11s/it]\u001b[A\n",
      " 11%|█         | 2/19 [00:04<00:35,  2.09s/it]\u001b[A\n",
      " 16%|█▌        | 3/19 [00:06<00:33,  2.10s/it]\u001b[A\n",
      " 21%|██        | 4/19 [00:08<00:29,  1.99s/it]\u001b[A\n",
      " 26%|██▋       | 5/19 [00:09<00:26,  1.90s/it]\u001b[A\n",
      " 32%|███▏      | 6/19 [00:11<00:23,  1.84s/it]\u001b[A\n",
      " 37%|███▋      | 7/19 [00:12<00:21,  1.76s/it]\u001b[A\n",
      " 42%|████▏     | 8/19 [00:14<00:19,  1.79s/it]\u001b[A\n",
      " 47%|████▋     | 9/19 [00:16<00:18,  1.81s/it]\u001b[A\n",
      " 53%|█████▎    | 10/19 [00:18<00:16,  1.83s/it]\u001b[A\n",
      " 58%|█████▊    | 11/19 [00:20<00:14,  1.83s/it]\u001b[A\n",
      " 63%|██████▎   | 12/19 [00:22<00:12,  1.85s/it]\u001b[A\n",
      " 68%|██████▊   | 13/19 [00:23<00:10,  1.77s/it]\u001b[A\n",
      " 74%|███████▎  | 14/19 [00:25<00:08,  1.77s/it]\u001b[A\n",
      " 79%|███████▉  | 15/19 [00:27<00:07,  1.77s/it]\u001b[A\n",
      " 84%|████████▍ | 16/19 [00:29<00:05,  1.74s/it]\u001b[A\n",
      " 89%|████████▉ | 17/19 [00:30<00:03,  1.71s/it]\u001b[A\n",
      " 95%|█████████▍| 18/19 [00:32<00:01,  1.76s/it]\u001b[A\n",
      "100%|██████████| 19/19 [00:34<00:00,  1.81s/it]\u001b[A\n",
      "100%|██████████| 10/10 [11:01<00:00, 66.10s/it]\n"
     ]
    }
   ],
   "source": [
    "vggface_recall_with_adversarial  = repeat_recall_at_1(\"vggface2\", include_adversarial=True)"
   ]
  },
  {
   "cell_type": "code",
   "execution_count": 27,
   "metadata": {},
   "outputs": [
    {
     "name": "stderr",
     "output_type": "stream",
     "text": [
      "\r",
      "  0%|          | 0/10 [00:00<?, ?it/s]"
     ]
    },
    {
     "name": "stdout",
     "output_type": "stream",
     "text": [
      "INFO:tensorflow:Scale of 0 disables regularizer.\n",
      "INFO:tensorflow:Restoring parameters from /home/ivan/facenet/models/20180408-102900/model-20180408-102900.ckpt-90\n"
     ]
    },
    {
     "name": "stderr",
     "output_type": "stream",
     "text": [
      "\n",
      "  0%|          | 0/19 [00:00<?, ?it/s]\u001b[A\n",
      "  5%|▌         | 1/19 [00:02<00:38,  2.14s/it]\u001b[A\n",
      " 11%|█         | 2/19 [00:04<00:35,  2.11s/it]\u001b[A\n",
      " 16%|█▌        | 3/19 [00:07<00:37,  2.33s/it]\u001b[A\n",
      " 21%|██        | 4/19 [00:09<00:35,  2.35s/it]\u001b[A\n",
      " 26%|██▋       | 5/19 [00:11<00:32,  2.30s/it]\u001b[A\n",
      " 32%|███▏      | 6/19 [00:13<00:29,  2.26s/it]\u001b[A\n",
      " 37%|███▋      | 7/19 [00:16<00:27,  2.26s/it]\u001b[A\n",
      " 42%|████▏     | 8/19 [00:17<00:23,  2.17s/it]\u001b[A\n",
      " 47%|████▋     | 9/19 [00:20<00:21,  2.17s/it]\u001b[A\n",
      " 53%|█████▎    | 10/19 [00:22<00:19,  2.20s/it]\u001b[A\n",
      " 58%|█████▊    | 11/19 [00:24<00:17,  2.16s/it]\u001b[A\n",
      " 63%|██████▎   | 12/19 [00:26<00:15,  2.20s/it]\u001b[A\n",
      " 68%|██████▊   | 13/19 [00:29<00:13,  2.24s/it]\u001b[A\n",
      " 74%|███████▎  | 14/19 [00:30<00:10,  2.11s/it]\u001b[A\n",
      " 79%|███████▉  | 15/19 [00:32<00:08,  2.04s/it]\u001b[A\n",
      " 84%|████████▍ | 16/19 [00:34<00:05,  1.99s/it]\u001b[A\n",
      " 89%|████████▉ | 17/19 [00:36<00:04,  2.05s/it]\u001b[A\n",
      " 95%|█████████▍| 18/19 [00:38<00:02,  2.05s/it]\u001b[A\n",
      "100%|██████████| 19/19 [00:41<00:00,  2.16s/it]\u001b[A\n",
      " 10%|█         | 1/10 [01:03<09:32, 63.57s/it]"
     ]
    },
    {
     "name": "stdout",
     "output_type": "stream",
     "text": [
      "INFO:tensorflow:Scale of 0 disables regularizer.\n",
      "INFO:tensorflow:Restoring parameters from /home/ivan/facenet/models/20180408-102900/model-20180408-102900.ckpt-90\n"
     ]
    },
    {
     "name": "stderr",
     "output_type": "stream",
     "text": [
      "\n",
      "  0%|          | 0/19 [00:00<?, ?it/s]\u001b[A\n",
      "  5%|▌         | 1/19 [00:02<00:41,  2.29s/it]\u001b[A\n",
      " 11%|█         | 2/19 [00:04<00:36,  2.16s/it]\u001b[A\n",
      " 16%|█▌        | 3/19 [00:06<00:33,  2.12s/it]\u001b[A\n",
      " 21%|██        | 4/19 [00:08<00:31,  2.09s/it]\u001b[A\n",
      " 26%|██▋       | 5/19 [00:10<00:29,  2.08s/it]\u001b[A\n",
      " 32%|███▏      | 6/19 [00:12<00:26,  2.03s/it]\u001b[A\n",
      " 37%|███▋      | 7/19 [00:14<00:23,  1.98s/it]\u001b[A\n",
      " 42%|████▏     | 8/19 [00:16<00:21,  1.98s/it]\u001b[A\n",
      " 47%|████▋     | 9/19 [00:17<00:19,  1.96s/it]\u001b[A\n",
      " 53%|█████▎    | 10/19 [00:20<00:18,  2.00s/it]\u001b[A\n",
      " 58%|█████▊    | 11/19 [00:22<00:17,  2.14s/it]\u001b[A\n",
      " 63%|██████▎   | 12/19 [00:24<00:14,  2.13s/it]\u001b[A\n",
      " 68%|██████▊   | 13/19 [00:27<00:13,  2.29s/it]\u001b[A\n",
      " 74%|███████▎  | 14/19 [00:29<00:12,  2.43s/it]\u001b[A\n",
      " 79%|███████▉  | 15/19 [00:32<00:09,  2.44s/it]\u001b[A\n",
      " 84%|████████▍ | 16/19 [00:35<00:07,  2.47s/it]\u001b[A\n",
      " 89%|████████▉ | 17/19 [00:37<00:04,  2.41s/it]\u001b[A\n",
      " 95%|█████████▍| 18/19 [00:39<00:02,  2.30s/it]\u001b[A\n",
      "100%|██████████| 19/19 [00:41<00:00,  2.18s/it]\u001b[A\n",
      " 20%|██        | 2/10 [02:08<08:32, 64.12s/it]"
     ]
    },
    {
     "name": "stdout",
     "output_type": "stream",
     "text": [
      "INFO:tensorflow:Scale of 0 disables regularizer.\n",
      "INFO:tensorflow:Restoring parameters from /home/ivan/facenet/models/20180408-102900/model-20180408-102900.ckpt-90\n"
     ]
    },
    {
     "name": "stderr",
     "output_type": "stream",
     "text": [
      "\n",
      "  0%|          | 0/19 [00:00<?, ?it/s]\u001b[A\n",
      "  5%|▌         | 1/19 [00:02<00:44,  2.48s/it]\u001b[A\n",
      " 11%|█         | 2/19 [00:04<00:40,  2.39s/it]\u001b[A\n",
      " 16%|█▌        | 3/19 [00:07<00:38,  2.44s/it]\u001b[A\n",
      " 21%|██        | 4/19 [00:09<00:36,  2.43s/it]\u001b[A\n",
      " 26%|██▋       | 5/19 [00:11<00:32,  2.34s/it]\u001b[A\n",
      " 32%|███▏      | 6/19 [00:13<00:29,  2.28s/it]\u001b[A\n",
      " 37%|███▋      | 7/19 [00:15<00:26,  2.19s/it]\u001b[A\n",
      " 42%|████▏     | 8/19 [00:18<00:26,  2.39s/it]\u001b[A\n",
      " 47%|████▋     | 9/19 [00:21<00:24,  2.47s/it]\u001b[A\n",
      " 53%|█████▎    | 10/19 [00:23<00:22,  2.47s/it]\u001b[A\n",
      " 58%|█████▊    | 11/19 [00:26<00:19,  2.40s/it]\u001b[A\n",
      " 63%|██████▎   | 12/19 [00:28<00:17,  2.46s/it]\u001b[A\n",
      " 68%|██████▊   | 13/19 [00:31<00:14,  2.45s/it]\u001b[A\n",
      " 74%|███████▎  | 14/19 [00:33<00:12,  2.40s/it]\u001b[A\n",
      " 79%|███████▉  | 15/19 [00:35<00:09,  2.27s/it]\u001b[A\n",
      " 84%|████████▍ | 16/19 [00:37<00:06,  2.12s/it]\u001b[A\n",
      " 89%|████████▉ | 17/19 [00:39<00:04,  2.07s/it]\u001b[A\n",
      " 95%|█████████▍| 18/19 [00:41<00:02,  2.10s/it]\u001b[A\n",
      "100%|██████████| 19/19 [00:43<00:00,  2.29s/it]\u001b[A\n",
      " 30%|███       | 3/10 [03:16<07:36, 65.18s/it]"
     ]
    },
    {
     "name": "stdout",
     "output_type": "stream",
     "text": [
      "INFO:tensorflow:Scale of 0 disables regularizer.\n",
      "INFO:tensorflow:Restoring parameters from /home/ivan/facenet/models/20180408-102900/model-20180408-102900.ckpt-90\n"
     ]
    },
    {
     "name": "stderr",
     "output_type": "stream",
     "text": [
      "\n",
      "  0%|          | 0/19 [00:00<?, ?it/s]\u001b[A\n",
      "  5%|▌         | 1/19 [00:02<00:41,  2.28s/it]\u001b[A\n",
      " 11%|█         | 2/19 [00:04<00:38,  2.24s/it]\u001b[A\n",
      " 16%|█▌        | 3/19 [00:07<00:39,  2.45s/it]\u001b[A\n",
      " 21%|██        | 4/19 [00:09<00:35,  2.38s/it]\u001b[A\n",
      " 26%|██▋       | 5/19 [00:11<00:31,  2.27s/it]\u001b[A\n",
      " 32%|███▏      | 6/19 [00:13<00:29,  2.24s/it]\u001b[A\n",
      " 37%|███▋      | 7/19 [00:16<00:26,  2.25s/it]\u001b[A\n",
      " 42%|████▏     | 8/19 [00:19<00:28,  2.63s/it]\u001b[A\n",
      " 47%|████▋     | 9/19 [00:23<00:29,  2.94s/it]\u001b[A\n",
      " 53%|█████▎    | 10/19 [00:25<00:24,  2.74s/it]\u001b[A\n",
      " 58%|█████▊    | 11/19 [00:27<00:19,  2.50s/it]\u001b[A\n",
      " 63%|██████▎   | 12/19 [00:30<00:17,  2.54s/it]\u001b[A\n",
      " 68%|██████▊   | 13/19 [00:33<00:16,  2.72s/it]\u001b[A\n",
      " 74%|███████▎  | 14/19 [00:36<00:14,  2.83s/it]\u001b[A\n",
      " 79%|███████▉  | 15/19 [00:38<00:11,  2.76s/it]\u001b[A\n",
      " 84%|████████▍ | 16/19 [00:41<00:07,  2.62s/it]\u001b[A\n",
      " 89%|████████▉ | 17/19 [00:43<00:04,  2.43s/it]\u001b[A\n",
      " 95%|█████████▍| 18/19 [00:45<00:02,  2.30s/it]\u001b[A\n",
      "100%|██████████| 19/19 [00:47<00:00,  2.49s/it]\u001b[A\n",
      " 40%|████      | 4/10 [04:28<06:42, 67.04s/it]"
     ]
    },
    {
     "name": "stdout",
     "output_type": "stream",
     "text": [
      "INFO:tensorflow:Scale of 0 disables regularizer.\n",
      "INFO:tensorflow:Restoring parameters from /home/ivan/facenet/models/20180408-102900/model-20180408-102900.ckpt-90\n"
     ]
    },
    {
     "name": "stderr",
     "output_type": "stream",
     "text": [
      "\n",
      "  0%|          | 0/19 [00:00<?, ?it/s]\u001b[A\n",
      "  5%|▌         | 1/19 [00:02<00:46,  2.61s/it]\u001b[A\n",
      " 11%|█         | 2/19 [00:05<00:45,  2.69s/it]\u001b[A\n",
      " 16%|█▌        | 3/19 [00:08<00:42,  2.67s/it]\u001b[A\n",
      " 21%|██        | 4/19 [00:11<00:42,  2.82s/it]\u001b[A\n",
      " 26%|██▋       | 5/19 [00:14<00:39,  2.80s/it]\u001b[A\n",
      " 32%|███▏      | 6/19 [00:16<00:35,  2.75s/it]\u001b[A\n",
      " 37%|███▋      | 7/19 [00:19<00:35,  2.92s/it]\u001b[A\n",
      " 42%|████▏     | 8/19 [00:22<00:31,  2.86s/it]\u001b[A\n",
      " 47%|████▋     | 9/19 [00:25<00:29,  2.97s/it]\u001b[A\n",
      " 53%|█████▎    | 10/19 [00:29<00:27,  3.00s/it]\u001b[A\n",
      " 58%|█████▊    | 11/19 [00:32<00:25,  3.19s/it]\u001b[A\n",
      " 63%|██████▎   | 12/19 [00:36<00:22,  3.24s/it]\u001b[A\n",
      " 68%|██████▊   | 13/19 [00:38<00:17,  3.00s/it]\u001b[A\n",
      " 74%|███████▎  | 14/19 [00:41<00:14,  2.91s/it]\u001b[A\n",
      " 79%|███████▉  | 15/19 [00:43<00:11,  2.81s/it]\u001b[A\n",
      " 84%|████████▍ | 16/19 [00:46<00:08,  2.69s/it]\u001b[A\n",
      " 89%|████████▉ | 17/19 [00:48<00:05,  2.67s/it]\u001b[A\n",
      " 95%|█████████▍| 18/19 [00:51<00:02,  2.68s/it]\u001b[A\n",
      "100%|██████████| 19/19 [00:53<00:00,  2.84s/it]\u001b[A\n",
      " 50%|█████     | 5/10 [05:45<05:51, 70.28s/it]"
     ]
    },
    {
     "name": "stdout",
     "output_type": "stream",
     "text": [
      "INFO:tensorflow:Scale of 0 disables regularizer.\n",
      "INFO:tensorflow:Restoring parameters from /home/ivan/facenet/models/20180408-102900/model-20180408-102900.ckpt-90\n"
     ]
    },
    {
     "name": "stderr",
     "output_type": "stream",
     "text": [
      "\n",
      "  0%|          | 0/19 [00:00<?, ?it/s]\u001b[A\n",
      "  5%|▌         | 1/19 [00:02<00:47,  2.65s/it]\u001b[A\n",
      " 11%|█         | 2/19 [00:05<00:45,  2.67s/it]\u001b[A\n",
      " 16%|█▌        | 3/19 [00:08<00:42,  2.68s/it]\u001b[A\n",
      " 21%|██        | 4/19 [00:10<00:41,  2.73s/it]\u001b[A\n",
      " 26%|██▋       | 5/19 [00:13<00:39,  2.82s/it]\u001b[A\n",
      " 32%|███▏      | 6/19 [00:16<00:35,  2.73s/it]\u001b[A\n",
      " 37%|███▋      | 7/19 [00:18<00:31,  2.59s/it]\u001b[A\n",
      " 42%|████▏     | 8/19 [00:21<00:27,  2.52s/it]\u001b[A\n",
      " 47%|████▋     | 9/19 [00:23<00:25,  2.51s/it]\u001b[A\n",
      " 53%|█████▎    | 10/19 [00:26<00:22,  2.55s/it]\u001b[A\n",
      " 58%|█████▊    | 11/19 [00:28<00:20,  2.54s/it]\u001b[A\n",
      " 63%|██████▎   | 12/19 [00:30<00:16,  2.38s/it]\u001b[A\n",
      " 68%|██████▊   | 13/19 [00:32<00:13,  2.23s/it]\u001b[A\n",
      " 74%|███████▎  | 14/19 [00:34<00:10,  2.15s/it]\u001b[A\n",
      " 79%|███████▉  | 15/19 [00:36<00:08,  2.10s/it]\u001b[A\n",
      " 84%|████████▍ | 16/19 [00:38<00:06,  2.05s/it]\u001b[A\n",
      " 89%|████████▉ | 17/19 [00:40<00:03,  2.00s/it]\u001b[A\n",
      " 95%|█████████▍| 18/19 [00:42<00:02,  2.03s/it]\u001b[A\n",
      "100%|██████████| 19/19 [00:44<00:00,  2.35s/it]\u001b[A\n",
      " 60%|██████    | 6/10 [06:53<04:38, 69.50s/it]"
     ]
    },
    {
     "name": "stdout",
     "output_type": "stream",
     "text": [
      "INFO:tensorflow:Scale of 0 disables regularizer.\n",
      "INFO:tensorflow:Restoring parameters from /home/ivan/facenet/models/20180408-102900/model-20180408-102900.ckpt-90\n"
     ]
    },
    {
     "name": "stderr",
     "output_type": "stream",
     "text": [
      "\n",
      "  0%|          | 0/19 [00:00<?, ?it/s]\u001b[A\n",
      "  5%|▌         | 1/19 [00:02<00:48,  2.69s/it]\u001b[A\n",
      " 11%|█         | 2/19 [00:04<00:41,  2.43s/it]\u001b[A\n",
      " 16%|█▌        | 3/19 [00:06<00:36,  2.31s/it]\u001b[A\n",
      " 21%|██        | 4/19 [00:08<00:34,  2.31s/it]\u001b[A\n",
      " 26%|██▋       | 5/19 [00:11<00:31,  2.27s/it]\u001b[A\n",
      " 32%|███▏      | 6/19 [00:13<00:28,  2.22s/it]\u001b[A\n",
      " 37%|███▋      | 7/19 [00:15<00:26,  2.22s/it]\u001b[A\n",
      " 42%|████▏     | 8/19 [00:17<00:24,  2.20s/it]\u001b[A\n",
      " 47%|████▋     | 9/19 [00:19<00:21,  2.11s/it]\u001b[A\n",
      " 53%|█████▎    | 10/19 [00:21<00:18,  2.10s/it]\u001b[A\n",
      " 58%|█████▊    | 11/19 [00:23<00:16,  2.09s/it]\u001b[A\n",
      " 63%|██████▎   | 12/19 [00:25<00:14,  2.11s/it]\u001b[A\n",
      " 68%|██████▊   | 13/19 [00:27<00:12,  2.09s/it]\u001b[A\n",
      " 74%|███████▎  | 14/19 [00:29<00:10,  2.13s/it]\u001b[A\n",
      " 79%|███████▉  | 15/19 [00:32<00:08,  2.19s/it]\u001b[A\n",
      " 84%|████████▍ | 16/19 [00:34<00:06,  2.19s/it]\u001b[A\n",
      " 89%|████████▉ | 17/19 [00:37<00:04,  2.33s/it]\u001b[A\n",
      " 95%|█████████▍| 18/19 [00:39<00:02,  2.33s/it]\u001b[A\n",
      "100%|██████████| 19/19 [00:42<00:00,  2.22s/it]\u001b[A\n",
      " 70%|███████   | 7/10 [08:00<03:26, 68.80s/it]"
     ]
    },
    {
     "name": "stdout",
     "output_type": "stream",
     "text": [
      "INFO:tensorflow:Scale of 0 disables regularizer.\n",
      "INFO:tensorflow:Restoring parameters from /home/ivan/facenet/models/20180408-102900/model-20180408-102900.ckpt-90\n"
     ]
    },
    {
     "name": "stderr",
     "output_type": "stream",
     "text": [
      "\n",
      "  0%|          | 0/19 [00:00<?, ?it/s]\u001b[A\n",
      "  5%|▌         | 1/19 [00:02<00:41,  2.29s/it]\u001b[A\n",
      " 11%|█         | 2/19 [00:04<00:37,  2.23s/it]\u001b[A\n",
      " 16%|█▌        | 3/19 [00:06<00:35,  2.23s/it]\u001b[A\n",
      " 21%|██        | 4/19 [00:08<00:33,  2.23s/it]\u001b[A\n",
      " 26%|██▋       | 5/19 [00:11<00:31,  2.23s/it]\u001b[A\n",
      " 32%|███▏      | 6/19 [00:13<00:28,  2.19s/it]\u001b[A\n",
      " 37%|███▋      | 7/19 [00:14<00:24,  2.07s/it]\u001b[A\n",
      " 42%|████▏     | 8/19 [00:16<00:21,  1.97s/it]\u001b[A\n",
      " 47%|████▋     | 9/19 [00:18<00:19,  1.95s/it]\u001b[A\n",
      " 53%|█████▎    | 10/19 [00:21<00:19,  2.11s/it]\u001b[A\n",
      " 58%|█████▊    | 11/19 [00:23<00:18,  2.27s/it]\u001b[A\n",
      " 63%|██████▎   | 12/19 [00:25<00:15,  2.26s/it]\u001b[A\n",
      " 68%|██████▊   | 13/19 [00:27<00:12,  2.16s/it]\u001b[A\n",
      " 74%|███████▎  | 14/19 [00:29<00:10,  2.13s/it]\u001b[A\n",
      " 79%|███████▉  | 15/19 [00:32<00:09,  2.28s/it]\u001b[A\n",
      " 84%|████████▍ | 16/19 [00:35<00:07,  2.38s/it]\u001b[A\n",
      " 89%|████████▉ | 17/19 [00:37<00:04,  2.32s/it]\u001b[A\n",
      " 95%|█████████▍| 18/19 [00:39<00:02,  2.28s/it]\u001b[A\n",
      "100%|██████████| 19/19 [00:41<00:00,  2.19s/it]\u001b[A\n",
      " 80%|████████  | 8/10 [09:09<02:17, 68.70s/it]"
     ]
    },
    {
     "name": "stdout",
     "output_type": "stream",
     "text": [
      "INFO:tensorflow:Scale of 0 disables regularizer.\n",
      "INFO:tensorflow:Restoring parameters from /home/ivan/facenet/models/20180408-102900/model-20180408-102900.ckpt-90\n"
     ]
    },
    {
     "name": "stderr",
     "output_type": "stream",
     "text": [
      "\n",
      "  0%|          | 0/19 [00:00<?, ?it/s]\u001b[A\n",
      "  5%|▌         | 1/19 [00:02<00:40,  2.24s/it]\u001b[A\n",
      " 11%|█         | 2/19 [00:04<00:38,  2.24s/it]\u001b[A\n",
      " 16%|█▌        | 3/19 [00:06<00:35,  2.20s/it]\u001b[A\n",
      " 21%|██        | 4/19 [00:08<00:32,  2.15s/it]\u001b[A\n",
      " 26%|██▋       | 5/19 [00:10<00:29,  2.08s/it]\u001b[A\n",
      " 32%|███▏      | 6/19 [00:12<00:26,  2.01s/it]\u001b[A\n",
      " 37%|███▋      | 7/19 [00:14<00:22,  1.91s/it]\u001b[A\n",
      " 42%|████▏     | 8/19 [00:15<00:20,  1.90s/it]\u001b[A\n",
      " 47%|████▋     | 9/19 [00:18<00:19,  1.99s/it]\u001b[A\n",
      " 53%|█████▎    | 10/19 [00:20<00:17,  1.97s/it]\u001b[A\n",
      " 58%|█████▊    | 11/19 [00:22<00:15,  1.98s/it]\u001b[A\n",
      " 63%|██████▎   | 12/19 [00:23<00:13,  1.93s/it]\u001b[A\n",
      " 68%|██████▊   | 13/19 [00:25<00:11,  1.96s/it]\u001b[A\n",
      " 74%|███████▎  | 14/19 [00:28<00:10,  2.01s/it]\u001b[A\n",
      " 79%|███████▉  | 15/19 [00:30<00:08,  2.13s/it]\u001b[A\n",
      " 84%|████████▍ | 16/19 [00:32<00:06,  2.13s/it]\u001b[A\n",
      " 89%|████████▉ | 17/19 [00:34<00:04,  2.07s/it]\u001b[A\n",
      " 95%|█████████▍| 18/19 [00:36<00:02,  2.09s/it]\u001b[A\n",
      "100%|██████████| 19/19 [00:39<00:00,  2.07s/it]\u001b[A\n",
      " 90%|█████████ | 9/10 [10:15<01:07, 67.99s/it]"
     ]
    },
    {
     "name": "stdout",
     "output_type": "stream",
     "text": [
      "INFO:tensorflow:Scale of 0 disables regularizer.\n",
      "INFO:tensorflow:Restoring parameters from /home/ivan/facenet/models/20180408-102900/model-20180408-102900.ckpt-90\n"
     ]
    },
    {
     "name": "stderr",
     "output_type": "stream",
     "text": [
      "\n",
      "  0%|          | 0/19 [00:00<?, ?it/s]\u001b[A\n",
      "  5%|▌         | 1/19 [00:02<00:52,  2.93s/it]\u001b[A\n",
      " 11%|█         | 2/19 [00:05<00:45,  2.69s/it]\u001b[A\n",
      " 16%|█▌        | 3/19 [00:07<00:43,  2.69s/it]\u001b[A\n",
      " 21%|██        | 4/19 [00:10<00:39,  2.63s/it]\u001b[A\n",
      " 26%|██▋       | 5/19 [00:12<00:36,  2.59s/it]\u001b[A\n",
      " 32%|███▏      | 6/19 [00:14<00:30,  2.38s/it]\u001b[A\n",
      " 37%|███▋      | 7/19 [00:16<00:26,  2.25s/it]\u001b[A\n",
      " 42%|████▏     | 8/19 [00:18<00:23,  2.14s/it]\u001b[A\n",
      " 47%|████▋     | 9/19 [00:20<00:20,  2.07s/it]\u001b[A\n",
      " 53%|█████▎    | 10/19 [00:22<00:18,  2.04s/it]\u001b[A\n",
      " 58%|█████▊    | 11/19 [00:24<00:17,  2.21s/it]\u001b[A\n",
      " 63%|██████▎   | 12/19 [00:27<00:15,  2.16s/it]\u001b[A\n",
      " 68%|██████▊   | 13/19 [00:29<00:13,  2.22s/it]\u001b[A\n",
      " 74%|███████▎  | 14/19 [00:31<00:11,  2.31s/it]\u001b[A\n",
      " 79%|███████▉  | 15/19 [00:34<00:09,  2.29s/it]\u001b[A\n",
      " 84%|████████▍ | 16/19 [00:36<00:07,  2.39s/it]\u001b[A\n",
      " 89%|████████▉ | 17/19 [00:39<00:04,  2.43s/it]\u001b[A\n",
      " 95%|█████████▍| 18/19 [00:41<00:02,  2.40s/it]\u001b[A\n",
      "100%|██████████| 19/19 [00:44<00:00,  2.33s/it]\u001b[A\n",
      "100%|██████████| 10/10 [11:24<00:00, 68.43s/it]\n"
     ]
    }
   ],
   "source": [
    "casiawebface_recall_with_adversarial = repeat_recall_at_1(\"casia-webface\", include_adversarial=True)"
   ]
  },
  {
   "cell_type": "code",
   "execution_count": 29,
   "metadata": {},
   "outputs": [
    {
     "name": "stdout",
     "output_type": "stream",
     "text": [
      "Casia WebFace network\n",
      "Average recall at k=1 0.5573684210526315 with standard deviation over 10 runs 0.03414568754380756\n"
     ]
    }
   ],
   "source": [
    "print(\"Casia WebFace network\")\n",
    "print(\"Average recall at k=1\", np.mean(casiawebface_recall_with_adversarial), end=' ')\n",
    "print(\"with standard deviation over 10 runs\", np.std(casiawebface_recall_with_adversarial))"
   ]
  },
  {
   "cell_type": "code",
   "execution_count": 30,
   "metadata": {},
   "outputs": [
    {
     "name": "stdout",
     "output_type": "stream",
     "text": [
      "VGGFace network\n",
      "Average recall at k=1 0.8294736842105263 with standard deviation over 10 runs 0.020814442035037035\n"
     ]
    }
   ],
   "source": [
    "print(\"VGGFace network\")\n",
    "print(\"Average recall at k=1\", np.mean(vggface_recall_with_adversarial), end=' ')\n",
    "print(\"with standard deviation over 10 runs\", np.std(vggface_recall_with_adversarial))"
   ]
  },
  {
   "cell_type": "code",
   "execution_count": 21,
   "metadata": {},
   "outputs": [
    {
     "data": {
      "text/plain": [
       "{'boxes': [<matplotlib.lines.Line2D at 0x7ff9277450f0>,\n",
       "  <matplotlib.lines.Line2D at 0x7ff9277425f8>],\n",
       " 'caps': [<matplotlib.lines.Line2D at 0x7ff9277458d0>,\n",
       "  <matplotlib.lines.Line2D at 0x7ff927745c18>,\n",
       "  <matplotlib.lines.Line2D at 0x7ff92763e048>,\n",
       "  <matplotlib.lines.Line2D at 0x7ff92763e390>],\n",
       " 'fliers': [<matplotlib.lines.Line2D at 0x7ff9277422e8>,\n",
       "  <matplotlib.lines.Line2D at 0x7ff92763ea20>],\n",
       " 'means': [],\n",
       " 'medians': [<matplotlib.lines.Line2D at 0x7ff927745f60>,\n",
       "  <matplotlib.lines.Line2D at 0x7ff92763e6d8>],\n",
       " 'whiskers': [<matplotlib.lines.Line2D at 0x7ff927745240>,\n",
       "  <matplotlib.lines.Line2D at 0x7ff927745588>,\n",
       "  <matplotlib.lines.Line2D at 0x7ff927742978>,\n",
       "  <matplotlib.lines.Line2D at 0x7ff927742cc0>]}"
      ]
     },
     "execution_count": 21,
     "metadata": {},
     "output_type": "execute_result"
    },
    {
     "data": {
      "image/png": "[encoded data removed]",
      "text/plain": [
       "<Figure size 432x288 with 1 Axes>"
      ]
     },
     "metadata": {
      "needs_background": "light"
     },
     "output_type": "display_data"
    }
   ],
   "source": [
    "fig1, ax1 = plt.subplots()\n",
    "ax1.boxplot([vggface_recall_with_adversarial, casiawebface_recall_with_adversarial])"
   ]
  },
  {
   "cell_type": "code",
   "execution_count": 24,
   "metadata": {},
   "outputs": [
    {
     "name": "stderr",
     "output_type": "stream",
     "text": [
      "\r",
      "  0%|          | 0/10 [00:00<?, ?it/s]"
     ]
    },
    {
     "name": "stdout",
     "output_type": "stream",
     "text": [
      "INFO:tensorflow:Scale of 0 disables regularizer.\n",
      "INFO:tensorflow:Restoring parameters from /home/ivan/facenet/models/20180402-114759/model-20180402-114759.ckpt-275\n"
     ]
    },
    {
     "name": "stderr",
     "output_type": "stream",
     "text": [
      "\n",
      "  0%|          | 0/19 [00:00<?, ?it/s]\u001b[A\n",
      "  5%|▌         | 1/19 [00:02<00:40,  2.26s/it]\u001b[A\n",
      " 11%|█         | 2/19 [00:04<00:37,  2.21s/it]\u001b[A\n",
      " 16%|█▌        | 3/19 [00:06<00:33,  2.10s/it]\u001b[A\n",
      " 21%|██        | 4/19 [00:08<00:30,  2.05s/it]\u001b[A\n",
      " 26%|██▋       | 5/19 [00:09<00:27,  1.94s/it]\u001b[A\n",
      " 32%|███▏      | 6/19 [00:11<00:24,  1.88s/it]\u001b[A\n",
      " 37%|███▋      | 7/19 [00:13<00:22,  1.84s/it]\u001b[A\n",
      " 42%|████▏     | 8/19 [00:14<00:18,  1.73s/it]\u001b[A\n",
      " 47%|████▋     | 9/19 [00:16<00:16,  1.64s/it]\u001b[A\n",
      " 53%|█████▎    | 10/19 [00:18<00:15,  1.70s/it]\u001b[A\n",
      " 58%|█████▊    | 11/19 [00:19<00:14,  1.77s/it]\u001b[A\n",
      " 63%|██████▎   | 12/19 [00:22<00:13,  1.86s/it]\u001b[A\n",
      " 68%|██████▊   | 13/19 [00:23<00:11,  1.87s/it]\u001b[A\n",
      " 74%|███████▎  | 14/19 [00:25<00:08,  1.75s/it]\u001b[A\n",
      " 79%|███████▉  | 15/19 [00:26<00:06,  1.67s/it]\u001b[A\n",
      " 84%|████████▍ | 16/19 [00:28<00:04,  1.64s/it]\u001b[A\n",
      " 89%|████████▉ | 17/19 [00:30<00:03,  1.71s/it]\u001b[A\n",
      " 95%|█████████▍| 18/19 [00:32<00:01,  1.72s/it]\u001b[A\n",
      "100%|██████████| 19/19 [00:34<00:00,  1.80s/it]\u001b[A\n",
      " 10%|█         | 1/10 [00:58<08:43, 58.14s/it]"
     ]
    },
    {
     "name": "stdout",
     "output_type": "stream",
     "text": [
      "INFO:tensorflow:Scale of 0 disables regularizer.\n",
      "INFO:tensorflow:Restoring parameters from /home/ivan/facenet/models/20180402-114759/model-20180402-114759.ckpt-275\n"
     ]
    },
    {
     "name": "stderr",
     "output_type": "stream",
     "text": [
      "\n",
      "  0%|          | 0/19 [00:00<?, ?it/s]\u001b[A\n",
      "  5%|▌         | 1/19 [00:01<00:33,  1.88s/it]\u001b[A\n",
      " 11%|█         | 2/19 [00:03<00:30,  1.77s/it]\u001b[A\n",
      " 16%|█▌        | 3/19 [00:04<00:26,  1.64s/it]\u001b[A\n",
      " 21%|██        | 4/19 [00:06<00:24,  1.65s/it]\u001b[A\n",
      " 26%|██▋       | 5/19 [00:07<00:22,  1.62s/it]\u001b[A\n",
      " 32%|███▏      | 6/19 [00:09<00:20,  1.58s/it]\u001b[A\n",
      " 37%|███▋      | 7/19 [00:11<00:19,  1.63s/it]\u001b[A\n",
      " 42%|████▏     | 8/19 [00:13<00:18,  1.68s/it]\u001b[A\n",
      " 47%|████▋     | 9/19 [00:14<00:17,  1.76s/it]\u001b[A\n",
      " 53%|█████▎    | 10/19 [00:16<00:15,  1.77s/it]\u001b[A\n",
      " 58%|█████▊    | 11/19 [00:18<00:13,  1.73s/it]\u001b[A\n",
      " 63%|██████▎   | 12/19 [00:20<00:11,  1.70s/it]\u001b[A\n",
      " 68%|██████▊   | 13/19 [00:21<00:09,  1.66s/it]\u001b[A\n",
      " 74%|███████▎  | 14/19 [00:23<00:08,  1.61s/it]\u001b[A\n",
      " 79%|███████▉  | 15/19 [00:24<00:06,  1.55s/it]\u001b[A\n",
      " 84%|████████▍ | 16/19 [00:25<00:04,  1.54s/it]\u001b[A\n",
      " 89%|████████▉ | 17/19 [00:27<00:03,  1.52s/it]\u001b[A\n",
      " 95%|█████████▍| 18/19 [00:28<00:01,  1.47s/it]\u001b[A\n",
      "100%|██████████| 19/19 [00:30<00:00,  1.60s/it]\u001b[A\n",
      " 20%|██        | 2/10 [01:53<07:39, 57.39s/it]"
     ]
    },
    {
     "name": "stdout",
     "output_type": "stream",
     "text": [
      "INFO:tensorflow:Scale of 0 disables regularizer.\n",
      "INFO:tensorflow:Restoring parameters from /home/ivan/facenet/models/20180402-114759/model-20180402-114759.ckpt-275\n"
     ]
    },
    {
     "name": "stderr",
     "output_type": "stream",
     "text": [
      "\n",
      "  0%|          | 0/19 [00:00<?, ?it/s]\u001b[A\n",
      "  5%|▌         | 1/19 [00:02<00:36,  2.01s/it]\u001b[A\n",
      " 11%|█         | 2/19 [00:03<00:32,  1.94s/it]\u001b[A\n",
      " 16%|█▌        | 3/19 [00:05<00:31,  1.94s/it]\u001b[A\n",
      " 21%|██        | 4/19 [00:07<00:28,  1.92s/it]\u001b[A\n",
      " 26%|██▋       | 5/19 [00:09<00:26,  1.92s/it]\u001b[A\n",
      " 32%|███▏      | 6/19 [00:11<00:26,  2.00s/it]\u001b[A\n",
      " 37%|███▋      | 7/19 [00:13<00:24,  2.01s/it]\u001b[A\n",
      " 42%|████▏     | 8/19 [00:15<00:21,  1.94s/it]\u001b[A\n",
      " 47%|████▋     | 9/19 [00:17<00:19,  1.91s/it]\u001b[A\n",
      " 53%|█████▎    | 10/19 [00:19<00:17,  1.96s/it]\u001b[A\n",
      " 58%|█████▊    | 11/19 [00:21<00:16,  2.01s/it]\u001b[A\n",
      " 63%|██████▎   | 12/19 [00:23<00:13,  1.91s/it]\u001b[A\n",
      " 68%|██████▊   | 13/19 [00:25<00:11,  1.86s/it]\u001b[A\n",
      " 74%|███████▎  | 14/19 [00:26<00:09,  1.86s/it]\u001b[A\n",
      " 79%|███████▉  | 15/19 [00:28<00:07,  1.87s/it]\u001b[A\n",
      " 84%|████████▍ | 16/19 [00:30<00:05,  1.91s/it]\u001b[A\n",
      " 89%|████████▉ | 17/19 [00:32<00:03,  1.88s/it]\u001b[A\n",
      " 95%|█████████▍| 18/19 [00:34<00:01,  1.76s/it]\u001b[A\n",
      "100%|██████████| 19/19 [00:35<00:00,  1.87s/it]\u001b[A\n",
      " 30%|███       | 3/10 [02:56<06:52, 58.98s/it]"
     ]
    },
    {
     "name": "stdout",
     "output_type": "stream",
     "text": [
      "INFO:tensorflow:Scale of 0 disables regularizer.\n",
      "INFO:tensorflow:Restoring parameters from /home/ivan/facenet/models/20180402-114759/model-20180402-114759.ckpt-275\n"
     ]
    },
    {
     "name": "stderr",
     "output_type": "stream",
     "text": [
      "\n",
      "  0%|          | 0/19 [00:00<?, ?it/s]\u001b[A\n",
      "  5%|▌         | 1/19 [00:02<00:42,  2.36s/it]\u001b[A\n",
      " 11%|█         | 2/19 [00:04<00:37,  2.23s/it]\u001b[A\n",
      " 16%|█▌        | 3/19 [00:06<00:33,  2.09s/it]\u001b[A\n",
      " 21%|██        | 4/19 [00:07<00:29,  1.99s/it]\u001b[A\n",
      " 26%|██▋       | 5/19 [00:09<00:27,  1.96s/it]\u001b[A\n",
      " 32%|███▏      | 6/19 [00:11<00:24,  1.92s/it]\u001b[A\n",
      " 37%|███▋      | 7/19 [00:13<00:22,  1.88s/it]\u001b[A\n",
      " 42%|████▏     | 8/19 [00:15<00:20,  1.86s/it]\u001b[A\n",
      " 47%|████▋     | 9/19 [00:16<00:18,  1.82s/it]\u001b[A\n",
      " 53%|█████▎    | 10/19 [00:18<00:15,  1.78s/it]\u001b[A\n",
      " 58%|█████▊    | 11/19 [00:20<00:14,  1.76s/it]\u001b[A\n",
      " 63%|██████▎   | 12/19 [00:21<00:12,  1.72s/it]\u001b[A\n",
      " 68%|██████▊   | 13/19 [00:23<00:10,  1.72s/it]\u001b[A\n",
      " 74%|███████▎  | 14/19 [00:25<00:09,  1.87s/it]\u001b[A\n",
      " 79%|███████▉  | 15/19 [00:28<00:07,  1.98s/it]\u001b[A\n",
      " 84%|████████▍ | 16/19 [00:30<00:06,  2.10s/it]\u001b[A\n",
      " 89%|████████▉ | 17/19 [00:32<00:04,  2.13s/it]\u001b[A\n",
      " 95%|█████████▍| 18/19 [00:35<00:02,  2.20s/it]\u001b[A\n",
      "100%|██████████| 19/19 [00:37<00:00,  1.98s/it]\u001b[A\n",
      " 40%|████      | 4/10 [04:01<06:04, 60.67s/it]"
     ]
    },
    {
     "name": "stdout",
     "output_type": "stream",
     "text": [
      "INFO:tensorflow:Scale of 0 disables regularizer.\n",
      "INFO:tensorflow:Restoring parameters from /home/ivan/facenet/models/20180402-114759/model-20180402-114759.ckpt-275\n"
     ]
    },
    {
     "name": "stderr",
     "output_type": "stream",
     "text": [
      "\n",
      "  0%|          | 0/19 [00:00<?, ?it/s]\u001b[A\n",
      "  5%|▌         | 1/19 [00:01<00:35,  1.98s/it]\u001b[A\n",
      " 11%|█         | 2/19 [00:03<00:32,  1.90s/it]\u001b[A\n",
      " 16%|█▌        | 3/19 [00:05<00:30,  1.90s/it]\u001b[A\n",
      " 21%|██        | 4/19 [00:07<00:27,  1.81s/it]\u001b[A\n",
      " 26%|██▋       | 5/19 [00:08<00:25,  1.79s/it]\u001b[A\n",
      " 32%|███▏      | 6/19 [00:11<00:24,  1.92s/it]\u001b[A\n",
      " 37%|███▋      | 7/19 [00:13<00:23,  1.99s/it]\u001b[A\n",
      " 42%|████▏     | 8/19 [00:15<00:21,  1.99s/it]\u001b[A\n",
      " 47%|████▋     | 9/19 [00:17<00:19,  2.00s/it]\u001b[A\n",
      " 53%|█████▎    | 10/19 [00:19<00:18,  2.04s/it]\u001b[A\n",
      " 58%|█████▊    | 11/19 [00:21<00:16,  2.09s/it]\u001b[A\n",
      " 63%|██████▎   | 12/19 [00:23<00:14,  2.11s/it]\u001b[A\n",
      " 68%|██████▊   | 13/19 [00:25<00:12,  2.12s/it]\u001b[A\n",
      " 74%|███████▎  | 14/19 [00:28<00:10,  2.14s/it]\u001b[A\n",
      " 79%|███████▉  | 15/19 [00:30<00:08,  2.12s/it]\u001b[A\n",
      " 84%|████████▍ | 16/19 [00:32<00:06,  2.05s/it]\u001b[A\n",
      " 89%|████████▉ | 17/19 [00:33<00:03,  2.00s/it]\u001b[A\n",
      " 95%|█████████▍| 18/19 [00:35<00:01,  1.96s/it]\u001b[A\n",
      "100%|██████████| 19/19 [00:37<00:00,  1.96s/it]\u001b[A\n",
      " 50%|█████     | 5/10 [05:03<05:05, 61.12s/it]"
     ]
    },
    {
     "name": "stdout",
     "output_type": "stream",
     "text": [
      "INFO:tensorflow:Scale of 0 disables regularizer.\n",
      "INFO:tensorflow:Restoring parameters from /home/ivan/facenet/models/20180402-114759/model-20180402-114759.ckpt-275\n"
     ]
    },
    {
     "name": "stderr",
     "output_type": "stream",
     "text": [
      "\n",
      "  0%|          | 0/19 [00:00<?, ?it/s]\u001b[A\n",
      "  5%|▌         | 1/19 [00:02<00:39,  2.20s/it]\u001b[A\n",
      " 11%|█         | 2/19 [00:04<00:36,  2.14s/it]\u001b[A\n",
      " 16%|█▌        | 3/19 [00:06<00:33,  2.07s/it]\u001b[A\n",
      " 21%|██        | 4/19 [00:08<00:30,  2.04s/it]\u001b[A\n",
      " 26%|██▋       | 5/19 [00:10<00:28,  2.04s/it]\u001b[A\n",
      " 32%|███▏      | 6/19 [00:12<00:26,  2.00s/it]\u001b[A\n",
      " 37%|███▋      | 7/19 [00:13<00:23,  1.95s/it]\u001b[A\n",
      " 42%|████▏     | 8/19 [00:15<00:20,  1.86s/it]\u001b[A\n",
      " 47%|████▋     | 9/19 [00:17<00:17,  1.78s/it]\u001b[A\n",
      " 53%|█████▎    | 10/19 [00:18<00:15,  1.68s/it]\u001b[A\n",
      " 58%|█████▊    | 11/19 [00:19<00:12,  1.61s/it]\u001b[A\n",
      " 63%|██████▎   | 12/19 [00:21<00:11,  1.58s/it]\u001b[A\n",
      " 68%|██████▊   | 13/19 [00:23<00:09,  1.65s/it]\u001b[A\n",
      " 74%|███████▎  | 14/19 [00:25<00:08,  1.71s/it]\u001b[A\n",
      " 79%|███████▉  | 15/19 [00:27<00:07,  1.77s/it]\u001b[A\n",
      " 84%|████████▍ | 16/19 [00:29<00:05,  1.83s/it]\u001b[A\n",
      " 89%|████████▉ | 17/19 [00:30<00:03,  1.80s/it]\u001b[A\n",
      " 95%|█████████▍| 18/19 [00:32<00:01,  1.73s/it]\u001b[A\n",
      "100%|██████████| 19/19 [00:33<00:00,  1.78s/it]\u001b[A\n",
      " 60%|██████    | 6/10 [06:01<04:01, 60.34s/it]"
     ]
    },
    {
     "name": "stdout",
     "output_type": "stream",
     "text": [
      "INFO:tensorflow:Scale of 0 disables regularizer.\n",
      "INFO:tensorflow:Restoring parameters from /home/ivan/facenet/models/20180402-114759/model-20180402-114759.ckpt-275\n"
     ]
    },
    {
     "name": "stderr",
     "output_type": "stream",
     "text": [
      "\n",
      "  0%|          | 0/19 [00:00<?, ?it/s]\u001b[A\n",
      "  5%|▌         | 1/19 [00:02<00:38,  2.16s/it]\u001b[A\n",
      " 11%|█         | 2/19 [00:04<00:36,  2.13s/it]\u001b[A\n",
      " 16%|█▌        | 3/19 [00:06<00:33,  2.09s/it]\u001b[A\n",
      " 21%|██        | 4/19 [00:07<00:29,  2.00s/it]\u001b[A\n",
      " 26%|██▋       | 5/19 [00:09<00:27,  1.99s/it]\u001b[A\n",
      " 32%|███▏      | 6/19 [00:11<00:24,  1.91s/it]\u001b[A\n",
      " 37%|███▋      | 7/19 [00:13<00:22,  1.83s/it]\u001b[A\n",
      " 42%|████▏     | 8/19 [00:15<00:19,  1.79s/it]\u001b[A\n",
      " 47%|████▋     | 9/19 [00:16<00:17,  1.75s/it]\u001b[A\n",
      " 53%|█████▎    | 10/19 [00:18<00:15,  1.70s/it]\u001b[A\n",
      " 58%|█████▊    | 11/19 [00:19<00:13,  1.63s/it]\u001b[A\n",
      " 63%|██████▎   | 12/19 [00:21<00:11,  1.59s/it]\u001b[A\n",
      " 68%|██████▊   | 13/19 [00:22<00:09,  1.58s/it]\u001b[A\n",
      " 74%|███████▎  | 14/19 [00:24<00:08,  1.65s/it]\u001b[A\n",
      " 79%|███████▉  | 15/19 [00:26<00:06,  1.72s/it]\u001b[A\n",
      " 84%|████████▍ | 16/19 [00:28<00:05,  1.75s/it]\u001b[A\n",
      " 89%|████████▉ | 17/19 [00:30<00:03,  1.74s/it]\u001b[A\n",
      " 95%|█████████▍| 18/19 [00:31<00:01,  1.72s/it]\u001b[A\n",
      "100%|██████████| 19/19 [00:33<00:00,  1.76s/it]\u001b[A\n",
      " 70%|███████   | 7/10 [06:59<02:58, 59.49s/it]"
     ]
    },
    {
     "name": "stdout",
     "output_type": "stream",
     "text": [
      "INFO:tensorflow:Scale of 0 disables regularizer.\n",
      "INFO:tensorflow:Restoring parameters from /home/ivan/facenet/models/20180402-114759/model-20180402-114759.ckpt-275\n"
     ]
    },
    {
     "name": "stderr",
     "output_type": "stream",
     "text": [
      "\n",
      "  0%|          | 0/19 [00:00<?, ?it/s]\u001b[A\n",
      "  5%|▌         | 1/19 [00:01<00:35,  1.98s/it]\u001b[A\n",
      " 11%|█         | 2/19 [00:03<00:32,  1.91s/it]\u001b[A\n",
      " 16%|█▌        | 3/19 [00:05<00:29,  1.84s/it]\u001b[A\n",
      " 21%|██        | 4/19 [00:07<00:27,  1.85s/it]\u001b[A\n",
      " 26%|██▋       | 5/19 [00:09<00:26,  1.90s/it]\u001b[A\n",
      " 32%|███▏      | 6/19 [00:11<00:25,  1.92s/it]\u001b[A\n",
      " 37%|███▋      | 7/19 [00:13<00:22,  1.90s/it]\u001b[A\n",
      " 42%|████▏     | 8/19 [00:15<00:20,  1.91s/it]\u001b[A\n",
      " 47%|████▋     | 9/19 [00:17<00:19,  1.96s/it]\u001b[A\n",
      " 53%|█████▎    | 10/19 [00:19<00:17,  1.94s/it]\u001b[A\n",
      " 58%|█████▊    | 11/19 [00:20<00:15,  1.93s/it]\u001b[A\n",
      " 63%|██████▎   | 12/19 [00:23<00:13,  2.00s/it]\u001b[A\n",
      " 68%|██████▊   | 13/19 [00:24<00:11,  1.97s/it]\u001b[A\n",
      " 74%|███████▎  | 14/19 [00:27<00:09,  1.99s/it]\u001b[A\n",
      " 79%|███████▉  | 15/19 [00:29<00:08,  2.04s/it]\u001b[A\n",
      " 84%|████████▍ | 16/19 [00:31<00:06,  2.09s/it]\u001b[A\n",
      " 89%|████████▉ | 17/19 [00:33<00:04,  2.07s/it]\u001b[A\n",
      " 95%|█████████▍| 18/19 [00:35<00:02,  2.04s/it]\u001b[A\n",
      "100%|██████████| 19/19 [00:37<00:00,  1.96s/it]\u001b[A\n",
      " 80%|████████  | 8/10 [08:03<02:01, 60.95s/it]"
     ]
    },
    {
     "name": "stdout",
     "output_type": "stream",
     "text": [
      "INFO:tensorflow:Scale of 0 disables regularizer.\n",
      "INFO:tensorflow:Restoring parameters from /home/ivan/facenet/models/20180402-114759/model-20180402-114759.ckpt-275\n"
     ]
    },
    {
     "name": "stderr",
     "output_type": "stream",
     "text": [
      "\n",
      "  0%|          | 0/19 [00:00<?, ?it/s]\u001b[A\n",
      "  5%|▌         | 1/19 [00:02<00:43,  2.40s/it]\u001b[A\n",
      " 11%|█         | 2/19 [00:04<00:38,  2.25s/it]\u001b[A\n",
      " 16%|█▌        | 3/19 [00:06<00:34,  2.15s/it]\u001b[A\n",
      " 21%|██        | 4/19 [00:08<00:31,  2.08s/it]\u001b[A\n",
      " 26%|██▋       | 5/19 [00:09<00:27,  2.00s/it]\u001b[A\n",
      " 32%|███▏      | 6/19 [00:11<00:25,  2.00s/it]\u001b[A\n",
      " 37%|███▋      | 7/19 [00:13<00:23,  1.97s/it]\u001b[A\n",
      " 42%|████▏     | 8/19 [00:15<00:20,  1.88s/it]\u001b[A\n",
      " 47%|████▋     | 9/19 [00:17<00:18,  1.84s/it]\u001b[A\n",
      " 53%|█████▎    | 10/19 [00:18<00:15,  1.73s/it]\u001b[A\n",
      " 58%|█████▊    | 11/19 [00:20<00:13,  1.72s/it]\u001b[A\n",
      " 63%|██████▎   | 12/19 [00:22<00:11,  1.71s/it]\u001b[A\n",
      " 68%|██████▊   | 13/19 [00:23<00:10,  1.72s/it]\u001b[A\n",
      " 74%|███████▎  | 14/19 [00:25<00:08,  1.71s/it]\u001b[A\n",
      " 79%|███████▉  | 15/19 [00:27<00:06,  1.67s/it]\u001b[A\n",
      " 84%|████████▍ | 16/19 [00:28<00:04,  1.61s/it]\u001b[A\n",
      " 89%|████████▉ | 17/19 [00:30<00:03,  1.59s/it]\u001b[A\n",
      " 95%|█████████▍| 18/19 [00:31<00:01,  1.53s/it]\u001b[A\n",
      "100%|██████████| 19/19 [00:33<00:00,  1.75s/it]\u001b[A\n",
      " 90%|█████████ | 9/10 [09:00<00:59, 59.77s/it]"
     ]
    },
    {
     "name": "stdout",
     "output_type": "stream",
     "text": [
      "INFO:tensorflow:Scale of 0 disables regularizer.\n",
      "INFO:tensorflow:Restoring parameters from /home/ivan/facenet/models/20180402-114759/model-20180402-114759.ckpt-275\n"
     ]
    },
    {
     "name": "stderr",
     "output_type": "stream",
     "text": [
      "\n",
      "  0%|          | 0/19 [00:00<?, ?it/s]\u001b[A\n",
      "  5%|▌         | 1/19 [00:01<00:32,  1.79s/it]\u001b[A\n",
      " 11%|█         | 2/19 [00:03<00:28,  1.68s/it]\u001b[A\n",
      " 16%|█▌        | 3/19 [00:04<00:25,  1.59s/it]\u001b[A\n",
      " 21%|██        | 4/19 [00:06<00:23,  1.60s/it]\u001b[A\n",
      " 26%|██▋       | 5/19 [00:07<00:22,  1.63s/it]\u001b[A\n",
      " 32%|███▏      | 6/19 [00:09<00:20,  1.55s/it]\u001b[A\n",
      " 37%|███▋      | 7/19 [00:10<00:17,  1.47s/it]\u001b[A\n",
      " 42%|████▏     | 8/19 [00:12<00:16,  1.50s/it]\u001b[A\n",
      " 47%|████▋     | 9/19 [00:13<00:15,  1.52s/it]\u001b[A\n",
      " 53%|█████▎    | 10/19 [00:15<00:13,  1.55s/it]\u001b[A\n",
      " 58%|█████▊    | 11/19 [00:17<00:12,  1.59s/it]\u001b[A\n",
      " 63%|██████▎   | 12/19 [00:18<00:11,  1.70s/it]\u001b[A\n",
      " 68%|██████▊   | 13/19 [00:20<00:10,  1.79s/it]\u001b[A\n",
      " 74%|███████▎  | 14/19 [00:22<00:08,  1.76s/it]\u001b[A\n",
      " 79%|███████▉  | 15/19 [00:24<00:06,  1.74s/it]\u001b[A\n",
      " 84%|████████▍ | 16/19 [00:25<00:05,  1.71s/it]\u001b[A\n",
      " 89%|████████▉ | 17/19 [00:27<00:03,  1.74s/it]\u001b[A\n",
      " 95%|█████████▍| 18/19 [00:29<00:01,  1.69s/it]\u001b[A\n",
      "100%|██████████| 19/19 [00:30<00:00,  1.62s/it]\u001b[A\n",
      "100%|██████████| 10/10 [09:54<00:00, 59.46s/it]\n"
     ]
    }
   ],
   "source": [
    "vggface_recall = repeat_recall_at_1(\"vggface2\", include_adversarial=False)"
   ]
  },
  {
   "cell_type": "code",
   "execution_count": 25,
   "metadata": {},
   "outputs": [
    {
     "name": "stderr",
     "output_type": "stream",
     "text": [
      "\r",
      "  0%|          | 0/10 [00:00<?, ?it/s]"
     ]
    },
    {
     "name": "stdout",
     "output_type": "stream",
     "text": [
      "INFO:tensorflow:Scale of 0 disables regularizer.\n",
      "INFO:tensorflow:Restoring parameters from /home/ivan/facenet/models/20180408-102900/model-20180408-102900.ckpt-90\n"
     ]
    },
    {
     "name": "stderr",
     "output_type": "stream",
     "text": [
      "\n",
      "  0%|          | 0/19 [00:00<?, ?it/s]\u001b[A\n",
      "  5%|▌         | 1/19 [00:02<00:38,  2.14s/it]\u001b[A\n",
      " 11%|█         | 2/19 [00:03<00:34,  2.04s/it]\u001b[A\n",
      " 16%|█▌        | 3/19 [00:05<00:31,  1.97s/it]\u001b[A\n",
      " 21%|██        | 4/19 [00:07<00:28,  1.89s/it]\u001b[A\n",
      " 26%|██▋       | 5/19 [00:09<00:25,  1.79s/it]\u001b[A\n",
      " 32%|███▏      | 6/19 [00:10<00:22,  1.74s/it]\u001b[A\n",
      " 37%|███▋      | 7/19 [00:12<00:20,  1.73s/it]\u001b[A\n",
      " 42%|████▏     | 8/19 [00:14<00:19,  1.74s/it]\u001b[A\n",
      " 47%|████▋     | 9/19 [00:15<00:17,  1.71s/it]\u001b[A\n",
      " 53%|█████▎    | 10/19 [00:17<00:15,  1.67s/it]\u001b[A\n",
      " 58%|█████▊    | 11/19 [00:19<00:13,  1.74s/it]\u001b[A\n",
      " 63%|██████▎   | 12/19 [00:20<00:12,  1.73s/it]\u001b[A\n",
      " 68%|██████▊   | 13/19 [00:22<00:10,  1.67s/it]\u001b[A\n",
      " 74%|███████▎  | 14/19 [00:23<00:08,  1.62s/it]\u001b[A\n",
      " 79%|███████▉  | 15/19 [00:25<00:06,  1.57s/it]\u001b[A\n",
      " 84%|████████▍ | 16/19 [00:26<00:04,  1.52s/it]\u001b[A\n",
      " 89%|████████▉ | 17/19 [00:28<00:03,  1.50s/it]\u001b[A\n",
      " 95%|█████████▍| 18/19 [00:30<00:01,  1.66s/it]\u001b[A\n",
      "100%|██████████| 19/19 [00:32<00:00,  1.70s/it]\u001b[A\n",
      " 10%|█         | 1/10 [00:58<08:43, 58.16s/it]"
     ]
    },
    {
     "name": "stdout",
     "output_type": "stream",
     "text": [
      "INFO:tensorflow:Scale of 0 disables regularizer.\n",
      "INFO:tensorflow:Restoring parameters from /home/ivan/facenet/models/20180408-102900/model-20180408-102900.ckpt-90\n"
     ]
    },
    {
     "name": "stderr",
     "output_type": "stream",
     "text": [
      "\n",
      "  0%|          | 0/19 [00:00<?, ?it/s]\u001b[A\n",
      "  5%|▌         | 1/19 [00:02<00:38,  2.14s/it]\u001b[A\n",
      " 11%|█         | 2/19 [00:04<00:35,  2.09s/it]\u001b[A\n",
      " 16%|█▌        | 3/19 [00:05<00:31,  1.97s/it]\u001b[A\n",
      " 21%|██        | 4/19 [00:07<00:28,  1.87s/it]\u001b[A\n",
      " 26%|██▋       | 5/19 [00:08<00:24,  1.76s/it]\u001b[A\n",
      " 32%|███▏      | 6/19 [00:10<00:22,  1.76s/it]\u001b[A\n",
      " 37%|███▋      | 7/19 [00:12<00:20,  1.73s/it]\u001b[A\n",
      " 42%|████▏     | 8/19 [00:13<00:18,  1.66s/it]\u001b[A\n",
      " 47%|████▋     | 9/19 [00:15<00:16,  1.63s/it]\u001b[A\n",
      " 53%|█████▎    | 10/19 [00:17<00:14,  1.64s/it]\u001b[A\n",
      " 58%|█████▊    | 11/19 [00:18<00:12,  1.57s/it]\u001b[A\n",
      " 63%|██████▎   | 12/19 [00:19<00:10,  1.54s/it]\u001b[A\n",
      " 68%|██████▊   | 13/19 [00:21<00:08,  1.49s/it]\u001b[A\n",
      " 74%|███████▎  | 14/19 [00:23<00:07,  1.58s/it]\u001b[A\n",
      " 79%|███████▉  | 15/19 [00:24<00:06,  1.61s/it]\u001b[A\n",
      " 84%|████████▍ | 16/19 [00:26<00:04,  1.65s/it]\u001b[A\n",
      " 89%|████████▉ | 17/19 [00:28<00:03,  1.67s/it]\u001b[A\n",
      " 95%|█████████▍| 18/19 [00:30<00:01,  1.72s/it]\u001b[A\n",
      "100%|██████████| 19/19 [00:32<00:00,  1.69s/it]\u001b[A\n",
      " 20%|██        | 2/10 [01:57<07:48, 58.53s/it]"
     ]
    },
    {
     "name": "stdout",
     "output_type": "stream",
     "text": [
      "INFO:tensorflow:Scale of 0 disables regularizer.\n",
      "INFO:tensorflow:Restoring parameters from /home/ivan/facenet/models/20180408-102900/model-20180408-102900.ckpt-90\n"
     ]
    },
    {
     "name": "stderr",
     "output_type": "stream",
     "text": [
      "\n",
      "  0%|          | 0/19 [00:00<?, ?it/s]\u001b[A\n",
      "  5%|▌         | 1/19 [00:02<00:37,  2.09s/it]\u001b[A\n",
      " 11%|█         | 2/19 [00:03<00:33,  1.94s/it]\u001b[A\n",
      " 16%|█▌        | 3/19 [00:05<00:30,  1.91s/it]\u001b[A\n",
      " 21%|██        | 4/19 [00:07<00:28,  1.92s/it]\u001b[A\n",
      " 26%|██▋       | 5/19 [00:09<00:26,  1.89s/it]\u001b[A\n",
      " 32%|███▏      | 6/19 [00:11<00:24,  1.87s/it]\u001b[A\n",
      " 37%|███▋      | 7/19 [00:12<00:22,  1.85s/it]\u001b[A\n",
      " 42%|████▏     | 8/19 [00:14<00:20,  1.87s/it]\u001b[A\n",
      " 47%|████▋     | 9/19 [00:16<00:17,  1.75s/it]\u001b[A\n",
      " 53%|█████▎    | 10/19 [00:17<00:14,  1.66s/it]\u001b[A\n",
      " 58%|█████▊    | 11/19 [00:19<00:14,  1.75s/it]\u001b[A\n",
      " 63%|██████▎   | 12/19 [00:21<00:12,  1.79s/it]\u001b[A\n",
      " 68%|██████▊   | 13/19 [00:23<00:11,  1.90s/it]\u001b[A\n",
      " 74%|███████▎  | 14/19 [00:25<00:09,  1.94s/it]\u001b[A\n",
      " 79%|███████▉  | 15/19 [00:27<00:07,  1.92s/it]\u001b[A\n",
      " 84%|████████▍ | 16/19 [00:29<00:05,  1.88s/it]\u001b[A\n",
      " 89%|████████▉ | 17/19 [00:31<00:03,  1.90s/it]\u001b[A\n",
      " 95%|█████████▍| 18/19 [00:33<00:01,  1.84s/it]\u001b[A\n",
      "100%|██████████| 19/19 [00:35<00:00,  1.85s/it]\u001b[A\n",
      " 30%|███       | 3/10 [02:58<06:54, 59.17s/it]"
     ]
    },
    {
     "name": "stdout",
     "output_type": "stream",
     "text": [
      "INFO:tensorflow:Scale of 0 disables regularizer.\n",
      "INFO:tensorflow:Restoring parameters from /home/ivan/facenet/models/20180408-102900/model-20180408-102900.ckpt-90\n"
     ]
    },
    {
     "name": "stderr",
     "output_type": "stream",
     "text": [
      "\n",
      "  0%|          | 0/19 [00:00<?, ?it/s]\u001b[A\n",
      "  5%|▌         | 1/19 [00:01<00:34,  1.90s/it]\u001b[A\n",
      " 11%|█         | 2/19 [00:03<00:31,  1.84s/it]\u001b[A\n",
      " 16%|█▌        | 3/19 [00:05<00:28,  1.76s/it]\u001b[A\n",
      " 21%|██        | 4/19 [00:06<00:24,  1.66s/it]\u001b[A\n",
      " 26%|██▋       | 5/19 [00:07<00:21,  1.55s/it]\u001b[A\n",
      " 32%|███▏      | 6/19 [00:09<00:19,  1.48s/it]\u001b[A\n",
      " 37%|███▋      | 7/19 [00:10<00:17,  1.45s/it]\u001b[A\n",
      " 42%|████▏     | 8/19 [00:12<00:16,  1.50s/it]\u001b[A\n",
      " 47%|████▋     | 9/19 [00:13<00:14,  1.46s/it]\u001b[A\n",
      " 53%|█████▎    | 10/19 [00:15<00:14,  1.60s/it]\u001b[A\n",
      " 58%|█████▊    | 11/19 [00:16<00:12,  1.56s/it]\u001b[A\n",
      " 63%|██████▎   | 12/19 [00:18<00:10,  1.56s/it]\u001b[A\n",
      " 68%|██████▊   | 13/19 [00:19<00:09,  1.53s/it]\u001b[A\n",
      " 74%|███████▎  | 14/19 [00:21<00:07,  1.47s/it]\u001b[A\n",
      " 79%|███████▉  | 15/19 [00:22<00:05,  1.45s/it]\u001b[A\n",
      " 84%|████████▍ | 16/19 [00:24<00:04,  1.43s/it]\u001b[A\n",
      " 89%|████████▉ | 17/19 [00:25<00:02,  1.45s/it]\u001b[A\n",
      " 95%|█████████▍| 18/19 [00:27<00:01,  1.48s/it]\u001b[A\n",
      "100%|██████████| 19/19 [00:28<00:00,  1.52s/it]\u001b[A\n",
      " 40%|████      | 4/10 [03:49<05:40, 56.72s/it]"
     ]
    },
    {
     "name": "stdout",
     "output_type": "stream",
     "text": [
      "INFO:tensorflow:Scale of 0 disables regularizer.\n",
      "INFO:tensorflow:Restoring parameters from /home/ivan/facenet/models/20180408-102900/model-20180408-102900.ckpt-90\n"
     ]
    },
    {
     "name": "stderr",
     "output_type": "stream",
     "text": [
      "\n",
      "  0%|          | 0/19 [00:00<?, ?it/s]\u001b[A\n",
      "  5%|▌         | 1/19 [00:01<00:27,  1.53s/it]\u001b[A\n",
      " 11%|█         | 2/19 [00:03<00:26,  1.57s/it]\u001b[A\n",
      " 16%|█▌        | 3/19 [00:04<00:24,  1.56s/it]\u001b[A\n",
      " 21%|██        | 4/19 [00:06<00:24,  1.66s/it]\u001b[A\n",
      " 26%|██▋       | 5/19 [00:08<00:22,  1.58s/it]\u001b[A\n",
      " 32%|███▏      | 6/19 [00:09<00:19,  1.53s/it]\u001b[A\n",
      " 37%|███▋      | 7/19 [00:11<00:19,  1.61s/it]\u001b[A\n",
      " 42%|████▏     | 8/19 [00:12<00:16,  1.51s/it]\u001b[A\n",
      " 47%|████▋     | 9/19 [00:13<00:14,  1.43s/it]\u001b[A\n",
      " 53%|█████▎    | 10/19 [00:15<00:12,  1.44s/it]\u001b[A\n",
      " 58%|█████▊    | 11/19 [00:16<00:12,  1.54s/it]\u001b[A\n",
      " 63%|██████▎   | 12/19 [00:18<00:11,  1.62s/it]\u001b[A\n",
      " 68%|██████▊   | 13/19 [00:20<00:10,  1.75s/it]\u001b[A\n",
      " 74%|███████▎  | 14/19 [00:22<00:09,  1.81s/it]\u001b[A\n",
      " 79%|███████▉  | 15/19 [00:24<00:06,  1.73s/it]\u001b[A\n",
      " 84%|████████▍ | 16/19 [00:26<00:05,  1.73s/it]\u001b[A\n",
      " 89%|████████▉ | 17/19 [00:27<00:03,  1.66s/it]\u001b[A\n",
      " 95%|█████████▍| 18/19 [00:28<00:01,  1.57s/it]\u001b[A\n",
      "100%|██████████| 19/19 [00:30<00:00,  1.60s/it]\u001b[A\n",
      " 50%|█████     | 5/10 [04:40<04:35, 55.01s/it]"
     ]
    },
    {
     "name": "stdout",
     "output_type": "stream",
     "text": [
      "INFO:tensorflow:Scale of 0 disables regularizer.\n",
      "INFO:tensorflow:Restoring parameters from /home/ivan/facenet/models/20180408-102900/model-20180408-102900.ckpt-90\n"
     ]
    },
    {
     "name": "stderr",
     "output_type": "stream",
     "text": [
      "\n",
      "  0%|          | 0/19 [00:00<?, ?it/s]\u001b[A\n",
      "  5%|▌         | 1/19 [00:01<00:30,  1.68s/it]\u001b[A\n",
      " 11%|█         | 2/19 [00:02<00:25,  1.53s/it]\u001b[A\n",
      " 16%|█▌        | 3/19 [00:04<00:23,  1.46s/it]\u001b[A\n",
      " 21%|██        | 4/19 [00:05<00:21,  1.44s/it]\u001b[A\n",
      " 26%|██▋       | 5/19 [00:06<00:19,  1.39s/it]\u001b[A\n",
      " 32%|███▏      | 6/19 [00:08<00:17,  1.34s/it]\u001b[A\n",
      " 37%|███▋      | 7/19 [00:09<00:15,  1.28s/it]\u001b[A\n",
      " 42%|████▏     | 8/19 [00:10<00:14,  1.35s/it]\u001b[A\n",
      " 47%|████▋     | 9/19 [00:12<00:13,  1.39s/it]\u001b[A\n",
      " 53%|█████▎    | 10/19 [00:13<00:12,  1.43s/it]\u001b[A\n",
      " 58%|█████▊    | 11/19 [00:15<00:11,  1.45s/it]\u001b[A\n",
      " 63%|██████▎   | 12/19 [00:16<00:10,  1.46s/it]\u001b[A\n",
      " 68%|██████▊   | 13/19 [00:18<00:08,  1.49s/it]\u001b[A\n",
      " 74%|███████▎  | 14/19 [00:19<00:07,  1.46s/it]\u001b[A\n",
      " 79%|███████▉  | 15/19 [00:21<00:05,  1.46s/it]\u001b[A\n",
      " 84%|████████▍ | 16/19 [00:22<00:04,  1.47s/it]\u001b[A\n",
      " 89%|████████▉ | 17/19 [00:23<00:02,  1.45s/it]\u001b[A\n",
      " 95%|█████████▍| 18/19 [00:25<00:01,  1.48s/it]\u001b[A\n",
      "100%|██████████| 19/19 [00:26<00:00,  1.41s/it]\u001b[A\n",
      " 60%|██████    | 6/10 [05:28<03:32, 53.11s/it]"
     ]
    },
    {
     "name": "stdout",
     "output_type": "stream",
     "text": [
      "INFO:tensorflow:Scale of 0 disables regularizer.\n",
      "INFO:tensorflow:Restoring parameters from /home/ivan/facenet/models/20180408-102900/model-20180408-102900.ckpt-90\n"
     ]
    },
    {
     "name": "stderr",
     "output_type": "stream",
     "text": [
      "\n",
      "  0%|          | 0/19 [00:00<?, ?it/s]\u001b[A\n",
      "  5%|▌         | 1/19 [00:01<00:34,  1.94s/it]\u001b[A\n",
      " 11%|█         | 2/19 [00:03<00:31,  1.85s/it]\u001b[A\n",
      " 16%|█▌        | 3/19 [00:05<00:29,  1.83s/it]\u001b[A\n",
      " 21%|██        | 4/19 [00:06<00:26,  1.77s/it]\u001b[A\n",
      " 26%|██▋       | 5/19 [00:08<00:23,  1.70s/it]\u001b[A\n",
      " 32%|███▏      | 6/19 [00:09<00:20,  1.59s/it]\u001b[A\n",
      " 37%|███▋      | 7/19 [00:11<00:17,  1.48s/it]\u001b[A\n",
      " 42%|████▏     | 8/19 [00:12<00:15,  1.41s/it]\u001b[A\n",
      " 47%|████▋     | 9/19 [00:13<00:14,  1.42s/it]\u001b[A\n",
      " 53%|█████▎    | 10/19 [00:15<00:12,  1.43s/it]\u001b[A\n",
      " 58%|█████▊    | 11/19 [00:16<00:11,  1.45s/it]\u001b[A\n",
      " 63%|██████▎   | 12/19 [00:18<00:10,  1.55s/it]\u001b[A\n",
      " 68%|██████▊   | 13/19 [00:20<00:09,  1.56s/it]\u001b[A\n",
      " 74%|███████▎  | 14/19 [00:21<00:07,  1.56s/it]\u001b[A\n",
      " 79%|███████▉  | 15/19 [00:23<00:06,  1.65s/it]\u001b[A\n",
      " 84%|████████▍ | 16/19 [00:25<00:05,  1.73s/it]\u001b[A\n",
      " 89%|████████▉ | 17/19 [00:27<00:03,  1.75s/it]\u001b[A\n",
      " 95%|█████████▍| 18/19 [00:28<00:01,  1.73s/it]\u001b[A\n",
      "100%|██████████| 19/19 [00:30<00:00,  1.60s/it]\u001b[A\n",
      " 70%|███████   | 7/10 [06:24<02:41, 53.80s/it]"
     ]
    },
    {
     "name": "stdout",
     "output_type": "stream",
     "text": [
      "INFO:tensorflow:Scale of 0 disables regularizer.\n",
      "INFO:tensorflow:Restoring parameters from /home/ivan/facenet/models/20180408-102900/model-20180408-102900.ckpt-90\n"
     ]
    },
    {
     "name": "stderr",
     "output_type": "stream",
     "text": [
      "\n",
      "  0%|          | 0/19 [00:00<?, ?it/s]\u001b[A\n",
      "  5%|▌         | 1/19 [00:01<00:35,  1.97s/it]\u001b[A\n",
      " 11%|█         | 2/19 [00:03<00:31,  1.88s/it]\u001b[A\n",
      " 16%|█▌        | 3/19 [00:05<00:28,  1.80s/it]\u001b[A\n",
      " 21%|██        | 4/19 [00:06<00:26,  1.75s/it]\u001b[A\n",
      " 26%|██▋       | 5/19 [00:08<00:22,  1.62s/it]\u001b[A\n",
      " 32%|███▏      | 6/19 [00:09<00:20,  1.58s/it]\u001b[A\n",
      " 37%|███▋      | 7/19 [00:11<00:19,  1.61s/it]\u001b[A\n",
      " 42%|████▏     | 8/19 [00:13<00:18,  1.65s/it]\u001b[A\n",
      " 47%|████▋     | 9/19 [00:14<00:16,  1.68s/it]\u001b[A\n",
      " 53%|█████▎    | 10/19 [00:16<00:15,  1.71s/it]\u001b[A\n",
      " 58%|█████▊    | 11/19 [00:18<00:14,  1.82s/it]\u001b[A\n",
      " 63%|██████▎   | 12/19 [00:20<00:13,  1.91s/it]\u001b[A\n",
      " 68%|██████▊   | 13/19 [00:22<00:11,  1.94s/it]\u001b[A\n",
      " 74%|███████▎  | 14/19 [00:24<00:09,  1.91s/it]\u001b[A\n",
      " 79%|███████▉  | 15/19 [00:26<00:07,  1.90s/it]\u001b[A\n",
      " 84%|████████▍ | 16/19 [00:28<00:05,  1.85s/it]\u001b[A\n",
      " 89%|████████▉ | 17/19 [00:30<00:03,  1.84s/it]\u001b[A\n",
      " 95%|█████████▍| 18/19 [00:31<00:01,  1.84s/it]\u001b[A\n",
      "100%|██████████| 19/19 [00:33<00:00,  1.77s/it]\u001b[A\n",
      " 80%|████████  | 8/10 [07:22<01:50, 55.00s/it]"
     ]
    },
    {
     "name": "stdout",
     "output_type": "stream",
     "text": [
      "INFO:tensorflow:Scale of 0 disables regularizer.\n",
      "INFO:tensorflow:Restoring parameters from /home/ivan/facenet/models/20180408-102900/model-20180408-102900.ckpt-90\n"
     ]
    },
    {
     "name": "stderr",
     "output_type": "stream",
     "text": [
      "\n",
      "  0%|          | 0/19 [00:00<?, ?it/s]\u001b[A\n",
      "  5%|▌         | 1/19 [00:01<00:33,  1.86s/it]\u001b[A\n",
      " 11%|█         | 2/19 [00:03<00:29,  1.74s/it]\u001b[A\n",
      " 16%|█▌        | 3/19 [00:04<00:26,  1.65s/it]\u001b[A\n",
      " 21%|██        | 4/19 [00:06<00:24,  1.62s/it]\u001b[A\n",
      " 26%|██▋       | 5/19 [00:07<00:22,  1.58s/it]\u001b[A\n",
      " 32%|███▏      | 6/19 [00:09<00:20,  1.54s/it]\u001b[A\n",
      " 37%|███▋      | 7/19 [00:10<00:18,  1.51s/it]\u001b[A\n",
      " 42%|████▏     | 8/19 [00:12<00:17,  1.57s/it]\u001b[A\n",
      " 47%|████▋     | 9/19 [00:13<00:15,  1.56s/it]\u001b[A\n",
      " 53%|█████▎    | 10/19 [00:15<00:13,  1.49s/it]\u001b[A\n",
      " 58%|█████▊    | 11/19 [00:16<00:11,  1.47s/it]\u001b[A\n",
      " 63%|██████▎   | 12/19 [00:18<00:10,  1.51s/it]\u001b[A\n",
      " 68%|██████▊   | 13/19 [00:20<00:09,  1.66s/it]\u001b[A\n",
      " 74%|███████▎  | 14/19 [00:22<00:08,  1.75s/it]\u001b[A\n",
      " 79%|███████▉  | 15/19 [00:24<00:07,  1.77s/it]\u001b[A\n",
      " 84%|████████▍ | 16/19 [00:25<00:05,  1.78s/it]\u001b[A\n",
      " 89%|████████▉ | 17/19 [00:27<00:03,  1.76s/it]\u001b[A\n",
      " 95%|█████████▍| 18/19 [00:29<00:01,  1.68s/it]\u001b[A\n",
      "100%|██████████| 19/19 [00:30<00:00,  1.61s/it]\u001b[A\n",
      " 90%|█████████ | 9/10 [08:17<00:55, 55.13s/it]"
     ]
    },
    {
     "name": "stdout",
     "output_type": "stream",
     "text": [
      "INFO:tensorflow:Scale of 0 disables regularizer.\n",
      "INFO:tensorflow:Restoring parameters from /home/ivan/facenet/models/20180408-102900/model-20180408-102900.ckpt-90\n"
     ]
    },
    {
     "name": "stderr",
     "output_type": "stream",
     "text": [
      "\n",
      "  0%|          | 0/19 [00:00<?, ?it/s]\u001b[A\n",
      "  5%|▌         | 1/19 [00:01<00:33,  1.85s/it]\u001b[A\n",
      " 11%|█         | 2/19 [00:03<00:30,  1.77s/it]\u001b[A\n",
      " 16%|█▌        | 3/19 [00:05<00:28,  1.76s/it]\u001b[A\n",
      " 21%|██        | 4/19 [00:07<00:26,  1.78s/it]\u001b[A\n",
      " 26%|██▋       | 5/19 [00:08<00:23,  1.67s/it]\u001b[A\n",
      " 32%|███▏      | 6/19 [00:10<00:21,  1.66s/it]\u001b[A\n",
      " 37%|███▋      | 7/19 [00:11<00:19,  1.61s/it]\u001b[A\n",
      " 42%|████▏     | 8/19 [00:13<00:17,  1.59s/it]\u001b[A\n",
      " 47%|████▋     | 9/19 [00:14<00:16,  1.61s/it]\u001b[A\n",
      " 53%|█████▎    | 10/19 [00:16<00:15,  1.69s/it]\u001b[A\n",
      " 58%|█████▊    | 11/19 [00:18<00:13,  1.71s/it]\u001b[A\n",
      " 63%|██████▎   | 12/19 [00:19<00:11,  1.64s/it]\u001b[A\n",
      " 68%|██████▊   | 13/19 [00:21<00:09,  1.59s/it]\u001b[A\n",
      " 74%|███████▎  | 14/19 [00:23<00:08,  1.63s/it]\u001b[A\n",
      " 79%|███████▉  | 15/19 [00:24<00:06,  1.65s/it]\u001b[A\n",
      " 84%|████████▍ | 16/19 [00:26<00:05,  1.73s/it]\u001b[A\n",
      " 89%|████████▉ | 17/19 [00:28<00:03,  1.85s/it]\u001b[A\n",
      " 95%|█████████▍| 18/19 [00:30<00:01,  1.94s/it]\u001b[A\n",
      "100%|██████████| 19/19 [00:33<00:00,  1.75s/it]\u001b[A\n",
      "100%|██████████| 10/10 [09:17<00:00, 55.72s/it]\n"
     ]
    }
   ],
   "source": [
    "casiawebface_recall = repeat_recall_at_1(\"casia-webface\", include_adversarial=False)"
   ]
  },
  {
   "cell_type": "code",
   "execution_count": 26,
   "metadata": {},
   "outputs": [
    {
     "data": {
      "text/plain": [
       "{'boxes': [<matplotlib.lines.Line2D at 0x7ffa02331ac8>,\n",
       "  <matplotlib.lines.Line2D at 0x7ffa0232afd0>],\n",
       " 'caps': [<matplotlib.lines.Line2D at 0x7ffa0232a2e8>,\n",
       "  <matplotlib.lines.Line2D at 0x7ffa0232a630>,\n",
       "  <matplotlib.lines.Line2D at 0x7ffa02207a20>,\n",
       "  <matplotlib.lines.Line2D at 0x7ffa02207d68>],\n",
       " 'fliers': [<matplotlib.lines.Line2D at 0x7ffa0232acc0>,\n",
       "  <matplotlib.lines.Line2D at 0x7ffa021fa438>],\n",
       " 'means': [],\n",
       " 'medians': [<matplotlib.lines.Line2D at 0x7ffa0232a978>,\n",
       "  <matplotlib.lines.Line2D at 0x7ffa021fa0f0>],\n",
       " 'whiskers': [<matplotlib.lines.Line2D at 0x7ffa02331c18>,\n",
       "  <matplotlib.lines.Line2D at 0x7ffa02331f60>,\n",
       "  <matplotlib.lines.Line2D at 0x7ffa02207390>,\n",
       "  <matplotlib.lines.Line2D at 0x7ffa022076d8>]}"
      ]
     },
     "execution_count": 26,
     "metadata": {},
     "output_type": "execute_result"
    },
    {
     "data": {
      "image/png": "[encoded data removed]",
      "text/plain": [
       "<Figure size 432x288 with 1 Axes>"
      ]
     },
     "metadata": {
      "needs_background": "light"
     },
     "output_type": "display_data"
    }
   ],
   "source": [
    "fig1, ax1 = plt.subplots()\n",
    "ax1.boxplot([vggface_recall, casiawebface_recall])"
   ]
  },
  {
   "cell_type": "code",
   "execution_count": 31,
   "metadata": {},
   "outputs": [
    {
     "name": "stdout",
     "output_type": "stream",
     "text": [
      "Casia WebFace network\n",
      "Average recall at k=1 0.6452631578947369 with standard deviation over 10 runs 0.033303772672750274\n"
     ]
    }
   ],
   "source": [
    "print(\"Casia WebFace network\")\n",
    "print(\"Average recall at k=1\", np.mean(casiawebface_recall), end=' ')\n",
    "print(\"with standard deviation over 10 runs\", np.std(casiawebface_recall))"
   ]
  },
  {
   "cell_type": "code",
   "execution_count": 32,
   "metadata": {},
   "outputs": [
    {
     "name": "stdout",
     "output_type": "stream",
     "text": [
      "VGGFace network\n",
      "Average recall at k=1 0.8757894736842106 with standard deviation over 10 runs 0.01915095305122131\n"
     ]
    }
   ],
   "source": [
    "print(\"VGGFace network\")\n",
    "print(\"Average recall at k=1\", np.mean(vggface_recall), end=' ')\n",
    "print(\"with standard deviation over 10 runs\", np.std(vggface_recall))"
   ]
  },
  {
   "cell_type": "code",
   "execution_count": null,
   "metadata": {},
   "outputs": [],
   "source": []
  }
 ],
 "metadata": {
  "kernelspec": {
   "display_name": "Python 3",
   "language": "python",
   "name": "python3"
  },
  "language_info": {
   "codemirror_mode": {
    "name": "ipython",
    "version": 3
   },
   "file_extension": ".py",
   "mimetype": "text/x-python",
   "name": "python",
   "nbconvert_exporter": "python",
   "pygments_lexer": "ipython3",
   "version": "3.5.6"
  }
 },
 "nbformat": 4,
 "nbformat_minor": 2
}
