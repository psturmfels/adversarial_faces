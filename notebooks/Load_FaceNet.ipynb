{
 "cells": [
  {
   "cell_type": "code",
   "execution_count": 1,
   "metadata": {},
   "outputs": [],
   "source": [
    "import os\n",
    "os.environ[\"CUDA_VISIBLE_DEVICES\"] = \"0\"\n",
    "import tensorflow as tf\n",
    "import glob\n",
    "import numpy as np\n",
    "from PIL import Image\n",
    "from sklearn.metrics import pairwise_distances, roc_auc_score\n",
    "from matplotlib import pyplot as plt\n",
    "%matplotlib inline\n",
    "from tqdm import tqdm\n",
    "import sys\n",
    "sys.path.append(\"../\")\n",
    "from inception_resnet_v1 import inference"
   ]
  },
  {
   "cell_type": "code",
   "execution_count": 2,
   "metadata": {},
   "outputs": [],
   "source": [
    "dataset_to_model_name = {\n",
    "    \"casia-webface\": \"20180408-102900\",\n",
    "    \"vggface2\": \"20180402-114759\"\n",
    "}\n",
    "\n",
    "dataset_to_ckpt_number = {\n",
    "    \"casia-webface\": \"90\",\n",
    "    \"vggface2\": \"275\"\n",
    "}"
   ]
  },
  {
   "cell_type": "code",
   "execution_count": 3,
   "metadata": {},
   "outputs": [],
   "source": [
    "def prewhiten(x):\n",
    "    \"\"\"\n",
    "    A helper function to whiten an image, or a batch of images.\n",
    "    Args:\n",
    "        x: An image or batch of images.\n",
    "    \"\"\"\n",
    "    if x.ndim == 4:\n",
    "        axis = (1, 2, 3)\n",
    "        size = x[0].size\n",
    "    elif x.ndim == 3:\n",
    "        axis = (0, 1, 2)\n",
    "        size = x.size\n",
    "    else:\n",
    "        print(x.ndim)\n",
    "        raise ValueError('Dimension should be 3 or 4')\n",
    "\n",
    "    mean = np.mean(x, axis=axis, keepdims=True)\n",
    "    std = np.std(x, axis=axis, keepdims=True)\n",
    "#     std_adj = np.maximum(std, 1.0/np.sqrt(size))\n",
    "    y = (x - mean) / std\n",
    "    return y\n",
    "\n",
    "def l2_normalize(x, axis=-1, epsilon=1e-10):\n",
    "    \"\"\"\n",
    "    Normalizes an embedding to have unit length in the l2 metric.\n",
    "    Args:\n",
    "        x: A batch of numpy embeddings\n",
    "    \"\"\"\n",
    "    output = x / np.sqrt(np.maximum(np.sum(np.square(x),\n",
    "                                           axis=axis,\n",
    "                                           keepdims=True),\n",
    "                                    epsilon))\n",
    "    return output"
   ]
  },
  {
   "cell_type": "code",
   "execution_count": 4,
   "metadata": {},
   "outputs": [],
   "source": [
    "class PersonImages:\n",
    "    def __init__(self, person_name):\n",
    "        self.clean_folder = \"\"\n",
    "        self.clean_images = []\n",
    "        self.adversarial_images = []\n",
    "        self.reloaded_adversarial_images = []\n",
    "        self.orig_mean = None\n",
    "        self.orig_std = None\n",
    "        self.person_name = person_name\n",
    "        self.adversarial_save_folder = None\n",
    "    \n",
    "    def _load_one_facenet(self, path, crop_box=None, resize_size=None, prewhiten_img=True):\n",
    "        img = Image.open(path).convert(\"RGB\")\n",
    "        \n",
    "        if crop_box:\n",
    "            img = img.crop(crop_box)\n",
    "            \n",
    "        if resize_size:\n",
    "            img = img.resize((resize_size, resize_size))\n",
    "            \n",
    "        img = (np.array(img)).astype(np.float32)\n",
    "        \n",
    "        if prewhiten_img:\n",
    "            img = prewhiten(img)\n",
    "            \n",
    "        return img\n",
    "        \n",
    "        \n",
    "    def _load_folder_for_facenet(self, folder, crop=False, resize_size=None):\n",
    "        paths_list = glob.glob(os.path.join(folder, \"*\"))\n",
    "        final_imgs = []\n",
    "        for img_path in paths_list:\n",
    "            final_imgs.append(\n",
    "                self._load_one_facenet(\n",
    "                    img_path, prewhiten_img=False, resize_size=resize_size))\n",
    "        \n",
    "        final_imgs = np.array(final_imgs)\n",
    "        mean, std = np.mean(final_imgs), np.std(final_imgs)\n",
    "        final_imgs = prewhiten(np.array(final_imgs))\n",
    "        return final_imgs, mean, std\n",
    "        \n",
    "        \n",
    "    def load_clean_from_folder(self, clean_folder, resize_size=160, crop=True):\n",
    "        self.clean_folder = clean_folder\n",
    "        self.clean_images, self.orig_mean, self.orig_std = self._load_folder_for_facenet(\n",
    "            clean_folder, crop=crop, resize_size=resize_size)\n",
    "    \n",
    "    def _load_plain(self, folder):\n",
    "        imgs, mean, std = self._load_folder_for_facenet(folder, crop=False, resize_size=None)\n",
    "        return imgs\n",
    "        \n",
    "    def reload_adversarial(self):\n",
    "        self.reloaded_adversarial_images = self._load_plain(self.adversarial_save_folder)\n",
    "        \n",
    "    def _undo_preprocess(self, images):\n",
    "        restored_images = images.copy()\n",
    "        restored_images  *= self.orig_std\n",
    "        restored_images += self.orig_mean\n",
    "        restored_images = np.clip(restored_images, 0.0, 255.0)\n",
    "        return np.uint8(restored_images)\n",
    "    \n",
    "    def get_clean_for_display(self):\n",
    "        return self._undo_preprocess(self.clean_images)\n",
    "    \n",
    "    def get_adversarial_for_display(self):\n",
    "        return self._undo_preprocess(self.adversarial_images)\n",
    "    \n",
    "    def save_adversarial(self, save_path, save_format):\n",
    "        self.adversarial_save_folder = save_path\n",
    "        self.adversarial_save_format = save_format\n",
    "        adversarial_for_save = self.get_adversarial_for_display()\n",
    "        \n",
    "        for indx, img in enumerate(adversarial_for_save):\n",
    "            Image.fromarray(img).save(\n",
    "                os.path.join(\n",
    "                    save_path, \n",
    "                    \"{person_name}_{indx:02d}.{adversarial_save_format}\".format(\n",
    "                        person_name=self.person_name,\n",
    "                        indx=indx,\n",
    "                        adversarial_save_format=self.adversarial_save_format\n",
    "                    ))\n",
    "            )\n",
    "            \n",
    "    def _compute_embeddings(self, model, images):\n",
    "        return model.predict(np.array(images), batch_size=len(images))\n",
    "    \n",
    "    def compute_clean_embeddings_with_model(self, model):\n",
    "        self.clean_embeddings = self._compute_embeddings(model, self.clean_images)\n",
    "        \n",
    "    def compute_adversarial_embeddings_with_model(self, model):\n",
    "        self.adversarial_embeddings = self._compute_embeddings(model, self.adversarial_images)\n",
    "        \n",
    "    def compute_reloaded_adversarial_embeddings_with_model(self, model):\n",
    "        self.reloaded_adversarial_embeddings = self._compute_embeddings(model, self.reloaded_adversarial_images)"
   ]
  },
  {
   "cell_type": "code",
   "execution_count": 5,
   "metadata": {},
   "outputs": [],
   "source": [
    "class MyModel:\n",
    "    def __init__(self, model_path):\n",
    "        self.model_inputs = tf.placeholder(tf.float32, shape=(None, 160, 160, 3))\n",
    "\n",
    "        self.net, self.endpoints = inference(\n",
    "            self.model_inputs, keep_probability=1.0, bottleneck_layer_size=512, phase_train=False)\n",
    "\n",
    "        model_name = dataset_to_model_name[\"vggface2\"]\n",
    "        saver = tf.train.Saver()\n",
    "\n",
    "        self.sess = tf.Session()\n",
    "        saver.restore(self.sess, model_path)\n",
    "    \n",
    "    def predict(self, inputs, batch_size):\n",
    "        return self.sess.run(self.net, feed_dict={self.model_inputs: inputs})"
   ]
  },
  {
   "cell_type": "code",
   "execution_count": 6,
   "metadata": {},
   "outputs": [],
   "source": [
    "def build_model(dataset_name):\n",
    "    model_name = dataset_to_model_name[dataset_name]\n",
    "    model = MyModel(os.path.join(\n",
    "        \"/home/ivan/facenet/models\",\n",
    "        model_name,\n",
    "        \"model-{model_name}.ckpt-{ckpt_num}\".format(\n",
    "            model_name=dataset_to_model_name[dataset_name],\n",
    "            ckpt_num=dataset_to_ckpt_number[dataset_name]\n",
    "        )\n",
    "    ))\n",
    "    return model"
   ]
  },
  {
   "cell_type": "code",
   "execution_count": 7,
   "metadata": {},
   "outputs": [],
   "source": [
    "def path_for_id_robust_0p5(identity):\n",
    "    if identity == \"n000958\":\n",
    "        return \"/data/vggface/test_perturbed_sampled/{id}/robust_community_naive_mean/n000029/epsilon_0.5/png\".format(id=identity)\n",
    "    else:\n",
    "        return \"/data/vggface/test_perturbed_sampled/{id}/robust_community_naive_mean/n000958/epsilon_0.5/png\".format(id=identity)\n",
    "    \n",
    "\n",
    "def path_for_id_mean_0p1(identity):\n",
    "    if identity == \"n000958\":\n",
    "        return \"/data/vggface/test_perturbed_sampled/{id}/community_naive_mean/n000029/epsilon_0.1/png\".format(id=identity)\n",
    "    else:\n",
    "        return \"/data/vggface/test_perturbed_sampled/{id}/community_naive_mean/n000958/epsilon_0.1/png\".format(id=identity)\n",
    "\n",
    "def path_for_id_clean(identity):\n",
    "    if identity == \"n000958\":\n",
    "        return \"/data/vggface/test_perturbed_sampled/{id}/community_naive_mean/n000029/epsilon_0.0/png\".format(id=identity)\n",
    "    else:\n",
    "        return \"/data/vggface/test_perturbed_sampled/{id}/community_naive_mean/n000958/epsilon_0.0/png\".format(id=identity)\n"
   ]
  },
  {
   "cell_type": "code",
   "execution_count": 8,
   "metadata": {},
   "outputs": [],
   "source": [
    "def build_person(person_name, path_for_id_fn):\n",
    "    person_a = PersonImages(person_name)\n",
    "    person_a.load_clean_from_folder(path_for_id_fn(person_a.person_name))\n",
    "    return person_a"
   ]
  },
  {
   "cell_type": "code",
   "execution_count": 9,
   "metadata": {},
   "outputs": [],
   "source": [
    "def roc_curve(positive, negative, network_name):\n",
    "    ground_truth = [0 for x in positive] + [5 for x in negative]\n",
    "    scores = np.concatenate((positive, negative), axis=0)\n",
    "    roc_auc = roc_auc_score(\n",
    "        y_true=ground_truth,\n",
    "        y_score=scores, \n",
    "    )\n",
    "    print(\"Computed ROC AUC: {roc_auc:.3f}\".format(roc_auc=roc_auc))\n",
    "    \n",
    "    thresholds = np.arange(1e-6, 2.0, 0.1)\n",
    "    tprs = []\n",
    "    fprs = []\n",
    "    n_pos = float(len(positive))\n",
    "    n_neg = float(len(negative))\n",
    "\n",
    "    print(\"**** Computing ROC curve *****\")\n",
    "    for t in thresholds:\n",
    "        tp = np.sum(positive < t)\n",
    "        fp = np.sum(negative < t)\n",
    "        tprs.append(tp / n_pos)\n",
    "        fprs.append(fp / n_neg)\n",
    "    \n",
    "    fig1, ax1 = plt.subplots()\n",
    "    ax1.plot(np.arange(0.0, 1.1, 0.1), np.arange(0.0, 1.1, 0.1), label=\"y=x\")\n",
    "    ax1.plot(fprs, tprs, label=network_name)\n",
    "    ax1.legend()\n",
    "    ax1.set_ylabel(\"True Positive Rate\")\n",
    "    ax1.set_xlabel(\"False Positive Rate\")\n",
    "    ax1.set_title(\"ROC Curve for model\")\n",
    "    \n",
    "def sanity_check(person_a, person_b, network_name):    \n",
    "    self_distances = pairwise_distances(\n",
    "         l2_normalize(person_a.clean_embeddings),\n",
    "         l2_normalize(person_a.clean_embeddings),\n",
    "         metric='cosine',\n",
    "         n_jobs=4\n",
    "    )\n",
    "    print(\"self distance shape\", self_distances.shape)\n",
    "    # all distances below the diagonal compare every pair and exclude 0's to self\n",
    "    self_dist_indices = np.tril_indices(n=len(person_a.clean_embeddings), k=-1)\n",
    "    \n",
    "    # this selection returns a flattened array of distances that are ground truth True\n",
    "    self_distances = self_distances[self_dist_indices]\n",
    "\n",
    "    negative_distances = pairwise_distances(\n",
    "        l2_normalize(person_a.clean_embeddings),\n",
    "        l2_normalize(person_b.clean_embeddings),\n",
    "        metric='cosine',\n",
    "        n_jobs=4\n",
    "    ).flatten()\n",
    "    \n",
    "    print(\"negative distance shape\", negative_distances.shape)\n",
    "\n",
    "    roc_curve(self_distances, negative_distances, network_name)\n",
    "    \n",
    "    fig1, ax1 = plt.subplots()\n",
    "    ax1.boxplot([self_distances, negative_distances])"
   ]
  },
  {
   "cell_type": "code",
   "execution_count": 10,
   "metadata": {},
   "outputs": [],
   "source": [
    "def do_network(network_name, person_a, person_b):\n",
    "    with tf.Graph().as_default():\n",
    "        model = build_model(network_name)\n",
    "        person_a.compute_clean_embeddings_with_model(model)\n",
    "        person_b.compute_clean_embeddings_with_model(model)\n",
    "        model.sess.close()\n",
    "    sanity_check(person_a, person_b, network_name)"
   ]
  },
  {
   "cell_type": "code",
   "execution_count": 11,
   "metadata": {},
   "outputs": [
    {
     "name": "stdout",
     "output_type": "stream",
     "text": [
      "INFO:tensorflow:Scale of 0 disables regularizer.\n",
      "INFO:tensorflow:Restoring parameters from /home/ivan/facenet/models/20180408-102900/model-20180408-102900.ckpt-90\n",
      "self distance shape (50, 50)\n",
      "negative distance shape (2500,)\n",
      "Computed ROC AUC: 0.948\n",
      "**** Computing ROC curve *****\n",
      "INFO:tensorflow:Scale of 0 disables regularizer.\n",
      "INFO:tensorflow:Restoring parameters from /home/ivan/facenet/models/20180402-114759/model-20180402-114759.ckpt-275\n",
      "self distance shape (50, 50)\n",
      "negative distance shape (2500,)\n",
      "Computed ROC AUC: 0.934\n",
      "**** Computing ROC curve *****\n"
     ]
    },
    {
     "data": {
      "image/png": "[encoded data removed]",
      "text/plain": [
       "<Figure size 432x288 with 1 Axes>"
      ]
     },
     "metadata": {
      "needs_background": "light"
     },
     "output_type": "display_data"
    },
    {
     "data": {
      "image/png": "[encoded data removed]",
      "text/plain": [
       "<Figure size 432x288 with 1 Axes>"
      ]
     },
     "metadata": {
      "needs_background": "light"
     },
     "output_type": "display_data"
    },
    {
     "data": {
      "image/png": "[encoded data removed]",
      "text/plain": [
       "<Figure size 432x288 with 1 Axes>"
      ]
     },
     "metadata": {
      "needs_background": "light"
     },
     "output_type": "display_data"
    },
    {
     "data": {
      "image/png": "[encoded data removed]",
      "text/plain": [
       "<Figure size 432x288 with 1 Axes>"
      ]
     },
     "metadata": {
      "needs_background": "light"
     },
     "output_type": "display_data"
    }
   ],
   "source": [
    "person_a = build_person(\"n000029\", path_for_id_robust_0p5)\n",
    "person_b = build_person(\"n000958\", path_for_id_robust_0p5)\n",
    "do_network(\"casia-webface\", person_a, person_b)\n",
    "do_network(\"vggface2\", person_a, person_b)"
   ]
  },
  {
   "cell_type": "code",
   "execution_count": 12,
   "metadata": {},
   "outputs": [
    {
     "name": "stdout",
     "output_type": "stream",
     "text": [
      "INFO:tensorflow:Scale of 0 disables regularizer.\n",
      "INFO:tensorflow:Restoring parameters from /home/ivan/facenet/models/20180408-102900/model-20180408-102900.ckpt-90\n",
      "self distance shape (50, 50)\n",
      "negative distance shape (2500,)\n",
      "Computed ROC AUC: 0.599\n",
      "**** Computing ROC curve *****\n",
      "INFO:tensorflow:Scale of 0 disables regularizer.\n",
      "INFO:tensorflow:Restoring parameters from /home/ivan/facenet/models/20180402-114759/model-20180402-114759.ckpt-275\n",
      "self distance shape (50, 50)\n",
      "negative distance shape (2500,)\n",
      "Computed ROC AUC: 0.693\n",
      "**** Computing ROC curve *****\n"
     ]
    },
    {
     "data": {
      "image/png": "[encoded data removed]",
      "text/plain": [
       "<Figure size 432x288 with 1 Axes>"
      ]
     },
     "metadata": {
      "needs_background": "light"
     },
     "output_type": "display_data"
    },
    {
     "data": {
      "image/png": "[encoded data removed]",
      "text/plain": [
       "<Figure size 432x288 with 1 Axes>"
      ]
     },
     "metadata": {
      "needs_background": "light"
     },
     "output_type": "display_data"
    },
    {
     "data": {
      "image/png": "[encoded data removed]",
      "text/plain": [
       "<Figure size 432x288 with 1 Axes>"
      ]
     },
     "metadata": {
      "needs_background": "light"
     },
     "output_type": "display_data"
    },
    {
     "data": {
      "image/png": "[encoded data removed]",
      "text/plain": [
       "<Figure size 432x288 with 1 Axes>"
      ]
     },
     "metadata": {
      "needs_background": "light"
     },
     "output_type": "display_data"
    }
   ],
   "source": [
    "person_a = build_person(\"n000029\", path_for_id_mean_0p1)\n",
    "person_b = build_person(\"n000958\", path_for_id_mean_0p1)\n",
    "do_network(\"casia-webface\", person_a, person_b)\n",
    "do_network(\"vggface2\", person_a, person_b)"
   ]
  },
  {
   "cell_type": "code",
   "execution_count": 13,
   "metadata": {},
   "outputs": [
    {
     "name": "stdout",
     "output_type": "stream",
     "text": [
      "INFO:tensorflow:Scale of 0 disables regularizer.\n",
      "INFO:tensorflow:Restoring parameters from /home/ivan/facenet/models/20180408-102900/model-20180408-102900.ckpt-90\n",
      "self distance shape (50, 50)\n",
      "negative distance shape (2500,)\n",
      "Computed ROC AUC: 0.867\n",
      "**** Computing ROC curve *****\n",
      "INFO:tensorflow:Scale of 0 disables regularizer.\n",
      "INFO:tensorflow:Restoring parameters from /home/ivan/facenet/models/20180402-114759/model-20180402-114759.ckpt-275\n",
      "self distance shape (50, 50)\n",
      "negative distance shape (2500,)\n",
      "Computed ROC AUC: 0.938\n",
      "**** Computing ROC curve *****\n"
     ]
    },
    {
     "data": {
      "image/png": "[encoded data removed]",
      "text/plain": [
       "<Figure size 432x288 with 1 Axes>"
      ]
     },
     "metadata": {
      "needs_background": "light"
     },
     "output_type": "display_data"
    },
    {
     "data": {
      "image/png": "[encoded data removed]",
      "text/plain": [
       "<Figure size 432x288 with 1 Axes>"
      ]
     },
     "metadata": {
      "needs_background": "light"
     },
     "output_type": "display_data"
    },
    {
     "data": {
      "image/png": "[encoded data removed]",
      "text/plain": [
       "<Figure size 432x288 with 1 Axes>"
      ]
     },
     "metadata": {
      "needs_background": "light"
     },
     "output_type": "display_data"
    },
    {
     "data": {
      "image/png": "[encoded data removed]",
      "text/plain": [
       "<Figure size 432x288 with 1 Axes>"
      ]
     },
     "metadata": {
      "needs_background": "light"
     },
     "output_type": "display_data"
    }
   ],
   "source": [
    "person_a = build_person(\"n000029\", path_for_id_clean)\n",
    "person_b = build_person(\"n000958\", path_for_id_clean)\n",
    "do_network(\"casia-webface\", person_a, person_b)\n",
    "do_network(\"vggface2\", person_a, person_b)"
   ]
  },
  {
   "cell_type": "code",
   "execution_count": 14,
   "metadata": {},
   "outputs": [],
   "source": [
    "class FacialVectorsDatabase:\n",
    "    def __init__(self, folder, model_name, epsilon, attack_strategy, image_format, include_adversarial=True):\n",
    "        self.associated_identities = []\n",
    "        self.vectors = []\n",
    "        self.associated_paths = []\n",
    "#         self.seen_images = set()\n",
    "        \n",
    "        identities = os.listdir(folder)\n",
    "        \n",
    "        # We have 19 identities with 50 photos each.\n",
    "        # To ensure non-repeatability of the photo used, generate a permutation of 38 \n",
    "        # of the 50 indices possible. \n",
    "        # We will then use the first two for clean images, and the remaining as decoys. \n",
    "        all_indices = np.random.choice(50, 38, replace=False)\n",
    "        \n",
    "        self.graph = tf.Graph()\n",
    "        \n",
    "        with self.graph.as_default():\n",
    "            self.model = build_model(model_name)\n",
    "\n",
    "            for person_name in tqdm(identities):\n",
    "                attack_subfolder = os.path.join(folder, person_name, attack_strategy)\n",
    "\n",
    "                protected = os.listdir(attack_subfolder)\n",
    "                \n",
    "                # Use the first two indices as clean.\n",
    "                clean_folder = os.path.join(\n",
    "                    attack_subfolder, protected[0], \"epsilon_0.0\", image_format)\n",
    "\n",
    "                if include_adversarial:\n",
    "                    self._add_folder_for_person(clean_folder, person_name, all_indices[0:2])\n",
    "\n",
    "                    for indx, other_identity in enumerate(protected):\n",
    "                        protected_folder = os.path.join(\n",
    "                            attack_subfolder, \n",
    "                            other_identity, \n",
    "                            \"epsilon_{eps}\".format(eps=epsilon), \n",
    "                            image_format\n",
    "                        )\n",
    "\n",
    "                        # Use the remaining indices for the decoys, two per person.\n",
    "                        self._add_folder_for_person(\n",
    "                            protected_folder, \n",
    "                            person_name, \n",
    "                            all_indices[indx + 2 : indx + 4]\n",
    "                        )\n",
    "                else:\n",
    "                    self._add_folder_for_person(clean_folder, person_name, all_indices)\n",
    "                \n",
    "            \n",
    "    def _load_one_facenet(self, path, crop_box=None, resize_size=None, prewhiten_img=True):\n",
    "        img = Image.open(path).convert(\"RGB\")\n",
    "        \n",
    "        if crop_box:\n",
    "            img = img.crop(crop_box)\n",
    "            \n",
    "        if resize_size:\n",
    "            img = img.resize((resize_size, resize_size))\n",
    "            \n",
    "        img = (np.array(img)).astype(np.float32)\n",
    "        \n",
    "        if prewhiten_img:\n",
    "            img = prewhiten(img)\n",
    "            \n",
    "        return img\n",
    "        \n",
    "\n",
    "    def _load_folder_for_facenet(self, folder, indices):\n",
    "#         paths_list = glob.glob(os.path.join(folder, \"*\"))\n",
    "        \n",
    "#         if num_imgs > 0: \n",
    "#             paths_list = np.random.choice(paths_list, num_imgs)\n",
    "            \n",
    "#         if num_imgs > 0:\n",
    "#             paths_list = [path if path.split(\"/\")[-1] not in self.seen_images for path in paths_list]\n",
    "#             if len(paths_list) < 1:\n",
    "#                 print(\"All images seen in {folder}, skipping\".format(folder=folder))\n",
    "#                 return None, None\n",
    "#             elif len(paths_list) > num_imgs:\n",
    "#                  paths_list = np.random.choice(paths_list, num_imgs)\n",
    "                    \n",
    "#         elif num_imgs == 0:\n",
    "#             return None, None\n",
    "        \n",
    "        paths_list = [os.path.join(folder, \"{}.png\".format(x)) for x in indices]\n",
    "        final_imgs = [\n",
    "            self._load_one_facenet(\n",
    "                img_path, \n",
    "                prewhiten_img=False, \n",
    "                resize_size=None, \n",
    "                crop_box=None) for img_path in paths_list\n",
    "        ]\n",
    "\n",
    "        final_imgs = np.array(final_imgs)\n",
    "        final_imgs = prewhiten(np.array(final_imgs))\n",
    "        return final_imgs, paths_list\n",
    "\n",
    "    \n",
    "    def _compute_embeddings(self, images):\n",
    "        return l2_normalize(self.model.predict(np.array(images), batch_size=len(images)))\n",
    "    \n",
    "    \n",
    "    def _add_folder_for_person(self, folder, person_name, indices):\n",
    "#         if num_imgs < 1:\n",
    "#             return\n",
    "        \n",
    "        images, paths_list = self._load_folder_for_facenet(folder, indices)\n",
    "        \n",
    "        if images is None:\n",
    "            return\n",
    "#             self.seen_images.add([path.split(\"/\")[-1] for path in paths_list])\n",
    "        vectors = self._compute_embeddings(images)\n",
    "        self.vectors.extend(vectors)\n",
    "        self.associated_identities.extend([person_name for _ in range(len(vectors))])\n",
    "        self.associated_paths.extend(paths_list)\n",
    "    \n",
    "    def nearest_neighbor_to_img_at_path(self, query_path):\n",
    "        with self.graph.as_default():\n",
    "            query_vector = self._compute_embeddings(\n",
    "                np.expand_dims(self._load_one_facenet(query_path, resize_size=160), axis=0))\n",
    "        distances = pairwise_distances(query_vector, self.vectors, metric=\"cosine\")[0]\n",
    "        min_dist_indx = np.argmin(distances)\n",
    "        return self.associated_identities[min_dist_indx], self.associated_paths[min_dist_indx]"
   ]
  },
  {
   "cell_type": "code",
   "execution_count": 15,
   "metadata": {},
   "outputs": [],
   "source": [
    "def full_path_to_info(path):\n",
    "    split = path.split(\"/\")\n",
    "    if path.startswith(\"/data/vggface/test_perturbed_sampled\"):\n",
    "        # split of path breaks down like this:\n",
    "        #     0 \n",
    "        #     1 data\n",
    "        #     2 vggface\n",
    "        #     3 test_perturbed_sampled\n",
    "        #     4 {protector}\n",
    "        #     5 community_naive_mean\n",
    "        #     6 {protected}\n",
    "        #     7 epsilon_0.0\n",
    "        #     8 png\n",
    "        #     9 35.png\n",
    "        return \"-\".join([split[4], split[6], split[7], split[9]])\n",
    "    else:\n",
    "        # split of path breaks down like this:\n",
    "        #     0 \n",
    "        #     1 data\n",
    "        #     2 vggface\n",
    "        #     3 test_query_antisampled\n",
    "        #     4 {protector}\n",
    "        #     5 image_name.jpeg\n",
    "        return \"-\".join([split[4], split[5]])\n",
    "        \n",
    "\n",
    "def measure_local_recall(\n",
    "    faces_database,\n",
    "    image_directory=\"/data/vggface/test_query_antisampled\",\n",
    "    num_query=10,\n",
    "    verbose=False\n",
    "):\n",
    "    discovery = []\n",
    "    true = []\n",
    "    identified_as = []\n",
    "    \n",
    "    paths_of_query = []\n",
    "    paths_of_nearest = []\n",
    "\n",
    "    for protector in os.listdir(image_directory):\n",
    "        # We are sourcing query photos from epsilon_0.0.\n",
    "        # In those cases, all subfolders in the \"protected\" identity have the same, clean\n",
    "        # photo of the protector, so we just pick any single one that exists (e.g. n000958)\n",
    "        # For the case where n000958 is itself the protector, n000958 is not present in its protected\n",
    "        # subfolders, so we pick n000029 without loss of generality.\n",
    "        if protector == \"n000958\":\n",
    "            protected = \"n000029\"\n",
    "        else:\n",
    "            protected = \"n000958\"\n",
    "\n",
    "        query_photos_paths = sorted(glob.glob(\n",
    "            os.path.join(image_directory, protector, \"*\")\n",
    "        ))\n",
    "\n",
    "        \n",
    "        for i in np.random.choice(len(query_photos_paths), num_query):\n",
    "            chosen_path = query_photos_paths[i]\n",
    "            top_identity, top_identity_path = faces_database.nearest_neighbor_to_img_at_path(chosen_path)\n",
    "            \n",
    "            paths_of_query.append(full_path_to_info(chosen_path))\n",
    "            paths_of_nearest.append(full_path_to_info(top_identity_path))\n",
    "            \n",
    "            true.append(protector)\n",
    "            identified_as.append(top_identity)\n",
    "\n",
    "            if top_identity == protector:\n",
    "                discovery.append(1.0)\n",
    "            else:\n",
    "                discovery.append(0.0)\n",
    "\n",
    "    if verbose:\n",
    "        for true_id, recognized_id, query, nearest in zip(true, identified_as, paths_of_query, paths_of_nearest):\n",
    "            print(\"Face of {true_id} identitifed as {recognized_id}. Nearest neighbor to {query} was {nearest}\".format(\n",
    "                true_id=true_id, recognized_id=recognized_id, query=query, nearest=nearest))\n",
    "        \n",
    "    return sum(discovery)/len(discovery)\n",
    "\n",
    "def repeat_recall_at_1(dataset_name, include_adversarial=True):\n",
    "    recall_at_1 = []\n",
    "    for i in tqdm(range(10)):\n",
    "        faces_db = FacialVectorsDatabase(\n",
    "            folder=\"/data/vggface/test_perturbed_sampled\",\n",
    "            model_name=dataset_name,\n",
    "            epsilon=0.1,\n",
    "            attack_strategy=\"community_naive_mean\",\n",
    "            image_format=\"png\",\n",
    "            include_adversarial=include_adversarial\n",
    "        )\n",
    "        recall_at_1.append(measure_local_recall(faces_db, num_query=10, verbose=False))\n",
    "        faces_db.model.sess.close()\n",
    "    return recall_at_1 "
   ]
  },
  {
   "cell_type": "code",
   "execution_count": 16,
   "metadata": {},
   "outputs": [
    {
     "name": "stderr",
     "output_type": "stream",
     "text": [
      "\r",
      "  0%|          | 0/10 [00:00<?, ?it/s]"
     ]
    },
    {
     "name": "stdout",
     "output_type": "stream",
     "text": [
      "INFO:tensorflow:Scale of 0 disables regularizer.\n",
      "INFO:tensorflow:Restoring parameters from /home/ivan/facenet/models/20180402-114759/model-20180402-114759.ckpt-275\n"
     ]
    },
    {
     "name": "stderr",
     "output_type": "stream",
     "text": [
      "\n",
      "  0%|          | 0/19 [00:00<?, ?it/s]\u001b[A\n",
      "  5%|▌         | 1/19 [00:01<00:19,  1.07s/it]\u001b[A\n",
      " 11%|█         | 2/19 [00:01<00:14,  1.18it/s]\u001b[A\n",
      " 16%|█▌        | 3/19 [00:01<00:11,  1.41it/s]\u001b[A\n",
      " 21%|██        | 4/19 [00:02<00:09,  1.66it/s]\u001b[A\n",
      " 26%|██▋       | 5/19 [00:02<00:07,  1.91it/s]\u001b[A\n",
      " 32%|███▏      | 6/19 [00:02<00:06,  2.14it/s]\u001b[A\n",
      " 37%|███▋      | 7/19 [00:03<00:05,  2.32it/s]\u001b[A\n",
      " 42%|████▏     | 8/19 [00:03<00:04,  2.36it/s]\u001b[A\n",
      " 47%|████▋     | 9/19 [00:03<00:04,  2.41it/s]\u001b[A\n",
      " 53%|█████▎    | 10/19 [00:04<00:03,  2.51it/s]\u001b[A\n",
      " 58%|█████▊    | 11/19 [00:04<00:03,  2.57it/s]\u001b[A\n",
      " 63%|██████▎   | 12/19 [00:05<00:02,  2.49it/s]\u001b[A\n",
      " 68%|██████▊   | 13/19 [00:05<00:02,  2.46it/s]\u001b[A\n",
      " 74%|███████▎  | 14/19 [00:05<00:01,  2.51it/s]\u001b[A\n",
      " 79%|███████▉  | 15/19 [00:06<00:01,  2.56it/s]\u001b[A\n",
      " 84%|████████▍ | 16/19 [00:06<00:01,  2.62it/s]\u001b[A\n",
      " 89%|████████▉ | 17/19 [00:07<00:00,  2.69it/s]\u001b[A\n",
      " 95%|█████████▍| 18/19 [00:07<00:00,  2.71it/s]\u001b[A\n",
      "100%|██████████| 19/19 [00:07<00:00,  2.47it/s]\u001b[A\n",
      " 10%|█         | 1/10 [00:16<02:25, 16.21s/it]"
     ]
    },
    {
     "name": "stdout",
     "output_type": "stream",
     "text": [
      "INFO:tensorflow:Scale of 0 disables regularizer.\n",
      "INFO:tensorflow:Restoring parameters from /home/ivan/facenet/models/20180402-114759/model-20180402-114759.ckpt-275\n"
     ]
    },
    {
     "name": "stderr",
     "output_type": "stream",
     "text": [
      "\n",
      "  0%|          | 0/19 [00:00<?, ?it/s]\u001b[A\n",
      "  5%|▌         | 1/19 [00:00<00:17,  1.05it/s]\u001b[A\n",
      " 11%|█         | 2/19 [00:01<00:13,  1.29it/s]\u001b[A\n",
      " 16%|█▌        | 3/19 [00:01<00:10,  1.55it/s]\u001b[A\n",
      " 21%|██        | 4/19 [00:02<00:08,  1.80it/s]\u001b[A\n",
      " 26%|██▋       | 5/19 [00:02<00:06,  2.02it/s]\u001b[A\n",
      " 32%|███▏      | 6/19 [00:02<00:05,  2.24it/s]\u001b[A\n",
      " 37%|███▋      | 7/19 [00:03<00:04,  2.45it/s]\u001b[A\n",
      " 42%|████▏     | 8/19 [00:03<00:04,  2.60it/s]\u001b[A\n",
      " 47%|████▋     | 9/19 [00:03<00:03,  2.69it/s]\u001b[A\n",
      " 53%|█████▎    | 10/19 [00:04<00:03,  2.73it/s]\u001b[A\n",
      " 58%|█████▊    | 11/19 [00:04<00:02,  2.76it/s]\u001b[A\n",
      " 63%|██████▎   | 12/19 [00:04<00:02,  2.75it/s]\u001b[A\n",
      " 68%|██████▊   | 13/19 [00:05<00:02,  2.58it/s]\u001b[A\n",
      " 74%|███████▎  | 14/19 [00:05<00:01,  2.69it/s]\u001b[A\n",
      " 79%|███████▉  | 15/19 [00:05<00:01,  2.72it/s]\u001b[A\n",
      " 84%|████████▍ | 16/19 [00:06<00:01,  2.71it/s]\u001b[A\n",
      " 89%|████████▉ | 17/19 [00:06<00:00,  2.70it/s]\u001b[A\n",
      " 95%|█████████▍| 18/19 [00:06<00:00,  2.75it/s]\u001b[A\n",
      "100%|██████████| 19/19 [00:07<00:00,  2.59it/s]\u001b[A\n",
      " 20%|██        | 2/10 [00:31<02:08, 16.02s/it]"
     ]
    },
    {
     "name": "stdout",
     "output_type": "stream",
     "text": [
      "INFO:tensorflow:Scale of 0 disables regularizer.\n",
      "INFO:tensorflow:Restoring parameters from /home/ivan/facenet/models/20180402-114759/model-20180402-114759.ckpt-275\n"
     ]
    },
    {
     "name": "stderr",
     "output_type": "stream",
     "text": [
      "\n",
      "  0%|          | 0/19 [00:00<?, ?it/s]\u001b[A\n",
      "  5%|▌         | 1/19 [00:01<00:18,  1.01s/it]\u001b[A\n",
      " 11%|█         | 2/19 [00:01<00:13,  1.23it/s]\u001b[A\n",
      " 16%|█▌        | 3/19 [00:01<00:10,  1.49it/s]\u001b[A\n",
      " 21%|██        | 4/19 [00:02<00:08,  1.74it/s]\u001b[A\n",
      " 26%|██▋       | 5/19 [00:02<00:07,  1.99it/s]\u001b[A\n",
      " 32%|███▏      | 6/19 [00:02<00:05,  2.21it/s]\u001b[A\n",
      " 37%|███▋      | 7/19 [00:03<00:05,  2.40it/s]\u001b[A\n",
      " 42%|████▏     | 8/19 [00:03<00:04,  2.51it/s]\u001b[A\n",
      " 47%|████▋     | 9/19 [00:03<00:03,  2.62it/s]\u001b[A\n",
      " 53%|█████▎    | 10/19 [00:04<00:03,  2.70it/s]\u001b[A\n",
      " 58%|█████▊    | 11/19 [00:04<00:03,  2.39it/s]\u001b[A\n",
      " 63%|██████▎   | 12/19 [00:04<00:02,  2.52it/s]\u001b[A\n",
      " 68%|██████▊   | 13/19 [00:05<00:02,  2.62it/s]\u001b[A\n",
      " 74%|███████▎  | 14/19 [00:05<00:01,  2.72it/s]\u001b[A\n",
      " 79%|███████▉  | 15/19 [00:05<00:01,  2.78it/s]\u001b[A\n",
      " 84%|████████▍ | 16/19 [00:06<00:01,  2.80it/s]\u001b[A\n",
      " 89%|████████▉ | 17/19 [00:06<00:00,  2.85it/s]\u001b[A\n",
      " 95%|█████████▍| 18/19 [00:07<00:00,  2.74it/s]\u001b[A\n",
      "100%|██████████| 19/19 [00:07<00:00,  2.56it/s]\u001b[A\n",
      " 30%|███       | 3/10 [00:48<01:52, 16.09s/it]"
     ]
    },
    {
     "name": "stdout",
     "output_type": "stream",
     "text": [
      "INFO:tensorflow:Scale of 0 disables regularizer.\n",
      "INFO:tensorflow:Restoring parameters from /home/ivan/facenet/models/20180402-114759/model-20180402-114759.ckpt-275\n"
     ]
    },
    {
     "name": "stderr",
     "output_type": "stream",
     "text": [
      "\n",
      "  0%|          | 0/19 [00:00<?, ?it/s]\u001b[A\n",
      "  5%|▌         | 1/19 [00:00<00:16,  1.08it/s]\u001b[A\n",
      " 11%|█         | 2/19 [00:01<00:12,  1.32it/s]\u001b[A\n",
      " 16%|█▌        | 3/19 [00:01<00:10,  1.59it/s]\u001b[A\n",
      " 21%|██        | 4/19 [00:01<00:08,  1.84it/s]\u001b[A\n",
      " 26%|██▋       | 5/19 [00:02<00:06,  2.06it/s]\u001b[A\n",
      " 32%|███▏      | 6/19 [00:02<00:05,  2.26it/s]\u001b[A\n",
      " 37%|███▋      | 7/19 [00:03<00:05,  2.40it/s]\u001b[A\n",
      " 42%|████▏     | 8/19 [00:03<00:04,  2.46it/s]\u001b[A\n",
      " 47%|████▋     | 9/19 [00:03<00:04,  2.50it/s]\u001b[A\n",
      " 53%|█████▎    | 10/19 [00:04<00:03,  2.61it/s]\u001b[A\n",
      " 58%|█████▊    | 11/19 [00:04<00:03,  2.59it/s]\u001b[A\n",
      " 63%|██████▎   | 12/19 [00:04<00:02,  2.60it/s]\u001b[A\n",
      " 68%|██████▊   | 13/19 [00:05<00:02,  2.56it/s]\u001b[A\n",
      " 74%|███████▎  | 14/19 [00:05<00:01,  2.65it/s]\u001b[A\n",
      " 79%|███████▉  | 15/19 [00:05<00:01,  2.76it/s]\u001b[A\n",
      " 84%|████████▍ | 16/19 [00:06<00:01,  2.77it/s]\u001b[A\n",
      " 89%|████████▉ | 17/19 [00:06<00:00,  2.82it/s]\u001b[A\n",
      " 95%|█████████▍| 18/19 [00:07<00:00,  2.88it/s]\u001b[A\n",
      "100%|██████████| 19/19 [00:07<00:00,  2.59it/s]\u001b[A\n",
      " 40%|████      | 4/10 [01:03<01:35, 15.97s/it]"
     ]
    },
    {
     "name": "stdout",
     "output_type": "stream",
     "text": [
      "INFO:tensorflow:Scale of 0 disables regularizer.\n",
      "INFO:tensorflow:Restoring parameters from /home/ivan/facenet/models/20180402-114759/model-20180402-114759.ckpt-275\n"
     ]
    },
    {
     "name": "stderr",
     "output_type": "stream",
     "text": [
      "\n",
      "  0%|          | 0/19 [00:00<?, ?it/s]\u001b[A\n",
      "  5%|▌         | 1/19 [00:00<00:16,  1.08it/s]\u001b[A\n",
      " 11%|█         | 2/19 [00:01<00:12,  1.32it/s]\u001b[A\n",
      " 16%|█▌        | 3/19 [00:01<00:10,  1.58it/s]\u001b[A\n",
      " 21%|██        | 4/19 [00:01<00:08,  1.84it/s]\u001b[A\n",
      " 26%|██▋       | 5/19 [00:02<00:06,  2.06it/s]\u001b[A\n",
      " 32%|███▏      | 6/19 [00:02<00:05,  2.27it/s]\u001b[A\n",
      " 37%|███▋      | 7/19 [00:02<00:04,  2.45it/s]\u001b[A\n",
      " 42%|████▏     | 8/19 [00:03<00:04,  2.60it/s]\u001b[A\n",
      " 47%|████▋     | 9/19 [00:03<00:03,  2.69it/s]\u001b[A\n",
      " 53%|█████▎    | 10/19 [00:04<00:03,  2.73it/s]\u001b[A\n",
      " 58%|█████▊    | 11/19 [00:04<00:02,  2.76it/s]\u001b[A\n",
      " 63%|██████▎   | 12/19 [00:04<00:02,  2.78it/s]\u001b[A\n",
      " 68%|██████▊   | 13/19 [00:05<00:02,  2.76it/s]\u001b[A\n",
      " 74%|███████▎  | 14/19 [00:05<00:01,  2.82it/s]\u001b[A\n",
      " 79%|███████▉  | 15/19 [00:05<00:01,  2.76it/s]\u001b[A\n",
      " 84%|████████▍ | 16/19 [00:06<00:01,  2.73it/s]\u001b[A\n",
      " 89%|████████▉ | 17/19 [00:06<00:00,  2.74it/s]\u001b[A\n",
      " 95%|█████████▍| 18/19 [00:06<00:00,  2.74it/s]\u001b[A\n",
      "100%|██████████| 19/19 [00:07<00:00,  2.61it/s]\u001b[A\n",
      " 50%|█████     | 5/10 [01:19<01:19, 15.98s/it]"
     ]
    },
    {
     "name": "stdout",
     "output_type": "stream",
     "text": [
      "INFO:tensorflow:Scale of 0 disables regularizer.\n",
      "INFO:tensorflow:Restoring parameters from /home/ivan/facenet/models/20180402-114759/model-20180402-114759.ckpt-275\n"
     ]
    },
    {
     "name": "stderr",
     "output_type": "stream",
     "text": [
      "\n",
      "  0%|          | 0/19 [00:00<?, ?it/s]\u001b[A\n",
      "  5%|▌         | 1/19 [00:01<00:19,  1.07s/it]\u001b[A\n",
      " 11%|█         | 2/19 [00:01<00:14,  1.17it/s]\u001b[A\n",
      " 16%|█▌        | 3/19 [00:01<00:11,  1.44it/s]\u001b[A\n",
      " 21%|██        | 4/19 [00:02<00:08,  1.71it/s]\u001b[A\n",
      " 26%|██▋       | 5/19 [00:02<00:07,  1.94it/s]\u001b[A\n",
      " 32%|███▏      | 6/19 [00:02<00:06,  2.16it/s]\u001b[A\n",
      " 37%|███▋      | 7/19 [00:03<00:05,  2.34it/s]\u001b[A\n",
      " 42%|████▏     | 8/19 [00:03<00:04,  2.54it/s]\u001b[A\n",
      " 47%|████▋     | 9/19 [00:03<00:03,  2.68it/s]\u001b[A\n",
      " 53%|█████▎    | 10/19 [00:04<00:03,  2.76it/s]\u001b[A\n",
      " 58%|█████▊    | 11/19 [00:04<00:02,  2.82it/s]\u001b[A\n",
      " 63%|██████▎   | 12/19 [00:04<00:02,  2.83it/s]\u001b[A\n",
      " 68%|██████▊   | 13/19 [00:05<00:02,  2.92it/s]\u001b[A\n",
      " 74%|███████▎  | 14/19 [00:05<00:01,  2.97it/s]\u001b[A\n",
      " 79%|███████▉  | 15/19 [00:05<00:01,  3.04it/s]\u001b[A\n",
      " 84%|████████▍ | 16/19 [00:06<00:00,  3.08it/s]\u001b[A\n",
      " 89%|████████▉ | 17/19 [00:06<00:00,  3.06it/s]\u001b[A\n",
      " 95%|█████████▍| 18/19 [00:06<00:00,  3.05it/s]\u001b[A\n",
      "100%|██████████| 19/19 [00:07<00:00,  2.70it/s]\u001b[A\n",
      " 60%|██████    | 6/10 [01:35<01:03, 15.86s/it]"
     ]
    },
    {
     "name": "stdout",
     "output_type": "stream",
     "text": [
      "INFO:tensorflow:Scale of 0 disables regularizer.\n",
      "INFO:tensorflow:Restoring parameters from /home/ivan/facenet/models/20180402-114759/model-20180402-114759.ckpt-275\n"
     ]
    },
    {
     "name": "stderr",
     "output_type": "stream",
     "text": [
      "\n",
      "  0%|          | 0/19 [00:00<?, ?it/s]\u001b[A\n",
      "  5%|▌         | 1/19 [00:01<00:19,  1.10s/it]\u001b[A\n",
      " 11%|█         | 2/19 [00:01<00:15,  1.12it/s]\u001b[A\n",
      " 16%|█▌        | 3/19 [00:01<00:11,  1.37it/s]\u001b[A\n",
      " 21%|██        | 4/19 [00:02<00:09,  1.60it/s]\u001b[A\n",
      " 26%|██▋       | 5/19 [00:02<00:07,  1.84it/s]\u001b[A\n",
      " 32%|███▏      | 6/19 [00:03<00:06,  1.96it/s]\u001b[A\n",
      " 37%|███▋      | 7/19 [00:03<00:05,  2.13it/s]\u001b[A\n",
      " 42%|████▏     | 8/19 [00:03<00:04,  2.27it/s]\u001b[A\n",
      " 47%|████▋     | 9/19 [00:04<00:04,  2.37it/s]\u001b[A\n",
      " 53%|█████▎    | 10/19 [00:04<00:03,  2.42it/s]\u001b[A\n",
      " 58%|█████▊    | 11/19 [00:04<00:03,  2.48it/s]\u001b[A\n",
      " 63%|██████▎   | 12/19 [00:05<00:02,  2.47it/s]\u001b[A\n",
      " 68%|██████▊   | 13/19 [00:05<00:02,  2.39it/s]\u001b[A\n",
      " 74%|███████▎  | 14/19 [00:06<00:02,  2.42it/s]\u001b[A\n",
      " 79%|███████▉  | 15/19 [00:06<00:01,  2.35it/s]\u001b[A\n",
      " 84%|████████▍ | 16/19 [00:07<00:01,  2.43it/s]\u001b[A\n",
      " 89%|████████▉ | 17/19 [00:07<00:00,  2.52it/s]\u001b[A\n",
      " 95%|█████████▍| 18/19 [00:07<00:00,  2.60it/s]\u001b[A\n",
      "100%|██████████| 19/19 [00:08<00:00,  2.34it/s]\u001b[A\n",
      " 70%|███████   | 7/10 [01:52<00:48, 16.25s/it]"
     ]
    },
    {
     "name": "stdout",
     "output_type": "stream",
     "text": [
      "INFO:tensorflow:Scale of 0 disables regularizer.\n",
      "INFO:tensorflow:Restoring parameters from /home/ivan/facenet/models/20180402-114759/model-20180402-114759.ckpt-275\n"
     ]
    },
    {
     "name": "stderr",
     "output_type": "stream",
     "text": [
      "\n",
      "  0%|          | 0/19 [00:00<?, ?it/s]\u001b[A\n",
      "  5%|▌         | 1/19 [00:01<00:19,  1.07s/it]\u001b[A\n",
      " 11%|█         | 2/19 [00:01<00:14,  1.16it/s]\u001b[A\n",
      " 16%|█▌        | 3/19 [00:01<00:11,  1.38it/s]\u001b[A\n",
      " 21%|██        | 4/19 [00:02<00:09,  1.62it/s]\u001b[A\n",
      " 26%|██▋       | 5/19 [00:02<00:07,  1.82it/s]\u001b[A\n",
      " 32%|███▏      | 6/19 [00:02<00:06,  2.03it/s]\u001b[A\n",
      " 37%|███▋      | 7/19 [00:03<00:05,  2.21it/s]\u001b[A\n",
      " 42%|████▏     | 8/19 [00:03<00:04,  2.32it/s]\u001b[A\n",
      " 47%|████▋     | 9/19 [00:04<00:04,  2.44it/s]\u001b[A\n",
      " 53%|█████▎    | 10/19 [00:04<00:03,  2.47it/s]\u001b[A\n",
      " 58%|█████▊    | 11/19 [00:04<00:03,  2.55it/s]\u001b[A\n",
      " 63%|██████▎   | 12/19 [00:05<00:02,  2.57it/s]\u001b[A\n",
      " 68%|██████▊   | 13/19 [00:05<00:02,  2.67it/s]\u001b[A\n",
      " 74%|███████▎  | 14/19 [00:05<00:01,  2.73it/s]\u001b[A\n",
      " 79%|███████▉  | 15/19 [00:06<00:01,  2.63it/s]\u001b[A\n",
      " 84%|████████▍ | 16/19 [00:06<00:01,  2.25it/s]\u001b[A\n",
      " 89%|████████▉ | 17/19 [00:07<00:00,  2.26it/s]\u001b[A\n",
      " 95%|█████████▍| 18/19 [00:07<00:00,  2.31it/s]\u001b[A\n",
      "100%|██████████| 19/19 [00:08<00:00,  2.32it/s]\u001b[A\n",
      " 80%|████████  | 8/10 [02:09<00:33, 16.62s/it]"
     ]
    },
    {
     "name": "stdout",
     "output_type": "stream",
     "text": [
      "INFO:tensorflow:Scale of 0 disables regularizer.\n",
      "INFO:tensorflow:Restoring parameters from /home/ivan/facenet/models/20180402-114759/model-20180402-114759.ckpt-275\n"
     ]
    },
    {
     "name": "stderr",
     "output_type": "stream",
     "text": [
      "\n",
      "  0%|          | 0/19 [00:00<?, ?it/s]\u001b[A\n",
      "  5%|▌         | 1/19 [00:01<00:22,  1.25s/it]\u001b[A\n",
      " 11%|█         | 2/19 [00:01<00:17,  1.00s/it]\u001b[A\n",
      " 16%|█▌        | 3/19 [00:02<00:13,  1.21it/s]\u001b[A\n",
      " 21%|██        | 4/19 [00:02<00:10,  1.43it/s]\u001b[A\n",
      " 26%|██▋       | 5/19 [00:02<00:08,  1.63it/s]\u001b[A\n",
      " 32%|███▏      | 6/19 [00:03<00:06,  1.87it/s]\u001b[A\n",
      " 37%|███▋      | 7/19 [00:03<00:05,  2.04it/s]\u001b[A\n",
      " 42%|████▏     | 8/19 [00:04<00:05,  2.15it/s]\u001b[A\n",
      " 47%|████▋     | 9/19 [00:04<00:04,  2.08it/s]\u001b[A\n",
      " 53%|█████▎    | 10/19 [00:04<00:04,  2.22it/s]\u001b[A\n",
      " 58%|█████▊    | 11/19 [00:05<00:03,  2.33it/s]\u001b[A\n",
      " 63%|██████▎   | 12/19 [00:05<00:02,  2.45it/s]\u001b[A\n",
      " 68%|██████▊   | 13/19 [00:06<00:02,  2.53it/s]\u001b[A\n",
      " 74%|███████▎  | 14/19 [00:06<00:01,  2.56it/s]\u001b[A\n",
      " 79%|███████▉  | 15/19 [00:06<00:01,  2.57it/s]\u001b[A\n",
      " 84%|████████▍ | 16/19 [00:07<00:01,  2.57it/s]\u001b[A\n",
      " 89%|████████▉ | 17/19 [00:07<00:00,  2.62it/s]\u001b[A\n",
      " 95%|█████████▍| 18/19 [00:07<00:00,  2.71it/s]\u001b[A\n",
      "100%|██████████| 19/19 [00:08<00:00,  2.30it/s]\u001b[A\n",
      " 90%|█████████ | 9/10 [02:26<00:16, 16.74s/it]"
     ]
    },
    {
     "name": "stdout",
     "output_type": "stream",
     "text": [
      "INFO:tensorflow:Scale of 0 disables regularizer.\n",
      "INFO:tensorflow:Restoring parameters from /home/ivan/facenet/models/20180402-114759/model-20180402-114759.ckpt-275\n"
     ]
    },
    {
     "name": "stderr",
     "output_type": "stream",
     "text": [
      "\n",
      "  0%|          | 0/19 [00:00<?, ?it/s]\u001b[A\n",
      "  5%|▌         | 1/19 [00:01<00:26,  1.45s/it]\u001b[A\n",
      " 11%|█         | 2/19 [00:01<00:19,  1.16s/it]\u001b[A\n",
      " 16%|█▌        | 3/19 [00:02<00:15,  1.06it/s]\u001b[A\n",
      " 21%|██        | 4/19 [00:02<00:11,  1.27it/s]\u001b[A\n",
      " 26%|██▋       | 5/19 [00:03<00:09,  1.48it/s]\u001b[A\n",
      " 32%|███▏      | 6/19 [00:03<00:07,  1.66it/s]\u001b[A\n",
      " 37%|███▋      | 7/19 [00:04<00:06,  1.81it/s]\u001b[A\n",
      " 42%|████▏     | 8/19 [00:04<00:05,  1.95it/s]\u001b[A\n",
      " 47%|████▋     | 9/19 [00:04<00:04,  2.01it/s]\u001b[A\n",
      " 53%|█████▎    | 10/19 [00:05<00:04,  2.15it/s]\u001b[A\n",
      " 58%|█████▊    | 11/19 [00:05<00:03,  2.25it/s]\u001b[A\n",
      " 63%|██████▎   | 12/19 [00:06<00:03,  2.32it/s]\u001b[A\n",
      " 68%|██████▊   | 13/19 [00:06<00:02,  2.42it/s]\u001b[A\n",
      " 74%|███████▎  | 14/19 [00:06<00:01,  2.52it/s]\u001b[A\n",
      " 79%|███████▉  | 15/19 [00:07<00:01,  2.61it/s]\u001b[A\n",
      " 84%|████████▍ | 16/19 [00:07<00:01,  2.58it/s]\u001b[A\n",
      " 89%|████████▉ | 17/19 [00:07<00:00,  2.61it/s]\u001b[A\n",
      " 95%|█████████▍| 18/19 [00:08<00:00,  2.57it/s]\u001b[A\n",
      "100%|██████████| 19/19 [00:08<00:00,  2.15it/s]\u001b[A\n",
      "100%|██████████| 10/10 [02:45<00:00, 16.56s/it]\n"
     ]
    }
   ],
   "source": [
    "vggface_recall_with_adversarial  = repeat_recall_at_1(\"vggface2\", include_adversarial=True)"
   ]
  },
  {
   "cell_type": "code",
   "execution_count": 17,
   "metadata": {},
   "outputs": [
    {
     "name": "stderr",
     "output_type": "stream",
     "text": [
      "\r",
      "  0%|          | 0/10 [00:00<?, ?it/s]"
     ]
    },
    {
     "name": "stdout",
     "output_type": "stream",
     "text": [
      "INFO:tensorflow:Scale of 0 disables regularizer.\n",
      "INFO:tensorflow:Restoring parameters from /home/ivan/facenet/models/20180408-102900/model-20180408-102900.ckpt-90\n"
     ]
    },
    {
     "name": "stderr",
     "output_type": "stream",
     "text": [
      "\n",
      "  0%|          | 0/19 [00:00<?, ?it/s]\u001b[A\n",
      "  5%|▌         | 1/19 [00:01<00:25,  1.41s/it]\u001b[A\n",
      " 11%|█         | 2/19 [00:01<00:18,  1.10s/it]\u001b[A\n",
      " 16%|█▌        | 3/19 [00:02<00:14,  1.12it/s]\u001b[A\n",
      " 21%|██        | 4/19 [00:02<00:11,  1.35it/s]\u001b[A\n",
      " 26%|██▋       | 5/19 [00:02<00:08,  1.58it/s]\u001b[A\n",
      " 32%|███▏      | 6/19 [00:03<00:07,  1.70it/s]\u001b[A\n",
      " 37%|███▋      | 7/19 [00:03<00:06,  1.88it/s]\u001b[A\n",
      " 42%|████▏     | 8/19 [00:04<00:05,  2.09it/s]\u001b[A\n",
      " 47%|████▋     | 9/19 [00:04<00:04,  2.27it/s]\u001b[A\n",
      " 53%|█████▎    | 10/19 [00:04<00:03,  2.39it/s]\u001b[A\n",
      " 58%|█████▊    | 11/19 [00:05<00:03,  2.51it/s]\u001b[A\n",
      " 63%|██████▎   | 12/19 [00:05<00:02,  2.59it/s]\u001b[A\n",
      " 68%|██████▊   | 13/19 [00:05<00:02,  2.70it/s]\u001b[A\n",
      " 74%|███████▎  | 14/19 [00:06<00:01,  2.80it/s]\u001b[A\n",
      " 79%|███████▉  | 15/19 [00:06<00:01,  2.83it/s]\u001b[A\n",
      " 84%|████████▍ | 16/19 [00:06<00:01,  2.88it/s]\u001b[A\n",
      " 89%|████████▉ | 17/19 [00:07<00:00,  2.90it/s]\u001b[A\n",
      " 95%|█████████▍| 18/19 [00:07<00:00,  2.82it/s]\u001b[A\n",
      "100%|██████████| 19/19 [00:08<00:00,  2.36it/s]\u001b[A\n",
      " 10%|█         | 1/10 [00:19<02:51, 19.01s/it]"
     ]
    },
    {
     "name": "stdout",
     "output_type": "stream",
     "text": [
      "INFO:tensorflow:Scale of 0 disables regularizer.\n",
      "INFO:tensorflow:Restoring parameters from /home/ivan/facenet/models/20180408-102900/model-20180408-102900.ckpt-90\n"
     ]
    },
    {
     "name": "stderr",
     "output_type": "stream",
     "text": [
      "\n",
      "  0%|          | 0/19 [00:00<?, ?it/s]\u001b[A\n",
      "  5%|▌         | 1/19 [00:01<00:19,  1.11s/it]\u001b[A\n",
      " 11%|█         | 2/19 [00:01<00:15,  1.12it/s]\u001b[A\n",
      " 16%|█▌        | 3/19 [00:01<00:11,  1.37it/s]\u001b[A\n",
      " 21%|██        | 4/19 [00:02<00:09,  1.63it/s]\u001b[A\n",
      " 26%|██▋       | 5/19 [00:02<00:07,  1.88it/s]\u001b[A\n",
      " 32%|███▏      | 6/19 [00:02<00:06,  2.10it/s]\u001b[A\n",
      " 37%|███▋      | 7/19 [00:03<00:05,  2.26it/s]\u001b[A\n",
      " 42%|████▏     | 8/19 [00:03<00:04,  2.43it/s]\u001b[A\n",
      " 47%|████▋     | 9/19 [00:03<00:03,  2.56it/s]\u001b[A\n",
      " 53%|█████▎    | 10/19 [00:04<00:03,  2.66it/s]\u001b[A\n",
      " 58%|█████▊    | 11/19 [00:04<00:03,  2.62it/s]\u001b[A\n",
      " 63%|██████▎   | 12/19 [00:05<00:02,  2.59it/s]\u001b[A\n",
      " 68%|██████▊   | 13/19 [00:05<00:02,  2.65it/s]\u001b[A\n",
      " 74%|███████▎  | 14/19 [00:05<00:01,  2.59it/s]\u001b[A\n",
      " 79%|███████▉  | 15/19 [00:06<00:01,  2.44it/s]\u001b[A\n",
      " 84%|████████▍ | 16/19 [00:06<00:01,  2.58it/s]\u001b[A\n",
      " 89%|████████▉ | 17/19 [00:06<00:00,  2.69it/s]\u001b[A\n",
      " 95%|█████████▍| 18/19 [00:07<00:00,  2.79it/s]\u001b[A\n",
      "100%|██████████| 19/19 [00:07<00:00,  2.49it/s]\u001b[A\n",
      " 20%|██        | 2/10 [00:36<02:28, 18.62s/it]"
     ]
    },
    {
     "name": "stdout",
     "output_type": "stream",
     "text": [
      "INFO:tensorflow:Scale of 0 disables regularizer.\n",
      "INFO:tensorflow:Restoring parameters from /home/ivan/facenet/models/20180408-102900/model-20180408-102900.ckpt-90\n"
     ]
    },
    {
     "name": "stderr",
     "output_type": "stream",
     "text": [
      "\n",
      "  0%|          | 0/19 [00:00<?, ?it/s]\u001b[A\n",
      "  5%|▌         | 1/19 [00:01<00:21,  1.19s/it]\u001b[A\n",
      " 11%|█         | 2/19 [00:01<00:15,  1.07it/s]\u001b[A\n",
      " 16%|█▌        | 3/19 [00:01<00:12,  1.31it/s]\u001b[A\n",
      " 21%|██        | 4/19 [00:02<00:09,  1.51it/s]\u001b[A\n",
      " 26%|██▋       | 5/19 [00:02<00:07,  1.75it/s]\u001b[A\n",
      " 32%|███▏      | 6/19 [00:03<00:06,  1.98it/s]\u001b[A\n",
      " 37%|███▋      | 7/19 [00:03<00:05,  2.16it/s]\u001b[A\n",
      " 42%|████▏     | 8/19 [00:03<00:04,  2.35it/s]\u001b[A\n",
      " 47%|████▋     | 9/19 [00:04<00:04,  2.49it/s]\u001b[A\n",
      " 53%|█████▎    | 10/19 [00:04<00:03,  2.53it/s]\u001b[A\n",
      " 58%|█████▊    | 11/19 [00:04<00:03,  2.63it/s]\u001b[A\n",
      " 63%|██████▎   | 12/19 [00:05<00:02,  2.66it/s]\u001b[A\n",
      " 68%|██████▊   | 13/19 [00:05<00:02,  2.68it/s]\u001b[A\n",
      " 74%|███████▎  | 14/19 [00:05<00:01,  2.71it/s]\u001b[A\n",
      " 79%|███████▉  | 15/19 [00:06<00:01,  2.78it/s]\u001b[A\n",
      " 84%|████████▍ | 16/19 [00:06<00:01,  2.78it/s]\u001b[A\n",
      " 89%|████████▉ | 17/19 [00:06<00:00,  2.71it/s]\u001b[A\n",
      " 95%|█████████▍| 18/19 [00:07<00:00,  2.74it/s]\u001b[A\n",
      "100%|██████████| 19/19 [00:07<00:00,  2.47it/s]\u001b[A\n",
      " 30%|███       | 3/10 [00:54<02:07, 18.23s/it]"
     ]
    },
    {
     "name": "stdout",
     "output_type": "stream",
     "text": [
      "INFO:tensorflow:Scale of 0 disables regularizer.\n",
      "INFO:tensorflow:Restoring parameters from /home/ivan/facenet/models/20180408-102900/model-20180408-102900.ckpt-90\n"
     ]
    },
    {
     "name": "stderr",
     "output_type": "stream",
     "text": [
      "\n",
      "  0%|          | 0/19 [00:00<?, ?it/s]\u001b[A\n",
      "  5%|▌         | 1/19 [00:01<00:18,  1.02s/it]\u001b[A\n",
      " 11%|█         | 2/19 [00:01<00:13,  1.22it/s]\u001b[A\n",
      " 16%|█▌        | 3/19 [00:01<00:10,  1.47it/s]\u001b[A\n",
      " 21%|██        | 4/19 [00:02<00:09,  1.64it/s]\u001b[A\n",
      " 26%|██▋       | 5/19 [00:02<00:07,  1.82it/s]\u001b[A\n",
      " 32%|███▏      | 6/19 [00:02<00:06,  2.00it/s]\u001b[A\n",
      " 37%|███▋      | 7/19 [00:03<00:05,  2.17it/s]\u001b[A\n",
      " 42%|████▏     | 8/19 [00:03<00:04,  2.31it/s]\u001b[A\n",
      " 47%|████▋     | 9/19 [00:04<00:04,  2.50it/s]\u001b[A\n",
      " 53%|█████▎    | 10/19 [00:04<00:03,  2.65it/s]\u001b[A\n",
      " 58%|█████▊    | 11/19 [00:04<00:02,  2.68it/s]\u001b[A\n",
      " 63%|██████▎   | 12/19 [00:05<00:02,  2.75it/s]\u001b[A\n",
      " 68%|██████▊   | 13/19 [00:05<00:02,  2.75it/s]\u001b[A\n",
      " 74%|███████▎  | 14/19 [00:05<00:01,  2.73it/s]\u001b[A\n",
      " 79%|███████▉  | 15/19 [00:06<00:01,  2.78it/s]\u001b[A\n",
      " 84%|████████▍ | 16/19 [00:06<00:01,  2.76it/s]\u001b[A\n",
      " 89%|████████▉ | 17/19 [00:06<00:00,  2.69it/s]\u001b[A\n",
      " 95%|█████████▍| 18/19 [00:07<00:00,  2.71it/s]\u001b[A\n",
      "100%|██████████| 19/19 [00:07<00:00,  2.50it/s]\u001b[A\n",
      " 40%|████      | 4/10 [01:11<01:47, 17.98s/it]"
     ]
    },
    {
     "name": "stdout",
     "output_type": "stream",
     "text": [
      "INFO:tensorflow:Scale of 0 disables regularizer.\n",
      "INFO:tensorflow:Restoring parameters from /home/ivan/facenet/models/20180408-102900/model-20180408-102900.ckpt-90\n"
     ]
    },
    {
     "name": "stderr",
     "output_type": "stream",
     "text": [
      "\n",
      "  0%|          | 0/19 [00:00<?, ?it/s]\u001b[A\n",
      "  5%|▌         | 1/19 [00:01<00:19,  1.10s/it]\u001b[A\n",
      " 11%|█         | 2/19 [00:01<00:14,  1.15it/s]\u001b[A\n",
      " 16%|█▌        | 3/19 [00:01<00:11,  1.42it/s]\u001b[A\n",
      " 21%|██        | 4/19 [00:02<00:08,  1.70it/s]\u001b[A\n",
      " 26%|██▋       | 5/19 [00:02<00:07,  1.96it/s]\u001b[A\n",
      " 32%|███▏      | 6/19 [00:02<00:05,  2.21it/s]\u001b[A\n",
      " 37%|███▋      | 7/19 [00:03<00:04,  2.42it/s]\u001b[A\n",
      " 42%|████▏     | 8/19 [00:03<00:04,  2.59it/s]\u001b[A\n",
      " 47%|████▋     | 9/19 [00:03<00:03,  2.63it/s]\u001b[A\n",
      " 53%|█████▎    | 10/19 [00:04<00:03,  2.75it/s]\u001b[A\n",
      " 58%|█████▊    | 11/19 [00:04<00:02,  2.84it/s]\u001b[A\n",
      " 63%|██████▎   | 12/19 [00:04<00:02,  2.91it/s]\u001b[A\n",
      " 68%|██████▊   | 13/19 [00:05<00:02,  2.98it/s]\u001b[A\n",
      " 74%|███████▎  | 14/19 [00:05<00:01,  2.93it/s]\u001b[A\n",
      " 79%|███████▉  | 15/19 [00:05<00:01,  2.92it/s]\u001b[A\n",
      " 84%|████████▍ | 16/19 [00:06<00:01,  2.91it/s]\u001b[A\n",
      " 89%|████████▉ | 17/19 [00:06<00:00,  2.80it/s]\u001b[A\n",
      " 95%|█████████▍| 18/19 [00:06<00:00,  2.73it/s]\u001b[A\n",
      "100%|██████████| 19/19 [00:07<00:00,  2.63it/s]\u001b[A\n",
      " 50%|█████     | 5/10 [01:28<01:29, 17.82s/it]"
     ]
    },
    {
     "name": "stdout",
     "output_type": "stream",
     "text": [
      "INFO:tensorflow:Scale of 0 disables regularizer.\n",
      "INFO:tensorflow:Restoring parameters from /home/ivan/facenet/models/20180408-102900/model-20180408-102900.ckpt-90\n"
     ]
    },
    {
     "name": "stderr",
     "output_type": "stream",
     "text": [
      "\n",
      "  0%|          | 0/19 [00:00<?, ?it/s]\u001b[A\n",
      "  5%|▌         | 1/19 [00:01<00:19,  1.10s/it]\u001b[A\n",
      " 11%|█         | 2/19 [00:01<00:15,  1.13it/s]\u001b[A\n",
      " 16%|█▌        | 3/19 [00:01<00:11,  1.37it/s]\u001b[A\n",
      " 21%|██        | 4/19 [00:02<00:09,  1.57it/s]\u001b[A\n",
      " 26%|██▋       | 5/19 [00:02<00:07,  1.78it/s]\u001b[A\n",
      " 32%|███▏      | 6/19 [00:03<00:06,  1.94it/s]\u001b[A\n",
      " 37%|███▋      | 7/19 [00:03<00:05,  2.07it/s]\u001b[A\n",
      " 42%|████▏     | 8/19 [00:03<00:04,  2.20it/s]\u001b[A\n",
      " 47%|████▋     | 9/19 [00:04<00:04,  2.29it/s]\u001b[A\n",
      " 53%|█████▎    | 10/19 [00:04<00:03,  2.30it/s]\u001b[A\n",
      " 58%|█████▊    | 11/19 [00:05<00:03,  2.38it/s]\u001b[A\n",
      " 63%|██████▎   | 12/19 [00:05<00:02,  2.48it/s]\u001b[A\n",
      " 68%|██████▊   | 13/19 [00:05<00:02,  2.50it/s]\u001b[A\n",
      " 74%|███████▎  | 14/19 [00:06<00:02,  2.47it/s]\u001b[A\n",
      " 79%|███████▉  | 15/19 [00:06<00:01,  2.52it/s]\u001b[A\n",
      " 84%|████████▍ | 16/19 [00:07<00:01,  2.48it/s]\u001b[A\n",
      " 89%|████████▉ | 17/19 [00:07<00:00,  2.43it/s]\u001b[A\n",
      " 95%|█████████▍| 18/19 [00:07<00:00,  2.43it/s]\u001b[A\n",
      "100%|██████████| 19/19 [00:08<00:00,  2.29it/s]\u001b[A\n",
      " 60%|██████    | 6/10 [01:47<01:11, 17.95s/it]"
     ]
    },
    {
     "name": "stdout",
     "output_type": "stream",
     "text": [
      "INFO:tensorflow:Scale of 0 disables regularizer.\n",
      "INFO:tensorflow:Restoring parameters from /home/ivan/facenet/models/20180408-102900/model-20180408-102900.ckpt-90\n"
     ]
    },
    {
     "name": "stderr",
     "output_type": "stream",
     "text": [
      "\n",
      "  0%|          | 0/19 [00:00<?, ?it/s]\u001b[A\n",
      "  5%|▌         | 1/19 [00:01<00:19,  1.08s/it]\u001b[A\n",
      " 11%|█         | 2/19 [00:01<00:14,  1.16it/s]\u001b[A\n",
      " 16%|█▌        | 3/19 [00:01<00:11,  1.41it/s]\u001b[A\n",
      " 21%|██        | 4/19 [00:02<00:09,  1.66it/s]\u001b[A\n",
      " 26%|██▋       | 5/19 [00:02<00:07,  1.90it/s]\u001b[A\n",
      " 32%|███▏      | 6/19 [00:02<00:06,  2.15it/s]\u001b[A\n",
      " 37%|███▋      | 7/19 [00:03<00:05,  2.28it/s]\u001b[A\n",
      " 42%|████▏     | 8/19 [00:03<00:04,  2.37it/s]\u001b[A\n",
      " 47%|████▋     | 9/19 [00:03<00:04,  2.39it/s]\u001b[A\n",
      " 53%|█████▎    | 10/19 [00:04<00:03,  2.48it/s]\u001b[A\n",
      " 58%|█████▊    | 11/19 [00:04<00:03,  2.50it/s]\u001b[A\n",
      " 63%|██████▎   | 12/19 [00:05<00:02,  2.53it/s]\u001b[A\n",
      " 68%|██████▊   | 13/19 [00:05<00:02,  2.69it/s]\u001b[A\n",
      " 74%|███████▎  | 14/19 [00:05<00:01,  2.76it/s]\u001b[A\n",
      " 79%|███████▉  | 15/19 [00:06<00:01,  2.78it/s]\u001b[A\n",
      " 84%|████████▍ | 16/19 [00:06<00:01,  2.79it/s]\u001b[A\n",
      " 89%|████████▉ | 17/19 [00:06<00:00,  2.82it/s]\u001b[A\n",
      " 95%|█████████▍| 18/19 [00:07<00:00,  2.81it/s]\u001b[A\n",
      "100%|██████████| 19/19 [00:07<00:00,  2.52it/s]\u001b[A\n",
      " 70%|███████   | 7/10 [02:05<00:54, 18.08s/it]"
     ]
    },
    {
     "name": "stdout",
     "output_type": "stream",
     "text": [
      "INFO:tensorflow:Scale of 0 disables regularizer.\n",
      "INFO:tensorflow:Restoring parameters from /home/ivan/facenet/models/20180408-102900/model-20180408-102900.ckpt-90\n"
     ]
    },
    {
     "name": "stderr",
     "output_type": "stream",
     "text": [
      "\n",
      "  0%|          | 0/19 [00:00<?, ?it/s]\u001b[A\n",
      "  5%|▌         | 1/19 [00:01<00:18,  1.02s/it]\u001b[A\n",
      " 11%|█         | 2/19 [00:01<00:14,  1.21it/s]\u001b[A\n",
      " 16%|█▌        | 3/19 [00:01<00:10,  1.46it/s]\u001b[A\n",
      " 21%|██        | 4/19 [00:02<00:09,  1.65it/s]\u001b[A\n",
      " 26%|██▋       | 5/19 [00:02<00:07,  1.85it/s]\u001b[A\n",
      " 32%|███▏      | 6/19 [00:02<00:06,  2.03it/s]\u001b[A\n",
      " 37%|███▋      | 7/19 [00:03<00:05,  2.18it/s]\u001b[A\n",
      " 42%|████▏     | 8/19 [00:03<00:04,  2.26it/s]\u001b[A\n",
      " 47%|████▋     | 9/19 [00:04<00:04,  2.30it/s]\u001b[A\n",
      " 53%|█████▎    | 10/19 [00:04<00:03,  2.44it/s]\u001b[A\n",
      " 58%|█████▊    | 11/19 [00:04<00:03,  2.47it/s]\u001b[A\n",
      " 63%|██████▎   | 12/19 [00:05<00:02,  2.46it/s]\u001b[A\n",
      " 68%|██████▊   | 13/19 [00:05<00:02,  2.50it/s]\u001b[A\n",
      " 74%|███████▎  | 14/19 [00:06<00:02,  2.50it/s]\u001b[A\n",
      " 79%|███████▉  | 15/19 [00:06<00:01,  2.50it/s]\u001b[A\n",
      " 84%|████████▍ | 16/19 [00:06<00:01,  2.49it/s]\u001b[A\n",
      " 89%|████████▉ | 17/19 [00:07<00:00,  2.49it/s]\u001b[A\n",
      " 95%|█████████▍| 18/19 [00:07<00:00,  2.59it/s]\u001b[A\n",
      "100%|██████████| 19/19 [00:08<00:00,  2.37it/s]\u001b[A\n",
      " 80%|████████  | 8/10 [02:23<00:35, 17.94s/it]"
     ]
    },
    {
     "name": "stdout",
     "output_type": "stream",
     "text": [
      "INFO:tensorflow:Scale of 0 disables regularizer.\n",
      "INFO:tensorflow:Restoring parameters from /home/ivan/facenet/models/20180408-102900/model-20180408-102900.ckpt-90\n"
     ]
    },
    {
     "name": "stderr",
     "output_type": "stream",
     "text": [
      "\n",
      "  0%|          | 0/19 [00:00<?, ?it/s]\u001b[A\n",
      "  5%|▌         | 1/19 [00:01<00:20,  1.16s/it]\u001b[A\n",
      " 11%|█         | 2/19 [00:01<00:15,  1.08it/s]\u001b[A\n",
      " 16%|█▌        | 3/19 [00:01<00:12,  1.31it/s]\u001b[A\n",
      " 21%|██        | 4/19 [00:02<00:09,  1.53it/s]\u001b[A\n",
      " 26%|██▋       | 5/19 [00:02<00:08,  1.73it/s]\u001b[A\n",
      " 32%|███▏      | 6/19 [00:03<00:06,  1.89it/s]\u001b[A\n",
      " 37%|███▋      | 7/19 [00:03<00:05,  2.08it/s]\u001b[A\n",
      " 42%|████▏     | 8/19 [00:03<00:04,  2.23it/s]\u001b[A\n",
      " 47%|████▋     | 9/19 [00:04<00:04,  2.28it/s]\u001b[A\n",
      " 53%|█████▎    | 10/19 [00:04<00:03,  2.40it/s]\u001b[A\n",
      " 58%|█████▊    | 11/19 [00:05<00:03,  2.47it/s]\u001b[A\n",
      " 63%|██████▎   | 12/19 [00:05<00:02,  2.51it/s]\u001b[A\n",
      " 68%|██████▊   | 13/19 [00:05<00:02,  2.55it/s]\u001b[A\n",
      " 74%|███████▎  | 14/19 [00:06<00:01,  2.64it/s]\u001b[A\n",
      " 79%|███████▉  | 15/19 [00:06<00:01,  2.68it/s]\u001b[A\n",
      " 84%|████████▍ | 16/19 [00:06<00:01,  2.68it/s]\u001b[A\n",
      " 89%|████████▉ | 17/19 [00:07<00:00,  2.74it/s]\u001b[A\n",
      " 95%|█████████▍| 18/19 [00:07<00:00,  2.70it/s]\u001b[A\n",
      "100%|██████████| 19/19 [00:07<00:00,  2.38it/s]\u001b[A\n",
      " 90%|█████████ | 9/10 [02:40<00:17, 17.77s/it]"
     ]
    },
    {
     "name": "stdout",
     "output_type": "stream",
     "text": [
      "INFO:tensorflow:Scale of 0 disables regularizer.\n",
      "INFO:tensorflow:Restoring parameters from /home/ivan/facenet/models/20180408-102900/model-20180408-102900.ckpt-90\n"
     ]
    },
    {
     "name": "stderr",
     "output_type": "stream",
     "text": [
      "\n",
      "  0%|          | 0/19 [00:00<?, ?it/s]\u001b[A\n",
      "  5%|▌         | 1/19 [00:01<00:19,  1.10s/it]\u001b[A\n",
      " 11%|█         | 2/19 [00:01<00:14,  1.14it/s]\u001b[A\n",
      " 16%|█▌        | 3/19 [00:01<00:11,  1.36it/s]\u001b[A\n",
      " 21%|██        | 4/19 [00:02<00:09,  1.60it/s]\u001b[A\n",
      " 26%|██▋       | 5/19 [00:02<00:07,  1.81it/s]\u001b[A\n",
      " 32%|███▏      | 6/19 [00:02<00:06,  2.05it/s]\u001b[A\n",
      " 37%|███▋      | 7/19 [00:03<00:05,  2.20it/s]\u001b[A\n",
      " 42%|████▏     | 8/19 [00:03<00:04,  2.26it/s]\u001b[A\n",
      " 47%|████▋     | 9/19 [00:04<00:04,  2.35it/s]\u001b[A\n",
      " 53%|█████▎    | 10/19 [00:04<00:03,  2.42it/s]\u001b[A\n",
      " 58%|█████▊    | 11/19 [00:04<00:03,  2.47it/s]\u001b[A\n",
      " 63%|██████▎   | 12/19 [00:05<00:02,  2.56it/s]\u001b[A\n",
      " 68%|██████▊   | 13/19 [00:05<00:02,  2.62it/s]\u001b[A\n",
      " 74%|███████▎  | 14/19 [00:05<00:01,  2.68it/s]\u001b[A\n",
      " 79%|███████▉  | 15/19 [00:06<00:01,  2.76it/s]\u001b[A\n",
      " 84%|████████▍ | 16/19 [00:06<00:01,  2.81it/s]\u001b[A\n",
      " 89%|████████▉ | 17/19 [00:07<00:00,  2.78it/s]\u001b[A\n",
      " 95%|█████████▍| 18/19 [00:07<00:00,  2.80it/s]\u001b[A\n",
      "100%|██████████| 19/19 [00:07<00:00,  2.46it/s]\u001b[A\n",
      "100%|██████████| 10/10 [02:57<00:00, 17.72s/it]\n"
     ]
    }
   ],
   "source": [
    "casiawebface_recall_with_adversarial = repeat_recall_at_1(\"casia-webface\", include_adversarial=True)"
   ]
  },
  {
   "cell_type": "code",
   "execution_count": 18,
   "metadata": {},
   "outputs": [
    {
     "name": "stdout",
     "output_type": "stream",
     "text": [
      "Casia WebFace network\n",
      "Average recall at k=1 0.533157894736842 with standard deviation over 10 runs 0.0385362368589168\n"
     ]
    }
   ],
   "source": [
    "print(\"Casia WebFace network\")\n",
    "print(\"Average recall at k=1\", np.mean(casiawebface_recall_with_adversarial), end=' ')\n",
    "print(\"with standard deviation over 10 runs\", np.std(casiawebface_recall_with_adversarial))"
   ]
  },
  {
   "cell_type": "code",
   "execution_count": 19,
   "metadata": {},
   "outputs": [
    {
     "name": "stdout",
     "output_type": "stream",
     "text": [
      "VGGFace network\n",
      "Average recall at k=1 0.8289473684210525 with standard deviation over 10 runs 0.023800882220200038\n"
     ]
    }
   ],
   "source": [
    "print(\"VGGFace network\")\n",
    "print(\"Average recall at k=1\", np.mean(vggface_recall_with_adversarial), end=' ')\n",
    "print(\"with standard deviation over 10 runs\", np.std(vggface_recall_with_adversarial))"
   ]
  },
  {
   "cell_type": "code",
   "execution_count": 20,
   "metadata": {},
   "outputs": [
    {
     "data": {
      "text/plain": [
       "{'boxes': [<matplotlib.lines.Line2D at 0x7fd698db2e80>,\n",
       "  <matplotlib.lines.Line2D at 0x7fd698db03c8>],\n",
       " 'caps': [<matplotlib.lines.Line2D at 0x7fd698daf6a0>,\n",
       "  <matplotlib.lines.Line2D at 0x7fd698daf9e8>,\n",
       "  <matplotlib.lines.Line2D at 0x7fd698db0dd8>,\n",
       "  <matplotlib.lines.Line2D at 0x7fd698227160>],\n",
       " 'fliers': [<matplotlib.lines.Line2D at 0x7fd698db00b8>,\n",
       "  <matplotlib.lines.Line2D at 0x7fd6982277f0>],\n",
       " 'means': [],\n",
       " 'medians': [<matplotlib.lines.Line2D at 0x7fd698dafd30>,\n",
       "  <matplotlib.lines.Line2D at 0x7fd6982274a8>],\n",
       " 'whiskers': [<matplotlib.lines.Line2D at 0x7fd698db2fd0>,\n",
       "  <matplotlib.lines.Line2D at 0x7fd698daf358>,\n",
       "  <matplotlib.lines.Line2D at 0x7fd698db0748>,\n",
       "  <matplotlib.lines.Line2D at 0x7fd698db0a90>]}"
      ]
     },
     "execution_count": 20,
     "metadata": {},
     "output_type": "execute_result"
    },
    {
     "data": {
      "image/png": "[encoded data removed]",
      "text/plain": [
       "<Figure size 432x288 with 1 Axes>"
      ]
     },
     "metadata": {
      "needs_background": "light"
     },
     "output_type": "display_data"
    }
   ],
   "source": [
    "fig1, ax1 = plt.subplots()\n",
    "ax1.boxplot([vggface_recall_with_adversarial, casiawebface_recall_with_adversarial])"
   ]
  },
  {
   "cell_type": "code",
   "execution_count": 21,
   "metadata": {},
   "outputs": [
    {
     "name": "stderr",
     "output_type": "stream",
     "text": [
      "\r",
      "  0%|          | 0/10 [00:00<?, ?it/s]"
     ]
    },
    {
     "name": "stdout",
     "output_type": "stream",
     "text": [
      "INFO:tensorflow:Scale of 0 disables regularizer.\n",
      "INFO:tensorflow:Restoring parameters from /home/ivan/facenet/models/20180402-114759/model-20180402-114759.ckpt-275\n"
     ]
    },
    {
     "name": "stderr",
     "output_type": "stream",
     "text": [
      "\n",
      "  0%|          | 0/19 [00:00<?, ?it/s]\u001b[A\n",
      "  5%|▌         | 1/19 [00:00<00:14,  1.22it/s]\u001b[A\n",
      " 16%|█▌        | 3/19 [00:01<00:09,  1.66it/s]\u001b[A\n",
      " 26%|██▋       | 5/19 [00:01<00:06,  2.21it/s]\u001b[A\n",
      " 37%|███▋      | 7/19 [00:01<00:04,  2.91it/s]\u001b[A\n",
      " 42%|████▏     | 8/19 [00:01<00:02,  3.68it/s]\u001b[A\n",
      " 53%|█████▎    | 10/19 [00:01<00:01,  4.57it/s]\u001b[A\n",
      " 58%|█████▊    | 11/19 [00:01<00:01,  5.42it/s]\u001b[A\n",
      " 63%|██████▎   | 12/19 [00:01<00:01,  6.18it/s]\u001b[A\n",
      " 74%|███████▎  | 14/19 [00:02<00:00,  7.19it/s]\u001b[A\n",
      " 84%|████████▍ | 16/19 [00:02<00:00,  8.05it/s]\u001b[A\n",
      "100%|██████████| 19/19 [00:02<00:00,  7.48it/s]\u001b[A\n",
      " 10%|█         | 1/10 [00:12<01:49, 12.13s/it]"
     ]
    },
    {
     "name": "stdout",
     "output_type": "stream",
     "text": [
      "INFO:tensorflow:Scale of 0 disables regularizer.\n",
      "INFO:tensorflow:Restoring parameters from /home/ivan/facenet/models/20180402-114759/model-20180402-114759.ckpt-275\n"
     ]
    },
    {
     "name": "stderr",
     "output_type": "stream",
     "text": [
      "\n",
      "  0%|          | 0/19 [00:00<?, ?it/s]\u001b[A\n",
      "  5%|▌         | 1/19 [00:00<00:16,  1.09it/s]\u001b[A\n",
      " 16%|█▌        | 3/19 [00:01<00:10,  1.50it/s]\u001b[A\n",
      " 21%|██        | 4/19 [00:01<00:07,  1.99it/s]\u001b[A\n",
      " 26%|██▋       | 5/19 [00:01<00:05,  2.59it/s]\u001b[A\n",
      " 32%|███▏      | 6/19 [00:01<00:03,  3.32it/s]\u001b[A\n",
      " 42%|████▏     | 8/19 [00:01<00:02,  4.23it/s]\u001b[A\n",
      " 47%|████▋     | 9/19 [00:01<00:01,  5.08it/s]\u001b[A\n",
      " 58%|█████▊    | 11/19 [00:01<00:01,  6.05it/s]\u001b[A\n",
      " 63%|██████▎   | 12/19 [00:01<00:01,  6.84it/s]\u001b[A\n",
      " 68%|██████▊   | 13/19 [00:02<00:00,  7.36it/s]\u001b[A\n",
      " 74%|███████▎  | 14/19 [00:02<00:00,  7.99it/s]\u001b[A\n",
      " 84%|████████▍ | 16/19 [00:02<00:00,  8.91it/s]\u001b[A\n",
      "100%|██████████| 19/19 [00:02<00:00,  7.25it/s]\u001b[A\n",
      " 20%|██        | 2/10 [00:23<01:35, 11.90s/it]"
     ]
    },
    {
     "name": "stdout",
     "output_type": "stream",
     "text": [
      "INFO:tensorflow:Scale of 0 disables regularizer.\n",
      "INFO:tensorflow:Restoring parameters from /home/ivan/facenet/models/20180402-114759/model-20180402-114759.ckpt-275\n"
     ]
    },
    {
     "name": "stderr",
     "output_type": "stream",
     "text": [
      "\n",
      "  0%|          | 0/19 [00:00<?, ?it/s]\u001b[A\n",
      "  5%|▌         | 1/19 [00:00<00:16,  1.10it/s]\u001b[A\n",
      " 16%|█▌        | 3/19 [00:01<00:10,  1.52it/s]\u001b[A\n",
      " 26%|██▋       | 5/19 [00:01<00:06,  2.04it/s]\u001b[A\n",
      " 32%|███▏      | 6/19 [00:01<00:04,  2.67it/s]\u001b[A\n",
      " 42%|████▏     | 8/19 [00:01<00:03,  3.47it/s]\u001b[A\n",
      " 53%|█████▎    | 10/19 [00:01<00:02,  4.39it/s]\u001b[A\n",
      " 63%|██████▎   | 12/19 [00:01<00:01,  5.27it/s]\u001b[A\n",
      " 74%|███████▎  | 14/19 [00:02<00:00,  6.30it/s]\u001b[A\n",
      " 84%|████████▍ | 16/19 [00:02<00:00,  7.16it/s]\u001b[A\n",
      "100%|██████████| 19/19 [00:02<00:00,  7.43it/s]\u001b[A\n",
      " 30%|███       | 3/10 [00:35<01:24, 12.02s/it]"
     ]
    },
    {
     "name": "stdout",
     "output_type": "stream",
     "text": [
      "INFO:tensorflow:Scale of 0 disables regularizer.\n",
      "INFO:tensorflow:Restoring parameters from /home/ivan/facenet/models/20180402-114759/model-20180402-114759.ckpt-275\n"
     ]
    },
    {
     "name": "stderr",
     "output_type": "stream",
     "text": [
      "\n",
      "  0%|          | 0/19 [00:00<?, ?it/s]\u001b[A\n",
      "  5%|▌         | 1/19 [00:00<00:16,  1.10it/s]\u001b[A\n",
      " 16%|█▌        | 3/19 [00:01<00:10,  1.50it/s]\u001b[A\n",
      " 26%|██▋       | 5/19 [00:01<00:06,  2.03it/s]\u001b[A\n",
      " 37%|███▋      | 7/19 [00:01<00:04,  2.71it/s]\u001b[A\n",
      " 47%|████▋     | 9/19 [00:01<00:02,  3.49it/s]\u001b[A\n",
      " 58%|█████▊    | 11/19 [00:01<00:01,  4.41it/s]\u001b[A\n",
      " 68%|██████▊   | 13/19 [00:01<00:01,  5.44it/s]\u001b[A\n",
      " 79%|███████▉  | 15/19 [00:02<00:00,  6.47it/s]\u001b[A\n",
      " 89%|████████▉ | 17/19 [00:02<00:00,  7.46it/s]\u001b[A\n",
      "100%|██████████| 19/19 [00:02<00:00,  7.67it/s]\u001b[A\n",
      " 40%|████      | 4/10 [00:48<01:12, 12.16s/it]"
     ]
    },
    {
     "name": "stdout",
     "output_type": "stream",
     "text": [
      "INFO:tensorflow:Scale of 0 disables regularizer.\n",
      "INFO:tensorflow:Restoring parameters from /home/ivan/facenet/models/20180402-114759/model-20180402-114759.ckpt-275\n"
     ]
    },
    {
     "name": "stderr",
     "output_type": "stream",
     "text": [
      "\n",
      "  0%|          | 0/19 [00:00<?, ?it/s]\u001b[A\n",
      "  5%|▌         | 1/19 [00:00<00:17,  1.02it/s]\u001b[A\n",
      " 11%|█         | 2/19 [00:01<00:12,  1.38it/s]\u001b[A\n",
      " 21%|██        | 4/19 [00:01<00:08,  1.87it/s]\u001b[A\n",
      " 32%|███▏      | 6/19 [00:01<00:05,  2.50it/s]\u001b[A\n",
      " 37%|███▋      | 7/19 [00:01<00:03,  3.20it/s]\u001b[A\n",
      " 47%|████▋     | 9/19 [00:01<00:02,  4.06it/s]\u001b[A\n",
      " 58%|█████▊    | 11/19 [00:01<00:01,  5.04it/s]\u001b[A\n",
      " 68%|██████▊   | 13/19 [00:02<00:00,  6.02it/s]\u001b[A\n",
      " 79%|███████▉  | 15/19 [00:02<00:00,  6.96it/s]\u001b[A\n",
      " 89%|████████▉ | 17/19 [00:02<00:00,  7.82it/s]\u001b[A\n",
      "100%|██████████| 19/19 [00:02<00:00,  7.13it/s]\u001b[A\n",
      " 50%|█████     | 5/10 [01:00<01:00, 12.13s/it]"
     ]
    },
    {
     "name": "stdout",
     "output_type": "stream",
     "text": [
      "INFO:tensorflow:Scale of 0 disables regularizer.\n",
      "INFO:tensorflow:Restoring parameters from /home/ivan/facenet/models/20180402-114759/model-20180402-114759.ckpt-275\n"
     ]
    },
    {
     "name": "stderr",
     "output_type": "stream",
     "text": [
      "\n",
      "  0%|          | 0/19 [00:00<?, ?it/s]\u001b[A\n",
      "  5%|▌         | 1/19 [00:00<00:17,  1.05it/s]\u001b[A\n",
      " 11%|█         | 2/19 [00:01<00:11,  1.43it/s]\u001b[A\n",
      " 16%|█▌        | 3/19 [00:01<00:08,  1.91it/s]\u001b[A\n",
      " 21%|██        | 4/19 [00:01<00:05,  2.50it/s]\u001b[A\n",
      " 32%|███▏      | 6/19 [00:01<00:03,  3.26it/s]\u001b[A\n",
      " 37%|███▋      | 7/19 [00:01<00:02,  4.07it/s]\u001b[A\n",
      " 42%|████▏     | 8/19 [00:01<00:02,  4.93it/s]\u001b[A\n",
      " 53%|█████▎    | 10/19 [00:01<00:01,  5.86it/s]\u001b[A\n",
      " 63%|██████▎   | 12/19 [00:02<00:01,  6.68it/s]\u001b[A\n",
      " 68%|██████▊   | 13/19 [00:02<00:00,  7.11it/s]\u001b[A\n",
      " 74%|███████▎  | 14/19 [00:02<00:00,  7.47it/s]\u001b[A\n",
      " 79%|███████▉  | 15/19 [00:02<00:00,  7.53it/s]\u001b[A\n",
      " 84%|████████▍ | 16/19 [00:02<00:00,  7.77it/s]\u001b[A\n",
      "100%|██████████| 19/19 [00:02<00:00,  6.68it/s]\u001b[A\n",
      " 60%|██████    | 6/10 [01:14<00:50, 12.59s/it]"
     ]
    },
    {
     "name": "stdout",
     "output_type": "stream",
     "text": [
      "INFO:tensorflow:Scale of 0 disables regularizer.\n",
      "INFO:tensorflow:Restoring parameters from /home/ivan/facenet/models/20180402-114759/model-20180402-114759.ckpt-275\n"
     ]
    },
    {
     "name": "stderr",
     "output_type": "stream",
     "text": [
      "\n",
      "  0%|          | 0/19 [00:00<?, ?it/s]\u001b[A\n",
      "  5%|▌         | 1/19 [00:00<00:14,  1.23it/s]\u001b[A\n",
      " 16%|█▌        | 3/19 [00:00<00:09,  1.68it/s]\u001b[A\n",
      " 26%|██▋       | 5/19 [00:01<00:06,  2.26it/s]\u001b[A\n",
      " 37%|███▋      | 7/19 [00:01<00:04,  2.94it/s]\u001b[A\n",
      " 42%|████▏     | 8/19 [00:01<00:02,  3.73it/s]\u001b[A\n",
      " 47%|████▋     | 9/19 [00:01<00:02,  4.58it/s]\u001b[A\n",
      " 53%|█████▎    | 10/19 [00:01<00:01,  5.34it/s]\u001b[A\n",
      " 58%|█████▊    | 11/19 [00:01<00:01,  6.04it/s]\u001b[A\n",
      " 63%|██████▎   | 12/19 [00:01<00:01,  6.66it/s]\u001b[A\n",
      " 68%|██████▊   | 13/19 [00:02<00:00,  7.25it/s]\u001b[A\n",
      " 74%|███████▎  | 14/19 [00:02<00:00,  7.74it/s]\u001b[A\n",
      " 79%|███████▉  | 15/19 [00:02<00:00,  8.15it/s]\u001b[A\n",
      " 84%|████████▍ | 16/19 [00:02<00:00,  8.01it/s]\u001b[A\n",
      " 89%|████████▉ | 17/19 [00:02<00:00,  8.02it/s]\u001b[A\n",
      " 95%|█████████▍| 18/19 [00:02<00:00,  8.24it/s]\u001b[A\n",
      "100%|██████████| 19/19 [00:02<00:00,  6.99it/s]\u001b[A\n",
      " 70%|███████   | 7/10 [01:26<00:38, 12.69s/it]"
     ]
    },
    {
     "name": "stdout",
     "output_type": "stream",
     "text": [
      "INFO:tensorflow:Scale of 0 disables regularizer.\n",
      "INFO:tensorflow:Restoring parameters from /home/ivan/facenet/models/20180402-114759/model-20180402-114759.ckpt-275\n"
     ]
    },
    {
     "name": "stderr",
     "output_type": "stream",
     "text": [
      "\n",
      "  0%|          | 0/19 [00:00<?, ?it/s]\u001b[A\n",
      "  5%|▌         | 1/19 [00:00<00:12,  1.44it/s]\u001b[A\n",
      " 16%|█▌        | 3/19 [00:00<00:08,  1.94it/s]\u001b[A\n",
      " 26%|██▋       | 5/19 [00:01<00:05,  2.59it/s]\u001b[A\n",
      " 32%|███▏      | 6/19 [00:01<00:03,  3.31it/s]\u001b[A\n",
      " 42%|████▏     | 8/19 [00:01<00:02,  4.19it/s]\u001b[A\n",
      " 47%|████▋     | 9/19 [00:01<00:02,  4.97it/s]\u001b[A\n",
      " 53%|█████▎    | 10/19 [00:01<00:01,  5.78it/s]\u001b[A\n",
      " 58%|█████▊    | 11/19 [00:01<00:01,  6.51it/s]\u001b[A\n",
      " 63%|██████▎   | 12/19 [00:01<00:00,  7.14it/s]\u001b[A\n",
      " 74%|███████▎  | 14/19 [00:01<00:00,  8.11it/s]\u001b[A\n",
      " 84%|████████▍ | 16/19 [00:02<00:00,  8.93it/s]\u001b[A\n",
      "100%|██████████| 19/19 [00:02<00:00,  8.06it/s]\u001b[A\n",
      " 80%|████████  | 8/10 [01:38<00:24, 12.49s/it]"
     ]
    },
    {
     "name": "stdout",
     "output_type": "stream",
     "text": [
      "INFO:tensorflow:Scale of 0 disables regularizer.\n",
      "INFO:tensorflow:Restoring parameters from /home/ivan/facenet/models/20180402-114759/model-20180402-114759.ckpt-275\n"
     ]
    },
    {
     "name": "stderr",
     "output_type": "stream",
     "text": [
      "\n",
      "  0%|          | 0/19 [00:00<?, ?it/s]\u001b[A\n",
      "  5%|▌         | 1/19 [00:00<00:13,  1.35it/s]\u001b[A\n",
      " 11%|█         | 2/19 [00:00<00:09,  1.82it/s]\u001b[A\n",
      " 21%|██        | 4/19 [00:01<00:06,  2.42it/s]\u001b[A\n",
      " 26%|██▋       | 5/19 [00:01<00:04,  3.12it/s]\u001b[A\n",
      " 37%|███▋      | 7/19 [00:01<00:03,  4.00it/s]\u001b[A\n",
      " 47%|████▋     | 9/19 [00:01<00:02,  4.94it/s]\u001b[A\n",
      " 58%|█████▊    | 11/19 [00:01<00:01,  5.89it/s]\u001b[A\n",
      " 68%|██████▊   | 13/19 [00:01<00:00,  6.79it/s]\u001b[A\n",
      " 79%|███████▉  | 15/19 [00:02<00:00,  7.58it/s]\u001b[A\n",
      " 89%|████████▉ | 17/19 [00:02<00:00,  8.47it/s]\u001b[A\n",
      "100%|██████████| 19/19 [00:02<00:00,  7.92it/s]\u001b[A\n",
      " 90%|█████████ | 9/10 [01:50<00:12, 12.20s/it]"
     ]
    },
    {
     "name": "stdout",
     "output_type": "stream",
     "text": [
      "INFO:tensorflow:Scale of 0 disables regularizer.\n",
      "INFO:tensorflow:Restoring parameters from /home/ivan/facenet/models/20180402-114759/model-20180402-114759.ckpt-275\n"
     ]
    },
    {
     "name": "stderr",
     "output_type": "stream",
     "text": [
      "\n",
      "  0%|          | 0/19 [00:00<?, ?it/s]\u001b[A\n",
      "  5%|▌         | 1/19 [00:00<00:10,  1.69it/s]\u001b[A\n",
      " 16%|█▌        | 3/19 [00:00<00:07,  2.28it/s]\u001b[A\n",
      " 26%|██▋       | 5/19 [00:00<00:04,  3.03it/s]\u001b[A\n",
      " 37%|███▋      | 7/19 [00:01<00:03,  3.93it/s]\u001b[A\n",
      " 47%|████▋     | 9/19 [00:01<00:02,  4.96it/s]\u001b[A\n",
      " 58%|█████▊    | 11/19 [00:01<00:01,  6.01it/s]\u001b[A\n",
      " 68%|██████▊   | 13/19 [00:01<00:00,  7.15it/s]\u001b[A\n",
      " 79%|███████▉  | 15/19 [00:01<00:00,  8.22it/s]\u001b[A\n",
      " 89%|████████▉ | 17/19 [00:01<00:00,  9.04it/s]\u001b[A\n",
      "100%|██████████| 19/19 [00:02<00:00,  9.34it/s]\u001b[A\n",
      "100%|██████████| 10/10 [02:01<00:00, 12.12s/it]\n"
     ]
    }
   ],
   "source": [
    "vggface_recall = repeat_recall_at_1(\"vggface2\", include_adversarial=False)"
   ]
  },
  {
   "cell_type": "code",
   "execution_count": 22,
   "metadata": {},
   "outputs": [
    {
     "name": "stderr",
     "output_type": "stream",
     "text": [
      "\r",
      "  0%|          | 0/10 [00:00<?, ?it/s]"
     ]
    },
    {
     "name": "stdout",
     "output_type": "stream",
     "text": [
      "INFO:tensorflow:Scale of 0 disables regularizer.\n",
      "INFO:tensorflow:Restoring parameters from /home/ivan/facenet/models/20180408-102900/model-20180408-102900.ckpt-90\n"
     ]
    },
    {
     "name": "stderr",
     "output_type": "stream",
     "text": [
      "\n",
      "  0%|          | 0/19 [00:00<?, ?it/s]\u001b[A\n",
      "  5%|▌         | 1/19 [00:00<00:11,  1.54it/s]\u001b[A\n",
      " 16%|█▌        | 3/19 [00:00<00:07,  2.09it/s]\u001b[A\n",
      " 21%|██        | 4/19 [00:00<00:05,  2.70it/s]\u001b[A\n",
      " 26%|██▋       | 5/19 [00:01<00:04,  3.44it/s]\u001b[A\n",
      " 32%|███▏      | 6/19 [00:01<00:03,  4.26it/s]\u001b[A\n",
      " 42%|████▏     | 8/19 [00:01<00:02,  5.34it/s]\u001b[A\n",
      " 53%|█████▎    | 10/19 [00:01<00:01,  6.46it/s]\u001b[A\n",
      " 63%|██████▎   | 12/19 [00:01<00:00,  7.47it/s]\u001b[A\n",
      " 74%|███████▎  | 14/19 [00:01<00:00,  8.33it/s]\u001b[A\n",
      " 84%|████████▍ | 16/19 [00:01<00:00,  9.13it/s]\u001b[A\n",
      "100%|██████████| 19/19 [00:02<00:00,  8.53it/s]\u001b[A\n",
      " 10%|█         | 1/10 [00:11<01:39, 11.11s/it]"
     ]
    },
    {
     "name": "stdout",
     "output_type": "stream",
     "text": [
      "INFO:tensorflow:Scale of 0 disables regularizer.\n",
      "INFO:tensorflow:Restoring parameters from /home/ivan/facenet/models/20180408-102900/model-20180408-102900.ckpt-90\n"
     ]
    },
    {
     "name": "stderr",
     "output_type": "stream",
     "text": [
      "\n",
      "  0%|          | 0/19 [00:00<?, ?it/s]\u001b[A\n",
      "  5%|▌         | 1/19 [00:00<00:13,  1.31it/s]\u001b[A\n",
      " 16%|█▌        | 3/19 [00:00<00:08,  1.78it/s]\u001b[A\n",
      " 21%|██        | 4/19 [00:01<00:06,  2.36it/s]\u001b[A\n",
      " 32%|███▏      | 6/19 [00:01<00:04,  3.11it/s]\u001b[A\n",
      " 42%|████▏     | 8/19 [00:01<00:02,  4.01it/s]\u001b[A\n",
      " 53%|█████▎    | 10/19 [00:01<00:01,  5.02it/s]\u001b[A\n",
      " 63%|██████▎   | 12/19 [00:01<00:01,  6.03it/s]\u001b[A\n",
      " 74%|███████▎  | 14/19 [00:01<00:00,  6.76it/s]\u001b[A\n",
      " 84%|████████▍ | 16/19 [00:02<00:00,  7.64it/s]\u001b[A\n",
      "100%|██████████| 19/19 [00:02<00:00,  8.08it/s]\u001b[A\n",
      " 20%|██        | 2/10 [00:22<01:29, 11.18s/it]"
     ]
    },
    {
     "name": "stdout",
     "output_type": "stream",
     "text": [
      "INFO:tensorflow:Scale of 0 disables regularizer.\n",
      "INFO:tensorflow:Restoring parameters from /home/ivan/facenet/models/20180408-102900/model-20180408-102900.ckpt-90\n"
     ]
    },
    {
     "name": "stderr",
     "output_type": "stream",
     "text": [
      "\n",
      "  0%|          | 0/19 [00:00<?, ?it/s]\u001b[A\n",
      "  5%|▌         | 1/19 [00:00<00:13,  1.33it/s]\u001b[A\n",
      " 16%|█▌        | 3/19 [00:00<00:08,  1.79it/s]\u001b[A\n",
      " 26%|██▋       | 5/19 [00:01<00:05,  2.40it/s]\u001b[A\n",
      " 37%|███▋      | 7/19 [00:01<00:03,  3.10it/s]\u001b[A\n",
      " 42%|████▏     | 8/19 [00:01<00:02,  3.86it/s]\u001b[A\n",
      " 47%|████▋     | 9/19 [00:01<00:02,  4.73it/s]\u001b[A\n",
      " 58%|█████▊    | 11/19 [00:01<00:01,  5.69it/s]\u001b[A\n",
      " 63%|██████▎   | 12/19 [00:01<00:01,  6.53it/s]\u001b[A\n",
      " 74%|███████▎  | 14/19 [00:02<00:00,  7.30it/s]\u001b[A\n",
      " 79%|███████▉  | 15/19 [00:02<00:00,  7.79it/s]\u001b[A\n",
      " 89%|████████▉ | 17/19 [00:02<00:00,  8.55it/s]\u001b[A\n",
      "100%|██████████| 19/19 [00:02<00:00,  7.52it/s]\u001b[A\n",
      " 30%|███       | 3/10 [00:33<01:18, 11.15s/it]"
     ]
    },
    {
     "name": "stdout",
     "output_type": "stream",
     "text": [
      "INFO:tensorflow:Scale of 0 disables regularizer.\n",
      "INFO:tensorflow:Restoring parameters from /home/ivan/facenet/models/20180408-102900/model-20180408-102900.ckpt-90\n"
     ]
    },
    {
     "name": "stderr",
     "output_type": "stream",
     "text": [
      "\n",
      "  0%|          | 0/19 [00:00<?, ?it/s]\u001b[A\n",
      "  5%|▌         | 1/19 [00:00<00:13,  1.33it/s]\u001b[A\n",
      " 16%|█▌        | 3/19 [00:00<00:08,  1.82it/s]\u001b[A\n",
      " 26%|██▋       | 5/19 [00:01<00:05,  2.44it/s]\u001b[A\n",
      " 37%|███▋      | 7/19 [00:01<00:03,  3.17it/s]\u001b[A\n",
      " 47%|████▋     | 9/19 [00:01<00:02,  3.99it/s]\u001b[A\n",
      " 58%|█████▊    | 11/19 [00:01<00:01,  4.97it/s]\u001b[A\n",
      " 63%|██████▎   | 12/19 [00:01<00:01,  5.78it/s]\u001b[A\n",
      " 68%|██████▊   | 13/19 [00:01<00:00,  6.44it/s]\u001b[A\n",
      " 79%|███████▉  | 15/19 [00:02<00:00,  7.37it/s]\u001b[A\n",
      " 89%|████████▉ | 17/19 [00:02<00:00,  8.20it/s]\u001b[A\n",
      "100%|██████████| 19/19 [00:02<00:00,  7.82it/s]\u001b[A\n",
      " 40%|████      | 4/10 [00:44<01:07, 11.23s/it]"
     ]
    },
    {
     "name": "stdout",
     "output_type": "stream",
     "text": [
      "INFO:tensorflow:Scale of 0 disables regularizer.\n",
      "INFO:tensorflow:Restoring parameters from /home/ivan/facenet/models/20180408-102900/model-20180408-102900.ckpt-90\n"
     ]
    },
    {
     "name": "stderr",
     "output_type": "stream",
     "text": [
      "\n",
      "  0%|          | 0/19 [00:00<?, ?it/s]\u001b[A\n",
      "  5%|▌         | 1/19 [00:00<00:13,  1.35it/s]\u001b[A\n",
      " 11%|█         | 2/19 [00:00<00:09,  1.82it/s]\u001b[A\n",
      " 16%|█▌        | 3/19 [00:00<00:06,  2.39it/s]\u001b[A\n",
      " 26%|██▋       | 5/19 [00:01<00:04,  3.12it/s]\u001b[A\n",
      " 32%|███▏      | 6/19 [00:01<00:03,  3.84it/s]\u001b[A\n",
      " 37%|███▋      | 7/19 [00:01<00:02,  4.66it/s]\u001b[A\n",
      " 47%|████▋     | 9/19 [00:01<00:01,  5.62it/s]\u001b[A\n",
      " 58%|█████▊    | 11/19 [00:01<00:01,  6.60it/s]\u001b[A\n",
      " 68%|██████▊   | 13/19 [00:01<00:00,  7.46it/s]\u001b[A\n",
      " 79%|███████▉  | 15/19 [00:02<00:00,  8.17it/s]\u001b[A\n",
      " 89%|████████▉ | 17/19 [00:02<00:00,  8.93it/s]\u001b[A\n",
      "100%|██████████| 19/19 [00:02<00:00,  7.76it/s]\u001b[A\n",
      " 50%|█████     | 5/10 [00:57<00:58, 11.66s/it]"
     ]
    },
    {
     "name": "stdout",
     "output_type": "stream",
     "text": [
      "INFO:tensorflow:Scale of 0 disables regularizer.\n",
      "INFO:tensorflow:Restoring parameters from /home/ivan/facenet/models/20180408-102900/model-20180408-102900.ckpt-90\n"
     ]
    },
    {
     "name": "stderr",
     "output_type": "stream",
     "text": [
      "\n",
      "  0%|          | 0/19 [00:00<?, ?it/s]\u001b[A\n",
      "  5%|▌         | 1/19 [00:00<00:16,  1.07it/s]\u001b[A\n",
      " 16%|█▌        | 3/19 [00:01<00:10,  1.46it/s]\u001b[A\n",
      " 21%|██        | 4/19 [00:01<00:07,  1.96it/s]\u001b[A\n",
      " 26%|██▋       | 5/19 [00:01<00:05,  2.56it/s]\u001b[A\n",
      " 37%|███▋      | 7/19 [00:01<00:03,  3.32it/s]\u001b[A\n",
      " 47%|████▋     | 9/19 [00:01<00:02,  4.21it/s]\u001b[A\n",
      " 58%|█████▊    | 11/19 [00:01<00:01,  5.09it/s]\u001b[A\n",
      " 63%|██████▎   | 12/19 [00:02<00:01,  5.84it/s]\u001b[A\n",
      " 68%|██████▊   | 13/19 [00:02<00:00,  6.61it/s]\u001b[A\n",
      " 74%|███████▎  | 14/19 [00:02<00:00,  7.32it/s]\u001b[A\n",
      " 84%|████████▍ | 16/19 [00:02<00:00,  7.91it/s]\u001b[A\n",
      " 89%|████████▉ | 17/19 [00:02<00:00,  8.32it/s]\u001b[A\n",
      " 95%|█████████▍| 18/19 [00:02<00:00,  8.62it/s]\u001b[A\n",
      "100%|██████████| 19/19 [00:02<00:00,  6.90it/s]\u001b[A\n",
      " 60%|██████    | 6/10 [01:10<00:48, 12.08s/it]"
     ]
    },
    {
     "name": "stdout",
     "output_type": "stream",
     "text": [
      "INFO:tensorflow:Scale of 0 disables regularizer.\n",
      "INFO:tensorflow:Restoring parameters from /home/ivan/facenet/models/20180408-102900/model-20180408-102900.ckpt-90\n"
     ]
    },
    {
     "name": "stderr",
     "output_type": "stream",
     "text": [
      "\n",
      "  0%|          | 0/19 [00:00<?, ?it/s]\u001b[A\n",
      "  5%|▌         | 1/19 [00:00<00:17,  1.04it/s]\u001b[A\n",
      " 11%|█         | 2/19 [00:01<00:11,  1.42it/s]\u001b[A\n",
      " 16%|█▌        | 3/19 [00:01<00:08,  1.90it/s]\u001b[A\n",
      " 21%|██        | 4/19 [00:01<00:06,  2.45it/s]\u001b[A\n",
      " 26%|██▋       | 5/19 [00:01<00:04,  3.12it/s]\u001b[A\n",
      " 37%|███▋      | 7/19 [00:01<00:03,  3.95it/s]\u001b[A\n",
      " 42%|████▏     | 8/19 [00:01<00:02,  4.73it/s]\u001b[A\n",
      " 47%|████▋     | 9/19 [00:01<00:01,  5.52it/s]\u001b[A\n",
      " 58%|█████▊    | 11/19 [00:02<00:01,  6.32it/s]\u001b[A\n",
      " 63%|██████▎   | 12/19 [00:02<00:00,  7.03it/s]\u001b[A\n",
      " 74%|███████▎  | 14/19 [00:02<00:00,  7.73it/s]\u001b[A\n",
      " 84%|████████▍ | 16/19 [00:02<00:00,  8.43it/s]\u001b[A\n",
      " 89%|████████▉ | 17/19 [00:02<00:00,  8.76it/s]\u001b[A\n",
      " 95%|█████████▍| 18/19 [00:02<00:00,  8.89it/s]\u001b[A\n",
      "100%|██████████| 19/19 [00:02<00:00,  6.63it/s]\u001b[A\n",
      " 70%|███████   | 7/10 [01:23<00:37, 12.45s/it]"
     ]
    },
    {
     "name": "stdout",
     "output_type": "stream",
     "text": [
      "INFO:tensorflow:Scale of 0 disables regularizer.\n",
      "INFO:tensorflow:Restoring parameters from /home/ivan/facenet/models/20180408-102900/model-20180408-102900.ckpt-90\n"
     ]
    },
    {
     "name": "stderr",
     "output_type": "stream",
     "text": [
      "\n",
      "  0%|          | 0/19 [00:00<?, ?it/s]\u001b[A\n",
      "  5%|▌         | 1/19 [00:01<00:18,  1.05s/it]\u001b[A\n",
      " 16%|█▌        | 3/19 [00:01<00:12,  1.31it/s]\u001b[A\n",
      " 21%|██        | 4/19 [00:01<00:08,  1.74it/s]\u001b[A\n",
      " 26%|██▋       | 5/19 [00:01<00:06,  2.30it/s]\u001b[A\n",
      " 32%|███▏      | 6/19 [00:01<00:04,  2.95it/s]\u001b[A\n",
      " 37%|███▋      | 7/19 [00:01<00:03,  3.70it/s]\u001b[A\n",
      " 42%|████▏     | 8/19 [00:01<00:02,  4.48it/s]\u001b[A\n",
      " 47%|████▋     | 9/19 [00:01<00:01,  5.15it/s]\u001b[A\n",
      " 53%|█████▎    | 10/19 [00:02<00:01,  5.85it/s]\u001b[A\n",
      " 58%|█████▊    | 11/19 [00:02<00:01,  6.38it/s]\u001b[A\n",
      " 63%|██████▎   | 12/19 [00:02<00:01,  6.74it/s]\u001b[A\n",
      " 68%|██████▊   | 13/19 [00:02<00:00,  7.16it/s]\u001b[A\n",
      " 74%|███████▎  | 14/19 [00:02<00:00,  7.46it/s]\u001b[A\n",
      " 79%|███████▉  | 15/19 [00:02<00:00,  7.70it/s]\u001b[A\n",
      " 84%|████████▍ | 16/19 [00:02<00:00,  7.89it/s]\u001b[A\n",
      " 89%|████████▉ | 17/19 [00:02<00:00,  7.97it/s]\u001b[A\n",
      " 95%|█████████▍| 18/19 [00:03<00:00,  7.73it/s]\u001b[A\n",
      "100%|██████████| 19/19 [00:03<00:00,  5.94it/s]\u001b[A\n",
      " 80%|████████  | 8/10 [01:38<00:25, 12.95s/it]"
     ]
    },
    {
     "name": "stdout",
     "output_type": "stream",
     "text": [
      "INFO:tensorflow:Scale of 0 disables regularizer.\n",
      "INFO:tensorflow:Restoring parameters from /home/ivan/facenet/models/20180408-102900/model-20180408-102900.ckpt-90\n"
     ]
    },
    {
     "name": "stderr",
     "output_type": "stream",
     "text": [
      "\n",
      "  0%|          | 0/19 [00:00<?, ?it/s]\u001b[A\n",
      "  5%|▌         | 1/19 [00:01<00:19,  1.07s/it]\u001b[A\n",
      " 11%|█         | 2/19 [00:01<00:13,  1.24it/s]\u001b[A\n",
      " 16%|█▌        | 3/19 [00:01<00:09,  1.65it/s]\u001b[A\n",
      " 21%|██        | 4/19 [00:01<00:06,  2.15it/s]\u001b[A\n",
      " 26%|██▋       | 5/19 [00:01<00:05,  2.76it/s]\u001b[A\n",
      " 32%|███▏      | 6/19 [00:01<00:03,  3.44it/s]\u001b[A\n",
      " 37%|███▋      | 7/19 [00:01<00:02,  4.20it/s]\u001b[A\n",
      " 42%|████▏     | 8/19 [00:02<00:02,  4.98it/s]\u001b[A\n",
      " 47%|████▋     | 9/19 [00:02<00:01,  5.66it/s]\u001b[A\n",
      " 53%|█████▎    | 10/19 [00:02<00:01,  6.41it/s]\u001b[A\n",
      " 58%|█████▊    | 11/19 [00:02<00:01,  7.00it/s]\u001b[A\n",
      " 63%|██████▎   | 12/19 [00:02<00:00,  7.41it/s]\u001b[A\n",
      " 68%|██████▊   | 13/19 [00:02<00:00,  7.69it/s]\u001b[A\n",
      " 74%|███████▎  | 14/19 [00:02<00:00,  7.68it/s]\u001b[A\n",
      " 79%|███████▉  | 15/19 [00:02<00:00,  8.01it/s]\u001b[A\n",
      " 84%|████████▍ | 16/19 [00:02<00:00,  8.22it/s]\u001b[A\n",
      " 89%|████████▉ | 17/19 [00:03<00:00,  8.11it/s]\u001b[A\n",
      " 95%|█████████▍| 18/19 [00:03<00:00,  8.08it/s]\u001b[A\n",
      "100%|██████████| 19/19 [00:03<00:00,  5.72it/s]\u001b[A\n",
      " 90%|█████████ | 9/10 [01:51<00:13, 13.21s/it]"
     ]
    },
    {
     "name": "stdout",
     "output_type": "stream",
     "text": [
      "INFO:tensorflow:Scale of 0 disables regularizer.\n",
      "INFO:tensorflow:Restoring parameters from /home/ivan/facenet/models/20180408-102900/model-20180408-102900.ckpt-90\n"
     ]
    },
    {
     "name": "stderr",
     "output_type": "stream",
     "text": [
      "\n",
      "  0%|          | 0/19 [00:00<?, ?it/s]\u001b[A\n",
      "  5%|▌         | 1/19 [00:00<00:17,  1.04it/s]\u001b[A\n",
      " 16%|█▌        | 3/19 [00:01<00:11,  1.42it/s]\u001b[A\n",
      " 26%|██▋       | 5/19 [00:01<00:07,  1.93it/s]\u001b[A\n",
      " 37%|███▋      | 7/19 [00:01<00:04,  2.56it/s]\u001b[A\n",
      " 42%|████▏     | 8/19 [00:01<00:03,  3.26it/s]\u001b[A\n",
      " 47%|████▋     | 9/19 [00:01<00:02,  4.08it/s]\u001b[A\n",
      " 58%|█████▊    | 11/19 [00:01<00:01,  5.00it/s]\u001b[A\n",
      " 68%|██████▊   | 13/19 [00:02<00:01,  5.83it/s]\u001b[A\n",
      " 74%|███████▎  | 14/19 [00:02<00:00,  6.49it/s]\u001b[A\n",
      " 79%|███████▉  | 15/19 [00:02<00:00,  6.83it/s]\u001b[A\n",
      " 84%|████████▍ | 16/19 [00:02<00:00,  7.22it/s]\u001b[A\n",
      " 89%|████████▉ | 17/19 [00:02<00:00,  7.54it/s]\u001b[A\n",
      " 95%|█████████▍| 18/19 [00:02<00:00,  7.63it/s]\u001b[A\n",
      "100%|██████████| 19/19 [00:02<00:00,  6.64it/s]\u001b[A\n",
      "100%|██████████| 10/10 [02:05<00:00, 12.50s/it]\n"
     ]
    }
   ],
   "source": [
    "casiawebface_recall = repeat_recall_at_1(\"casia-webface\", include_adversarial=False)"
   ]
  },
  {
   "cell_type": "code",
   "execution_count": 23,
   "metadata": {},
   "outputs": [
    {
     "data": {
      "text/plain": [
       "{'boxes': [<matplotlib.lines.Line2D at 0x7fd6a216e278>,\n",
       "  <matplotlib.lines.Line2D at 0x7fd6a2184780>],\n",
       " 'caps': [<matplotlib.lines.Line2D at 0x7fd6a216ea58>,\n",
       "  <matplotlib.lines.Line2D at 0x7fd6a216eda0>,\n",
       "  <matplotlib.lines.Line2D at 0x7fd6a21701d0>,\n",
       "  <matplotlib.lines.Line2D at 0x7fd6a2170518>],\n",
       " 'fliers': [<matplotlib.lines.Line2D at 0x7fd6a2184470>,\n",
       "  <matplotlib.lines.Line2D at 0x7fd6a2170ba8>],\n",
       " 'means': [],\n",
       " 'medians': [<matplotlib.lines.Line2D at 0x7fd6a2184128>,\n",
       "  <matplotlib.lines.Line2D at 0x7fd6a2170860>],\n",
       " 'whiskers': [<matplotlib.lines.Line2D at 0x7fd6a216e3c8>,\n",
       "  <matplotlib.lines.Line2D at 0x7fd6a216e710>,\n",
       "  <matplotlib.lines.Line2D at 0x7fd6a2184b00>,\n",
       "  <matplotlib.lines.Line2D at 0x7fd6a2184e48>]}"
      ]
     },
     "execution_count": 23,
     "metadata": {},
     "output_type": "execute_result"
    },
    {
     "data": {
      "image/png": "[encoded data removed]",
      "text/plain": [
       "<Figure size 432x288 with 1 Axes>"
      ]
     },
     "metadata": {
      "needs_background": "light"
     },
     "output_type": "display_data"
    }
   ],
   "source": [
    "fig1, ax1 = plt.subplots()\n",
    "ax1.boxplot([vggface_recall, casiawebface_recall])"
   ]
  },
  {
   "cell_type": "code",
   "execution_count": 24,
   "metadata": {},
   "outputs": [
    {
     "name": "stdout",
     "output_type": "stream",
     "text": [
      "Casia WebFace network\n",
      "Average recall at k=1 0.6547368421052633 with standard deviation over 10 runs 0.0391884430926027\n"
     ]
    }
   ],
   "source": [
    "print(\"Casia WebFace network\")\n",
    "print(\"Average recall at k=1\", np.mean(casiawebface_recall), end=' ')\n",
    "print(\"with standard deviation over 10 runs\", np.std(casiawebface_recall))"
   ]
  },
  {
   "cell_type": "code",
   "execution_count": 25,
   "metadata": {},
   "outputs": [
    {
     "name": "stdout",
     "output_type": "stream",
     "text": [
      "VGGFace network\n",
      "Average recall at k=1 0.8878947368421054 with standard deviation over 10 runs 0.02245956662458091\n"
     ]
    }
   ],
   "source": [
    "print(\"VGGFace network\")\n",
    "print(\"Average recall at k=1\", np.mean(vggface_recall), end=' ')\n",
    "print(\"with standard deviation over 10 runs\", np.std(vggface_recall))"
   ]
  },
  {
   "cell_type": "code",
   "execution_count": null,
   "metadata": {},
   "outputs": [],
   "source": []
  }
 ],
 "metadata": {
  "kernelspec": {
   "display_name": "Python 3",
   "language": "python",
   "name": "python3"
  },
  "language_info": {
   "codemirror_mode": {
    "name": "ipython",
    "version": 3
   },
   "file_extension": ".py",
   "mimetype": "text/x-python",
   "name": "python",
   "nbconvert_exporter": "python",
   "pygments_lexer": "ipython3",
   "version": "3.5.6"
  }
 },
 "nbformat": 4,
 "nbformat_minor": 2
}
