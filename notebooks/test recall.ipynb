{
 "cells": [
  {
   "cell_type": "code",
   "execution_count": 7,
   "metadata": {},
   "outputs": [],
   "source": [
    "# import sys\n",
    "# sys.path.append(\"../\")\n",
    "# from utils import identropy_given_dist\n",
    "import numpy as np"
   ]
  },
  {
   "cell_type": "code",
   "execution_count": 18,
   "metadata": {},
   "outputs": [],
   "source": [
    "def identropy_given_dist(\n",
    "     dist_self,\n",
    "     dist_negative,\n",
    "     k,\n",
    "     identities_negative\n",
    " ):\n",
    "    self_identity = \"selfXXXuniquegibberish\"\n",
    "\n",
    "    all_dist = np.concatenate((dist_self, dist_negative), axis=0)\n",
    "    all_ids = np.concatenate(([self_identity for x in range(len(dist_self))], identities_negative))\n",
    "    print(\"all dist\", all_dist)\n",
    "    print(\"all ids\", all_ids)\n",
    "    sorted_indices = np.argsort(all_dist)\n",
    "    topk = all_ids[sorted_indices][:k]\n",
    "    print(\"topk\", topk)\n",
    "    topk_ids = float(len(set(topk)))\n",
    "    total_ids = float(len(set(all_ids)))\n",
    "    print(\"topk ids\", topk_ids)\n",
    "    print(\"total ids\", total_ids)\n",
    "    return topk_ids / total_ids"
   ]
  },
  {
   "cell_type": "code",
   "execution_count": 20,
   "metadata": {},
   "outputs": [
    {
     "name": "stdout",
     "output_type": "stream",
     "text": [
      "all dist [0.  1.  1.5 1.6]\n",
      "all ids ['selfXXXuniquegibberish' 'selfXXXuniquegibberish' 'A' 'B']\n",
      "topk ['selfXXXuniquegibberish' 'selfXXXuniquegibberish']\n",
      "topk ids 1.0\n",
      "total ids 3.0\n",
      "0.3333333333333333\n"
     ]
    }
   ],
   "source": [
    "print(identropy_given_dist([0.0, 1.0], [1.5, 1.6], 2, [\"A\", \"B\"]))"
   ]
  },
  {
   "cell_type": "code",
   "execution_count": null,
   "metadata": {},
   "outputs": [],
   "source": [
    "print(identropy_given_dist([0.0, 1.0], [1.5, 1.6], 100) == 1.0)\n",
    "print(identropy_given_dist([0.0, 1.8], [1.5, 1.6], 100) == 1.0)\n",
    "print()\n",
    "print(identropy_given_dist([0.0, 1.8], [1.5, 1.6], 2) == 0.5)\n",
    "print(identropy_given_dist([0.0, 1.0], [1.5, 1.6], 2) == 1.0)\n",
    "print(identropy_given_dist([0.0, 1.0], [1.5, 1.6], 2) == 1.0)\n",
    "print()\n",
    "print(identropy_given_dist([0.0, 1.0], [1.5, 1.6], 2) == 1.0)\n",
    "print()\n",
    "print(identropy_given_dist([0.0, 1.0], [0.4, 1.6], 2) == 0.5)\n",
    "print(identropy_given_dist([0.5, 1.0], [0.4, 0.3], 2) == 0.0)\n",
    "print()\n",
    "print(identropy_given_dist([0.0, 1.8], [1.5, 1.6], 4) == 0.5)\n",
    "print(identropy_given_dist([0.0, 1.0], [1.5, 1.6], 4) == 1.0)\n",
    "print(identropy_given_dist([0.0, 1.0], [1.5, 1.6], 4) == 1.0)\n",
    "print()\n",
    "print(identropy_given_dist([0.0, 1.0], [1.5, 1.6], 4) == 1.0)\n",
    "print()\n",
    "print(identropy_given_dist([0.0, 1.0], [0.4, 1.6], 4) == 1.0)\n",
    "print(identropy_given_dist([0.5, 1.0], [0.4, 0.3], 4) == 1.0)\n",
    "print()\n",
    "print(np.abs(identropy_given_dist([0.0, 1.8], [1.5, 1.6], 3) - 0.5) < 1e-3)\n",
    "print(np.abs(identropy_given_dist([0.0, 1.0], [1.5, 1.6], 3)) == 1.0)\n",
    "print(identropy_given_dist([0.0, 1.0], [1.5, 1.6], 3) == 1.0)\n",
    "print()\n",
    "print(identropy_given_dist([0.0, 1.0], [1.5, 1.6], 3) == 1.0)\n",
    "print(np.abs(identropy_given_dist([0.0, 1.0], [0.4, 1.6], 3)) == 1.0)\n",
    "print(identropy_given_dist([0.5, 1.0], [0.4, 0.3], 3) == 0.5)\n",
    "print()\n",
    "print(identropy_given_dist([0.0, 1.0], [1.5, 1.6], 1) == 1.0)\n",
    "print(np.abs(identropy_given_dist([0.0, 1.0], [0.4, 1.6], 1)) == 1.0)\n",
    "print(identropy_given_dist([0.5, 1.0], [0.4, 0.3], 1) == 0.0)\n",
    "print()\n",
    "print(identropy_given_dist([0.0, 0.1, 0.2], [0.3, 0.4, 0.5], 5) == 1.0)\n",
    "print(np.abs(identropy_given_dist([0.0, 0.1, 0.2, 0.3, 0.4], [0.5, 1.6], 5)) == 1.0)\n",
    "print(np.abs(identropy_given_dist([0.0, 1.1, 0.2, 0.3, 0.4], [0.4, 1.6], 5)) == 0.8)\n",
    "print()\n",
    "print(identropy_given_dist([0.0, 0.1, 0.2], [0.3, 0.4, 0.5], 1) == 1.0)\n",
    "print(np.abs(identropy_given_dist([0.0, 0.1, 0.2, 0.3, 0.4], [0.5, 1.6], 1)) == 1.0)\n",
    "print(np.abs(identropy_given_dist([0.0, 1.1, 0.2, 0.3, 0.4], [0.4, 1.6], 1)) == 1.0)"
   ]
  },
  {
   "cell_type": "code",
   "execution_count": null,
   "metadata": {},
   "outputs": [],
   "source": []
  }
 ],
 "metadata": {
  "kernelspec": {
   "display_name": "Python 3",
   "language": "python",
   "name": "python3"
  },
  "language_info": {
   "codemirror_mode": {
    "name": "ipython",
    "version": 3
   },
   "file_extension": ".py",
   "mimetype": "text/x-python",
   "name": "python",
   "nbconvert_exporter": "python",
   "pygments_lexer": "ipython3",
   "version": "3.6.2"
  }
 },
 "nbformat": 4,
 "nbformat_minor": 4
}
