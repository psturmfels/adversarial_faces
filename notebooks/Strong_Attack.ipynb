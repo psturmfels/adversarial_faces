{
 "cells": [
  {
   "cell_type": "code",
   "execution_count": 1,
   "metadata": {},
   "outputs": [],
   "source": [
    "import asyncio\n",
    "import io\n",
    "import glob\n",
    "import os\n",
    "import sys\n",
    "import time\n",
    "import uuid\n",
    "import requests\n",
    "from urllib.parse import urlparse\n",
    "from io import BytesIO\n",
    "from PIL import Image, ImageDraw\n",
    "from azure.cognitiveservices.vision.face import FaceClient\n",
    "from msrest.authentication import CognitiveServicesCredentials\n",
    "from azure.cognitiveservices.vision.face.models import TrainingStatusType, Person\n",
    "from tqdm import tqdm\n",
    "import json\n",
    "import tensorflow as tf\n",
    "import numpy as np\n",
    "sys.path.append(\"../\")\n",
    "from utils import prewhiten, l2_normalize\n",
    "from sklearn.metrics import pairwise_distances, roc_auc_score\n",
    "from matplotlib import pyplot as plt\n",
    "%matplotlib inline\n",
    "import seaborn\n",
    "seaborn.set()"
   ]
  },
  {
   "cell_type": "code",
   "execution_count": 2,
   "metadata": {},
   "outputs": [],
   "source": [
    "model_path = '/home/ivan/pascal_adversarial_faces/keras-facenet/model/facenet_keras.h5'"
   ]
  },
  {
   "cell_type": "code",
   "execution_count": 3,
   "metadata": {},
   "outputs": [],
   "source": [
    "auth_file = \"/home/ivan/azure_auth.json\"\n",
    "with open(auth_file, \"r\") as f:\n",
    "    auth_data = json.loads(f.read())\n",
    "face_client = FaceClient(\n",
    "    auth_data[\"endpoint\"], \n",
    "    CognitiveServicesCredentials(auth_data[\"key\"])\n",
    ")"
   ]
  },
  {
   "cell_type": "code",
   "execution_count": 4,
   "metadata": {},
   "outputs": [
    {
     "name": "stdout",
     "output_type": "stream",
     "text": [
      "WARNING:tensorflow:No training configuration found in save file: the model was *not* compiled. Compile it manually.\n"
     ]
    }
   ],
   "source": [
    "model = tf.keras.models.load_model(model_path)"
   ]
  },
  {
   "cell_type": "code",
   "execution_count": 5,
   "metadata": {},
   "outputs": [],
   "source": [
    "def load_image_for_vggface(\n",
    "    path,\n",
    "    crop_box,\n",
    "    resize_size=160\n",
    "):\n",
    "    img = Image.open(path).convert(\"RGB\").crop(crop_box).resize((resize_size, resize_size))\n",
    "    img = prewhiten(np.array(img)).astype(np.float32)\n",
    "    return img\n",
    "\n",
    "def load_cropped_images(paths_list):\n",
    "    final_imgs = []\n",
    "    for img_path in paths_list:\n",
    "        results = face_client.face.detect_with_stream(\n",
    "            open(img_path, \"r+b\"), \n",
    "            detectionModel='detection_02'\n",
    "        )\n",
    "        crop_box = (\n",
    "            results[0].face_rectangle.left,\n",
    "            results[0].face_rectangle.top,\n",
    "            results[0].face_rectangle.left + results[0].face_rectangle.width,\n",
    "            results[0].face_rectangle.top + results[0].face_rectangle.height\n",
    "        )\n",
    "        final_imgs.append(load_image_for_vggface(img_path, crop_box))\n",
    "    return final_imgs"
   ]
  },
  {
   "cell_type": "code",
   "execution_count": 6,
   "metadata": {},
   "outputs": [],
   "source": [
    "yoshi_paths = glob.glob(\"/data/ivan_yoshi_pascal/yoshi_*\")\n",
    "ivan_paths = glob.glob(\"/data/ivan_yoshi_pascal/ivan_*\")"
   ]
  },
  {
   "cell_type": "code",
   "execution_count": 7,
   "metadata": {},
   "outputs": [],
   "source": [
    "yoshi_images = load_cropped_images(yoshi_paths)"
   ]
  },
  {
   "cell_type": "code",
   "execution_count": 9,
   "metadata": {},
   "outputs": [],
   "source": [
    "ivan_images = load_cropped_images(ivan_paths)"
   ]
  },
  {
   "cell_type": "code",
   "execution_count": null,
   "metadata": {},
   "outputs": [],
   "source": [
    "def roc_curve(positive, negative):\n",
    "    roc_auc = roc_auc_score(\n",
    "        [1 for x in positive] + [0 for x in negative],\n",
    "        np.concatenate((positive, negative), axis=0), \n",
    "    )\n",
    "    print(f\"Computed ROC AUC: {roc_auc:.3f}\")\n",
    "    \n",
    "    thresholds = np.arange(1e-6, 2.0, 0.1)\n",
    "    tprs = []\n",
    "    fprs = []\n",
    "    n_pos = float(len(positive))\n",
    "    n_neg = float(len(negative))\n",
    "\n",
    "    print(\"**** Computing ROC curve *****\")\n",
    "    for t in thresholds:\n",
    "        tp = np.sum(positive < t)\n",
    "        fp = np.sum(negative < t)\n",
    "        tprs.append(tp / n_pos)\n",
    "        fprs.append(fp / n_neg)\n",
    "\n",
    "    plt.plot(np.arange(0.0, 1.1, 0.1), np.arange(0.0, 1.1, 0.1), label=\"y=x\")\n",
    "    plt.plot(fprs, tprs, label=\"ResNet50 VGGFace2\")\n",
    "    plt.legend()\n",
    "    plt.ylabel(\"True Positive Rate\")\n",
    "    plt.xlabel(\"False Positive Rate\")\n",
    "    plt.title(\"ROC Curve for model\")"
   ]
  },
  {
   "cell_type": "code",
   "execution_count": 11,
   "metadata": {},
   "outputs": [],
   "source": [
    "def sanity_check(model, ivan_images, yoshi_images):\n",
    "    yoshi_embeddings = model.predict(np.array(yoshi_images), batch_size=6)\n",
    "    yoshi_embeddings = l2_normalize(yoshi_embeddings)\n",
    "    \n",
    "    ivan_embeddings = model.predict(np.array(ivan_images), batch_size=6)\n",
    "    ivan_embeddings = l2_normalize(ivan_embeddings)\n",
    "    \n",
    "    self_distances = pairwise_distances(\n",
    "         ivan_embeddings,\n",
    "         ivan_embeddings,\n",
    "         metric='euclidean',\n",
    "         n_jobs=4\n",
    "    )\n",
    "    # all distances below the diagonal compare every pair and exclude 0's to self\n",
    "    self_dist_indices = np.tril_indices(n=len(ivan_embeddings), k=-1)\n",
    "    # this selection returns a flattened array of distances that are ground truth True\n",
    "    self_distances = self_distances[self_dist_indices]\n",
    "\n",
    "    negative_distances = pairwise_distances(\n",
    "        ivan_embeddings,\n",
    "        yoshi_embeddings,\n",
    "        metric='euclidean',\n",
    "        n_jobs=4\n",
    "    ).flatten()\n",
    "\n",
    "    roc_curve(self_distances, negative_distances)"
   ]
  },
  {
   "cell_type": "code",
   "execution_count": 12,
   "metadata": {},
   "outputs": [],
   "source": [
    "sanity_check(ivan_images, y)"
   ]
  },
  {
   "cell_type": "code",
   "execution_count": 13,
   "metadata": {},
   "outputs": [],
   "source": []
  },
  {
   "cell_type": "code",
   "execution_count": 14,
   "metadata": {},
   "outputs": [],
   "source": []
  },
  {
   "cell_type": "code",
   "execution_count": 15,
   "metadata": {},
   "outputs": [
    {
     "name": "stdout",
     "output_type": "stream",
     "text": [
      "Computed ROC AUC: 0.013\n",
      "**** Computing ROC curve *****\n"
     ]
    },
    {
     "data": {
      "image/png": "[encoded data removed]",
      "text/plain": [
       "<Figure size 432x288 with 1 Axes>"
      ]
     },
     "metadata": {},
     "output_type": "display_data"
    }
   ],
   "source": []
  },
  {
   "cell_type": "code",
   "execution_count": null,
   "metadata": {},
   "outputs": [],
   "source": []
  }
 ],
 "metadata": {
  "kernelspec": {
   "display_name": "Python 3",
   "language": "python",
   "name": "python3"
  },
  "language_info": {
   "codemirror_mode": {
    "name": "ipython",
    "version": 3
   },
   "file_extension": ".py",
   "mimetype": "text/x-python",
   "name": "python",
   "nbconvert_exporter": "python",
   "pygments_lexer": "ipython3",
   "version": "3.6.2"
  }
 },
 "nbformat": 4,
 "nbformat_minor": 4
}
