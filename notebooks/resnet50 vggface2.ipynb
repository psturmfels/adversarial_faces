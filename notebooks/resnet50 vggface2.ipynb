{
 "cells": [
  {
   "cell_type": "code",
   "execution_count": 53,
   "metadata": {},
   "outputs": [],
   "source": [
    "from matplotlib import pyplot as plt\n",
    "%matplotlib inline\n",
    "import h5py\n",
    "import seaborn\n",
    "import numpy as np\n",
    "import os\n",
    "import tensorflow as tf\n",
    "from sklearn.metrics import pairwise_distances\n",
    "import sys\n",
    "sys.path.append(\"../\")\n",
    "from utils import l2_normalize, prewhiten, read_sampled_identities\n",
    "from PIL import Image\n",
    "import pandas as pd\n",
    "seaborn.set()"
   ]
  },
  {
   "cell_type": "code",
   "execution_count": 32,
   "metadata": {},
   "outputs": [
    {
     "name": "stdout",
     "output_type": "stream",
     "text": [
      "WARNING:tensorflow:No training configuration found in save file: the model was *not* compiled. Compile it manually.\n"
     ]
    }
   ],
   "source": [
    "model = tf.keras.models.load_model('../models/resnet50vggface2.h5')\n",
    "model = tf.keras.Model(inputs=model.input, outputs=model.get_layer(\"dim_proj\").output)"
   ]
  },
  {
   "cell_type": "code",
   "execution_count": 46,
   "metadata": {},
   "outputs": [],
   "source": [
    "mean = np.float32(np.array([91.4953, 103.8827, 131.0912]))\n",
    "base = \"/data/vggface/test_preprocessed_sampled\"\n",
    "identities = os.listdir(base)\n",
    "\n",
    "id2vect = {x: [] for x in identities}\n",
    "\n",
    "for identity in identities:\n",
    "    with h5py.File(os.path.join(base, identity, \"images.h5\"), 'r') as f:\n",
    "        images = np.float32(np.array([np.array(Image.fromarray(x).resize((224, 224))) for x in f['images'][:]]))\n",
    "        images -= mean\n",
    "        id2vect[identity] = l2_normalize(model.predict(images))"
   ]
  },
  {
   "cell_type": "code",
   "execution_count": 51,
   "metadata": {},
   "outputs": [],
   "source": [
    "def roc_curve(id2vect):\n",
    "    positive = []\n",
    "    negative = []\n",
    "\n",
    "    print(\"****** Computing pairwise distances *******\")\n",
    "    for identity in id2vect.keys():\n",
    "        this_id_vectors = id2vect[identity]\n",
    "        n_true = len(this_id_vectors)\n",
    "        self_distances = pairwise_distances(\n",
    "             this_id_vectors,\n",
    "             this_id_vectors,\n",
    "             metric='euclidean',\n",
    "             n_jobs=4\n",
    "        )\n",
    "        # all distances below the diagonal compare every pair and exclude 0's to self\n",
    "        self_dist_indices = np.tril_indices(n=n_true, k=-1)\n",
    "        # this selection returns a flattened array of distances that are ground truth True\n",
    "        self_distances = self_distances[self_dist_indices]\n",
    "        positive.extend(self_distances)\n",
    "\n",
    "        other_identities = list(set(identities) - set([identity]))\n",
    "        negative_vectors = []\n",
    "        seen = set()\n",
    "        # to get roughly the same number of comparison as the base identity to itself,\n",
    "        # which is n choose 2, we will compute (n_true - 2)/2 other vectors;\n",
    "        # then, when we do pairwise comparisons between n and (n-2)/2 vectors,\n",
    "        # we get exactly n choose 2 ground truth negative vectors\n",
    "        while len(negative_vectors) < ((n_true - 2) // 2):\n",
    "            other_id = np.random.choice(other_identities)\n",
    "\n",
    "            other_embeddings = id2vect[other_id]\n",
    "\n",
    "            embedding_index = np.random.choice(len(other_embeddings))\n",
    "            if not ((other_id, embedding_index)) in seen:\n",
    "                seen.add((other_id, embedding_index))\n",
    "                negative_vectors.append(other_embeddings[embedding_index])\n",
    "\n",
    "        negative_distances = pairwise_distances(\n",
    "                 this_id_vectors,\n",
    "                 negative_vectors,\n",
    "                 metric='euclidean',\n",
    "                 n_jobs=4\n",
    "         )\n",
    "        negative.extend(negative_distances.flatten())\n",
    "\n",
    "    thresholds = np.arange(1e-6, 2.0, 0.1)\n",
    "    tprs = []\n",
    "    fprs = []\n",
    "    n_pos = float(len(positive))\n",
    "    n_neg = float(len(negative))\n",
    "\n",
    "    print(\"**** Computing ROC curve *****\")\n",
    "    for t in thresholds:\n",
    "        tp = np.sum(positive < t)\n",
    "        fp = np.sum(negative < t)\n",
    "        tprs.append(tp / n_pos)\n",
    "        fprs.append(fp / n_neg)\n",
    "\n",
    "    plt.plot(np.arange(0.0, 1.1, 0.1), np.arange(0.0, 1.1, 0.1), label=\"y=x\")\n",
    "    plt.plot(fprs, tprs, label=\"ResNet50 VGGFace2\")\n",
    "    plt.legend()\n",
    "    plt.ylabel(\"True Positive Rate\")\n",
    "    plt.xlabel(\"False Positive Rate\")\n",
    "    plt.title(\"ROC Curve for model\")"
   ]
  },
  {
   "cell_type": "code",
   "execution_count": 52,
   "metadata": {},
   "outputs": [
    {
     "name": "stdout",
     "output_type": "stream",
     "text": [
      "****** Computing pairwise distances *******\n",
      "**** Computing ROC curve *****\n"
     ]
    },
    {
     "data": {
      "image/png": "[encoded data removed]",
      "text/plain": [
       "<Figure size 432x288 with 1 Axes>"
      ]
     },
     "metadata": {},
     "output_type": "display_data"
    }
   ],
   "source": [
    "roc_curve(id2vect)"
   ]
  },
  {
   "cell_type": "code",
   "execution_count": 56,
   "metadata": {},
   "outputs": [
    {
     "ename": "ValueError",
     "evalue": "too many values to unpack (expected 5)",
     "output_type": "error",
     "traceback": [
      "\u001b[0;31m---------------------------------------------------------------------------\u001b[0m",
      "\u001b[0;31mValueError\u001b[0m                                Traceback (most recent call last)",
      "\u001b[0;32m<ipython-input-56-80cb265628d4>\u001b[0m in \u001b[0;36m<module>\u001b[0;34m\u001b[0m\n\u001b[1;32m     10\u001b[0m \u001b[0;32mfor\u001b[0m \u001b[0mindex\u001b[0m\u001b[0;34m,\u001b[0m \u001b[0mrow\u001b[0m \u001b[0;32min\u001b[0m \u001b[0mbbox_df\u001b[0m\u001b[0;34m.\u001b[0m\u001b[0miterrows\u001b[0m\u001b[0;34m(\u001b[0m\u001b[0;34m)\u001b[0m\u001b[0;34m:\u001b[0m\u001b[0;34m\u001b[0m\u001b[0m\n\u001b[1;32m     11\u001b[0m \u001b[0;31m#         name_id, x, y, w, h, _ = row\u001b[0m\u001b[0;34m\u001b[0m\u001b[0;34m\u001b[0m\u001b[0m\n\u001b[0;32m---> 12\u001b[0;31m     \u001b[0mname_id\u001b[0m\u001b[0;34m,\u001b[0m \u001b[0mx\u001b[0m\u001b[0;34m,\u001b[0m \u001b[0my\u001b[0m\u001b[0;34m,\u001b[0m \u001b[0mw\u001b[0m\u001b[0;34m,\u001b[0m \u001b[0mh\u001b[0m \u001b[0;34m=\u001b[0m \u001b[0mrow\u001b[0m\u001b[0;34m\u001b[0m\u001b[0m\n\u001b[0m\u001b[1;32m     13\u001b[0m     \u001b[0mcurrent_identity\u001b[0m \u001b[0;34m=\u001b[0m \u001b[0mname_id\u001b[0m\u001b[0;34m.\u001b[0m\u001b[0msplit\u001b[0m\u001b[0;34m(\u001b[0m\u001b[0;34m'/'\u001b[0m\u001b[0;34m)\u001b[0m\u001b[0;34m[\u001b[0m\u001b[0;36m0\u001b[0m\u001b[0;34m]\u001b[0m\u001b[0;34m\u001b[0m\u001b[0m\n\u001b[1;32m     14\u001b[0m     \u001b[0mx\u001b[0m \u001b[0;34m=\u001b[0m \u001b[0mmax\u001b[0m\u001b[0;34m(\u001b[0m\u001b[0mx\u001b[0m\u001b[0;34m,\u001b[0m \u001b[0;36m0\u001b[0m\u001b[0;34m)\u001b[0m\u001b[0;34m\u001b[0m\u001b[0m\n",
      "\u001b[0;31mValueError\u001b[0m: too many values to unpack (expected 5)"
     ]
    }
   ],
   "source": [
    "id2vect_raw = {}\n",
    "bbox_df = pd.read_csv(\"/data/vggface/bb_landmark/loose_bb_test.csv\")\n",
    "\n",
    "sampled = read_sampled_identities(\"../sampled_identities.txt\")\n",
    "sampled = pd.DataFrame(np.array([[\"{}/{}\".format(k, v.split(\".\")[0]) for v in sampled[k]] for k in sampled]).flatten())\n",
    "# do a join to filter selected identities and frames\n",
    "bbox_df = pd.merge(left=bbox_df, right=sampled, left_on='NAME_ID', right_on=0)\n",
    "\n",
    "image_batch = []\n",
    "for index, row in bbox_df.iterrows():\n",
    "#         name_id, x, y, w, h, _ = row\n",
    "    name_id, x, y, w, h = row\n",
    "    current_identity = name_id.split('/')[0]\n",
    "    x = max(x, 0)\n",
    "    y = max(y, 0)\n",
    "    # Read in the image\n",
    "    image_path = os.path.join(\"/data/vggface/test\", name_id + '.jpg')\n",
    "    image = Image.open(image_path).crop((x, y, x + w, y + h)).resize(size=(224, 224))\n",
    "    resized_image = np.array(image)\n",
    "    \n",
    "    image_batch.append(resized_image)\n",
    "    # When we are done with a batch of images (one identity)...\n",
    "    if index == len(bbox_df) - 1 or \\\n",
    "       current_identity != bbox_df.loc[index + 1, 'NAME_ID'].split('/')[0]:\n",
    "        image_batch = np.stack(image_batch, axis=0)\n",
    "        image_batch -= mean\n",
    "        id2vect_raw[current_identity] = l2_normalize(model.predict(image_batch))\n",
    "        image_batch = []"
   ]
  },
  {
   "cell_type": "code",
   "execution_count": null,
   "metadata": {},
   "outputs": [],
   "source": []
  }
 ],
 "metadata": {
  "kernelspec": {
   "display_name": "Python 3",
   "language": "python",
   "name": "python3"
  },
  "language_info": {
   "codemirror_mode": {
    "name": "ipython",
    "version": 3
   },
   "file_extension": ".py",
   "mimetype": "text/x-python",
   "name": "python",
   "nbconvert_exporter": "python",
   "pygments_lexer": "ipython3",
   "version": "3.6.2"
  }
 },
 "nbformat": 4,
 "nbformat_minor": 4
}
