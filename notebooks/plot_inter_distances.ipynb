{
 "cells": [
  {
   "cell_type": "code",
   "execution_count": 1,
   "metadata": {},
   "outputs": [],
   "source": [
    "import numpy as np\n",
    "import pandas as pd\n",
    "import matplotlib.pyplot as plt\n",
    "import matplotlib as mpl\n",
    "import seaborn as sns"
   ]
  },
  {
   "cell_type": "code",
   "execution_count": 10,
   "metadata": {},
   "outputs": [],
   "source": [
    "sns.set()"
   ]
  },
  {
   "cell_type": "code",
   "execution_count": 2,
   "metadata": {},
   "outputs": [],
   "source": [
    "distance_df = pd.read_csv('../results/distances.csv')"
   ]
  },
  {
   "cell_type": "code",
   "execution_count": 3,
   "metadata": {},
   "outputs": [
    {
     "data": {
      "text/html": [
       "<div>\n",
       "<style scoped>\n",
       "    .dataframe tbody tr th:only-of-type {\n",
       "        vertical-align: middle;\n",
       "    }\n",
       "\n",
       "    .dataframe tbody tr th {\n",
       "        vertical-align: top;\n",
       "    }\n",
       "\n",
       "    .dataframe thead th {\n",
       "        text-align: right;\n",
       "    }\n",
       "</style>\n",
       "<table border=\"1\" class=\"dataframe\">\n",
       "  <thead>\n",
       "    <tr style=\"text-align: right;\">\n",
       "      <th></th>\n",
       "      <th>identity</th>\n",
       "      <th>image_index</th>\n",
       "      <th>distance_to_mean</th>\n",
       "      <th>number_closer_than_mean</th>\n",
       "      <th>min_pairwise_dist</th>\n",
       "      <th>mean_pairwise_dist</th>\n",
       "    </tr>\n",
       "  </thead>\n",
       "  <tbody>\n",
       "    <tr>\n",
       "      <th>0</th>\n",
       "      <td>n004449</td>\n",
       "      <td>0</td>\n",
       "      <td>0.904719</td>\n",
       "      <td>144</td>\n",
       "      <td>0.567677</td>\n",
       "      <td>1.114158</td>\n",
       "    </tr>\n",
       "    <tr>\n",
       "      <th>1</th>\n",
       "      <td>n004449</td>\n",
       "      <td>1</td>\n",
       "      <td>0.553748</td>\n",
       "      <td>171</td>\n",
       "      <td>0.527622</td>\n",
       "      <td>0.951256</td>\n",
       "    </tr>\n",
       "    <tr>\n",
       "      <th>2</th>\n",
       "      <td>n004449</td>\n",
       "      <td>2</td>\n",
       "      <td>0.639555</td>\n",
       "      <td>168</td>\n",
       "      <td>0.510176</td>\n",
       "      <td>0.982812</td>\n",
       "    </tr>\n",
       "    <tr>\n",
       "      <th>3</th>\n",
       "      <td>n004449</td>\n",
       "      <td>3</td>\n",
       "      <td>0.661958</td>\n",
       "      <td>166</td>\n",
       "      <td>0.465595</td>\n",
       "      <td>0.993445</td>\n",
       "    </tr>\n",
       "    <tr>\n",
       "      <th>4</th>\n",
       "      <td>n004449</td>\n",
       "      <td>4</td>\n",
       "      <td>0.792315</td>\n",
       "      <td>150</td>\n",
       "      <td>0.567677</td>\n",
       "      <td>1.057617</td>\n",
       "    </tr>\n",
       "    <tr>\n",
       "      <th>...</th>\n",
       "      <td>...</td>\n",
       "      <td>...</td>\n",
       "      <td>...</td>\n",
       "      <td>...</td>\n",
       "      <td>...</td>\n",
       "      <td>...</td>\n",
       "    </tr>\n",
       "    <tr>\n",
       "      <th>169391</th>\n",
       "      <td>n005726</td>\n",
       "      <td>456</td>\n",
       "      <td>1.066165</td>\n",
       "      <td>236</td>\n",
       "      <td>0.547728</td>\n",
       "      <td>1.221219</td>\n",
       "    </tr>\n",
       "    <tr>\n",
       "      <th>169392</th>\n",
       "      <td>n005726</td>\n",
       "      <td>457</td>\n",
       "      <td>0.784353</td>\n",
       "      <td>239</td>\n",
       "      <td>0.737131</td>\n",
       "      <td>1.090162</td>\n",
       "    </tr>\n",
       "    <tr>\n",
       "      <th>169393</th>\n",
       "      <td>n005726</td>\n",
       "      <td>458</td>\n",
       "      <td>0.994449</td>\n",
       "      <td>232</td>\n",
       "      <td>0.390486</td>\n",
       "      <td>1.181281</td>\n",
       "    </tr>\n",
       "    <tr>\n",
       "      <th>169394</th>\n",
       "      <td>n005726</td>\n",
       "      <td>459</td>\n",
       "      <td>0.973516</td>\n",
       "      <td>199</td>\n",
       "      <td>0.458628</td>\n",
       "      <td>1.170941</td>\n",
       "    </tr>\n",
       "    <tr>\n",
       "      <th>169395</th>\n",
       "      <td>n005726</td>\n",
       "      <td>460</td>\n",
       "      <td>0.962903</td>\n",
       "      <td>224</td>\n",
       "      <td>0.855711</td>\n",
       "      <td>1.171592</td>\n",
       "    </tr>\n",
       "  </tbody>\n",
       "</table>\n",
       "<p>169396 rows × 6 columns</p>\n",
       "</div>"
      ],
      "text/plain": [
       "       identity  image_index  distance_to_mean  number_closer_than_mean  \\\n",
       "0       n004449            0          0.904719                      144   \n",
       "1       n004449            1          0.553748                      171   \n",
       "2       n004449            2          0.639555                      168   \n",
       "3       n004449            3          0.661958                      166   \n",
       "4       n004449            4          0.792315                      150   \n",
       "...         ...          ...               ...                      ...   \n",
       "169391  n005726          456          1.066165                      236   \n",
       "169392  n005726          457          0.784353                      239   \n",
       "169393  n005726          458          0.994449                      232   \n",
       "169394  n005726          459          0.973516                      199   \n",
       "169395  n005726          460          0.962903                      224   \n",
       "\n",
       "        min_pairwise_dist  mean_pairwise_dist  \n",
       "0                0.567677            1.114158  \n",
       "1                0.527622            0.951256  \n",
       "2                0.510176            0.982812  \n",
       "3                0.465595            0.993445  \n",
       "4                0.567677            1.057617  \n",
       "...                   ...                 ...  \n",
       "169391           0.547728            1.221219  \n",
       "169392           0.737131            1.090162  \n",
       "169393           0.390486            1.181281  \n",
       "169394           0.458628            1.170941  \n",
       "169395           0.855711            1.171592  \n",
       "\n",
       "[169396 rows x 6 columns]"
      ]
     },
     "execution_count": 3,
     "metadata": {},
     "output_type": "execute_result"
    }
   ],
   "source": [
    "distance_df"
   ]
  },
  {
   "cell_type": "code",
   "execution_count": 4,
   "metadata": {},
   "outputs": [],
   "source": [
    "select_df = pd.DataFrame({'Centroid': distance_df['distance_to_mean'],\n",
    "                          'Mean Pairwise': distance_df['mean_pairwise_dist'],\n",
    "                          'Min Pairwise': distance_df['min_pairwise_dist']})"
   ]
  },
  {
   "cell_type": "code",
   "execution_count": 8,
   "metadata": {},
   "outputs": [],
   "source": [
    "data = pd.melt(select_df, var_name='Type', value_name='Distance')"
   ]
  },
  {
   "cell_type": "code",
   "execution_count": 14,
   "metadata": {},
   "outputs": [
    {
     "data": {
      "text/plain": [
       "<seaborn.axisgrid.FacetGrid at 0x7f14eae7a510>"
      ]
     },
     "execution_count": 14,
     "metadata": {},
     "output_type": "execute_result"
    },
    {
     "data": {
      "image/png": "[encoded data removed]",
      "text/plain": [
       "<Figure size 360x360 with 1 Axes>"
      ]
     },
     "metadata": {},
     "output_type": "display_data"
    }
   ],
   "source": [
    "sns.catplot(x='Type', y='Distance', data=data, kind='violin')"
   ]
  },
  {
   "cell_type": "code",
   "execution_count": 19,
   "metadata": {},
   "outputs": [
    {
     "data": {
      "text/plain": [
       "<matplotlib.axes._subplots.AxesSubplot at 0x7f14e6784110>"
      ]
     },
     "execution_count": 19,
     "metadata": {},
     "output_type": "execute_result"
    },
    {
     "data": {
      "image/png": "[encoded data removed]",
      "text/plain": [
       "<Figure size 432x288 with 1 Axes>"
      ]
     },
     "metadata": {},
     "output_type": "display_data"
    }
   ],
   "source": [
    "sns.distplot(distance_df.groupby('identity').mean()['number_closer_than_mean'], kde=False)"
   ]
  }
 ],
 "metadata": {
  "kernelspec": {
   "display_name": "Python 3",
   "language": "python",
   "name": "python3"
  },
  "language_info": {
   "codemirror_mode": {
    "name": "ipython",
    "version": 3
   },
   "file_extension": ".py",
   "mimetype": "text/x-python",
   "name": "python",
   "nbconvert_exporter": "python",
   "pygments_lexer": "ipython3",
   "version": "3.7.4"
  }
 },
 "nbformat": 4,
 "nbformat_minor": 4
}
