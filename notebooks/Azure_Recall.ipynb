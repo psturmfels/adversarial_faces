{
 "cells": [
  {
   "cell_type": "code",
   "execution_count": 17,
   "metadata": {},
   "outputs": [],
   "source": [
    "import asyncio\n",
    "import io\n",
    "import glob\n",
    "import os\n",
    "import sys\n",
    "import time\n",
    "import uuid\n",
    "import requests\n",
    "from urllib.parse import urlparse\n",
    "from io import BytesIO\n",
    "from PIL import Image, ImageDraw\n",
    "from azure.cognitiveservices.vision.face import FaceClient\n",
    "from msrest.authentication import CognitiveServicesCredentials\n",
    "from azure.cognitiveservices.vision.face.models import TrainingStatusType, Person\n",
    "from tqdm import tqdm\n",
    "import json"
   ]
  },
  {
   "cell_type": "code",
   "execution_count": 7,
   "metadata": {},
   "outputs": [],
   "source": [
    "auth_file = \"/Users/ie5/adversarial_faces/azure_auth.json\"\n",
    "with open(auth_file, \"r\") as f:\n",
    "    auth_data = json.loads(f.read())\n"
   ]
  },
  {
   "cell_type": "code",
   "execution_count": 8,
   "metadata": {},
   "outputs": [],
   "source": [
    "face_client = FaceClient(\n",
    "    auth_data[\"endpoint\"], \n",
    "    CognitiveServicesCredentials(auth_data[\"key\"])\n",
    ")"
   ]
  },
  {
   "cell_type": "code",
   "execution_count": 9,
   "metadata": {},
   "outputs": [],
   "source": [
    "person_id_to_name = {}\n",
    "identities = []\n",
    "for p in face_client.person_group_person.list(person_group_id=\"community_naive_mean_10_5_0p1\"):\n",
    "    person_id_to_name[p.person_id] = p.name\n",
    "    identities.append(p.name)"
   ]
  },
  {
   "cell_type": "code",
   "execution_count": 15,
   "metadata": {},
   "outputs": [
    {
     "name": "stderr",
     "output_type": "stream",
     "text": [
      "100%|██████████| 19/19 [03:16<00:00, 10.36s/it]\n"
     ]
    }
   ],
   "source": [
    "discovery = []\n",
    "for protector in tqdm(identities):\n",
    "    # We are sourcing query photos from epsilon_0.0.\n",
    "    # In those cases, all subfolders in the \"protected\" identity have the same, clean\n",
    "    # photo of the protector, so we just pick any single one that exists (e.g. n000958)\n",
    "    # For the case where n000958 is itself the protector, n000958 is not present in its protected\n",
    "    # subfolders, so we pick n000029 without loss of generality.\n",
    "    if protector == \"n000958\":\n",
    "        protected = \"n000029\"\n",
    "    else:\n",
    "        protected = \"n000958\"\n",
    "        \n",
    "    query_photos_paths = sorted(glob.glob(\n",
    "        f\"/Users/ie5/azureface/decoys/{protector}/community_naive_mean/{protected}/epsilon_0.0/png/*\"\n",
    "    ))\n",
    "    \n",
    "    # For this person group, we picked the first 10 lexicographically sorted\n",
    "    # photos to use in the lookup set, so for the query, we use the 11th and on.\n",
    "    # (The query is not supposed to be in the lookup set).\n",
    "    for i in range(11, len(query_photos_paths)):\n",
    "        faces_in_query_photos = face_client.face.detect_with_stream(\n",
    "            open(query_photos_paths[i], \"r+b\"), \n",
    "            detectionModel='detection_02'\n",
    "        )\n",
    "        if len(faces_in_query_photos) > 0:\n",
    "            break\n",
    "        \n",
    "    \n",
    "    # There should only be one face, so we use that as the query face.\n",
    "    results = face_client.face.identify(\n",
    "        [faces_in_query_photos[0].face_id],\n",
    "        \"community_naive_mean_10_5_0p1\"\n",
    "    )\n",
    "    \n",
    "    if len(results) < 1 or len(results[0].candidates) < 1:\n",
    "        discovery.append(1.0)\n",
    "    \n",
    "    else: \n",
    "        top_identity = person_id_to_name[results[0].candidates[0].person_id]\n",
    "    \n",
    "        # Note the switch of the term protector here:\n",
    "        # protectors are also protected but we call them protectors because of the folder structure\n",
    "        # In this case, the query photo belongs to the protector -- who is also protected by decoys \n",
    "        # of *other* protectors. Therefore, if the identity returned is that of the \"protector,\"\n",
    "        # this is a failure in the defense.\n",
    "        if top_identity == protector:\n",
    "            discovery.append(1.0)\n",
    "        else:\n",
    "            discovery.append(0.0)\n",
    "            \n",
    "    time.sleep(10)\n",
    "    "
   ]
  },
  {
   "cell_type": "code",
   "execution_count": 16,
   "metadata": {},
   "outputs": [
    {
     "name": "stdout",
     "output_type": "stream",
     "text": [
      "1.0\n"
     ]
    }
   ],
   "source": [
    "print(sum(discovery)/len(discovery))"
   ]
  },
  {
   "cell_type": "code",
   "execution_count": null,
   "metadata": {},
   "outputs": [],
   "source": []
  }
 ],
 "metadata": {
  "kernelspec": {
   "display_name": "Python 3",
   "language": "python",
   "name": "python3"
  }
 },
 "nbformat": 4,
 "nbformat_minor": 4
}
