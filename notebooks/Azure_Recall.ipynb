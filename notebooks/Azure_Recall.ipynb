{
 "cells": [
  {
   "cell_type": "code",
   "execution_count": 6,
   "metadata": {},
   "outputs": [],
   "source": [
    "import asyncio\n",
    "import io\n",
    "import glob\n",
    "import os\n",
    "import sys\n",
    "import time\n",
    "import uuid\n",
    "import requests\n",
    "from urllib.parse import urlparse\n",
    "from io import BytesIO\n",
    "from PIL import Image, ImageDraw\n",
    "from azure.cognitiveservices.vision.face import FaceClient\n",
    "from msrest.authentication import CognitiveServicesCredentials\n",
    "from azure.cognitiveservices.vision.face.models import TrainingStatusType, Person\n",
    "from tqdm import tqdm\n",
    "import json"
   ]
  },
  {
   "cell_type": "code",
   "execution_count": 3,
   "metadata": {},
   "outputs": [],
   "source": [
    "auth_file = \"/home/ivan/pascal_adversarial_faces/azure_auth.json\"\n",
    "with open(auth_file, \"r\") as f:\n",
    "    auth_data = json.loads(f.read())\n"
   ]
  },
  {
   "cell_type": "code",
   "execution_count": 4,
   "metadata": {},
   "outputs": [],
   "source": [
    "face_client = FaceClient(\n",
    "    auth_data[\"endpoint\"], \n",
    "    CognitiveServicesCredentials(auth_data[\"key\"])\n",
    ")"
   ]
  },
  {
   "cell_type": "code",
   "execution_count": 5,
   "metadata": {},
   "outputs": [],
   "source": [
    "# face_client.person_group.delete(person_group_id=\"robust_community_naive_mean_10_5_0p5\")"
   ]
  },
  {
   "cell_type": "code",
   "execution_count": 7,
   "metadata": {},
   "outputs": [],
   "source": [
    "person_id_to_name = {}\n",
    "identities = []\n",
    "for p in face_client.person_group_person.list(person_group_id=\"robust_community_naive_mean_10_5_0p5\"):\n",
    "    person_id_to_name[p.person_id] = p.name\n",
    "    identities.append(p.name)"
   ]
  },
  {
   "cell_type": "code",
   "execution_count": 8,
   "metadata": {},
   "outputs": [
    {
     "data": {
      "text/plain": [
       "{'04559c68-5b9c-4b87-ae71-9366dbe00ec9': 'n002763',\n",
       " '04d620f7-082f-44e9-a105-da40cae0e30f': 'n007548',\n",
       " '182e323e-bbb2-41ae-a77e-b6ea1e6346c9': 'n004658',\n",
       " '3259200f-618d-43d1-92b2-88d81fddc909': 'n002503',\n",
       " '46e70ab8-60a7-4db8-a19e-20e4e62142e3': 'n009232',\n",
       " '536ad25d-1e33-46db-9295-623b1493b81e': 'n002647',\n",
       " '5878eec0-b8f1-43d2-badc-e6bfcb9e8297': 'n000958',\n",
       " '58df8bc9-cfda-4ea7-8e49-2db0aa6edd10': 'n003356',\n",
       " '6bb0ad38-d319-4db9-9e1b-feca2b2e0da5': 'n001683',\n",
       " '6cb77427-48ef-4e66-b367-63103c88cd27': 'n009288',\n",
       " '7b418734-efa9-4386-9d06-19e639a615ba': 'community_naive_mean_epsilon_0.1_png.tar.gz',\n",
       " '7f13ec76-964e-4574-a4bc-077786ed797f': 'community_naive_mean_epsilon_0.0_png.tar.gz',\n",
       " '90f8617b-04dc-40d4-b5e5-7f3e1154baaf': 'n008613',\n",
       " '99bfa98e-88d6-4c74-ac1a-c136f34581a4': 'n005303',\n",
       " 'a0e1d88d-d6d8-485a-9273-4c3da8219978': 'n008655',\n",
       " 'aa13a685-4b92-4391-8f5f-48001264175f': 'n001781',\n",
       " 'bf774266-0c2d-41c6-ba71-1ab4ca33fa54': 'n005359',\n",
       " 'ca225423-d5be-4ff1-b837-06501bf61c40': 'n003215',\n",
       " 'e5e609f2-9b34-48c2-8088-7abc68270441': 'n000029',\n",
       " 'eaa67d88-32f6-42ab-9672-d0000c5c5c43': 'n009114',\n",
       " 'ff6cdc0f-6909-49ff-9ffe-9d611a62ea98': 'n005427'}"
      ]
     },
     "execution_count": 8,
     "metadata": {},
     "output_type": "execute_result"
    }
   ],
   "source": [
    "person_id_to_name"
   ]
  },
  {
   "cell_type": "code",
   "execution_count": 13,
   "metadata": {},
   "outputs": [],
   "source": [
    "def measure_azure_recall(\n",
    "    face_client,\n",
    "    image_directory,\n",
    "    azure_person_group_name\n",
    "):\n",
    "    discovery = []\n",
    "    true = []\n",
    "    identified_as = []\n",
    "\n",
    "    for protector in tqdm(identities):\n",
    "        # We are sourcing query photos from epsilon_0.0.\n",
    "        # In those cases, all subfolders in the \"protected\" identity have the same, clean\n",
    "        # photo of the protector, so we just pick any single one that exists (e.g. n000958)\n",
    "        # For the case where n000958 is itself the protector, n000958 is not present in its protected\n",
    "        # subfolders, so we pick n000029 without loss of generality.\n",
    "        if protector == \"n000958\":\n",
    "            protected = \"n000029\"\n",
    "        else:\n",
    "            protected = \"n000958\"\n",
    "\n",
    "        query_photos_paths = sorted(glob.glob(\n",
    "            f\"{image_directory}/{protector}/community_naive_mean/{protected}/epsilon_0.0/png/*\"\n",
    "        ))\n",
    "\n",
    "        # For this person group, we picked the first 10 lexicographically sorted\n",
    "        # photos to use in the lookup set, so for the query, we use the 11th and on.\n",
    "        # (The query is not supposed to be in the lookup set).\n",
    "        for i in range(11, len(query_photos_paths)):\n",
    "            faces_in_query_photos = face_client.face.detect_with_stream(\n",
    "                open(query_photos_paths[i], \"r+b\"), \n",
    "                detectionModel='detection_02'\n",
    "            )\n",
    "            if len(faces_in_query_photos) > 0:\n",
    "                break\n",
    "\n",
    "\n",
    "        # There should only be one face, so we use that as the query face.\n",
    "        results = face_client.face.identify(\n",
    "            [faces_in_query_photos[0].face_id],\n",
    "            azure_person_group_name\n",
    "        )\n",
    "        \n",
    "        true.append(protector)\n",
    "\n",
    "        if len(results) < 1 or len(results[0].candidates) < 1:\n",
    "            discovery.append(1.0)\n",
    "            identified_as.append(\"None\")\n",
    "\n",
    "        else: \n",
    "            top_identity = person_id_to_name[results[0].candidates[0].person_id]\n",
    "\n",
    "            identified_as.append(top_identity)\n",
    "            \n",
    "            # Note the switch of the term protector here:\n",
    "            # protectors are also protected but we call them protectors because of the folder structure\n",
    "            # In this case, the query photo belongs to the protector -- who is also protected by decoys \n",
    "            # of *other* protectors. Therefore, if the identity returned is that of the \"protector,\"\n",
    "            # this is a failure in the defense.\n",
    "            if top_identity == protector:\n",
    "                discovery.append(1.0)\n",
    "            else:\n",
    "                discovery.append(0.0)\n",
    "\n",
    "        time.sleep(10)\n",
    "    \n",
    "    for true_id, recognized_id in zip(true, identified_as):\n",
    "        print(f\"Face of {true_id} identitifed as {recognized_id}\")\n",
    "        \n",
    "    return sum(discovery)/len(discovery)"
   ]
  },
  {
   "cell_type": "code",
   "execution_count": null,
   "metadata": {},
   "outputs": [
    {
     "name": "stderr",
     "output_type": "stream",
     "text": [
      " 33%|███▎      | 7/21 [01:12<02:24, 10.35s/it]"
     ]
    }
   ],
   "source": [
    "measure_azure_recall(\n",
    "    face_client,\n",
    "    \"/data/vggface/test_perturbed_sampled\",\n",
    "    \"robust_community_naive_mean_10_5_0p5\"\n",
    ")"
   ]
  },
  {
   "cell_type": "code",
   "execution_count": null,
   "metadata": {},
   "outputs": [],
   "source": []
  }
 ],
 "metadata": {
  "kernelspec": {
   "display_name": "Python 3",
   "language": "python",
   "name": "python3"
  },
  "language_info": {
   "codemirror_mode": {
    "name": "ipython",
    "version": 3
   },
   "file_extension": ".py",
   "mimetype": "text/x-python",
   "name": "python",
   "nbconvert_exporter": "python",
   "pygments_lexer": "ipython3",
   "version": "3.6.2"
  }
 },
 "nbformat": 4,
 "nbformat_minor": 4
}
