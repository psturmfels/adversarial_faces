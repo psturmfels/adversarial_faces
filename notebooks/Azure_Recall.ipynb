{
 "cells": [
  {
   "cell_type": "code",
   "execution_count": 2,
   "metadata": {},
   "outputs": [],
   "source": [
    "import asyncio\n",
    "import io\n",
    "import glob\n",
    "import os\n",
    "import sys\n",
    "import time\n",
    "import uuid\n",
    "import requests\n",
    "from urllib.parse import urlparse\n",
    "from io import BytesIO\n",
    "from PIL import Image, ImageDraw\n",
    "from azure.cognitiveservices.vision.face import FaceClient\n",
    "from msrest.authentication import CognitiveServicesCredentials\n",
    "from azure.cognitiveservices.vision.face.models import TrainingStatusType, Person\n",
    "from tqdm import tqdm\n",
    "import json"
   ]
  },
  {
   "cell_type": "code",
   "execution_count": 3,
   "metadata": {},
   "outputs": [],
   "source": [
    "auth_file = \"/home/ivan/pascal_adversarial_faces/azure_auth.json\"\n",
    "with open(auth_file, \"r\") as f:\n",
    "    auth_data = json.loads(f.read())\n"
   ]
  },
  {
   "cell_type": "code",
   "execution_count": 4,
   "metadata": {},
   "outputs": [],
   "source": [
    "face_client = FaceClient(\n",
    "    auth_data[\"endpoint\"], \n",
    "    CognitiveServicesCredentials(auth_data[\"key\"])\n",
    ")"
   ]
  },
  {
   "cell_type": "code",
   "execution_count": 5,
   "metadata": {},
   "outputs": [],
   "source": [
    "# face_client.person_group.delete(person_group_id=\"robust_community_naive_mean_1_1_0p5\")"
   ]
  },
  {
   "cell_type": "code",
   "execution_count": 15,
   "metadata": {},
   "outputs": [],
   "source": [
    "def measure_azure_recall(\n",
    "    face_client,\n",
    "    image_directory,\n",
    "    azure_person_group_name\n",
    "):\n",
    "    \n",
    "    person_id_to_name = {}\n",
    "    identities = []\n",
    "    for p in face_client.person_group_person.list(person_group_id=azure_person_group_name):\n",
    "        person_id_to_name[p.person_id] = p.name\n",
    "        identities.append(p.name)\n",
    "\n",
    "    discovery = []\n",
    "    true = []\n",
    "    identified_as = []\n",
    "\n",
    "    for protector in tqdm(identities):\n",
    "        # We are sourcing query photos from epsilon_0.0.\n",
    "        # In those cases, all subfolders in the \"protected\" identity have the same, clean\n",
    "        # photo of the protector, so we just pick any single one that exists (e.g. n000958)\n",
    "        # For the case where n000958 is itself the protector, n000958 is not present in its protected\n",
    "        # subfolders, so we pick n000029 without loss of generality.\n",
    "        if protector == \"n000958\":\n",
    "            protected = \"n000029\"\n",
    "        else:\n",
    "            protected = \"n000958\"\n",
    "\n",
    "        query_photos_paths = sorted(glob.glob(\n",
    "            f\"{image_directory}/{protector}/community_naive_mean/{protected}/epsilon_0.0/png/*\"\n",
    "        ))\n",
    "        \n",
    "        # For this person group, we picked the first 10 lexicographically sorted\n",
    "        # photos to use in the lookup set, so for the query, we use the 11th and on.\n",
    "        # (The query is not supposed to be in the lookup set).\n",
    "        for i in range(11, len(query_photos_paths)):\n",
    "            faces_in_query_photos = face_client.face.detect_with_stream(\n",
    "                open(query_photos_paths[i], \"r+b\"), \n",
    "                detectionModel='detection_02'\n",
    "            )\n",
    "            if len(faces_in_query_photos) > 0:\n",
    "                break\n",
    "\n",
    "\n",
    "        # There should only be one face, so we use that as the query face.\n",
    "        results = face_client.face.identify(\n",
    "            [faces_in_query_photos[0].face_id],\n",
    "            azure_person_group_name\n",
    "        )\n",
    "        \n",
    "        true.append(protector)\n",
    "\n",
    "        if len(results) < 1 or len(results[0].candidates) < 1:\n",
    "            discovery.append(0.0)\n",
    "            identified_as.append(\"None\")\n",
    "\n",
    "        else: \n",
    "            top_identity = person_id_to_name[results[0].candidates[0].person_id]\n",
    "\n",
    "            identified_as.append(top_identity)\n",
    "            \n",
    "            # Note the switch of the term protector here:\n",
    "            # protectors are also protected but we call them protectors because of the folder structure\n",
    "            # In this case, the query photo belongs to the protector -- who is also protected by decoys \n",
    "            # of *other* protectors. Therefore, if the identity returned is that of the \"protector,\"\n",
    "            # this is a failure in the defense.\n",
    "            if top_identity == protector:\n",
    "                discovery.append(1.0)\n",
    "            else:\n",
    "                discovery.append(0.0)\n",
    "\n",
    "        time.sleep(10)\n",
    "    \n",
    "    for true_id, recognized_id in zip(true, identified_as):\n",
    "        print(f\"Face of {true_id} identitifed as {recognized_id}\")\n",
    "        \n",
    "    return sum(discovery)/len(discovery)"
   ]
  },
  {
   "cell_type": "code",
   "execution_count": 25,
   "metadata": {},
   "outputs": [
    {
     "name": "stderr",
     "output_type": "stream",
     "text": [
      "\n",
      "\n",
      "  0%|          | 0/19 [00:00<?, ?it/s]\u001b[A\u001b[A\n",
      "\n",
      "  5%|▌         | 1/19 [00:10<03:07, 10.43s/it]\u001b[A\u001b[A\n",
      "\n",
      " 11%|█         | 2/19 [00:20<02:56, 10.37s/it]\u001b[A\u001b[A\n",
      "\n",
      " 16%|█▌        | 3/19 [00:30<02:45, 10.34s/it]\u001b[A\u001b[A\n",
      "\n",
      " 21%|██        | 4/19 [00:41<02:34, 10.32s/it]\u001b[A\u001b[A\n",
      "\n",
      " 26%|██▋       | 5/19 [00:51<02:23, 10.28s/it]\u001b[A\u001b[A\n",
      "\n",
      " 32%|███▏      | 6/19 [01:01<02:13, 10.28s/it]\u001b[A\u001b[A\n",
      "\n",
      " 37%|███▋      | 7/19 [01:12<02:04, 10.35s/it]\u001b[A\u001b[A\n",
      "\n",
      " 42%|████▏     | 8/19 [01:22<01:53, 10.31s/it]\u001b[A\u001b[A\n",
      "\n",
      " 47%|████▋     | 9/19 [01:32<01:42, 10.30s/it]\u001b[A\u001b[A\n",
      "\n",
      " 53%|█████▎    | 10/19 [01:42<01:32, 10.28s/it]\u001b[A\u001b[A\n",
      "\n",
      " 58%|█████▊    | 11/19 [01:53<01:22, 10.27s/it]\u001b[A\u001b[A\n",
      "\n",
      " 63%|██████▎   | 12/19 [02:03<01:11, 10.27s/it]\u001b[A\u001b[A\n",
      "\n",
      " 68%|██████▊   | 13/19 [02:13<01:01, 10.25s/it]\u001b[A\u001b[A\n",
      "\n",
      " 74%|███████▎  | 14/19 [02:23<00:51, 10.27s/it]\u001b[A\u001b[A\n",
      "\n",
      " 79%|███████▉  | 15/19 [02:34<00:41, 10.30s/it]\u001b[A\u001b[A\n",
      "\n",
      " 84%|████████▍ | 16/19 [02:44<00:30, 10.31s/it]\u001b[A\u001b[A\n",
      "\n",
      " 89%|████████▉ | 17/19 [02:54<00:20, 10.29s/it]\u001b[A\u001b[A\n",
      "\n",
      " 95%|█████████▍| 18/19 [03:05<00:10, 10.35s/it]\u001b[A\u001b[A\n",
      "\n",
      "100%|██████████| 19/19 [03:15<00:00, 10.30s/it]\u001b[A\u001b[A"
     ]
    },
    {
     "name": "stdout",
     "output_type": "stream",
     "text": [
      "Face of n002763 identitifed as n002763\n",
      "Face of n007548 identitifed as n007548\n",
      "Face of n004658 identitifed as n004658\n",
      "Face of n002503 identitifed as None\n",
      "Face of n009232 identitifed as n009232\n",
      "Face of n002647 identitifed as n002647\n",
      "Face of n000958 identitifed as n000958\n",
      "Face of n003356 identitifed as n003356\n",
      "Face of n001683 identitifed as n001683\n",
      "Face of n009288 identitifed as None\n",
      "Face of n008613 identitifed as n008613\n",
      "Face of n005303 identitifed as n005303\n",
      "Face of n008655 identitifed as None\n",
      "Face of n001781 identitifed as n001781\n",
      "Face of n005359 identitifed as None\n",
      "Face of n003215 identitifed as None\n",
      "Face of n000029 identitifed as n000029\n",
      "Face of n009114 identitifed as None\n",
      "Face of n005427 identitifed as n005427\n"
     ]
    },
    {
     "name": "stderr",
     "output_type": "stream",
     "text": [
      "\n"
     ]
    },
    {
     "data": {
      "text/plain": [
       "0.6842105263157895"
      ]
     },
     "execution_count": 25,
     "metadata": {},
     "output_type": "execute_result"
    }
   ],
   "source": [
    "measure_azure_recall(\n",
    "    face_client,\n",
    "    \"/data/vggface/test_perturbed_sampled\",\n",
    "    \"robust_community_naive_mean_10_5_0p5\"\n",
    ")"
   ]
  },
  {
   "cell_type": "code",
   "execution_count": 16,
   "metadata": {},
   "outputs": [
    {
     "name": "stderr",
     "output_type": "stream",
     "text": [
      "\n",
      "\n",
      "  0%|          | 0/19 [00:00<?, ?it/s]\u001b[A\u001b[A\n",
      "\n",
      "  5%|▌         | 1/19 [00:10<03:04, 10.24s/it]\u001b[A\u001b[A\n",
      "\n",
      " 11%|█         | 2/19 [00:20<02:53, 10.23s/it]\u001b[A\u001b[A\n",
      "\n",
      " 16%|█▌        | 3/19 [00:30<02:43, 10.22s/it]\u001b[A\u001b[A\n",
      "\n",
      " 21%|██        | 4/19 [00:40<02:33, 10.21s/it]\u001b[A\u001b[A\n",
      "\n",
      " 26%|██▋       | 5/19 [00:51<02:23, 10.21s/it]\u001b[A\u001b[A\n",
      "\n",
      " 32%|███▏      | 6/19 [01:01<02:13, 10.24s/it]\u001b[A\u001b[A\n",
      "\n",
      " 37%|███▋      | 7/19 [01:11<02:03, 10.26s/it]\u001b[A\u001b[A\n",
      "\n",
      " 42%|████▏     | 8/19 [01:21<01:52, 10.25s/it]\u001b[A\u001b[A\n",
      "\n",
      " 47%|████▋     | 9/19 [01:32<01:42, 10.26s/it]\u001b[A\u001b[A\n",
      "\n",
      " 53%|█████▎    | 10/19 [01:42<01:32, 10.24s/it]\u001b[A\u001b[A\n",
      "\n",
      " 58%|█████▊    | 11/19 [01:52<01:21, 10.24s/it]\u001b[A\u001b[A\n",
      "\n",
      " 63%|██████▎   | 12/19 [02:02<01:11, 10.24s/it]\u001b[A\u001b[A\n",
      "\n",
      " 68%|██████▊   | 13/19 [02:13<01:01, 10.25s/it]\u001b[A\u001b[A\n",
      "\n",
      " 74%|███████▎  | 14/19 [02:23<00:51, 10.26s/it]\u001b[A\u001b[A\n",
      "\n",
      " 79%|███████▉  | 15/19 [02:33<00:41, 10.26s/it]\u001b[A\u001b[A\n",
      "\n",
      " 84%|████████▍ | 16/19 [02:43<00:30, 10.26s/it]\u001b[A\u001b[A\n",
      "\n",
      " 89%|████████▉ | 17/19 [02:54<00:20, 10.26s/it]\u001b[A\u001b[A\n",
      "\n",
      " 95%|█████████▍| 18/19 [03:04<00:10, 10.25s/it]\u001b[A\u001b[A\n",
      "\n",
      "100%|██████████| 19/19 [03:14<00:00, 10.24s/it]\u001b[A\u001b[A"
     ]
    },
    {
     "name": "stdout",
     "output_type": "stream",
     "text": [
      "Face of n000029 identitifed as n000029\n",
      "Face of n002763 identitifed as n002763\n",
      "Face of n000958 identitifed as n000958\n",
      "Face of n005359 identitifed as n005359\n",
      "Face of n004658 identitifed as n004658\n",
      "Face of n009232 identitifed as n009232\n",
      "Face of n005303 identitifed as n005303\n",
      "Face of n001683 identitifed as n001683\n",
      "Face of n009288 identitifed as n009288\n",
      "Face of n007548 identitifed as n007548\n",
      "Face of n008613 identitifed as n008613\n",
      "Face of n008655 identitifed as None\n",
      "Face of n003356 identitifed as n003356\n",
      "Face of n001781 identitifed as n001781\n",
      "Face of n003215 identitifed as n003215\n",
      "Face of n009114 identitifed as n009114\n",
      "Face of n002503 identitifed as n002503\n",
      "Face of n002647 identitifed as n002647\n",
      "Face of n005427 identitifed as n005427\n"
     ]
    },
    {
     "name": "stderr",
     "output_type": "stream",
     "text": [
      "\n"
     ]
    },
    {
     "data": {
      "text/plain": [
       "0.9473684210526315"
      ]
     },
     "execution_count": 16,
     "metadata": {},
     "output_type": "execute_result"
    }
   ],
   "source": [
    "measure_azure_recall(\n",
    "    face_client,\n",
    "    \"/data/vggface/test_perturbed_sampled\",\n",
    "    \"robust_community_naive_mean_1_1_0p5\"\n",
    ")"
   ]
  },
  {
   "cell_type": "code",
   "execution_count": null,
   "metadata": {},
   "outputs": [],
   "source": []
  }
 ],
 "metadata": {
  "kernelspec": {
   "display_name": "Python 3",
   "language": "python",
   "name": "python3"
  },
  "language_info": {
   "codemirror_mode": {
    "name": "ipython",
    "version": 3
   },
   "file_extension": ".py",
   "mimetype": "text/x-python",
   "name": "python",
   "nbconvert_exporter": "python",
   "pygments_lexer": "ipython3",
   "version": "3.6.2"
  }
 },
 "nbformat": 4,
 "nbformat_minor": 4
}
